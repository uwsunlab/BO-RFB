{
 "cells": [
  {
   "cell_type": "code",
   "execution_count": 9,
   "metadata": {},
   "outputs": [],
   "source": [
    "# Support for math\n",
    "import numpy as np\n",
    "import math\n",
    "\n",
    "# Plotting tools\n",
    "from matplotlib import pyplot as plt\n",
    "import matplotlib\n",
    "from matplotlib import cm\n",
    "import plotly.graph_objects as go\n",
    "from plotly.subplots import make_subplots\n",
    "\n",
    "\n",
    "import warnings\n",
    "warnings.filterwarnings('ignore')\n",
    "\n",
    "# File Tools for local\n",
    "import pandas as pd\n",
    "import sys\n",
    "\n",
    "# Random seed for reproducibility\n",
    "import random\n",
    "\n",
    "import torch\n",
    "from botorch.models.gp_regression import SingleTaskGP\n",
    "from botorch.fit import fit_gpytorch_mll\n",
    "from botorch.utils.transforms import normalize, unnormalize\n",
    "\n",
    "from ipywidgets import interact, FloatSlider\n",
    "\n",
    "#LHS sampling\n",
    "#from pyDOE import lhs\n",
    "from smt.sampling_methods import LHS\n",
    "import random\n",
    "\n",
    "# Cluster \n",
    "from sklearn.cluster import KMeans\n",
    "from sklearn.preprocessing import StandardScaler\n"
   ]
  },
  {
   "cell_type": "markdown",
   "metadata": {},
   "source": [
    ">## Data Prep"
   ]
  },
  {
   "cell_type": "code",
   "execution_count": 10,
   "metadata": {},
   "outputs": [
    {
     "data": {
      "text/html": [
       "<div>\n",
       "<style scoped>\n",
       "    .dataframe tbody tr th:only-of-type {\n",
       "        vertical-align: middle;\n",
       "    }\n",
       "\n",
       "    .dataframe tbody tr th {\n",
       "        vertical-align: top;\n",
       "    }\n",
       "\n",
       "    .dataframe thead th {\n",
       "        text-align: right;\n",
       "    }\n",
       "</style>\n",
       "<table border=\"1\" class=\"dataframe\">\n",
       "  <thead>\n",
       "    <tr style=\"text-align: right;\">\n",
       "      <th></th>\n",
       "      <th>n</th>\n",
       "      <th>theta</th>\n",
       "      <th>r</th>\n",
       "      <th>t</th>\n",
       "      <th>toughness</th>\n",
       "      <th>mass</th>\n",
       "      <th>printerid</th>\n",
       "      <th>campaignid</th>\n",
       "      <th>category</th>\n",
       "    </tr>\n",
       "  </thead>\n",
       "  <tbody>\n",
       "    <tr>\n",
       "      <th>0</th>\n",
       "      <td>6</td>\n",
       "      <td>0</td>\n",
       "      <td>1.5</td>\n",
       "      <td>0.70</td>\n",
       "      <td>1.144667</td>\n",
       "      <td>1.7131</td>\n",
       "      <td>1</td>\n",
       "      <td>1</td>\n",
       "      <td>2</td>\n",
       "    </tr>\n",
       "    <tr>\n",
       "      <th>1</th>\n",
       "      <td>6</td>\n",
       "      <td>0</td>\n",
       "      <td>1.5</td>\n",
       "      <td>1.05</td>\n",
       "      <td>1.607561</td>\n",
       "      <td>1.9386</td>\n",
       "      <td>2</td>\n",
       "      <td>1</td>\n",
       "      <td>2</td>\n",
       "    </tr>\n",
       "    <tr>\n",
       "      <th>2</th>\n",
       "      <td>6</td>\n",
       "      <td>0</td>\n",
       "      <td>1.5</td>\n",
       "      <td>1.40</td>\n",
       "      <td>1.144338</td>\n",
       "      <td>1.9828</td>\n",
       "      <td>3</td>\n",
       "      <td>1</td>\n",
       "      <td>2</td>\n",
       "    </tr>\n",
       "    <tr>\n",
       "      <th>3</th>\n",
       "      <td>6</td>\n",
       "      <td>0</td>\n",
       "      <td>1.7</td>\n",
       "      <td>0.70</td>\n",
       "      <td>3.642738</td>\n",
       "      <td>1.9723</td>\n",
       "      <td>4</td>\n",
       "      <td>1</td>\n",
       "      <td>2</td>\n",
       "    </tr>\n",
       "    <tr>\n",
       "      <th>4</th>\n",
       "      <td>6</td>\n",
       "      <td>0</td>\n",
       "      <td>1.7</td>\n",
       "      <td>1.05</td>\n",
       "      <td>3.748405</td>\n",
       "      <td>2.2785</td>\n",
       "      <td>5</td>\n",
       "      <td>1</td>\n",
       "      <td>2</td>\n",
       "    </tr>\n",
       "    <tr>\n",
       "      <th>...</th>\n",
       "      <td>...</td>\n",
       "      <td>...</td>\n",
       "      <td>...</td>\n",
       "      <td>...</td>\n",
       "      <td>...</td>\n",
       "      <td>...</td>\n",
       "      <td>...</td>\n",
       "      <td>...</td>\n",
       "      <td>...</td>\n",
       "    </tr>\n",
       "    <tr>\n",
       "      <th>1795</th>\n",
       "      <td>12</td>\n",
       "      <td>200</td>\n",
       "      <td>2.3</td>\n",
       "      <td>1.05</td>\n",
       "      <td>1.358975</td>\n",
       "      <td>6.3430</td>\n",
       "      <td>5</td>\n",
       "      <td>3</td>\n",
       "      <td>3</td>\n",
       "    </tr>\n",
       "    <tr>\n",
       "      <th>1796</th>\n",
       "      <td>12</td>\n",
       "      <td>200</td>\n",
       "      <td>2.3</td>\n",
       "      <td>1.40</td>\n",
       "      <td>3.196306</td>\n",
       "      <td>5.7742</td>\n",
       "      <td>1</td>\n",
       "      <td>3</td>\n",
       "      <td>3</td>\n",
       "    </tr>\n",
       "    <tr>\n",
       "      <th>1797</th>\n",
       "      <td>12</td>\n",
       "      <td>200</td>\n",
       "      <td>2.5</td>\n",
       "      <td>0.70</td>\n",
       "      <td>36.104187</td>\n",
       "      <td>4.8745</td>\n",
       "      <td>2</td>\n",
       "      <td>3</td>\n",
       "      <td>3</td>\n",
       "    </tr>\n",
       "    <tr>\n",
       "      <th>1798</th>\n",
       "      <td>12</td>\n",
       "      <td>200</td>\n",
       "      <td>2.5</td>\n",
       "      <td>1.05</td>\n",
       "      <td>1.313487</td>\n",
       "      <td>6.7221</td>\n",
       "      <td>4</td>\n",
       "      <td>3</td>\n",
       "      <td>3</td>\n",
       "    </tr>\n",
       "    <tr>\n",
       "      <th>1799</th>\n",
       "      <td>12</td>\n",
       "      <td>200</td>\n",
       "      <td>2.5</td>\n",
       "      <td>1.40</td>\n",
       "      <td>1.069728</td>\n",
       "      <td>7.4933</td>\n",
       "      <td>5</td>\n",
       "      <td>3</td>\n",
       "      <td>3</td>\n",
       "    </tr>\n",
       "  </tbody>\n",
       "</table>\n",
       "<p>1800 rows × 9 columns</p>\n",
       "</div>"
      ],
      "text/plain": [
       "       n  theta    r     t  toughness    mass  printerid  campaignid   \\\n",
       "0      6      0  1.5  0.70   1.144667  1.7131          1            1   \n",
       "1      6      0  1.5  1.05   1.607561  1.9386          2            1   \n",
       "2      6      0  1.5  1.40   1.144338  1.9828          3            1   \n",
       "3      6      0  1.7  0.70   3.642738  1.9723          4            1   \n",
       "4      6      0  1.7  1.05   3.748405  2.2785          5            1   \n",
       "...   ..    ...  ...   ...        ...     ...        ...          ...   \n",
       "1795  12    200  2.3  1.05   1.358975  6.3430          5            3   \n",
       "1796  12    200  2.3  1.40   3.196306  5.7742          1            3   \n",
       "1797  12    200  2.5  0.70  36.104187  4.8745          2            3   \n",
       "1798  12    200  2.5  1.05   1.313487  6.7221          4            3   \n",
       "1799  12    200  2.5  1.40   1.069728  7.4933          5            3   \n",
       "\n",
       "      category  \n",
       "0            2  \n",
       "1            2  \n",
       "2            2  \n",
       "3            2  \n",
       "4            2  \n",
       "...        ...  \n",
       "1795         3  \n",
       "1796         3  \n",
       "1797         3  \n",
       "1798         3  \n",
       "1799         3  \n",
       "\n",
       "[1800 rows x 9 columns]"
      ]
     },
     "execution_count": 10,
     "metadata": {},
     "output_type": "execute_result"
    }
   ],
   "source": [
    "df = pd.read_csv('parameterspace.csv')\n",
    "df"
   ]
  },
  {
   "cell_type": "code",
   "execution_count": 11,
   "metadata": {},
   "outputs": [],
   "source": [
    "x_inputs = df[['n',\t'theta','r','t'] ].to_numpy()\n",
    "y_outputs = df[\"toughness\"].values.reshape(-1, 1)\n",
    "# Set the device and dtype\n",
    "device = torch.device(\"cuda\" if torch.cuda.is_available() else \"cpu\")\n",
    "dtype = torch.float32\n",
    "# Convert to torch tensors\n",
    "x_all = torch.tensor(x_inputs, dtype=torch.float32)\n",
    "y_all = torch.tensor(y_outputs, dtype=torch.float32)\n",
    "\n",
    "# Define a ground truth \n",
    "def ground_truth(x_query_batch: torch.Tensor):\n",
    "    \"\"\"\n",
    "    x_query_batch: Tensor of shape (batch_size, d)\n",
    "    Returns: Tensor of shape (batch_size, 1)\n",
    "    \"\"\"\n",
    "    # x_all should be of shape (N, d)\n",
    "    # Expand for broadcasting: (batch_size, N, d)\n",
    "    diffs = x_all.unsqueeze(0) - x_query_batch.unsqueeze(1)  # (batch, N, d)\n",
    "    dists = torch.norm(diffs, dim=2)  # (batch, N)\n",
    "    idx = torch.argmin(dists, dim=1)  # (batch,)\n",
    "    return y_all[idx]  # (batch, 1)\n",
    "\n"
   ]
  },
  {
   "cell_type": "code",
   "execution_count": 12,
   "metadata": {},
   "outputs": [
    {
     "data": {
      "application/vnd.plotly.v1+json": {
       "config": {
        "plotlyServerURL": "https://plot.ly"
       },
       "data": [
        {
         "marker": {
          "color": {
           "bdata": "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",
           "dtype": "f8"
          },
          "colorbar": {
           "title": {
            "text": "Toughness"
           }
          },
          "colorscale": [
           [
            0,
            "#440154"
           ],
           [
            0.1111111111111111,
            "#482878"
           ],
           [
            0.2222222222222222,
            "#3e4989"
           ],
           [
            0.3333333333333333,
            "#31688e"
           ],
           [
            0.4444444444444444,
            "#26828e"
           ],
           [
            0.5555555555555556,
            "#1f9e89"
           ],
           [
            0.6666666666666666,
            "#35b779"
           ],
           [
            0.7777777777777778,
            "#6ece58"
           ],
           [
            0.8888888888888888,
            "#b5de2b"
           ],
           [
            1,
            "#fde725"
           ]
          ],
          "size": 10
         },
         "mode": "markers",
         "name": "(n, t, r)",
         "scene": "scene",
         "type": "scatter3d",
         "x": {
          "bdata": "BgYGBgYGBgYGBgYGBgYGBgYGBgYGBgYGBgYGBgYGBgYGBgYGBgYGBgYGBgYGBgYGBgYGBgYGBgYGBgYGBgYGBgYGBgYGBgYGBgYGBgYGBgYGBgYGBgYGBgYGBgYGBgYGBgYGBgYGBgYGBgYGBgYGBgYGBgYGBgYGBgYGBgYGBgYGBgYGBgYGBgYGBgYGBgYGBgYGBgYGCAgICAgICAgICAgICAgICAgICAgICAgICAgICAgICAgICAgICAgICAgICAgICAgICAgICAgICAgICAgICAgICAgICAgICAgICAgICAgICAgICAgICAgICAgICAgICAgICAgICAgICAgICAgICAgICAgICAgICAgICAgICAgICAgICAgICAgICAgICAgICAgICAgICAgICgoKCgoKCgoKCgoKCgoKCgoKCgoKCgoKCgoKCgoKCgoKCgoKCgoKCgoKCgoKCgoKCgoKCgoKCgoKCgoKCgoKCgoKCgoKCgoKCgoKCgoKCgoKCgoKCgoKCgoKCgoKCgoKCgoKCgoKCgoKCgoKCgoKCgoKCgoKCgoKCgoKCgoKCgoKCgoKCgoKCgoKCgoKCgoKCgoKCgoKDAwMDAwMDAwMDAwMDAwMDAwMDAwMDAwMDAwMDAwMDAwMDAwMDAwMDAwMDAwMDAwMDAwMDAwMDAwMDAwMDAwMDAwMDAwMDAwMDAwMDAwMDAwMDAwMDAwMDAwMDAwMDAwMDAwMDAwMDAwMDAwMDAwMDAwMDAwMDAwMDAwMDAwMDAwMDAwMDAwMDAwMDAwMDAwMDAwMDAwMBgYGBgYGBgYGBgYGBgYGBgYGBgYGBgYGBgYGBgYGBgYGBgYGBgYGBgYGBgYGBgYGBgYGBgYGBgYGBgYGBgYGBgYGBgYGBgYGBgYGBgYGBgYGBgYGBgYGBgYGBgYGBgYGBgYGBgYGBgYGBgYGBgYGBgYGBgYGBgYGBgYGBgYGBgYGBgYGBgYGBgYGBgYGBgYGBgYGBgYGCAgICAgICAgICAgICAgICAgICAgICAgICAgICAgICAgICAgICAgICAgICAgICAgICAgICAgICAgICAgICAgICAgICAgICAgICAgICAgICAgICAgICAgICAgICAgICAgICAgICAgICAgICAgICAgICAgICAgICAgICAgICAgICAgICAgICAgICAgICAgICAgICAgICAgICgoKCgoKCgoKCgoKCgoKCgoKCgoKCgoKCgoKCgoKCgoKCgoKCgoKCgoKCgoKCgoKCgoKCgoKCgoKCgoKCgoKCgoKCgoKCgoKCgoKCgoKCgoKCgoKCgoKCgoKCgoKCgoKCgoKCgoKCgoKCgoKCgoKCgoKCgoKCgoKCgoKCgoKCgoKCgoKCgoKCgoKCgoKCgoKCgoKCgoKDAwMDAwMDAwMDAwMDAwMDAwMDAwMDAwMDAwMDAwMDAwMDAwMDAwMDAwMDAwMDAwMDAwMDAwMDAwMDAwMDAwMDAwMDAwMDAwMDAwMDAwMDAwMDAwMDAwMDAwMDAwMDAwMDAwMDAwMDAwMDAwMDAwMDAwMDAwMDAwMDAwMDAwMDAwMDAwMDAwMDAwMDAwMDAwMDAwMDAwMBgYGBgYGBgYGBgYGBgYGBgYGBgYGBgYGBgYGBgYGBgYGBgYGBgYGBgYGBgYGBgYGBgYGBgYGBgYGBgYGBgYGBgYGBgYGBgYGBgYGBgYGBgYGBgYGBgYGBgYGBgYGBgYGBgYGBgYGBgYGBgYGBgYGBgYGBgYGBgYGBgYGBgYGBgYGBgYGBgYGBgYGBgYGBgYGBgYGBgYGCAgICAgICAgICAgICAgICAgICAgICAgICAgICAgICAgICAgICAgICAgICAgICAgICAgICAgICAgICAgICAgICAgICAgICAgICAgICAgICAgICAgICAgICAgICAgICAgICAgICAgICAgICAgICAgICAgICAgICAgICAgICAgICAgICAgICAgICAgICAgICAgICAgICAgICgoKCgoKCgoKCgoKCgoKCgoKCgoKCgoKCgoKCgoKCgoKCgoKCgoKCgoKCgoKCgoKCgoKCgoKCgoKCgoKCgoKCgoKCgoKCgoKCgoKCgoKCgoKCgoKCgoKCgoKCgoKCgoKCgoKCgoKCgoKCgoKCgoKCgoKCgoKCgoKCgoKCgoKCgoKCgoKCgoKCgoKCgoKCgoKCgoKCgoKDAwMDAwMDAwMDAwMDAwMDAwMDAwMDAwMDAwMDAwMDAwMDAwMDAwMDAwMDAwMDAwMDAwMDAwMDAwMDAwMDAwMDAwMDAwMDAwMDAwMDAwMDAwMDAwMDAwMDAwMDAwMDAwMDAwMDAwMDAwMDAwMDAwMDAwMDAwMDAwMDAwMDAwMDAwMDAwMDAwMDAwMDAwMDAwMDAwMDAwM",
          "dtype": "i1"
         },
         "y": {
          "bdata": "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",
          "dtype": "f8"
         },
         "z": {
          "bdata": "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",
          "dtype": "f8"
         }
        },
        {
         "marker": {
          "color": {
           "bdata": "I4qH/41Q8j+7LIHvkbj5P+tuIiM1T/I/2xSwmVMkDUDW5GvHu/wNQIURsXc1SwVAcxebNfyDFkBajmcCCy8aQBiRi95njBRA2Oo4n7ZzGEACbi/MtokeQG0ijtAqhgBAhZB3N+SiNkC99B9n1PknQJVLHcPnfwFAqmcgGgZGO0CMIGMoBrc7QLJBDXyYl/s/TLnKLKUj9T8PtjsYb2v+PzYM1YM4bfc/LMG58bQ1BkBLVPNFEM0FQLo3+QwsdAlAAQGEck8/EkBk7QgKMDoTQFFoOOmm3hRAZn1veObKF0CRDqw2QSQlQOI2IjGkqx9ADdwFc4nPIkCjBLtpTA45QAV4f3o7NwNAi3UFNkIq7T9un7iQBdTpP6IfNib+N+M/I79deiR79D9n8WJhiLT9PxBHkZR4qfM/O5eYHZi6+j90rotPv7v7P0O9CVPOXglAiOS3KoECMECDHoN40aMQQKZd8XlqTBFAh1/aBb2qCUAJTgFZHbkgQOUOF5AoiCRArraDjcKOGUBPck2i2qY3QKYOE4kZhyBArhQbVmX94T+1v/VZTOnjPxA+1oSbEfI/PvloL6re3z8mJqBwE5HuP3rZPC+R6vQ/0rSbSzeK5j/riMduNIL9P2iKSjSSFi1Af8VU2ftFAkDcKoiBrlUqQNZUFoVd7PM/8i84OTJRA0AMJrwMGLsSQPO/xyYawzFAHtI9JcYu/D95NWno2U8AQIVEVo773Ps/oKoA595uA0D/lp3RmB0FQBdClFB2Sv0//eJKJG79AUA4f1Um4/39P4Ih5QbHrytArh33cyvHMEBuRhfl4wgsQD2ifCD9bStAfqrI8PG5M0B75MV4g1AyQDkZqM6bfjFALqXTX1TfNEC3p5oPvjEzQLhhb70BOzdAUo9+Rciq9j9pbDM+YRP0P9sAhd0kPPE/faU9b3R/7T98W1WbpNMzQGZkdx5otSpA5CXF6DXt7T+8szS/s3sxQK4RXg796TJAoi/Wmlq+MEDYinByQzwsQMpK9nyLvDRAPCSlbqE0OECm+qWwGIEyQBZqC9e8RydAy2IHOv8b7z/N6ngn+nfnP9nAyl8p3PM/jkgM6Y06KkCyjjbQdPXzP73ePw4xMzBADV39lght9D+olzFolR0vQAo/QBCDADNAbnCewRFpMEDTNMVvTIMyQF+65uFGLzFARFo6Udh/MkD+Woc4EOozQH/u9BgfCDJAeWUPm2X1NEDxElreboMyQBKfXM/nbjRAmGMensrSLUAtQxzr4jA0QEzKWa9U3jBAuDBeNcdAMEDaTiF4+B8yQFr5Xb/9WTRAx1/eDMwIMkB+lp00w4YxQPqzglPdYTJARDMuoEAdNUDQFsbM9LQzQL5MNS9e+ipAcBiaJeDuNkBMGVmujmMwQLQZTGg3zyxAhmFV96fsLUDY5FvlKlAtQCnUDfNpODRASI+dvyLKMEAv0jiS0zU5QIGDD4iEZjNArBycgA3WMUBkA22bd2Q4QE6Jud4VkDdAvgFeTTveNUBZ/jo/3jU0QEmsnCjPUTRA0brbL37ZOEDlF/Ot7sw1QDE1lYd9qjNA2kOQvb3/OUDQBqIf9A82QPp0ZeXRCTVA4UVfQZpVAUB/GN8fCOv/Pz1JVzw33f8/V2z+JcpOA0Csk6/b0o4QQI88jCAAMgdAN54ZDpUUFkBrkZt+3GodQLzuxuXsUxVAoOdouHX/M0C4qSYtAfogQN1YN3vzpf4/YdbVLrdbOUDYB91O8HsBQLnKj8+WAfc/TTzSpgsZP0CUigCGaUD+Py4TbscOEfY/nscPMhwXGEBOMqzBf5kXQHVrBKjKBxVAVOjVY8/yFUCPcg+NF0ciQEeXUCQMBShA8ia/RSeFI0BXIYpuYmclQAnwSIKRXyxAwHtHjQlNKkBiUyH9etYwQMAxFSwfuzNA51ruq/YONkCu5d94iMo7QGZS4PDEbPo/Smeaj+9r4z+FuVmT2fbuPzvOREOMSPA/PuNnyB1r/T/QM2p8LiT/P8oN8dWvGPQ/uSJr7JaRA0BH1vHKuxv8P5iiv0R6KQdA1aP85vatEEBIKMeu/tELQFCfLpy1/xJAbFopBHI3GECSHxI6vx0VQBowaQie/CNA2AMYXJSTHEBKGxa8Szw3QB5hYj3/n/w/t8wrz2pqAkBJ0pi9KiMEQMyp8KmUXf4/2ofEVjMrCUBqwCDp0ygpQDUinD87fhNAcr+FbXL/FkCZk93t9gQPQNEKqS4ikilAqzdR6Eg2NEDh4H/pvIM0QDpZar3fwzFAiQeUTblxOEA1awChu506QNwCMglRT0BAgyT9B6JI6D+JjstVf4b3P+FTKQuZ8vU/pCPSmSiQ+j/JSIttMRP/PyQT6PrbNQRAzC+93Kt2MkAFLD3DafMzQPBJDnWrkS5AHNdcwXhxOEC/iderfpM6QH4JLrn+ny9A4QpJ4ryNOkBQkQGo+8I/QE/iGG5lgzhAKqdeM1CHQEC/V3xcfpxDQKBGrXIZ/kBAdguPw4Fc9z/OGMX2g/QwQCMFYE2vizBAlzwaXnt9MEBcAeiktfgxQF3tk2lVJjFA4wlSYyEGNEAyPkgmElY1QCn6bLKAaTBAA06lVeO5NUCHCA8F+Uk4QDwmWgsW/zNAWxXZtVq+OkD9Pk5ehWY3QC9vaZDdqTZAsBvXO7OHL0Aqj4+SLmwtQN0C8Ox+zzBA/7j1gYFjMkAf1RMKzzswQIh+rxnHmDlAGn8NTmUROUCfT6qeSHg6QA6OzAJxbzVAe159fhDZN0AYx3F1OsA5QC9xgVcNND1AtQKeDypKPkBPs/6ecQI7QFuvbXrlWzpAvRw0w9+jQECyQGCKFxI7QCmDvIF23jZAjjN2V7AOLEDQIC7OUgY0QMVrh1SLNjJAYbQ7YvzNMUCWHhNK20I2QEGuP08k7DFA2Nfb4vGGNEAIpKsRTW86QJ3q2ij8oD5AcpUfny3gN0DjjtTOciM7QA+4bHw/8zVA34EqA0HuOEDlJaTaTH06QKo3emd6ozNAX8YcHbpAMkC4oIwrDUwqQHgS6H4UzzBAcvecaBXDNUAXtRxkafQzQN3RnEhyaTxANBAukcn/N0CpZELEtIM2QHYnCrre0TZA8fhydp1sOkAGCDB2DAI3QAAbc0tp3jRAd79lqVB/PUDkeboE8Qw3QNz5uBVGyDNAMdNRaR8VP0DeCIMZ8F01QCglqfF3nANA/CQMPUH2AkAUiluiBrkDQEiS1s7mb/4/NZHCio3gLkDYPYHJ8BoWQGVPp+EAP/0/RpE5v/YeNECAV1dHhov+P2ysaYO4X/0/BiGsCC/UJUCEEsGTcY/3P5KWytsR9vc/ETXR56ObQkDxMRZV2Cf3PxjdD7ILavQ/Cme3lskQ/j/ub/ndrub2PzLyR4sSIPU/rnuvSreTDUAB594mUDIYQPb5/6P8MRBAZ67buZPKG0Bn7K5g2UQfQKDgICk7aiBAiLS2voKRJkC0z3wxCNYqQDdsW5TZCP0/3gwvb6uePEAvMEwi0nkwQDmIzhnuN/s/JhEr7R4RREB9OFD5OrBDQIC+6zvYlfc/mKzlKQYr9D9PL+cIz3IAQAqjOMtVmf8/n/I7j4KiA0AvI4oDx4kMQKRnH9A+7wRAgC1tQJ3DEkBRKul6BcwQQI1fVxfgiBtAeqz4CvslMkCyh5OHx+4ZQLbICyOcAv8/hW6CsbZuNUAvWplTdkE8QJWLCDFdCfs/F0omp/a4QUCMTadMnFL8PyFjxdsQzPU/MmhTO+SaEECEZnSTWgAPQCZwDH2HDS1ARNNlc831LUDuwEpPoqstQNY/JToNzjBArKfalwEaNUBA9EmT9zY1QIPcA3zQNjdAnhR7ospuNkCbijt7umI9QD4fCguTvj5AmVyU8r0OOkCLUEv3Y2BCQOuLhLacAwBACc7w0agQMUAiTPZ0GvMyQAX/lXQYRARAbr+dwEuyMUAICrQiBxQ1QGY7dLSJTDFAOa9WkuHXNUDyeSh+SnY6QCUNySR+YzZAqwajism1PUD6HIrI0URCQHwUKg89tTpAfPRl7d9GPUD0nUb3//c/QFqi7XeshkFAEilyLf/DPkBD6H89T9I5QLaUPVP5MP4/Nvzy8gnLJ0DxdBnEKFQsQExbVHLrdSlAN9F8CIm9MkD4/oK0MU00QKtq9v4OPjFAuAGfH0aMO0Ak5mG6c+g+QCvgfdlmZUBAxlznGdqmPECz6YwYCyA+QM0f09q0MURAvhFA3mmlQECrG/f/1OA8QHvLrBAcAzpAV0enEadJFEAouuzfDusrQFB1RJXMhStAvy79KkQRN0D83zIjk908QPMKG9CYJDFAyt3G6n/GPUCfv/mid8o+QHqPrxQ0zUJA4vB6F4zkPUAkOrKPob88QD8KS/qDfTlApmoWwzDMQED+WG9x4Lw1QNC47Od/WDJAE4JV9fLGP0CP3nAfuXEBQBN+67sJmjNAMWU7Ogk/NkCkznGovtE5QANsUbAQETdAwR2oUx7hOEBBMGAsgMI8QAv7TZNf4kNAEtNLrXPCOEBmFTYDXC83QKie1LBC8TRALIzjdh7COkB3jAKvXIo1QOTjLE+UuC1A7e7HDqbKPEBKLEIUQKMwQGJdBcY0Mv8/bM4DUHOSOkAabwqvTSM+QMtWLLh+O0BAEGfRfTG/OUBTEFVbXno3QIhidj88CEhAEEFRsDH/OkCvz94R/K41QLXAw1m2VjRA4kUVtH8HPkDQ0leI9Zg0QN9W9jSSjDFAAi/QQdmXQECR4NsuE7wzQASjN4GOs/g/qwI5UeBDQEA/tyPeMqotQCfuwiD68wBAZHqA9jyuBUCh8q/llQ8LQNn74L4GE/4/d/4GUABlE0AHLofE2lcAQAnyuwI01vk/T5mT/vslF0Bgdi4QLUf3P5dzpXWG//U/vIwHADNMBEBf4jxapML4P/jsTrFJSvQ/mzrRptGJ+T+vbw50QPz0PwAce/Zcnvg//xQayoGd+T+VGrGBOj7yPyg/b0tggvE/P6ofo1VECkCm+BEijZQPQK/KSx82NBBAVtbTmig8NUAtzTFJ+sQbQK+SNCSTyPw/8uTDgcq9PUC9Cr6jpfAzQMjkuzGQofc/tb1AvdcQR0DIBON9qL73PzL0/CeHcPQ/J3whqpElSUBpSwRHVd31P0x4Oj73ifM/qSio8oeACED92W4GqIYDQLWGlJfjxg9AehnmgDQmDUDBM+NlNOUqQJztPLfx6RJAOmVFP+D8NEDRxOAGIcQ2QNEMPb2tlxtAacbkBb/SPkBw2TqbAug7QH87P3vkJfc/63ijwTO9QECIDw0HGZMFQPdfY24prfU/S3NtoKftQUDM2n35Ktr1PyZ4ntOH+fM/hLMhINs6MECECYq8OC8xQEWQ1lqQ4ilAlnasSgniMkBLKHWwmwU2QIP3uOMLhDBAUtG7JfeUNUAppW/rUR1AQLZUc/NsvgNAbfC2uU7lQUA78QfJI29EQOBMbSVL6Pc/WVXMlJiSRUB1un9u4HVHQNJ0VSRPt/c/mTCzMo5jLUA4m/EqKfsmQD+toj80OSVAziNWsb4NMkAYTR2aaIIzQBEhpit1qDBATaj5jSMQPkDF980W81tAQPioAXsz9jRA+Qq576Q8RECsY0tFmVZFQJSV01x2KQBAJ9o0OhAmREDkctWf8SNBQOguqsELrQVASVY0jHFRREDoSkbGUdb9P68GaikH4PU/xs8UdFo3L0DtCgHpMDA0QPMm+fCwWDBAHupv8CJyP0CNKMz/1CNAQASqwSybWjxA3s3w8rZpQEAXgfPaUypCQEqycXGSiURAn08NyYMGQUCl7D4R1XU5QCdB6jxLFPw/wpo1PjS7QUA+D6RBwOk4QM38MGOGjfw/IJ141ocYNEBi4zQjB7s4QJQS5X+wiTVA4DaNzKeiPUDh4D3N6tRBQLHBJXRVbkFATfGfC3afPkA1DB8RU309QFLXd9EZoEhAHDaZClRPPkBXAWMiSmg2QK5veQ9EZP0/yzeRT/4fQEBDisdmw8H9P7JmpqyNMgdAJDsdZdBFQECCsiHmL+j4PwI8s27N1/o/8EFbEMLiPUAvwjXzOwBBQKf0RL5ovUVA2ZAkrZ19PECcecWVq+E3QFO4NyKMZzFAJym4ce6wPUAg9p26TVc0QN3I4TiVSfw/sDlJ61ZKQEBe1d1lVPv8P5KsiSbMs/0/7HhAl/gqQUD+66IJkNwFQLBaV9R5H/Q/3D3MoNKERECpRyJNnyFCQDKBjbG0x0RARNmd5suGPUB9X5ZVXN82QM/08VSw/DZAnRSkIfw/PUBdWiYmHGouQFOIkW8A5/s/dH5p1VcQQEDDvwCp6rn9P5wAHqxaLf4/BttGC+nvREDlIRmTek71P1rC0qfyQfk/OGtLeJ08AED8laUINtfzP31OzScj5fA/YqNqw3pu9D8euqgvroX2Pyy/BFVAjfM/vqxghoyQBECpPR12fEMHQPeUGNvW5ARAVJWuR378DEAAhWFdaHITQCusCsM2vhJA6alhAUQ+MUDI/y59+UgiQGd5YPhv4xxAmqMaOJjFNUD0kWt1/5Q3QDHUmzDlfP4/Of/hdLP4OEBjsjw4bUc+QLlp+aK5vf4/oqYKBAlD9z9pPbZEsuD6P86BL5Yz4QJA7Ax82htrAkAFMTPg6owKQBdzAJIj5AVACGyUFqoOE0CMB8aH+skSQL/CWXzQ6BRADnUOVHzCHUDKNaIHgBwmQJTpRECNTCBAjEcMr+JYLUDxXnuHV0stQCXMk+9CYjhAFZgEXhyb4j8ihbphPv3oP5bN2nWIMuc/f6uOfxNQ8D/HIwIfzXr0PzEkSCGgfew/A63IAR5xAUAmiIBktncDQPqzYUX0WPo/4nNp9FHPEEA2xtKwrS8QQJCdXPhmZBJAAog3QnH1EkAArmTHRlQQQJ+TWv8ZfjFAlhYeyR8HIEDE861qpKc2QBSGM4XvlSRAiYgPqtw91D9lo7WaXAnwPzDojEGKJvQ//e8MQ3l56z9pAftknJHXP7/RElQiAwFAtb1hy8Az9z/bmt/2JQf/PzCJL+rFzgNA6AHBVuh/A0Av9yx8Ox0OQK510pArPTFARzeI95j/BUDsc2uI4KQYQHRNWE2dgDBAXI/C9Si08D++I1PTaMHtP2gD0Q/6rPo/fdo0+PPk/T/4dmQPYWr5PyFOknTuLgRAWxWXmYiF+j/CF6IaYZMEQEhfUsYJIytAWRLBtH/g+j8qtQ9gLtsrQF8O9ZqiMC9AKMDJmZr9MEDOeDJqhLUwQKVN9kubSC1A6lN1LELUNECZlmCK1YgzQA0D8RU49jVAwRcNtmRn+T/MDeHzHnL/P896vofHJfE/n7KzS8iXKkBMxhCEVIEtQKzf8ZKkLABA3xaP/8BE+j9qkaPvJIExQNWV8AAmiS9AjjsIrrB9NECxBntVX4QyQBHYxQKZnjhAee+gwNj2NkD8MntNzcQyQBws911s+jVA7nj2CV6M5z9aJBbGUP3tP1ubY8yfWzFAmXJ0S2FE8D8iBrKFvZgtQEy5qR68ejNA4nRxn0U04T8KpEB2STUwQD3akxuggzFATEuT76XoLUAwFCzl5zQxQCUo+lMVVi1A8+ZwrfYOLEBvb0yJA3gyQP2GyyL7uS1AyKdTYPkyNECaXBC6GR4yQKLbhcUs0jFA+9A/oLfLLEAAMGSWudM3QMS+dMVS8RFAnZkmjU0tMEC/aTSYChoxQKWZ9uaa3jZAzW+g2dgZMUDRO1eMoU0xQLkNtEzQTzBAuyt5RJ65M0DVlyFl9lAzQM2xeo9MzihAaxmhhgysNEBJl6NsNqUyQCVFO9mTAS1Af9X0TVgqK0B7MAgwVaowQLyUeEhKWDFAOLL6PKkJMEBQPU6oEmM1QBPXrXUUriBA+/OGXvN6MUAxx7gD8aMzQEmnxxk37jhAS/la4ac8NEB7xWws1TgzQC3XNiCdEzpA9AXjlkXoNECyUOdh05M0QKisAaX8ijJAhF7iPFoZOUDYTUJMNh03QJBCYWlD/jZAB3TLszcd/z+ry85Hvmf/P7fSa7OxJgFANiizpFDIC0D1tKrC8oUIQNtNMmqlXQ5ASR0V5trnK0CTqswYDykhQOmEjiXFTiBAkooxduMBM0AvdPyCo680QKDg/xpS/fk/FyO3yyPlNUCwXOtiBR38P9bhCTnGyPY/L2cZVq93OEA+5kUeb6f4P6kR+pl6dfU/9sYYcWSOFUCdnW+4TZwXQKPuf1c2kRtA1oLmjIt5HkApav7SgdQiQCfY4sdW0SdAUmDgPTCRJ0AKgHVFvgcuQGmrL56DgS1AMn7xd7UKMUBqAj27Gao8QIdmQ6Pg3kBA4RGRcfeUNUD0CrilXWxCQGQKcw7gRf8/CojmjdW+7T9ikfSjwKbsP9xE8yEkuvA/zfFE79hw8z9MONMIJmAAQDYqql2XWgJA1YGDKCWBAkC/bZ7R85oIQEIfsJvnbgVA+gDNtaKqEECSixgT7hMaQB0zN3xeBRNA9MERKIvOGECVx2hXAC0bQCZy4iflCCNAihJfs31sJUCrkLjo4C03QMMIhhhUyPw/O6Yw5wDeAUCOORH1adIDQEBzEFOmTQZAoh2il3JeA0DuFpLdFoINQBnqC3ygKBNAnd213zVvGUAiBpF31HUpQNRNOZEmRjVAchXN++YSNkBEs/wK41Y1QAwBZfj0mTtADJePg5YbOUAubNXHprQ5QBLemkvcXz9A8D8qrPFN8D94cMFjiUj5P0EKv1CXBSxAiiKDYH4s+D8kf1H+xSgvQHNjm9D7SxBA+Q8Kxph4MUC7HtgzfHA1QEx7tWmN7SpAfKmOC72oNkCoE5aZThg5QFlh4cGiazdAo3hTmXsFNkBJQsezcOtAQI2NSC33lTtAmOrZ3jQYPEANoc4Fw+05QLqJGH4JT0NA6ORew4C7+T+jZwYzni/+PztfgSL1cv8/BxXqI8/oMkDT6GGqkakyQNNAPceRPDBAZI2C+Y7WM0ApRxo/AVwzQMAXsvzx/DBAckMALtC5N0BGwWOqJrM3QPQyq/N/GjRAFhC9ORqfO0CTMm/2gxw3QHErMY0uAjZAGlnoOdhLLEDrwCCGqfMvQDC/Lh45DyxAzMhJ9kKpMUB9eJYgI+oxQFgOX+zepThAq7/St9QxNUAcgdMWMm85QHRs0qc06TZABv6mZsWROEAqKBysxas9QLM9vN9PdD9ADUSiEs8lPUBAun373/o4QJPGiSs+yjZA5GiOrPxEPkAeNcOZoQY6QGNxSR8EGTZAFY3WzZy6LUC5bWPcorIuQMqJVQdpJzFAS5DwQfg5M0DiKC/oc1I2QDOTf5hK2TVA1PbpV76KNEBOfBjO87g6QPZnFtMSNjdAWavRBrs8N0DTXBvoqQQ6QIf4LHTKtjNA7hcewa6kOUAWmvOlGoI6QM0+sF+HITNAmA8Q5W53M0B5KUxKB7UxQAeswaDxfDRAfWiTgQuZNkBiM37pBtYxQM6sY2Ti1DpAIF4ZTKrPNUA5Dno+HME2QNVbRXd37EJAlcaaV5ZrOEADBYMQNcI2QIrXq35beDRAyMLGq2KsPEA3ecL5cec1QBkYu3Xl4TNAtvCjt8utPkDWc2/RC+s0QFzTtHLM6jJAoRdJFouCBUBQ9r/x7+IJQFqBQrlEmAJAXTKvn9VCFED5H8tI3gEAQLyOm46+GQFAQgULUOhtMkC4vKT3rk38P5HEHhzkBABAwLmW+6pjOUDtqlFZXkMAQHdmBhoB7/c/sgIRHHY/AEAzUxhjeSr5PxIWkTiW1fM/Jzl59LM/QECsqrjtUj30PzVg0hA8I/Q/EMbTG4OIDECdqu+6hu4TQNkbhNJ6KBdAdkPo2vaPHkBT/r0tu4IhQJrrl/wNsh1AcXR04MVhI0CuWC7h8SUuQKS/2d5VBCxAb0yqEVX9OkB7lhBBD3k9QKHVj24A1DtAKwUwp/wlREB+DVbWlW5CQLyQUCszwvc//LxOjxKo+j/61Zjn84/6P1LddZkOW/w/i8HkwlidAkCedluWbXcHQFFxNRVWWAdAD1COwCcNEEACidzCqU8ZQOydl6ub3BFA9kYI6u9gH0AG9etW6CAyQOSRDd42DyNAARohE1t3OUAjdKem6u01QB/4c2Wrjvs/PEwc9efbPUBo1krPkYj+P3Ihh2/+AvY/4lRSxHVqBkDnHtChJToNQFxQ56PvPhFA/UiVUfr0LEDWszkxmN0rQJVLgO2iHzFAm4HbJFDOM0CS762jBbc0QCANAoZAkzZAs8MtWfRHM0DQjTxSdUA8QJWtHsVzuz1AgEczmoUVOUCNANmxsvxBQMAqcuNxcD5Ag699O2heAUDH8ejrnjEGQHM8sC1NZS5An52A5KXCMECrr88YvQc0QOSMm/lZJS5As0fixNvRNUButqCUnPE0QB7gSQuX5zdAXlRiCTGGPkA6VzlZj9FAQBMQcmI47DhA4cXKgQH7QEA04CS0giw7QDzfqkYKkAJAmfYHqV9fPUD4smELSVQ9QCxMnU82qP4/RwsKYiTOJkArMjogCW0rQNfDNF9nsyhAAuwnjPuEMkB8R2z7RwIyQGTLsFlHeC5AK61UivzFPED7zYJYT4w7QDDjfYdo9T5AYw3VnNUyP0BSVbKtsD89QDFCmcJat0NAcTqHOkUuQEAOE+xDB0s8QKSo0MzVmzlArN7I2cfeLUDiX19GDPwoQFrF0QstXiFAiBbya5iNM0DtgTVS30srQNxwL5vGNStA5+9ztl/2OkBfvPY3Ls8+QBug0antLkJA3kEF6kHIOkAg+O8sB7w8QDc8GAwJdzZAacTtTHjdP0Dbp1/5Xno8QKXIc+BJhjNAJRLY3p+7PUCLIKVE2MM0QL125Yq9tzFA0MoHTscIM0C1T+hx7/AyQMsr+OlPqzZAgANiK8uNOEDaKICcD8Q7QFzQtQ6SAzhAdY6FEZCxOECumQDscS85QLAXjhCzgTVA3uOOL4hgOkDwbLDsWVg0QASZldSmdzFAbwllhjJ/PEDwCSMHNjM3QMgbqnNWNf4/aPXlNxIXOUA6/PutGVk+QDo/QTk8mj1Acwr6JNrfOEDIFheBkC04QOxbvfWn10dA3/OJXVeJOkBIIur0cq80QNjamCpa0TRAB9YO0pXhPECBQfO1Pu4zQPXmw/UgBy9AmKRT0wWRP0Cx7R/RJU4yQC+XQ0HfQidAKSe5R99JQUDvi/CbZwc3QFqqf86sxv0/K4mJWXG+AUClOpEejpcEQGWL5vm60QFAsDRTztViBkAPIgDVy0H/P6Xx8hGEffs/4m1KHvT7G0AP3k90+jX6P79GkiBcCfg/2jp69G1pIECpg90sNXX2P2eTy5jln/Q/zSTJ97Xj/D/K8r+mGKn1P8ALGZfDifI/qzKd55k4+D+n5/5mOZv0P0AvP+Tr6vI/wRBB7oWGBkBjPHOkbSMDQDuOQDh2UwVAjxVfYX/vJUBm6yruiTkTQJPMA7sOHw5Ay7JxDuglIUBr0H5BXtoiQCBiYneqAf0/Ul7Q50i6QEClMRgrg2X3PzAswdr/jf4/56cXANMTQECByTJp+Jv5P6mNwfXukPM/zNB4IohrCEAuOIO/X0T2P56l+Z0FZfk/bzeYuBsVCkAaYVmC7xIYQNw37+ZGZAlAFdkYhW6cF0DL/B83LuUWQBuAcLLLPS9AegL+fJ2UIkApW2YJGTclQEhpusdnozZAsnwCzYx1MUAr9EVr2ucyQOvXxm1u2/s/is6NRMOBQEAgLpSnB5AAQNPBdgfj1fQ/2F0k3WR2A0AXDRmPUqMuQF8ATN+MHgNATqbAuApZMEAiaC9PpVgUQO9H3RDbwzFASiMsS/AyMUDXFAoJ/xVAQMuCaDGhqDFANi2Is+i7M0B/vLrXB7g7QAr82XZ3EAZAc5w+r7a9RkDWTjnL0U1EQLrqCWTZoPk/amTbkurIIUCxZJZWpsQhQJ4e46MotSNAcxMx/BKXJkDmUZbG1LQqQNw2IefccylAqyLcZFSrMkAP6gnoEWQ0QDB2TvVctTVA+ICrAtYuOkDuJAHuol49QPhNxM+9qENA+rpGqnN0QUCQd/04UD1EQIpqGcKUff0/1BVkslXVQkAyZp6e74hCQJ7hWcSoQvs/IIXC0oZwK0B35vWSjNctQNw2xi1qJChAZu5rbpZXPUBiRl/eb/Q2QHLe3rkgXDVAyRCVgPfpQEC0jLveiZpCQHzKGLy7LkNA3YS1EOhkQEDJuurHR5VAQHmILdpvwDdAVHp9GGfhQUAjg/1TgfQ4QI1e7EEx/wJAxapBmNtuNEBqcQDcsDIyQKVzVQuyXjBAcXW+p4uQO0CQBdiJw908QNHVDF8V9DVAseogbetvO0A5rSUukehFQNaaWnS68kRABnYEiVAEPkBfN7borvs6QGVKscR/py9AHi7/QgvQPkA7UTMgUgQ0QJJol6koPgJA5qY41BDHQEBAogkUsXwvQNWRRKtqLPk/nbfz9WO1OEBAlSbnvE48QK9stFYTWkNA6D6tYCNxPkCTpZxQBCRHQCL0fYJVBUdAYDrO6Yk+PkBNRc/Suv40QEqVSYk0oixA74CA7xVYP0BPJ3bAt1YxQOVmduXMEfo/16wKP/4EQkDYKbk3fTElQHFjq7KM+AVAsjQqTyRZQEAQA58XVVZAQO9g/ukK20NAxRarm8XRPkAqdLkcCv00QAAJmgF0xUlA/XFWnwbpPUCPn1OxrQMxQCMUfE+8kyBAmU26DAOhQEDUJSU1m7wmQDQj7ndJIPk/3hM14hNyQUCeS4ryeUUnQNqdpK/Wd/M/lnxH6EJeQkDQYd/K6W34P4FNjBttM/4/AGbnAtGC7z/1HfRTuUTzP5c36pVwoPo/SAd3qQnBCEBaIElirHcHQNZEVQIYoQJAtjnnCmOdDEAOfaCqfLoHQClskmENnBpAjdH4jchrMUBF14UfnBUbQPlz4XKC8R5AuLnnr0YSFECLaJ7QqR5AQJseVrB0OwBAWu3lZ7hEPkDn7b4Z658mQAXtQGNHIEJAWk0Rv+bFAEDX6KyBc1f9P7kCI5KVJfs/1jvcDg0T+D/M1yPcffkQQNgiL4xwmgNA0jMg7xMXD0C1S8BU2IUHQHH+qkzGyxlAbOQdVKC8KEDWshB4u7EfQASUI/DJmRBAEbd1/aO8MkCJdAX8ltgmQIM4rPx0FAJA7oRuYaMd4D977utdD8joP8BWjU4rr+M/U2iLMdFs6z8/4AU6KIv8P4w0bdZLmfc/msoF20Yb9T8uA61EyWH+PwwEvxWiwgVA2b/CtDVrCUAuYxq4yb0EQIoCfSJP+g1AT91kbbY8GEC5rIBKrmwgQIOdKCqX/xZAery5jUDHGEAb58KKSyY4QGP1w99hIDVAXzauPbv12j+d4ga2KeLnPxFxlDgCC/s/jr3N0Zn66z8Ax549l5nnP2bUhAbFc+g/qgAI7Q+T8j+6evx7fLQCQI9kwYp0BRJAYMsKyfLnDUChpF3Y3G0RQA8abn7L+ydASskXWdd1DEB4ldZb2nEzQPCLxxw22zJAhegxRvvC9D+eV2V0ekX8PxjkNjNd3Pg/1xutUayqA0DW/q3o/94EQHaV5j1rjCJAfYRxoiOy8z/+VyWqGtMoQIUnst7BjitAAhgJTCsOKkDCd5PGBcstQHQ4oa3WjjFArmQJY/LoMUBj81Bfv98sQFTHS7NQHTBAqaKZo54VNkD9ye+fNAs0QE38anE6mDNAWdWa/7pf8T9Py3KGoBwqQDnnTH+b+itAMAb/8C3L5j8+AkVNcKcrQNKY3jgIXitACOzFqwdX9j/YAWO/H/gyQN1zibhz+jBAr5Of+UG3NEBTdROlUroyQLaNWO55NjNAIPCf8th3NUCnhLOd57cxQLJxUARpYjRAvD5z1qcM5z/f/W0mESftPxveKIlXvzJAr0VmiSlM7D9ZKpjGaRkvQFRt3AfFAjNA/2GFOjCZ6z8ajmP7+zIvQM5Oq41WDDBAAmpiaBI2LEDkQzeY2f4wQOH8uMNHFzBA/3enr6VgMUATtgK3rFkxQGsaqTEAAi9AxAIEGDvxMUBCVCtdC2w0QJvdQYkiZjBAIgsDXLHrLkAXiBpcpVgzQBzhH3xJRDJAzPy0myplL0DTy3vehWMxQFRuBcGhMTxAsLSlcRyTMkA5J7S0bCMxQPiNTBP4kzRAFlfPKOE2M0DXjrmdQxIxQBjwbG7QYDBAy316hWjCNkCPAXbBIuMxQPHMFe8RRTJAbKRbZVx7L0D3OYB2bkcvQCMvrX5TYDRAVOxgq6FHMEB3mpLN0V06QJ3vCvEGRzZASrqgnVeVK0CAlSruy38zQKnlIEuTwTZA0xSeIzQ8NECYQQgKtII0QNsDpU9IzhxAU8lCbJdoN0AEOtVSJ1M1QOem7kb22jhAn6EsOmEhOUB9uLs5Is42QCCcLg/C3zJABG5hBvjI/D/8TtU1QVn5P/PMqlMOk/o/WXtMYhhRDUCMMSxWP7wAQJ+IbotsiBFA4NbdPNXPFEDE5R1ML94dQO/n0seVHRBATlQEcmhsNEBTtmF3LpwzQAu8DxfrQfs/it891Vv0E0CBMIVBeNj5P5i+1xAcd/8/4HC0HTLKQUABqjQ55+kBQFCkXmTA+fQ/lAoyG8dcD0Bd7dWFJ0UZQLr0UFdOpQVAKw3C/fxeI0AMHkvEANIaQHEtKEZ1QCRAYgwPDrRqGUB2wYXhyLQqQCbex/Iq6CVAFYZtMHkGJECabbjZabg9QOM/tMFPlzJAh/UMAqfgKkAdbcH3oxBCQIE79e3JekFAHL9koaWU4j/FmRVA5yTSPwywbkB0huM/c7FxFlkX8T9xTjYvmPngP5Mbh/LsnwRAoM827RhN/D/eqUbQFLHvPyX779oIrBBAkugj+PhrBECPs8CJroAZQPgstuYaGBBA6yeUbBKnCEDt4YG39tozQLYinNwQkyVA+X962LDpEUB7mQ+lSTk1QIM1rZg6uQBAstDW2l7v7z9JDn0cchjgP8w3DRfaPfM/hXuG7JPG/j8k1n8pRYkrQJCNOEtmiO8/Gp5mmhMqMUA2jEg1aNf2PyJG1568ABBAWS7h8WmcMUA6kst/SOkTQP+zpKuNZTxABGRcL1UYEEDS117Rzoo1QDyXsbo4/DBA5nc3or0K/D/eYQsocYnvP1J9SkLgcNg/cg8yXi1u9j8PJFJHhWkwQGL4JW5XoOI/j2/vGvSFL0BVQqDIzQM1QCIV5yRrj/E/w5Ldkj0XMkDavg1SbOw7QIBCJOBjZgFAFyb4SzDkNEDmehX4Ds0+QKLMacMfzS9AEaCuB/aIDUAN5Ha7oEE9QOW/m8mSpUJA6ZiY0wrI4T99huQixqT4P5mhK/CZXfw/aiLgzo1mMUBYxPLfaoryPxmPUglP2Ps/XaTUTmIq9D9eWKs0MfYwQEXZOrwQFzFAQlemiKGJNUAuh4K+mTw3QFBbn0nNUTFAc0QAaHvZNkCGsNguhs84QNw1+C0AdjhAcwbSB8PBLkBYiT+rSF4wQHuWc2vKjP4/O2uewMeWKkBsnhuBFR4yQHTjxPQQRjhAhzbfDCchNUC6AgKErPoGQLr+djzaNzJAU7Dn510dN0CrF0uqGfk5QAq0hTEzLSZAqqcDFzOzOUAPpjh5V9c4QHWGsZ690zVA7ECMxpBTNEAl/BiU5c08QGMQcdZUJjdAQG3xfEjmIkAIjLtiwrUqQGHQGYMUGSlAnBFrEjjeI0CEa+Z3N4w2QMVw+ThoZDNAsXWhoLHfM0DroYUdKRc+QMPC/wwlyEFAGtgRJEK0NUAV8EKl11I6QEttkOYbJTVAwDym5lkPOUCa4CdQvFU6QBxHxWJILDpA0q225rfAM0CYfD93etQqQDWMDoreai9AtgACEFZVNUBEa0Wb4xIrQB5HvfH/+ilAI+iaj4zlNUBW09Q27ok2QIqyVGo45zVA15hCrYrgOUBnAJgANlg2QPUJqImh0jRA11njIq2JOUCY+4H+hCk3QMRR4giMNzVA3ARK0IAxP0DlcSA9qFk3QGIP7WMFODZAtcAeEynhA0Agr83nWO3/P5yuYWW4evk/kH/JOtp4D0AzBmvW+M4QQMyYgjXOvgBA7X427qSeGUCrg9W77GkCQEiCmYRFqAFAYehLTnEiM0Bpap+v1XX5PwcwPGFPjPc/NMcLTBsbIUCf7+Fx1bX3P7xA5lZKh/M/W/eoIolcAUBGPztcgp78Px/P9DNxsvM//nVVPezjCUCFaGPbWPMRQAafKAEYGBZAF5dwCTw1EUA1p2DHXu8cQNNXJcsoEBtAYKQfJkRaIkDBtD20bhEnQDjXtHuHrSFAEMcd40jDN0DhQIoyAvggQCp6t+R+KPw/VwHGTAVFP0CHLk22pmlAQEUpQmY+xihAs8Wg2ZZ92T/ql0ab/PH0P1lK2K8imPw/jF+AlhFbAEALwzaYPLTpP4YwyKcRNAVALvh+tEmHEUBE0SyetCf+P+rsvykHfhZAmbzgV9VcIECkc118+kAyQDcy8iZ93yBAE/XdCObMMkDa2aGrvgQ3QIc4c5uyUzJANAFUq46iMUDJ8660a1EgQD0Rgl1mI/4/6rHK2BJqBEAX2vewMNsPQMjiJ6MEXO0/musTxGm+DUAJzYX8+Q0qQM70XPCzJS9Aqz+AFI6xH0D+O+zPjy0zQHkdktbv5zVAxsYXSKuGNkBcTeg/te05QGqNe9INLD5AdaEk6iYyMkCpBu0X5IA/QMgnIssbnkBAekUi+tZLAEDQKWWli7QwQI0z+o9U7C1AKJSuLuHEMEBR0qozSlMzQFT5hfRn3jJAalLInesaNECAb4kS4xw2QO0Gl69HsDZAyL9DD4RiN0A53arSs1Q6QISSNEWhPjdAwLM9esM4O0AFGxFrdeU/QNgS0TPmJwZA0sE8XNlpQEAfhF9uIOI9QFeyQhUneARA6JNoCwDuJkBiGTRXeqEsQEnOT5IqBylAHHV8zdWGMkBfedK69NcyQF0vjy2yJzBAvfxvoQIsNkA1vy9oAP45QFYBKXfAHjxAXdxGA3hUP0CdMpKY+x4/QOXpIqbAeEJAUdZWiYVtQEDpaZeht6U7QMYu1fXZdjhA5nH/Lr+BMUCtSRpQLbwnQNukBdyxyCJAM1SDOCimNkCuT7Xt5sI7QDQRFS7UwD5Aq3PzKr4uOUDhoWJ7MSFAQGW1K7qWIUJAeeL/r7ZBOkDNlJTDQBE7QPd/BoKd6DVA3G5Z8GhaP0DlCHzybv46QM6lG9Wn8zJA4o0vTrpOQUCqwH+pVRY5QE7PP+pEXABAO8wT37sHN0AK2y64D8o6QJoDRo/GFDhA85FS2F66OEDA2Zw5WkZAQGb648XbsURAekxqiRFpOEBMKqYUbC44QHyRGiQOJ0FAY62IN74YOkBplZFhsrY2QF6KBoQx6jhArVkd70SaPEDOy7ywkOE1QPPNcOIv4DBANtmzpRbfOEA6aMBqdqY3QNnxeL2oVz5ANWVE9RjYNkA19RX/0ig5QG82DNWDjTdAN1dJO6DTOED2lCBMH9Q0QLYHa615tDNApVvhI4PxO0CMexybV18zQKgIR/vldzBASW5FSWUVQEAtxHY5HasyQNI+salO7zNAMHRXPJYoQkBshDQZRP4GQD1bMIas3QNAuEKzRpiJBkAiNIKN648GQKILC2rPJ/8/5J987sKyBkCqjFYgQGf6P7pz1foqwvw/Oouk/vY4H0DWNBBHLlr9Pwb4LNf0K/k/SewkbInSAEBdz8YAPxIhQIOmJVZGk/Y/eMpyK+cZNUA+0fGoY/P1P6ye3WtS4/Q/E1FEbThrQEBCEaS1Fuz0P4Y67oydNfI/QZT1vJd6/j/Je6xLUy0MQE/Y8ojZNPY/7WBId6X9F0DKF7SQgI0TQM2w7qu0Sx5AXDfGyj8LKUBDMNSCk1InQLMpFVzFHypAIgEfk/fXQkDn3dyIPNdAQKWeidlgQ/4/4viINWhqSUDy0QObSjckQLZ0mj+Fz/Q/k1uL/QKd8j8mtLzdWO0IQFensVrsQAVARzoDIy85EkA+yogLQKMEQItzL4vkEhNAnFX6ZCDVI0AYmqkYAJcwQCgcrMXI5yFAEPhPeWzeIECsvHAp36o3QPbTPboqI/k/Olc5WQ9IJkBpm00NVYpCQCS8uc9cyzlAo05pkpLvQUAZeIsToSn3P6DezraB4Pc/BN8b4NXwAECbgYBr3egKQKEgBCZo2i1AtTGX0DSdE0CrDxx+1I4wQHiB7bt9gyxAA5CgGUCNOECaCNmBjHE5QK03B1su+y9ARVgiiqiWQED84QjO8CRCQOL17Ptop/w/iNtfRV+tRECQTMlqIadHQP3xwd/tPQFAb3nVmEqWIkB3g6rJOj0oQG0t3W6TmydAcz0bA/wEM0CdBS1mfIgxQK5nhI6IVS1AmfyJqXi/MkA8nCOfFfo7QEAqatVTNDpA+5/TXoq0QkB/H8SEB61CQObz/v0xbzhAjy30VpdrQ0Beat83Ge5DQKnmB+gdFkFAbtW/NUG2Q0ApjaBKMLk+QNH6Y3M4T/k/SnE8PNcVJkCKUFNorDU+QPrZZUuY0SlAiIBktjvEM0BXzGuZyiRAQIDoD+5KqT9AgTqrJgR6P0BTHh8lXSBCQILxPlS7BUZA1uvtAYA3QEAGF8g/dZg9QDZnEi8uKjdAsAOlcFbGQkCsjtrMOg7+PxYVkkiyIjZAU7oNzelUMkC8B2SG+Pw1QA6kBxWHlTFA+vALM10yPEDgDjdUylZAQDEAffAUKDlAe+tPJJD6O0Cmq0OHI6k7QOoLna5ZfkhAhhngo3rPPEB6Pvt4hVA2QPcEie3u+QBAdBu74UrdQECUBDRTUhY0QKXHCAub/zJAGoXJ+Yd4QED86C9PQso0QDcrDcL9rPM/+s+7LWh/PkBIyeUeFopDQPPh/siZ7UJAh48l/9WMPkAxCRfyCLc1QKuGL9mZAEhAnjXLp79+PUDVIZrtyN43QFc35o5hkvs/9KkAaxdpP0B77Lr5PrYwQI0kYsbr8ixAJy9TDyhUQUArLtDmH9otQP2s6MU/QvI/8sDXQlbpOUAwmRF7dFNCQCGl4a1WuUVA9Qh/0MR5PUAs51rNnfYzQLQjDyMIETRAJP5yd+dmPkB8tDhjmIcxQEIXP1PQwQZAkJWIhZQKQEAgAas85MotQJrRC06vsvs/HOFAirJRQEBCSy4xXL71P5BpK/4IkglAzpZi/VUNQkBsH9n5CgT1P4cKgoWbHfE/",
           "dtype": "f8"
          },
          "colorbar": {
           "title": {
            "text": "Toughness"
           }
          },
          "colorscale": [
           [
            0,
            "#440154"
           ],
           [
            0.1111111111111111,
            "#482878"
           ],
           [
            0.2222222222222222,
            "#3e4989"
           ],
           [
            0.3333333333333333,
            "#31688e"
           ],
           [
            0.4444444444444444,
            "#26828e"
           ],
           [
            0.5555555555555556,
            "#1f9e89"
           ],
           [
            0.6666666666666666,
            "#35b779"
           ],
           [
            0.7777777777777778,
            "#6ece58"
           ],
           [
            0.8888888888888888,
            "#b5de2b"
           ],
           [
            1,
            "#fde725"
           ]
          ],
          "size": 10
         },
         "mode": "markers",
         "name": "(n, theta, r)",
         "scene": "scene2",
         "type": "scatter3d",
         "x": {
          "bdata": "BgYGBgYGBgYGBgYGBgYGBgYGBgYGBgYGBgYGBgYGBgYGBgYGBgYGBgYGBgYGBgYGBgYGBgYGBgYGBgYGBgYGBgYGBgYGBgYGBgYGBgYGBgYGBgYGBgYGBgYGBgYGBgYGBgYGBgYGBgYGBgYGBgYGBgYGBgYGBgYGBgYGBgYGBgYGBgYGBgYGBgYGBgYGBgYGBgYGBgYGCAgICAgICAgICAgICAgICAgICAgICAgICAgICAgICAgICAgICAgICAgICAgICAgICAgICAgICAgICAgICAgICAgICAgICAgICAgICAgICAgICAgICAgICAgICAgICAgICAgICAgICAgICAgICAgICAgICAgICAgICAgICAgICAgICAgICAgICAgICAgICAgICAgICAgICgoKCgoKCgoKCgoKCgoKCgoKCgoKCgoKCgoKCgoKCgoKCgoKCgoKCgoKCgoKCgoKCgoKCgoKCgoKCgoKCgoKCgoKCgoKCgoKCgoKCgoKCgoKCgoKCgoKCgoKCgoKCgoKCgoKCgoKCgoKCgoKCgoKCgoKCgoKCgoKCgoKCgoKCgoKCgoKCgoKCgoKCgoKCgoKCgoKCgoKDAwMDAwMDAwMDAwMDAwMDAwMDAwMDAwMDAwMDAwMDAwMDAwMDAwMDAwMDAwMDAwMDAwMDAwMDAwMDAwMDAwMDAwMDAwMDAwMDAwMDAwMDAwMDAwMDAwMDAwMDAwMDAwMDAwMDAwMDAwMDAwMDAwMDAwMDAwMDAwMDAwMDAwMDAwMDAwMDAwMDAwMDAwMDAwMDAwMDAwMBgYGBgYGBgYGBgYGBgYGBgYGBgYGBgYGBgYGBgYGBgYGBgYGBgYGBgYGBgYGBgYGBgYGBgYGBgYGBgYGBgYGBgYGBgYGBgYGBgYGBgYGBgYGBgYGBgYGBgYGBgYGBgYGBgYGBgYGBgYGBgYGBgYGBgYGBgYGBgYGBgYGBgYGBgYGBgYGBgYGBgYGBgYGBgYGBgYGBgYGCAgICAgICAgICAgICAgICAgICAgICAgICAgICAgICAgICAgICAgICAgICAgICAgICAgICAgICAgICAgICAgICAgICAgICAgICAgICAgICAgICAgICAgICAgICAgICAgICAgICAgICAgICAgICAgICAgICAgICAgICAgICAgICAgICAgICAgICAgICAgICAgICAgICAgICgoKCgoKCgoKCgoKCgoKCgoKCgoKCgoKCgoKCgoKCgoKCgoKCgoKCgoKCgoKCgoKCgoKCgoKCgoKCgoKCgoKCgoKCgoKCgoKCgoKCgoKCgoKCgoKCgoKCgoKCgoKCgoKCgoKCgoKCgoKCgoKCgoKCgoKCgoKCgoKCgoKCgoKCgoKCgoKCgoKCgoKCgoKCgoKCgoKCgoKDAwMDAwMDAwMDAwMDAwMDAwMDAwMDAwMDAwMDAwMDAwMDAwMDAwMDAwMDAwMDAwMDAwMDAwMDAwMDAwMDAwMDAwMDAwMDAwMDAwMDAwMDAwMDAwMDAwMDAwMDAwMDAwMDAwMDAwMDAwMDAwMDAwMDAwMDAwMDAwMDAwMDAwMDAwMDAwMDAwMDAwMDAwMDAwMDAwMDAwMBgYGBgYGBgYGBgYGBgYGBgYGBgYGBgYGBgYGBgYGBgYGBgYGBgYGBgYGBgYGBgYGBgYGBgYGBgYGBgYGBgYGBgYGBgYGBgYGBgYGBgYGBgYGBgYGBgYGBgYGBgYGBgYGBgYGBgYGBgYGBgYGBgYGBgYGBgYGBgYGBgYGBgYGBgYGBgYGBgYGBgYGBgYGBgYGBgYGBgYGCAgICAgICAgICAgICAgICAgICAgICAgICAgICAgICAgICAgICAgICAgICAgICAgICAgICAgICAgICAgICAgICAgICAgICAgICAgICAgICAgICAgICAgICAgICAgICAgICAgICAgICAgICAgICAgICAgICAgICAgICAgICAgICAgICAgICAgICAgICAgICAgICAgICAgICgoKCgoKCgoKCgoKCgoKCgoKCgoKCgoKCgoKCgoKCgoKCgoKCgoKCgoKCgoKCgoKCgoKCgoKCgoKCgoKCgoKCgoKCgoKCgoKCgoKCgoKCgoKCgoKCgoKCgoKCgoKCgoKCgoKCgoKCgoKCgoKCgoKCgoKCgoKCgoKCgoKCgoKCgoKCgoKCgoKCgoKCgoKCgoKCgoKCgoKDAwMDAwMDAwMDAwMDAwMDAwMDAwMDAwMDAwMDAwMDAwMDAwMDAwMDAwMDAwMDAwMDAwMDAwMDAwMDAwMDAwMDAwMDAwMDAwMDAwMDAwMDAwMDAwMDAwMDAwMDAwMDAwMDAwMDAwMDAwMDAwMDAwMDAwMDAwMDAwMDAwMDAwMDAwMDAwMDAwMDAwMDAwMDAwMDAwMDAwM",
          "dtype": "i1"
         },
         "y": {
          "bdata": "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",
          "dtype": "i2"
         },
         "z": {
          "bdata": "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",
          "dtype": "f8"
         }
        },
        {
         "marker": {
          "color": {
           "bdata": "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",
           "dtype": "f8"
          },
          "colorbar": {
           "title": {
            "text": "Toughness"
           }
          },
          "colorscale": [
           [
            0,
            "#440154"
           ],
           [
            0.1111111111111111,
            "#482878"
           ],
           [
            0.2222222222222222,
            "#3e4989"
           ],
           [
            0.3333333333333333,
            "#31688e"
           ],
           [
            0.4444444444444444,
            "#26828e"
           ],
           [
            0.5555555555555556,
            "#1f9e89"
           ],
           [
            0.6666666666666666,
            "#35b779"
           ],
           [
            0.7777777777777778,
            "#6ece58"
           ],
           [
            0.8888888888888888,
            "#b5de2b"
           ],
           [
            1,
            "#fde725"
           ]
          ],
          "size": 10
         },
         "mode": "markers",
         "name": "(n, t, theta)",
         "scene": "scene3",
         "type": "scatter3d",
         "x": {
          "bdata": "BgYGBgYGBgYGBgYGBgYGBgYGBgYGBgYGBgYGBgYGBgYGBgYGBgYGBgYGBgYGBgYGBgYGBgYGBgYGBgYGBgYGBgYGBgYGBgYGBgYGBgYGBgYGBgYGBgYGBgYGBgYGBgYGBgYGBgYGBgYGBgYGBgYGBgYGBgYGBgYGBgYGBgYGBgYGBgYGBgYGBgYGBgYGBgYGBgYGBgYGCAgICAgICAgICAgICAgICAgICAgICAgICAgICAgICAgICAgICAgICAgICAgICAgICAgICAgICAgICAgICAgICAgICAgICAgICAgICAgICAgICAgICAgICAgICAgICAgICAgICAgICAgICAgICAgICAgICAgICAgICAgICAgICAgICAgICAgICAgICAgICAgICAgICAgICgoKCgoKCgoKCgoKCgoKCgoKCgoKCgoKCgoKCgoKCgoKCgoKCgoKCgoKCgoKCgoKCgoKCgoKCgoKCgoKCgoKCgoKCgoKCgoKCgoKCgoKCgoKCgoKCgoKCgoKCgoKCgoKCgoKCgoKCgoKCgoKCgoKCgoKCgoKCgoKCgoKCgoKCgoKCgoKCgoKCgoKCgoKCgoKCgoKCgoKDAwMDAwMDAwMDAwMDAwMDAwMDAwMDAwMDAwMDAwMDAwMDAwMDAwMDAwMDAwMDAwMDAwMDAwMDAwMDAwMDAwMDAwMDAwMDAwMDAwMDAwMDAwMDAwMDAwMDAwMDAwMDAwMDAwMDAwMDAwMDAwMDAwMDAwMDAwMDAwMDAwMDAwMDAwMDAwMDAwMDAwMDAwMDAwMDAwMDAwMBgYGBgYGBgYGBgYGBgYGBgYGBgYGBgYGBgYGBgYGBgYGBgYGBgYGBgYGBgYGBgYGBgYGBgYGBgYGBgYGBgYGBgYGBgYGBgYGBgYGBgYGBgYGBgYGBgYGBgYGBgYGBgYGBgYGBgYGBgYGBgYGBgYGBgYGBgYGBgYGBgYGBgYGBgYGBgYGBgYGBgYGBgYGBgYGBgYGBgYGCAgICAgICAgICAgICAgICAgICAgICAgICAgICAgICAgICAgICAgICAgICAgICAgICAgICAgICAgICAgICAgICAgICAgICAgICAgICAgICAgICAgICAgICAgICAgICAgICAgICAgICAgICAgICAgICAgICAgICAgICAgICAgICAgICAgICAgICAgICAgICAgICAgICAgICgoKCgoKCgoKCgoKCgoKCgoKCgoKCgoKCgoKCgoKCgoKCgoKCgoKCgoKCgoKCgoKCgoKCgoKCgoKCgoKCgoKCgoKCgoKCgoKCgoKCgoKCgoKCgoKCgoKCgoKCgoKCgoKCgoKCgoKCgoKCgoKCgoKCgoKCgoKCgoKCgoKCgoKCgoKCgoKCgoKCgoKCgoKCgoKCgoKCgoKDAwMDAwMDAwMDAwMDAwMDAwMDAwMDAwMDAwMDAwMDAwMDAwMDAwMDAwMDAwMDAwMDAwMDAwMDAwMDAwMDAwMDAwMDAwMDAwMDAwMDAwMDAwMDAwMDAwMDAwMDAwMDAwMDAwMDAwMDAwMDAwMDAwMDAwMDAwMDAwMDAwMDAwMDAwMDAwMDAwMDAwMDAwMDAwMDAwMDAwMBgYGBgYGBgYGBgYGBgYGBgYGBgYGBgYGBgYGBgYGBgYGBgYGBgYGBgYGBgYGBgYGBgYGBgYGBgYGBgYGBgYGBgYGBgYGBgYGBgYGBgYGBgYGBgYGBgYGBgYGBgYGBgYGBgYGBgYGBgYGBgYGBgYGBgYGBgYGBgYGBgYGBgYGBgYGBgYGBgYGBgYGBgYGBgYGBgYGBgYGCAgICAgICAgICAgICAgICAgICAgICAgICAgICAgICAgICAgICAgICAgICAgICAgICAgICAgICAgICAgICAgICAgICAgICAgICAgICAgICAgICAgICAgICAgICAgICAgICAgICAgICAgICAgICAgICAgICAgICAgICAgICAgICAgICAgICAgICAgICAgICAgICAgICAgICgoKCgoKCgoKCgoKCgoKCgoKCgoKCgoKCgoKCgoKCgoKCgoKCgoKCgoKCgoKCgoKCgoKCgoKCgoKCgoKCgoKCgoKCgoKCgoKCgoKCgoKCgoKCgoKCgoKCgoKCgoKCgoKCgoKCgoKCgoKCgoKCgoKCgoKCgoKCgoKCgoKCgoKCgoKCgoKCgoKCgoKCgoKCgoKCgoKCgoKDAwMDAwMDAwMDAwMDAwMDAwMDAwMDAwMDAwMDAwMDAwMDAwMDAwMDAwMDAwMDAwMDAwMDAwMDAwMDAwMDAwMDAwMDAwMDAwMDAwMDAwMDAwMDAwMDAwMDAwMDAwMDAwMDAwMDAwMDAwMDAwMDAwMDAwMDAwMDAwMDAwMDAwMDAwMDAwMDAwMDAwMDAwMDAwMDAwMDAwM",
          "dtype": "i1"
         },
         "y": {
          "bdata": "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",
          "dtype": "f8"
         },
         "z": {
          "bdata": "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",
          "dtype": "i2"
         }
        }
       ],
       "layout": {
        "annotations": [
         {
          "font": {
           "size": 16
          },
          "showarrow": false,
          "text": "Scatter of (n, t, r)",
          "x": 0.14444444444444446,
          "xanchor": "center",
          "xref": "paper",
          "y": 1,
          "yanchor": "bottom",
          "yref": "paper"
         },
         {
          "font": {
           "size": 16
          },
          "showarrow": false,
          "text": "Scatter of (n, theta, r)",
          "x": 0.5,
          "xanchor": "center",
          "xref": "paper",
          "y": 1,
          "yanchor": "bottom",
          "yref": "paper"
         },
         {
          "font": {
           "size": 16
          },
          "showarrow": false,
          "text": "Scatter of (n, t, theta)",
          "x": 0.8555555555555556,
          "xanchor": "center",
          "xref": "paper",
          "y": 1,
          "yanchor": "bottom",
          "yref": "paper"
         }
        ],
        "height": 600,
        "scene": {
         "domain": {
          "x": [
           0,
           0.2888888888888889
          ],
          "y": [
           0,
           1
          ]
         }
        },
        "scene2": {
         "domain": {
          "x": [
           0.35555555555555557,
           0.6444444444444445
          ],
          "y": [
           0,
           1
          ]
         }
        },
        "scene3": {
         "domain": {
          "x": [
           0.7111111111111111,
           1
          ],
          "y": [
           0,
           1
          ]
         }
        },
        "showlegend": false,
        "template": {
         "data": {
          "bar": [
           {
            "error_x": {
             "color": "#2a3f5f"
            },
            "error_y": {
             "color": "#2a3f5f"
            },
            "marker": {
             "line": {
              "color": "#E5ECF6",
              "width": 0.5
             },
             "pattern": {
              "fillmode": "overlay",
              "size": 10,
              "solidity": 0.2
             }
            },
            "type": "bar"
           }
          ],
          "barpolar": [
           {
            "marker": {
             "line": {
              "color": "#E5ECF6",
              "width": 0.5
             },
             "pattern": {
              "fillmode": "overlay",
              "size": 10,
              "solidity": 0.2
             }
            },
            "type": "barpolar"
           }
          ],
          "carpet": [
           {
            "aaxis": {
             "endlinecolor": "#2a3f5f",
             "gridcolor": "white",
             "linecolor": "white",
             "minorgridcolor": "white",
             "startlinecolor": "#2a3f5f"
            },
            "baxis": {
             "endlinecolor": "#2a3f5f",
             "gridcolor": "white",
             "linecolor": "white",
             "minorgridcolor": "white",
             "startlinecolor": "#2a3f5f"
            },
            "type": "carpet"
           }
          ],
          "choropleth": [
           {
            "colorbar": {
             "outlinewidth": 0,
             "ticks": ""
            },
            "type": "choropleth"
           }
          ],
          "contour": [
           {
            "colorbar": {
             "outlinewidth": 0,
             "ticks": ""
            },
            "colorscale": [
             [
              0,
              "#0d0887"
             ],
             [
              0.1111111111111111,
              "#46039f"
             ],
             [
              0.2222222222222222,
              "#7201a8"
             ],
             [
              0.3333333333333333,
              "#9c179e"
             ],
             [
              0.4444444444444444,
              "#bd3786"
             ],
             [
              0.5555555555555556,
              "#d8576b"
             ],
             [
              0.6666666666666666,
              "#ed7953"
             ],
             [
              0.7777777777777778,
              "#fb9f3a"
             ],
             [
              0.8888888888888888,
              "#fdca26"
             ],
             [
              1,
              "#f0f921"
             ]
            ],
            "type": "contour"
           }
          ],
          "contourcarpet": [
           {
            "colorbar": {
             "outlinewidth": 0,
             "ticks": ""
            },
            "type": "contourcarpet"
           }
          ],
          "heatmap": [
           {
            "colorbar": {
             "outlinewidth": 0,
             "ticks": ""
            },
            "colorscale": [
             [
              0,
              "#0d0887"
             ],
             [
              0.1111111111111111,
              "#46039f"
             ],
             [
              0.2222222222222222,
              "#7201a8"
             ],
             [
              0.3333333333333333,
              "#9c179e"
             ],
             [
              0.4444444444444444,
              "#bd3786"
             ],
             [
              0.5555555555555556,
              "#d8576b"
             ],
             [
              0.6666666666666666,
              "#ed7953"
             ],
             [
              0.7777777777777778,
              "#fb9f3a"
             ],
             [
              0.8888888888888888,
              "#fdca26"
             ],
             [
              1,
              "#f0f921"
             ]
            ],
            "type": "heatmap"
           }
          ],
          "histogram": [
           {
            "marker": {
             "pattern": {
              "fillmode": "overlay",
              "size": 10,
              "solidity": 0.2
             }
            },
            "type": "histogram"
           }
          ],
          "histogram2d": [
           {
            "colorbar": {
             "outlinewidth": 0,
             "ticks": ""
            },
            "colorscale": [
             [
              0,
              "#0d0887"
             ],
             [
              0.1111111111111111,
              "#46039f"
             ],
             [
              0.2222222222222222,
              "#7201a8"
             ],
             [
              0.3333333333333333,
              "#9c179e"
             ],
             [
              0.4444444444444444,
              "#bd3786"
             ],
             [
              0.5555555555555556,
              "#d8576b"
             ],
             [
              0.6666666666666666,
              "#ed7953"
             ],
             [
              0.7777777777777778,
              "#fb9f3a"
             ],
             [
              0.8888888888888888,
              "#fdca26"
             ],
             [
              1,
              "#f0f921"
             ]
            ],
            "type": "histogram2d"
           }
          ],
          "histogram2dcontour": [
           {
            "colorbar": {
             "outlinewidth": 0,
             "ticks": ""
            },
            "colorscale": [
             [
              0,
              "#0d0887"
             ],
             [
              0.1111111111111111,
              "#46039f"
             ],
             [
              0.2222222222222222,
              "#7201a8"
             ],
             [
              0.3333333333333333,
              "#9c179e"
             ],
             [
              0.4444444444444444,
              "#bd3786"
             ],
             [
              0.5555555555555556,
              "#d8576b"
             ],
             [
              0.6666666666666666,
              "#ed7953"
             ],
             [
              0.7777777777777778,
              "#fb9f3a"
             ],
             [
              0.8888888888888888,
              "#fdca26"
             ],
             [
              1,
              "#f0f921"
             ]
            ],
            "type": "histogram2dcontour"
           }
          ],
          "mesh3d": [
           {
            "colorbar": {
             "outlinewidth": 0,
             "ticks": ""
            },
            "type": "mesh3d"
           }
          ],
          "parcoords": [
           {
            "line": {
             "colorbar": {
              "outlinewidth": 0,
              "ticks": ""
             }
            },
            "type": "parcoords"
           }
          ],
          "pie": [
           {
            "automargin": true,
            "type": "pie"
           }
          ],
          "scatter": [
           {
            "fillpattern": {
             "fillmode": "overlay",
             "size": 10,
             "solidity": 0.2
            },
            "type": "scatter"
           }
          ],
          "scatter3d": [
           {
            "line": {
             "colorbar": {
              "outlinewidth": 0,
              "ticks": ""
             }
            },
            "marker": {
             "colorbar": {
              "outlinewidth": 0,
              "ticks": ""
             }
            },
            "type": "scatter3d"
           }
          ],
          "scattercarpet": [
           {
            "marker": {
             "colorbar": {
              "outlinewidth": 0,
              "ticks": ""
             }
            },
            "type": "scattercarpet"
           }
          ],
          "scattergeo": [
           {
            "marker": {
             "colorbar": {
              "outlinewidth": 0,
              "ticks": ""
             }
            },
            "type": "scattergeo"
           }
          ],
          "scattergl": [
           {
            "marker": {
             "colorbar": {
              "outlinewidth": 0,
              "ticks": ""
             }
            },
            "type": "scattergl"
           }
          ],
          "scattermap": [
           {
            "marker": {
             "colorbar": {
              "outlinewidth": 0,
              "ticks": ""
             }
            },
            "type": "scattermap"
           }
          ],
          "scattermapbox": [
           {
            "marker": {
             "colorbar": {
              "outlinewidth": 0,
              "ticks": ""
             }
            },
            "type": "scattermapbox"
           }
          ],
          "scatterpolar": [
           {
            "marker": {
             "colorbar": {
              "outlinewidth": 0,
              "ticks": ""
             }
            },
            "type": "scatterpolar"
           }
          ],
          "scatterpolargl": [
           {
            "marker": {
             "colorbar": {
              "outlinewidth": 0,
              "ticks": ""
             }
            },
            "type": "scatterpolargl"
           }
          ],
          "scatterternary": [
           {
            "marker": {
             "colorbar": {
              "outlinewidth": 0,
              "ticks": ""
             }
            },
            "type": "scatterternary"
           }
          ],
          "surface": [
           {
            "colorbar": {
             "outlinewidth": 0,
             "ticks": ""
            },
            "colorscale": [
             [
              0,
              "#0d0887"
             ],
             [
              0.1111111111111111,
              "#46039f"
             ],
             [
              0.2222222222222222,
              "#7201a8"
             ],
             [
              0.3333333333333333,
              "#9c179e"
             ],
             [
              0.4444444444444444,
              "#bd3786"
             ],
             [
              0.5555555555555556,
              "#d8576b"
             ],
             [
              0.6666666666666666,
              "#ed7953"
             ],
             [
              0.7777777777777778,
              "#fb9f3a"
             ],
             [
              0.8888888888888888,
              "#fdca26"
             ],
             [
              1,
              "#f0f921"
             ]
            ],
            "type": "surface"
           }
          ],
          "table": [
           {
            "cells": {
             "fill": {
              "color": "#EBF0F8"
             },
             "line": {
              "color": "white"
             }
            },
            "header": {
             "fill": {
              "color": "#C8D4E3"
             },
             "line": {
              "color": "white"
             }
            },
            "type": "table"
           }
          ]
         },
         "layout": {
          "annotationdefaults": {
           "arrowcolor": "#2a3f5f",
           "arrowhead": 0,
           "arrowwidth": 1
          },
          "autotypenumbers": "strict",
          "coloraxis": {
           "colorbar": {
            "outlinewidth": 0,
            "ticks": ""
           }
          },
          "colorscale": {
           "diverging": [
            [
             0,
             "#8e0152"
            ],
            [
             0.1,
             "#c51b7d"
            ],
            [
             0.2,
             "#de77ae"
            ],
            [
             0.3,
             "#f1b6da"
            ],
            [
             0.4,
             "#fde0ef"
            ],
            [
             0.5,
             "#f7f7f7"
            ],
            [
             0.6,
             "#e6f5d0"
            ],
            [
             0.7,
             "#b8e186"
            ],
            [
             0.8,
             "#7fbc41"
            ],
            [
             0.9,
             "#4d9221"
            ],
            [
             1,
             "#276419"
            ]
           ],
           "sequential": [
            [
             0,
             "#0d0887"
            ],
            [
             0.1111111111111111,
             "#46039f"
            ],
            [
             0.2222222222222222,
             "#7201a8"
            ],
            [
             0.3333333333333333,
             "#9c179e"
            ],
            [
             0.4444444444444444,
             "#bd3786"
            ],
            [
             0.5555555555555556,
             "#d8576b"
            ],
            [
             0.6666666666666666,
             "#ed7953"
            ],
            [
             0.7777777777777778,
             "#fb9f3a"
            ],
            [
             0.8888888888888888,
             "#fdca26"
            ],
            [
             1,
             "#f0f921"
            ]
           ],
           "sequentialminus": [
            [
             0,
             "#0d0887"
            ],
            [
             0.1111111111111111,
             "#46039f"
            ],
            [
             0.2222222222222222,
             "#7201a8"
            ],
            [
             0.3333333333333333,
             "#9c179e"
            ],
            [
             0.4444444444444444,
             "#bd3786"
            ],
            [
             0.5555555555555556,
             "#d8576b"
            ],
            [
             0.6666666666666666,
             "#ed7953"
            ],
            [
             0.7777777777777778,
             "#fb9f3a"
            ],
            [
             0.8888888888888888,
             "#fdca26"
            ],
            [
             1,
             "#f0f921"
            ]
           ]
          },
          "colorway": [
           "#636efa",
           "#EF553B",
           "#00cc96",
           "#ab63fa",
           "#FFA15A",
           "#19d3f3",
           "#FF6692",
           "#B6E880",
           "#FF97FF",
           "#FECB52"
          ],
          "font": {
           "color": "#2a3f5f"
          },
          "geo": {
           "bgcolor": "white",
           "lakecolor": "white",
           "landcolor": "#E5ECF6",
           "showlakes": true,
           "showland": true,
           "subunitcolor": "white"
          },
          "hoverlabel": {
           "align": "left"
          },
          "hovermode": "closest",
          "mapbox": {
           "style": "light"
          },
          "paper_bgcolor": "white",
          "plot_bgcolor": "#E5ECF6",
          "polar": {
           "angularaxis": {
            "gridcolor": "white",
            "linecolor": "white",
            "ticks": ""
           },
           "bgcolor": "#E5ECF6",
           "radialaxis": {
            "gridcolor": "white",
            "linecolor": "white",
            "ticks": ""
           }
          },
          "scene": {
           "xaxis": {
            "backgroundcolor": "#E5ECF6",
            "gridcolor": "white",
            "gridwidth": 2,
            "linecolor": "white",
            "showbackground": true,
            "ticks": "",
            "zerolinecolor": "white"
           },
           "yaxis": {
            "backgroundcolor": "#E5ECF6",
            "gridcolor": "white",
            "gridwidth": 2,
            "linecolor": "white",
            "showbackground": true,
            "ticks": "",
            "zerolinecolor": "white"
           },
           "zaxis": {
            "backgroundcolor": "#E5ECF6",
            "gridcolor": "white",
            "gridwidth": 2,
            "linecolor": "white",
            "showbackground": true,
            "ticks": "",
            "zerolinecolor": "white"
           }
          },
          "shapedefaults": {
           "line": {
            "color": "#2a3f5f"
           }
          },
          "ternary": {
           "aaxis": {
            "gridcolor": "white",
            "linecolor": "white",
            "ticks": ""
           },
           "baxis": {
            "gridcolor": "white",
            "linecolor": "white",
            "ticks": ""
           },
           "bgcolor": "#E5ECF6",
           "caxis": {
            "gridcolor": "white",
            "linecolor": "white",
            "ticks": ""
           }
          },
          "title": {
           "x": 0.05
          },
          "xaxis": {
           "automargin": true,
           "gridcolor": "white",
           "linecolor": "white",
           "ticks": "",
           "title": {
            "standoff": 15
           },
           "zerolinecolor": "white",
           "zerolinewidth": 2
          },
          "yaxis": {
           "automargin": true,
           "gridcolor": "white",
           "linecolor": "white",
           "ticks": "",
           "title": {
            "standoff": 15
           },
           "zerolinecolor": "white",
           "zerolinewidth": 2
          }
         }
        },
        "title": {
         "text": "3D Scatter Subplots"
        }
       }
      }
     },
     "metadata": {},
     "output_type": "display_data"
    }
   ],
   "source": [
    "import plotly.express as px\n",
    "\n",
    "# Create subplots\n",
    "fig = make_subplots(\n",
    "    rows=1, cols=3,\n",
    "    specs=[[{'type': 'scatter3d'}, {'type': 'scatter3d'}, {'type': 'scatter3d'}]],\n",
    "    subplot_titles=(\"Scatter of (n, t, r)\", \"Scatter of (n, theta, r)\", \"Scatter of (n, t, theta)\")\n",
    ")\n",
    "\n",
    "# Scatter of (n, t, r)\n",
    "scatter1 = go.Scatter3d(\n",
    "    x=df['n'],\n",
    "    y=df['t'],\n",
    "    z=df['r'],\n",
    "    mode='markers',\n",
    "    marker=dict(size=10, color=df['toughness'], colorscale='viridis', colorbar=dict(title=\"Toughness\")),\n",
    "    name=\"(n, t, r)\"\n",
    ")\n",
    "fig.add_trace(scatter1, row=1, col=1)\n",
    "\n",
    "# Scatter of (n, theta, r)\n",
    "scatter2 = go.Scatter3d(\n",
    "    x=df['n'],\n",
    "    y=df['theta'],\n",
    "    z=df['r'],\n",
    "    mode='markers',\n",
    "    marker=dict(size=10, color=df['toughness'], colorscale='viridis', colorbar=dict(title=\"Toughness\")),\n",
    "    name=\"(n, theta, r)\"\n",
    ")\n",
    "fig.add_trace(scatter2, row=1, col=2)\n",
    "\n",
    "# Scatter of (n, t, theta)\n",
    "scatter3 = go.Scatter3d(\n",
    "    x=df['n'],\n",
    "    y=df['t'],\n",
    "    z=df['theta'],\n",
    "    mode='markers',\n",
    "    marker=dict(size=10, color=df['toughness'], colorscale='viridis', colorbar=dict(title=\"Toughness\")),\n",
    "    name=\"(n, t, theta)\"\n",
    ")\n",
    "fig.add_trace(scatter3, row=1, col=3)\n",
    "\n",
    "# Update layout\n",
    "fig.update_layout(\n",
    "    title_text=\"3D Scatter Subplots\",\n",
    "    height=600,\n",
    "    showlegend=False\n",
    ")\n",
    "\n",
    "# Show the plot\n",
    "fig.show()\n",
    "\n"
   ]
  },
  {
   "cell_type": "code",
   "execution_count": 13,
   "metadata": {},
   "outputs": [],
   "source": [
    "from botorch.models.gp_regression import SingleTaskGP\n",
    "from botorch.fit import fit_gpytorch_mll\n",
    "from gpytorch.mlls.exact_marginal_log_likelihood import ExactMarginalLogLikelihood\n",
    "\n",
    "## Build Model A class \n",
    "class GaussianProcessModel:\n",
    "    def __init__(self, x_train, y_train, bounds):\n",
    "        self.x_train = x_train\n",
    "        self.y_train = y_train\n",
    "        self.bounds = bounds\n",
    "        self.model = self._fit_gp_model()\n",
    "    \n",
    "    def _fit_gp_model(self):\n",
    "        model = SingleTaskGP(self.x_train, self.y_train)\n",
    "        mll = ExactMarginalLogLikelihood(model.likelihood, model)\n",
    "        fit_gpytorch_mll(mll)\n",
    "        return model\n",
    "\n",
    "    def gp_evaluate(self, test_x):\n",
    "        self.model.eval()\n",
    "        with torch.no_grad():\n",
    "            posterior = self.model.posterior(test_x)\n",
    "        mean = posterior.mean.squeeze().numpy()\n",
    "        var = posterior.variance.squeeze().numpy()\n",
    "        return mean, var\n"
   ]
  },
  {
   "cell_type": "code",
   "execution_count": 14,
   "metadata": {},
   "outputs": [],
   "source": [
    "class Plotting:\n",
    "    def __init__(self, gp_model:GaussianProcessModel, variable_combinations):\n",
    "        self.gp_model = gp_model\n",
    "        self.x_train = gp_model.x_train\n",
    "        self.y_train = gp_model.y_train\n",
    "        self.bounds = gp_model.bounds\n",
    "        self.variable_combinations = variable_combinations\n",
    "        self.dtype = dtype\n",
    "\n",
    "    def generate_input_data(self, A, B, c, d, combination):\n",
    "        if combination == ('n', 'r', 't'):\n",
    "            return torch.tensor(np.array([[A[i, j], d, B[i, j], c] for i in range(A.shape[0]) for j in range(A.shape[1])]), dtype=self.dtype)\n",
    "        elif combination == ('theta', 'r', 't'):\n",
    "            return torch.tensor(np.array([[d, A[i, j], B[i, j], c] for i in range(A.shape[0]) for j in range(A.shape[1])]), dtype=self.dtype)\n",
    "        elif combination == ('n', 't', 'theta'):\n",
    "            return torch.tensor(np.array([[A[i, j], c, B[i, j], d] for i in range(A.shape[0]) for j in range(A.shape[1])]), dtype=self.dtype)\n",
    "\n",
    "    def create_slices(self, c_slices, d_fixed, combination):\n",
    "        num_points = 20\n",
    "        a = np.linspace(0, 1, num_points)\n",
    "        b = np.linspace(0, 1, num_points)\n",
    "        A, B = np.meshgrid(a, b)\n",
    "\n",
    "        store_mean = []\n",
    "        for d in d_fixed:\n",
    "            mean_values = []\n",
    "            for c in c_slices:\n",
    "                input_data = self.generate_input_data(A, B, c, d, combination)\n",
    "                mean, _ = self.gp_model.gp_evaluate(input_data)\n",
    "                mean_values.append(mean.reshape(A.shape))  # Reshape to grid\n",
    "            store_mean.append(mean_values)\n",
    "\n",
    "        return A, B, store_mean\n",
    "    \n",
    "\n",
    "    def sliced_plotting(self, combination, minmax, colormap='Viridis'):\n",
    "        # Create slices for the fixed variable\n",
    "        c_slices = np.linspace(0, 1, 8)\n",
    "        d_fixed = [0, 0.25, 0.5, 0.75, 1.0]  # Fixed value for the other variable\n",
    "\n",
    "        # Create a new figure with subplots for each combination\n",
    "        fig = make_subplots(rows=1, cols=5, subplot_titles=('theta: 0', 'theta: 0.25','theta: 0.5', 'theta: 0.75','theta: 1.0'),\n",
    "                        specs=[[{'type': 'surface'}, {'type': 'surface'},{'type': 'surface'}, {'type': 'surface'}, {'type': 'surface'}]])\n",
    "        global_min = minmax[0].item()\n",
    "        global_max = minmax[1].item()\n",
    "\n",
    "        # Create slices and get mean values\n",
    "        A, B, store_mean = self.create_slices(c_slices, d_fixed, combination)\n",
    "        # Unpack the mean values for each slice\n",
    "        mean_vals1, mean_vals2, mean_vals3, mean_vals4, mean_vals5 = store_mean[0], store_mean[1], store_mean[2], store_mean[3], store_mean[4]  \n",
    "\n",
    "        for i, (c, y_grid1, y_grid2, y_grid3, y_grid4, y_grid5) in enumerate(zip(c_slices, mean_vals1,mean_vals2,mean_vals3,mean_vals4,mean_vals5), start=1):\n",
    "            fig.add_trace(go.Surface(\n",
    "                x=A,\n",
    "                y=B,\n",
    "                z=c * np.ones_like(A),  # Z-coordinate for slicing\n",
    "                surfacecolor=y_grid1,  # Use predicted `y` as contour\n",
    "                colorscale=colormap,\n",
    "                cmin=global_min,\n",
    "                cmax=global_max,\n",
    "                showscale=True if i == 1 else False,  # Show color scale only on the first slice\n",
    "                #   colorbar_x=0.45,\n",
    "                opacity=0.7\n",
    "            ), row=1, col=1)\n",
    "    \n",
    "            fig.add_trace(go.Surface(\n",
    "                x=A,\n",
    "                y=B,\n",
    "                z=c * np.ones_like(A),  # Z-coordinate for slicing\n",
    "                surfacecolor=y_grid2,  # Use predictediance as contour\n",
    "                cmin=global_min,\n",
    "                cmax=global_max,\n",
    "                colorscale=colormap,\n",
    "                showscale=True if i == 1 else False,  # Show color scale only on the first slice\n",
    "                #colorbar_x=0.45,\n",
    "                opacity=0.7\n",
    "            ), row=1, col=2)\n",
    "\n",
    "            fig.add_trace(go.Surface(\n",
    "                x=A,\n",
    "                y=B,\n",
    "                z=c * np.ones_like(A),  # Z-coordinate for slicing\n",
    "                surfacecolor=y_grid3,  # Use predictediance as contour\n",
    "                cmin=global_min,\n",
    "                cmax=global_max,\n",
    "                colorscale=colormap,\n",
    "                showscale=True if i == 1 else False,  # Show color scale only on the first slice\n",
    "                opacity=0.7\n",
    "            ), row=1, col=3)\n",
    "\n",
    "            fig.add_trace(go.Surface(\n",
    "                x=A,\n",
    "                y=B,\n",
    "                z=c * np.ones_like(A),  # Z-coordinate for slicing\n",
    "                surfacecolor=y_grid4,  # Use predictediance as contour\n",
    "                cmin=global_min,\n",
    "                cmax=global_max,\n",
    "                colorscale=colormap,\n",
    "                showscale=True if i == 1 else False,  # Show color scale only on the first slice\n",
    "                opacity=0.7\n",
    "            ), row=1, col=4)\n",
    "\n",
    "            fig.add_trace(go.Surface(\n",
    "                x=A,\n",
    "                y=B,\n",
    "                z=c * np.ones_like(A),  # Z-coordinate for slicing\n",
    "                surfacecolor=y_grid5,  # Use predictediance as contour\n",
    "                cmin=global_min,\n",
    "                cmax=global_max,\n",
    "                colorscale=colormap,\n",
    "                showscale=True if i == 1 else False,  # Show color scale only on the first slice\n",
    "                opacity=0.7\n",
    "            ), row=1, col=5)\n",
    "            \n",
    "        fig.update_layout(\n",
    "            height=400,\n",
    "            width=1300,\n",
    "            margin=dict(l=50, r=50, b=50, t=50),\n",
    "            scene=dict(\n",
    "                xaxis_title=combination[0],\n",
    "                yaxis_title=combination[1],\n",
    "                zaxis_title=combination[2]\n",
    "            ),\n",
    "            scene2=dict(\n",
    "                xaxis_title=combination[0],\n",
    "                yaxis_title=combination[1],\n",
    "                zaxis_title=combination[2]\n",
    "            ),\n",
    "            scene3=dict(\n",
    "                xaxis_title=combination[0],\n",
    "                yaxis_title=combination[1],\n",
    "                zaxis_title=combination[2]\n",
    "            ),\n",
    "            scene4=dict(\n",
    "                xaxis_title=combination[0],\n",
    "                yaxis_title=combination[1],\n",
    "                zaxis_title=combination[2]\n",
    "            ),\n",
    "            scene5=dict(\n",
    "                xaxis_title=combination[0],\n",
    "                yaxis_title=combination[1],\n",
    "                zaxis_title=combination[2]\n",
    "            )\n",
    "        )\n",
    "\n",
    "        fig.show()\n",
    "\n"
   ]
  },
  {
   "cell_type": "code",
   "execution_count": 15,
   "metadata": {},
   "outputs": [
    {
     "data": {
      "application/vnd.plotly.v1+json": {
       "config": {
        "plotlyServerURL": "https://plot.ly"
       },
       "data": [
        {
         "cmax": 51.5426025390625,
         "cmin": 0.28350239992141724,
         "colorscale": [
          [
           0,
           "#440154"
          ],
          [
           0.1111111111111111,
           "#482878"
          ],
          [
           0.2222222222222222,
           "#3e4989"
          ],
          [
           0.3333333333333333,
           "#31688e"
          ],
          [
           0.4444444444444444,
           "#26828e"
          ],
          [
           0.5555555555555556,
           "#1f9e89"
          ],
          [
           0.6666666666666666,
           "#35b779"
          ],
          [
           0.7777777777777778,
           "#6ece58"
          ],
          [
           0.8888888888888888,
           "#b5de2b"
          ],
          [
           1,
           "#fde725"
          ]
         ],
         "opacity": 0.7,
         "scene": "scene",
         "showscale": true,
         "surfacecolor": {
          "bdata": "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",
          "dtype": "f4",
          "shape": "20, 20"
         },
         "type": "surface",
         "x": {
          "bdata": "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",
          "dtype": "f8",
          "shape": "20, 20"
         },
         "y": {
          "bdata": "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",
          "dtype": "f8",
          "shape": "20, 20"
         },
         "z": {
          "bdata": "AAAAAAAAAAAAAAAAAAAAAAAAAAAAAAAAAAAAAAAAAAAAAAAAAAAAAAAAAAAAAAAAAAAAAAAAAAAAAAAAAAAAAAAAAAAAAAAAAAAAAAAAAAAAAAAAAAAAAAAAAAAAAAAAAAAAAAAAAAAAAAAAAAAAAAAAAAAAAAAAAAAAAAAAAAAAAAAAAAAAAAAAAAAAAAAAAAAAAAAAAAAAAAAAAAAAAAAAAAAAAAAAAAAAAAAAAAAAAAAAAAAAAAAAAAAAAAAAAAAAAAAAAAAAAAAAAAAAAAAAAAAAAAAAAAAAAAAAAAAAAAAAAAAAAAAAAAAAAAAAAAAAAAAAAAAAAAAAAAAAAAAAAAAAAAAAAAAAAAAAAAAAAAAAAAAAAAAAAAAAAAAAAAAAAAAAAAAAAAAAAAAAAAAAAAAAAAAAAAAAAAAAAAAAAAAAAAAAAAAAAAAAAAAAAAAAAAAAAAAAAAAAAAAAAAAAAAAAAAAAAAAAAAAAAAAAAAAAAAAAAAAAAAAAAAAAAAAAAAAAAAAAAAAAAAAAAAAAAAAAAAAAAAAAAAAAAAAAAAAAAAAAAAAAAAAAAAAAAAAAAAAAAAAAAAAAAAAAAAAAAAAAAAAAAAAAAAAAAAAAAAAAAAAAAAAAAAAAAAAAAAAAAAAAAAAAAAAAAAAAAAAAAAAAAAAAAAAAAAAAAAAAAAAAAAAAAAAAAAAAAAAAAAAAAAAAAAAAAAAAAAAAAAAAAAAAAAAAAAAAAAAAAAAAAAAAAAAAAAAAAAAAAAAAAAAAAAAAAAAAAAAAAAAAAAAAAAAAAAAAAAAAAAAAAAAAAAAAAAAAAAAAAAAAAAAAAAAAAAAAAAAAAAAAAAAAAAAAAAAAAAAAAAAAAAAAAAAAAAAAAAAAAAAAAAAAAAAAAAAAAAAAAAAAAAAAAAAAAAAAAAAAAAAAAAAAAAAAAAAAAAAAAAAAAAAAAAAAAAAAAAAAAAAAAAAAAAAAAAAAAAAAAAAAAAAAAAAAAAAAAAAAAAAAAAAAAAAAAAAAAAAAAAAAAAAAAAAAAAAAAAAAAAAAAAAAAAAAAAAAAAAAAAAAAAAAAAAAAAAAAAAAAAAAAAAAAAAAAAAAAAAAAAAAAAAAAAAAAAAAAAAAAAAAAAAAAAAAAAAAAAAAAAAAAAAAAAAAAAAAAAAAAAAAAAAAAAAAAAAAAAAAAAAAAAAAAAAAAAAAAAAAAAAAAAAAAAAAAAAAAAAAAAAAAAAAAAAAAAAAAAAAAAAAAAAAAAAAAAAAAAAAAAAAAAAAAAAAAAAAAAAAAAAAAAAAAAAAAAAAAAAAAAAAAAAAAAAAAAAAAAAAAAAAAAAAAAAAAAAAAAAAAAAAAAAAAAAAAAAAAAAAAAAAAAAAAAAAAAAAAAAAAAAAAAAAAAAAAAAAAAAAAAAAAAAAAAAAAAAAAAAAAAAAAAAAAAAAAAAAAAAAAAAAAAAAAAAAAAAAAAAAAAAAAAAAAAAAAAAAAAAAAAAAAAAAAAAAAAAAAAAAAAAAAAAAAAAAAAAAAAAAAAAAAAAAAAAAAAAAAAAAAAAAAAAAAAAAAAAAAAAAAAAAAAAAAAAAAAAAAAAAAAAAAAAAAAAAAAAAAAAAAAAAAAAAAAAAAAAAAAAAAAAAAAAAAAAAAAAAAAAAAAAAAAAAAAAAAAAAAAAAAAAAAAAAAAAAAAAAAAAAAAAAAAAAAAAAAAAAAAAAAAAAAAAAAAAAAAAAAAAAAAAAAAAAAAAAAAAAAAAAAAAAAAAAAAAAAAAAAAAAAAAAAAAAAAAAAAAAAAAAAAAAAAAAAAAAAAAAAAAAAAAAAAAAAAAAAAAAAAAAAAAAAAAAAAAAAAAAAAAAAAAAAAAAAAAAAAAAAAAAAAAAAAAAAAAAAAAAAAAAAAAAAAAAAAAAAAAAAAAAAAAAAAAAAAAAAAAAAAAAAAAAAAAAAAAAAAAAAAAAAAAAAAAAAAAAAAAAAAAAAAAAAAAAAAAAAAAAAAAAAAAAAAAAAAAAAAAAAAAAAAAAAAAAAAAAAAAAAAAAAAAAAAAAAAAAAAAAAAAAAAAAAAAAAAAAAAAAAAAAAAAAAAAAAAAAAAAAAAAAAAAAAAAAAAAAAAAAAAAAAAAAAAAAAAAAAAAAAAAAAAAAAAAAAAAAAAAAAAAAAAAAAAAAAAAAAAAAAAAAAAAAAAAAAAAAAAAAAAAAAAAAAAAAAAAAAAAAAAAAAAAAAAAAAAAAAAAAAAAAAAAAAAAAAAAAAAAAAAAAAAAAAAAAAAAAAAAAAAAAAAAAAAAAAAAAAAAAAAAAAAAAAAAAAAAAAAAAAAAAAAAAAAAAAAAAAAAAAAAAAAAAAAAAAAAAAAAAAAAAAAAAAAAAAAAAAAAAAAAAAAAAAAAAAAAAAAAAAAAAAAAAAAAAAAAAAAAAAAAAAAAAAAAAAAAAAAAAAAAAAAAAAAAAAAAAAAAAAAAAAAAAAAAAAAAAAAAAAAAAAAAAAAAAAAAAAAAAAAAAAAAAAAAAAAAAAAAAAAAAAAAAAAAAAAAAAAAAAAAAAAAAAAAAAAAAAAAAAAAAAAAAAAAAAAAAAAAAAAAAAAAAAAAAAAAAAAAAAAAAAAAAAAAAAAAAAAAAAAAAAAAAAAAAAAAAAAAAAAAAAAAAAAAAAAAAAAAAAAAAAAAAAAAAAAAAAAAAAAAAAAAAAAAAAAAAAAAAAAAAAAAAAAAAAAAAAAAAAAAAAAAAAAAAAAAAAAAAAAAAAAAAAAAAAAAAAAAAAAAAAAAAAAAAAAAAAAAAAAAAAAAAAAAAAAAAAAAAAAAAAAAAAAAAAAAAAAAAAAAAAAAAAAAAAAAAAAAAAAAAAAAAAAAAAAAAAAAAAAAAAAAAAAAAAAAAAAAAAAAAAAAAAAAAAAAAAAAAAAAAAAAAAAAAAAAAAAAAAAAAAAAAAAAAAAAAAAAAAAAAAAAAAAAAAAAAAAAAAAAAAAAAAAAAAAAAAAAAAAAAAAAAAAAAAAAAAAAAAAAAAAAAAAAAAAAAAAAAAAAAAAAAAAAAAAAAAAAAAAAAAAAAAAAAAAAAAAAAAAAAAAAAAAAAAAAAAAAAAAAAAAAAAAAAAAAAAAAAAAAAAAAAAAAAAAAAAAAAAAAAAAAAAAAAAAAAAAAAAAAAAAAAAAAAAAAAAAAAAAAAAAAAAAAAAAAAAAAAAAAAAAAAAAAAAAAAAAAAAAAAAAAAAAAAAAAAAAAAAAAAAAAAAAAAAAAAAAAAAAAAAAAAAAAAAAAAAAAAAAAAAAAAAAAAAAAAAAAAAAAAAAAAAAAAAAAAAAAAAAAAAAAAAAAAAAAAAAAAAAAAAAAAAAAAAAAAAAAAAAAAAAAAAAAAAAAAAAAAAAAAAAAAAAAAAAAAAAAAAAAAAAAAAAAAAAAAAAAAAAAAAAAAAAAAAAAAAAAAAAAAAAAAAAAAAAAAAAAAAAAAAAAAAAAAAAAAAAAAAAAAAAAAAAAAAAAAAAAAAAAAAAAAAAAAAAAAAAAAAAAAAAAAAAAAAAAAAAAAAAAAAAAAAAAAAAAAAAAAAAAAAAAAAAAAAAAAAAAAAAAAAAAAAAAAAAAAAAAAAAAAAAAAAAAAAAAAAAAAAAAAAAAAAAAAAAAAAAAAAAAAAAAAAAAAAAAAAAAAAAAAAAAAAAAAAAAAAAAAAAAAAAAAAAAAAAAAAAAAAAAAAAAAAAAAAAAAAAAAAAAAAAAAAAAAAAAAAAAAAAAAAAAAAAAAAAAAAAAAAAAAAAAAAAAAAAAAAAAAAAAAAAAAAAAAAAAAAAAAAAAAAAAAAAAAAAAAAAAAAAAAAAAAAAAAAAAAAAAAAAAAAAAAAAAAAAAAAAAAAAAAAAAAAAAAAAAAAAAAAAAAAAAAAAAAAAAAAAAAAAAAAAAAAAAAAAAAAAAAAAAAAAAAAAAAAAAAAAAAAAAAAAAAAAAAAAAAAAAAAAAAAAAAAAAAAAAAAAAAAAAAAAAAAAAAAAAAAAAAAAAAAAAAAAAAAAAAAAAAAAAAAAAAAAAAAAAAAAAAAAAAAAAAAAAAAAAAAAAAAAAAAAAAAAAAAAAAAAAAAAAAAAAAAAAAAAAAAAAAAAAAAAAAAAAAAAAAAAAAAAAAAAAAAAAAAAAAAAAAAAAAAAAAAAAAAAAAAAAAAAAAAAAAAAAAAAAAAAAAAAAAAAAAAAAAAAAAAAAAAAAAAAAAAAAAAAAAAAAAAAAAAAAAAAAAAAAAAAAAAAAAAAAAAAAAAAAAAAAAAAAAAAAAAAAAAAAAAAAAAAAAAAAAAAAAAAAAAAAAAAAAAAA=",
          "dtype": "f8",
          "shape": "20, 20"
         }
        },
        {
         "cmax": 51.5426025390625,
         "cmin": 0.28350239992141724,
         "colorscale": [
          [
           0,
           "#440154"
          ],
          [
           0.1111111111111111,
           "#482878"
          ],
          [
           0.2222222222222222,
           "#3e4989"
          ],
          [
           0.3333333333333333,
           "#31688e"
          ],
          [
           0.4444444444444444,
           "#26828e"
          ],
          [
           0.5555555555555556,
           "#1f9e89"
          ],
          [
           0.6666666666666666,
           "#35b779"
          ],
          [
           0.7777777777777778,
           "#6ece58"
          ],
          [
           0.8888888888888888,
           "#b5de2b"
          ],
          [
           1,
           "#fde725"
          ]
         ],
         "opacity": 0.7,
         "scene": "scene2",
         "showscale": true,
         "surfacecolor": {
          "bdata": "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",
          "dtype": "f4",
          "shape": "20, 20"
         },
         "type": "surface",
         "x": {
          "bdata": "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",
          "dtype": "f8",
          "shape": "20, 20"
         },
         "y": {
          "bdata": "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",
          "dtype": "f8",
          "shape": "20, 20"
         },
         "z": {
          "bdata": "AAAAAAAAAAAAAAAAAAAAAAAAAAAAAAAAAAAAAAAAAAAAAAAAAAAAAAAAAAAAAAAAAAAAAAAAAAAAAAAAAAAAAAAAAAAAAAAAAAAAAAAAAAAAAAAAAAAAAAAAAAAAAAAAAAAAAAAAAAAAAAAAAAAAAAAAAAAAAAAAAAAAAAAAAAAAAAAAAAAAAAAAAAAAAAAAAAAAAAAAAAAAAAAAAAAAAAAAAAAAAAAAAAAAAAAAAAAAAAAAAAAAAAAAAAAAAAAAAAAAAAAAAAAAAAAAAAAAAAAAAAAAAAAAAAAAAAAAAAAAAAAAAAAAAAAAAAAAAAAAAAAAAAAAAAAAAAAAAAAAAAAAAAAAAAAAAAAAAAAAAAAAAAAAAAAAAAAAAAAAAAAAAAAAAAAAAAAAAAAAAAAAAAAAAAAAAAAAAAAAAAAAAAAAAAAAAAAAAAAAAAAAAAAAAAAAAAAAAAAAAAAAAAAAAAAAAAAAAAAAAAAAAAAAAAAAAAAAAAAAAAAAAAAAAAAAAAAAAAAAAAAAAAAAAAAAAAAAAAAAAAAAAAAAAAAAAAAAAAAAAAAAAAAAAAAAAAAAAAAAAAAAAAAAAAAAAAAAAAAAAAAAAAAAAAAAAAAAAAAAAAAAAAAAAAAAAAAAAAAAAAAAAAAAAAAAAAAAAAAAAAAAAAAAAAAAAAAAAAAAAAAAAAAAAAAAAAAAAAAAAAAAAAAAAAAAAAAAAAAAAAAAAAAAAAAAAAAAAAAAAAAAAAAAAAAAAAAAAAAAAAAAAAAAAAAAAAAAAAAAAAAAAAAAAAAAAAAAAAAAAAAAAAAAAAAAAAAAAAAAAAAAAAAAAAAAAAAAAAAAAAAAAAAAAAAAAAAAAAAAAAAAAAAAAAAAAAAAAAAAAAAAAAAAAAAAAAAAAAAAAAAAAAAAAAAAAAAAAAAAAAAAAAAAAAAAAAAAAAAAAAAAAAAAAAAAAAAAAAAAAAAAAAAAAAAAAAAAAAAAAAAAAAAAAAAAAAAAAAAAAAAAAAAAAAAAAAAAAAAAAAAAAAAAAAAAAAAAAAAAAAAAAAAAAAAAAAAAAAAAAAAAAAAAAAAAAAAAAAAAAAAAAAAAAAAAAAAAAAAAAAAAAAAAAAAAAAAAAAAAAAAAAAAAAAAAAAAAAAAAAAAAAAAAAAAAAAAAAAAAAAAAAAAAAAAAAAAAAAAAAAAAAAAAAAAAAAAAAAAAAAAAAAAAAAAAAAAAAAAAAAAAAAAAAAAAAAAAAAAAAAAAAAAAAAAAAAAAAAAAAAAAAAAAAAAAAAAAAAAAAAAAAAAAAAAAAAAAAAAAAAAAAAAAAAAAAAAAAAAAAAAAAAAAAAAAAAAAAAAAAAAAAAAAAAAAAAAAAAAAAAAAAAAAAAAAAAAAAAAAAAAAAAAAAAAAAAAAAAAAAAAAAAAAAAAAAAAAAAAAAAAAAAAAAAAAAAAAAAAAAAAAAAAAAAAAAAAAAAAAAAAAAAAAAAAAAAAAAAAAAAAAAAAAAAAAAAAAAAAAAAAAAAAAAAAAAAAAAAAAAAAAAAAAAAAAAAAAAAAAAAAAAAAAAAAAAAAAAAAAAAAAAAAAAAAAAAAAAAAAAAAAAAAAAAAAAAAAAAAAAAAAAAAAAAAAAAAAAAAAAAAAAAAAAAAAAAAAAAAAAAAAAAAAAAAAAAAAAAAAAAAAAAAAAAAAAAAAAAAAAAAAAAAAAAAAAAAAAAAAAAAAAAAAAAAAAAAAAAAAAAAAAAAAAAAAAAAAAAAAAAAAAAAAAAAAAAAAAAAAAAAAAAAAAAAAAAAAAAAAAAAAAAAAAAAAAAAAAAAAAAAAAAAAAAAAAAAAAAAAAAAAAAAAAAAAAAAAAAAAAAAAAAAAAAAAAAAAAAAAAAAAAAAAAAAAAAAAAAAAAAAAAAAAAAAAAAAAAAAAAAAAAAAAAAAAAAAAAAAAAAAAAAAAAAAAAAAAAAAAAAAAAAAAAAAAAAAAAAAAAAAAAAAAAAAAAAAAAAAAAAAAAAAAAAAAAAAAAAAAAAAAAAAAAAAAAAAAAAAAAAAAAAAAAAAAAAAAAAAAAAAAAAAAAAAAAAAAAAAAAAAAAAAAAAAAAAAAAAAAAAAAAAAAAAAAAAAAAAAAAAAAAAAAAAAAAAAAAAAAAAAAAAAAAAAAAAAAAAAAAAAAAAAAAAAAAAAAAAAAAAAAAAAAAAAAAAAAAAAAAAAAAAAAAAAAAAAAAAAAAAAAAAAAAAAAAAAAAAAAAAAAAAAAAAAAAAAAAAAAAAAAAAAAAAAAAAAAAAAAAAAAAAAAAAAAAAAAAAAAAAAAAAAAAAAAAAAAAAAAAAAAAAAAAAAAAAAAAAAAAAAAAAAAAAAAAAAAAAAAAAAAAAAAAAAAAAAAAAAAAAAAAAAAAAAAAAAAAAAAAAAAAAAAAAAAAAAAAAAAAAAAAAAAAAAAAAAAAAAAAAAAAAAAAAAAAAAAAAAAAAAAAAAAAAAAAAAAAAAAAAAAAAAAAAAAAAAAAAAAAAAAAAAAAAAAAAAAAAAAAAAAAAAAAAAAAAAAAAAAAAAAAAAAAAAAAAAAAAAAAAAAAAAAAAAAAAAAAAAAAAAAAAAAAAAAAAAAAAAAAAAAAAAAAAAAAAAAAAAAAAAAAAAAAAAAAAAAAAAAAAAAAAAAAAAAAAAAAAAAAAAAAAAAAAAAAAAAAAAAAAAAAAAAAAAAAAAAAAAAAAAAAAAAAAAAAAAAAAAAAAAAAAAAAAAAAAAAAAAAAAAAAAAAAAAAAAAAAAAAAAAAAAAAAAAAAAAAAAAAAAAAAAAAAAAAAAAAAAAAAAAAAAAAAAAAAAAAAAAAAAAAAAAAAAAAAAAAAAAAAAAAAAAAAAAAAAAAAAAAAAAAAAAAAAAAAAAAAAAAAAAAAAAAAAAAAAAAAAAAAAAAAAAAAAAAAAAAAAAAAAAAAAAAAAAAAAAAAAAAAAAAAAAAAAAAAAAAAAAAAAAAAAAAAAAAAAAAAAAAAAAAAAAAAAAAAAAAAAAAAAAAAAAAAAAAAAAAAAAAAAAAAAAAAAAAAAAAAAAAAAAAAAAAAAAAAAAAAAAAAAAAAAAAAAAAAAAAAAAAAAAAAAAAAAAAAAAAAAAAAAAAAAAAAAAAAAAAAAAAAAAAAAAAAAAAAAAAAAAAAAAAAAAAAAAAAAAAAAAAAAAAAAAAAAAAAAAAAAAAAAAAAAAAAAAAAAAAAAAAAAAAAAAAAAAAAAAAAAAAAAAAAAAAAAAAAAAAAAAAAAAAAAAAAAAAAAAAAAAAAAAAAAAAAAAAAAAAAAAAAAAAAAAAAAAAAAAAAAAAAAAAAAAAAAAAAAAAAAAAAAAAAAAAAAAAAAAAAAAAAAAAAAAAAAAAAAAAAAAAAAAAAAAAAAAAAAAAAAAAAAAAAAAAAAAAAAAAAAAAAAAAAAAAAAAAAAAAAAAAAAAAAAAAAAAAAAAAAAAAAAAAAAAAAAAAAAAAAAAAAAAAAAAAAAAAAAAAAAAAAAAAAAAAAAAAAAAAAAAAAAAAAAAAAAAAAAAAAAAAAAAAAAAAAAAAAAAAAAAAAAAAAAAAAAAAAAAAAAAAAAAAAAAAAAAAAAAAAAAAAAAAAAAAAAAAAAAAAAAAAAAAAAAAAAAAAAAAAAAAAAAAAAAAAAAAAAAAAAAAAAAAAAAAAAAAAAAAAAAAAAAAAAAAAAAAAAAAAAAAAAAAAAAAAAAAAAAAAAAAAAAAAAAAAAAAAAAAAAAAAAAAAAAAAAAAAAAAAAAAAAAAAAAAAAAAAAAAAAAAAAAAAAAAAAAAAAAAAAAAAAAAAAAAAAAAAAAAAAAAAAAAAAAAAAAAAAAAAAAAAAAAAAAAAAAAAAAAAAAAAAAAAAAAAAAAAAAAAAAAAAAAAAAAAAAAAAAAAAAAAAAAAAAAAAAAAAAAAAAAAAAAAAAAAAAAAAAAAAAAAAAAAAAAAAAAAAAAAAAAAAAAAAAAAAAAAAAAAAAAAAAAAAAAAAAAAAAAAAAAAAAAAAAAAAAAAAAAAAAAAAAAAAAAAAAAAAAAAAAAAAAAAAAAAAAAAAAAAAAAAAAAAAAAAAAAAAAAAAAAAAAAAAAAAAAAAAAAAAAAAAAAAAAAAAAAAAAAAAAAAAAAAAAAAAAAAAAAAAAAAAAAAAAAAAAAAAAAAAAAAAAAAAAAAAAAAAAAAAAAAAAAAAAAAAAAAAAAAAAAAAAAAAAAAAAAAAAAAAAAAAAAAAAAAAAAAAAAAAAAAAAAAAAAAAAAAAAAAAAAAAAAAAAAAAAAAAAAAAAAAAAAAAAAAAAAAAAAAAAAAAAAAAA=",
          "dtype": "f8",
          "shape": "20, 20"
         }
        },
        {
         "cmax": 51.5426025390625,
         "cmin": 0.28350239992141724,
         "colorscale": [
          [
           0,
           "#440154"
          ],
          [
           0.1111111111111111,
           "#482878"
          ],
          [
           0.2222222222222222,
           "#3e4989"
          ],
          [
           0.3333333333333333,
           "#31688e"
          ],
          [
           0.4444444444444444,
           "#26828e"
          ],
          [
           0.5555555555555556,
           "#1f9e89"
          ],
          [
           0.6666666666666666,
           "#35b779"
          ],
          [
           0.7777777777777778,
           "#6ece58"
          ],
          [
           0.8888888888888888,
           "#b5de2b"
          ],
          [
           1,
           "#fde725"
          ]
         ],
         "opacity": 0.7,
         "scene": "scene3",
         "showscale": true,
         "surfacecolor": {
          "bdata": "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",
          "dtype": "f4",
          "shape": "20, 20"
         },
         "type": "surface",
         "x": {
          "bdata": "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",
          "dtype": "f8",
          "shape": "20, 20"
         },
         "y": {
          "bdata": "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",
          "dtype": "f8",
          "shape": "20, 20"
         },
         "z": {
          "bdata": "AAAAAAAAAAAAAAAAAAAAAAAAAAAAAAAAAAAAAAAAAAAAAAAAAAAAAAAAAAAAAAAAAAAAAAAAAAAAAAAAAAAAAAAAAAAAAAAAAAAAAAAAAAAAAAAAAAAAAAAAAAAAAAAAAAAAAAAAAAAAAAAAAAAAAAAAAAAAAAAAAAAAAAAAAAAAAAAAAAAAAAAAAAAAAAAAAAAAAAAAAAAAAAAAAAAAAAAAAAAAAAAAAAAAAAAAAAAAAAAAAAAAAAAAAAAAAAAAAAAAAAAAAAAAAAAAAAAAAAAAAAAAAAAAAAAAAAAAAAAAAAAAAAAAAAAAAAAAAAAAAAAAAAAAAAAAAAAAAAAAAAAAAAAAAAAAAAAAAAAAAAAAAAAAAAAAAAAAAAAAAAAAAAAAAAAAAAAAAAAAAAAAAAAAAAAAAAAAAAAAAAAAAAAAAAAAAAAAAAAAAAAAAAAAAAAAAAAAAAAAAAAAAAAAAAAAAAAAAAAAAAAAAAAAAAAAAAAAAAAAAAAAAAAAAAAAAAAAAAAAAAAAAAAAAAAAAAAAAAAAAAAAAAAAAAAAAAAAAAAAAAAAAAAAAAAAAAAAAAAAAAAAAAAAAAAAAAAAAAAAAAAAAAAAAAAAAAAAAAAAAAAAAAAAAAAAAAAAAAAAAAAAAAAAAAAAAAAAAAAAAAAAAAAAAAAAAAAAAAAAAAAAAAAAAAAAAAAAAAAAAAAAAAAAAAAAAAAAAAAAAAAAAAAAAAAAAAAAAAAAAAAAAAAAAAAAAAAAAAAAAAAAAAAAAAAAAAAAAAAAAAAAAAAAAAAAAAAAAAAAAAAAAAAAAAAAAAAAAAAAAAAAAAAAAAAAAAAAAAAAAAAAAAAAAAAAAAAAAAAAAAAAAAAAAAAAAAAAAAAAAAAAAAAAAAAAAAAAAAAAAAAAAAAAAAAAAAAAAAAAAAAAAAAAAAAAAAAAAAAAAAAAAAAAAAAAAAAAAAAAAAAAAAAAAAAAAAAAAAAAAAAAAAAAAAAAAAAAAAAAAAAAAAAAAAAAAAAAAAAAAAAAAAAAAAAAAAAAAAAAAAAAAAAAAAAAAAAAAAAAAAAAAAAAAAAAAAAAAAAAAAAAAAAAAAAAAAAAAAAAAAAAAAAAAAAAAAAAAAAAAAAAAAAAAAAAAAAAAAAAAAAAAAAAAAAAAAAAAAAAAAAAAAAAAAAAAAAAAAAAAAAAAAAAAAAAAAAAAAAAAAAAAAAAAAAAAAAAAAAAAAAAAAAAAAAAAAAAAAAAAAAAAAAAAAAAAAAAAAAAAAAAAAAAAAAAAAAAAAAAAAAAAAAAAAAAAAAAAAAAAAAAAAAAAAAAAAAAAAAAAAAAAAAAAAAAAAAAAAAAAAAAAAAAAAAAAAAAAAAAAAAAAAAAAAAAAAAAAAAAAAAAAAAAAAAAAAAAAAAAAAAAAAAAAAAAAAAAAAAAAAAAAAAAAAAAAAAAAAAAAAAAAAAAAAAAAAAAAAAAAAAAAAAAAAAAAAAAAAAAAAAAAAAAAAAAAAAAAAAAAAAAAAAAAAAAAAAAAAAAAAAAAAAAAAAAAAAAAAAAAAAAAAAAAAAAAAAAAAAAAAAAAAAAAAAAAAAAAAAAAAAAAAAAAAAAAAAAAAAAAAAAAAAAAAAAAAAAAAAAAAAAAAAAAAAAAAAAAAAAAAAAAAAAAAAAAAAAAAAAAAAAAAAAAAAAAAAAAAAAAAAAAAAAAAAAAAAAAAAAAAAAAAAAAAAAAAAAAAAAAAAAAAAAAAAAAAAAAAAAAAAAAAAAAAAAAAAAAAAAAAAAAAAAAAAAAAAAAAAAAAAAAAAAAAAAAAAAAAAAAAAAAAAAAAAAAAAAAAAAAAAAAAAAAAAAAAAAAAAAAAAAAAAAAAAAAAAAAAAAAAAAAAAAAAAAAAAAAAAAAAAAAAAAAAAAAAAAAAAAAAAAAAAAAAAAAAAAAAAAAAAAAAAAAAAAAAAAAAAAAAAAAAAAAAAAAAAAAAAAAAAAAAAAAAAAAAAAAAAAAAAAAAAAAAAAAAAAAAAAAAAAAAAAAAAAAAAAAAAAAAAAAAAAAAAAAAAAAAAAAAAAAAAAAAAAAAAAAAAAAAAAAAAAAAAAAAAAAAAAAAAAAAAAAAAAAAAAAAAAAAAAAAAAAAAAAAAAAAAAAAAAAAAAAAAAAAAAAAAAAAAAAAAAAAAAAAAAAAAAAAAAAAAAAAAAAAAAAAAAAAAAAAAAAAAAAAAAAAAAAAAAAAAAAAAAAAAAAAAAAAAAAAAAAAAAAAAAAAAAAAAAAAAAAAAAAAAAAAAAAAAAAAAAAAAAAAAAAAAAAAAAAAAAAAAAAAAAAAAAAAAAAAAAAAAAAAAAAAAAAAAAAAAAAAAAAAAAAAAAAAAAAAAAAAAAAAAAAAAAAAAAAAAAAAAAAAAAAAAAAAAAAAAAAAAAAAAAAAAAAAAAAAAAAAAAAAAAAAAAAAAAAAAAAAAAAAAAAAAAAAAAAAAAAAAAAAAAAAAAAAAAAAAAAAAAAAAAAAAAAAAAAAAAAAAAAAAAAAAAAAAAAAAAAAAAAAAAAAAAAAAAAAAAAAAAAAAAAAAAAAAAAAAAAAAAAAAAAAAAAAAAAAAAAAAAAAAAAAAAAAAAAAAAAAAAAAAAAAAAAAAAAAAAAAAAAAAAAAAAAAAAAAAAAAAAAAAAAAAAAAAAAAAAAAAAAAAAAAAAAAAAAAAAAAAAAAAAAAAAAAAAAAAAAAAAAAAAAAAAAAAAAAAAAAAAAAAAAAAAAAAAAAAAAAAAAAAAAAAAAAAAAAAAAAAAAAAAAAAAAAAAAAAAAAAAAAAAAAAAAAAAAAAAAAAAAAAAAAAAAAAAAAAAAAAAAAAAAAAAAAAAAAAAAAAAAAAAAAAAAAAAAAAAAAAAAAAAAAAAAAAAAAAAAAAAAAAAAAAAAAAAAAAAAAAAAAAAAAAAAAAAAAAAAAAAAAAAAAAAAAAAAAAAAAAAAAAAAAAAAAAAAAAAAAAAAAAAAAAAAAAAAAAAAAAAAAAAAAAAAAAAAAAAAAAAAAAAAAAAAAAAAAAAAAAAAAAAAAAAAAAAAAAAAAAAAAAAAAAAAAAAAAAAAAAAAAAAAAAAAAAAAAAAAAAAAAAAAAAAAAAAAAAAAAAAAAAAAAAAAAAAAAAAAAAAAAAAAAAAAAAAAAAAAAAAAAAAAAAAAAAAAAAAAAAAAAAAAAAAAAAAAAAAAAAAAAAAAAAAAAAAAAAAAAAAAAAAAAAAAAAAAAAAAAAAAAAAAAAAAAAAAAAAAAAAAAAAAAAAAAAAAAAAAAAAAAAAAAAAAAAAAAAAAAAAAAAAAAAAAAAAAAAAAAAAAAAAAAAAAAAAAAAAAAAAAAAAAAAAAAAAAAAAAAAAAAAAAAAAAAAAAAAAAAAAAAAAAAAAAAAAAAAAAAAAAAAAAAAAAAAAAAAAAAAAAAAAAAAAAAAAAAAAAAAAAAAAAAAAAAAAAAAAAAAAAAAAAAAAAAAAAAAAAAAAAAAAAAAAAAAAAAAAAAAAAAAAAAAAAAAAAAAAAAAAAAAAAAAAAAAAAAAAAAAAAAAAAAAAAAAAAAAAAAAAAAAAAAAAAAAAAAAAAAAAAAAAAAAAAAAAAAAAAAAAAAAAAAAAAAAAAAAAAAAAAAAAAAAAAAAAAAAAAAAAAAAAAAAAAAAAAAAAAAAAAAAAAAAAAAAAAAAAAAAAAAAAAAAAAAAAAAAAAAAAAAAAAAAAAAAAAAAAAAAAAAAAAAAAAAAAAAAAAAAAAAAAAAAAAAAAAAAAAAAAAAAAAAAAAAAAAAAAAAAAAAAAAAAAAAAAAAAAAAAAAAAAAAAAAAAAAAAAAAAAAAAAAAAAAAAAAAAAAAAAAAAAAAAAAAAAAAAAAAAAAAAAAAAAAAAAAAAAAAAAAAAAAAAAAAAAAAAAAAAAAAAAAAAAAAAAAAAAAAAAAAAAAAAAAAAAAAAAAAAAAAAAAAAAAAAAAAAAAAAAAAAAAAAAAAAAAAAAAAAAAAAAAAAAAAAAAAAAAAAAAAAAAAAAAAAAAAAAAAAAAAAAAAAAAAAAAAAAAAAAAAAAAAAAAAAAAAAAAAAAAAAAAAAAAAAAAAAAAAAAAAAAAAAAAAAAAAAAAAAAAAAAAAAAAAAAAAAAAAAAAAAAAAAAAAAAAAAAAAAAAAAAAAAAAAAAAAAAAAAAAAAAAAAAAAAAAAAAAAAAAAAAAAAAAAAAAAAAAAAAAAAAAAAAAAAAAAAAAAAAAAAAAAAAAAAAAAAAAAAAAAAAAAAAAAAAAAAAAAAAAAAAAAAAAAAAAAAAAAAAAAAAAAAAAAAAAAA=",
          "dtype": "f8",
          "shape": "20, 20"
         }
        },
        {
         "cmax": 51.5426025390625,
         "cmin": 0.28350239992141724,
         "colorscale": [
          [
           0,
           "#440154"
          ],
          [
           0.1111111111111111,
           "#482878"
          ],
          [
           0.2222222222222222,
           "#3e4989"
          ],
          [
           0.3333333333333333,
           "#31688e"
          ],
          [
           0.4444444444444444,
           "#26828e"
          ],
          [
           0.5555555555555556,
           "#1f9e89"
          ],
          [
           0.6666666666666666,
           "#35b779"
          ],
          [
           0.7777777777777778,
           "#6ece58"
          ],
          [
           0.8888888888888888,
           "#b5de2b"
          ],
          [
           1,
           "#fde725"
          ]
         ],
         "opacity": 0.7,
         "scene": "scene4",
         "showscale": true,
         "surfacecolor": {
          "bdata": "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",
          "dtype": "f4",
          "shape": "20, 20"
         },
         "type": "surface",
         "x": {
          "bdata": "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",
          "dtype": "f8",
          "shape": "20, 20"
         },
         "y": {
          "bdata": "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",
          "dtype": "f8",
          "shape": "20, 20"
         },
         "z": {
          "bdata": "AAAAAAAAAAAAAAAAAAAAAAAAAAAAAAAAAAAAAAAAAAAAAAAAAAAAAAAAAAAAAAAAAAAAAAAAAAAAAAAAAAAAAAAAAAAAAAAAAAAAAAAAAAAAAAAAAAAAAAAAAAAAAAAAAAAAAAAAAAAAAAAAAAAAAAAAAAAAAAAAAAAAAAAAAAAAAAAAAAAAAAAAAAAAAAAAAAAAAAAAAAAAAAAAAAAAAAAAAAAAAAAAAAAAAAAAAAAAAAAAAAAAAAAAAAAAAAAAAAAAAAAAAAAAAAAAAAAAAAAAAAAAAAAAAAAAAAAAAAAAAAAAAAAAAAAAAAAAAAAAAAAAAAAAAAAAAAAAAAAAAAAAAAAAAAAAAAAAAAAAAAAAAAAAAAAAAAAAAAAAAAAAAAAAAAAAAAAAAAAAAAAAAAAAAAAAAAAAAAAAAAAAAAAAAAAAAAAAAAAAAAAAAAAAAAAAAAAAAAAAAAAAAAAAAAAAAAAAAAAAAAAAAAAAAAAAAAAAAAAAAAAAAAAAAAAAAAAAAAAAAAAAAAAAAAAAAAAAAAAAAAAAAAAAAAAAAAAAAAAAAAAAAAAAAAAAAAAAAAAAAAAAAAAAAAAAAAAAAAAAAAAAAAAAAAAAAAAAAAAAAAAAAAAAAAAAAAAAAAAAAAAAAAAAAAAAAAAAAAAAAAAAAAAAAAAAAAAAAAAAAAAAAAAAAAAAAAAAAAAAAAAAAAAAAAAAAAAAAAAAAAAAAAAAAAAAAAAAAAAAAAAAAAAAAAAAAAAAAAAAAAAAAAAAAAAAAAAAAAAAAAAAAAAAAAAAAAAAAAAAAAAAAAAAAAAAAAAAAAAAAAAAAAAAAAAAAAAAAAAAAAAAAAAAAAAAAAAAAAAAAAAAAAAAAAAAAAAAAAAAAAAAAAAAAAAAAAAAAAAAAAAAAAAAAAAAAAAAAAAAAAAAAAAAAAAAAAAAAAAAAAAAAAAAAAAAAAAAAAAAAAAAAAAAAAAAAAAAAAAAAAAAAAAAAAAAAAAAAAAAAAAAAAAAAAAAAAAAAAAAAAAAAAAAAAAAAAAAAAAAAAAAAAAAAAAAAAAAAAAAAAAAAAAAAAAAAAAAAAAAAAAAAAAAAAAAAAAAAAAAAAAAAAAAAAAAAAAAAAAAAAAAAAAAAAAAAAAAAAAAAAAAAAAAAAAAAAAAAAAAAAAAAAAAAAAAAAAAAAAAAAAAAAAAAAAAAAAAAAAAAAAAAAAAAAAAAAAAAAAAAAAAAAAAAAAAAAAAAAAAAAAAAAAAAAAAAAAAAAAAAAAAAAAAAAAAAAAAAAAAAAAAAAAAAAAAAAAAAAAAAAAAAAAAAAAAAAAAAAAAAAAAAAAAAAAAAAAAAAAAAAAAAAAAAAAAAAAAAAAAAAAAAAAAAAAAAAAAAAAAAAAAAAAAAAAAAAAAAAAAAAAAAAAAAAAAAAAAAAAAAAAAAAAAAAAAAAAAAAAAAAAAAAAAAAAAAAAAAAAAAAAAAAAAAAAAAAAAAAAAAAAAAAAAAAAAAAAAAAAAAAAAAAAAAAAAAAAAAAAAAAAAAAAAAAAAAAAAAAAAAAAAAAAAAAAAAAAAAAAAAAAAAAAAAAAAAAAAAAAAAAAAAAAAAAAAAAAAAAAAAAAAAAAAAAAAAAAAAAAAAAAAAAAAAAAAAAAAAAAAAAAAAAAAAAAAAAAAAAAAAAAAAAAAAAAAAAAAAAAAAAAAAAAAAAAAAAAAAAAAAAAAAAAAAAAAAAAAAAAAAAAAAAAAAAAAAAAAAAAAAAAAAAAAAAAAAAAAAAAAAAAAAAAAAAAAAAAAAAAAAAAAAAAAAAAAAAAAAAAAAAAAAAAAAAAAAAAAAAAAAAAAAAAAAAAAAAAAAAAAAAAAAAAAAAAAAAAAAAAAAAAAAAAAAAAAAAAAAAAAAAAAAAAAAAAAAAAAAAAAAAAAAAAAAAAAAAAAAAAAAAAAAAAAAAAAAAAAAAAAAAAAAAAAAAAAAAAAAAAAAAAAAAAAAAAAAAAAAAAAAAAAAAAAAAAAAAAAAAAAAAAAAAAAAAAAAAAAAAAAAAAAAAAAAAAAAAAAAAAAAAAAAAAAAAAAAAAAAAAAAAAAAAAAAAAAAAAAAAAAAAAAAAAAAAAAAAAAAAAAAAAAAAAAAAAAAAAAAAAAAAAAAAAAAAAAAAAAAAAAAAAAAAAAAAAAAAAAAAAAAAAAAAAAAAAAAAAAAAAAAAAAAAAAAAAAAAAAAAAAAAAAAAAAAAAAAAAAAAAAAAAAAAAAAAAAAAAAAAAAAAAAAAAAAAAAAAAAAAAAAAAAAAAAAAAAAAAAAAAAAAAAAAAAAAAAAAAAAAAAAAAAAAAAAAAAAAAAAAAAAAAAAAAAAAAAAAAAAAAAAAAAAAAAAAAAAAAAAAAAAAAAAAAAAAAAAAAAAAAAAAAAAAAAAAAAAAAAAAAAAAAAAAAAAAAAAAAAAAAAAAAAAAAAAAAAAAAAAAAAAAAAAAAAAAAAAAAAAAAAAAAAAAAAAAAAAAAAAAAAAAAAAAAAAAAAAAAAAAAAAAAAAAAAAAAAAAAAAAAAAAAAAAAAAAAAAAAAAAAAAAAAAAAAAAAAAAAAAAAAAAAAAAAAAAAAAAAAAAAAAAAAAAAAAAAAAAAAAAAAAAAAAAAAAAAAAAAAAAAAAAAAAAAAAAAAAAAAAAAAAAAAAAAAAAAAAAAAAAAAAAAAAAAAAAAAAAAAAAAAAAAAAAAAAAAAAAAAAAAAAAAAAAAAAAAAAAAAAAAAAAAAAAAAAAAAAAAAAAAAAAAAAAAAAAAAAAAAAAAAAAAAAAAAAAAAAAAAAAAAAAAAAAAAAAAAAAAAAAAAAAAAAAAAAAAAAAAAAAAAAAAAAAAAAAAAAAAAAAAAAAAAAAAAAAAAAAAAAAAAAAAAAAAAAAAAAAAAAAAAAAAAAAAAAAAAAAAAAAAAAAAAAAAAAAAAAAAAAAAAAAAAAAAAAAAAAAAAAAAAAAAAAAAAAAAAAAAAAAAAAAAAAAAAAAAAAAAAAAAAAAAAAAAAAAAAAAAAAAAAAAAAAAAAAAAAAAAAAAAAAAAAAAAAAAAAAAAAAAAAAAAAAAAAAAAAAAAAAAAAAAAAAAAAAAAAAAAAAAAAAAAAAAAAAAAAAAAAAAAAAAAAAAAAAAAAAAAAAAAAAAAAAAAAAAAAAAAAAAAAAAAAAAAAAAAAAAAAAAAAAAAAAAAAAAAAAAAAAAAAAAAAAAAAAAAAAAAAAAAAAAAAAAAAAAAAAAAAAAAAAAAAAAAAAAAAAAAAAAAAAAAAAAAAAAAAAAAAAAAAAAAAAAAAAAAAAAAAAAAAAAAAAAAAAAAAAAAAAAAAAAAAAAAAAAAAAAAAAAAAAAAAAAAAAAAAAAAAAAAAAAAAAAAAAAAAAAAAAAAAAAAAAAAAAAAAAAAAAAAAAAAAAAAAAAAAAAAAAAAAAAAAAAAAAAAAAAAAAAAAAAAAAAAAAAAAAAAAAAAAAAAAAAAAAAAAAAAAAAAAAAAAAAAAAAAAAAAAAAAAAAAAAAAAAAAAAAAAAAAAAAAAAAAAAAAAAAAAAAAAAAAAAAAAAAAAAAAAAAAAAAAAAAAAAAAAAAAAAAAAAAAAAAAAAAAAAAAAAAAAAAAAAAAAAAAAAAAAAAAAAAAAAAAAAAAAAAAAAAAAAAAAAAAAAAAAAAAAAAAAAAAAAAAAAAAAAAAAAAAAAAAAAAAAAAAAAAAAAAAAAAAAAAAAAAAAAAAAAAAAAAAAAAAAAAAAAAAAAAAAAAAAAAAAAAAAAAAAAAAAAAAAAAAAAAAAAAAAAAAAAAAAAAAAAAAAAAAAAAAAAAAAAAAAAAAAAAAAAAAAAAAAAAAAAAAAAAAAAAAAAAAAAAAAAAAAAAAAAAAAAAAAAAAAAAAAAAAAAAAAAAAAAAAAAAAAAAAAAAAAAAAAAAAAAAAAAAAAAAAAAAAAAAAAAAAAAAAAAAAAAAAAAAAAAAAAAAAAAAAAAAAAAAAAAAAAAAAAAAAAAAAAAAAAAAAAAAAAAAAAAAAAAAAAAAAAAAAAAAAAAAAAAAAAAAAAAAAAAAAAAAAAAAAAAAAAAAAAAAAAAAAAAAAAAAAAAAAAAAAAAAAAAAAAAAAAAAAAAAAAAAAAAAAAAAAAAAAAAAAAAAAAAAAAAAAAAAAAAAAAAAAAAAAAAAAAAAAAAAAAAAAAAAAAAAAAAAAAAAAAAAAAAAAAAAAAAAAAAAAAAAAAAAAAAAAAAAAAAAAAAAAAAAAAAAAAAAAAAAAAAAAAAAAAAAAAAAAAAAAAAAAAAAAAAAAAAAAAAAAAAAAAAAA=",
          "dtype": "f8",
          "shape": "20, 20"
         }
        },
        {
         "cmax": 51.5426025390625,
         "cmin": 0.28350239992141724,
         "colorscale": [
          [
           0,
           "#440154"
          ],
          [
           0.1111111111111111,
           "#482878"
          ],
          [
           0.2222222222222222,
           "#3e4989"
          ],
          [
           0.3333333333333333,
           "#31688e"
          ],
          [
           0.4444444444444444,
           "#26828e"
          ],
          [
           0.5555555555555556,
           "#1f9e89"
          ],
          [
           0.6666666666666666,
           "#35b779"
          ],
          [
           0.7777777777777778,
           "#6ece58"
          ],
          [
           0.8888888888888888,
           "#b5de2b"
          ],
          [
           1,
           "#fde725"
          ]
         ],
         "opacity": 0.7,
         "scene": "scene5",
         "showscale": true,
         "surfacecolor": {
          "bdata": "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",
          "dtype": "f4",
          "shape": "20, 20"
         },
         "type": "surface",
         "x": {
          "bdata": "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",
          "dtype": "f8",
          "shape": "20, 20"
         },
         "y": {
          "bdata": "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",
          "dtype": "f8",
          "shape": "20, 20"
         },
         "z": {
          "bdata": "AAAAAAAAAAAAAAAAAAAAAAAAAAAAAAAAAAAAAAAAAAAAAAAAAAAAAAAAAAAAAAAAAAAAAAAAAAAAAAAAAAAAAAAAAAAAAAAAAAAAAAAAAAAAAAAAAAAAAAAAAAAAAAAAAAAAAAAAAAAAAAAAAAAAAAAAAAAAAAAAAAAAAAAAAAAAAAAAAAAAAAAAAAAAAAAAAAAAAAAAAAAAAAAAAAAAAAAAAAAAAAAAAAAAAAAAAAAAAAAAAAAAAAAAAAAAAAAAAAAAAAAAAAAAAAAAAAAAAAAAAAAAAAAAAAAAAAAAAAAAAAAAAAAAAAAAAAAAAAAAAAAAAAAAAAAAAAAAAAAAAAAAAAAAAAAAAAAAAAAAAAAAAAAAAAAAAAAAAAAAAAAAAAAAAAAAAAAAAAAAAAAAAAAAAAAAAAAAAAAAAAAAAAAAAAAAAAAAAAAAAAAAAAAAAAAAAAAAAAAAAAAAAAAAAAAAAAAAAAAAAAAAAAAAAAAAAAAAAAAAAAAAAAAAAAAAAAAAAAAAAAAAAAAAAAAAAAAAAAAAAAAAAAAAAAAAAAAAAAAAAAAAAAAAAAAAAAAAAAAAAAAAAAAAAAAAAAAAAAAAAAAAAAAAAAAAAAAAAAAAAAAAAAAAAAAAAAAAAAAAAAAAAAAAAAAAAAAAAAAAAAAAAAAAAAAAAAAAAAAAAAAAAAAAAAAAAAAAAAAAAAAAAAAAAAAAAAAAAAAAAAAAAAAAAAAAAAAAAAAAAAAAAAAAAAAAAAAAAAAAAAAAAAAAAAAAAAAAAAAAAAAAAAAAAAAAAAAAAAAAAAAAAAAAAAAAAAAAAAAAAAAAAAAAAAAAAAAAAAAAAAAAAAAAAAAAAAAAAAAAAAAAAAAAAAAAAAAAAAAAAAAAAAAAAAAAAAAAAAAAAAAAAAAAAAAAAAAAAAAAAAAAAAAAAAAAAAAAAAAAAAAAAAAAAAAAAAAAAAAAAAAAAAAAAAAAAAAAAAAAAAAAAAAAAAAAAAAAAAAAAAAAAAAAAAAAAAAAAAAAAAAAAAAAAAAAAAAAAAAAAAAAAAAAAAAAAAAAAAAAAAAAAAAAAAAAAAAAAAAAAAAAAAAAAAAAAAAAAAAAAAAAAAAAAAAAAAAAAAAAAAAAAAAAAAAAAAAAAAAAAAAAAAAAAAAAAAAAAAAAAAAAAAAAAAAAAAAAAAAAAAAAAAAAAAAAAAAAAAAAAAAAAAAAAAAAAAAAAAAAAAAAAAAAAAAAAAAAAAAAAAAAAAAAAAAAAAAAAAAAAAAAAAAAAAAAAAAAAAAAAAAAAAAAAAAAAAAAAAAAAAAAAAAAAAAAAAAAAAAAAAAAAAAAAAAAAAAAAAAAAAAAAAAAAAAAAAAAAAAAAAAAAAAAAAAAAAAAAAAAAAAAAAAAAAAAAAAAAAAAAAAAAAAAAAAAAAAAAAAAAAAAAAAAAAAAAAAAAAAAAAAAAAAAAAAAAAAAAAAAAAAAAAAAAAAAAAAAAAAAAAAAAAAAAAAAAAAAAAAAAAAAAAAAAAAAAAAAAAAAAAAAAAAAAAAAAAAAAAAAAAAAAAAAAAAAAAAAAAAAAAAAAAAAAAAAAAAAAAAAAAAAAAAAAAAAAAAAAAAAAAAAAAAAAAAAAAAAAAAAAAAAAAAAAAAAAAAAAAAAAAAAAAAAAAAAAAAAAAAAAAAAAAAAAAAAAAAAAAAAAAAAAAAAAAAAAAAAAAAAAAAAAAAAAAAAAAAAAAAAAAAAAAAAAAAAAAAAAAAAAAAAAAAAAAAAAAAAAAAAAAAAAAAAAAAAAAAAAAAAAAAAAAAAAAAAAAAAAAAAAAAAAAAAAAAAAAAAAAAAAAAAAAAAAAAAAAAAAAAAAAAAAAAAAAAAAAAAAAAAAAAAAAAAAAAAAAAAAAAAAAAAAAAAAAAAAAAAAAAAAAAAAAAAAAAAAAAAAAAAAAAAAAAAAAAAAAAAAAAAAAAAAAAAAAAAAAAAAAAAAAAAAAAAAAAAAAAAAAAAAAAAAAAAAAAAAAAAAAAAAAAAAAAAAAAAAAAAAAAAAAAAAAAAAAAAAAAAAAAAAAAAAAAAAAAAAAAAAAAAAAAAAAAAAAAAAAAAAAAAAAAAAAAAAAAAAAAAAAAAAAAAAAAAAAAAAAAAAAAAAAAAAAAAAAAAAAAAAAAAAAAAAAAAAAAAAAAAAAAAAAAAAAAAAAAAAAAAAAAAAAAAAAAAAAAAAAAAAAAAAAAAAAAAAAAAAAAAAAAAAAAAAAAAAAAAAAAAAAAAAAAAAAAAAAAAAAAAAAAAAAAAAAAAAAAAAAAAAAAAAAAAAAAAAAAAAAAAAAAAAAAAAAAAAAAAAAAAAAAAAAAAAAAAAAAAAAAAAAAAAAAAAAAAAAAAAAAAAAAAAAAAAAAAAAAAAAAAAAAAAAAAAAAAAAAAAAAAAAAAAAAAAAAAAAAAAAAAAAAAAAAAAAAAAAAAAAAAAAAAAAAAAAAAAAAAAAAAAAAAAAAAAAAAAAAAAAAAAAAAAAAAAAAAAAAAAAAAAAAAAAAAAAAAAAAAAAAAAAAAAAAAAAAAAAAAAAAAAAAAAAAAAAAAAAAAAAAAAAAAAAAAAAAAAAAAAAAAAAAAAAAAAAAAAAAAAAAAAAAAAAAAAAAAAAAAAAAAAAAAAAAAAAAAAAAAAAAAAAAAAAAAAAAAAAAAAAAAAAAAAAAAAAAAAAAAAAAAAAAAAAAAAAAAAAAAAAAAAAAAAAAAAAAAAAAAAAAAAAAAAAAAAAAAAAAAAAAAAAAAAAAAAAAAAAAAAAAAAAAAAAAAAAAAAAAAAAAAAAAAAAAAAAAAAAAAAAAAAAAAAAAAAAAAAAAAAAAAAAAAAAAAAAAAAAAAAAAAAAAAAAAAAAAAAAAAAAAAAAAAAAAAAAAAAAAAAAAAAAAAAAAAAAAAAAAAAAAAAAAAAAAAAAAAAAAAAAAAAAAAAAAAAAAAAAAAAAAAAAAAAAAAAAAAAAAAAAAAAAAAAAAAAAAAAAAAAAAAAAAAAAAAAAAAAAAAAAAAAAAAAAAAAAAAAAAAAAAAAAAAAAAAAAAAAAAAAAAAAAAAAAAAAAAAAAAAAAAAAAAAAAAAAAAAAAAAAAAAAAAAAAAAAAAAAAAAAAAAAAAAAAAAAAAAAAAAAAAAAAAAAAAAAAAAAAAAAAAAAAAAAAAAAAAAAAAAAAAAAAAAAAAAAAAAAAAAAAAAAAAAAAAAAAAAAAAAAAAAAAAAAAAAAAAAAAAAAAAAAAAAAAAAAAAAAAAAAAAAAAAAAAAAAAAAAAAAAAAAAAAAAAAAAAAAAAAAAAAAAAAAAAAAAAAAAAAAAAAAAAAAAAAAAAAAAAAAAAAAAAAAAAAAAAAAAAAAAAAAAAAAAAAAAAAAAAAAAAAAAAAAAAAAAAAAAAAAAAAAAAAAAAAAAAAAAAAAAAAAAAAAAAAAAAAAAAAAAAAAAAAAAAAAAAAAAAAAAAAAAAAAAAAAAAAAAAAAAAAAAAAAAAAAAAAAAAAAAAAAAAAAAAAAAAAAAAAAAAAAAAAAAAAAAAAAAAAAAAAAAAAAAAAAAAAAAAAAAAAAAAAAAAAAAAAAAAAAAAAAAAAAAAAAAAAAAAAAAAAAAAAAAAAAAAAAAAAAAAAAAAAAAAAAAAAAAAAAAAAAAAAAAAAAAAAAAAAAAAAAAAAAAAAAAAAAAAAAAAAAAAAAAAAAAAAAAAAAAAAAAAAAAAAAAAAAAAAAAAAAAAAAAAAAAAAAAAAAAAAAAAAAAAAAAAAAAAAAAAAAAAAAAAAAAAAAAAAAAAAAAAAAAAAAAAAAAAAAAAAAAAAAAAAAAAAAAAAAAAAAAAAAAAAAAAAAAAAAAAAAAAAAAAAAAAAAAAAAAAAAAAAAAAAAAAAAAAAAAAAAAAAAAAAAAAAAAAAAAAAAAAAAAAAAAAAAAAAAAAAAAAAAAAAAAAAAAAAAAAAAAAAAAAAAAAAAAAAAAAAAAAAAAAAAAAAAAAAAAAAAAAAAAAAAAAAAAAAAAAAAAAAAAAAAAAAAAAAAAAAAAAAAAAAAAAAAAAAAAAAAAAAAAAAAAAAAAAAAAAAAAAAAAAAAAAAAAAAAAAAAAAAAAAAAAAAAAAAAAAAAAAAAAAAAAAAAAAAAAAAAAAAAAAAAAAAAAAAAAAAAAAAAAAAAAAAAAAAAAAAAAAAAAAAAAAAAAAAAAAAAAAAAAAAAAAAAAAAAAAAAAAAAAAAAAAAAAAAAAAAAAAAAAAAAAAAAAAAAAAAAAAAAAAAAAAAAAAAAAAAAAAAAAAAAAAAAAAAAAAAAAAAAAAAAAAA=",
          "dtype": "f8",
          "shape": "20, 20"
         }
        },
        {
         "cmax": 51.5426025390625,
         "cmin": 0.28350239992141724,
         "colorscale": [
          [
           0,
           "#440154"
          ],
          [
           0.1111111111111111,
           "#482878"
          ],
          [
           0.2222222222222222,
           "#3e4989"
          ],
          [
           0.3333333333333333,
           "#31688e"
          ],
          [
           0.4444444444444444,
           "#26828e"
          ],
          [
           0.5555555555555556,
           "#1f9e89"
          ],
          [
           0.6666666666666666,
           "#35b779"
          ],
          [
           0.7777777777777778,
           "#6ece58"
          ],
          [
           0.8888888888888888,
           "#b5de2b"
          ],
          [
           1,
           "#fde725"
          ]
         ],
         "opacity": 0.7,
         "scene": "scene",
         "showscale": false,
         "surfacecolor": {
          "bdata": "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",
          "dtype": "f4",
          "shape": "20, 20"
         },
         "type": "surface",
         "x": {
          "bdata": "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",
          "dtype": "f8",
          "shape": "20, 20"
         },
         "y": {
          "bdata": "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",
          "dtype": "f8",
          "shape": "20, 20"
         },
         "z": {
          "bdata": "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",
          "dtype": "f8",
          "shape": "20, 20"
         }
        },
        {
         "cmax": 51.5426025390625,
         "cmin": 0.28350239992141724,
         "colorscale": [
          [
           0,
           "#440154"
          ],
          [
           0.1111111111111111,
           "#482878"
          ],
          [
           0.2222222222222222,
           "#3e4989"
          ],
          [
           0.3333333333333333,
           "#31688e"
          ],
          [
           0.4444444444444444,
           "#26828e"
          ],
          [
           0.5555555555555556,
           "#1f9e89"
          ],
          [
           0.6666666666666666,
           "#35b779"
          ],
          [
           0.7777777777777778,
           "#6ece58"
          ],
          [
           0.8888888888888888,
           "#b5de2b"
          ],
          [
           1,
           "#fde725"
          ]
         ],
         "opacity": 0.7,
         "scene": "scene2",
         "showscale": false,
         "surfacecolor": {
          "bdata": "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",
          "dtype": "f4",
          "shape": "20, 20"
         },
         "type": "surface",
         "x": {
          "bdata": "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",
          "dtype": "f8",
          "shape": "20, 20"
         },
         "y": {
          "bdata": "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",
          "dtype": "f8",
          "shape": "20, 20"
         },
         "z": {
          "bdata": "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",
          "dtype": "f8",
          "shape": "20, 20"
         }
        },
        {
         "cmax": 51.5426025390625,
         "cmin": 0.28350239992141724,
         "colorscale": [
          [
           0,
           "#440154"
          ],
          [
           0.1111111111111111,
           "#482878"
          ],
          [
           0.2222222222222222,
           "#3e4989"
          ],
          [
           0.3333333333333333,
           "#31688e"
          ],
          [
           0.4444444444444444,
           "#26828e"
          ],
          [
           0.5555555555555556,
           "#1f9e89"
          ],
          [
           0.6666666666666666,
           "#35b779"
          ],
          [
           0.7777777777777778,
           "#6ece58"
          ],
          [
           0.8888888888888888,
           "#b5de2b"
          ],
          [
           1,
           "#fde725"
          ]
         ],
         "opacity": 0.7,
         "scene": "scene3",
         "showscale": false,
         "surfacecolor": {
          "bdata": "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",
          "dtype": "f4",
          "shape": "20, 20"
         },
         "type": "surface",
         "x": {
          "bdata": "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",
          "dtype": "f8",
          "shape": "20, 20"
         },
         "y": {
          "bdata": "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",
          "dtype": "f8",
          "shape": "20, 20"
         },
         "z": {
          "bdata": "kiRJkiRJwj+SJEmSJEnCP5IkSZIkScI/kiRJkiRJwj+SJEmSJEnCP5IkSZIkScI/kiRJkiRJwj+SJEmSJEnCP5IkSZIkScI/kiRJkiRJwj+SJEmSJEnCP5IkSZIkScI/kiRJkiRJwj+SJEmSJEnCP5IkSZIkScI/kiRJkiRJwj+SJEmSJEnCP5IkSZIkScI/kiRJkiRJwj+SJEmSJEnCP5IkSZIkScI/kiRJkiRJwj+SJEmSJEnCP5IkSZIkScI/kiRJkiRJwj+SJEmSJEnCP5IkSZIkScI/kiRJkiRJwj+SJEmSJEnCP5IkSZIkScI/kiRJkiRJwj+SJEmSJEnCP5IkSZIkScI/kiRJkiRJwj+SJEmSJEnCP5IkSZIkScI/kiRJkiRJwj+SJEmSJEnCP5IkSZIkScI/kiRJkiRJwj+SJEmSJEnCP5IkSZIkScI/kiRJkiRJwj+SJEmSJEnCP5IkSZIkScI/kiRJkiRJwj+SJEmSJEnCP5IkSZIkScI/kiRJkiRJwj+SJEmSJEnCP5IkSZIkScI/kiRJkiRJwj+SJEmSJEnCP5IkSZIkScI/kiRJkiRJwj+SJEmSJEnCP5IkSZIkScI/kiRJkiRJwj+SJEmSJEnCP5IkSZIkScI/kiRJkiRJwj+SJEmSJEnCP5IkSZIkScI/kiRJkiRJwj+SJEmSJEnCP5IkSZIkScI/kiRJkiRJwj+SJEmSJEnCP5IkSZIkScI/kiRJkiRJwj+SJEmSJEnCP5IkSZIkScI/kiRJkiRJwj+SJEmSJEnCP5IkSZIkScI/kiRJkiRJwj+SJEmSJEnCP5IkSZIkScI/kiRJkiRJwj+SJEmSJEnCP5IkSZIkScI/kiRJkiRJwj+SJEmSJEnCP5IkSZIkScI/kiRJkiRJwj+SJEmSJEnCP5IkSZIkScI/kiRJkiRJwj+SJEmSJEnCP5IkSZIkScI/kiRJkiRJwj+SJEmSJEnCP5IkSZIkScI/kiRJkiRJwj+SJEmSJEnCP5IkSZIkScI/kiRJkiRJwj+SJEmSJEnCP5IkSZIkScI/kiRJkiRJwj+SJEmSJEnCP5IkSZIkScI/kiRJkiRJwj+SJEmSJEnCP5IkSZIkScI/kiRJkiRJwj+SJEmSJEnCP5IkSZIkScI/kiRJkiRJwj+SJEmSJEnCP5IkSZIkScI/kiRJkiRJwj+SJEmSJEnCP5IkSZIkScI/kiRJkiRJwj+SJEmSJEnCP5IkSZIkScI/kiRJkiRJwj+SJEmSJEnCP5IkSZIkScI/kiRJkiRJwj+SJEmSJEnCP5IkSZIkScI/kiRJkiRJwj+SJEmSJEnCP5IkSZIkScI/kiRJkiRJwj+SJEmSJEnCP5IkSZIkScI/kiRJkiRJwj+SJEmSJEnCP5IkSZIkScI/kiRJkiRJwj+SJEmSJEnCP5IkSZIkScI/kiRJkiRJwj+SJEmSJEnCP5IkSZIkScI/kiRJkiRJwj+SJEmSJEnCP5IkSZIkScI/kiRJkiRJwj+SJEmSJEnCP5IkSZIkScI/kiRJkiRJwj+SJEmSJEnCP5IkSZIkScI/kiRJkiRJwj+SJEmSJEnCP5IkSZIkScI/kiRJkiRJwj+SJEmSJEnCP5IkSZIkScI/kiRJkiRJwj+SJEmSJEnCP5IkSZIkScI/kiRJkiRJwj+SJEmSJEnCP5IkSZIkScI/kiRJkiRJwj+SJEmSJEnCP5IkSZIkScI/kiRJkiRJwj+SJEmSJEnCP5IkSZIkScI/kiRJkiRJwj+SJEmSJEnCP5IkSZIkScI/kiRJkiRJwj+SJEmSJEnCP5IkSZIkScI/kiRJkiRJwj+SJEmSJEnCP5IkSZIkScI/kiRJkiRJwj+SJEmSJEnCP5IkSZIkScI/kiRJkiRJwj+SJEmSJEnCP5IkSZIkScI/kiRJkiRJwj+SJEmSJEnCP5IkSZIkScI/kiRJkiRJwj+SJEmSJEnCP5IkSZIkScI/kiRJkiRJwj+SJEmSJEnCP5IkSZIkScI/kiRJkiRJwj+SJEmSJEnCP5IkSZIkScI/kiRJkiRJwj+SJEmSJEnCP5IkSZIkScI/kiRJkiRJwj+SJEmSJEnCP5IkSZIkScI/kiRJkiRJwj+SJEmSJEnCP5IkSZIkScI/kiRJkiRJwj+SJEmSJEnCP5IkSZIkScI/kiRJkiRJwj+SJEmSJEnCP5IkSZIkScI/kiRJkiRJwj+SJEmSJEnCP5IkSZIkScI/kiRJkiRJwj+SJEmSJEnCP5IkSZIkScI/kiRJkiRJwj+SJEmSJEnCP5IkSZIkScI/kiRJkiRJwj+SJEmSJEnCP5IkSZIkScI/kiRJkiRJwj+SJEmSJEnCP5IkSZIkScI/kiRJkiRJwj+SJEmSJEnCP5IkSZIkScI/kiRJkiRJwj+SJEmSJEnCP5IkSZIkScI/kiRJkiRJwj+SJEmSJEnCP5IkSZIkScI/kiRJkiRJwj+SJEmSJEnCP5IkSZIkScI/kiRJkiRJwj+SJEmSJEnCP5IkSZIkScI/kiRJkiRJwj+SJEmSJEnCP5IkSZIkScI/kiRJkiRJwj+SJEmSJEnCP5IkSZIkScI/kiRJkiRJwj+SJEmSJEnCP5IkSZIkScI/kiRJkiRJwj+SJEmSJEnCP5IkSZIkScI/kiRJkiRJwj+SJEmSJEnCP5IkSZIkScI/kiRJkiRJwj+SJEmSJEnCP5IkSZIkScI/kiRJkiRJwj+SJEmSJEnCP5IkSZIkScI/kiRJkiRJwj+SJEmSJEnCP5IkSZIkScI/kiRJkiRJwj+SJEmSJEnCP5IkSZIkScI/kiRJkiRJwj+SJEmSJEnCP5IkSZIkScI/kiRJkiRJwj+SJEmSJEnCP5IkSZIkScI/kiRJkiRJwj+SJEmSJEnCP5IkSZIkScI/kiRJkiRJwj+SJEmSJEnCP5IkSZIkScI/kiRJkiRJwj+SJEmSJEnCP5IkSZIkScI/kiRJkiRJwj+SJEmSJEnCP5IkSZIkScI/kiRJkiRJwj+SJEmSJEnCP5IkSZIkScI/kiRJkiRJwj+SJEmSJEnCP5IkSZIkScI/kiRJkiRJwj+SJEmSJEnCP5IkSZIkScI/kiRJkiRJwj+SJEmSJEnCP5IkSZIkScI/kiRJkiRJwj+SJEmSJEnCP5IkSZIkScI/kiRJkiRJwj+SJEmSJEnCP5IkSZIkScI/kiRJkiRJwj+SJEmSJEnCP5IkSZIkScI/kiRJkiRJwj+SJEmSJEnCP5IkSZIkScI/kiRJkiRJwj+SJEmSJEnCP5IkSZIkScI/kiRJkiRJwj+SJEmSJEnCP5IkSZIkScI/kiRJkiRJwj+SJEmSJEnCP5IkSZIkScI/kiRJkiRJwj+SJEmSJEnCP5IkSZIkScI/kiRJkiRJwj+SJEmSJEnCP5IkSZIkScI/kiRJkiRJwj+SJEmSJEnCP5IkSZIkScI/kiRJkiRJwj+SJEmSJEnCP5IkSZIkScI/kiRJkiRJwj+SJEmSJEnCP5IkSZIkScI/kiRJkiRJwj+SJEmSJEnCP5IkSZIkScI/kiRJkiRJwj+SJEmSJEnCP5IkSZIkScI/kiRJkiRJwj+SJEmSJEnCP5IkSZIkScI/kiRJkiRJwj+SJEmSJEnCP5IkSZIkScI/kiRJkiRJwj+SJEmSJEnCP5IkSZIkScI/kiRJkiRJwj+SJEmSJEnCP5IkSZIkScI/kiRJkiRJwj+SJEmSJEnCP5IkSZIkScI/kiRJkiRJwj+SJEmSJEnCP5IkSZIkScI/kiRJkiRJwj+SJEmSJEnCP5IkSZIkScI/kiRJkiRJwj+SJEmSJEnCP5IkSZIkScI/kiRJkiRJwj+SJEmSJEnCP5IkSZIkScI/kiRJkiRJwj+SJEmSJEnCP5IkSZIkScI/kiRJkiRJwj+SJEmSJEnCP5IkSZIkScI/kiRJkiRJwj+SJEmSJEnCP5IkSZIkScI/kiRJkiRJwj+SJEmSJEnCP5IkSZIkScI/kiRJkiRJwj+SJEmSJEnCP5IkSZIkScI/kiRJkiRJwj+SJEmSJEnCP5IkSZIkScI/kiRJkiRJwj+SJEmSJEnCP5IkSZIkScI/kiRJkiRJwj+SJEmSJEnCP5IkSZIkScI/kiRJkiRJwj+SJEmSJEnCP5IkSZIkScI/kiRJkiRJwj+SJEmSJEnCP5IkSZIkScI/kiRJkiRJwj+SJEmSJEnCP5IkSZIkScI/kiRJkiRJwj+SJEmSJEnCP5IkSZIkScI/kiRJkiRJwj8=",
          "dtype": "f8",
          "shape": "20, 20"
         }
        },
        {
         "cmax": 51.5426025390625,
         "cmin": 0.28350239992141724,
         "colorscale": [
          [
           0,
           "#440154"
          ],
          [
           0.1111111111111111,
           "#482878"
          ],
          [
           0.2222222222222222,
           "#3e4989"
          ],
          [
           0.3333333333333333,
           "#31688e"
          ],
          [
           0.4444444444444444,
           "#26828e"
          ],
          [
           0.5555555555555556,
           "#1f9e89"
          ],
          [
           0.6666666666666666,
           "#35b779"
          ],
          [
           0.7777777777777778,
           "#6ece58"
          ],
          [
           0.8888888888888888,
           "#b5de2b"
          ],
          [
           1,
           "#fde725"
          ]
         ],
         "opacity": 0.7,
         "scene": "scene4",
         "showscale": false,
         "surfacecolor": {
          "bdata": "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",
          "dtype": "f4",
          "shape": "20, 20"
         },
         "type": "surface",
         "x": {
          "bdata": "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",
          "dtype": "f8",
          "shape": "20, 20"
         },
         "y": {
          "bdata": "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",
          "dtype": "f8",
          "shape": "20, 20"
         },
         "z": {
          "bdata": "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",
          "dtype": "f8",
          "shape": "20, 20"
         }
        },
        {
         "cmax": 51.5426025390625,
         "cmin": 0.28350239992141724,
         "colorscale": [
          [
           0,
           "#440154"
          ],
          [
           0.1111111111111111,
           "#482878"
          ],
          [
           0.2222222222222222,
           "#3e4989"
          ],
          [
           0.3333333333333333,
           "#31688e"
          ],
          [
           0.4444444444444444,
           "#26828e"
          ],
          [
           0.5555555555555556,
           "#1f9e89"
          ],
          [
           0.6666666666666666,
           "#35b779"
          ],
          [
           0.7777777777777778,
           "#6ece58"
          ],
          [
           0.8888888888888888,
           "#b5de2b"
          ],
          [
           1,
           "#fde725"
          ]
         ],
         "opacity": 0.7,
         "scene": "scene5",
         "showscale": false,
         "surfacecolor": {
          "bdata": "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",
          "dtype": "f4",
          "shape": "20, 20"
         },
         "type": "surface",
         "x": {
          "bdata": "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",
          "dtype": "f8",
          "shape": "20, 20"
         },
         "y": {
          "bdata": "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",
          "dtype": "f8",
          "shape": "20, 20"
         },
         "z": {
          "bdata": "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",
          "dtype": "f8",
          "shape": "20, 20"
         }
        },
        {
         "cmax": 51.5426025390625,
         "cmin": 0.28350239992141724,
         "colorscale": [
          [
           0,
           "#440154"
          ],
          [
           0.1111111111111111,
           "#482878"
          ],
          [
           0.2222222222222222,
           "#3e4989"
          ],
          [
           0.3333333333333333,
           "#31688e"
          ],
          [
           0.4444444444444444,
           "#26828e"
          ],
          [
           0.5555555555555556,
           "#1f9e89"
          ],
          [
           0.6666666666666666,
           "#35b779"
          ],
          [
           0.7777777777777778,
           "#6ece58"
          ],
          [
           0.8888888888888888,
           "#b5de2b"
          ],
          [
           1,
           "#fde725"
          ]
         ],
         "opacity": 0.7,
         "scene": "scene",
         "showscale": false,
         "surfacecolor": {
          "bdata": "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",
          "dtype": "f4",
          "shape": "20, 20"
         },
         "type": "surface",
         "x": {
          "bdata": "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",
          "dtype": "f8",
          "shape": "20, 20"
         },
         "y": {
          "bdata": "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",
          "dtype": "f8",
          "shape": "20, 20"
         },
         "z": {
          "bdata": "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",
          "dtype": "f8",
          "shape": "20, 20"
         }
        },
        {
         "cmax": 51.5426025390625,
         "cmin": 0.28350239992141724,
         "colorscale": [
          [
           0,
           "#440154"
          ],
          [
           0.1111111111111111,
           "#482878"
          ],
          [
           0.2222222222222222,
           "#3e4989"
          ],
          [
           0.3333333333333333,
           "#31688e"
          ],
          [
           0.4444444444444444,
           "#26828e"
          ],
          [
           0.5555555555555556,
           "#1f9e89"
          ],
          [
           0.6666666666666666,
           "#35b779"
          ],
          [
           0.7777777777777778,
           "#6ece58"
          ],
          [
           0.8888888888888888,
           "#b5de2b"
          ],
          [
           1,
           "#fde725"
          ]
         ],
         "opacity": 0.7,
         "scene": "scene2",
         "showscale": false,
         "surfacecolor": {
          "bdata": "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",
          "dtype": "f4",
          "shape": "20, 20"
         },
         "type": "surface",
         "x": {
          "bdata": "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",
          "dtype": "f8",
          "shape": "20, 20"
         },
         "y": {
          "bdata": "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",
          "dtype": "f8",
          "shape": "20, 20"
         },
         "z": {
          "bdata": "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",
          "dtype": "f8",
          "shape": "20, 20"
         }
        },
        {
         "cmax": 51.5426025390625,
         "cmin": 0.28350239992141724,
         "colorscale": [
          [
           0,
           "#440154"
          ],
          [
           0.1111111111111111,
           "#482878"
          ],
          [
           0.2222222222222222,
           "#3e4989"
          ],
          [
           0.3333333333333333,
           "#31688e"
          ],
          [
           0.4444444444444444,
           "#26828e"
          ],
          [
           0.5555555555555556,
           "#1f9e89"
          ],
          [
           0.6666666666666666,
           "#35b779"
          ],
          [
           0.7777777777777778,
           "#6ece58"
          ],
          [
           0.8888888888888888,
           "#b5de2b"
          ],
          [
           1,
           "#fde725"
          ]
         ],
         "opacity": 0.7,
         "scene": "scene3",
         "showscale": false,
         "surfacecolor": {
          "bdata": "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",
          "dtype": "f4",
          "shape": "20, 20"
         },
         "type": "surface",
         "x": {
          "bdata": "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",
          "dtype": "f8",
          "shape": "20, 20"
         },
         "y": {
          "bdata": "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",
          "dtype": "f8",
          "shape": "20, 20"
         },
         "z": {
          "bdata": "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",
          "dtype": "f8",
          "shape": "20, 20"
         }
        },
        {
         "cmax": 51.5426025390625,
         "cmin": 0.28350239992141724,
         "colorscale": [
          [
           0,
           "#440154"
          ],
          [
           0.1111111111111111,
           "#482878"
          ],
          [
           0.2222222222222222,
           "#3e4989"
          ],
          [
           0.3333333333333333,
           "#31688e"
          ],
          [
           0.4444444444444444,
           "#26828e"
          ],
          [
           0.5555555555555556,
           "#1f9e89"
          ],
          [
           0.6666666666666666,
           "#35b779"
          ],
          [
           0.7777777777777778,
           "#6ece58"
          ],
          [
           0.8888888888888888,
           "#b5de2b"
          ],
          [
           1,
           "#fde725"
          ]
         ],
         "opacity": 0.7,
         "scene": "scene4",
         "showscale": false,
         "surfacecolor": {
          "bdata": "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",
          "dtype": "f4",
          "shape": "20, 20"
         },
         "type": "surface",
         "x": {
          "bdata": "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",
          "dtype": "f8",
          "shape": "20, 20"
         },
         "y": {
          "bdata": "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",
          "dtype": "f8",
          "shape": "20, 20"
         },
         "z": {
          "bdata": "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",
          "dtype": "f8",
          "shape": "20, 20"
         }
        },
        {
         "cmax": 51.5426025390625,
         "cmin": 0.28350239992141724,
         "colorscale": [
          [
           0,
           "#440154"
          ],
          [
           0.1111111111111111,
           "#482878"
          ],
          [
           0.2222222222222222,
           "#3e4989"
          ],
          [
           0.3333333333333333,
           "#31688e"
          ],
          [
           0.4444444444444444,
           "#26828e"
          ],
          [
           0.5555555555555556,
           "#1f9e89"
          ],
          [
           0.6666666666666666,
           "#35b779"
          ],
          [
           0.7777777777777778,
           "#6ece58"
          ],
          [
           0.8888888888888888,
           "#b5de2b"
          ],
          [
           1,
           "#fde725"
          ]
         ],
         "opacity": 0.7,
         "scene": "scene5",
         "showscale": false,
         "surfacecolor": {
          "bdata": "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",
          "dtype": "f4",
          "shape": "20, 20"
         },
         "type": "surface",
         "x": {
          "bdata": "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",
          "dtype": "f8",
          "shape": "20, 20"
         },
         "y": {
          "bdata": "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",
          "dtype": "f8",
          "shape": "20, 20"
         },
         "z": {
          "bdata": "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",
          "dtype": "f8",
          "shape": "20, 20"
         }
        },
        {
         "cmax": 51.5426025390625,
         "cmin": 0.28350239992141724,
         "colorscale": [
          [
           0,
           "#440154"
          ],
          [
           0.1111111111111111,
           "#482878"
          ],
          [
           0.2222222222222222,
           "#3e4989"
          ],
          [
           0.3333333333333333,
           "#31688e"
          ],
          [
           0.4444444444444444,
           "#26828e"
          ],
          [
           0.5555555555555556,
           "#1f9e89"
          ],
          [
           0.6666666666666666,
           "#35b779"
          ],
          [
           0.7777777777777778,
           "#6ece58"
          ],
          [
           0.8888888888888888,
           "#b5de2b"
          ],
          [
           1,
           "#fde725"
          ]
         ],
         "opacity": 0.7,
         "scene": "scene",
         "showscale": false,
         "surfacecolor": {
          "bdata": "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",
          "dtype": "f4",
          "shape": "20, 20"
         },
         "type": "surface",
         "x": {
          "bdata": "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",
          "dtype": "f8",
          "shape": "20, 20"
         },
         "y": {
          "bdata": "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",
          "dtype": "f8",
          "shape": "20, 20"
         },
         "z": {
          "bdata": "27Zt27Zt2z/btm3btm3bP9u2bdu2bds/27Zt27Zt2z/btm3btm3bP9u2bdu2bds/27Zt27Zt2z/btm3btm3bP9u2bdu2bds/27Zt27Zt2z/btm3btm3bP9u2bdu2bds/27Zt27Zt2z/btm3btm3bP9u2bdu2bds/27Zt27Zt2z/btm3btm3bP9u2bdu2bds/27Zt27Zt2z/btm3btm3bP9u2bdu2bds/27Zt27Zt2z/btm3btm3bP9u2bdu2bds/27Zt27Zt2z/btm3btm3bP9u2bdu2bds/27Zt27Zt2z/btm3btm3bP9u2bdu2bds/27Zt27Zt2z/btm3btm3bP9u2bdu2bds/27Zt27Zt2z/btm3btm3bP9u2bdu2bds/27Zt27Zt2z/btm3btm3bP9u2bdu2bds/27Zt27Zt2z/btm3btm3bP9u2bdu2bds/27Zt27Zt2z/btm3btm3bP9u2bdu2bds/27Zt27Zt2z/btm3btm3bP9u2bdu2bds/27Zt27Zt2z/btm3btm3bP9u2bdu2bds/27Zt27Zt2z/btm3btm3bP9u2bdu2bds/27Zt27Zt2z/btm3btm3bP9u2bdu2bds/27Zt27Zt2z/btm3btm3bP9u2bdu2bds/27Zt27Zt2z/btm3btm3bP9u2bdu2bds/27Zt27Zt2z/btm3btm3bP9u2bdu2bds/27Zt27Zt2z/btm3btm3bP9u2bdu2bds/27Zt27Zt2z/btm3btm3bP9u2bdu2bds/27Zt27Zt2z/btm3btm3bP9u2bdu2bds/27Zt27Zt2z/btm3btm3bP9u2bdu2bds/27Zt27Zt2z/btm3btm3bP9u2bdu2bds/27Zt27Zt2z/btm3btm3bP9u2bdu2bds/27Zt27Zt2z/btm3btm3bP9u2bdu2bds/27Zt27Zt2z/btm3btm3bP9u2bdu2bds/27Zt27Zt2z/btm3btm3bP9u2bdu2bds/27Zt27Zt2z/btm3btm3bP9u2bdu2bds/27Zt27Zt2z/btm3btm3bP9u2bdu2bds/27Zt27Zt2z/btm3btm3bP9u2bdu2bds/27Zt27Zt2z/btm3btm3bP9u2bdu2bds/27Zt27Zt2z/btm3btm3bP9u2bdu2bds/27Zt27Zt2z/btm3btm3bP9u2bdu2bds/27Zt27Zt2z/btm3btm3bP9u2bdu2bds/27Zt27Zt2z/btm3btm3bP9u2bdu2bds/27Zt27Zt2z/btm3btm3bP9u2bdu2bds/27Zt27Zt2z/btm3btm3bP9u2bdu2bds/27Zt27Zt2z/btm3btm3bP9u2bdu2bds/27Zt27Zt2z/btm3btm3bP9u2bdu2bds/27Zt27Zt2z/btm3btm3bP9u2bdu2bds/27Zt27Zt2z/btm3btm3bP9u2bdu2bds/27Zt27Zt2z/btm3btm3bP9u2bdu2bds/27Zt27Zt2z/btm3btm3bP9u2bdu2bds/27Zt27Zt2z/btm3btm3bP9u2bdu2bds/27Zt27Zt2z/btm3btm3bP9u2bdu2bds/27Zt27Zt2z/btm3btm3bP9u2bdu2bds/27Zt27Zt2z/btm3btm3bP9u2bdu2bds/27Zt27Zt2z/btm3btm3bP9u2bdu2bds/27Zt27Zt2z/btm3btm3bP9u2bdu2bds/27Zt27Zt2z/btm3btm3bP9u2bdu2bds/27Zt27Zt2z/btm3btm3bP9u2bdu2bds/27Zt27Zt2z/btm3btm3bP9u2bdu2bds/27Zt27Zt2z/btm3btm3bP9u2bdu2bds/27Zt27Zt2z/btm3btm3bP9u2bdu2bds/27Zt27Zt2z/btm3btm3bP9u2bdu2bds/27Zt27Zt2z/btm3btm3bP9u2bdu2bds/27Zt27Zt2z/btm3btm3bP9u2bdu2bds/27Zt27Zt2z/btm3btm3bP9u2bdu2bds/27Zt27Zt2z/btm3btm3bP9u2bdu2bds/27Zt27Zt2z/btm3btm3bP9u2bdu2bds/27Zt27Zt2z/btm3btm3bP9u2bdu2bds/27Zt27Zt2z/btm3btm3bP9u2bdu2bds/27Zt27Zt2z/btm3btm3bP9u2bdu2bds/27Zt27Zt2z/btm3btm3bP9u2bdu2bds/27Zt27Zt2z/btm3btm3bP9u2bdu2bds/27Zt27Zt2z/btm3btm3bP9u2bdu2bds/27Zt27Zt2z/btm3btm3bP9u2bdu2bds/27Zt27Zt2z/btm3btm3bP9u2bdu2bds/27Zt27Zt2z/btm3btm3bP9u2bdu2bds/27Zt27Zt2z/btm3btm3bP9u2bdu2bds/27Zt27Zt2z/btm3btm3bP9u2bdu2bds/27Zt27Zt2z/btm3btm3bP9u2bdu2bds/27Zt27Zt2z/btm3btm3bP9u2bdu2bds/27Zt27Zt2z/btm3btm3bP9u2bdu2bds/27Zt27Zt2z/btm3btm3bP9u2bdu2bds/27Zt27Zt2z/btm3btm3bP9u2bdu2bds/27Zt27Zt2z/btm3btm3bP9u2bdu2bds/27Zt27Zt2z/btm3btm3bP9u2bdu2bds/27Zt27Zt2z/btm3btm3bP9u2bdu2bds/27Zt27Zt2z/btm3btm3bP9u2bdu2bds/27Zt27Zt2z/btm3btm3bP9u2bdu2bds/27Zt27Zt2z/btm3btm3bP9u2bdu2bds/27Zt27Zt2z/btm3btm3bP9u2bdu2bds/27Zt27Zt2z/btm3btm3bP9u2bdu2bds/27Zt27Zt2z/btm3btm3bP9u2bdu2bds/27Zt27Zt2z/btm3btm3bP9u2bdu2bds/27Zt27Zt2z/btm3btm3bP9u2bdu2bds/27Zt27Zt2z/btm3btm3bP9u2bdu2bds/27Zt27Zt2z/btm3btm3bP9u2bdu2bds/27Zt27Zt2z/btm3btm3bP9u2bdu2bds/27Zt27Zt2z/btm3btm3bP9u2bdu2bds/27Zt27Zt2z/btm3btm3bP9u2bdu2bds/27Zt27Zt2z/btm3btm3bP9u2bdu2bds/27Zt27Zt2z/btm3btm3bP9u2bdu2bds/27Zt27Zt2z/btm3btm3bP9u2bdu2bds/27Zt27Zt2z/btm3btm3bP9u2bdu2bds/27Zt27Zt2z/btm3btm3bP9u2bdu2bds/27Zt27Zt2z/btm3btm3bP9u2bdu2bds/27Zt27Zt2z/btm3btm3bP9u2bdu2bds/27Zt27Zt2z/btm3btm3bP9u2bdu2bds/27Zt27Zt2z/btm3btm3bP9u2bdu2bds/27Zt27Zt2z/btm3btm3bP9u2bdu2bds/27Zt27Zt2z/btm3btm3bP9u2bdu2bds/27Zt27Zt2z/btm3btm3bP9u2bdu2bds/27Zt27Zt2z/btm3btm3bP9u2bdu2bds/27Zt27Zt2z/btm3btm3bP9u2bdu2bds/27Zt27Zt2z/btm3btm3bP9u2bdu2bds/27Zt27Zt2z/btm3btm3bP9u2bdu2bds/27Zt27Zt2z/btm3btm3bP9u2bdu2bds/27Zt27Zt2z/btm3btm3bP9u2bdu2bds/27Zt27Zt2z/btm3btm3bP9u2bdu2bds/27Zt27Zt2z/btm3btm3bP9u2bdu2bds/27Zt27Zt2z/btm3btm3bP9u2bdu2bds/27Zt27Zt2z/btm3btm3bP9u2bdu2bds/27Zt27Zt2z/btm3btm3bP9u2bdu2bds/27Zt27Zt2z/btm3btm3bP9u2bdu2bds/27Zt27Zt2z/btm3btm3bP9u2bdu2bds/27Zt27Zt2z/btm3btm3bP9u2bdu2bds/27Zt27Zt2z/btm3btm3bP9u2bdu2bds/27Zt27Zt2z/btm3btm3bP9u2bdu2bds/27Zt27Zt2z/btm3btm3bP9u2bdu2bds/27Zt27Zt2z/btm3btm3bP9u2bdu2bds/27Zt27Zt2z/btm3btm3bP9u2bdu2bds/27Zt27Zt2z/btm3btm3bP9u2bdu2bds/27Zt27Zt2z/btm3btm3bP9u2bdu2bds/27Zt27Zt2z/btm3btm3bP9u2bdu2bds/27Zt27Zt2z/btm3btm3bP9u2bdu2bds/27Zt27Zt2z/btm3btm3bP9u2bdu2bds/27Zt27Zt2z/btm3btm3bP9u2bdu2bds/27Zt27Zt2z8=",
          "dtype": "f8",
          "shape": "20, 20"
         }
        },
        {
         "cmax": 51.5426025390625,
         "cmin": 0.28350239992141724,
         "colorscale": [
          [
           0,
           "#440154"
          ],
          [
           0.1111111111111111,
           "#482878"
          ],
          [
           0.2222222222222222,
           "#3e4989"
          ],
          [
           0.3333333333333333,
           "#31688e"
          ],
          [
           0.4444444444444444,
           "#26828e"
          ],
          [
           0.5555555555555556,
           "#1f9e89"
          ],
          [
           0.6666666666666666,
           "#35b779"
          ],
          [
           0.7777777777777778,
           "#6ece58"
          ],
          [
           0.8888888888888888,
           "#b5de2b"
          ],
          [
           1,
           "#fde725"
          ]
         ],
         "opacity": 0.7,
         "scene": "scene2",
         "showscale": false,
         "surfacecolor": {
          "bdata": "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",
          "dtype": "f4",
          "shape": "20, 20"
         },
         "type": "surface",
         "x": {
          "bdata": "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",
          "dtype": "f8",
          "shape": "20, 20"
         },
         "y": {
          "bdata": "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",
          "dtype": "f8",
          "shape": "20, 20"
         },
         "z": {
          "bdata": "27Zt27Zt2z/btm3btm3bP9u2bdu2bds/27Zt27Zt2z/btm3btm3bP9u2bdu2bds/27Zt27Zt2z/btm3btm3bP9u2bdu2bds/27Zt27Zt2z/btm3btm3bP9u2bdu2bds/27Zt27Zt2z/btm3btm3bP9u2bdu2bds/27Zt27Zt2z/btm3btm3bP9u2bdu2bds/27Zt27Zt2z/btm3btm3bP9u2bdu2bds/27Zt27Zt2z/btm3btm3bP9u2bdu2bds/27Zt27Zt2z/btm3btm3bP9u2bdu2bds/27Zt27Zt2z/btm3btm3bP9u2bdu2bds/27Zt27Zt2z/btm3btm3bP9u2bdu2bds/27Zt27Zt2z/btm3btm3bP9u2bdu2bds/27Zt27Zt2z/btm3btm3bP9u2bdu2bds/27Zt27Zt2z/btm3btm3bP9u2bdu2bds/27Zt27Zt2z/btm3btm3bP9u2bdu2bds/27Zt27Zt2z/btm3btm3bP9u2bdu2bds/27Zt27Zt2z/btm3btm3bP9u2bdu2bds/27Zt27Zt2z/btm3btm3bP9u2bdu2bds/27Zt27Zt2z/btm3btm3bP9u2bdu2bds/27Zt27Zt2z/btm3btm3bP9u2bdu2bds/27Zt27Zt2z/btm3btm3bP9u2bdu2bds/27Zt27Zt2z/btm3btm3bP9u2bdu2bds/27Zt27Zt2z/btm3btm3bP9u2bdu2bds/27Zt27Zt2z/btm3btm3bP9u2bdu2bds/27Zt27Zt2z/btm3btm3bP9u2bdu2bds/27Zt27Zt2z/btm3btm3bP9u2bdu2bds/27Zt27Zt2z/btm3btm3bP9u2bdu2bds/27Zt27Zt2z/btm3btm3bP9u2bdu2bds/27Zt27Zt2z/btm3btm3bP9u2bdu2bds/27Zt27Zt2z/btm3btm3bP9u2bdu2bds/27Zt27Zt2z/btm3btm3bP9u2bdu2bds/27Zt27Zt2z/btm3btm3bP9u2bdu2bds/27Zt27Zt2z/btm3btm3bP9u2bdu2bds/27Zt27Zt2z/btm3btm3bP9u2bdu2bds/27Zt27Zt2z/btm3btm3bP9u2bdu2bds/27Zt27Zt2z/btm3btm3bP9u2bdu2bds/27Zt27Zt2z/btm3btm3bP9u2bdu2bds/27Zt27Zt2z/btm3btm3bP9u2bdu2bds/27Zt27Zt2z/btm3btm3bP9u2bdu2bds/27Zt27Zt2z/btm3btm3bP9u2bdu2bds/27Zt27Zt2z/btm3btm3bP9u2bdu2bds/27Zt27Zt2z/btm3btm3bP9u2bdu2bds/27Zt27Zt2z/btm3btm3bP9u2bdu2bds/27Zt27Zt2z/btm3btm3bP9u2bdu2bds/27Zt27Zt2z/btm3btm3bP9u2bdu2bds/27Zt27Zt2z/btm3btm3bP9u2bdu2bds/27Zt27Zt2z/btm3btm3bP9u2bdu2bds/27Zt27Zt2z/btm3btm3bP9u2bdu2bds/27Zt27Zt2z/btm3btm3bP9u2bdu2bds/27Zt27Zt2z/btm3btm3bP9u2bdu2bds/27Zt27Zt2z/btm3btm3bP9u2bdu2bds/27Zt27Zt2z/btm3btm3bP9u2bdu2bds/27Zt27Zt2z/btm3btm3bP9u2bdu2bds/27Zt27Zt2z/btm3btm3bP9u2bdu2bds/27Zt27Zt2z/btm3btm3bP9u2bdu2bds/27Zt27Zt2z/btm3btm3bP9u2bdu2bds/27Zt27Zt2z/btm3btm3bP9u2bdu2bds/27Zt27Zt2z/btm3btm3bP9u2bdu2bds/27Zt27Zt2z/btm3btm3bP9u2bdu2bds/27Zt27Zt2z/btm3btm3bP9u2bdu2bds/27Zt27Zt2z/btm3btm3bP9u2bdu2bds/27Zt27Zt2z/btm3btm3bP9u2bdu2bds/27Zt27Zt2z/btm3btm3bP9u2bdu2bds/27Zt27Zt2z/btm3btm3bP9u2bdu2bds/27Zt27Zt2z/btm3btm3bP9u2bdu2bds/27Zt27Zt2z/btm3btm3bP9u2bdu2bds/27Zt27Zt2z/btm3btm3bP9u2bdu2bds/27Zt27Zt2z/btm3btm3bP9u2bdu2bds/27Zt27Zt2z/btm3btm3bP9u2bdu2bds/27Zt27Zt2z/btm3btm3bP9u2bdu2bds/27Zt27Zt2z/btm3btm3bP9u2bdu2bds/27Zt27Zt2z/btm3btm3bP9u2bdu2bds/27Zt27Zt2z/btm3btm3bP9u2bdu2bds/27Zt27Zt2z/btm3btm3bP9u2bdu2bds/27Zt27Zt2z/btm3btm3bP9u2bdu2bds/27Zt27Zt2z/btm3btm3bP9u2bdu2bds/27Zt27Zt2z/btm3btm3bP9u2bdu2bds/27Zt27Zt2z/btm3btm3bP9u2bdu2bds/27Zt27Zt2z/btm3btm3bP9u2bdu2bds/27Zt27Zt2z/btm3btm3bP9u2bdu2bds/27Zt27Zt2z/btm3btm3bP9u2bdu2bds/27Zt27Zt2z/btm3btm3bP9u2bdu2bds/27Zt27Zt2z/btm3btm3bP9u2bdu2bds/27Zt27Zt2z/btm3btm3bP9u2bdu2bds/27Zt27Zt2z/btm3btm3bP9u2bdu2bds/27Zt27Zt2z/btm3btm3bP9u2bdu2bds/27Zt27Zt2z/btm3btm3bP9u2bdu2bds/27Zt27Zt2z/btm3btm3bP9u2bdu2bds/27Zt27Zt2z/btm3btm3bP9u2bdu2bds/27Zt27Zt2z/btm3btm3bP9u2bdu2bds/27Zt27Zt2z/btm3btm3bP9u2bdu2bds/27Zt27Zt2z/btm3btm3bP9u2bdu2bds/27Zt27Zt2z/btm3btm3bP9u2bdu2bds/27Zt27Zt2z/btm3btm3bP9u2bdu2bds/27Zt27Zt2z/btm3btm3bP9u2bdu2bds/27Zt27Zt2z/btm3btm3bP9u2bdu2bds/27Zt27Zt2z/btm3btm3bP9u2bdu2bds/27Zt27Zt2z/btm3btm3bP9u2bdu2bds/27Zt27Zt2z/btm3btm3bP9u2bdu2bds/27Zt27Zt2z/btm3btm3bP9u2bdu2bds/27Zt27Zt2z/btm3btm3bP9u2bdu2bds/27Zt27Zt2z/btm3btm3bP9u2bdu2bds/27Zt27Zt2z/btm3btm3bP9u2bdu2bds/27Zt27Zt2z/btm3btm3bP9u2bdu2bds/27Zt27Zt2z/btm3btm3bP9u2bdu2bds/27Zt27Zt2z/btm3btm3bP9u2bdu2bds/27Zt27Zt2z/btm3btm3bP9u2bdu2bds/27Zt27Zt2z/btm3btm3bP9u2bdu2bds/27Zt27Zt2z/btm3btm3bP9u2bdu2bds/27Zt27Zt2z/btm3btm3bP9u2bdu2bds/27Zt27Zt2z/btm3btm3bP9u2bdu2bds/27Zt27Zt2z/btm3btm3bP9u2bdu2bds/27Zt27Zt2z/btm3btm3bP9u2bdu2bds/27Zt27Zt2z/btm3btm3bP9u2bdu2bds/27Zt27Zt2z/btm3btm3bP9u2bdu2bds/27Zt27Zt2z/btm3btm3bP9u2bdu2bds/27Zt27Zt2z/btm3btm3bP9u2bdu2bds/27Zt27Zt2z/btm3btm3bP9u2bdu2bds/27Zt27Zt2z/btm3btm3bP9u2bdu2bds/27Zt27Zt2z/btm3btm3bP9u2bdu2bds/27Zt27Zt2z/btm3btm3bP9u2bdu2bds/27Zt27Zt2z/btm3btm3bP9u2bdu2bds/27Zt27Zt2z/btm3btm3bP9u2bdu2bds/27Zt27Zt2z/btm3btm3bP9u2bdu2bds/27Zt27Zt2z/btm3btm3bP9u2bdu2bds/27Zt27Zt2z/btm3btm3bP9u2bdu2bds/27Zt27Zt2z/btm3btm3bP9u2bdu2bds/27Zt27Zt2z/btm3btm3bP9u2bdu2bds/27Zt27Zt2z/btm3btm3bP9u2bdu2bds/27Zt27Zt2z/btm3btm3bP9u2bdu2bds/27Zt27Zt2z/btm3btm3bP9u2bdu2bds/27Zt27Zt2z/btm3btm3bP9u2bdu2bds/27Zt27Zt2z/btm3btm3bP9u2bdu2bds/27Zt27Zt2z8=",
          "dtype": "f8",
          "shape": "20, 20"
         }
        },
        {
         "cmax": 51.5426025390625,
         "cmin": 0.28350239992141724,
         "colorscale": [
          [
           0,
           "#440154"
          ],
          [
           0.1111111111111111,
           "#482878"
          ],
          [
           0.2222222222222222,
           "#3e4989"
          ],
          [
           0.3333333333333333,
           "#31688e"
          ],
          [
           0.4444444444444444,
           "#26828e"
          ],
          [
           0.5555555555555556,
           "#1f9e89"
          ],
          [
           0.6666666666666666,
           "#35b779"
          ],
          [
           0.7777777777777778,
           "#6ece58"
          ],
          [
           0.8888888888888888,
           "#b5de2b"
          ],
          [
           1,
           "#fde725"
          ]
         ],
         "opacity": 0.7,
         "scene": "scene3",
         "showscale": false,
         "surfacecolor": {
          "bdata": "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",
          "dtype": "f4",
          "shape": "20, 20"
         },
         "type": "surface",
         "x": {
          "bdata": "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",
          "dtype": "f8",
          "shape": "20, 20"
         },
         "y": {
          "bdata": "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",
          "dtype": "f8",
          "shape": "20, 20"
         },
         "z": {
          "bdata": "27Zt27Zt2z/btm3btm3bP9u2bdu2bds/27Zt27Zt2z/btm3btm3bP9u2bdu2bds/27Zt27Zt2z/btm3btm3bP9u2bdu2bds/27Zt27Zt2z/btm3btm3bP9u2bdu2bds/27Zt27Zt2z/btm3btm3bP9u2bdu2bds/27Zt27Zt2z/btm3btm3bP9u2bdu2bds/27Zt27Zt2z/btm3btm3bP9u2bdu2bds/27Zt27Zt2z/btm3btm3bP9u2bdu2bds/27Zt27Zt2z/btm3btm3bP9u2bdu2bds/27Zt27Zt2z/btm3btm3bP9u2bdu2bds/27Zt27Zt2z/btm3btm3bP9u2bdu2bds/27Zt27Zt2z/btm3btm3bP9u2bdu2bds/27Zt27Zt2z/btm3btm3bP9u2bdu2bds/27Zt27Zt2z/btm3btm3bP9u2bdu2bds/27Zt27Zt2z/btm3btm3bP9u2bdu2bds/27Zt27Zt2z/btm3btm3bP9u2bdu2bds/27Zt27Zt2z/btm3btm3bP9u2bdu2bds/27Zt27Zt2z/btm3btm3bP9u2bdu2bds/27Zt27Zt2z/btm3btm3bP9u2bdu2bds/27Zt27Zt2z/btm3btm3bP9u2bdu2bds/27Zt27Zt2z/btm3btm3bP9u2bdu2bds/27Zt27Zt2z/btm3btm3bP9u2bdu2bds/27Zt27Zt2z/btm3btm3bP9u2bdu2bds/27Zt27Zt2z/btm3btm3bP9u2bdu2bds/27Zt27Zt2z/btm3btm3bP9u2bdu2bds/27Zt27Zt2z/btm3btm3bP9u2bdu2bds/27Zt27Zt2z/btm3btm3bP9u2bdu2bds/27Zt27Zt2z/btm3btm3bP9u2bdu2bds/27Zt27Zt2z/btm3btm3bP9u2bdu2bds/27Zt27Zt2z/btm3btm3bP9u2bdu2bds/27Zt27Zt2z/btm3btm3bP9u2bdu2bds/27Zt27Zt2z/btm3btm3bP9u2bdu2bds/27Zt27Zt2z/btm3btm3bP9u2bdu2bds/27Zt27Zt2z/btm3btm3bP9u2bdu2bds/27Zt27Zt2z/btm3btm3bP9u2bdu2bds/27Zt27Zt2z/btm3btm3bP9u2bdu2bds/27Zt27Zt2z/btm3btm3bP9u2bdu2bds/27Zt27Zt2z/btm3btm3bP9u2bdu2bds/27Zt27Zt2z/btm3btm3bP9u2bdu2bds/27Zt27Zt2z/btm3btm3bP9u2bdu2bds/27Zt27Zt2z/btm3btm3bP9u2bdu2bds/27Zt27Zt2z/btm3btm3bP9u2bdu2bds/27Zt27Zt2z/btm3btm3bP9u2bdu2bds/27Zt27Zt2z/btm3btm3bP9u2bdu2bds/27Zt27Zt2z/btm3btm3bP9u2bdu2bds/27Zt27Zt2z/btm3btm3bP9u2bdu2bds/27Zt27Zt2z/btm3btm3bP9u2bdu2bds/27Zt27Zt2z/btm3btm3bP9u2bdu2bds/27Zt27Zt2z/btm3btm3bP9u2bdu2bds/27Zt27Zt2z/btm3btm3bP9u2bdu2bds/27Zt27Zt2z/btm3btm3bP9u2bdu2bds/27Zt27Zt2z/btm3btm3bP9u2bdu2bds/27Zt27Zt2z/btm3btm3bP9u2bdu2bds/27Zt27Zt2z/btm3btm3bP9u2bdu2bds/27Zt27Zt2z/btm3btm3bP9u2bdu2bds/27Zt27Zt2z/btm3btm3bP9u2bdu2bds/27Zt27Zt2z/btm3btm3bP9u2bdu2bds/27Zt27Zt2z/btm3btm3bP9u2bdu2bds/27Zt27Zt2z/btm3btm3bP9u2bdu2bds/27Zt27Zt2z/btm3btm3bP9u2bdu2bds/27Zt27Zt2z/btm3btm3bP9u2bdu2bds/27Zt27Zt2z/btm3btm3bP9u2bdu2bds/27Zt27Zt2z/btm3btm3bP9u2bdu2bds/27Zt27Zt2z/btm3btm3bP9u2bdu2bds/27Zt27Zt2z/btm3btm3bP9u2bdu2bds/27Zt27Zt2z/btm3btm3bP9u2bdu2bds/27Zt27Zt2z/btm3btm3bP9u2bdu2bds/27Zt27Zt2z/btm3btm3bP9u2bdu2bds/27Zt27Zt2z/btm3btm3bP9u2bdu2bds/27Zt27Zt2z/btm3btm3bP9u2bdu2bds/27Zt27Zt2z/btm3btm3bP9u2bdu2bds/27Zt27Zt2z/btm3btm3bP9u2bdu2bds/27Zt27Zt2z/btm3btm3bP9u2bdu2bds/27Zt27Zt2z/btm3btm3bP9u2bdu2bds/27Zt27Zt2z/btm3btm3bP9u2bdu2bds/27Zt27Zt2z/btm3btm3bP9u2bdu2bds/27Zt27Zt2z/btm3btm3bP9u2bdu2bds/27Zt27Zt2z/btm3btm3bP9u2bdu2bds/27Zt27Zt2z/btm3btm3bP9u2bdu2bds/27Zt27Zt2z/btm3btm3bP9u2bdu2bds/27Zt27Zt2z/btm3btm3bP9u2bdu2bds/27Zt27Zt2z/btm3btm3bP9u2bdu2bds/27Zt27Zt2z/btm3btm3bP9u2bdu2bds/27Zt27Zt2z/btm3btm3bP9u2bdu2bds/27Zt27Zt2z/btm3btm3bP9u2bdu2bds/27Zt27Zt2z/btm3btm3bP9u2bdu2bds/27Zt27Zt2z/btm3btm3bP9u2bdu2bds/27Zt27Zt2z/btm3btm3bP9u2bdu2bds/27Zt27Zt2z/btm3btm3bP9u2bdu2bds/27Zt27Zt2z/btm3btm3bP9u2bdu2bds/27Zt27Zt2z/btm3btm3bP9u2bdu2bds/27Zt27Zt2z/btm3btm3bP9u2bdu2bds/27Zt27Zt2z/btm3btm3bP9u2bdu2bds/27Zt27Zt2z/btm3btm3bP9u2bdu2bds/27Zt27Zt2z/btm3btm3bP9u2bdu2bds/27Zt27Zt2z/btm3btm3bP9u2bdu2bds/27Zt27Zt2z/btm3btm3bP9u2bdu2bds/27Zt27Zt2z/btm3btm3bP9u2bdu2bds/27Zt27Zt2z/btm3btm3bP9u2bdu2bds/27Zt27Zt2z/btm3btm3bP9u2bdu2bds/27Zt27Zt2z/btm3btm3bP9u2bdu2bds/27Zt27Zt2z/btm3btm3bP9u2bdu2bds/27Zt27Zt2z/btm3btm3bP9u2bdu2bds/27Zt27Zt2z/btm3btm3bP9u2bdu2bds/27Zt27Zt2z/btm3btm3bP9u2bdu2bds/27Zt27Zt2z/btm3btm3bP9u2bdu2bds/27Zt27Zt2z/btm3btm3bP9u2bdu2bds/27Zt27Zt2z/btm3btm3bP9u2bdu2bds/27Zt27Zt2z/btm3btm3bP9u2bdu2bds/27Zt27Zt2z/btm3btm3bP9u2bdu2bds/27Zt27Zt2z/btm3btm3bP9u2bdu2bds/27Zt27Zt2z/btm3btm3bP9u2bdu2bds/27Zt27Zt2z/btm3btm3bP9u2bdu2bds/27Zt27Zt2z/btm3btm3bP9u2bdu2bds/27Zt27Zt2z/btm3btm3bP9u2bdu2bds/27Zt27Zt2z/btm3btm3bP9u2bdu2bds/27Zt27Zt2z/btm3btm3bP9u2bdu2bds/27Zt27Zt2z/btm3btm3bP9u2bdu2bds/27Zt27Zt2z/btm3btm3bP9u2bdu2bds/27Zt27Zt2z/btm3btm3bP9u2bdu2bds/27Zt27Zt2z/btm3btm3bP9u2bdu2bds/27Zt27Zt2z/btm3btm3bP9u2bdu2bds/27Zt27Zt2z/btm3btm3bP9u2bdu2bds/27Zt27Zt2z/btm3btm3bP9u2bdu2bds/27Zt27Zt2z/btm3btm3bP9u2bdu2bds/27Zt27Zt2z/btm3btm3bP9u2bdu2bds/27Zt27Zt2z/btm3btm3bP9u2bdu2bds/27Zt27Zt2z/btm3btm3bP9u2bdu2bds/27Zt27Zt2z/btm3btm3bP9u2bdu2bds/27Zt27Zt2z/btm3btm3bP9u2bdu2bds/27Zt27Zt2z/btm3btm3bP9u2bdu2bds/27Zt27Zt2z/btm3btm3bP9u2bdu2bds/27Zt27Zt2z/btm3btm3bP9u2bdu2bds/27Zt27Zt2z8=",
          "dtype": "f8",
          "shape": "20, 20"
         }
        },
        {
         "cmax": 51.5426025390625,
         "cmin": 0.28350239992141724,
         "colorscale": [
          [
           0,
           "#440154"
          ],
          [
           0.1111111111111111,
           "#482878"
          ],
          [
           0.2222222222222222,
           "#3e4989"
          ],
          [
           0.3333333333333333,
           "#31688e"
          ],
          [
           0.4444444444444444,
           "#26828e"
          ],
          [
           0.5555555555555556,
           "#1f9e89"
          ],
          [
           0.6666666666666666,
           "#35b779"
          ],
          [
           0.7777777777777778,
           "#6ece58"
          ],
          [
           0.8888888888888888,
           "#b5de2b"
          ],
          [
           1,
           "#fde725"
          ]
         ],
         "opacity": 0.7,
         "scene": "scene4",
         "showscale": false,
         "surfacecolor": {
          "bdata": "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",
          "dtype": "f4",
          "shape": "20, 20"
         },
         "type": "surface",
         "x": {
          "bdata": "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",
          "dtype": "f8",
          "shape": "20, 20"
         },
         "y": {
          "bdata": "AAAAAAAAAAAAAAAAAAAAAAAAAAAAAAAAAAAAAAAAAAAAAAAAAAAAAAAAAAAAAAAAAAAAAAAAAAAAAAAAAAAAAAAAAAAAAAAAAAAAAAAAAAAAAAAAAAAAAAAAAAAAAAAAAAAAAAAAAAAAAAAAAAAAAAAAAAAAAAAAAAAAAAAAAAAAAAAAAAAAAAAAAAAAAAAAAAAAAAAAAAAAAAAAAAAAACivobyG8qo/KK+hvIbyqj8or6G8hvKqPyivobyG8qo/KK+hvIbyqj8or6G8hvKqPyivobyG8qo/KK+hvIbyqj8or6G8hvKqPyivobyG8qo/KK+hvIbyqj8or6G8hvKqPyivobyG8qo/KK+hvIbyqj8or6G8hvKqPyivobyG8qo/KK+hvIbyqj8or6G8hvKqPyivobyG8qo/KK+hvIbyqj8or6G8hvK6PyivobyG8ro/KK+hvIbyuj8or6G8hvK6PyivobyG8ro/KK+hvIbyuj8or6G8hvK6PyivobyG8ro/KK+hvIbyuj8or6G8hvK6PyivobyG8ro/KK+hvIbyuj8or6G8hvK6PyivobyG8ro/KK+hvIbyuj8or6G8hvK6PyivobyG8ro/KK+hvIbyuj8or6G8hvK6PyivobyG8ro/XkN5DeU1xD9eQ3kN5TXEP15DeQ3lNcQ/XkN5DeU1xD9eQ3kN5TXEP15DeQ3lNcQ/XkN5DeU1xD9eQ3kN5TXEP15DeQ3lNcQ/XkN5DeU1xD9eQ3kN5TXEP15DeQ3lNcQ/XkN5DeU1xD9eQ3kN5TXEP15DeQ3lNcQ/XkN5DeU1xD9eQ3kN5TXEP15DeQ3lNcQ/XkN5DeU1xD9eQ3kN5TXEPyivobyG8so/KK+hvIbyyj8or6G8hvLKPyivobyG8so/KK+hvIbyyj8or6G8hvLKPyivobyG8so/KK+hvIbyyj8or6G8hvLKPyivobyG8so/KK+hvIbyyj8or6G8hvLKPyivobyG8so/KK+hvIbyyj8or6G8hvLKPyivobyG8so/KK+hvIbyyj8or6G8hvLKPyivobyG8so/KK+hvIbyyj95DeU1lNfQP3kN5TWU19A/eQ3lNZTX0D95DeU1lNfQP3kN5TWU19A/eQ3lNZTX0D95DeU1lNfQP3kN5TWU19A/eQ3lNZTX0D95DeU1lNfQP3kN5TWU19A/eQ3lNZTX0D95DeU1lNfQP3kN5TWU19A/eQ3lNZTX0D95DeU1lNfQP3kN5TWU19A/eQ3lNZTX0D95DeU1lNfQP3kN5TWU19A/XkN5DeU11D9eQ3kN5TXUP15DeQ3lNdQ/XkN5DeU11D9eQ3kN5TXUP15DeQ3lNdQ/XkN5DeU11D9eQ3kN5TXUP15DeQ3lNdQ/XkN5DeU11D9eQ3kN5TXUP15DeQ3lNdQ/XkN5DeU11D9eQ3kN5TXUP15DeQ3lNdQ/XkN5DeU11D9eQ3kN5TXUP15DeQ3lNdQ/XkN5DeU11D9eQ3kN5TXUP0N5DeU1lNc/Q3kN5TWU1z9DeQ3lNZTXP0N5DeU1lNc/Q3kN5TWU1z9DeQ3lNZTXP0N5DeU1lNc/Q3kN5TWU1z9DeQ3lNZTXP0N5DeU1lNc/Q3kN5TWU1z9DeQ3lNZTXP0N5DeU1lNc/Q3kN5TWU1z9DeQ3lNZTXP0N5DeU1lNc/Q3kN5TWU1z9DeQ3lNZTXP0N5DeU1lNc/Q3kN5TWU1z8or6G8hvLaPyivobyG8to/KK+hvIby2j8or6G8hvLaPyivobyG8to/KK+hvIby2j8or6G8hvLaPyivobyG8to/KK+hvIby2j8or6G8hvLaPyivobyG8to/KK+hvIby2j8or6G8hvLaPyivobyG8to/KK+hvIby2j8or6G8hvLaPyivobyG8to/KK+hvIby2j8or6G8hvLaPyivobyG8to/DeU1lNdQ3j8N5TWU11DePw3lNZTXUN4/DeU1lNdQ3j8N5TWU11DePw3lNZTXUN4/DeU1lNdQ3j8N5TWU11DePw3lNZTXUN4/DeU1lNdQ3j8N5TWU11DePw3lNZTXUN4/DeU1lNdQ3j8N5TWU11DePw3lNZTXUN4/DeU1lNdQ3j8N5TWU11DePw3lNZTXUN4/DeU1lNdQ3j8N5TWU11DeP3kN5TWU1+A/eQ3lNZTX4D95DeU1lNfgP3kN5TWU1+A/eQ3lNZTX4D95DeU1lNfgP3kN5TWU1+A/eQ3lNZTX4D95DeU1lNfgP3kN5TWU1+A/eQ3lNZTX4D95DeU1lNfgP3kN5TWU1+A/eQ3lNZTX4D95DeU1lNfgP3kN5TWU1+A/eQ3lNZTX4D95DeU1lNfgP3kN5TWU1+A/eQ3lNZTX4D9sKK+hvIbiP2wor6G8huI/bCivobyG4j9sKK+hvIbiP2wor6G8huI/bCivobyG4j9sKK+hvIbiP2wor6G8huI/bCivobyG4j9sKK+hvIbiP2wor6G8huI/bCivobyG4j9sKK+hvIbiP2wor6G8huI/bCivobyG4j9sKK+hvIbiP2wor6G8huI/bCivobyG4j9sKK+hvIbiP2wor6G8huI/XkN5DeU15D9eQ3kN5TXkP15DeQ3lNeQ/XkN5DeU15D9eQ3kN5TXkP15DeQ3lNeQ/XkN5DeU15D9eQ3kN5TXkP15DeQ3lNeQ/XkN5DeU15D9eQ3kN5TXkP15DeQ3lNeQ/XkN5DeU15D9eQ3kN5TXkP15DeQ3lNeQ/XkN5DeU15D9eQ3kN5TXkP15DeQ3lNeQ/XkN5DeU15D9eQ3kN5TXkP1BeQ3kN5eU/UF5DeQ3l5T9QXkN5DeXlP1BeQ3kN5eU/UF5DeQ3l5T9QXkN5DeXlP1BeQ3kN5eU/UF5DeQ3l5T9QXkN5DeXlP1BeQ3kN5eU/UF5DeQ3l5T9QXkN5DeXlP1BeQ3kN5eU/UF5DeQ3l5T9QXkN5DeXlP1BeQ3kN5eU/UF5DeQ3l5T9QXkN5DeXlP1BeQ3kN5eU/UF5DeQ3l5T9DeQ3lNZTnP0N5DeU1lOc/Q3kN5TWU5z9DeQ3lNZTnP0N5DeU1lOc/Q3kN5TWU5z9DeQ3lNZTnP0N5DeU1lOc/Q3kN5TWU5z9DeQ3lNZTnP0N5DeU1lOc/Q3kN5TWU5z9DeQ3lNZTnP0N5DeU1lOc/Q3kN5TWU5z9DeQ3lNZTnP0N5DeU1lOc/Q3kN5TWU5z9DeQ3lNZTnP0N5DeU1lOc/NpTXUF5D6T82lNdQXkPpPzaU11BeQ+k/NpTXUF5D6T82lNdQXkPpPzaU11BeQ+k/NpTXUF5D6T82lNdQXkPpPzaU11BeQ+k/NpTXUF5D6T82lNdQXkPpPzaU11BeQ+k/NpTXUF5D6T82lNdQXkPpPzaU11BeQ+k/NpTXUF5D6T82lNdQXkPpPzaU11BeQ+k/NpTXUF5D6T82lNdQXkPpPyivobyG8uo/KK+hvIby6j8or6G8hvLqPyivobyG8uo/KK+hvIby6j8or6G8hvLqPyivobyG8uo/KK+hvIby6j8or6G8hvLqPyivobyG8uo/KK+hvIby6j8or6G8hvLqPyivobyG8uo/KK+hvIby6j8or6G8hvLqPyivobyG8uo/KK+hvIby6j8or6G8hvLqPyivobyG8uo/KK+hvIby6j8aymsor6HsPxrKayivoew/GsprKK+h7D8aymsor6HsPxrKayivoew/GsprKK+h7D8aymsor6HsPxrKayivoew/GsprKK+h7D8aymsor6HsPxrKayivoew/GsprKK+h7D8aymsor6HsPxrKayivoew/GsprKK+h7D8aymsor6HsPxrKayivoew/GsprKK+h7D8aymsor6HsPxrKayivoew/DeU1lNdQ7j8N5TWU11DuPw3lNZTXUO4/DeU1lNdQ7j8N5TWU11DuPw3lNZTXUO4/DeU1lNdQ7j8N5TWU11DuPw3lNZTXUO4/DeU1lNdQ7j8N5TWU11DuPw3lNZTXUO4/DeU1lNdQ7j8N5TWU11DuPw3lNZTXUO4/DeU1lNdQ7j8N5TWU11DuPw3lNZTXUO4/DeU1lNdQ7j8N5TWU11DuPwAAAAAAAPA/AAAAAAAA8D8AAAAAAADwPwAAAAAAAPA/AAAAAAAA8D8AAAAAAADwPwAAAAAAAPA/AAAAAAAA8D8AAAAAAADwPwAAAAAAAPA/AAAAAAAA8D8AAAAAAADwPwAAAAAAAPA/AAAAAAAA8D8AAAAAAADwPwAAAAAAAPA/AAAAAAAA8D8AAAAAAADwPwAAAAAAAPA/AAAAAAAA8D8=",
          "dtype": "f8",
          "shape": "20, 20"
         },
         "z": {
          "bdata": "27Zt27Zt2z/btm3btm3bP9u2bdu2bds/27Zt27Zt2z/btm3btm3bP9u2bdu2bds/27Zt27Zt2z/btm3btm3bP9u2bdu2bds/27Zt27Zt2z/btm3btm3bP9u2bdu2bds/27Zt27Zt2z/btm3btm3bP9u2bdu2bds/27Zt27Zt2z/btm3btm3bP9u2bdu2bds/27Zt27Zt2z/btm3btm3bP9u2bdu2bds/27Zt27Zt2z/btm3btm3bP9u2bdu2bds/27Zt27Zt2z/btm3btm3bP9u2bdu2bds/27Zt27Zt2z/btm3btm3bP9u2bdu2bds/27Zt27Zt2z/btm3btm3bP9u2bdu2bds/27Zt27Zt2z/btm3btm3bP9u2bdu2bds/27Zt27Zt2z/btm3btm3bP9u2bdu2bds/27Zt27Zt2z/btm3btm3bP9u2bdu2bds/27Zt27Zt2z/btm3btm3bP9u2bdu2bds/27Zt27Zt2z/btm3btm3bP9u2bdu2bds/27Zt27Zt2z/btm3btm3bP9u2bdu2bds/27Zt27Zt2z/btm3btm3bP9u2bdu2bds/27Zt27Zt2z/btm3btm3bP9u2bdu2bds/27Zt27Zt2z/btm3btm3bP9u2bdu2bds/27Zt27Zt2z/btm3btm3bP9u2bdu2bds/27Zt27Zt2z/btm3btm3bP9u2bdu2bds/27Zt27Zt2z/btm3btm3bP9u2bdu2bds/27Zt27Zt2z/btm3btm3bP9u2bdu2bds/27Zt27Zt2z/btm3btm3bP9u2bdu2bds/27Zt27Zt2z/btm3btm3bP9u2bdu2bds/27Zt27Zt2z/btm3btm3bP9u2bdu2bds/27Zt27Zt2z/btm3btm3bP9u2bdu2bds/27Zt27Zt2z/btm3btm3bP9u2bdu2bds/27Zt27Zt2z/btm3btm3bP9u2bdu2bds/27Zt27Zt2z/btm3btm3bP9u2bdu2bds/27Zt27Zt2z/btm3btm3bP9u2bdu2bds/27Zt27Zt2z/btm3btm3bP9u2bdu2bds/27Zt27Zt2z/btm3btm3bP9u2bdu2bds/27Zt27Zt2z/btm3btm3bP9u2bdu2bds/27Zt27Zt2z/btm3btm3bP9u2bdu2bds/27Zt27Zt2z/btm3btm3bP9u2bdu2bds/27Zt27Zt2z/btm3btm3bP9u2bdu2bds/27Zt27Zt2z/btm3btm3bP9u2bdu2bds/27Zt27Zt2z/btm3btm3bP9u2bdu2bds/27Zt27Zt2z/btm3btm3bP9u2bdu2bds/27Zt27Zt2z/btm3btm3bP9u2bdu2bds/27Zt27Zt2z/btm3btm3bP9u2bdu2bds/27Zt27Zt2z/btm3btm3bP9u2bdu2bds/27Zt27Zt2z/btm3btm3bP9u2bdu2bds/27Zt27Zt2z/btm3btm3bP9u2bdu2bds/27Zt27Zt2z/btm3btm3bP9u2bdu2bds/27Zt27Zt2z/btm3btm3bP9u2bdu2bds/27Zt27Zt2z/btm3btm3bP9u2bdu2bds/27Zt27Zt2z/btm3btm3bP9u2bdu2bds/27Zt27Zt2z/btm3btm3bP9u2bdu2bds/27Zt27Zt2z/btm3btm3bP9u2bdu2bds/27Zt27Zt2z/btm3btm3bP9u2bdu2bds/27Zt27Zt2z/btm3btm3bP9u2bdu2bds/27Zt27Zt2z/btm3btm3bP9u2bdu2bds/27Zt27Zt2z/btm3btm3bP9u2bdu2bds/27Zt27Zt2z/btm3btm3bP9u2bdu2bds/27Zt27Zt2z/btm3btm3bP9u2bdu2bds/27Zt27Zt2z/btm3btm3bP9u2bdu2bds/27Zt27Zt2z/btm3btm3bP9u2bdu2bds/27Zt27Zt2z/btm3btm3bP9u2bdu2bds/27Zt27Zt2z/btm3btm3bP9u2bdu2bds/27Zt27Zt2z/btm3btm3bP9u2bdu2bds/27Zt27Zt2z/btm3btm3bP9u2bdu2bds/27Zt27Zt2z/btm3btm3bP9u2bdu2bds/27Zt27Zt2z/btm3btm3bP9u2bdu2bds/27Zt27Zt2z/btm3btm3bP9u2bdu2bds/27Zt27Zt2z/btm3btm3bP9u2bdu2bds/27Zt27Zt2z/btm3btm3bP9u2bdu2bds/27Zt27Zt2z/btm3btm3bP9u2bdu2bds/27Zt27Zt2z/btm3btm3bP9u2bdu2bds/27Zt27Zt2z/btm3btm3bP9u2bdu2bds/27Zt27Zt2z/btm3btm3bP9u2bdu2bds/27Zt27Zt2z/btm3btm3bP9u2bdu2bds/27Zt27Zt2z/btm3btm3bP9u2bdu2bds/27Zt27Zt2z/btm3btm3bP9u2bdu2bds/27Zt27Zt2z/btm3btm3bP9u2bdu2bds/27Zt27Zt2z/btm3btm3bP9u2bdu2bds/27Zt27Zt2z/btm3btm3bP9u2bdu2bds/27Zt27Zt2z/btm3btm3bP9u2bdu2bds/27Zt27Zt2z/btm3btm3bP9u2bdu2bds/27Zt27Zt2z/btm3btm3bP9u2bdu2bds/27Zt27Zt2z/btm3btm3bP9u2bdu2bds/27Zt27Zt2z/btm3btm3bP9u2bdu2bds/27Zt27Zt2z/btm3btm3bP9u2bdu2bds/27Zt27Zt2z/btm3btm3bP9u2bdu2bds/27Zt27Zt2z/btm3btm3bP9u2bdu2bds/27Zt27Zt2z/btm3btm3bP9u2bdu2bds/27Zt27Zt2z/btm3btm3bP9u2bdu2bds/27Zt27Zt2z/btm3btm3bP9u2bdu2bds/27Zt27Zt2z/btm3btm3bP9u2bdu2bds/27Zt27Zt2z/btm3btm3bP9u2bdu2bds/27Zt27Zt2z/btm3btm3bP9u2bdu2bds/27Zt27Zt2z/btm3btm3bP9u2bdu2bds/27Zt27Zt2z/btm3btm3bP9u2bdu2bds/27Zt27Zt2z/btm3btm3bP9u2bdu2bds/27Zt27Zt2z/btm3btm3bP9u2bdu2bds/27Zt27Zt2z/btm3btm3bP9u2bdu2bds/27Zt27Zt2z/btm3btm3bP9u2bdu2bds/27Zt27Zt2z/btm3btm3bP9u2bdu2bds/27Zt27Zt2z/btm3btm3bP9u2bdu2bds/27Zt27Zt2z/btm3btm3bP9u2bdu2bds/27Zt27Zt2z/btm3btm3bP9u2bdu2bds/27Zt27Zt2z/btm3btm3bP9u2bdu2bds/27Zt27Zt2z/btm3btm3bP9u2bdu2bds/27Zt27Zt2z/btm3btm3bP9u2bdu2bds/27Zt27Zt2z/btm3btm3bP9u2bdu2bds/27Zt27Zt2z/btm3btm3bP9u2bdu2bds/27Zt27Zt2z/btm3btm3bP9u2bdu2bds/27Zt27Zt2z/btm3btm3bP9u2bdu2bds/27Zt27Zt2z/btm3btm3bP9u2bdu2bds/27Zt27Zt2z/btm3btm3bP9u2bdu2bds/27Zt27Zt2z/btm3btm3bP9u2bdu2bds/27Zt27Zt2z/btm3btm3bP9u2bdu2bds/27Zt27Zt2z/btm3btm3bP9u2bdu2bds/27Zt27Zt2z/btm3btm3bP9u2bdu2bds/27Zt27Zt2z/btm3btm3bP9u2bdu2bds/27Zt27Zt2z/btm3btm3bP9u2bdu2bds/27Zt27Zt2z/btm3btm3bP9u2bdu2bds/27Zt27Zt2z/btm3btm3bP9u2bdu2bds/27Zt27Zt2z/btm3btm3bP9u2bdu2bds/27Zt27Zt2z/btm3btm3bP9u2bdu2bds/27Zt27Zt2z/btm3btm3bP9u2bdu2bds/27Zt27Zt2z/btm3btm3bP9u2bdu2bds/27Zt27Zt2z/btm3btm3bP9u2bdu2bds/27Zt27Zt2z/btm3btm3bP9u2bdu2bds/27Zt27Zt2z/btm3btm3bP9u2bdu2bds/27Zt27Zt2z/btm3btm3bP9u2bdu2bds/27Zt27Zt2z/btm3btm3bP9u2bdu2bds/27Zt27Zt2z/btm3btm3bP9u2bdu2bds/27Zt27Zt2z/btm3btm3bP9u2bdu2bds/27Zt27Zt2z/btm3btm3bP9u2bdu2bds/27Zt27Zt2z/btm3btm3bP9u2bdu2bds/27Zt27Zt2z8=",
          "dtype": "f8",
          "shape": "20, 20"
         }
        },
        {
         "cmax": 51.5426025390625,
         "cmin": 0.28350239992141724,
         "colorscale": [
          [
           0,
           "#440154"
          ],
          [
           0.1111111111111111,
           "#482878"
          ],
          [
           0.2222222222222222,
           "#3e4989"
          ],
          [
           0.3333333333333333,
           "#31688e"
          ],
          [
           0.4444444444444444,
           "#26828e"
          ],
          [
           0.5555555555555556,
           "#1f9e89"
          ],
          [
           0.6666666666666666,
           "#35b779"
          ],
          [
           0.7777777777777778,
           "#6ece58"
          ],
          [
           0.8888888888888888,
           "#b5de2b"
          ],
          [
           1,
           "#fde725"
          ]
         ],
         "opacity": 0.7,
         "scene": "scene5",
         "showscale": false,
         "surfacecolor": {
          "bdata": "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",
          "dtype": "f4",
          "shape": "20, 20"
         },
         "type": "surface",
         "x": {
          "bdata": "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",
          "dtype": "f8",
          "shape": "20, 20"
         },
         "y": {
          "bdata": "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",
          "dtype": "f8",
          "shape": "20, 20"
         },
         "z": {
          "bdata": "27Zt27Zt2z/btm3btm3bP9u2bdu2bds/27Zt27Zt2z/btm3btm3bP9u2bdu2bds/27Zt27Zt2z/btm3btm3bP9u2bdu2bds/27Zt27Zt2z/btm3btm3bP9u2bdu2bds/27Zt27Zt2z/btm3btm3bP9u2bdu2bds/27Zt27Zt2z/btm3btm3bP9u2bdu2bds/27Zt27Zt2z/btm3btm3bP9u2bdu2bds/27Zt27Zt2z/btm3btm3bP9u2bdu2bds/27Zt27Zt2z/btm3btm3bP9u2bdu2bds/27Zt27Zt2z/btm3btm3bP9u2bdu2bds/27Zt27Zt2z/btm3btm3bP9u2bdu2bds/27Zt27Zt2z/btm3btm3bP9u2bdu2bds/27Zt27Zt2z/btm3btm3bP9u2bdu2bds/27Zt27Zt2z/btm3btm3bP9u2bdu2bds/27Zt27Zt2z/btm3btm3bP9u2bdu2bds/27Zt27Zt2z/btm3btm3bP9u2bdu2bds/27Zt27Zt2z/btm3btm3bP9u2bdu2bds/27Zt27Zt2z/btm3btm3bP9u2bdu2bds/27Zt27Zt2z/btm3btm3bP9u2bdu2bds/27Zt27Zt2z/btm3btm3bP9u2bdu2bds/27Zt27Zt2z/btm3btm3bP9u2bdu2bds/27Zt27Zt2z/btm3btm3bP9u2bdu2bds/27Zt27Zt2z/btm3btm3bP9u2bdu2bds/27Zt27Zt2z/btm3btm3bP9u2bdu2bds/27Zt27Zt2z/btm3btm3bP9u2bdu2bds/27Zt27Zt2z/btm3btm3bP9u2bdu2bds/27Zt27Zt2z/btm3btm3bP9u2bdu2bds/27Zt27Zt2z/btm3btm3bP9u2bdu2bds/27Zt27Zt2z/btm3btm3bP9u2bdu2bds/27Zt27Zt2z/btm3btm3bP9u2bdu2bds/27Zt27Zt2z/btm3btm3bP9u2bdu2bds/27Zt27Zt2z/btm3btm3bP9u2bdu2bds/27Zt27Zt2z/btm3btm3bP9u2bdu2bds/27Zt27Zt2z/btm3btm3bP9u2bdu2bds/27Zt27Zt2z/btm3btm3bP9u2bdu2bds/27Zt27Zt2z/btm3btm3bP9u2bdu2bds/27Zt27Zt2z/btm3btm3bP9u2bdu2bds/27Zt27Zt2z/btm3btm3bP9u2bdu2bds/27Zt27Zt2z/btm3btm3bP9u2bdu2bds/27Zt27Zt2z/btm3btm3bP9u2bdu2bds/27Zt27Zt2z/btm3btm3bP9u2bdu2bds/27Zt27Zt2z/btm3btm3bP9u2bdu2bds/27Zt27Zt2z/btm3btm3bP9u2bdu2bds/27Zt27Zt2z/btm3btm3bP9u2bdu2bds/27Zt27Zt2z/btm3btm3bP9u2bdu2bds/27Zt27Zt2z/btm3btm3bP9u2bdu2bds/27Zt27Zt2z/btm3btm3bP9u2bdu2bds/27Zt27Zt2z/btm3btm3bP9u2bdu2bds/27Zt27Zt2z/btm3btm3bP9u2bdu2bds/27Zt27Zt2z/btm3btm3bP9u2bdu2bds/27Zt27Zt2z/btm3btm3bP9u2bdu2bds/27Zt27Zt2z/btm3btm3bP9u2bdu2bds/27Zt27Zt2z/btm3btm3bP9u2bdu2bds/27Zt27Zt2z/btm3btm3bP9u2bdu2bds/27Zt27Zt2z/btm3btm3bP9u2bdu2bds/27Zt27Zt2z/btm3btm3bP9u2bdu2bds/27Zt27Zt2z/btm3btm3bP9u2bdu2bds/27Zt27Zt2z/btm3btm3bP9u2bdu2bds/27Zt27Zt2z/btm3btm3bP9u2bdu2bds/27Zt27Zt2z/btm3btm3bP9u2bdu2bds/27Zt27Zt2z/btm3btm3bP9u2bdu2bds/27Zt27Zt2z/btm3btm3bP9u2bdu2bds/27Zt27Zt2z/btm3btm3bP9u2bdu2bds/27Zt27Zt2z/btm3btm3bP9u2bdu2bds/27Zt27Zt2z/btm3btm3bP9u2bdu2bds/27Zt27Zt2z/btm3btm3bP9u2bdu2bds/27Zt27Zt2z/btm3btm3bP9u2bdu2bds/27Zt27Zt2z/btm3btm3bP9u2bdu2bds/27Zt27Zt2z/btm3btm3bP9u2bdu2bds/27Zt27Zt2z/btm3btm3bP9u2bdu2bds/27Zt27Zt2z/btm3btm3bP9u2bdu2bds/27Zt27Zt2z/btm3btm3bP9u2bdu2bds/27Zt27Zt2z/btm3btm3bP9u2bdu2bds/27Zt27Zt2z/btm3btm3bP9u2bdu2bds/27Zt27Zt2z/btm3btm3bP9u2bdu2bds/27Zt27Zt2z/btm3btm3bP9u2bdu2bds/27Zt27Zt2z/btm3btm3bP9u2bdu2bds/27Zt27Zt2z/btm3btm3bP9u2bdu2bds/27Zt27Zt2z/btm3btm3bP9u2bdu2bds/27Zt27Zt2z/btm3btm3bP9u2bdu2bds/27Zt27Zt2z/btm3btm3bP9u2bdu2bds/27Zt27Zt2z/btm3btm3bP9u2bdu2bds/27Zt27Zt2z/btm3btm3bP9u2bdu2bds/27Zt27Zt2z/btm3btm3bP9u2bdu2bds/27Zt27Zt2z/btm3btm3bP9u2bdu2bds/27Zt27Zt2z/btm3btm3bP9u2bdu2bds/27Zt27Zt2z/btm3btm3bP9u2bdu2bds/27Zt27Zt2z/btm3btm3bP9u2bdu2bds/27Zt27Zt2z/btm3btm3bP9u2bdu2bds/27Zt27Zt2z/btm3btm3bP9u2bdu2bds/27Zt27Zt2z/btm3btm3bP9u2bdu2bds/27Zt27Zt2z/btm3btm3bP9u2bdu2bds/27Zt27Zt2z/btm3btm3bP9u2bdu2bds/27Zt27Zt2z/btm3btm3bP9u2bdu2bds/27Zt27Zt2z/btm3btm3bP9u2bdu2bds/27Zt27Zt2z/btm3btm3bP9u2bdu2bds/27Zt27Zt2z/btm3btm3bP9u2bdu2bds/27Zt27Zt2z/btm3btm3bP9u2bdu2bds/27Zt27Zt2z/btm3btm3bP9u2bdu2bds/27Zt27Zt2z/btm3btm3bP9u2bdu2bds/27Zt27Zt2z/btm3btm3bP9u2bdu2bds/27Zt27Zt2z/btm3btm3bP9u2bdu2bds/27Zt27Zt2z/btm3btm3bP9u2bdu2bds/27Zt27Zt2z/btm3btm3bP9u2bdu2bds/27Zt27Zt2z/btm3btm3bP9u2bdu2bds/27Zt27Zt2z/btm3btm3bP9u2bdu2bds/27Zt27Zt2z/btm3btm3bP9u2bdu2bds/27Zt27Zt2z/btm3btm3bP9u2bdu2bds/27Zt27Zt2z/btm3btm3bP9u2bdu2bds/27Zt27Zt2z/btm3btm3bP9u2bdu2bds/27Zt27Zt2z/btm3btm3bP9u2bdu2bds/27Zt27Zt2z/btm3btm3bP9u2bdu2bds/27Zt27Zt2z/btm3btm3bP9u2bdu2bds/27Zt27Zt2z/btm3btm3bP9u2bdu2bds/27Zt27Zt2z/btm3btm3bP9u2bdu2bds/27Zt27Zt2z/btm3btm3bP9u2bdu2bds/27Zt27Zt2z/btm3btm3bP9u2bdu2bds/27Zt27Zt2z/btm3btm3bP9u2bdu2bds/27Zt27Zt2z/btm3btm3bP9u2bdu2bds/27Zt27Zt2z/btm3btm3bP9u2bdu2bds/27Zt27Zt2z/btm3btm3bP9u2bdu2bds/27Zt27Zt2z/btm3btm3bP9u2bdu2bds/27Zt27Zt2z/btm3btm3bP9u2bdu2bds/27Zt27Zt2z/btm3btm3bP9u2bdu2bds/27Zt27Zt2z/btm3btm3bP9u2bdu2bds/27Zt27Zt2z/btm3btm3bP9u2bdu2bds/27Zt27Zt2z/btm3btm3bP9u2bdu2bds/27Zt27Zt2z/btm3btm3bP9u2bdu2bds/27Zt27Zt2z/btm3btm3bP9u2bdu2bds/27Zt27Zt2z/btm3btm3bP9u2bdu2bds/27Zt27Zt2z/btm3btm3bP9u2bdu2bds/27Zt27Zt2z/btm3btm3bP9u2bdu2bds/27Zt27Zt2z/btm3btm3bP9u2bdu2bds/27Zt27Zt2z8=",
          "dtype": "f8",
          "shape": "20, 20"
         }
        },
        {
         "cmax": 51.5426025390625,
         "cmin": 0.28350239992141724,
         "colorscale": [
          [
           0,
           "#440154"
          ],
          [
           0.1111111111111111,
           "#482878"
          ],
          [
           0.2222222222222222,
           "#3e4989"
          ],
          [
           0.3333333333333333,
           "#31688e"
          ],
          [
           0.4444444444444444,
           "#26828e"
          ],
          [
           0.5555555555555556,
           "#1f9e89"
          ],
          [
           0.6666666666666666,
           "#35b779"
          ],
          [
           0.7777777777777778,
           "#6ece58"
          ],
          [
           0.8888888888888888,
           "#b5de2b"
          ],
          [
           1,
           "#fde725"
          ]
         ],
         "opacity": 0.7,
         "scene": "scene",
         "showscale": false,
         "surfacecolor": {
          "bdata": "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",
          "dtype": "f4",
          "shape": "20, 20"
         },
         "type": "surface",
         "x": {
          "bdata": "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",
          "dtype": "f8",
          "shape": "20, 20"
         },
         "y": {
          "bdata": "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",
          "dtype": "f8",
          "shape": "20, 20"
         },
         "z": {
          "bdata": "kiRJkiRJ4j+SJEmSJEniP5IkSZIkSeI/kiRJkiRJ4j+SJEmSJEniP5IkSZIkSeI/kiRJkiRJ4j+SJEmSJEniP5IkSZIkSeI/kiRJkiRJ4j+SJEmSJEniP5IkSZIkSeI/kiRJkiRJ4j+SJEmSJEniP5IkSZIkSeI/kiRJkiRJ4j+SJEmSJEniP5IkSZIkSeI/kiRJkiRJ4j+SJEmSJEniP5IkSZIkSeI/kiRJkiRJ4j+SJEmSJEniP5IkSZIkSeI/kiRJkiRJ4j+SJEmSJEniP5IkSZIkSeI/kiRJkiRJ4j+SJEmSJEniP5IkSZIkSeI/kiRJkiRJ4j+SJEmSJEniP5IkSZIkSeI/kiRJkiRJ4j+SJEmSJEniP5IkSZIkSeI/kiRJkiRJ4j+SJEmSJEniP5IkSZIkSeI/kiRJkiRJ4j+SJEmSJEniP5IkSZIkSeI/kiRJkiRJ4j+SJEmSJEniP5IkSZIkSeI/kiRJkiRJ4j+SJEmSJEniP5IkSZIkSeI/kiRJkiRJ4j+SJEmSJEniP5IkSZIkSeI/kiRJkiRJ4j+SJEmSJEniP5IkSZIkSeI/kiRJkiRJ4j+SJEmSJEniP5IkSZIkSeI/kiRJkiRJ4j+SJEmSJEniP5IkSZIkSeI/kiRJkiRJ4j+SJEmSJEniP5IkSZIkSeI/kiRJkiRJ4j+SJEmSJEniP5IkSZIkSeI/kiRJkiRJ4j+SJEmSJEniP5IkSZIkSeI/kiRJkiRJ4j+SJEmSJEniP5IkSZIkSeI/kiRJkiRJ4j+SJEmSJEniP5IkSZIkSeI/kiRJkiRJ4j+SJEmSJEniP5IkSZIkSeI/kiRJkiRJ4j+SJEmSJEniP5IkSZIkSeI/kiRJkiRJ4j+SJEmSJEniP5IkSZIkSeI/kiRJkiRJ4j+SJEmSJEniP5IkSZIkSeI/kiRJkiRJ4j+SJEmSJEniP5IkSZIkSeI/kiRJkiRJ4j+SJEmSJEniP5IkSZIkSeI/kiRJkiRJ4j+SJEmSJEniP5IkSZIkSeI/kiRJkiRJ4j+SJEmSJEniP5IkSZIkSeI/kiRJkiRJ4j+SJEmSJEniP5IkSZIkSeI/kiRJkiRJ4j+SJEmSJEniP5IkSZIkSeI/kiRJkiRJ4j+SJEmSJEniP5IkSZIkSeI/kiRJkiRJ4j+SJEmSJEniP5IkSZIkSeI/kiRJkiRJ4j+SJEmSJEniP5IkSZIkSeI/kiRJkiRJ4j+SJEmSJEniP5IkSZIkSeI/kiRJkiRJ4j+SJEmSJEniP5IkSZIkSeI/kiRJkiRJ4j+SJEmSJEniP5IkSZIkSeI/kiRJkiRJ4j+SJEmSJEniP5IkSZIkSeI/kiRJkiRJ4j+SJEmSJEniP5IkSZIkSeI/kiRJkiRJ4j+SJEmSJEniP5IkSZIkSeI/kiRJkiRJ4j+SJEmSJEniP5IkSZIkSeI/kiRJkiRJ4j+SJEmSJEniP5IkSZIkSeI/kiRJkiRJ4j+SJEmSJEniP5IkSZIkSeI/kiRJkiRJ4j+SJEmSJEniP5IkSZIkSeI/kiRJkiRJ4j+SJEmSJEniP5IkSZIkSeI/kiRJkiRJ4j+SJEmSJEniP5IkSZIkSeI/kiRJkiRJ4j+SJEmSJEniP5IkSZIkSeI/kiRJkiRJ4j+SJEmSJEniP5IkSZIkSeI/kiRJkiRJ4j+SJEmSJEniP5IkSZIkSeI/kiRJkiRJ4j+SJEmSJEniP5IkSZIkSeI/kiRJkiRJ4j+SJEmSJEniP5IkSZIkSeI/kiRJkiRJ4j+SJEmSJEniP5IkSZIkSeI/kiRJkiRJ4j+SJEmSJEniP5IkSZIkSeI/kiRJkiRJ4j+SJEmSJEniP5IkSZIkSeI/kiRJkiRJ4j+SJEmSJEniP5IkSZIkSeI/kiRJkiRJ4j+SJEmSJEniP5IkSZIkSeI/kiRJkiRJ4j+SJEmSJEniP5IkSZIkSeI/kiRJkiRJ4j+SJEmSJEniP5IkSZIkSeI/kiRJkiRJ4j+SJEmSJEniP5IkSZIkSeI/kiRJkiRJ4j+SJEmSJEniP5IkSZIkSeI/kiRJkiRJ4j+SJEmSJEniP5IkSZIkSeI/kiRJkiRJ4j+SJEmSJEniP5IkSZIkSeI/kiRJkiRJ4j+SJEmSJEniP5IkSZIkSeI/kiRJkiRJ4j+SJEmSJEniP5IkSZIkSeI/kiRJkiRJ4j+SJEmSJEniP5IkSZIkSeI/kiRJkiRJ4j+SJEmSJEniP5IkSZIkSeI/kiRJkiRJ4j+SJEmSJEniP5IkSZIkSeI/kiRJkiRJ4j+SJEmSJEniP5IkSZIkSeI/kiRJkiRJ4j+SJEmSJEniP5IkSZIkSeI/kiRJkiRJ4j+SJEmSJEniP5IkSZIkSeI/kiRJkiRJ4j+SJEmSJEniP5IkSZIkSeI/kiRJkiRJ4j+SJEmSJEniP5IkSZIkSeI/kiRJkiRJ4j+SJEmSJEniP5IkSZIkSeI/kiRJkiRJ4j+SJEmSJEniP5IkSZIkSeI/kiRJkiRJ4j+SJEmSJEniP5IkSZIkSeI/kiRJkiRJ4j+SJEmSJEniP5IkSZIkSeI/kiRJkiRJ4j+SJEmSJEniP5IkSZIkSeI/kiRJkiRJ4j+SJEmSJEniP5IkSZIkSeI/kiRJkiRJ4j+SJEmSJEniP5IkSZIkSeI/kiRJkiRJ4j+SJEmSJEniP5IkSZIkSeI/kiRJkiRJ4j+SJEmSJEniP5IkSZIkSeI/kiRJkiRJ4j+SJEmSJEniP5IkSZIkSeI/kiRJkiRJ4j+SJEmSJEniP5IkSZIkSeI/kiRJkiRJ4j+SJEmSJEniP5IkSZIkSeI/kiRJkiRJ4j+SJEmSJEniP5IkSZIkSeI/kiRJkiRJ4j+SJEmSJEniP5IkSZIkSeI/kiRJkiRJ4j+SJEmSJEniP5IkSZIkSeI/kiRJkiRJ4j+SJEmSJEniP5IkSZIkSeI/kiRJkiRJ4j+SJEmSJEniP5IkSZIkSeI/kiRJkiRJ4j+SJEmSJEniP5IkSZIkSeI/kiRJkiRJ4j+SJEmSJEniP5IkSZIkSeI/kiRJkiRJ4j+SJEmSJEniP5IkSZIkSeI/kiRJkiRJ4j+SJEmSJEniP5IkSZIkSeI/kiRJkiRJ4j+SJEmSJEniP5IkSZIkSeI/kiRJkiRJ4j+SJEmSJEniP5IkSZIkSeI/kiRJkiRJ4j+SJEmSJEniP5IkSZIkSeI/kiRJkiRJ4j+SJEmSJEniP5IkSZIkSeI/kiRJkiRJ4j+SJEmSJEniP5IkSZIkSeI/kiRJkiRJ4j+SJEmSJEniP5IkSZIkSeI/kiRJkiRJ4j+SJEmSJEniP5IkSZIkSeI/kiRJkiRJ4j+SJEmSJEniP5IkSZIkSeI/kiRJkiRJ4j+SJEmSJEniP5IkSZIkSeI/kiRJkiRJ4j+SJEmSJEniP5IkSZIkSeI/kiRJkiRJ4j+SJEmSJEniP5IkSZIkSeI/kiRJkiRJ4j+SJEmSJEniP5IkSZIkSeI/kiRJkiRJ4j+SJEmSJEniP5IkSZIkSeI/kiRJkiRJ4j+SJEmSJEniP5IkSZIkSeI/kiRJkiRJ4j+SJEmSJEniP5IkSZIkSeI/kiRJkiRJ4j+SJEmSJEniP5IkSZIkSeI/kiRJkiRJ4j+SJEmSJEniP5IkSZIkSeI/kiRJkiRJ4j+SJEmSJEniP5IkSZIkSeI/kiRJkiRJ4j+SJEmSJEniP5IkSZIkSeI/kiRJkiRJ4j+SJEmSJEniP5IkSZIkSeI/kiRJkiRJ4j+SJEmSJEniP5IkSZIkSeI/kiRJkiRJ4j+SJEmSJEniP5IkSZIkSeI/kiRJkiRJ4j+SJEmSJEniP5IkSZIkSeI/kiRJkiRJ4j+SJEmSJEniP5IkSZIkSeI/kiRJkiRJ4j+SJEmSJEniP5IkSZIkSeI/kiRJkiRJ4j+SJEmSJEniP5IkSZIkSeI/kiRJkiRJ4j+SJEmSJEniP5IkSZIkSeI/kiRJkiRJ4j+SJEmSJEniP5IkSZIkSeI/kiRJkiRJ4j+SJEmSJEniP5IkSZIkSeI/kiRJkiRJ4j+SJEmSJEniP5IkSZIkSeI/kiRJkiRJ4j+SJEmSJEniP5IkSZIkSeI/kiRJkiRJ4j+SJEmSJEniP5IkSZIkSeI/kiRJkiRJ4j+SJEmSJEniP5IkSZIkSeI/kiRJkiRJ4j+SJEmSJEniP5IkSZIkSeI/kiRJkiRJ4j+SJEmSJEniP5IkSZIkSeI/kiRJkiRJ4j+SJEmSJEniP5IkSZIkSeI/kiRJkiRJ4j8=",
          "dtype": "f8",
          "shape": "20, 20"
         }
        },
        {
         "cmax": 51.5426025390625,
         "cmin": 0.28350239992141724,
         "colorscale": [
          [
           0,
           "#440154"
          ],
          [
           0.1111111111111111,
           "#482878"
          ],
          [
           0.2222222222222222,
           "#3e4989"
          ],
          [
           0.3333333333333333,
           "#31688e"
          ],
          [
           0.4444444444444444,
           "#26828e"
          ],
          [
           0.5555555555555556,
           "#1f9e89"
          ],
          [
           0.6666666666666666,
           "#35b779"
          ],
          [
           0.7777777777777778,
           "#6ece58"
          ],
          [
           0.8888888888888888,
           "#b5de2b"
          ],
          [
           1,
           "#fde725"
          ]
         ],
         "opacity": 0.7,
         "scene": "scene2",
         "showscale": false,
         "surfacecolor": {
          "bdata": "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",
          "dtype": "f4",
          "shape": "20, 20"
         },
         "type": "surface",
         "x": {
          "bdata": "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",
          "dtype": "f8",
          "shape": "20, 20"
         },
         "y": {
          "bdata": "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",
          "dtype": "f8",
          "shape": "20, 20"
         },
         "z": {
          "bdata": "kiRJkiRJ4j+SJEmSJEniP5IkSZIkSeI/kiRJkiRJ4j+SJEmSJEniP5IkSZIkSeI/kiRJkiRJ4j+SJEmSJEniP5IkSZIkSeI/kiRJkiRJ4j+SJEmSJEniP5IkSZIkSeI/kiRJkiRJ4j+SJEmSJEniP5IkSZIkSeI/kiRJkiRJ4j+SJEmSJEniP5IkSZIkSeI/kiRJkiRJ4j+SJEmSJEniP5IkSZIkSeI/kiRJkiRJ4j+SJEmSJEniP5IkSZIkSeI/kiRJkiRJ4j+SJEmSJEniP5IkSZIkSeI/kiRJkiRJ4j+SJEmSJEniP5IkSZIkSeI/kiRJkiRJ4j+SJEmSJEniP5IkSZIkSeI/kiRJkiRJ4j+SJEmSJEniP5IkSZIkSeI/kiRJkiRJ4j+SJEmSJEniP5IkSZIkSeI/kiRJkiRJ4j+SJEmSJEniP5IkSZIkSeI/kiRJkiRJ4j+SJEmSJEniP5IkSZIkSeI/kiRJkiRJ4j+SJEmSJEniP5IkSZIkSeI/kiRJkiRJ4j+SJEmSJEniP5IkSZIkSeI/kiRJkiRJ4j+SJEmSJEniP5IkSZIkSeI/kiRJkiRJ4j+SJEmSJEniP5IkSZIkSeI/kiRJkiRJ4j+SJEmSJEniP5IkSZIkSeI/kiRJkiRJ4j+SJEmSJEniP5IkSZIkSeI/kiRJkiRJ4j+SJEmSJEniP5IkSZIkSeI/kiRJkiRJ4j+SJEmSJEniP5IkSZIkSeI/kiRJkiRJ4j+SJEmSJEniP5IkSZIkSeI/kiRJkiRJ4j+SJEmSJEniP5IkSZIkSeI/kiRJkiRJ4j+SJEmSJEniP5IkSZIkSeI/kiRJkiRJ4j+SJEmSJEniP5IkSZIkSeI/kiRJkiRJ4j+SJEmSJEniP5IkSZIkSeI/kiRJkiRJ4j+SJEmSJEniP5IkSZIkSeI/kiRJkiRJ4j+SJEmSJEniP5IkSZIkSeI/kiRJkiRJ4j+SJEmSJEniP5IkSZIkSeI/kiRJkiRJ4j+SJEmSJEniP5IkSZIkSeI/kiRJkiRJ4j+SJEmSJEniP5IkSZIkSeI/kiRJkiRJ4j+SJEmSJEniP5IkSZIkSeI/kiRJkiRJ4j+SJEmSJEniP5IkSZIkSeI/kiRJkiRJ4j+SJEmSJEniP5IkSZIkSeI/kiRJkiRJ4j+SJEmSJEniP5IkSZIkSeI/kiRJkiRJ4j+SJEmSJEniP5IkSZIkSeI/kiRJkiRJ4j+SJEmSJEniP5IkSZIkSeI/kiRJkiRJ4j+SJEmSJEniP5IkSZIkSeI/kiRJkiRJ4j+SJEmSJEniP5IkSZIkSeI/kiRJkiRJ4j+SJEmSJEniP5IkSZIkSeI/kiRJkiRJ4j+SJEmSJEniP5IkSZIkSeI/kiRJkiRJ4j+SJEmSJEniP5IkSZIkSeI/kiRJkiRJ4j+SJEmSJEniP5IkSZIkSeI/kiRJkiRJ4j+SJEmSJEniP5IkSZIkSeI/kiRJkiRJ4j+SJEmSJEniP5IkSZIkSeI/kiRJkiRJ4j+SJEmSJEniP5IkSZIkSeI/kiRJkiRJ4j+SJEmSJEniP5IkSZIkSeI/kiRJkiRJ4j+SJEmSJEniP5IkSZIkSeI/kiRJkiRJ4j+SJEmSJEniP5IkSZIkSeI/kiRJkiRJ4j+SJEmSJEniP5IkSZIkSeI/kiRJkiRJ4j+SJEmSJEniP5IkSZIkSeI/kiRJkiRJ4j+SJEmSJEniP5IkSZIkSeI/kiRJkiRJ4j+SJEmSJEniP5IkSZIkSeI/kiRJkiRJ4j+SJEmSJEniP5IkSZIkSeI/kiRJkiRJ4j+SJEmSJEniP5IkSZIkSeI/kiRJkiRJ4j+SJEmSJEniP5IkSZIkSeI/kiRJkiRJ4j+SJEmSJEniP5IkSZIkSeI/kiRJkiRJ4j+SJEmSJEniP5IkSZIkSeI/kiRJkiRJ4j+SJEmSJEniP5IkSZIkSeI/kiRJkiRJ4j+SJEmSJEniP5IkSZIkSeI/kiRJkiRJ4j+SJEmSJEniP5IkSZIkSeI/kiRJkiRJ4j+SJEmSJEniP5IkSZIkSeI/kiRJkiRJ4j+SJEmSJEniP5IkSZIkSeI/kiRJkiRJ4j+SJEmSJEniP5IkSZIkSeI/kiRJkiRJ4j+SJEmSJEniP5IkSZIkSeI/kiRJkiRJ4j+SJEmSJEniP5IkSZIkSeI/kiRJkiRJ4j+SJEmSJEniP5IkSZIkSeI/kiRJkiRJ4j+SJEmSJEniP5IkSZIkSeI/kiRJkiRJ4j+SJEmSJEniP5IkSZIkSeI/kiRJkiRJ4j+SJEmSJEniP5IkSZIkSeI/kiRJkiRJ4j+SJEmSJEniP5IkSZIkSeI/kiRJkiRJ4j+SJEmSJEniP5IkSZIkSeI/kiRJkiRJ4j+SJEmSJEniP5IkSZIkSeI/kiRJkiRJ4j+SJEmSJEniP5IkSZIkSeI/kiRJkiRJ4j+SJEmSJEniP5IkSZIkSeI/kiRJkiRJ4j+SJEmSJEniP5IkSZIkSeI/kiRJkiRJ4j+SJEmSJEniP5IkSZIkSeI/kiRJkiRJ4j+SJEmSJEniP5IkSZIkSeI/kiRJkiRJ4j+SJEmSJEniP5IkSZIkSeI/kiRJkiRJ4j+SJEmSJEniP5IkSZIkSeI/kiRJkiRJ4j+SJEmSJEniP5IkSZIkSeI/kiRJkiRJ4j+SJEmSJEniP5IkSZIkSeI/kiRJkiRJ4j+SJEmSJEniP5IkSZIkSeI/kiRJkiRJ4j+SJEmSJEniP5IkSZIkSeI/kiRJkiRJ4j+SJEmSJEniP5IkSZIkSeI/kiRJkiRJ4j+SJEmSJEniP5IkSZIkSeI/kiRJkiRJ4j+SJEmSJEniP5IkSZIkSeI/kiRJkiRJ4j+SJEmSJEniP5IkSZIkSeI/kiRJkiRJ4j+SJEmSJEniP5IkSZIkSeI/kiRJkiRJ4j+SJEmSJEniP5IkSZIkSeI/kiRJkiRJ4j+SJEmSJEniP5IkSZIkSeI/kiRJkiRJ4j+SJEmSJEniP5IkSZIkSeI/kiRJkiRJ4j+SJEmSJEniP5IkSZIkSeI/kiRJkiRJ4j+SJEmSJEniP5IkSZIkSeI/kiRJkiRJ4j+SJEmSJEniP5IkSZIkSeI/kiRJkiRJ4j+SJEmSJEniP5IkSZIkSeI/kiRJkiRJ4j+SJEmSJEniP5IkSZIkSeI/kiRJkiRJ4j+SJEmSJEniP5IkSZIkSeI/kiRJkiRJ4j+SJEmSJEniP5IkSZIkSeI/kiRJkiRJ4j+SJEmSJEniP5IkSZIkSeI/kiRJkiRJ4j+SJEmSJEniP5IkSZIkSeI/kiRJkiRJ4j+SJEmSJEniP5IkSZIkSeI/kiRJkiRJ4j+SJEmSJEniP5IkSZIkSeI/kiRJkiRJ4j+SJEmSJEniP5IkSZIkSeI/kiRJkiRJ4j+SJEmSJEniP5IkSZIkSeI/kiRJkiRJ4j+SJEmSJEniP5IkSZIkSeI/kiRJkiRJ4j+SJEmSJEniP5IkSZIkSeI/kiRJkiRJ4j+SJEmSJEniP5IkSZIkSeI/kiRJkiRJ4j+SJEmSJEniP5IkSZIkSeI/kiRJkiRJ4j+SJEmSJEniP5IkSZIkSeI/kiRJkiRJ4j+SJEmSJEniP5IkSZIkSeI/kiRJkiRJ4j+SJEmSJEniP5IkSZIkSeI/kiRJkiRJ4j+SJEmSJEniP5IkSZIkSeI/kiRJkiRJ4j+SJEmSJEniP5IkSZIkSeI/kiRJkiRJ4j+SJEmSJEniP5IkSZIkSeI/kiRJkiRJ4j+SJEmSJEniP5IkSZIkSeI/kiRJkiRJ4j+SJEmSJEniP5IkSZIkSeI/kiRJkiRJ4j+SJEmSJEniP5IkSZIkSeI/kiRJkiRJ4j+SJEmSJEniP5IkSZIkSeI/kiRJkiRJ4j+SJEmSJEniP5IkSZIkSeI/kiRJkiRJ4j+SJEmSJEniP5IkSZIkSeI/kiRJkiRJ4j+SJEmSJEniP5IkSZIkSeI/kiRJkiRJ4j+SJEmSJEniP5IkSZIkSeI/kiRJkiRJ4j+SJEmSJEniP5IkSZIkSeI/kiRJkiRJ4j+SJEmSJEniP5IkSZIkSeI/kiRJkiRJ4j+SJEmSJEniP5IkSZIkSeI/kiRJkiRJ4j+SJEmSJEniP5IkSZIkSeI/kiRJkiRJ4j+SJEmSJEniP5IkSZIkSeI/kiRJkiRJ4j+SJEmSJEniP5IkSZIkSeI/kiRJkiRJ4j+SJEmSJEniP5IkSZIkSeI/kiRJkiRJ4j+SJEmSJEniP5IkSZIkSeI/kiRJkiRJ4j8=",
          "dtype": "f8",
          "shape": "20, 20"
         }
        },
        {
         "cmax": 51.5426025390625,
         "cmin": 0.28350239992141724,
         "colorscale": [
          [
           0,
           "#440154"
          ],
          [
           0.1111111111111111,
           "#482878"
          ],
          [
           0.2222222222222222,
           "#3e4989"
          ],
          [
           0.3333333333333333,
           "#31688e"
          ],
          [
           0.4444444444444444,
           "#26828e"
          ],
          [
           0.5555555555555556,
           "#1f9e89"
          ],
          [
           0.6666666666666666,
           "#35b779"
          ],
          [
           0.7777777777777778,
           "#6ece58"
          ],
          [
           0.8888888888888888,
           "#b5de2b"
          ],
          [
           1,
           "#fde725"
          ]
         ],
         "opacity": 0.7,
         "scene": "scene3",
         "showscale": false,
         "surfacecolor": {
          "bdata": "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",
          "dtype": "f4",
          "shape": "20, 20"
         },
         "type": "surface",
         "x": {
          "bdata": "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",
          "dtype": "f8",
          "shape": "20, 20"
         },
         "y": {
          "bdata": "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",
          "dtype": "f8",
          "shape": "20, 20"
         },
         "z": {
          "bdata": "kiRJkiRJ4j+SJEmSJEniP5IkSZIkSeI/kiRJkiRJ4j+SJEmSJEniP5IkSZIkSeI/kiRJkiRJ4j+SJEmSJEniP5IkSZIkSeI/kiRJkiRJ4j+SJEmSJEniP5IkSZIkSeI/kiRJkiRJ4j+SJEmSJEniP5IkSZIkSeI/kiRJkiRJ4j+SJEmSJEniP5IkSZIkSeI/kiRJkiRJ4j+SJEmSJEniP5IkSZIkSeI/kiRJkiRJ4j+SJEmSJEniP5IkSZIkSeI/kiRJkiRJ4j+SJEmSJEniP5IkSZIkSeI/kiRJkiRJ4j+SJEmSJEniP5IkSZIkSeI/kiRJkiRJ4j+SJEmSJEniP5IkSZIkSeI/kiRJkiRJ4j+SJEmSJEniP5IkSZIkSeI/kiRJkiRJ4j+SJEmSJEniP5IkSZIkSeI/kiRJkiRJ4j+SJEmSJEniP5IkSZIkSeI/kiRJkiRJ4j+SJEmSJEniP5IkSZIkSeI/kiRJkiRJ4j+SJEmSJEniP5IkSZIkSeI/kiRJkiRJ4j+SJEmSJEniP5IkSZIkSeI/kiRJkiRJ4j+SJEmSJEniP5IkSZIkSeI/kiRJkiRJ4j+SJEmSJEniP5IkSZIkSeI/kiRJkiRJ4j+SJEmSJEniP5IkSZIkSeI/kiRJkiRJ4j+SJEmSJEniP5IkSZIkSeI/kiRJkiRJ4j+SJEmSJEniP5IkSZIkSeI/kiRJkiRJ4j+SJEmSJEniP5IkSZIkSeI/kiRJkiRJ4j+SJEmSJEniP5IkSZIkSeI/kiRJkiRJ4j+SJEmSJEniP5IkSZIkSeI/kiRJkiRJ4j+SJEmSJEniP5IkSZIkSeI/kiRJkiRJ4j+SJEmSJEniP5IkSZIkSeI/kiRJkiRJ4j+SJEmSJEniP5IkSZIkSeI/kiRJkiRJ4j+SJEmSJEniP5IkSZIkSeI/kiRJkiRJ4j+SJEmSJEniP5IkSZIkSeI/kiRJkiRJ4j+SJEmSJEniP5IkSZIkSeI/kiRJkiRJ4j+SJEmSJEniP5IkSZIkSeI/kiRJkiRJ4j+SJEmSJEniP5IkSZIkSeI/kiRJkiRJ4j+SJEmSJEniP5IkSZIkSeI/kiRJkiRJ4j+SJEmSJEniP5IkSZIkSeI/kiRJkiRJ4j+SJEmSJEniP5IkSZIkSeI/kiRJkiRJ4j+SJEmSJEniP5IkSZIkSeI/kiRJkiRJ4j+SJEmSJEniP5IkSZIkSeI/kiRJkiRJ4j+SJEmSJEniP5IkSZIkSeI/kiRJkiRJ4j+SJEmSJEniP5IkSZIkSeI/kiRJkiRJ4j+SJEmSJEniP5IkSZIkSeI/kiRJkiRJ4j+SJEmSJEniP5IkSZIkSeI/kiRJkiRJ4j+SJEmSJEniP5IkSZIkSeI/kiRJkiRJ4j+SJEmSJEniP5IkSZIkSeI/kiRJkiRJ4j+SJEmSJEniP5IkSZIkSeI/kiRJkiRJ4j+SJEmSJEniP5IkSZIkSeI/kiRJkiRJ4j+SJEmSJEniP5IkSZIkSeI/kiRJkiRJ4j+SJEmSJEniP5IkSZIkSeI/kiRJkiRJ4j+SJEmSJEniP5IkSZIkSeI/kiRJkiRJ4j+SJEmSJEniP5IkSZIkSeI/kiRJkiRJ4j+SJEmSJEniP5IkSZIkSeI/kiRJkiRJ4j+SJEmSJEniP5IkSZIkSeI/kiRJkiRJ4j+SJEmSJEniP5IkSZIkSeI/kiRJkiRJ4j+SJEmSJEniP5IkSZIkSeI/kiRJkiRJ4j+SJEmSJEniP5IkSZIkSeI/kiRJkiRJ4j+SJEmSJEniP5IkSZIkSeI/kiRJkiRJ4j+SJEmSJEniP5IkSZIkSeI/kiRJkiRJ4j+SJEmSJEniP5IkSZIkSeI/kiRJkiRJ4j+SJEmSJEniP5IkSZIkSeI/kiRJkiRJ4j+SJEmSJEniP5IkSZIkSeI/kiRJkiRJ4j+SJEmSJEniP5IkSZIkSeI/kiRJkiRJ4j+SJEmSJEniP5IkSZIkSeI/kiRJkiRJ4j+SJEmSJEniP5IkSZIkSeI/kiRJkiRJ4j+SJEmSJEniP5IkSZIkSeI/kiRJkiRJ4j+SJEmSJEniP5IkSZIkSeI/kiRJkiRJ4j+SJEmSJEniP5IkSZIkSeI/kiRJkiRJ4j+SJEmSJEniP5IkSZIkSeI/kiRJkiRJ4j+SJEmSJEniP5IkSZIkSeI/kiRJkiRJ4j+SJEmSJEniP5IkSZIkSeI/kiRJkiRJ4j+SJEmSJEniP5IkSZIkSeI/kiRJkiRJ4j+SJEmSJEniP5IkSZIkSeI/kiRJkiRJ4j+SJEmSJEniP5IkSZIkSeI/kiRJkiRJ4j+SJEmSJEniP5IkSZIkSeI/kiRJkiRJ4j+SJEmSJEniP5IkSZIkSeI/kiRJkiRJ4j+SJEmSJEniP5IkSZIkSeI/kiRJkiRJ4j+SJEmSJEniP5IkSZIkSeI/kiRJkiRJ4j+SJEmSJEniP5IkSZIkSeI/kiRJkiRJ4j+SJEmSJEniP5IkSZIkSeI/kiRJkiRJ4j+SJEmSJEniP5IkSZIkSeI/kiRJkiRJ4j+SJEmSJEniP5IkSZIkSeI/kiRJkiRJ4j+SJEmSJEniP5IkSZIkSeI/kiRJkiRJ4j+SJEmSJEniP5IkSZIkSeI/kiRJkiRJ4j+SJEmSJEniP5IkSZIkSeI/kiRJkiRJ4j+SJEmSJEniP5IkSZIkSeI/kiRJkiRJ4j+SJEmSJEniP5IkSZIkSeI/kiRJkiRJ4j+SJEmSJEniP5IkSZIkSeI/kiRJkiRJ4j+SJEmSJEniP5IkSZIkSeI/kiRJkiRJ4j+SJEmSJEniP5IkSZIkSeI/kiRJkiRJ4j+SJEmSJEniP5IkSZIkSeI/kiRJkiRJ4j+SJEmSJEniP5IkSZIkSeI/kiRJkiRJ4j+SJEmSJEniP5IkSZIkSeI/kiRJkiRJ4j+SJEmSJEniP5IkSZIkSeI/kiRJkiRJ4j+SJEmSJEniP5IkSZIkSeI/kiRJkiRJ4j+SJEmSJEniP5IkSZIkSeI/kiRJkiRJ4j+SJEmSJEniP5IkSZIkSeI/kiRJkiRJ4j+SJEmSJEniP5IkSZIkSeI/kiRJkiRJ4j+SJEmSJEniP5IkSZIkSeI/kiRJkiRJ4j+SJEmSJEniP5IkSZIkSeI/kiRJkiRJ4j+SJEmSJEniP5IkSZIkSeI/kiRJkiRJ4j+SJEmSJEniP5IkSZIkSeI/kiRJkiRJ4j+SJEmSJEniP5IkSZIkSeI/kiRJkiRJ4j+SJEmSJEniP5IkSZIkSeI/kiRJkiRJ4j+SJEmSJEniP5IkSZIkSeI/kiRJkiRJ4j+SJEmSJEniP5IkSZIkSeI/kiRJkiRJ4j+SJEmSJEniP5IkSZIkSeI/kiRJkiRJ4j+SJEmSJEniP5IkSZIkSeI/kiRJkiRJ4j+SJEmSJEniP5IkSZIkSeI/kiRJkiRJ4j+SJEmSJEniP5IkSZIkSeI/kiRJkiRJ4j+SJEmSJEniP5IkSZIkSeI/kiRJkiRJ4j+SJEmSJEniP5IkSZIkSeI/kiRJkiRJ4j+SJEmSJEniP5IkSZIkSeI/kiRJkiRJ4j+SJEmSJEniP5IkSZIkSeI/kiRJkiRJ4j+SJEmSJEniP5IkSZIkSeI/kiRJkiRJ4j+SJEmSJEniP5IkSZIkSeI/kiRJkiRJ4j+SJEmSJEniP5IkSZIkSeI/kiRJkiRJ4j+SJEmSJEniP5IkSZIkSeI/kiRJkiRJ4j+SJEmSJEniP5IkSZIkSeI/kiRJkiRJ4j+SJEmSJEniP5IkSZIkSeI/kiRJkiRJ4j+SJEmSJEniP5IkSZIkSeI/kiRJkiRJ4j+SJEmSJEniP5IkSZIkSeI/kiRJkiRJ4j+SJEmSJEniP5IkSZIkSeI/kiRJkiRJ4j+SJEmSJEniP5IkSZIkSeI/kiRJkiRJ4j+SJEmSJEniP5IkSZIkSeI/kiRJkiRJ4j+SJEmSJEniP5IkSZIkSeI/kiRJkiRJ4j+SJEmSJEniP5IkSZIkSeI/kiRJkiRJ4j+SJEmSJEniP5IkSZIkSeI/kiRJkiRJ4j+SJEmSJEniP5IkSZIkSeI/kiRJkiRJ4j+SJEmSJEniP5IkSZIkSeI/kiRJkiRJ4j+SJEmSJEniP5IkSZIkSeI/kiRJkiRJ4j+SJEmSJEniP5IkSZIkSeI/kiRJkiRJ4j+SJEmSJEniP5IkSZIkSeI/kiRJkiRJ4j+SJEmSJEniP5IkSZIkSeI/kiRJkiRJ4j+SJEmSJEniP5IkSZIkSeI/kiRJkiRJ4j8=",
          "dtype": "f8",
          "shape": "20, 20"
         }
        },
        {
         "cmax": 51.5426025390625,
         "cmin": 0.28350239992141724,
         "colorscale": [
          [
           0,
           "#440154"
          ],
          [
           0.1111111111111111,
           "#482878"
          ],
          [
           0.2222222222222222,
           "#3e4989"
          ],
          [
           0.3333333333333333,
           "#31688e"
          ],
          [
           0.4444444444444444,
           "#26828e"
          ],
          [
           0.5555555555555556,
           "#1f9e89"
          ],
          [
           0.6666666666666666,
           "#35b779"
          ],
          [
           0.7777777777777778,
           "#6ece58"
          ],
          [
           0.8888888888888888,
           "#b5de2b"
          ],
          [
           1,
           "#fde725"
          ]
         ],
         "opacity": 0.7,
         "scene": "scene4",
         "showscale": false,
         "surfacecolor": {
          "bdata": "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",
          "dtype": "f4",
          "shape": "20, 20"
         },
         "type": "surface",
         "x": {
          "bdata": "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",
          "dtype": "f8",
          "shape": "20, 20"
         },
         "y": {
          "bdata": "AAAAAAAAAAAAAAAAAAAAAAAAAAAAAAAAAAAAAAAAAAAAAAAAAAAAAAAAAAAAAAAAAAAAAAAAAAAAAAAAAAAAAAAAAAAAAAAAAAAAAAAAAAAAAAAAAAAAAAAAAAAAAAAAAAAAAAAAAAAAAAAAAAAAAAAAAAAAAAAAAAAAAAAAAAAAAAAAAAAAAAAAAAAAAAAAAAAAAAAAAAAAAAAAAAAAACivobyG8qo/KK+hvIbyqj8or6G8hvKqPyivobyG8qo/KK+hvIbyqj8or6G8hvKqPyivobyG8qo/KK+hvIbyqj8or6G8hvKqPyivobyG8qo/KK+hvIbyqj8or6G8hvKqPyivobyG8qo/KK+hvIbyqj8or6G8hvKqPyivobyG8qo/KK+hvIbyqj8or6G8hvKqPyivobyG8qo/KK+hvIbyqj8or6G8hvK6PyivobyG8ro/KK+hvIbyuj8or6G8hvK6PyivobyG8ro/KK+hvIbyuj8or6G8hvK6PyivobyG8ro/KK+hvIbyuj8or6G8hvK6PyivobyG8ro/KK+hvIbyuj8or6G8hvK6PyivobyG8ro/KK+hvIbyuj8or6G8hvK6PyivobyG8ro/KK+hvIbyuj8or6G8hvK6PyivobyG8ro/XkN5DeU1xD9eQ3kN5TXEP15DeQ3lNcQ/XkN5DeU1xD9eQ3kN5TXEP15DeQ3lNcQ/XkN5DeU1xD9eQ3kN5TXEP15DeQ3lNcQ/XkN5DeU1xD9eQ3kN5TXEP15DeQ3lNcQ/XkN5DeU1xD9eQ3kN5TXEP15DeQ3lNcQ/XkN5DeU1xD9eQ3kN5TXEP15DeQ3lNcQ/XkN5DeU1xD9eQ3kN5TXEPyivobyG8so/KK+hvIbyyj8or6G8hvLKPyivobyG8so/KK+hvIbyyj8or6G8hvLKPyivobyG8so/KK+hvIbyyj8or6G8hvLKPyivobyG8so/KK+hvIbyyj8or6G8hvLKPyivobyG8so/KK+hvIbyyj8or6G8hvLKPyivobyG8so/KK+hvIbyyj8or6G8hvLKPyivobyG8so/KK+hvIbyyj95DeU1lNfQP3kN5TWU19A/eQ3lNZTX0D95DeU1lNfQP3kN5TWU19A/eQ3lNZTX0D95DeU1lNfQP3kN5TWU19A/eQ3lNZTX0D95DeU1lNfQP3kN5TWU19A/eQ3lNZTX0D95DeU1lNfQP3kN5TWU19A/eQ3lNZTX0D95DeU1lNfQP3kN5TWU19A/eQ3lNZTX0D95DeU1lNfQP3kN5TWU19A/XkN5DeU11D9eQ3kN5TXUP15DeQ3lNdQ/XkN5DeU11D9eQ3kN5TXUP15DeQ3lNdQ/XkN5DeU11D9eQ3kN5TXUP15DeQ3lNdQ/XkN5DeU11D9eQ3kN5TXUP15DeQ3lNdQ/XkN5DeU11D9eQ3kN5TXUP15DeQ3lNdQ/XkN5DeU11D9eQ3kN5TXUP15DeQ3lNdQ/XkN5DeU11D9eQ3kN5TXUP0N5DeU1lNc/Q3kN5TWU1z9DeQ3lNZTXP0N5DeU1lNc/Q3kN5TWU1z9DeQ3lNZTXP0N5DeU1lNc/Q3kN5TWU1z9DeQ3lNZTXP0N5DeU1lNc/Q3kN5TWU1z9DeQ3lNZTXP0N5DeU1lNc/Q3kN5TWU1z9DeQ3lNZTXP0N5DeU1lNc/Q3kN5TWU1z9DeQ3lNZTXP0N5DeU1lNc/Q3kN5TWU1z8or6G8hvLaPyivobyG8to/KK+hvIby2j8or6G8hvLaPyivobyG8to/KK+hvIby2j8or6G8hvLaPyivobyG8to/KK+hvIby2j8or6G8hvLaPyivobyG8to/KK+hvIby2j8or6G8hvLaPyivobyG8to/KK+hvIby2j8or6G8hvLaPyivobyG8to/KK+hvIby2j8or6G8hvLaPyivobyG8to/DeU1lNdQ3j8N5TWU11DePw3lNZTXUN4/DeU1lNdQ3j8N5TWU11DePw3lNZTXUN4/DeU1lNdQ3j8N5TWU11DePw3lNZTXUN4/DeU1lNdQ3j8N5TWU11DePw3lNZTXUN4/DeU1lNdQ3j8N5TWU11DePw3lNZTXUN4/DeU1lNdQ3j8N5TWU11DePw3lNZTXUN4/DeU1lNdQ3j8N5TWU11DeP3kN5TWU1+A/eQ3lNZTX4D95DeU1lNfgP3kN5TWU1+A/eQ3lNZTX4D95DeU1lNfgP3kN5TWU1+A/eQ3lNZTX4D95DeU1lNfgP3kN5TWU1+A/eQ3lNZTX4D95DeU1lNfgP3kN5TWU1+A/eQ3lNZTX4D95DeU1lNfgP3kN5TWU1+A/eQ3lNZTX4D95DeU1lNfgP3kN5TWU1+A/eQ3lNZTX4D9sKK+hvIbiP2wor6G8huI/bCivobyG4j9sKK+hvIbiP2wor6G8huI/bCivobyG4j9sKK+hvIbiP2wor6G8huI/bCivobyG4j9sKK+hvIbiP2wor6G8huI/bCivobyG4j9sKK+hvIbiP2wor6G8huI/bCivobyG4j9sKK+hvIbiP2wor6G8huI/bCivobyG4j9sKK+hvIbiP2wor6G8huI/XkN5DeU15D9eQ3kN5TXkP15DeQ3lNeQ/XkN5DeU15D9eQ3kN5TXkP15DeQ3lNeQ/XkN5DeU15D9eQ3kN5TXkP15DeQ3lNeQ/XkN5DeU15D9eQ3kN5TXkP15DeQ3lNeQ/XkN5DeU15D9eQ3kN5TXkP15DeQ3lNeQ/XkN5DeU15D9eQ3kN5TXkP15DeQ3lNeQ/XkN5DeU15D9eQ3kN5TXkP1BeQ3kN5eU/UF5DeQ3l5T9QXkN5DeXlP1BeQ3kN5eU/UF5DeQ3l5T9QXkN5DeXlP1BeQ3kN5eU/UF5DeQ3l5T9QXkN5DeXlP1BeQ3kN5eU/UF5DeQ3l5T9QXkN5DeXlP1BeQ3kN5eU/UF5DeQ3l5T9QXkN5DeXlP1BeQ3kN5eU/UF5DeQ3l5T9QXkN5DeXlP1BeQ3kN5eU/UF5DeQ3l5T9DeQ3lNZTnP0N5DeU1lOc/Q3kN5TWU5z9DeQ3lNZTnP0N5DeU1lOc/Q3kN5TWU5z9DeQ3lNZTnP0N5DeU1lOc/Q3kN5TWU5z9DeQ3lNZTnP0N5DeU1lOc/Q3kN5TWU5z9DeQ3lNZTnP0N5DeU1lOc/Q3kN5TWU5z9DeQ3lNZTnP0N5DeU1lOc/Q3kN5TWU5z9DeQ3lNZTnP0N5DeU1lOc/NpTXUF5D6T82lNdQXkPpPzaU11BeQ+k/NpTXUF5D6T82lNdQXkPpPzaU11BeQ+k/NpTXUF5D6T82lNdQXkPpPzaU11BeQ+k/NpTXUF5D6T82lNdQXkPpPzaU11BeQ+k/NpTXUF5D6T82lNdQXkPpPzaU11BeQ+k/NpTXUF5D6T82lNdQXkPpPzaU11BeQ+k/NpTXUF5D6T82lNdQXkPpPyivobyG8uo/KK+hvIby6j8or6G8hvLqPyivobyG8uo/KK+hvIby6j8or6G8hvLqPyivobyG8uo/KK+hvIby6j8or6G8hvLqPyivobyG8uo/KK+hvIby6j8or6G8hvLqPyivobyG8uo/KK+hvIby6j8or6G8hvLqPyivobyG8uo/KK+hvIby6j8or6G8hvLqPyivobyG8uo/KK+hvIby6j8aymsor6HsPxrKayivoew/GsprKK+h7D8aymsor6HsPxrKayivoew/GsprKK+h7D8aymsor6HsPxrKayivoew/GsprKK+h7D8aymsor6HsPxrKayivoew/GsprKK+h7D8aymsor6HsPxrKayivoew/GsprKK+h7D8aymsor6HsPxrKayivoew/GsprKK+h7D8aymsor6HsPxrKayivoew/DeU1lNdQ7j8N5TWU11DuPw3lNZTXUO4/DeU1lNdQ7j8N5TWU11DuPw3lNZTXUO4/DeU1lNdQ7j8N5TWU11DuPw3lNZTXUO4/DeU1lNdQ7j8N5TWU11DuPw3lNZTXUO4/DeU1lNdQ7j8N5TWU11DuPw3lNZTXUO4/DeU1lNdQ7j8N5TWU11DuPw3lNZTXUO4/DeU1lNdQ7j8N5TWU11DuPwAAAAAAAPA/AAAAAAAA8D8AAAAAAADwPwAAAAAAAPA/AAAAAAAA8D8AAAAAAADwPwAAAAAAAPA/AAAAAAAA8D8AAAAAAADwPwAAAAAAAPA/AAAAAAAA8D8AAAAAAADwPwAAAAAAAPA/AAAAAAAA8D8AAAAAAADwPwAAAAAAAPA/AAAAAAAA8D8AAAAAAADwPwAAAAAAAPA/AAAAAAAA8D8=",
          "dtype": "f8",
          "shape": "20, 20"
         },
         "z": {
          "bdata": "kiRJkiRJ4j+SJEmSJEniP5IkSZIkSeI/kiRJkiRJ4j+SJEmSJEniP5IkSZIkSeI/kiRJkiRJ4j+SJEmSJEniP5IkSZIkSeI/kiRJkiRJ4j+SJEmSJEniP5IkSZIkSeI/kiRJkiRJ4j+SJEmSJEniP5IkSZIkSeI/kiRJkiRJ4j+SJEmSJEniP5IkSZIkSeI/kiRJkiRJ4j+SJEmSJEniP5IkSZIkSeI/kiRJkiRJ4j+SJEmSJEniP5IkSZIkSeI/kiRJkiRJ4j+SJEmSJEniP5IkSZIkSeI/kiRJkiRJ4j+SJEmSJEniP5IkSZIkSeI/kiRJkiRJ4j+SJEmSJEniP5IkSZIkSeI/kiRJkiRJ4j+SJEmSJEniP5IkSZIkSeI/kiRJkiRJ4j+SJEmSJEniP5IkSZIkSeI/kiRJkiRJ4j+SJEmSJEniP5IkSZIkSeI/kiRJkiRJ4j+SJEmSJEniP5IkSZIkSeI/kiRJkiRJ4j+SJEmSJEniP5IkSZIkSeI/kiRJkiRJ4j+SJEmSJEniP5IkSZIkSeI/kiRJkiRJ4j+SJEmSJEniP5IkSZIkSeI/kiRJkiRJ4j+SJEmSJEniP5IkSZIkSeI/kiRJkiRJ4j+SJEmSJEniP5IkSZIkSeI/kiRJkiRJ4j+SJEmSJEniP5IkSZIkSeI/kiRJkiRJ4j+SJEmSJEniP5IkSZIkSeI/kiRJkiRJ4j+SJEmSJEniP5IkSZIkSeI/kiRJkiRJ4j+SJEmSJEniP5IkSZIkSeI/kiRJkiRJ4j+SJEmSJEniP5IkSZIkSeI/kiRJkiRJ4j+SJEmSJEniP5IkSZIkSeI/kiRJkiRJ4j+SJEmSJEniP5IkSZIkSeI/kiRJkiRJ4j+SJEmSJEniP5IkSZIkSeI/kiRJkiRJ4j+SJEmSJEniP5IkSZIkSeI/kiRJkiRJ4j+SJEmSJEniP5IkSZIkSeI/kiRJkiRJ4j+SJEmSJEniP5IkSZIkSeI/kiRJkiRJ4j+SJEmSJEniP5IkSZIkSeI/kiRJkiRJ4j+SJEmSJEniP5IkSZIkSeI/kiRJkiRJ4j+SJEmSJEniP5IkSZIkSeI/kiRJkiRJ4j+SJEmSJEniP5IkSZIkSeI/kiRJkiRJ4j+SJEmSJEniP5IkSZIkSeI/kiRJkiRJ4j+SJEmSJEniP5IkSZIkSeI/kiRJkiRJ4j+SJEmSJEniP5IkSZIkSeI/kiRJkiRJ4j+SJEmSJEniP5IkSZIkSeI/kiRJkiRJ4j+SJEmSJEniP5IkSZIkSeI/kiRJkiRJ4j+SJEmSJEniP5IkSZIkSeI/kiRJkiRJ4j+SJEmSJEniP5IkSZIkSeI/kiRJkiRJ4j+SJEmSJEniP5IkSZIkSeI/kiRJkiRJ4j+SJEmSJEniP5IkSZIkSeI/kiRJkiRJ4j+SJEmSJEniP5IkSZIkSeI/kiRJkiRJ4j+SJEmSJEniP5IkSZIkSeI/kiRJkiRJ4j+SJEmSJEniP5IkSZIkSeI/kiRJkiRJ4j+SJEmSJEniP5IkSZIkSeI/kiRJkiRJ4j+SJEmSJEniP5IkSZIkSeI/kiRJkiRJ4j+SJEmSJEniP5IkSZIkSeI/kiRJkiRJ4j+SJEmSJEniP5IkSZIkSeI/kiRJkiRJ4j+SJEmSJEniP5IkSZIkSeI/kiRJkiRJ4j+SJEmSJEniP5IkSZIkSeI/kiRJkiRJ4j+SJEmSJEniP5IkSZIkSeI/kiRJkiRJ4j+SJEmSJEniP5IkSZIkSeI/kiRJkiRJ4j+SJEmSJEniP5IkSZIkSeI/kiRJkiRJ4j+SJEmSJEniP5IkSZIkSeI/kiRJkiRJ4j+SJEmSJEniP5IkSZIkSeI/kiRJkiRJ4j+SJEmSJEniP5IkSZIkSeI/kiRJkiRJ4j+SJEmSJEniP5IkSZIkSeI/kiRJkiRJ4j+SJEmSJEniP5IkSZIkSeI/kiRJkiRJ4j+SJEmSJEniP5IkSZIkSeI/kiRJkiRJ4j+SJEmSJEniP5IkSZIkSeI/kiRJkiRJ4j+SJEmSJEniP5IkSZIkSeI/kiRJkiRJ4j+SJEmSJEniP5IkSZIkSeI/kiRJkiRJ4j+SJEmSJEniP5IkSZIkSeI/kiRJkiRJ4j+SJEmSJEniP5IkSZIkSeI/kiRJkiRJ4j+SJEmSJEniP5IkSZIkSeI/kiRJkiRJ4j+SJEmSJEniP5IkSZIkSeI/kiRJkiRJ4j+SJEmSJEniP5IkSZIkSeI/kiRJkiRJ4j+SJEmSJEniP5IkSZIkSeI/kiRJkiRJ4j+SJEmSJEniP5IkSZIkSeI/kiRJkiRJ4j+SJEmSJEniP5IkSZIkSeI/kiRJkiRJ4j+SJEmSJEniP5IkSZIkSeI/kiRJkiRJ4j+SJEmSJEniP5IkSZIkSeI/kiRJkiRJ4j+SJEmSJEniP5IkSZIkSeI/kiRJkiRJ4j+SJEmSJEniP5IkSZIkSeI/kiRJkiRJ4j+SJEmSJEniP5IkSZIkSeI/kiRJkiRJ4j+SJEmSJEniP5IkSZIkSeI/kiRJkiRJ4j+SJEmSJEniP5IkSZIkSeI/kiRJkiRJ4j+SJEmSJEniP5IkSZIkSeI/kiRJkiRJ4j+SJEmSJEniP5IkSZIkSeI/kiRJkiRJ4j+SJEmSJEniP5IkSZIkSeI/kiRJkiRJ4j+SJEmSJEniP5IkSZIkSeI/kiRJkiRJ4j+SJEmSJEniP5IkSZIkSeI/kiRJkiRJ4j+SJEmSJEniP5IkSZIkSeI/kiRJkiRJ4j+SJEmSJEniP5IkSZIkSeI/kiRJkiRJ4j+SJEmSJEniP5IkSZIkSeI/kiRJkiRJ4j+SJEmSJEniP5IkSZIkSeI/kiRJkiRJ4j+SJEmSJEniP5IkSZIkSeI/kiRJkiRJ4j+SJEmSJEniP5IkSZIkSeI/kiRJkiRJ4j+SJEmSJEniP5IkSZIkSeI/kiRJkiRJ4j+SJEmSJEniP5IkSZIkSeI/kiRJkiRJ4j+SJEmSJEniP5IkSZIkSeI/kiRJkiRJ4j+SJEmSJEniP5IkSZIkSeI/kiRJkiRJ4j+SJEmSJEniP5IkSZIkSeI/kiRJkiRJ4j+SJEmSJEniP5IkSZIkSeI/kiRJkiRJ4j+SJEmSJEniP5IkSZIkSeI/kiRJkiRJ4j+SJEmSJEniP5IkSZIkSeI/kiRJkiRJ4j+SJEmSJEniP5IkSZIkSeI/kiRJkiRJ4j+SJEmSJEniP5IkSZIkSeI/kiRJkiRJ4j+SJEmSJEniP5IkSZIkSeI/kiRJkiRJ4j+SJEmSJEniP5IkSZIkSeI/kiRJkiRJ4j+SJEmSJEniP5IkSZIkSeI/kiRJkiRJ4j+SJEmSJEniP5IkSZIkSeI/kiRJkiRJ4j+SJEmSJEniP5IkSZIkSeI/kiRJkiRJ4j+SJEmSJEniP5IkSZIkSeI/kiRJkiRJ4j+SJEmSJEniP5IkSZIkSeI/kiRJkiRJ4j+SJEmSJEniP5IkSZIkSeI/kiRJkiRJ4j+SJEmSJEniP5IkSZIkSeI/kiRJkiRJ4j+SJEmSJEniP5IkSZIkSeI/kiRJkiRJ4j+SJEmSJEniP5IkSZIkSeI/kiRJkiRJ4j+SJEmSJEniP5IkSZIkSeI/kiRJkiRJ4j+SJEmSJEniP5IkSZIkSeI/kiRJkiRJ4j+SJEmSJEniP5IkSZIkSeI/kiRJkiRJ4j+SJEmSJEniP5IkSZIkSeI/kiRJkiRJ4j+SJEmSJEniP5IkSZIkSeI/kiRJkiRJ4j+SJEmSJEniP5IkSZIkSeI/kiRJkiRJ4j+SJEmSJEniP5IkSZIkSeI/kiRJkiRJ4j+SJEmSJEniP5IkSZIkSeI/kiRJkiRJ4j+SJEmSJEniP5IkSZIkSeI/kiRJkiRJ4j+SJEmSJEniP5IkSZIkSeI/kiRJkiRJ4j+SJEmSJEniP5IkSZIkSeI/kiRJkiRJ4j+SJEmSJEniP5IkSZIkSeI/kiRJkiRJ4j+SJEmSJEniP5IkSZIkSeI/kiRJkiRJ4j+SJEmSJEniP5IkSZIkSeI/kiRJkiRJ4j+SJEmSJEniP5IkSZIkSeI/kiRJkiRJ4j+SJEmSJEniP5IkSZIkSeI/kiRJkiRJ4j+SJEmSJEniP5IkSZIkSeI/kiRJkiRJ4j+SJEmSJEniP5IkSZIkSeI/kiRJkiRJ4j+SJEmSJEniP5IkSZIkSeI/kiRJkiRJ4j+SJEmSJEniP5IkSZIkSeI/kiRJkiRJ4j+SJEmSJEniP5IkSZIkSeI/kiRJkiRJ4j8=",
          "dtype": "f8",
          "shape": "20, 20"
         }
        },
        {
         "cmax": 51.5426025390625,
         "cmin": 0.28350239992141724,
         "colorscale": [
          [
           0,
           "#440154"
          ],
          [
           0.1111111111111111,
           "#482878"
          ],
          [
           0.2222222222222222,
           "#3e4989"
          ],
          [
           0.3333333333333333,
           "#31688e"
          ],
          [
           0.4444444444444444,
           "#26828e"
          ],
          [
           0.5555555555555556,
           "#1f9e89"
          ],
          [
           0.6666666666666666,
           "#35b779"
          ],
          [
           0.7777777777777778,
           "#6ece58"
          ],
          [
           0.8888888888888888,
           "#b5de2b"
          ],
          [
           1,
           "#fde725"
          ]
         ],
         "opacity": 0.7,
         "scene": "scene5",
         "showscale": false,
         "surfacecolor": {
          "bdata": "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",
          "dtype": "f4",
          "shape": "20, 20"
         },
         "type": "surface",
         "x": {
          "bdata": "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",
          "dtype": "f8",
          "shape": "20, 20"
         },
         "y": {
          "bdata": "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",
          "dtype": "f8",
          "shape": "20, 20"
         },
         "z": {
          "bdata": "kiRJkiRJ4j+SJEmSJEniP5IkSZIkSeI/kiRJkiRJ4j+SJEmSJEniP5IkSZIkSeI/kiRJkiRJ4j+SJEmSJEniP5IkSZIkSeI/kiRJkiRJ4j+SJEmSJEniP5IkSZIkSeI/kiRJkiRJ4j+SJEmSJEniP5IkSZIkSeI/kiRJkiRJ4j+SJEmSJEniP5IkSZIkSeI/kiRJkiRJ4j+SJEmSJEniP5IkSZIkSeI/kiRJkiRJ4j+SJEmSJEniP5IkSZIkSeI/kiRJkiRJ4j+SJEmSJEniP5IkSZIkSeI/kiRJkiRJ4j+SJEmSJEniP5IkSZIkSeI/kiRJkiRJ4j+SJEmSJEniP5IkSZIkSeI/kiRJkiRJ4j+SJEmSJEniP5IkSZIkSeI/kiRJkiRJ4j+SJEmSJEniP5IkSZIkSeI/kiRJkiRJ4j+SJEmSJEniP5IkSZIkSeI/kiRJkiRJ4j+SJEmSJEniP5IkSZIkSeI/kiRJkiRJ4j+SJEmSJEniP5IkSZIkSeI/kiRJkiRJ4j+SJEmSJEniP5IkSZIkSeI/kiRJkiRJ4j+SJEmSJEniP5IkSZIkSeI/kiRJkiRJ4j+SJEmSJEniP5IkSZIkSeI/kiRJkiRJ4j+SJEmSJEniP5IkSZIkSeI/kiRJkiRJ4j+SJEmSJEniP5IkSZIkSeI/kiRJkiRJ4j+SJEmSJEniP5IkSZIkSeI/kiRJkiRJ4j+SJEmSJEniP5IkSZIkSeI/kiRJkiRJ4j+SJEmSJEniP5IkSZIkSeI/kiRJkiRJ4j+SJEmSJEniP5IkSZIkSeI/kiRJkiRJ4j+SJEmSJEniP5IkSZIkSeI/kiRJkiRJ4j+SJEmSJEniP5IkSZIkSeI/kiRJkiRJ4j+SJEmSJEniP5IkSZIkSeI/kiRJkiRJ4j+SJEmSJEniP5IkSZIkSeI/kiRJkiRJ4j+SJEmSJEniP5IkSZIkSeI/kiRJkiRJ4j+SJEmSJEniP5IkSZIkSeI/kiRJkiRJ4j+SJEmSJEniP5IkSZIkSeI/kiRJkiRJ4j+SJEmSJEniP5IkSZIkSeI/kiRJkiRJ4j+SJEmSJEniP5IkSZIkSeI/kiRJkiRJ4j+SJEmSJEniP5IkSZIkSeI/kiRJkiRJ4j+SJEmSJEniP5IkSZIkSeI/kiRJkiRJ4j+SJEmSJEniP5IkSZIkSeI/kiRJkiRJ4j+SJEmSJEniP5IkSZIkSeI/kiRJkiRJ4j+SJEmSJEniP5IkSZIkSeI/kiRJkiRJ4j+SJEmSJEniP5IkSZIkSeI/kiRJkiRJ4j+SJEmSJEniP5IkSZIkSeI/kiRJkiRJ4j+SJEmSJEniP5IkSZIkSeI/kiRJkiRJ4j+SJEmSJEniP5IkSZIkSeI/kiRJkiRJ4j+SJEmSJEniP5IkSZIkSeI/kiRJkiRJ4j+SJEmSJEniP5IkSZIkSeI/kiRJkiRJ4j+SJEmSJEniP5IkSZIkSeI/kiRJkiRJ4j+SJEmSJEniP5IkSZIkSeI/kiRJkiRJ4j+SJEmSJEniP5IkSZIkSeI/kiRJkiRJ4j+SJEmSJEniP5IkSZIkSeI/kiRJkiRJ4j+SJEmSJEniP5IkSZIkSeI/kiRJkiRJ4j+SJEmSJEniP5IkSZIkSeI/kiRJkiRJ4j+SJEmSJEniP5IkSZIkSeI/kiRJkiRJ4j+SJEmSJEniP5IkSZIkSeI/kiRJkiRJ4j+SJEmSJEniP5IkSZIkSeI/kiRJkiRJ4j+SJEmSJEniP5IkSZIkSeI/kiRJkiRJ4j+SJEmSJEniP5IkSZIkSeI/kiRJkiRJ4j+SJEmSJEniP5IkSZIkSeI/kiRJkiRJ4j+SJEmSJEniP5IkSZIkSeI/kiRJkiRJ4j+SJEmSJEniP5IkSZIkSeI/kiRJkiRJ4j+SJEmSJEniP5IkSZIkSeI/kiRJkiRJ4j+SJEmSJEniP5IkSZIkSeI/kiRJkiRJ4j+SJEmSJEniP5IkSZIkSeI/kiRJkiRJ4j+SJEmSJEniP5IkSZIkSeI/kiRJkiRJ4j+SJEmSJEniP5IkSZIkSeI/kiRJkiRJ4j+SJEmSJEniP5IkSZIkSeI/kiRJkiRJ4j+SJEmSJEniP5IkSZIkSeI/kiRJkiRJ4j+SJEmSJEniP5IkSZIkSeI/kiRJkiRJ4j+SJEmSJEniP5IkSZIkSeI/kiRJkiRJ4j+SJEmSJEniP5IkSZIkSeI/kiRJkiRJ4j+SJEmSJEniP5IkSZIkSeI/kiRJkiRJ4j+SJEmSJEniP5IkSZIkSeI/kiRJkiRJ4j+SJEmSJEniP5IkSZIkSeI/kiRJkiRJ4j+SJEmSJEniP5IkSZIkSeI/kiRJkiRJ4j+SJEmSJEniP5IkSZIkSeI/kiRJkiRJ4j+SJEmSJEniP5IkSZIkSeI/kiRJkiRJ4j+SJEmSJEniP5IkSZIkSeI/kiRJkiRJ4j+SJEmSJEniP5IkSZIkSeI/kiRJkiRJ4j+SJEmSJEniP5IkSZIkSeI/kiRJkiRJ4j+SJEmSJEniP5IkSZIkSeI/kiRJkiRJ4j+SJEmSJEniP5IkSZIkSeI/kiRJkiRJ4j+SJEmSJEniP5IkSZIkSeI/kiRJkiRJ4j+SJEmSJEniP5IkSZIkSeI/kiRJkiRJ4j+SJEmSJEniP5IkSZIkSeI/kiRJkiRJ4j+SJEmSJEniP5IkSZIkSeI/kiRJkiRJ4j+SJEmSJEniP5IkSZIkSeI/kiRJkiRJ4j+SJEmSJEniP5IkSZIkSeI/kiRJkiRJ4j+SJEmSJEniP5IkSZIkSeI/kiRJkiRJ4j+SJEmSJEniP5IkSZIkSeI/kiRJkiRJ4j+SJEmSJEniP5IkSZIkSeI/kiRJkiRJ4j+SJEmSJEniP5IkSZIkSeI/kiRJkiRJ4j+SJEmSJEniP5IkSZIkSeI/kiRJkiRJ4j+SJEmSJEniP5IkSZIkSeI/kiRJkiRJ4j+SJEmSJEniP5IkSZIkSeI/kiRJkiRJ4j+SJEmSJEniP5IkSZIkSeI/kiRJkiRJ4j+SJEmSJEniP5IkSZIkSeI/kiRJkiRJ4j+SJEmSJEniP5IkSZIkSeI/kiRJkiRJ4j+SJEmSJEniP5IkSZIkSeI/kiRJkiRJ4j+SJEmSJEniP5IkSZIkSeI/kiRJkiRJ4j+SJEmSJEniP5IkSZIkSeI/kiRJkiRJ4j+SJEmSJEniP5IkSZIkSeI/kiRJkiRJ4j+SJEmSJEniP5IkSZIkSeI/kiRJkiRJ4j+SJEmSJEniP5IkSZIkSeI/kiRJkiRJ4j+SJEmSJEniP5IkSZIkSeI/kiRJkiRJ4j+SJEmSJEniP5IkSZIkSeI/kiRJkiRJ4j+SJEmSJEniP5IkSZIkSeI/kiRJkiRJ4j+SJEmSJEniP5IkSZIkSeI/kiRJkiRJ4j+SJEmSJEniP5IkSZIkSeI/kiRJkiRJ4j+SJEmSJEniP5IkSZIkSeI/kiRJkiRJ4j+SJEmSJEniP5IkSZIkSeI/kiRJkiRJ4j+SJEmSJEniP5IkSZIkSeI/kiRJkiRJ4j+SJEmSJEniP5IkSZIkSeI/kiRJkiRJ4j+SJEmSJEniP5IkSZIkSeI/kiRJkiRJ4j+SJEmSJEniP5IkSZIkSeI/kiRJkiRJ4j+SJEmSJEniP5IkSZIkSeI/kiRJkiRJ4j+SJEmSJEniP5IkSZIkSeI/kiRJkiRJ4j+SJEmSJEniP5IkSZIkSeI/kiRJkiRJ4j+SJEmSJEniP5IkSZIkSeI/kiRJkiRJ4j+SJEmSJEniP5IkSZIkSeI/kiRJkiRJ4j+SJEmSJEniP5IkSZIkSeI/kiRJkiRJ4j+SJEmSJEniP5IkSZIkSeI/kiRJkiRJ4j+SJEmSJEniP5IkSZIkSeI/kiRJkiRJ4j+SJEmSJEniP5IkSZIkSeI/kiRJkiRJ4j+SJEmSJEniP5IkSZIkSeI/kiRJkiRJ4j+SJEmSJEniP5IkSZIkSeI/kiRJkiRJ4j+SJEmSJEniP5IkSZIkSeI/kiRJkiRJ4j+SJEmSJEniP5IkSZIkSeI/kiRJkiRJ4j+SJEmSJEniP5IkSZIkSeI/kiRJkiRJ4j+SJEmSJEniP5IkSZIkSeI/kiRJkiRJ4j+SJEmSJEniP5IkSZIkSeI/kiRJkiRJ4j+SJEmSJEniP5IkSZIkSeI/kiRJkiRJ4j+SJEmSJEniP5IkSZIkSeI/kiRJkiRJ4j+SJEmSJEniP5IkSZIkSeI/kiRJkiRJ4j+SJEmSJEniP5IkSZIkSeI/kiRJkiRJ4j8=",
          "dtype": "f8",
          "shape": "20, 20"
         }
        },
        {
         "cmax": 51.5426025390625,
         "cmin": 0.28350239992141724,
         "colorscale": [
          [
           0,
           "#440154"
          ],
          [
           0.1111111111111111,
           "#482878"
          ],
          [
           0.2222222222222222,
           "#3e4989"
          ],
          [
           0.3333333333333333,
           "#31688e"
          ],
          [
           0.4444444444444444,
           "#26828e"
          ],
          [
           0.5555555555555556,
           "#1f9e89"
          ],
          [
           0.6666666666666666,
           "#35b779"
          ],
          [
           0.7777777777777778,
           "#6ece58"
          ],
          [
           0.8888888888888888,
           "#b5de2b"
          ],
          [
           1,
           "#fde725"
          ]
         ],
         "opacity": 0.7,
         "scene": "scene",
         "showscale": false,
         "surfacecolor": {
          "bdata": "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",
          "dtype": "f4",
          "shape": "20, 20"
         },
         "type": "surface",
         "x": {
          "bdata": "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",
          "dtype": "f8",
          "shape": "20, 20"
         },
         "y": {
          "bdata": "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",
          "dtype": "f8",
          "shape": "20, 20"
         },
         "z": {
          "bdata": "tm3btm3b5j+2bdu2bdvmP7Zt27Zt2+Y/tm3btm3b5j+2bdu2bdvmP7Zt27Zt2+Y/tm3btm3b5j+2bdu2bdvmP7Zt27Zt2+Y/tm3btm3b5j+2bdu2bdvmP7Zt27Zt2+Y/tm3btm3b5j+2bdu2bdvmP7Zt27Zt2+Y/tm3btm3b5j+2bdu2bdvmP7Zt27Zt2+Y/tm3btm3b5j+2bdu2bdvmP7Zt27Zt2+Y/tm3btm3b5j+2bdu2bdvmP7Zt27Zt2+Y/tm3btm3b5j+2bdu2bdvmP7Zt27Zt2+Y/tm3btm3b5j+2bdu2bdvmP7Zt27Zt2+Y/tm3btm3b5j+2bdu2bdvmP7Zt27Zt2+Y/tm3btm3b5j+2bdu2bdvmP7Zt27Zt2+Y/tm3btm3b5j+2bdu2bdvmP7Zt27Zt2+Y/tm3btm3b5j+2bdu2bdvmP7Zt27Zt2+Y/tm3btm3b5j+2bdu2bdvmP7Zt27Zt2+Y/tm3btm3b5j+2bdu2bdvmP7Zt27Zt2+Y/tm3btm3b5j+2bdu2bdvmP7Zt27Zt2+Y/tm3btm3b5j+2bdu2bdvmP7Zt27Zt2+Y/tm3btm3b5j+2bdu2bdvmP7Zt27Zt2+Y/tm3btm3b5j+2bdu2bdvmP7Zt27Zt2+Y/tm3btm3b5j+2bdu2bdvmP7Zt27Zt2+Y/tm3btm3b5j+2bdu2bdvmP7Zt27Zt2+Y/tm3btm3b5j+2bdu2bdvmP7Zt27Zt2+Y/tm3btm3b5j+2bdu2bdvmP7Zt27Zt2+Y/tm3btm3b5j+2bdu2bdvmP7Zt27Zt2+Y/tm3btm3b5j+2bdu2bdvmP7Zt27Zt2+Y/tm3btm3b5j+2bdu2bdvmP7Zt27Zt2+Y/tm3btm3b5j+2bdu2bdvmP7Zt27Zt2+Y/tm3btm3b5j+2bdu2bdvmP7Zt27Zt2+Y/tm3btm3b5j+2bdu2bdvmP7Zt27Zt2+Y/tm3btm3b5j+2bdu2bdvmP7Zt27Zt2+Y/tm3btm3b5j+2bdu2bdvmP7Zt27Zt2+Y/tm3btm3b5j+2bdu2bdvmP7Zt27Zt2+Y/tm3btm3b5j+2bdu2bdvmP7Zt27Zt2+Y/tm3btm3b5j+2bdu2bdvmP7Zt27Zt2+Y/tm3btm3b5j+2bdu2bdvmP7Zt27Zt2+Y/tm3btm3b5j+2bdu2bdvmP7Zt27Zt2+Y/tm3btm3b5j+2bdu2bdvmP7Zt27Zt2+Y/tm3btm3b5j+2bdu2bdvmP7Zt27Zt2+Y/tm3btm3b5j+2bdu2bdvmP7Zt27Zt2+Y/tm3btm3b5j+2bdu2bdvmP7Zt27Zt2+Y/tm3btm3b5j+2bdu2bdvmP7Zt27Zt2+Y/tm3btm3b5j+2bdu2bdvmP7Zt27Zt2+Y/tm3btm3b5j+2bdu2bdvmP7Zt27Zt2+Y/tm3btm3b5j+2bdu2bdvmP7Zt27Zt2+Y/tm3btm3b5j+2bdu2bdvmP7Zt27Zt2+Y/tm3btm3b5j+2bdu2bdvmP7Zt27Zt2+Y/tm3btm3b5j+2bdu2bdvmP7Zt27Zt2+Y/tm3btm3b5j+2bdu2bdvmP7Zt27Zt2+Y/tm3btm3b5j+2bdu2bdvmP7Zt27Zt2+Y/tm3btm3b5j+2bdu2bdvmP7Zt27Zt2+Y/tm3btm3b5j+2bdu2bdvmP7Zt27Zt2+Y/tm3btm3b5j+2bdu2bdvmP7Zt27Zt2+Y/tm3btm3b5j+2bdu2bdvmP7Zt27Zt2+Y/tm3btm3b5j+2bdu2bdvmP7Zt27Zt2+Y/tm3btm3b5j+2bdu2bdvmP7Zt27Zt2+Y/tm3btm3b5j+2bdu2bdvmP7Zt27Zt2+Y/tm3btm3b5j+2bdu2bdvmP7Zt27Zt2+Y/tm3btm3b5j+2bdu2bdvmP7Zt27Zt2+Y/tm3btm3b5j+2bdu2bdvmP7Zt27Zt2+Y/tm3btm3b5j+2bdu2bdvmP7Zt27Zt2+Y/tm3btm3b5j+2bdu2bdvmP7Zt27Zt2+Y/tm3btm3b5j+2bdu2bdvmP7Zt27Zt2+Y/tm3btm3b5j+2bdu2bdvmP7Zt27Zt2+Y/tm3btm3b5j+2bdu2bdvmP7Zt27Zt2+Y/tm3btm3b5j+2bdu2bdvmP7Zt27Zt2+Y/tm3btm3b5j+2bdu2bdvmP7Zt27Zt2+Y/tm3btm3b5j+2bdu2bdvmP7Zt27Zt2+Y/tm3btm3b5j+2bdu2bdvmP7Zt27Zt2+Y/tm3btm3b5j+2bdu2bdvmP7Zt27Zt2+Y/tm3btm3b5j+2bdu2bdvmP7Zt27Zt2+Y/tm3btm3b5j+2bdu2bdvmP7Zt27Zt2+Y/tm3btm3b5j+2bdu2bdvmP7Zt27Zt2+Y/tm3btm3b5j+2bdu2bdvmP7Zt27Zt2+Y/tm3btm3b5j+2bdu2bdvmP7Zt27Zt2+Y/tm3btm3b5j+2bdu2bdvmP7Zt27Zt2+Y/tm3btm3b5j+2bdu2bdvmP7Zt27Zt2+Y/tm3btm3b5j+2bdu2bdvmP7Zt27Zt2+Y/tm3btm3b5j+2bdu2bdvmP7Zt27Zt2+Y/tm3btm3b5j+2bdu2bdvmP7Zt27Zt2+Y/tm3btm3b5j+2bdu2bdvmP7Zt27Zt2+Y/tm3btm3b5j+2bdu2bdvmP7Zt27Zt2+Y/tm3btm3b5j+2bdu2bdvmP7Zt27Zt2+Y/tm3btm3b5j+2bdu2bdvmP7Zt27Zt2+Y/tm3btm3b5j+2bdu2bdvmP7Zt27Zt2+Y/tm3btm3b5j+2bdu2bdvmP7Zt27Zt2+Y/tm3btm3b5j+2bdu2bdvmP7Zt27Zt2+Y/tm3btm3b5j+2bdu2bdvmP7Zt27Zt2+Y/tm3btm3b5j+2bdu2bdvmP7Zt27Zt2+Y/tm3btm3b5j+2bdu2bdvmP7Zt27Zt2+Y/tm3btm3b5j+2bdu2bdvmP7Zt27Zt2+Y/tm3btm3b5j+2bdu2bdvmP7Zt27Zt2+Y/tm3btm3b5j+2bdu2bdvmP7Zt27Zt2+Y/tm3btm3b5j+2bdu2bdvmP7Zt27Zt2+Y/tm3btm3b5j+2bdu2bdvmP7Zt27Zt2+Y/tm3btm3b5j+2bdu2bdvmP7Zt27Zt2+Y/tm3btm3b5j+2bdu2bdvmP7Zt27Zt2+Y/tm3btm3b5j+2bdu2bdvmP7Zt27Zt2+Y/tm3btm3b5j+2bdu2bdvmP7Zt27Zt2+Y/tm3btm3b5j+2bdu2bdvmP7Zt27Zt2+Y/tm3btm3b5j+2bdu2bdvmP7Zt27Zt2+Y/tm3btm3b5j+2bdu2bdvmP7Zt27Zt2+Y/tm3btm3b5j+2bdu2bdvmP7Zt27Zt2+Y/tm3btm3b5j+2bdu2bdvmP7Zt27Zt2+Y/tm3btm3b5j+2bdu2bdvmP7Zt27Zt2+Y/tm3btm3b5j+2bdu2bdvmP7Zt27Zt2+Y/tm3btm3b5j+2bdu2bdvmP7Zt27Zt2+Y/tm3btm3b5j+2bdu2bdvmP7Zt27Zt2+Y/tm3btm3b5j+2bdu2bdvmP7Zt27Zt2+Y/tm3btm3b5j+2bdu2bdvmP7Zt27Zt2+Y/tm3btm3b5j+2bdu2bdvmP7Zt27Zt2+Y/tm3btm3b5j+2bdu2bdvmP7Zt27Zt2+Y/tm3btm3b5j+2bdu2bdvmP7Zt27Zt2+Y/tm3btm3b5j+2bdu2bdvmP7Zt27Zt2+Y/tm3btm3b5j+2bdu2bdvmP7Zt27Zt2+Y/tm3btm3b5j+2bdu2bdvmP7Zt27Zt2+Y/tm3btm3b5j+2bdu2bdvmP7Zt27Zt2+Y/tm3btm3b5j+2bdu2bdvmP7Zt27Zt2+Y/tm3btm3b5j+2bdu2bdvmP7Zt27Zt2+Y/tm3btm3b5j+2bdu2bdvmP7Zt27Zt2+Y/tm3btm3b5j+2bdu2bdvmP7Zt27Zt2+Y/tm3btm3b5j+2bdu2bdvmP7Zt27Zt2+Y/tm3btm3b5j+2bdu2bdvmP7Zt27Zt2+Y/tm3btm3b5j+2bdu2bdvmP7Zt27Zt2+Y/tm3btm3b5j+2bdu2bdvmP7Zt27Zt2+Y/tm3btm3b5j+2bdu2bdvmP7Zt27Zt2+Y/tm3btm3b5j+2bdu2bdvmP7Zt27Zt2+Y/tm3btm3b5j+2bdu2bdvmP7Zt27Zt2+Y/tm3btm3b5j+2bdu2bdvmP7Zt27Zt2+Y/tm3btm3b5j+2bdu2bdvmP7Zt27Zt2+Y/tm3btm3b5j+2bdu2bdvmP7Zt27Zt2+Y/tm3btm3b5j+2bdu2bdvmP7Zt27Zt2+Y/tm3btm3b5j+2bdu2bdvmP7Zt27Zt2+Y/tm3btm3b5j8=",
          "dtype": "f8",
          "shape": "20, 20"
         }
        },
        {
         "cmax": 51.5426025390625,
         "cmin": 0.28350239992141724,
         "colorscale": [
          [
           0,
           "#440154"
          ],
          [
           0.1111111111111111,
           "#482878"
          ],
          [
           0.2222222222222222,
           "#3e4989"
          ],
          [
           0.3333333333333333,
           "#31688e"
          ],
          [
           0.4444444444444444,
           "#26828e"
          ],
          [
           0.5555555555555556,
           "#1f9e89"
          ],
          [
           0.6666666666666666,
           "#35b779"
          ],
          [
           0.7777777777777778,
           "#6ece58"
          ],
          [
           0.8888888888888888,
           "#b5de2b"
          ],
          [
           1,
           "#fde725"
          ]
         ],
         "opacity": 0.7,
         "scene": "scene2",
         "showscale": false,
         "surfacecolor": {
          "bdata": "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",
          "dtype": "f4",
          "shape": "20, 20"
         },
         "type": "surface",
         "x": {
          "bdata": "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",
          "dtype": "f8",
          "shape": "20, 20"
         },
         "y": {
          "bdata": "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",
          "dtype": "f8",
          "shape": "20, 20"
         },
         "z": {
          "bdata": "tm3btm3b5j+2bdu2bdvmP7Zt27Zt2+Y/tm3btm3b5j+2bdu2bdvmP7Zt27Zt2+Y/tm3btm3b5j+2bdu2bdvmP7Zt27Zt2+Y/tm3btm3b5j+2bdu2bdvmP7Zt27Zt2+Y/tm3btm3b5j+2bdu2bdvmP7Zt27Zt2+Y/tm3btm3b5j+2bdu2bdvmP7Zt27Zt2+Y/tm3btm3b5j+2bdu2bdvmP7Zt27Zt2+Y/tm3btm3b5j+2bdu2bdvmP7Zt27Zt2+Y/tm3btm3b5j+2bdu2bdvmP7Zt27Zt2+Y/tm3btm3b5j+2bdu2bdvmP7Zt27Zt2+Y/tm3btm3b5j+2bdu2bdvmP7Zt27Zt2+Y/tm3btm3b5j+2bdu2bdvmP7Zt27Zt2+Y/tm3btm3b5j+2bdu2bdvmP7Zt27Zt2+Y/tm3btm3b5j+2bdu2bdvmP7Zt27Zt2+Y/tm3btm3b5j+2bdu2bdvmP7Zt27Zt2+Y/tm3btm3b5j+2bdu2bdvmP7Zt27Zt2+Y/tm3btm3b5j+2bdu2bdvmP7Zt27Zt2+Y/tm3btm3b5j+2bdu2bdvmP7Zt27Zt2+Y/tm3btm3b5j+2bdu2bdvmP7Zt27Zt2+Y/tm3btm3b5j+2bdu2bdvmP7Zt27Zt2+Y/tm3btm3b5j+2bdu2bdvmP7Zt27Zt2+Y/tm3btm3b5j+2bdu2bdvmP7Zt27Zt2+Y/tm3btm3b5j+2bdu2bdvmP7Zt27Zt2+Y/tm3btm3b5j+2bdu2bdvmP7Zt27Zt2+Y/tm3btm3b5j+2bdu2bdvmP7Zt27Zt2+Y/tm3btm3b5j+2bdu2bdvmP7Zt27Zt2+Y/tm3btm3b5j+2bdu2bdvmP7Zt27Zt2+Y/tm3btm3b5j+2bdu2bdvmP7Zt27Zt2+Y/tm3btm3b5j+2bdu2bdvmP7Zt27Zt2+Y/tm3btm3b5j+2bdu2bdvmP7Zt27Zt2+Y/tm3btm3b5j+2bdu2bdvmP7Zt27Zt2+Y/tm3btm3b5j+2bdu2bdvmP7Zt27Zt2+Y/tm3btm3b5j+2bdu2bdvmP7Zt27Zt2+Y/tm3btm3b5j+2bdu2bdvmP7Zt27Zt2+Y/tm3btm3b5j+2bdu2bdvmP7Zt27Zt2+Y/tm3btm3b5j+2bdu2bdvmP7Zt27Zt2+Y/tm3btm3b5j+2bdu2bdvmP7Zt27Zt2+Y/tm3btm3b5j+2bdu2bdvmP7Zt27Zt2+Y/tm3btm3b5j+2bdu2bdvmP7Zt27Zt2+Y/tm3btm3b5j+2bdu2bdvmP7Zt27Zt2+Y/tm3btm3b5j+2bdu2bdvmP7Zt27Zt2+Y/tm3btm3b5j+2bdu2bdvmP7Zt27Zt2+Y/tm3btm3b5j+2bdu2bdvmP7Zt27Zt2+Y/tm3btm3b5j+2bdu2bdvmP7Zt27Zt2+Y/tm3btm3b5j+2bdu2bdvmP7Zt27Zt2+Y/tm3btm3b5j+2bdu2bdvmP7Zt27Zt2+Y/tm3btm3b5j+2bdu2bdvmP7Zt27Zt2+Y/tm3btm3b5j+2bdu2bdvmP7Zt27Zt2+Y/tm3btm3b5j+2bdu2bdvmP7Zt27Zt2+Y/tm3btm3b5j+2bdu2bdvmP7Zt27Zt2+Y/tm3btm3b5j+2bdu2bdvmP7Zt27Zt2+Y/tm3btm3b5j+2bdu2bdvmP7Zt27Zt2+Y/tm3btm3b5j+2bdu2bdvmP7Zt27Zt2+Y/tm3btm3b5j+2bdu2bdvmP7Zt27Zt2+Y/tm3btm3b5j+2bdu2bdvmP7Zt27Zt2+Y/tm3btm3b5j+2bdu2bdvmP7Zt27Zt2+Y/tm3btm3b5j+2bdu2bdvmP7Zt27Zt2+Y/tm3btm3b5j+2bdu2bdvmP7Zt27Zt2+Y/tm3btm3b5j+2bdu2bdvmP7Zt27Zt2+Y/tm3btm3b5j+2bdu2bdvmP7Zt27Zt2+Y/tm3btm3b5j+2bdu2bdvmP7Zt27Zt2+Y/tm3btm3b5j+2bdu2bdvmP7Zt27Zt2+Y/tm3btm3b5j+2bdu2bdvmP7Zt27Zt2+Y/tm3btm3b5j+2bdu2bdvmP7Zt27Zt2+Y/tm3btm3b5j+2bdu2bdvmP7Zt27Zt2+Y/tm3btm3b5j+2bdu2bdvmP7Zt27Zt2+Y/tm3btm3b5j+2bdu2bdvmP7Zt27Zt2+Y/tm3btm3b5j+2bdu2bdvmP7Zt27Zt2+Y/tm3btm3b5j+2bdu2bdvmP7Zt27Zt2+Y/tm3btm3b5j+2bdu2bdvmP7Zt27Zt2+Y/tm3btm3b5j+2bdu2bdvmP7Zt27Zt2+Y/tm3btm3b5j+2bdu2bdvmP7Zt27Zt2+Y/tm3btm3b5j+2bdu2bdvmP7Zt27Zt2+Y/tm3btm3b5j+2bdu2bdvmP7Zt27Zt2+Y/tm3btm3b5j+2bdu2bdvmP7Zt27Zt2+Y/tm3btm3b5j+2bdu2bdvmP7Zt27Zt2+Y/tm3btm3b5j+2bdu2bdvmP7Zt27Zt2+Y/tm3btm3b5j+2bdu2bdvmP7Zt27Zt2+Y/tm3btm3b5j+2bdu2bdvmP7Zt27Zt2+Y/tm3btm3b5j+2bdu2bdvmP7Zt27Zt2+Y/tm3btm3b5j+2bdu2bdvmP7Zt27Zt2+Y/tm3btm3b5j+2bdu2bdvmP7Zt27Zt2+Y/tm3btm3b5j+2bdu2bdvmP7Zt27Zt2+Y/tm3btm3b5j+2bdu2bdvmP7Zt27Zt2+Y/tm3btm3b5j+2bdu2bdvmP7Zt27Zt2+Y/tm3btm3b5j+2bdu2bdvmP7Zt27Zt2+Y/tm3btm3b5j+2bdu2bdvmP7Zt27Zt2+Y/tm3btm3b5j+2bdu2bdvmP7Zt27Zt2+Y/tm3btm3b5j+2bdu2bdvmP7Zt27Zt2+Y/tm3btm3b5j+2bdu2bdvmP7Zt27Zt2+Y/tm3btm3b5j+2bdu2bdvmP7Zt27Zt2+Y/tm3btm3b5j+2bdu2bdvmP7Zt27Zt2+Y/tm3btm3b5j+2bdu2bdvmP7Zt27Zt2+Y/tm3btm3b5j+2bdu2bdvmP7Zt27Zt2+Y/tm3btm3b5j+2bdu2bdvmP7Zt27Zt2+Y/tm3btm3b5j+2bdu2bdvmP7Zt27Zt2+Y/tm3btm3b5j+2bdu2bdvmP7Zt27Zt2+Y/tm3btm3b5j+2bdu2bdvmP7Zt27Zt2+Y/tm3btm3b5j+2bdu2bdvmP7Zt27Zt2+Y/tm3btm3b5j+2bdu2bdvmP7Zt27Zt2+Y/tm3btm3b5j+2bdu2bdvmP7Zt27Zt2+Y/tm3btm3b5j+2bdu2bdvmP7Zt27Zt2+Y/tm3btm3b5j+2bdu2bdvmP7Zt27Zt2+Y/tm3btm3b5j+2bdu2bdvmP7Zt27Zt2+Y/tm3btm3b5j+2bdu2bdvmP7Zt27Zt2+Y/tm3btm3b5j+2bdu2bdvmP7Zt27Zt2+Y/tm3btm3b5j+2bdu2bdvmP7Zt27Zt2+Y/tm3btm3b5j+2bdu2bdvmP7Zt27Zt2+Y/tm3btm3b5j+2bdu2bdvmP7Zt27Zt2+Y/tm3btm3b5j+2bdu2bdvmP7Zt27Zt2+Y/tm3btm3b5j+2bdu2bdvmP7Zt27Zt2+Y/tm3btm3b5j+2bdu2bdvmP7Zt27Zt2+Y/tm3btm3b5j+2bdu2bdvmP7Zt27Zt2+Y/tm3btm3b5j+2bdu2bdvmP7Zt27Zt2+Y/tm3btm3b5j+2bdu2bdvmP7Zt27Zt2+Y/tm3btm3b5j+2bdu2bdvmP7Zt27Zt2+Y/tm3btm3b5j+2bdu2bdvmP7Zt27Zt2+Y/tm3btm3b5j+2bdu2bdvmP7Zt27Zt2+Y/tm3btm3b5j+2bdu2bdvmP7Zt27Zt2+Y/tm3btm3b5j+2bdu2bdvmP7Zt27Zt2+Y/tm3btm3b5j+2bdu2bdvmP7Zt27Zt2+Y/tm3btm3b5j+2bdu2bdvmP7Zt27Zt2+Y/tm3btm3b5j+2bdu2bdvmP7Zt27Zt2+Y/tm3btm3b5j+2bdu2bdvmP7Zt27Zt2+Y/tm3btm3b5j+2bdu2bdvmP7Zt27Zt2+Y/tm3btm3b5j+2bdu2bdvmP7Zt27Zt2+Y/tm3btm3b5j+2bdu2bdvmP7Zt27Zt2+Y/tm3btm3b5j+2bdu2bdvmP7Zt27Zt2+Y/tm3btm3b5j+2bdu2bdvmP7Zt27Zt2+Y/tm3btm3b5j+2bdu2bdvmP7Zt27Zt2+Y/tm3btm3b5j+2bdu2bdvmP7Zt27Zt2+Y/tm3btm3b5j+2bdu2bdvmP7Zt27Zt2+Y/tm3btm3b5j+2bdu2bdvmP7Zt27Zt2+Y/tm3btm3b5j8=",
          "dtype": "f8",
          "shape": "20, 20"
         }
        },
        {
         "cmax": 51.5426025390625,
         "cmin": 0.28350239992141724,
         "colorscale": [
          [
           0,
           "#440154"
          ],
          [
           0.1111111111111111,
           "#482878"
          ],
          [
           0.2222222222222222,
           "#3e4989"
          ],
          [
           0.3333333333333333,
           "#31688e"
          ],
          [
           0.4444444444444444,
           "#26828e"
          ],
          [
           0.5555555555555556,
           "#1f9e89"
          ],
          [
           0.6666666666666666,
           "#35b779"
          ],
          [
           0.7777777777777778,
           "#6ece58"
          ],
          [
           0.8888888888888888,
           "#b5de2b"
          ],
          [
           1,
           "#fde725"
          ]
         ],
         "opacity": 0.7,
         "scene": "scene3",
         "showscale": false,
         "surfacecolor": {
          "bdata": "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",
          "dtype": "f4",
          "shape": "20, 20"
         },
         "type": "surface",
         "x": {
          "bdata": "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",
          "dtype": "f8",
          "shape": "20, 20"
         },
         "y": {
          "bdata": "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",
          "dtype": "f8",
          "shape": "20, 20"
         },
         "z": {
          "bdata": "tm3btm3b5j+2bdu2bdvmP7Zt27Zt2+Y/tm3btm3b5j+2bdu2bdvmP7Zt27Zt2+Y/tm3btm3b5j+2bdu2bdvmP7Zt27Zt2+Y/tm3btm3b5j+2bdu2bdvmP7Zt27Zt2+Y/tm3btm3b5j+2bdu2bdvmP7Zt27Zt2+Y/tm3btm3b5j+2bdu2bdvmP7Zt27Zt2+Y/tm3btm3b5j+2bdu2bdvmP7Zt27Zt2+Y/tm3btm3b5j+2bdu2bdvmP7Zt27Zt2+Y/tm3btm3b5j+2bdu2bdvmP7Zt27Zt2+Y/tm3btm3b5j+2bdu2bdvmP7Zt27Zt2+Y/tm3btm3b5j+2bdu2bdvmP7Zt27Zt2+Y/tm3btm3b5j+2bdu2bdvmP7Zt27Zt2+Y/tm3btm3b5j+2bdu2bdvmP7Zt27Zt2+Y/tm3btm3b5j+2bdu2bdvmP7Zt27Zt2+Y/tm3btm3b5j+2bdu2bdvmP7Zt27Zt2+Y/tm3btm3b5j+2bdu2bdvmP7Zt27Zt2+Y/tm3btm3b5j+2bdu2bdvmP7Zt27Zt2+Y/tm3btm3b5j+2bdu2bdvmP7Zt27Zt2+Y/tm3btm3b5j+2bdu2bdvmP7Zt27Zt2+Y/tm3btm3b5j+2bdu2bdvmP7Zt27Zt2+Y/tm3btm3b5j+2bdu2bdvmP7Zt27Zt2+Y/tm3btm3b5j+2bdu2bdvmP7Zt27Zt2+Y/tm3btm3b5j+2bdu2bdvmP7Zt27Zt2+Y/tm3btm3b5j+2bdu2bdvmP7Zt27Zt2+Y/tm3btm3b5j+2bdu2bdvmP7Zt27Zt2+Y/tm3btm3b5j+2bdu2bdvmP7Zt27Zt2+Y/tm3btm3b5j+2bdu2bdvmP7Zt27Zt2+Y/tm3btm3b5j+2bdu2bdvmP7Zt27Zt2+Y/tm3btm3b5j+2bdu2bdvmP7Zt27Zt2+Y/tm3btm3b5j+2bdu2bdvmP7Zt27Zt2+Y/tm3btm3b5j+2bdu2bdvmP7Zt27Zt2+Y/tm3btm3b5j+2bdu2bdvmP7Zt27Zt2+Y/tm3btm3b5j+2bdu2bdvmP7Zt27Zt2+Y/tm3btm3b5j+2bdu2bdvmP7Zt27Zt2+Y/tm3btm3b5j+2bdu2bdvmP7Zt27Zt2+Y/tm3btm3b5j+2bdu2bdvmP7Zt27Zt2+Y/tm3btm3b5j+2bdu2bdvmP7Zt27Zt2+Y/tm3btm3b5j+2bdu2bdvmP7Zt27Zt2+Y/tm3btm3b5j+2bdu2bdvmP7Zt27Zt2+Y/tm3btm3b5j+2bdu2bdvmP7Zt27Zt2+Y/tm3btm3b5j+2bdu2bdvmP7Zt27Zt2+Y/tm3btm3b5j+2bdu2bdvmP7Zt27Zt2+Y/tm3btm3b5j+2bdu2bdvmP7Zt27Zt2+Y/tm3btm3b5j+2bdu2bdvmP7Zt27Zt2+Y/tm3btm3b5j+2bdu2bdvmP7Zt27Zt2+Y/tm3btm3b5j+2bdu2bdvmP7Zt27Zt2+Y/tm3btm3b5j+2bdu2bdvmP7Zt27Zt2+Y/tm3btm3b5j+2bdu2bdvmP7Zt27Zt2+Y/tm3btm3b5j+2bdu2bdvmP7Zt27Zt2+Y/tm3btm3b5j+2bdu2bdvmP7Zt27Zt2+Y/tm3btm3b5j+2bdu2bdvmP7Zt27Zt2+Y/tm3btm3b5j+2bdu2bdvmP7Zt27Zt2+Y/tm3btm3b5j+2bdu2bdvmP7Zt27Zt2+Y/tm3btm3b5j+2bdu2bdvmP7Zt27Zt2+Y/tm3btm3b5j+2bdu2bdvmP7Zt27Zt2+Y/tm3btm3b5j+2bdu2bdvmP7Zt27Zt2+Y/tm3btm3b5j+2bdu2bdvmP7Zt27Zt2+Y/tm3btm3b5j+2bdu2bdvmP7Zt27Zt2+Y/tm3btm3b5j+2bdu2bdvmP7Zt27Zt2+Y/tm3btm3b5j+2bdu2bdvmP7Zt27Zt2+Y/tm3btm3b5j+2bdu2bdvmP7Zt27Zt2+Y/tm3btm3b5j+2bdu2bdvmP7Zt27Zt2+Y/tm3btm3b5j+2bdu2bdvmP7Zt27Zt2+Y/tm3btm3b5j+2bdu2bdvmP7Zt27Zt2+Y/tm3btm3b5j+2bdu2bdvmP7Zt27Zt2+Y/tm3btm3b5j+2bdu2bdvmP7Zt27Zt2+Y/tm3btm3b5j+2bdu2bdvmP7Zt27Zt2+Y/tm3btm3b5j+2bdu2bdvmP7Zt27Zt2+Y/tm3btm3b5j+2bdu2bdvmP7Zt27Zt2+Y/tm3btm3b5j+2bdu2bdvmP7Zt27Zt2+Y/tm3btm3b5j+2bdu2bdvmP7Zt27Zt2+Y/tm3btm3b5j+2bdu2bdvmP7Zt27Zt2+Y/tm3btm3b5j+2bdu2bdvmP7Zt27Zt2+Y/tm3btm3b5j+2bdu2bdvmP7Zt27Zt2+Y/tm3btm3b5j+2bdu2bdvmP7Zt27Zt2+Y/tm3btm3b5j+2bdu2bdvmP7Zt27Zt2+Y/tm3btm3b5j+2bdu2bdvmP7Zt27Zt2+Y/tm3btm3b5j+2bdu2bdvmP7Zt27Zt2+Y/tm3btm3b5j+2bdu2bdvmP7Zt27Zt2+Y/tm3btm3b5j+2bdu2bdvmP7Zt27Zt2+Y/tm3btm3b5j+2bdu2bdvmP7Zt27Zt2+Y/tm3btm3b5j+2bdu2bdvmP7Zt27Zt2+Y/tm3btm3b5j+2bdu2bdvmP7Zt27Zt2+Y/tm3btm3b5j+2bdu2bdvmP7Zt27Zt2+Y/tm3btm3b5j+2bdu2bdvmP7Zt27Zt2+Y/tm3btm3b5j+2bdu2bdvmP7Zt27Zt2+Y/tm3btm3b5j+2bdu2bdvmP7Zt27Zt2+Y/tm3btm3b5j+2bdu2bdvmP7Zt27Zt2+Y/tm3btm3b5j+2bdu2bdvmP7Zt27Zt2+Y/tm3btm3b5j+2bdu2bdvmP7Zt27Zt2+Y/tm3btm3b5j+2bdu2bdvmP7Zt27Zt2+Y/tm3btm3b5j+2bdu2bdvmP7Zt27Zt2+Y/tm3btm3b5j+2bdu2bdvmP7Zt27Zt2+Y/tm3btm3b5j+2bdu2bdvmP7Zt27Zt2+Y/tm3btm3b5j+2bdu2bdvmP7Zt27Zt2+Y/tm3btm3b5j+2bdu2bdvmP7Zt27Zt2+Y/tm3btm3b5j+2bdu2bdvmP7Zt27Zt2+Y/tm3btm3b5j+2bdu2bdvmP7Zt27Zt2+Y/tm3btm3b5j+2bdu2bdvmP7Zt27Zt2+Y/tm3btm3b5j+2bdu2bdvmP7Zt27Zt2+Y/tm3btm3b5j+2bdu2bdvmP7Zt27Zt2+Y/tm3btm3b5j+2bdu2bdvmP7Zt27Zt2+Y/tm3btm3b5j+2bdu2bdvmP7Zt27Zt2+Y/tm3btm3b5j+2bdu2bdvmP7Zt27Zt2+Y/tm3btm3b5j+2bdu2bdvmP7Zt27Zt2+Y/tm3btm3b5j+2bdu2bdvmP7Zt27Zt2+Y/tm3btm3b5j+2bdu2bdvmP7Zt27Zt2+Y/tm3btm3b5j+2bdu2bdvmP7Zt27Zt2+Y/tm3btm3b5j+2bdu2bdvmP7Zt27Zt2+Y/tm3btm3b5j+2bdu2bdvmP7Zt27Zt2+Y/tm3btm3b5j+2bdu2bdvmP7Zt27Zt2+Y/tm3btm3b5j+2bdu2bdvmP7Zt27Zt2+Y/tm3btm3b5j+2bdu2bdvmP7Zt27Zt2+Y/tm3btm3b5j+2bdu2bdvmP7Zt27Zt2+Y/tm3btm3b5j+2bdu2bdvmP7Zt27Zt2+Y/tm3btm3b5j+2bdu2bdvmP7Zt27Zt2+Y/tm3btm3b5j+2bdu2bdvmP7Zt27Zt2+Y/tm3btm3b5j+2bdu2bdvmP7Zt27Zt2+Y/tm3btm3b5j+2bdu2bdvmP7Zt27Zt2+Y/tm3btm3b5j+2bdu2bdvmP7Zt27Zt2+Y/tm3btm3b5j+2bdu2bdvmP7Zt27Zt2+Y/tm3btm3b5j+2bdu2bdvmP7Zt27Zt2+Y/tm3btm3b5j+2bdu2bdvmP7Zt27Zt2+Y/tm3btm3b5j+2bdu2bdvmP7Zt27Zt2+Y/tm3btm3b5j+2bdu2bdvmP7Zt27Zt2+Y/tm3btm3b5j+2bdu2bdvmP7Zt27Zt2+Y/tm3btm3b5j+2bdu2bdvmP7Zt27Zt2+Y/tm3btm3b5j+2bdu2bdvmP7Zt27Zt2+Y/tm3btm3b5j+2bdu2bdvmP7Zt27Zt2+Y/tm3btm3b5j+2bdu2bdvmP7Zt27Zt2+Y/tm3btm3b5j+2bdu2bdvmP7Zt27Zt2+Y/tm3btm3b5j+2bdu2bdvmP7Zt27Zt2+Y/tm3btm3b5j+2bdu2bdvmP7Zt27Zt2+Y/tm3btm3b5j8=",
          "dtype": "f8",
          "shape": "20, 20"
         }
        },
        {
         "cmax": 51.5426025390625,
         "cmin": 0.28350239992141724,
         "colorscale": [
          [
           0,
           "#440154"
          ],
          [
           0.1111111111111111,
           "#482878"
          ],
          [
           0.2222222222222222,
           "#3e4989"
          ],
          [
           0.3333333333333333,
           "#31688e"
          ],
          [
           0.4444444444444444,
           "#26828e"
          ],
          [
           0.5555555555555556,
           "#1f9e89"
          ],
          [
           0.6666666666666666,
           "#35b779"
          ],
          [
           0.7777777777777778,
           "#6ece58"
          ],
          [
           0.8888888888888888,
           "#b5de2b"
          ],
          [
           1,
           "#fde725"
          ]
         ],
         "opacity": 0.7,
         "scene": "scene4",
         "showscale": false,
         "surfacecolor": {
          "bdata": "cCf1P5AZM0AQsHhA9LVnQKDjBEAARng/WKcBQCqHrUCAQBlBUj5EQa60REEwVChBHUMSQSOlHUHk2kxBisOJQQJks0G0GN5BImb/QcDGBELQXdI/sCgnQOCTcUBYlmNAiJkHQCjupD+czjBAMB/RQMPCLUH1uFhBNttZQeFXQkHiHjZB2XJNQc6ngkEuE6ZBwHrKQSzg60FscwFCtKYCQhBNuz9MkiJAQCZzQJy/aUAgAxdAID/tP2gPckCo4f1AmJFGQeSdcUFWZnRB4O1iQfSHYEFj64BBr4efQfhVwUECJN9BujP2QfgnAULh4fxBKKmtP5BIJUBEZH5ABI17QEQNNEC8mSpAokmiQH+CGUEtJmNBhSmHQVTSiUENi4RB4uWHQYIQnEGaSrtBFrbZQWDk70FdQvxBWob9QbCx8EFwcKY/dAUvQL4VikCoEo1A6D5fQITlbUDaddNA27Y3Qd5ggUHt8pZBYTKbQbKcmUEE2KBBCqu2QXAx1EHGhO1BfIH7QaOH/UEnvvRB6mnhQeA4oj/sTz9A9oWaQBgbo0BuOYxAOKSfQKDABUGu2lhB5TqSQdOKp0Hjf61Bs52vQcnMuUHKN89BoqzoQfxq+0E5kwBCzN75Qd516EE97s9BoIudP1BxVUDYiLBAysy/QCBEr0AcR85Al30kQVIUfEEolqNBWjG4QV65v0FnUMVBZGHRQYpT5EHog/dBjkUBQv48AEKZg/FBlmvZQTxAvUGYLZU/5G5wQCzGy0CSieJA3ozXQJmWAEFuAEVBCjKQQSDYtEFcE8hBasLQQUJg2UHKOuZBTNn0QT/2/0HkTQFC7Kn5QdYO5UE4hMhBaWGqQQh6hj+KgYdAfm7rQNgBBUGElAFBIQEbQQMaZkFzUaJBFl3FQb5Y1kE0e99BeH/qQdAk90Ha/f9BmOUAQgPs+0HvY+1BmGLVQZSztkFlN5hBEHxfP+7Ul0C2GAdB0BsaQZ24F0EV6TRBdS6DQbrCs0FaftRBijTiQQba6kGmhfdBeJYBQqevAkLgUv1Br1XvQfS93EG6jsNBiOCkQdpzh0GwriA/8E+oQOohGUFYPC9BFI8sQQWSTEFPFJJBsNHDQQKZ4UE89OpBRQTyQUmL/0EH2wRC3YMCQhNY80HcIt5BkBbJQUqysEFUy5NBuwVxQaC3oz4yBLhAvLoqQejNQkGOQD5BOhpgQa3fnkEJw9FBsBbsQU4O8EGWY/RB5/8AQlJCBULUZv9B2AHlQRbhyUFK6LNBzNqdQa78g0EgC1dBAE4UvYIFxkBmsjpBQCJTQejvSkEJpm1BhrKoQX7e3EF2dfNBtC3xQUO08UG7tv5BK+ACQqI+9UHrsNNBvje0QQGknkHg7ItBrX1rQcGwQEEAKNW+YIXRQOPZR0HLnF5BSuxQQQKQc0Gvxa5BWX7kQblS90GlN+5BNQzqQYzq9UEL7PtBrovnQSnVwEEdt55BgoqKQdkhd0HUPlJBkEYtQcA4Sr8i5NlAXyhRQa/nY0H97E5BuKNwQTZ+sEFPH+hBMnL3QbJQ50FI2d1B+DXoQQvW7UEiaNdBk8itQbezikFLJXFBjldaQWz1O0Go3htBgJiPv7DL3kDI21VB4SBiQVJBREExSWRBuYOtQVpv50FTxvNBetfcQbvVzUH1g9ZBcoLcQT3wxUFAsJtBk1ZyQSi3UkE1xkFBNxsoQW6DC0GwCbC/OjzgQCKQVUGm/FhBjfUwQQ2qTkFA0KVBKlziQWB07EGkXs9BKPi6QR74wUFfEslBAyu0QVdoi0EYclVB5lQ6QTdOLUG3FxZBy9X2QPD+wb8Sj95AHVRQQX/bSEFt4RVBmr4wQQG5mUEuGtlBGtXhQaOhv0EMXKZBNNSrQUOrtEEE+KJBR/l6QcQtP0GY7idBRIocQVJlBUH6MdZAsLTBvxh02kC+pkZBNsUyQUg+6UCrQQxBSOyJQZAlzEEucdRBnnWuQYcpkUE1XJVBOWGgQdcFk0GIU2RBWVUvQdX6GkFu8g5BbGHrQE7wtEBQYqy/Yt/UQDJuOUGOUhhBtM6eQLIex0Dcym5Bojq8Qfr3xEEpupxBk/t4QS15f0FoJI1Bzc2EQeXUUkH2NSVBLaUSQef+A0Hk1s1ABLaTQA==",
          "dtype": "f4",
          "shape": "20, 20"
         },
         "type": "surface",
         "x": {
          "bdata": "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",
          "dtype": "f8",
          "shape": "20, 20"
         },
         "y": {
          "bdata": "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",
          "dtype": "f8",
          "shape": "20, 20"
         },
         "z": {
          "bdata": "tm3btm3b5j+2bdu2bdvmP7Zt27Zt2+Y/tm3btm3b5j+2bdu2bdvmP7Zt27Zt2+Y/tm3btm3b5j+2bdu2bdvmP7Zt27Zt2+Y/tm3btm3b5j+2bdu2bdvmP7Zt27Zt2+Y/tm3btm3b5j+2bdu2bdvmP7Zt27Zt2+Y/tm3btm3b5j+2bdu2bdvmP7Zt27Zt2+Y/tm3btm3b5j+2bdu2bdvmP7Zt27Zt2+Y/tm3btm3b5j+2bdu2bdvmP7Zt27Zt2+Y/tm3btm3b5j+2bdu2bdvmP7Zt27Zt2+Y/tm3btm3b5j+2bdu2bdvmP7Zt27Zt2+Y/tm3btm3b5j+2bdu2bdvmP7Zt27Zt2+Y/tm3btm3b5j+2bdu2bdvmP7Zt27Zt2+Y/tm3btm3b5j+2bdu2bdvmP7Zt27Zt2+Y/tm3btm3b5j+2bdu2bdvmP7Zt27Zt2+Y/tm3btm3b5j+2bdu2bdvmP7Zt27Zt2+Y/tm3btm3b5j+2bdu2bdvmP7Zt27Zt2+Y/tm3btm3b5j+2bdu2bdvmP7Zt27Zt2+Y/tm3btm3b5j+2bdu2bdvmP7Zt27Zt2+Y/tm3btm3b5j+2bdu2bdvmP7Zt27Zt2+Y/tm3btm3b5j+2bdu2bdvmP7Zt27Zt2+Y/tm3btm3b5j+2bdu2bdvmP7Zt27Zt2+Y/tm3btm3b5j+2bdu2bdvmP7Zt27Zt2+Y/tm3btm3b5j+2bdu2bdvmP7Zt27Zt2+Y/tm3btm3b5j+2bdu2bdvmP7Zt27Zt2+Y/tm3btm3b5j+2bdu2bdvmP7Zt27Zt2+Y/tm3btm3b5j+2bdu2bdvmP7Zt27Zt2+Y/tm3btm3b5j+2bdu2bdvmP7Zt27Zt2+Y/tm3btm3b5j+2bdu2bdvmP7Zt27Zt2+Y/tm3btm3b5j+2bdu2bdvmP7Zt27Zt2+Y/tm3btm3b5j+2bdu2bdvmP7Zt27Zt2+Y/tm3btm3b5j+2bdu2bdvmP7Zt27Zt2+Y/tm3btm3b5j+2bdu2bdvmP7Zt27Zt2+Y/tm3btm3b5j+2bdu2bdvmP7Zt27Zt2+Y/tm3btm3b5j+2bdu2bdvmP7Zt27Zt2+Y/tm3btm3b5j+2bdu2bdvmP7Zt27Zt2+Y/tm3btm3b5j+2bdu2bdvmP7Zt27Zt2+Y/tm3btm3b5j+2bdu2bdvmP7Zt27Zt2+Y/tm3btm3b5j+2bdu2bdvmP7Zt27Zt2+Y/tm3btm3b5j+2bdu2bdvmP7Zt27Zt2+Y/tm3btm3b5j+2bdu2bdvmP7Zt27Zt2+Y/tm3btm3b5j+2bdu2bdvmP7Zt27Zt2+Y/tm3btm3b5j+2bdu2bdvmP7Zt27Zt2+Y/tm3btm3b5j+2bdu2bdvmP7Zt27Zt2+Y/tm3btm3b5j+2bdu2bdvmP7Zt27Zt2+Y/tm3btm3b5j+2bdu2bdvmP7Zt27Zt2+Y/tm3btm3b5j+2bdu2bdvmP7Zt27Zt2+Y/tm3btm3b5j+2bdu2bdvmP7Zt27Zt2+Y/tm3btm3b5j+2bdu2bdvmP7Zt27Zt2+Y/tm3btm3b5j+2bdu2bdvmP7Zt27Zt2+Y/tm3btm3b5j+2bdu2bdvmP7Zt27Zt2+Y/tm3btm3b5j+2bdu2bdvmP7Zt27Zt2+Y/tm3btm3b5j+2bdu2bdvmP7Zt27Zt2+Y/tm3btm3b5j+2bdu2bdvmP7Zt27Zt2+Y/tm3btm3b5j+2bdu2bdvmP7Zt27Zt2+Y/tm3btm3b5j+2bdu2bdvmP7Zt27Zt2+Y/tm3btm3b5j+2bdu2bdvmP7Zt27Zt2+Y/tm3btm3b5j+2bdu2bdvmP7Zt27Zt2+Y/tm3btm3b5j+2bdu2bdvmP7Zt27Zt2+Y/tm3btm3b5j+2bdu2bdvmP7Zt27Zt2+Y/tm3btm3b5j+2bdu2bdvmP7Zt27Zt2+Y/tm3btm3b5j+2bdu2bdvmP7Zt27Zt2+Y/tm3btm3b5j+2bdu2bdvmP7Zt27Zt2+Y/tm3btm3b5j+2bdu2bdvmP7Zt27Zt2+Y/tm3btm3b5j+2bdu2bdvmP7Zt27Zt2+Y/tm3btm3b5j+2bdu2bdvmP7Zt27Zt2+Y/tm3btm3b5j+2bdu2bdvmP7Zt27Zt2+Y/tm3btm3b5j+2bdu2bdvmP7Zt27Zt2+Y/tm3btm3b5j+2bdu2bdvmP7Zt27Zt2+Y/tm3btm3b5j+2bdu2bdvmP7Zt27Zt2+Y/tm3btm3b5j+2bdu2bdvmP7Zt27Zt2+Y/tm3btm3b5j+2bdu2bdvmP7Zt27Zt2+Y/tm3btm3b5j+2bdu2bdvmP7Zt27Zt2+Y/tm3btm3b5j+2bdu2bdvmP7Zt27Zt2+Y/tm3btm3b5j+2bdu2bdvmP7Zt27Zt2+Y/tm3btm3b5j+2bdu2bdvmP7Zt27Zt2+Y/tm3btm3b5j+2bdu2bdvmP7Zt27Zt2+Y/tm3btm3b5j+2bdu2bdvmP7Zt27Zt2+Y/tm3btm3b5j+2bdu2bdvmP7Zt27Zt2+Y/tm3btm3b5j+2bdu2bdvmP7Zt27Zt2+Y/tm3btm3b5j+2bdu2bdvmP7Zt27Zt2+Y/tm3btm3b5j+2bdu2bdvmP7Zt27Zt2+Y/tm3btm3b5j+2bdu2bdvmP7Zt27Zt2+Y/tm3btm3b5j+2bdu2bdvmP7Zt27Zt2+Y/tm3btm3b5j+2bdu2bdvmP7Zt27Zt2+Y/tm3btm3b5j+2bdu2bdvmP7Zt27Zt2+Y/tm3btm3b5j+2bdu2bdvmP7Zt27Zt2+Y/tm3btm3b5j+2bdu2bdvmP7Zt27Zt2+Y/tm3btm3b5j+2bdu2bdvmP7Zt27Zt2+Y/tm3btm3b5j+2bdu2bdvmP7Zt27Zt2+Y/tm3btm3b5j+2bdu2bdvmP7Zt27Zt2+Y/tm3btm3b5j+2bdu2bdvmP7Zt27Zt2+Y/tm3btm3b5j+2bdu2bdvmP7Zt27Zt2+Y/tm3btm3b5j+2bdu2bdvmP7Zt27Zt2+Y/tm3btm3b5j+2bdu2bdvmP7Zt27Zt2+Y/tm3btm3b5j+2bdu2bdvmP7Zt27Zt2+Y/tm3btm3b5j+2bdu2bdvmP7Zt27Zt2+Y/tm3btm3b5j+2bdu2bdvmP7Zt27Zt2+Y/tm3btm3b5j+2bdu2bdvmP7Zt27Zt2+Y/tm3btm3b5j+2bdu2bdvmP7Zt27Zt2+Y/tm3btm3b5j+2bdu2bdvmP7Zt27Zt2+Y/tm3btm3b5j+2bdu2bdvmP7Zt27Zt2+Y/tm3btm3b5j+2bdu2bdvmP7Zt27Zt2+Y/tm3btm3b5j+2bdu2bdvmP7Zt27Zt2+Y/tm3btm3b5j+2bdu2bdvmP7Zt27Zt2+Y/tm3btm3b5j+2bdu2bdvmP7Zt27Zt2+Y/tm3btm3b5j+2bdu2bdvmP7Zt27Zt2+Y/tm3btm3b5j+2bdu2bdvmP7Zt27Zt2+Y/tm3btm3b5j+2bdu2bdvmP7Zt27Zt2+Y/tm3btm3b5j+2bdu2bdvmP7Zt27Zt2+Y/tm3btm3b5j+2bdu2bdvmP7Zt27Zt2+Y/tm3btm3b5j+2bdu2bdvmP7Zt27Zt2+Y/tm3btm3b5j+2bdu2bdvmP7Zt27Zt2+Y/tm3btm3b5j+2bdu2bdvmP7Zt27Zt2+Y/tm3btm3b5j+2bdu2bdvmP7Zt27Zt2+Y/tm3btm3b5j+2bdu2bdvmP7Zt27Zt2+Y/tm3btm3b5j+2bdu2bdvmP7Zt27Zt2+Y/tm3btm3b5j+2bdu2bdvmP7Zt27Zt2+Y/tm3btm3b5j+2bdu2bdvmP7Zt27Zt2+Y/tm3btm3b5j+2bdu2bdvmP7Zt27Zt2+Y/tm3btm3b5j+2bdu2bdvmP7Zt27Zt2+Y/tm3btm3b5j+2bdu2bdvmP7Zt27Zt2+Y/tm3btm3b5j+2bdu2bdvmP7Zt27Zt2+Y/tm3btm3b5j+2bdu2bdvmP7Zt27Zt2+Y/tm3btm3b5j+2bdu2bdvmP7Zt27Zt2+Y/tm3btm3b5j+2bdu2bdvmP7Zt27Zt2+Y/tm3btm3b5j+2bdu2bdvmP7Zt27Zt2+Y/tm3btm3b5j+2bdu2bdvmP7Zt27Zt2+Y/tm3btm3b5j+2bdu2bdvmP7Zt27Zt2+Y/tm3btm3b5j+2bdu2bdvmP7Zt27Zt2+Y/tm3btm3b5j+2bdu2bdvmP7Zt27Zt2+Y/tm3btm3b5j+2bdu2bdvmP7Zt27Zt2+Y/tm3btm3b5j+2bdu2bdvmP7Zt27Zt2+Y/tm3btm3b5j+2bdu2bdvmP7Zt27Zt2+Y/tm3btm3b5j8=",
          "dtype": "f8",
          "shape": "20, 20"
         }
        },
        {
         "cmax": 51.5426025390625,
         "cmin": 0.28350239992141724,
         "colorscale": [
          [
           0,
           "#440154"
          ],
          [
           0.1111111111111111,
           "#482878"
          ],
          [
           0.2222222222222222,
           "#3e4989"
          ],
          [
           0.3333333333333333,
           "#31688e"
          ],
          [
           0.4444444444444444,
           "#26828e"
          ],
          [
           0.5555555555555556,
           "#1f9e89"
          ],
          [
           0.6666666666666666,
           "#35b779"
          ],
          [
           0.7777777777777778,
           "#6ece58"
          ],
          [
           0.8888888888888888,
           "#b5de2b"
          ],
          [
           1,
           "#fde725"
          ]
         ],
         "opacity": 0.7,
         "scene": "scene5",
         "showscale": false,
         "surfacecolor": {
          "bdata": "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",
          "dtype": "f4",
          "shape": "20, 20"
         },
         "type": "surface",
         "x": {
          "bdata": "AAAAAAAAAAAor6G8hvKqPyivobyG8ro/XkN5DeU1xD8or6G8hvLKP3kN5TWU19A/XkN5DeU11D9DeQ3lNZTXPyivobyG8to/DeU1lNdQ3j95DeU1lNfgP2wor6G8huI/XkN5DeU15D9QXkN5DeXlP0N5DeU1lOc/NpTXUF5D6T8or6G8hvLqPxrKayivoew/DeU1lNdQ7j8AAAAAAADwPwAAAAAAAAAAKK+hvIbyqj8or6G8hvK6P15DeQ3lNcQ/KK+hvIbyyj95DeU1lNfQP15DeQ3lNdQ/Q3kN5TWU1z8or6G8hvLaPw3lNZTXUN4/eQ3lNZTX4D9sKK+hvIbiP15DeQ3lNeQ/UF5DeQ3l5T9DeQ3lNZTnPzaU11BeQ+k/KK+hvIby6j8aymsor6HsPw3lNZTXUO4/AAAAAAAA8D8AAAAAAAAAACivobyG8qo/KK+hvIbyuj9eQ3kN5TXEPyivobyG8so/eQ3lNZTX0D9eQ3kN5TXUP0N5DeU1lNc/KK+hvIby2j8N5TWU11DeP3kN5TWU1+A/bCivobyG4j9eQ3kN5TXkP1BeQ3kN5eU/Q3kN5TWU5z82lNdQXkPpPyivobyG8uo/GsprKK+h7D8N5TWU11DuPwAAAAAAAPA/AAAAAAAAAAAor6G8hvKqPyivobyG8ro/XkN5DeU1xD8or6G8hvLKP3kN5TWU19A/XkN5DeU11D9DeQ3lNZTXPyivobyG8to/DeU1lNdQ3j95DeU1lNfgP2wor6G8huI/XkN5DeU15D9QXkN5DeXlP0N5DeU1lOc/NpTXUF5D6T8or6G8hvLqPxrKayivoew/DeU1lNdQ7j8AAAAAAADwPwAAAAAAAAAAKK+hvIbyqj8or6G8hvK6P15DeQ3lNcQ/KK+hvIbyyj95DeU1lNfQP15DeQ3lNdQ/Q3kN5TWU1z8or6G8hvLaPw3lNZTXUN4/eQ3lNZTX4D9sKK+hvIbiP15DeQ3lNeQ/UF5DeQ3l5T9DeQ3lNZTnPzaU11BeQ+k/KK+hvIby6j8aymsor6HsPw3lNZTXUO4/AAAAAAAA8D8AAAAAAAAAACivobyG8qo/KK+hvIbyuj9eQ3kN5TXEPyivobyG8so/eQ3lNZTX0D9eQ3kN5TXUP0N5DeU1lNc/KK+hvIby2j8N5TWU11DeP3kN5TWU1+A/bCivobyG4j9eQ3kN5TXkP1BeQ3kN5eU/Q3kN5TWU5z82lNdQXkPpPyivobyG8uo/GsprKK+h7D8N5TWU11DuPwAAAAAAAPA/AAAAAAAAAAAor6G8hvKqPyivobyG8ro/XkN5DeU1xD8or6G8hvLKP3kN5TWU19A/XkN5DeU11D9DeQ3lNZTXPyivobyG8to/DeU1lNdQ3j95DeU1lNfgP2wor6G8huI/XkN5DeU15D9QXkN5DeXlP0N5DeU1lOc/NpTXUF5D6T8or6G8hvLqPxrKayivoew/DeU1lNdQ7j8AAAAAAADwPwAAAAAAAAAAKK+hvIbyqj8or6G8hvK6P15DeQ3lNcQ/KK+hvIbyyj95DeU1lNfQP15DeQ3lNdQ/Q3kN5TWU1z8or6G8hvLaPw3lNZTXUN4/eQ3lNZTX4D9sKK+hvIbiP15DeQ3lNeQ/UF5DeQ3l5T9DeQ3lNZTnPzaU11BeQ+k/KK+hvIby6j8aymsor6HsPw3lNZTXUO4/AAAAAAAA8D8AAAAAAAAAACivobyG8qo/KK+hvIbyuj9eQ3kN5TXEPyivobyG8so/eQ3lNZTX0D9eQ3kN5TXUP0N5DeU1lNc/KK+hvIby2j8N5TWU11DeP3kN5TWU1+A/bCivobyG4j9eQ3kN5TXkP1BeQ3kN5eU/Q3kN5TWU5z82lNdQXkPpPyivobyG8uo/GsprKK+h7D8N5TWU11DuPwAAAAAAAPA/AAAAAAAAAAAor6G8hvKqPyivobyG8ro/XkN5DeU1xD8or6G8hvLKP3kN5TWU19A/XkN5DeU11D9DeQ3lNZTXPyivobyG8to/DeU1lNdQ3j95DeU1lNfgP2wor6G8huI/XkN5DeU15D9QXkN5DeXlP0N5DeU1lOc/NpTXUF5D6T8or6G8hvLqPxrKayivoew/DeU1lNdQ7j8AAAAAAADwPwAAAAAAAAAAKK+hvIbyqj8or6G8hvK6P15DeQ3lNcQ/KK+hvIbyyj95DeU1lNfQP15DeQ3lNdQ/Q3kN5TWU1z8or6G8hvLaPw3lNZTXUN4/eQ3lNZTX4D9sKK+hvIbiP15DeQ3lNeQ/UF5DeQ3l5T9DeQ3lNZTnPzaU11BeQ+k/KK+hvIby6j8aymsor6HsPw3lNZTXUO4/AAAAAAAA8D8AAAAAAAAAACivobyG8qo/KK+hvIbyuj9eQ3kN5TXEPyivobyG8so/eQ3lNZTX0D9eQ3kN5TXUP0N5DeU1lNc/KK+hvIby2j8N5TWU11DeP3kN5TWU1+A/bCivobyG4j9eQ3kN5TXkP1BeQ3kN5eU/Q3kN5TWU5z82lNdQXkPpPyivobyG8uo/GsprKK+h7D8N5TWU11DuPwAAAAAAAPA/AAAAAAAAAAAor6G8hvKqPyivobyG8ro/XkN5DeU1xD8or6G8hvLKP3kN5TWU19A/XkN5DeU11D9DeQ3lNZTXPyivobyG8to/DeU1lNdQ3j95DeU1lNfgP2wor6G8huI/XkN5DeU15D9QXkN5DeXlP0N5DeU1lOc/NpTXUF5D6T8or6G8hvLqPxrKayivoew/DeU1lNdQ7j8AAAAAAADwPwAAAAAAAAAAKK+hvIbyqj8or6G8hvK6P15DeQ3lNcQ/KK+hvIbyyj95DeU1lNfQP15DeQ3lNdQ/Q3kN5TWU1z8or6G8hvLaPw3lNZTXUN4/eQ3lNZTX4D9sKK+hvIbiP15DeQ3lNeQ/UF5DeQ3l5T9DeQ3lNZTnPzaU11BeQ+k/KK+hvIby6j8aymsor6HsPw3lNZTXUO4/AAAAAAAA8D8AAAAAAAAAACivobyG8qo/KK+hvIbyuj9eQ3kN5TXEPyivobyG8so/eQ3lNZTX0D9eQ3kN5TXUP0N5DeU1lNc/KK+hvIby2j8N5TWU11DeP3kN5TWU1+A/bCivobyG4j9eQ3kN5TXkP1BeQ3kN5eU/Q3kN5TWU5z82lNdQXkPpPyivobyG8uo/GsprKK+h7D8N5TWU11DuPwAAAAAAAPA/AAAAAAAAAAAor6G8hvKqPyivobyG8ro/XkN5DeU1xD8or6G8hvLKP3kN5TWU19A/XkN5DeU11D9DeQ3lNZTXPyivobyG8to/DeU1lNdQ3j95DeU1lNfgP2wor6G8huI/XkN5DeU15D9QXkN5DeXlP0N5DeU1lOc/NpTXUF5D6T8or6G8hvLqPxrKayivoew/DeU1lNdQ7j8AAAAAAADwPwAAAAAAAAAAKK+hvIbyqj8or6G8hvK6P15DeQ3lNcQ/KK+hvIbyyj95DeU1lNfQP15DeQ3lNdQ/Q3kN5TWU1z8or6G8hvLaPw3lNZTXUN4/eQ3lNZTX4D9sKK+hvIbiP15DeQ3lNeQ/UF5DeQ3l5T9DeQ3lNZTnPzaU11BeQ+k/KK+hvIby6j8aymsor6HsPw3lNZTXUO4/AAAAAAAA8D8AAAAAAAAAACivobyG8qo/KK+hvIbyuj9eQ3kN5TXEPyivobyG8so/eQ3lNZTX0D9eQ3kN5TXUP0N5DeU1lNc/KK+hvIby2j8N5TWU11DeP3kN5TWU1+A/bCivobyG4j9eQ3kN5TXkP1BeQ3kN5eU/Q3kN5TWU5z82lNdQXkPpPyivobyG8uo/GsprKK+h7D8N5TWU11DuPwAAAAAAAPA/AAAAAAAAAAAor6G8hvKqPyivobyG8ro/XkN5DeU1xD8or6G8hvLKP3kN5TWU19A/XkN5DeU11D9DeQ3lNZTXPyivobyG8to/DeU1lNdQ3j95DeU1lNfgP2wor6G8huI/XkN5DeU15D9QXkN5DeXlP0N5DeU1lOc/NpTXUF5D6T8or6G8hvLqPxrKayivoew/DeU1lNdQ7j8AAAAAAADwPwAAAAAAAAAAKK+hvIbyqj8or6G8hvK6P15DeQ3lNcQ/KK+hvIbyyj95DeU1lNfQP15DeQ3lNdQ/Q3kN5TWU1z8or6G8hvLaPw3lNZTXUN4/eQ3lNZTX4D9sKK+hvIbiP15DeQ3lNeQ/UF5DeQ3l5T9DeQ3lNZTnPzaU11BeQ+k/KK+hvIby6j8aymsor6HsPw3lNZTXUO4/AAAAAAAA8D8=",
          "dtype": "f8",
          "shape": "20, 20"
         },
         "y": {
          "bdata": "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",
          "dtype": "f8",
          "shape": "20, 20"
         },
         "z": {
          "bdata": "tm3btm3b5j+2bdu2bdvmP7Zt27Zt2+Y/tm3btm3b5j+2bdu2bdvmP7Zt27Zt2+Y/tm3btm3b5j+2bdu2bdvmP7Zt27Zt2+Y/tm3btm3b5j+2bdu2bdvmP7Zt27Zt2+Y/tm3btm3b5j+2bdu2bdvmP7Zt27Zt2+Y/tm3btm3b5j+2bdu2bdvmP7Zt27Zt2+Y/tm3btm3b5j+2bdu2bdvmP7Zt27Zt2+Y/tm3btm3b5j+2bdu2bdvmP7Zt27Zt2+Y/tm3btm3b5j+2bdu2bdvmP7Zt27Zt2+Y/tm3btm3b5j+2bdu2bdvmP7Zt27Zt2+Y/tm3btm3b5j+2bdu2bdvmP7Zt27Zt2+Y/tm3btm3b5j+2bdu2bdvmP7Zt27Zt2+Y/tm3btm3b5j+2bdu2bdvmP7Zt27Zt2+Y/tm3btm3b5j+2bdu2bdvmP7Zt27Zt2+Y/tm3btm3b5j+2bdu2bdvmP7Zt27Zt2+Y/tm3btm3b5j+2bdu2bdvmP7Zt27Zt2+Y/tm3btm3b5j+2bdu2bdvmP7Zt27Zt2+Y/tm3btm3b5j+2bdu2bdvmP7Zt27Zt2+Y/tm3btm3b5j+2bdu2bdvmP7Zt27Zt2+Y/tm3btm3b5j+2bdu2bdvmP7Zt27Zt2+Y/tm3btm3b5j+2bdu2bdvmP7Zt27Zt2+Y/tm3btm3b5j+2bdu2bdvmP7Zt27Zt2+Y/tm3btm3b5j+2bdu2bdvmP7Zt27Zt2+Y/tm3btm3b5j+2bdu2bdvmP7Zt27Zt2+Y/tm3btm3b5j+2bdu2bdvmP7Zt27Zt2+Y/tm3btm3b5j+2bdu2bdvmP7Zt27Zt2+Y/tm3btm3b5j+2bdu2bdvmP7Zt27Zt2+Y/tm3btm3b5j+2bdu2bdvmP7Zt27Zt2+Y/tm3btm3b5j+2bdu2bdvmP7Zt27Zt2+Y/tm3btm3b5j+2bdu2bdvmP7Zt27Zt2+Y/tm3btm3b5j+2bdu2bdvmP7Zt27Zt2+Y/tm3btm3b5j+2bdu2bdvmP7Zt27Zt2+Y/tm3btm3b5j+2bdu2bdvmP7Zt27Zt2+Y/tm3btm3b5j+2bdu2bdvmP7Zt27Zt2+Y/tm3btm3b5j+2bdu2bdvmP7Zt27Zt2+Y/tm3btm3b5j+2bdu2bdvmP7Zt27Zt2+Y/tm3btm3b5j+2bdu2bdvmP7Zt27Zt2+Y/tm3btm3b5j+2bdu2bdvmP7Zt27Zt2+Y/tm3btm3b5j+2bdu2bdvmP7Zt27Zt2+Y/tm3btm3b5j+2bdu2bdvmP7Zt27Zt2+Y/tm3btm3b5j+2bdu2bdvmP7Zt27Zt2+Y/tm3btm3b5j+2bdu2bdvmP7Zt27Zt2+Y/tm3btm3b5j+2bdu2bdvmP7Zt27Zt2+Y/tm3btm3b5j+2bdu2bdvmP7Zt27Zt2+Y/tm3btm3b5j+2bdu2bdvmP7Zt27Zt2+Y/tm3btm3b5j+2bdu2bdvmP7Zt27Zt2+Y/tm3btm3b5j+2bdu2bdvmP7Zt27Zt2+Y/tm3btm3b5j+2bdu2bdvmP7Zt27Zt2+Y/tm3btm3b5j+2bdu2bdvmP7Zt27Zt2+Y/tm3btm3b5j+2bdu2bdvmP7Zt27Zt2+Y/tm3btm3b5j+2bdu2bdvmP7Zt27Zt2+Y/tm3btm3b5j+2bdu2bdvmP7Zt27Zt2+Y/tm3btm3b5j+2bdu2bdvmP7Zt27Zt2+Y/tm3btm3b5j+2bdu2bdvmP7Zt27Zt2+Y/tm3btm3b5j+2bdu2bdvmP7Zt27Zt2+Y/tm3btm3b5j+2bdu2bdvmP7Zt27Zt2+Y/tm3btm3b5j+2bdu2bdvmP7Zt27Zt2+Y/tm3btm3b5j+2bdu2bdvmP7Zt27Zt2+Y/tm3btm3b5j+2bdu2bdvmP7Zt27Zt2+Y/tm3btm3b5j+2bdu2bdvmP7Zt27Zt2+Y/tm3btm3b5j+2bdu2bdvmP7Zt27Zt2+Y/tm3btm3b5j+2bdu2bdvmP7Zt27Zt2+Y/tm3btm3b5j+2bdu2bdvmP7Zt27Zt2+Y/tm3btm3b5j+2bdu2bdvmP7Zt27Zt2+Y/tm3btm3b5j+2bdu2bdvmP7Zt27Zt2+Y/tm3btm3b5j+2bdu2bdvmP7Zt27Zt2+Y/tm3btm3b5j+2bdu2bdvmP7Zt27Zt2+Y/tm3btm3b5j+2bdu2bdvmP7Zt27Zt2+Y/tm3btm3b5j+2bdu2bdvmP7Zt27Zt2+Y/tm3btm3b5j+2bdu2bdvmP7Zt27Zt2+Y/tm3btm3b5j+2bdu2bdvmP7Zt27Zt2+Y/tm3btm3b5j+2bdu2bdvmP7Zt27Zt2+Y/tm3btm3b5j+2bdu2bdvmP7Zt27Zt2+Y/tm3btm3b5j+2bdu2bdvmP7Zt27Zt2+Y/tm3btm3b5j+2bdu2bdvmP7Zt27Zt2+Y/tm3btm3b5j+2bdu2bdvmP7Zt27Zt2+Y/tm3btm3b5j+2bdu2bdvmP7Zt27Zt2+Y/tm3btm3b5j+2bdu2bdvmP7Zt27Zt2+Y/tm3btm3b5j+2bdu2bdvmP7Zt27Zt2+Y/tm3btm3b5j+2bdu2bdvmP7Zt27Zt2+Y/tm3btm3b5j+2bdu2bdvmP7Zt27Zt2+Y/tm3btm3b5j+2bdu2bdvmP7Zt27Zt2+Y/tm3btm3b5j+2bdu2bdvmP7Zt27Zt2+Y/tm3btm3b5j+2bdu2bdvmP7Zt27Zt2+Y/tm3btm3b5j+2bdu2bdvmP7Zt27Zt2+Y/tm3btm3b5j+2bdu2bdvmP7Zt27Zt2+Y/tm3btm3b5j+2bdu2bdvmP7Zt27Zt2+Y/tm3btm3b5j+2bdu2bdvmP7Zt27Zt2+Y/tm3btm3b5j+2bdu2bdvmP7Zt27Zt2+Y/tm3btm3b5j+2bdu2bdvmP7Zt27Zt2+Y/tm3btm3b5j+2bdu2bdvmP7Zt27Zt2+Y/tm3btm3b5j+2bdu2bdvmP7Zt27Zt2+Y/tm3btm3b5j+2bdu2bdvmP7Zt27Zt2+Y/tm3btm3b5j+2bdu2bdvmP7Zt27Zt2+Y/tm3btm3b5j+2bdu2bdvmP7Zt27Zt2+Y/tm3btm3b5j+2bdu2bdvmP7Zt27Zt2+Y/tm3btm3b5j+2bdu2bdvmP7Zt27Zt2+Y/tm3btm3b5j+2bdu2bdvmP7Zt27Zt2+Y/tm3btm3b5j+2bdu2bdvmP7Zt27Zt2+Y/tm3btm3b5j+2bdu2bdvmP7Zt27Zt2+Y/tm3btm3b5j+2bdu2bdvmP7Zt27Zt2+Y/tm3btm3b5j+2bdu2bdvmP7Zt27Zt2+Y/tm3btm3b5j+2bdu2bdvmP7Zt27Zt2+Y/tm3btm3b5j+2bdu2bdvmP7Zt27Zt2+Y/tm3btm3b5j+2bdu2bdvmP7Zt27Zt2+Y/tm3btm3b5j+2bdu2bdvmP7Zt27Zt2+Y/tm3btm3b5j+2bdu2bdvmP7Zt27Zt2+Y/tm3btm3b5j+2bdu2bdvmP7Zt27Zt2+Y/tm3btm3b5j+2bdu2bdvmP7Zt27Zt2+Y/tm3btm3b5j+2bdu2bdvmP7Zt27Zt2+Y/tm3btm3b5j+2bdu2bdvmP7Zt27Zt2+Y/tm3btm3b5j+2bdu2bdvmP7Zt27Zt2+Y/tm3btm3b5j+2bdu2bdvmP7Zt27Zt2+Y/tm3btm3b5j+2bdu2bdvmP7Zt27Zt2+Y/tm3btm3b5j+2bdu2bdvmP7Zt27Zt2+Y/tm3btm3b5j+2bdu2bdvmP7Zt27Zt2+Y/tm3btm3b5j+2bdu2bdvmP7Zt27Zt2+Y/tm3btm3b5j+2bdu2bdvmP7Zt27Zt2+Y/tm3btm3b5j+2bdu2bdvmP7Zt27Zt2+Y/tm3btm3b5j+2bdu2bdvmP7Zt27Zt2+Y/tm3btm3b5j+2bdu2bdvmP7Zt27Zt2+Y/tm3btm3b5j+2bdu2bdvmP7Zt27Zt2+Y/tm3btm3b5j+2bdu2bdvmP7Zt27Zt2+Y/tm3btm3b5j+2bdu2bdvmP7Zt27Zt2+Y/tm3btm3b5j+2bdu2bdvmP7Zt27Zt2+Y/tm3btm3b5j+2bdu2bdvmP7Zt27Zt2+Y/tm3btm3b5j+2bdu2bdvmP7Zt27Zt2+Y/tm3btm3b5j+2bdu2bdvmP7Zt27Zt2+Y/tm3btm3b5j+2bdu2bdvmP7Zt27Zt2+Y/tm3btm3b5j+2bdu2bdvmP7Zt27Zt2+Y/tm3btm3b5j+2bdu2bdvmP7Zt27Zt2+Y/tm3btm3b5j+2bdu2bdvmP7Zt27Zt2+Y/tm3btm3b5j+2bdu2bdvmP7Zt27Zt2+Y/tm3btm3b5j8=",
          "dtype": "f8",
          "shape": "20, 20"
         }
        },
        {
         "cmax": 51.5426025390625,
         "cmin": 0.28350239992141724,
         "colorscale": [
          [
           0,
           "#440154"
          ],
          [
           0.1111111111111111,
           "#482878"
          ],
          [
           0.2222222222222222,
           "#3e4989"
          ],
          [
           0.3333333333333333,
           "#31688e"
          ],
          [
           0.4444444444444444,
           "#26828e"
          ],
          [
           0.5555555555555556,
           "#1f9e89"
          ],
          [
           0.6666666666666666,
           "#35b779"
          ],
          [
           0.7777777777777778,
           "#6ece58"
          ],
          [
           0.8888888888888888,
           "#b5de2b"
          ],
          [
           1,
           "#fde725"
          ]
         ],
         "opacity": 0.7,
         "scene": "scene",
         "showscale": false,
         "surfacecolor": {
          "bdata": "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",
          "dtype": "f4",
          "shape": "20, 20"
         },
         "type": "surface",
         "x": {
          "bdata": "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",
          "dtype": "f8",
          "shape": "20, 20"
         },
         "y": {
          "bdata": "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",
          "dtype": "f8",
          "shape": "20, 20"
         },
         "z": {
          "bdata": "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",
          "dtype": "f8",
          "shape": "20, 20"
         }
        },
        {
         "cmax": 51.5426025390625,
         "cmin": 0.28350239992141724,
         "colorscale": [
          [
           0,
           "#440154"
          ],
          [
           0.1111111111111111,
           "#482878"
          ],
          [
           0.2222222222222222,
           "#3e4989"
          ],
          [
           0.3333333333333333,
           "#31688e"
          ],
          [
           0.4444444444444444,
           "#26828e"
          ],
          [
           0.5555555555555556,
           "#1f9e89"
          ],
          [
           0.6666666666666666,
           "#35b779"
          ],
          [
           0.7777777777777778,
           "#6ece58"
          ],
          [
           0.8888888888888888,
           "#b5de2b"
          ],
          [
           1,
           "#fde725"
          ]
         ],
         "opacity": 0.7,
         "scene": "scene2",
         "showscale": false,
         "surfacecolor": {
          "bdata": "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",
          "dtype": "f4",
          "shape": "20, 20"
         },
         "type": "surface",
         "x": {
          "bdata": "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",
          "dtype": "f8",
          "shape": "20, 20"
         },
         "y": {
          "bdata": "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",
          "dtype": "f8",
          "shape": "20, 20"
         },
         "z": {
          "bdata": "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",
          "dtype": "f8",
          "shape": "20, 20"
         }
        },
        {
         "cmax": 51.5426025390625,
         "cmin": 0.28350239992141724,
         "colorscale": [
          [
           0,
           "#440154"
          ],
          [
           0.1111111111111111,
           "#482878"
          ],
          [
           0.2222222222222222,
           "#3e4989"
          ],
          [
           0.3333333333333333,
           "#31688e"
          ],
          [
           0.4444444444444444,
           "#26828e"
          ],
          [
           0.5555555555555556,
           "#1f9e89"
          ],
          [
           0.6666666666666666,
           "#35b779"
          ],
          [
           0.7777777777777778,
           "#6ece58"
          ],
          [
           0.8888888888888888,
           "#b5de2b"
          ],
          [
           1,
           "#fde725"
          ]
         ],
         "opacity": 0.7,
         "scene": "scene3",
         "showscale": false,
         "surfacecolor": {
          "bdata": "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",
          "dtype": "f4",
          "shape": "20, 20"
         },
         "type": "surface",
         "x": {
          "bdata": "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",
          "dtype": "f8",
          "shape": "20, 20"
         },
         "y": {
          "bdata": "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",
          "dtype": "f8",
          "shape": "20, 20"
         },
         "z": {
          "bdata": "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",
          "dtype": "f8",
          "shape": "20, 20"
         }
        },
        {
         "cmax": 51.5426025390625,
         "cmin": 0.28350239992141724,
         "colorscale": [
          [
           0,
           "#440154"
          ],
          [
           0.1111111111111111,
           "#482878"
          ],
          [
           0.2222222222222222,
           "#3e4989"
          ],
          [
           0.3333333333333333,
           "#31688e"
          ],
          [
           0.4444444444444444,
           "#26828e"
          ],
          [
           0.5555555555555556,
           "#1f9e89"
          ],
          [
           0.6666666666666666,
           "#35b779"
          ],
          [
           0.7777777777777778,
           "#6ece58"
          ],
          [
           0.8888888888888888,
           "#b5de2b"
          ],
          [
           1,
           "#fde725"
          ]
         ],
         "opacity": 0.7,
         "scene": "scene4",
         "showscale": false,
         "surfacecolor": {
          "bdata": "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",
          "dtype": "f4",
          "shape": "20, 20"
         },
         "type": "surface",
         "x": {
          "bdata": "AAAAAAAAAAAor6G8hvKqPyivobyG8ro/XkN5DeU1xD8or6G8hvLKP3kN5TWU19A/XkN5DeU11D9DeQ3lNZTXPyivobyG8to/DeU1lNdQ3j95DeU1lNfgP2wor6G8huI/XkN5DeU15D9QXkN5DeXlP0N5DeU1lOc/NpTXUF5D6T8or6G8hvLqPxrKayivoew/DeU1lNdQ7j8AAAAAAADwPwAAAAAAAAAAKK+hvIbyqj8or6G8hvK6P15DeQ3lNcQ/KK+hvIbyyj95DeU1lNfQP15DeQ3lNdQ/Q3kN5TWU1z8or6G8hvLaPw3lNZTXUN4/eQ3lNZTX4D9sKK+hvIbiP15DeQ3lNeQ/UF5DeQ3l5T9DeQ3lNZTnPzaU11BeQ+k/KK+hvIby6j8aymsor6HsPw3lNZTXUO4/AAAAAAAA8D8AAAAAAAAAACivobyG8qo/KK+hvIbyuj9eQ3kN5TXEPyivobyG8so/eQ3lNZTX0D9eQ3kN5TXUP0N5DeU1lNc/KK+hvIby2j8N5TWU11DeP3kN5TWU1+A/bCivobyG4j9eQ3kN5TXkP1BeQ3kN5eU/Q3kN5TWU5z82lNdQXkPpPyivobyG8uo/GsprKK+h7D8N5TWU11DuPwAAAAAAAPA/AAAAAAAAAAAor6G8hvKqPyivobyG8ro/XkN5DeU1xD8or6G8hvLKP3kN5TWU19A/XkN5DeU11D9DeQ3lNZTXPyivobyG8to/DeU1lNdQ3j95DeU1lNfgP2wor6G8huI/XkN5DeU15D9QXkN5DeXlP0N5DeU1lOc/NpTXUF5D6T8or6G8hvLqPxrKayivoew/DeU1lNdQ7j8AAAAAAADwPwAAAAAAAAAAKK+hvIbyqj8or6G8hvK6P15DeQ3lNcQ/KK+hvIbyyj95DeU1lNfQP15DeQ3lNdQ/Q3kN5TWU1z8or6G8hvLaPw3lNZTXUN4/eQ3lNZTX4D9sKK+hvIbiP15DeQ3lNeQ/UF5DeQ3l5T9DeQ3lNZTnPzaU11BeQ+k/KK+hvIby6j8aymsor6HsPw3lNZTXUO4/AAAAAAAA8D8AAAAAAAAAACivobyG8qo/KK+hvIbyuj9eQ3kN5TXEPyivobyG8so/eQ3lNZTX0D9eQ3kN5TXUP0N5DeU1lNc/KK+hvIby2j8N5TWU11DeP3kN5TWU1+A/bCivobyG4j9eQ3kN5TXkP1BeQ3kN5eU/Q3kN5TWU5z82lNdQXkPpPyivobyG8uo/GsprKK+h7D8N5TWU11DuPwAAAAAAAPA/AAAAAAAAAAAor6G8hvKqPyivobyG8ro/XkN5DeU1xD8or6G8hvLKP3kN5TWU19A/XkN5DeU11D9DeQ3lNZTXPyivobyG8to/DeU1lNdQ3j95DeU1lNfgP2wor6G8huI/XkN5DeU15D9QXkN5DeXlP0N5DeU1lOc/NpTXUF5D6T8or6G8hvLqPxrKayivoew/DeU1lNdQ7j8AAAAAAADwPwAAAAAAAAAAKK+hvIbyqj8or6G8hvK6P15DeQ3lNcQ/KK+hvIbyyj95DeU1lNfQP15DeQ3lNdQ/Q3kN5TWU1z8or6G8hvLaPw3lNZTXUN4/eQ3lNZTX4D9sKK+hvIbiP15DeQ3lNeQ/UF5DeQ3l5T9DeQ3lNZTnPzaU11BeQ+k/KK+hvIby6j8aymsor6HsPw3lNZTXUO4/AAAAAAAA8D8AAAAAAAAAACivobyG8qo/KK+hvIbyuj9eQ3kN5TXEPyivobyG8so/eQ3lNZTX0D9eQ3kN5TXUP0N5DeU1lNc/KK+hvIby2j8N5TWU11DeP3kN5TWU1+A/bCivobyG4j9eQ3kN5TXkP1BeQ3kN5eU/Q3kN5TWU5z82lNdQXkPpPyivobyG8uo/GsprKK+h7D8N5TWU11DuPwAAAAAAAPA/AAAAAAAAAAAor6G8hvKqPyivobyG8ro/XkN5DeU1xD8or6G8hvLKP3kN5TWU19A/XkN5DeU11D9DeQ3lNZTXPyivobyG8to/DeU1lNdQ3j95DeU1lNfgP2wor6G8huI/XkN5DeU15D9QXkN5DeXlP0N5DeU1lOc/NpTXUF5D6T8or6G8hvLqPxrKayivoew/DeU1lNdQ7j8AAAAAAADwPwAAAAAAAAAAKK+hvIbyqj8or6G8hvK6P15DeQ3lNcQ/KK+hvIbyyj95DeU1lNfQP15DeQ3lNdQ/Q3kN5TWU1z8or6G8hvLaPw3lNZTXUN4/eQ3lNZTX4D9sKK+hvIbiP15DeQ3lNeQ/UF5DeQ3l5T9DeQ3lNZTnPzaU11BeQ+k/KK+hvIby6j8aymsor6HsPw3lNZTXUO4/AAAAAAAA8D8AAAAAAAAAACivobyG8qo/KK+hvIbyuj9eQ3kN5TXEPyivobyG8so/eQ3lNZTX0D9eQ3kN5TXUP0N5DeU1lNc/KK+hvIby2j8N5TWU11DeP3kN5TWU1+A/bCivobyG4j9eQ3kN5TXkP1BeQ3kN5eU/Q3kN5TWU5z82lNdQXkPpPyivobyG8uo/GsprKK+h7D8N5TWU11DuPwAAAAAAAPA/AAAAAAAAAAAor6G8hvKqPyivobyG8ro/XkN5DeU1xD8or6G8hvLKP3kN5TWU19A/XkN5DeU11D9DeQ3lNZTXPyivobyG8to/DeU1lNdQ3j95DeU1lNfgP2wor6G8huI/XkN5DeU15D9QXkN5DeXlP0N5DeU1lOc/NpTXUF5D6T8or6G8hvLqPxrKayivoew/DeU1lNdQ7j8AAAAAAADwPwAAAAAAAAAAKK+hvIbyqj8or6G8hvK6P15DeQ3lNcQ/KK+hvIbyyj95DeU1lNfQP15DeQ3lNdQ/Q3kN5TWU1z8or6G8hvLaPw3lNZTXUN4/eQ3lNZTX4D9sKK+hvIbiP15DeQ3lNeQ/UF5DeQ3l5T9DeQ3lNZTnPzaU11BeQ+k/KK+hvIby6j8aymsor6HsPw3lNZTXUO4/AAAAAAAA8D8AAAAAAAAAACivobyG8qo/KK+hvIbyuj9eQ3kN5TXEPyivobyG8so/eQ3lNZTX0D9eQ3kN5TXUP0N5DeU1lNc/KK+hvIby2j8N5TWU11DeP3kN5TWU1+A/bCivobyG4j9eQ3kN5TXkP1BeQ3kN5eU/Q3kN5TWU5z82lNdQXkPpPyivobyG8uo/GsprKK+h7D8N5TWU11DuPwAAAAAAAPA/AAAAAAAAAAAor6G8hvKqPyivobyG8ro/XkN5DeU1xD8or6G8hvLKP3kN5TWU19A/XkN5DeU11D9DeQ3lNZTXPyivobyG8to/DeU1lNdQ3j95DeU1lNfgP2wor6G8huI/XkN5DeU15D9QXkN5DeXlP0N5DeU1lOc/NpTXUF5D6T8or6G8hvLqPxrKayivoew/DeU1lNdQ7j8AAAAAAADwPwAAAAAAAAAAKK+hvIbyqj8or6G8hvK6P15DeQ3lNcQ/KK+hvIbyyj95DeU1lNfQP15DeQ3lNdQ/Q3kN5TWU1z8or6G8hvLaPw3lNZTXUN4/eQ3lNZTX4D9sKK+hvIbiP15DeQ3lNeQ/UF5DeQ3l5T9DeQ3lNZTnPzaU11BeQ+k/KK+hvIby6j8aymsor6HsPw3lNZTXUO4/AAAAAAAA8D8AAAAAAAAAACivobyG8qo/KK+hvIbyuj9eQ3kN5TXEPyivobyG8so/eQ3lNZTX0D9eQ3kN5TXUP0N5DeU1lNc/KK+hvIby2j8N5TWU11DeP3kN5TWU1+A/bCivobyG4j9eQ3kN5TXkP1BeQ3kN5eU/Q3kN5TWU5z82lNdQXkPpPyivobyG8uo/GsprKK+h7D8N5TWU11DuPwAAAAAAAPA/AAAAAAAAAAAor6G8hvKqPyivobyG8ro/XkN5DeU1xD8or6G8hvLKP3kN5TWU19A/XkN5DeU11D9DeQ3lNZTXPyivobyG8to/DeU1lNdQ3j95DeU1lNfgP2wor6G8huI/XkN5DeU15D9QXkN5DeXlP0N5DeU1lOc/NpTXUF5D6T8or6G8hvLqPxrKayivoew/DeU1lNdQ7j8AAAAAAADwPwAAAAAAAAAAKK+hvIbyqj8or6G8hvK6P15DeQ3lNcQ/KK+hvIbyyj95DeU1lNfQP15DeQ3lNdQ/Q3kN5TWU1z8or6G8hvLaPw3lNZTXUN4/eQ3lNZTX4D9sKK+hvIbiP15DeQ3lNeQ/UF5DeQ3l5T9DeQ3lNZTnPzaU11BeQ+k/KK+hvIby6j8aymsor6HsPw3lNZTXUO4/AAAAAAAA8D8=",
          "dtype": "f8",
          "shape": "20, 20"
         },
         "y": {
          "bdata": "AAAAAAAAAAAAAAAAAAAAAAAAAAAAAAAAAAAAAAAAAAAAAAAAAAAAAAAAAAAAAAAAAAAAAAAAAAAAAAAAAAAAAAAAAAAAAAAAAAAAAAAAAAAAAAAAAAAAAAAAAAAAAAAAAAAAAAAAAAAAAAAAAAAAAAAAAAAAAAAAAAAAAAAAAAAAAAAAAAAAAAAAAAAAAAAAAAAAAAAAAAAAAAAAAAAAACivobyG8qo/KK+hvIbyqj8or6G8hvKqPyivobyG8qo/KK+hvIbyqj8or6G8hvKqPyivobyG8qo/KK+hvIbyqj8or6G8hvKqPyivobyG8qo/KK+hvIbyqj8or6G8hvKqPyivobyG8qo/KK+hvIbyqj8or6G8hvKqPyivobyG8qo/KK+hvIbyqj8or6G8hvKqPyivobyG8qo/KK+hvIbyqj8or6G8hvK6PyivobyG8ro/KK+hvIbyuj8or6G8hvK6PyivobyG8ro/KK+hvIbyuj8or6G8hvK6PyivobyG8ro/KK+hvIbyuj8or6G8hvK6PyivobyG8ro/KK+hvIbyuj8or6G8hvK6PyivobyG8ro/KK+hvIbyuj8or6G8hvK6PyivobyG8ro/KK+hvIbyuj8or6G8hvK6PyivobyG8ro/XkN5DeU1xD9eQ3kN5TXEP15DeQ3lNcQ/XkN5DeU1xD9eQ3kN5TXEP15DeQ3lNcQ/XkN5DeU1xD9eQ3kN5TXEP15DeQ3lNcQ/XkN5DeU1xD9eQ3kN5TXEP15DeQ3lNcQ/XkN5DeU1xD9eQ3kN5TXEP15DeQ3lNcQ/XkN5DeU1xD9eQ3kN5TXEP15DeQ3lNcQ/XkN5DeU1xD9eQ3kN5TXEPyivobyG8so/KK+hvIbyyj8or6G8hvLKPyivobyG8so/KK+hvIbyyj8or6G8hvLKPyivobyG8so/KK+hvIbyyj8or6G8hvLKPyivobyG8so/KK+hvIbyyj8or6G8hvLKPyivobyG8so/KK+hvIbyyj8or6G8hvLKPyivobyG8so/KK+hvIbyyj8or6G8hvLKPyivobyG8so/KK+hvIbyyj95DeU1lNfQP3kN5TWU19A/eQ3lNZTX0D95DeU1lNfQP3kN5TWU19A/eQ3lNZTX0D95DeU1lNfQP3kN5TWU19A/eQ3lNZTX0D95DeU1lNfQP3kN5TWU19A/eQ3lNZTX0D95DeU1lNfQP3kN5TWU19A/eQ3lNZTX0D95DeU1lNfQP3kN5TWU19A/eQ3lNZTX0D95DeU1lNfQP3kN5TWU19A/XkN5DeU11D9eQ3kN5TXUP15DeQ3lNdQ/XkN5DeU11D9eQ3kN5TXUP15DeQ3lNdQ/XkN5DeU11D9eQ3kN5TXUP15DeQ3lNdQ/XkN5DeU11D9eQ3kN5TXUP15DeQ3lNdQ/XkN5DeU11D9eQ3kN5TXUP15DeQ3lNdQ/XkN5DeU11D9eQ3kN5TXUP15DeQ3lNdQ/XkN5DeU11D9eQ3kN5TXUP0N5DeU1lNc/Q3kN5TWU1z9DeQ3lNZTXP0N5DeU1lNc/Q3kN5TWU1z9DeQ3lNZTXP0N5DeU1lNc/Q3kN5TWU1z9DeQ3lNZTXP0N5DeU1lNc/Q3kN5TWU1z9DeQ3lNZTXP0N5DeU1lNc/Q3kN5TWU1z9DeQ3lNZTXP0N5DeU1lNc/Q3kN5TWU1z9DeQ3lNZTXP0N5DeU1lNc/Q3kN5TWU1z8or6G8hvLaPyivobyG8to/KK+hvIby2j8or6G8hvLaPyivobyG8to/KK+hvIby2j8or6G8hvLaPyivobyG8to/KK+hvIby2j8or6G8hvLaPyivobyG8to/KK+hvIby2j8or6G8hvLaPyivobyG8to/KK+hvIby2j8or6G8hvLaPyivobyG8to/KK+hvIby2j8or6G8hvLaPyivobyG8to/DeU1lNdQ3j8N5TWU11DePw3lNZTXUN4/DeU1lNdQ3j8N5TWU11DePw3lNZTXUN4/DeU1lNdQ3j8N5TWU11DePw3lNZTXUN4/DeU1lNdQ3j8N5TWU11DePw3lNZTXUN4/DeU1lNdQ3j8N5TWU11DePw3lNZTXUN4/DeU1lNdQ3j8N5TWU11DePw3lNZTXUN4/DeU1lNdQ3j8N5TWU11DeP3kN5TWU1+A/eQ3lNZTX4D95DeU1lNfgP3kN5TWU1+A/eQ3lNZTX4D95DeU1lNfgP3kN5TWU1+A/eQ3lNZTX4D95DeU1lNfgP3kN5TWU1+A/eQ3lNZTX4D95DeU1lNfgP3kN5TWU1+A/eQ3lNZTX4D95DeU1lNfgP3kN5TWU1+A/eQ3lNZTX4D95DeU1lNfgP3kN5TWU1+A/eQ3lNZTX4D9sKK+hvIbiP2wor6G8huI/bCivobyG4j9sKK+hvIbiP2wor6G8huI/bCivobyG4j9sKK+hvIbiP2wor6G8huI/bCivobyG4j9sKK+hvIbiP2wor6G8huI/bCivobyG4j9sKK+hvIbiP2wor6G8huI/bCivobyG4j9sKK+hvIbiP2wor6G8huI/bCivobyG4j9sKK+hvIbiP2wor6G8huI/XkN5DeU15D9eQ3kN5TXkP15DeQ3lNeQ/XkN5DeU15D9eQ3kN5TXkP15DeQ3lNeQ/XkN5DeU15D9eQ3kN5TXkP15DeQ3lNeQ/XkN5DeU15D9eQ3kN5TXkP15DeQ3lNeQ/XkN5DeU15D9eQ3kN5TXkP15DeQ3lNeQ/XkN5DeU15D9eQ3kN5TXkP15DeQ3lNeQ/XkN5DeU15D9eQ3kN5TXkP1BeQ3kN5eU/UF5DeQ3l5T9QXkN5DeXlP1BeQ3kN5eU/UF5DeQ3l5T9QXkN5DeXlP1BeQ3kN5eU/UF5DeQ3l5T9QXkN5DeXlP1BeQ3kN5eU/UF5DeQ3l5T9QXkN5DeXlP1BeQ3kN5eU/UF5DeQ3l5T9QXkN5DeXlP1BeQ3kN5eU/UF5DeQ3l5T9QXkN5DeXlP1BeQ3kN5eU/UF5DeQ3l5T9DeQ3lNZTnP0N5DeU1lOc/Q3kN5TWU5z9DeQ3lNZTnP0N5DeU1lOc/Q3kN5TWU5z9DeQ3lNZTnP0N5DeU1lOc/Q3kN5TWU5z9DeQ3lNZTnP0N5DeU1lOc/Q3kN5TWU5z9DeQ3lNZTnP0N5DeU1lOc/Q3kN5TWU5z9DeQ3lNZTnP0N5DeU1lOc/Q3kN5TWU5z9DeQ3lNZTnP0N5DeU1lOc/NpTXUF5D6T82lNdQXkPpPzaU11BeQ+k/NpTXUF5D6T82lNdQXkPpPzaU11BeQ+k/NpTXUF5D6T82lNdQXkPpPzaU11BeQ+k/NpTXUF5D6T82lNdQXkPpPzaU11BeQ+k/NpTXUF5D6T82lNdQXkPpPzaU11BeQ+k/NpTXUF5D6T82lNdQXkPpPzaU11BeQ+k/NpTXUF5D6T82lNdQXkPpPyivobyG8uo/KK+hvIby6j8or6G8hvLqPyivobyG8uo/KK+hvIby6j8or6G8hvLqPyivobyG8uo/KK+hvIby6j8or6G8hvLqPyivobyG8uo/KK+hvIby6j8or6G8hvLqPyivobyG8uo/KK+hvIby6j8or6G8hvLqPyivobyG8uo/KK+hvIby6j8or6G8hvLqPyivobyG8uo/KK+hvIby6j8aymsor6HsPxrKayivoew/GsprKK+h7D8aymsor6HsPxrKayivoew/GsprKK+h7D8aymsor6HsPxrKayivoew/GsprKK+h7D8aymsor6HsPxrKayivoew/GsprKK+h7D8aymsor6HsPxrKayivoew/GsprKK+h7D8aymsor6HsPxrKayivoew/GsprKK+h7D8aymsor6HsPxrKayivoew/DeU1lNdQ7j8N5TWU11DuPw3lNZTXUO4/DeU1lNdQ7j8N5TWU11DuPw3lNZTXUO4/DeU1lNdQ7j8N5TWU11DuPw3lNZTXUO4/DeU1lNdQ7j8N5TWU11DuPw3lNZTXUO4/DeU1lNdQ7j8N5TWU11DuPw3lNZTXUO4/DeU1lNdQ7j8N5TWU11DuPw3lNZTXUO4/DeU1lNdQ7j8N5TWU11DuPwAAAAAAAPA/AAAAAAAA8D8AAAAAAADwPwAAAAAAAPA/AAAAAAAA8D8AAAAAAADwPwAAAAAAAPA/AAAAAAAA8D8AAAAAAADwPwAAAAAAAPA/AAAAAAAA8D8AAAAAAADwPwAAAAAAAPA/AAAAAAAA8D8AAAAAAADwPwAAAAAAAPA/AAAAAAAA8D8AAAAAAADwPwAAAAAAAPA/AAAAAAAA8D8=",
          "dtype": "f8",
          "shape": "20, 20"
         },
         "z": {
          "bdata": "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",
          "dtype": "f8",
          "shape": "20, 20"
         }
        },
        {
         "cmax": 51.5426025390625,
         "cmin": 0.28350239992141724,
         "colorscale": [
          [
           0,
           "#440154"
          ],
          [
           0.1111111111111111,
           "#482878"
          ],
          [
           0.2222222222222222,
           "#3e4989"
          ],
          [
           0.3333333333333333,
           "#31688e"
          ],
          [
           0.4444444444444444,
           "#26828e"
          ],
          [
           0.5555555555555556,
           "#1f9e89"
          ],
          [
           0.6666666666666666,
           "#35b779"
          ],
          [
           0.7777777777777778,
           "#6ece58"
          ],
          [
           0.8888888888888888,
           "#b5de2b"
          ],
          [
           1,
           "#fde725"
          ]
         ],
         "opacity": 0.7,
         "scene": "scene5",
         "showscale": false,
         "surfacecolor": {
          "bdata": "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",
          "dtype": "f4",
          "shape": "20, 20"
         },
         "type": "surface",
         "x": {
          "bdata": "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",
          "dtype": "f8",
          "shape": "20, 20"
         },
         "y": {
          "bdata": "AAAAAAAAAAAAAAAAAAAAAAAAAAAAAAAAAAAAAAAAAAAAAAAAAAAAAAAAAAAAAAAAAAAAAAAAAAAAAAAAAAAAAAAAAAAAAAAAAAAAAAAAAAAAAAAAAAAAAAAAAAAAAAAAAAAAAAAAAAAAAAAAAAAAAAAAAAAAAAAAAAAAAAAAAAAAAAAAAAAAAAAAAAAAAAAAAAAAAAAAAAAAAAAAAAAAACivobyG8qo/KK+hvIbyqj8or6G8hvKqPyivobyG8qo/KK+hvIbyqj8or6G8hvKqPyivobyG8qo/KK+hvIbyqj8or6G8hvKqPyivobyG8qo/KK+hvIbyqj8or6G8hvKqPyivobyG8qo/KK+hvIbyqj8or6G8hvKqPyivobyG8qo/KK+hvIbyqj8or6G8hvKqPyivobyG8qo/KK+hvIbyqj8or6G8hvK6PyivobyG8ro/KK+hvIbyuj8or6G8hvK6PyivobyG8ro/KK+hvIbyuj8or6G8hvK6PyivobyG8ro/KK+hvIbyuj8or6G8hvK6PyivobyG8ro/KK+hvIbyuj8or6G8hvK6PyivobyG8ro/KK+hvIbyuj8or6G8hvK6PyivobyG8ro/KK+hvIbyuj8or6G8hvK6PyivobyG8ro/XkN5DeU1xD9eQ3kN5TXEP15DeQ3lNcQ/XkN5DeU1xD9eQ3kN5TXEP15DeQ3lNcQ/XkN5DeU1xD9eQ3kN5TXEP15DeQ3lNcQ/XkN5DeU1xD9eQ3kN5TXEP15DeQ3lNcQ/XkN5DeU1xD9eQ3kN5TXEP15DeQ3lNcQ/XkN5DeU1xD9eQ3kN5TXEP15DeQ3lNcQ/XkN5DeU1xD9eQ3kN5TXEPyivobyG8so/KK+hvIbyyj8or6G8hvLKPyivobyG8so/KK+hvIbyyj8or6G8hvLKPyivobyG8so/KK+hvIbyyj8or6G8hvLKPyivobyG8so/KK+hvIbyyj8or6G8hvLKPyivobyG8so/KK+hvIbyyj8or6G8hvLKPyivobyG8so/KK+hvIbyyj8or6G8hvLKPyivobyG8so/KK+hvIbyyj95DeU1lNfQP3kN5TWU19A/eQ3lNZTX0D95DeU1lNfQP3kN5TWU19A/eQ3lNZTX0D95DeU1lNfQP3kN5TWU19A/eQ3lNZTX0D95DeU1lNfQP3kN5TWU19A/eQ3lNZTX0D95DeU1lNfQP3kN5TWU19A/eQ3lNZTX0D95DeU1lNfQP3kN5TWU19A/eQ3lNZTX0D95DeU1lNfQP3kN5TWU19A/XkN5DeU11D9eQ3kN5TXUP15DeQ3lNdQ/XkN5DeU11D9eQ3kN5TXUP15DeQ3lNdQ/XkN5DeU11D9eQ3kN5TXUP15DeQ3lNdQ/XkN5DeU11D9eQ3kN5TXUP15DeQ3lNdQ/XkN5DeU11D9eQ3kN5TXUP15DeQ3lNdQ/XkN5DeU11D9eQ3kN5TXUP15DeQ3lNdQ/XkN5DeU11D9eQ3kN5TXUP0N5DeU1lNc/Q3kN5TWU1z9DeQ3lNZTXP0N5DeU1lNc/Q3kN5TWU1z9DeQ3lNZTXP0N5DeU1lNc/Q3kN5TWU1z9DeQ3lNZTXP0N5DeU1lNc/Q3kN5TWU1z9DeQ3lNZTXP0N5DeU1lNc/Q3kN5TWU1z9DeQ3lNZTXP0N5DeU1lNc/Q3kN5TWU1z9DeQ3lNZTXP0N5DeU1lNc/Q3kN5TWU1z8or6G8hvLaPyivobyG8to/KK+hvIby2j8or6G8hvLaPyivobyG8to/KK+hvIby2j8or6G8hvLaPyivobyG8to/KK+hvIby2j8or6G8hvLaPyivobyG8to/KK+hvIby2j8or6G8hvLaPyivobyG8to/KK+hvIby2j8or6G8hvLaPyivobyG8to/KK+hvIby2j8or6G8hvLaPyivobyG8to/DeU1lNdQ3j8N5TWU11DePw3lNZTXUN4/DeU1lNdQ3j8N5TWU11DePw3lNZTXUN4/DeU1lNdQ3j8N5TWU11DePw3lNZTXUN4/DeU1lNdQ3j8N5TWU11DePw3lNZTXUN4/DeU1lNdQ3j8N5TWU11DePw3lNZTXUN4/DeU1lNdQ3j8N5TWU11DePw3lNZTXUN4/DeU1lNdQ3j8N5TWU11DeP3kN5TWU1+A/eQ3lNZTX4D95DeU1lNfgP3kN5TWU1+A/eQ3lNZTX4D95DeU1lNfgP3kN5TWU1+A/eQ3lNZTX4D95DeU1lNfgP3kN5TWU1+A/eQ3lNZTX4D95DeU1lNfgP3kN5TWU1+A/eQ3lNZTX4D95DeU1lNfgP3kN5TWU1+A/eQ3lNZTX4D95DeU1lNfgP3kN5TWU1+A/eQ3lNZTX4D9sKK+hvIbiP2wor6G8huI/bCivobyG4j9sKK+hvIbiP2wor6G8huI/bCivobyG4j9sKK+hvIbiP2wor6G8huI/bCivobyG4j9sKK+hvIbiP2wor6G8huI/bCivobyG4j9sKK+hvIbiP2wor6G8huI/bCivobyG4j9sKK+hvIbiP2wor6G8huI/bCivobyG4j9sKK+hvIbiP2wor6G8huI/XkN5DeU15D9eQ3kN5TXkP15DeQ3lNeQ/XkN5DeU15D9eQ3kN5TXkP15DeQ3lNeQ/XkN5DeU15D9eQ3kN5TXkP15DeQ3lNeQ/XkN5DeU15D9eQ3kN5TXkP15DeQ3lNeQ/XkN5DeU15D9eQ3kN5TXkP15DeQ3lNeQ/XkN5DeU15D9eQ3kN5TXkP15DeQ3lNeQ/XkN5DeU15D9eQ3kN5TXkP1BeQ3kN5eU/UF5DeQ3l5T9QXkN5DeXlP1BeQ3kN5eU/UF5DeQ3l5T9QXkN5DeXlP1BeQ3kN5eU/UF5DeQ3l5T9QXkN5DeXlP1BeQ3kN5eU/UF5DeQ3l5T9QXkN5DeXlP1BeQ3kN5eU/UF5DeQ3l5T9QXkN5DeXlP1BeQ3kN5eU/UF5DeQ3l5T9QXkN5DeXlP1BeQ3kN5eU/UF5DeQ3l5T9DeQ3lNZTnP0N5DeU1lOc/Q3kN5TWU5z9DeQ3lNZTnP0N5DeU1lOc/Q3kN5TWU5z9DeQ3lNZTnP0N5DeU1lOc/Q3kN5TWU5z9DeQ3lNZTnP0N5DeU1lOc/Q3kN5TWU5z9DeQ3lNZTnP0N5DeU1lOc/Q3kN5TWU5z9DeQ3lNZTnP0N5DeU1lOc/Q3kN5TWU5z9DeQ3lNZTnP0N5DeU1lOc/NpTXUF5D6T82lNdQXkPpPzaU11BeQ+k/NpTXUF5D6T82lNdQXkPpPzaU11BeQ+k/NpTXUF5D6T82lNdQXkPpPzaU11BeQ+k/NpTXUF5D6T82lNdQXkPpPzaU11BeQ+k/NpTXUF5D6T82lNdQXkPpPzaU11BeQ+k/NpTXUF5D6T82lNdQXkPpPzaU11BeQ+k/NpTXUF5D6T82lNdQXkPpPyivobyG8uo/KK+hvIby6j8or6G8hvLqPyivobyG8uo/KK+hvIby6j8or6G8hvLqPyivobyG8uo/KK+hvIby6j8or6G8hvLqPyivobyG8uo/KK+hvIby6j8or6G8hvLqPyivobyG8uo/KK+hvIby6j8or6G8hvLqPyivobyG8uo/KK+hvIby6j8or6G8hvLqPyivobyG8uo/KK+hvIby6j8aymsor6HsPxrKayivoew/GsprKK+h7D8aymsor6HsPxrKayivoew/GsprKK+h7D8aymsor6HsPxrKayivoew/GsprKK+h7D8aymsor6HsPxrKayivoew/GsprKK+h7D8aymsor6HsPxrKayivoew/GsprKK+h7D8aymsor6HsPxrKayivoew/GsprKK+h7D8aymsor6HsPxrKayivoew/DeU1lNdQ7j8N5TWU11DuPw3lNZTXUO4/DeU1lNdQ7j8N5TWU11DuPw3lNZTXUO4/DeU1lNdQ7j8N5TWU11DuPw3lNZTXUO4/DeU1lNdQ7j8N5TWU11DuPw3lNZTXUO4/DeU1lNdQ7j8N5TWU11DuPw3lNZTXUO4/DeU1lNdQ7j8N5TWU11DuPw3lNZTXUO4/DeU1lNdQ7j8N5TWU11DuPwAAAAAAAPA/AAAAAAAA8D8AAAAAAADwPwAAAAAAAPA/AAAAAAAA8D8AAAAAAADwPwAAAAAAAPA/AAAAAAAA8D8AAAAAAADwPwAAAAAAAPA/AAAAAAAA8D8AAAAAAADwPwAAAAAAAPA/AAAAAAAA8D8AAAAAAADwPwAAAAAAAPA/AAAAAAAA8D8AAAAAAADwPwAAAAAAAPA/AAAAAAAA8D8=",
          "dtype": "f8",
          "shape": "20, 20"
         },
         "z": {
          "bdata": "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",
          "dtype": "f8",
          "shape": "20, 20"
         }
        },
        {
         "cmax": 51.5426025390625,
         "cmin": 0.28350239992141724,
         "colorscale": [
          [
           0,
           "#440154"
          ],
          [
           0.1111111111111111,
           "#482878"
          ],
          [
           0.2222222222222222,
           "#3e4989"
          ],
          [
           0.3333333333333333,
           "#31688e"
          ],
          [
           0.4444444444444444,
           "#26828e"
          ],
          [
           0.5555555555555556,
           "#1f9e89"
          ],
          [
           0.6666666666666666,
           "#35b779"
          ],
          [
           0.7777777777777778,
           "#6ece58"
          ],
          [
           0.8888888888888888,
           "#b5de2b"
          ],
          [
           1,
           "#fde725"
          ]
         ],
         "opacity": 0.7,
         "scene": "scene",
         "showscale": false,
         "surfacecolor": {
          "bdata": "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",
          "dtype": "f4",
          "shape": "20, 20"
         },
         "type": "surface",
         "x": {
          "bdata": "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",
          "dtype": "f8",
          "shape": "20, 20"
         },
         "y": {
          "bdata": "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",
          "dtype": "f8",
          "shape": "20, 20"
         },
         "z": {
          "bdata": "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",
          "dtype": "f8",
          "shape": "20, 20"
         }
        },
        {
         "cmax": 51.5426025390625,
         "cmin": 0.28350239992141724,
         "colorscale": [
          [
           0,
           "#440154"
          ],
          [
           0.1111111111111111,
           "#482878"
          ],
          [
           0.2222222222222222,
           "#3e4989"
          ],
          [
           0.3333333333333333,
           "#31688e"
          ],
          [
           0.4444444444444444,
           "#26828e"
          ],
          [
           0.5555555555555556,
           "#1f9e89"
          ],
          [
           0.6666666666666666,
           "#35b779"
          ],
          [
           0.7777777777777778,
           "#6ece58"
          ],
          [
           0.8888888888888888,
           "#b5de2b"
          ],
          [
           1,
           "#fde725"
          ]
         ],
         "opacity": 0.7,
         "scene": "scene2",
         "showscale": false,
         "surfacecolor": {
          "bdata": "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",
          "dtype": "f4",
          "shape": "20, 20"
         },
         "type": "surface",
         "x": {
          "bdata": "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",
          "dtype": "f8",
          "shape": "20, 20"
         },
         "y": {
          "bdata": "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",
          "dtype": "f8",
          "shape": "20, 20"
         },
         "z": {
          "bdata": "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",
          "dtype": "f8",
          "shape": "20, 20"
         }
        },
        {
         "cmax": 51.5426025390625,
         "cmin": 0.28350239992141724,
         "colorscale": [
          [
           0,
           "#440154"
          ],
          [
           0.1111111111111111,
           "#482878"
          ],
          [
           0.2222222222222222,
           "#3e4989"
          ],
          [
           0.3333333333333333,
           "#31688e"
          ],
          [
           0.4444444444444444,
           "#26828e"
          ],
          [
           0.5555555555555556,
           "#1f9e89"
          ],
          [
           0.6666666666666666,
           "#35b779"
          ],
          [
           0.7777777777777778,
           "#6ece58"
          ],
          [
           0.8888888888888888,
           "#b5de2b"
          ],
          [
           1,
           "#fde725"
          ]
         ],
         "opacity": 0.7,
         "scene": "scene3",
         "showscale": false,
         "surfacecolor": {
          "bdata": "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",
          "dtype": "f4",
          "shape": "20, 20"
         },
         "type": "surface",
         "x": {
          "bdata": "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",
          "dtype": "f8",
          "shape": "20, 20"
         },
         "y": {
          "bdata": "AAAAAAAAAAAAAAAAAAAAAAAAAAAAAAAAAAAAAAAAAAAAAAAAAAAAAAAAAAAAAAAAAAAAAAAAAAAAAAAAAAAAAAAAAAAAAAAAAAAAAAAAAAAAAAAAAAAAAAAAAAAAAAAAAAAAAAAAAAAAAAAAAAAAAAAAAAAAAAAAAAAAAAAAAAAAAAAAAAAAAAAAAAAAAAAAAAAAAAAAAAAAAAAAAAAAACivobyG8qo/KK+hvIbyqj8or6G8hvKqPyivobyG8qo/KK+hvIbyqj8or6G8hvKqPyivobyG8qo/KK+hvIbyqj8or6G8hvKqPyivobyG8qo/KK+hvIbyqj8or6G8hvKqPyivobyG8qo/KK+hvIbyqj8or6G8hvKqPyivobyG8qo/KK+hvIbyqj8or6G8hvKqPyivobyG8qo/KK+hvIbyqj8or6G8hvK6PyivobyG8ro/KK+hvIbyuj8or6G8hvK6PyivobyG8ro/KK+hvIbyuj8or6G8hvK6PyivobyG8ro/KK+hvIbyuj8or6G8hvK6PyivobyG8ro/KK+hvIbyuj8or6G8hvK6PyivobyG8ro/KK+hvIbyuj8or6G8hvK6PyivobyG8ro/KK+hvIbyuj8or6G8hvK6PyivobyG8ro/XkN5DeU1xD9eQ3kN5TXEP15DeQ3lNcQ/XkN5DeU1xD9eQ3kN5TXEP15DeQ3lNcQ/XkN5DeU1xD9eQ3kN5TXEP15DeQ3lNcQ/XkN5DeU1xD9eQ3kN5TXEP15DeQ3lNcQ/XkN5DeU1xD9eQ3kN5TXEP15DeQ3lNcQ/XkN5DeU1xD9eQ3kN5TXEP15DeQ3lNcQ/XkN5DeU1xD9eQ3kN5TXEPyivobyG8so/KK+hvIbyyj8or6G8hvLKPyivobyG8so/KK+hvIbyyj8or6G8hvLKPyivobyG8so/KK+hvIbyyj8or6G8hvLKPyivobyG8so/KK+hvIbyyj8or6G8hvLKPyivobyG8so/KK+hvIbyyj8or6G8hvLKPyivobyG8so/KK+hvIbyyj8or6G8hvLKPyivobyG8so/KK+hvIbyyj95DeU1lNfQP3kN5TWU19A/eQ3lNZTX0D95DeU1lNfQP3kN5TWU19A/eQ3lNZTX0D95DeU1lNfQP3kN5TWU19A/eQ3lNZTX0D95DeU1lNfQP3kN5TWU19A/eQ3lNZTX0D95DeU1lNfQP3kN5TWU19A/eQ3lNZTX0D95DeU1lNfQP3kN5TWU19A/eQ3lNZTX0D95DeU1lNfQP3kN5TWU19A/XkN5DeU11D9eQ3kN5TXUP15DeQ3lNdQ/XkN5DeU11D9eQ3kN5TXUP15DeQ3lNdQ/XkN5DeU11D9eQ3kN5TXUP15DeQ3lNdQ/XkN5DeU11D9eQ3kN5TXUP15DeQ3lNdQ/XkN5DeU11D9eQ3kN5TXUP15DeQ3lNdQ/XkN5DeU11D9eQ3kN5TXUP15DeQ3lNdQ/XkN5DeU11D9eQ3kN5TXUP0N5DeU1lNc/Q3kN5TWU1z9DeQ3lNZTXP0N5DeU1lNc/Q3kN5TWU1z9DeQ3lNZTXP0N5DeU1lNc/Q3kN5TWU1z9DeQ3lNZTXP0N5DeU1lNc/Q3kN5TWU1z9DeQ3lNZTXP0N5DeU1lNc/Q3kN5TWU1z9DeQ3lNZTXP0N5DeU1lNc/Q3kN5TWU1z9DeQ3lNZTXP0N5DeU1lNc/Q3kN5TWU1z8or6G8hvLaPyivobyG8to/KK+hvIby2j8or6G8hvLaPyivobyG8to/KK+hvIby2j8or6G8hvLaPyivobyG8to/KK+hvIby2j8or6G8hvLaPyivobyG8to/KK+hvIby2j8or6G8hvLaPyivobyG8to/KK+hvIby2j8or6G8hvLaPyivobyG8to/KK+hvIby2j8or6G8hvLaPyivobyG8to/DeU1lNdQ3j8N5TWU11DePw3lNZTXUN4/DeU1lNdQ3j8N5TWU11DePw3lNZTXUN4/DeU1lNdQ3j8N5TWU11DePw3lNZTXUN4/DeU1lNdQ3j8N5TWU11DePw3lNZTXUN4/DeU1lNdQ3j8N5TWU11DePw3lNZTXUN4/DeU1lNdQ3j8N5TWU11DePw3lNZTXUN4/DeU1lNdQ3j8N5TWU11DeP3kN5TWU1+A/eQ3lNZTX4D95DeU1lNfgP3kN5TWU1+A/eQ3lNZTX4D95DeU1lNfgP3kN5TWU1+A/eQ3lNZTX4D95DeU1lNfgP3kN5TWU1+A/eQ3lNZTX4D95DeU1lNfgP3kN5TWU1+A/eQ3lNZTX4D95DeU1lNfgP3kN5TWU1+A/eQ3lNZTX4D95DeU1lNfgP3kN5TWU1+A/eQ3lNZTX4D9sKK+hvIbiP2wor6G8huI/bCivobyG4j9sKK+hvIbiP2wor6G8huI/bCivobyG4j9sKK+hvIbiP2wor6G8huI/bCivobyG4j9sKK+hvIbiP2wor6G8huI/bCivobyG4j9sKK+hvIbiP2wor6G8huI/bCivobyG4j9sKK+hvIbiP2wor6G8huI/bCivobyG4j9sKK+hvIbiP2wor6G8huI/XkN5DeU15D9eQ3kN5TXkP15DeQ3lNeQ/XkN5DeU15D9eQ3kN5TXkP15DeQ3lNeQ/XkN5DeU15D9eQ3kN5TXkP15DeQ3lNeQ/XkN5DeU15D9eQ3kN5TXkP15DeQ3lNeQ/XkN5DeU15D9eQ3kN5TXkP15DeQ3lNeQ/XkN5DeU15D9eQ3kN5TXkP15DeQ3lNeQ/XkN5DeU15D9eQ3kN5TXkP1BeQ3kN5eU/UF5DeQ3l5T9QXkN5DeXlP1BeQ3kN5eU/UF5DeQ3l5T9QXkN5DeXlP1BeQ3kN5eU/UF5DeQ3l5T9QXkN5DeXlP1BeQ3kN5eU/UF5DeQ3l5T9QXkN5DeXlP1BeQ3kN5eU/UF5DeQ3l5T9QXkN5DeXlP1BeQ3kN5eU/UF5DeQ3l5T9QXkN5DeXlP1BeQ3kN5eU/UF5DeQ3l5T9DeQ3lNZTnP0N5DeU1lOc/Q3kN5TWU5z9DeQ3lNZTnP0N5DeU1lOc/Q3kN5TWU5z9DeQ3lNZTnP0N5DeU1lOc/Q3kN5TWU5z9DeQ3lNZTnP0N5DeU1lOc/Q3kN5TWU5z9DeQ3lNZTnP0N5DeU1lOc/Q3kN5TWU5z9DeQ3lNZTnP0N5DeU1lOc/Q3kN5TWU5z9DeQ3lNZTnP0N5DeU1lOc/NpTXUF5D6T82lNdQXkPpPzaU11BeQ+k/NpTXUF5D6T82lNdQXkPpPzaU11BeQ+k/NpTXUF5D6T82lNdQXkPpPzaU11BeQ+k/NpTXUF5D6T82lNdQXkPpPzaU11BeQ+k/NpTXUF5D6T82lNdQXkPpPzaU11BeQ+k/NpTXUF5D6T82lNdQXkPpPzaU11BeQ+k/NpTXUF5D6T82lNdQXkPpPyivobyG8uo/KK+hvIby6j8or6G8hvLqPyivobyG8uo/KK+hvIby6j8or6G8hvLqPyivobyG8uo/KK+hvIby6j8or6G8hvLqPyivobyG8uo/KK+hvIby6j8or6G8hvLqPyivobyG8uo/KK+hvIby6j8or6G8hvLqPyivobyG8uo/KK+hvIby6j8or6G8hvLqPyivobyG8uo/KK+hvIby6j8aymsor6HsPxrKayivoew/GsprKK+h7D8aymsor6HsPxrKayivoew/GsprKK+h7D8aymsor6HsPxrKayivoew/GsprKK+h7D8aymsor6HsPxrKayivoew/GsprKK+h7D8aymsor6HsPxrKayivoew/GsprKK+h7D8aymsor6HsPxrKayivoew/GsprKK+h7D8aymsor6HsPxrKayivoew/DeU1lNdQ7j8N5TWU11DuPw3lNZTXUO4/DeU1lNdQ7j8N5TWU11DuPw3lNZTXUO4/DeU1lNdQ7j8N5TWU11DuPw3lNZTXUO4/DeU1lNdQ7j8N5TWU11DuPw3lNZTXUO4/DeU1lNdQ7j8N5TWU11DuPw3lNZTXUO4/DeU1lNdQ7j8N5TWU11DuPw3lNZTXUO4/DeU1lNdQ7j8N5TWU11DuPwAAAAAAAPA/AAAAAAAA8D8AAAAAAADwPwAAAAAAAPA/AAAAAAAA8D8AAAAAAADwPwAAAAAAAPA/AAAAAAAA8D8AAAAAAADwPwAAAAAAAPA/AAAAAAAA8D8AAAAAAADwPwAAAAAAAPA/AAAAAAAA8D8AAAAAAADwPwAAAAAAAPA/AAAAAAAA8D8AAAAAAADwPwAAAAAAAPA/AAAAAAAA8D8=",
          "dtype": "f8",
          "shape": "20, 20"
         },
         "z": {
          "bdata": "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",
          "dtype": "f8",
          "shape": "20, 20"
         }
        },
        {
         "cmax": 51.5426025390625,
         "cmin": 0.28350239992141724,
         "colorscale": [
          [
           0,
           "#440154"
          ],
          [
           0.1111111111111111,
           "#482878"
          ],
          [
           0.2222222222222222,
           "#3e4989"
          ],
          [
           0.3333333333333333,
           "#31688e"
          ],
          [
           0.4444444444444444,
           "#26828e"
          ],
          [
           0.5555555555555556,
           "#1f9e89"
          ],
          [
           0.6666666666666666,
           "#35b779"
          ],
          [
           0.7777777777777778,
           "#6ece58"
          ],
          [
           0.8888888888888888,
           "#b5de2b"
          ],
          [
           1,
           "#fde725"
          ]
         ],
         "opacity": 0.7,
         "scene": "scene4",
         "showscale": false,
         "surfacecolor": {
          "bdata": "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",
          "dtype": "f4",
          "shape": "20, 20"
         },
         "type": "surface",
         "x": {
          "bdata": "AAAAAAAAAAAor6G8hvKqPyivobyG8ro/XkN5DeU1xD8or6G8hvLKP3kN5TWU19A/XkN5DeU11D9DeQ3lNZTXPyivobyG8to/DeU1lNdQ3j95DeU1lNfgP2wor6G8huI/XkN5DeU15D9QXkN5DeXlP0N5DeU1lOc/NpTXUF5D6T8or6G8hvLqPxrKayivoew/DeU1lNdQ7j8AAAAAAADwPwAAAAAAAAAAKK+hvIbyqj8or6G8hvK6P15DeQ3lNcQ/KK+hvIbyyj95DeU1lNfQP15DeQ3lNdQ/Q3kN5TWU1z8or6G8hvLaPw3lNZTXUN4/eQ3lNZTX4D9sKK+hvIbiP15DeQ3lNeQ/UF5DeQ3l5T9DeQ3lNZTnPzaU11BeQ+k/KK+hvIby6j8aymsor6HsPw3lNZTXUO4/AAAAAAAA8D8AAAAAAAAAACivobyG8qo/KK+hvIbyuj9eQ3kN5TXEPyivobyG8so/eQ3lNZTX0D9eQ3kN5TXUP0N5DeU1lNc/KK+hvIby2j8N5TWU11DeP3kN5TWU1+A/bCivobyG4j9eQ3kN5TXkP1BeQ3kN5eU/Q3kN5TWU5z82lNdQXkPpPyivobyG8uo/GsprKK+h7D8N5TWU11DuPwAAAAAAAPA/AAAAAAAAAAAor6G8hvKqPyivobyG8ro/XkN5DeU1xD8or6G8hvLKP3kN5TWU19A/XkN5DeU11D9DeQ3lNZTXPyivobyG8to/DeU1lNdQ3j95DeU1lNfgP2wor6G8huI/XkN5DeU15D9QXkN5DeXlP0N5DeU1lOc/NpTXUF5D6T8or6G8hvLqPxrKayivoew/DeU1lNdQ7j8AAAAAAADwPwAAAAAAAAAAKK+hvIbyqj8or6G8hvK6P15DeQ3lNcQ/KK+hvIbyyj95DeU1lNfQP15DeQ3lNdQ/Q3kN5TWU1z8or6G8hvLaPw3lNZTXUN4/eQ3lNZTX4D9sKK+hvIbiP15DeQ3lNeQ/UF5DeQ3l5T9DeQ3lNZTnPzaU11BeQ+k/KK+hvIby6j8aymsor6HsPw3lNZTXUO4/AAAAAAAA8D8AAAAAAAAAACivobyG8qo/KK+hvIbyuj9eQ3kN5TXEPyivobyG8so/eQ3lNZTX0D9eQ3kN5TXUP0N5DeU1lNc/KK+hvIby2j8N5TWU11DeP3kN5TWU1+A/bCivobyG4j9eQ3kN5TXkP1BeQ3kN5eU/Q3kN5TWU5z82lNdQXkPpPyivobyG8uo/GsprKK+h7D8N5TWU11DuPwAAAAAAAPA/AAAAAAAAAAAor6G8hvKqPyivobyG8ro/XkN5DeU1xD8or6G8hvLKP3kN5TWU19A/XkN5DeU11D9DeQ3lNZTXPyivobyG8to/DeU1lNdQ3j95DeU1lNfgP2wor6G8huI/XkN5DeU15D9QXkN5DeXlP0N5DeU1lOc/NpTXUF5D6T8or6G8hvLqPxrKayivoew/DeU1lNdQ7j8AAAAAAADwPwAAAAAAAAAAKK+hvIbyqj8or6G8hvK6P15DeQ3lNcQ/KK+hvIbyyj95DeU1lNfQP15DeQ3lNdQ/Q3kN5TWU1z8or6G8hvLaPw3lNZTXUN4/eQ3lNZTX4D9sKK+hvIbiP15DeQ3lNeQ/UF5DeQ3l5T9DeQ3lNZTnPzaU11BeQ+k/KK+hvIby6j8aymsor6HsPw3lNZTXUO4/AAAAAAAA8D8AAAAAAAAAACivobyG8qo/KK+hvIbyuj9eQ3kN5TXEPyivobyG8so/eQ3lNZTX0D9eQ3kN5TXUP0N5DeU1lNc/KK+hvIby2j8N5TWU11DeP3kN5TWU1+A/bCivobyG4j9eQ3kN5TXkP1BeQ3kN5eU/Q3kN5TWU5z82lNdQXkPpPyivobyG8uo/GsprKK+h7D8N5TWU11DuPwAAAAAAAPA/AAAAAAAAAAAor6G8hvKqPyivobyG8ro/XkN5DeU1xD8or6G8hvLKP3kN5TWU19A/XkN5DeU11D9DeQ3lNZTXPyivobyG8to/DeU1lNdQ3j95DeU1lNfgP2wor6G8huI/XkN5DeU15D9QXkN5DeXlP0N5DeU1lOc/NpTXUF5D6T8or6G8hvLqPxrKayivoew/DeU1lNdQ7j8AAAAAAADwPwAAAAAAAAAAKK+hvIbyqj8or6G8hvK6P15DeQ3lNcQ/KK+hvIbyyj95DeU1lNfQP15DeQ3lNdQ/Q3kN5TWU1z8or6G8hvLaPw3lNZTXUN4/eQ3lNZTX4D9sKK+hvIbiP15DeQ3lNeQ/UF5DeQ3l5T9DeQ3lNZTnPzaU11BeQ+k/KK+hvIby6j8aymsor6HsPw3lNZTXUO4/AAAAAAAA8D8AAAAAAAAAACivobyG8qo/KK+hvIbyuj9eQ3kN5TXEPyivobyG8so/eQ3lNZTX0D9eQ3kN5TXUP0N5DeU1lNc/KK+hvIby2j8N5TWU11DeP3kN5TWU1+A/bCivobyG4j9eQ3kN5TXkP1BeQ3kN5eU/Q3kN5TWU5z82lNdQXkPpPyivobyG8uo/GsprKK+h7D8N5TWU11DuPwAAAAAAAPA/AAAAAAAAAAAor6G8hvKqPyivobyG8ro/XkN5DeU1xD8or6G8hvLKP3kN5TWU19A/XkN5DeU11D9DeQ3lNZTXPyivobyG8to/DeU1lNdQ3j95DeU1lNfgP2wor6G8huI/XkN5DeU15D9QXkN5DeXlP0N5DeU1lOc/NpTXUF5D6T8or6G8hvLqPxrKayivoew/DeU1lNdQ7j8AAAAAAADwPwAAAAAAAAAAKK+hvIbyqj8or6G8hvK6P15DeQ3lNcQ/KK+hvIbyyj95DeU1lNfQP15DeQ3lNdQ/Q3kN5TWU1z8or6G8hvLaPw3lNZTXUN4/eQ3lNZTX4D9sKK+hvIbiP15DeQ3lNeQ/UF5DeQ3l5T9DeQ3lNZTnPzaU11BeQ+k/KK+hvIby6j8aymsor6HsPw3lNZTXUO4/AAAAAAAA8D8AAAAAAAAAACivobyG8qo/KK+hvIbyuj9eQ3kN5TXEPyivobyG8so/eQ3lNZTX0D9eQ3kN5TXUP0N5DeU1lNc/KK+hvIby2j8N5TWU11DeP3kN5TWU1+A/bCivobyG4j9eQ3kN5TXkP1BeQ3kN5eU/Q3kN5TWU5z82lNdQXkPpPyivobyG8uo/GsprKK+h7D8N5TWU11DuPwAAAAAAAPA/AAAAAAAAAAAor6G8hvKqPyivobyG8ro/XkN5DeU1xD8or6G8hvLKP3kN5TWU19A/XkN5DeU11D9DeQ3lNZTXPyivobyG8to/DeU1lNdQ3j95DeU1lNfgP2wor6G8huI/XkN5DeU15D9QXkN5DeXlP0N5DeU1lOc/NpTXUF5D6T8or6G8hvLqPxrKayivoew/DeU1lNdQ7j8AAAAAAADwPwAAAAAAAAAAKK+hvIbyqj8or6G8hvK6P15DeQ3lNcQ/KK+hvIbyyj95DeU1lNfQP15DeQ3lNdQ/Q3kN5TWU1z8or6G8hvLaPw3lNZTXUN4/eQ3lNZTX4D9sKK+hvIbiP15DeQ3lNeQ/UF5DeQ3l5T9DeQ3lNZTnPzaU11BeQ+k/KK+hvIby6j8aymsor6HsPw3lNZTXUO4/AAAAAAAA8D8AAAAAAAAAACivobyG8qo/KK+hvIbyuj9eQ3kN5TXEPyivobyG8so/eQ3lNZTX0D9eQ3kN5TXUP0N5DeU1lNc/KK+hvIby2j8N5TWU11DeP3kN5TWU1+A/bCivobyG4j9eQ3kN5TXkP1BeQ3kN5eU/Q3kN5TWU5z82lNdQXkPpPyivobyG8uo/GsprKK+h7D8N5TWU11DuPwAAAAAAAPA/AAAAAAAAAAAor6G8hvKqPyivobyG8ro/XkN5DeU1xD8or6G8hvLKP3kN5TWU19A/XkN5DeU11D9DeQ3lNZTXPyivobyG8to/DeU1lNdQ3j95DeU1lNfgP2wor6G8huI/XkN5DeU15D9QXkN5DeXlP0N5DeU1lOc/NpTXUF5D6T8or6G8hvLqPxrKayivoew/DeU1lNdQ7j8AAAAAAADwPwAAAAAAAAAAKK+hvIbyqj8or6G8hvK6P15DeQ3lNcQ/KK+hvIbyyj95DeU1lNfQP15DeQ3lNdQ/Q3kN5TWU1z8or6G8hvLaPw3lNZTXUN4/eQ3lNZTX4D9sKK+hvIbiP15DeQ3lNeQ/UF5DeQ3l5T9DeQ3lNZTnPzaU11BeQ+k/KK+hvIby6j8aymsor6HsPw3lNZTXUO4/AAAAAAAA8D8=",
          "dtype": "f8",
          "shape": "20, 20"
         },
         "y": {
          "bdata": "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",
          "dtype": "f8",
          "shape": "20, 20"
         },
         "z": {
          "bdata": "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",
          "dtype": "f8",
          "shape": "20, 20"
         }
        },
        {
         "cmax": 51.5426025390625,
         "cmin": 0.28350239992141724,
         "colorscale": [
          [
           0,
           "#440154"
          ],
          [
           0.1111111111111111,
           "#482878"
          ],
          [
           0.2222222222222222,
           "#3e4989"
          ],
          [
           0.3333333333333333,
           "#31688e"
          ],
          [
           0.4444444444444444,
           "#26828e"
          ],
          [
           0.5555555555555556,
           "#1f9e89"
          ],
          [
           0.6666666666666666,
           "#35b779"
          ],
          [
           0.7777777777777778,
           "#6ece58"
          ],
          [
           0.8888888888888888,
           "#b5de2b"
          ],
          [
           1,
           "#fde725"
          ]
         ],
         "opacity": 0.7,
         "scene": "scene5",
         "showscale": false,
         "surfacecolor": {
          "bdata": "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",
          "dtype": "f4",
          "shape": "20, 20"
         },
         "type": "surface",
         "x": {
          "bdata": "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",
          "dtype": "f8",
          "shape": "20, 20"
         },
         "y": {
          "bdata": "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",
          "dtype": "f8",
          "shape": "20, 20"
         },
         "z": {
          "bdata": "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",
          "dtype": "f8",
          "shape": "20, 20"
         }
        }
       ],
       "layout": {
        "annotations": [
         {
          "font": {
           "size": 16
          },
          "showarrow": false,
          "text": "theta: 0",
          "x": 0.08399999999999999,
          "xanchor": "center",
          "xref": "paper",
          "y": 1,
          "yanchor": "bottom",
          "yref": "paper"
         },
         {
          "font": {
           "size": 16
          },
          "showarrow": false,
          "text": "theta: 0.25",
          "x": 0.292,
          "xanchor": "center",
          "xref": "paper",
          "y": 1,
          "yanchor": "bottom",
          "yref": "paper"
         },
         {
          "font": {
           "size": 16
          },
          "showarrow": false,
          "text": "theta: 0.5",
          "x": 0.5,
          "xanchor": "center",
          "xref": "paper",
          "y": 1,
          "yanchor": "bottom",
          "yref": "paper"
         },
         {
          "font": {
           "size": 16
          },
          "showarrow": false,
          "text": "theta: 0.75",
          "x": 0.708,
          "xanchor": "center",
          "xref": "paper",
          "y": 1,
          "yanchor": "bottom",
          "yref": "paper"
         },
         {
          "font": {
           "size": 16
          },
          "showarrow": false,
          "text": "theta: 1.0",
          "x": 0.9159999999999999,
          "xanchor": "center",
          "xref": "paper",
          "y": 1,
          "yanchor": "bottom",
          "yref": "paper"
         }
        ],
        "height": 400,
        "margin": {
         "b": 50,
         "l": 50,
         "r": 50,
         "t": 50
        },
        "scene": {
         "domain": {
          "x": [
           0,
           0.16799999999999998
          ],
          "y": [
           0,
           1
          ]
         },
         "xaxis": {
          "title": {
           "text": "theta"
          }
         },
         "yaxis": {
          "title": {
           "text": "r"
          }
         },
         "zaxis": {
          "title": {
           "text": "t"
          }
         }
        },
        "scene2": {
         "domain": {
          "x": [
           0.208,
           0.376
          ],
          "y": [
           0,
           1
          ]
         },
         "xaxis": {
          "title": {
           "text": "theta"
          }
         },
         "yaxis": {
          "title": {
           "text": "r"
          }
         },
         "zaxis": {
          "title": {
           "text": "t"
          }
         }
        },
        "scene3": {
         "domain": {
          "x": [
           0.416,
           0.584
          ],
          "y": [
           0,
           1
          ]
         },
         "xaxis": {
          "title": {
           "text": "theta"
          }
         },
         "yaxis": {
          "title": {
           "text": "r"
          }
         },
         "zaxis": {
          "title": {
           "text": "t"
          }
         }
        },
        "scene4": {
         "domain": {
          "x": [
           0.624,
           0.792
          ],
          "y": [
           0,
           1
          ]
         },
         "xaxis": {
          "title": {
           "text": "theta"
          }
         },
         "yaxis": {
          "title": {
           "text": "r"
          }
         },
         "zaxis": {
          "title": {
           "text": "t"
          }
         }
        },
        "scene5": {
         "domain": {
          "x": [
           0.832,
           1
          ],
          "y": [
           0,
           1
          ]
         },
         "xaxis": {
          "title": {
           "text": "theta"
          }
         },
         "yaxis": {
          "title": {
           "text": "r"
          }
         },
         "zaxis": {
          "title": {
           "text": "t"
          }
         }
        },
        "template": {
         "data": {
          "bar": [
           {
            "error_x": {
             "color": "#2a3f5f"
            },
            "error_y": {
             "color": "#2a3f5f"
            },
            "marker": {
             "line": {
              "color": "#E5ECF6",
              "width": 0.5
             },
             "pattern": {
              "fillmode": "overlay",
              "size": 10,
              "solidity": 0.2
             }
            },
            "type": "bar"
           }
          ],
          "barpolar": [
           {
            "marker": {
             "line": {
              "color": "#E5ECF6",
              "width": 0.5
             },
             "pattern": {
              "fillmode": "overlay",
              "size": 10,
              "solidity": 0.2
             }
            },
            "type": "barpolar"
           }
          ],
          "carpet": [
           {
            "aaxis": {
             "endlinecolor": "#2a3f5f",
             "gridcolor": "white",
             "linecolor": "white",
             "minorgridcolor": "white",
             "startlinecolor": "#2a3f5f"
            },
            "baxis": {
             "endlinecolor": "#2a3f5f",
             "gridcolor": "white",
             "linecolor": "white",
             "minorgridcolor": "white",
             "startlinecolor": "#2a3f5f"
            },
            "type": "carpet"
           }
          ],
          "choropleth": [
           {
            "colorbar": {
             "outlinewidth": 0,
             "ticks": ""
            },
            "type": "choropleth"
           }
          ],
          "contour": [
           {
            "colorbar": {
             "outlinewidth": 0,
             "ticks": ""
            },
            "colorscale": [
             [
              0,
              "#0d0887"
             ],
             [
              0.1111111111111111,
              "#46039f"
             ],
             [
              0.2222222222222222,
              "#7201a8"
             ],
             [
              0.3333333333333333,
              "#9c179e"
             ],
             [
              0.4444444444444444,
              "#bd3786"
             ],
             [
              0.5555555555555556,
              "#d8576b"
             ],
             [
              0.6666666666666666,
              "#ed7953"
             ],
             [
              0.7777777777777778,
              "#fb9f3a"
             ],
             [
              0.8888888888888888,
              "#fdca26"
             ],
             [
              1,
              "#f0f921"
             ]
            ],
            "type": "contour"
           }
          ],
          "contourcarpet": [
           {
            "colorbar": {
             "outlinewidth": 0,
             "ticks": ""
            },
            "type": "contourcarpet"
           }
          ],
          "heatmap": [
           {
            "colorbar": {
             "outlinewidth": 0,
             "ticks": ""
            },
            "colorscale": [
             [
              0,
              "#0d0887"
             ],
             [
              0.1111111111111111,
              "#46039f"
             ],
             [
              0.2222222222222222,
              "#7201a8"
             ],
             [
              0.3333333333333333,
              "#9c179e"
             ],
             [
              0.4444444444444444,
              "#bd3786"
             ],
             [
              0.5555555555555556,
              "#d8576b"
             ],
             [
              0.6666666666666666,
              "#ed7953"
             ],
             [
              0.7777777777777778,
              "#fb9f3a"
             ],
             [
              0.8888888888888888,
              "#fdca26"
             ],
             [
              1,
              "#f0f921"
             ]
            ],
            "type": "heatmap"
           }
          ],
          "histogram": [
           {
            "marker": {
             "pattern": {
              "fillmode": "overlay",
              "size": 10,
              "solidity": 0.2
             }
            },
            "type": "histogram"
           }
          ],
          "histogram2d": [
           {
            "colorbar": {
             "outlinewidth": 0,
             "ticks": ""
            },
            "colorscale": [
             [
              0,
              "#0d0887"
             ],
             [
              0.1111111111111111,
              "#46039f"
             ],
             [
              0.2222222222222222,
              "#7201a8"
             ],
             [
              0.3333333333333333,
              "#9c179e"
             ],
             [
              0.4444444444444444,
              "#bd3786"
             ],
             [
              0.5555555555555556,
              "#d8576b"
             ],
             [
              0.6666666666666666,
              "#ed7953"
             ],
             [
              0.7777777777777778,
              "#fb9f3a"
             ],
             [
              0.8888888888888888,
              "#fdca26"
             ],
             [
              1,
              "#f0f921"
             ]
            ],
            "type": "histogram2d"
           }
          ],
          "histogram2dcontour": [
           {
            "colorbar": {
             "outlinewidth": 0,
             "ticks": ""
            },
            "colorscale": [
             [
              0,
              "#0d0887"
             ],
             [
              0.1111111111111111,
              "#46039f"
             ],
             [
              0.2222222222222222,
              "#7201a8"
             ],
             [
              0.3333333333333333,
              "#9c179e"
             ],
             [
              0.4444444444444444,
              "#bd3786"
             ],
             [
              0.5555555555555556,
              "#d8576b"
             ],
             [
              0.6666666666666666,
              "#ed7953"
             ],
             [
              0.7777777777777778,
              "#fb9f3a"
             ],
             [
              0.8888888888888888,
              "#fdca26"
             ],
             [
              1,
              "#f0f921"
             ]
            ],
            "type": "histogram2dcontour"
           }
          ],
          "mesh3d": [
           {
            "colorbar": {
             "outlinewidth": 0,
             "ticks": ""
            },
            "type": "mesh3d"
           }
          ],
          "parcoords": [
           {
            "line": {
             "colorbar": {
              "outlinewidth": 0,
              "ticks": ""
             }
            },
            "type": "parcoords"
           }
          ],
          "pie": [
           {
            "automargin": true,
            "type": "pie"
           }
          ],
          "scatter": [
           {
            "fillpattern": {
             "fillmode": "overlay",
             "size": 10,
             "solidity": 0.2
            },
            "type": "scatter"
           }
          ],
          "scatter3d": [
           {
            "line": {
             "colorbar": {
              "outlinewidth": 0,
              "ticks": ""
             }
            },
            "marker": {
             "colorbar": {
              "outlinewidth": 0,
              "ticks": ""
             }
            },
            "type": "scatter3d"
           }
          ],
          "scattercarpet": [
           {
            "marker": {
             "colorbar": {
              "outlinewidth": 0,
              "ticks": ""
             }
            },
            "type": "scattercarpet"
           }
          ],
          "scattergeo": [
           {
            "marker": {
             "colorbar": {
              "outlinewidth": 0,
              "ticks": ""
             }
            },
            "type": "scattergeo"
           }
          ],
          "scattergl": [
           {
            "marker": {
             "colorbar": {
              "outlinewidth": 0,
              "ticks": ""
             }
            },
            "type": "scattergl"
           }
          ],
          "scattermap": [
           {
            "marker": {
             "colorbar": {
              "outlinewidth": 0,
              "ticks": ""
             }
            },
            "type": "scattermap"
           }
          ],
          "scattermapbox": [
           {
            "marker": {
             "colorbar": {
              "outlinewidth": 0,
              "ticks": ""
             }
            },
            "type": "scattermapbox"
           }
          ],
          "scatterpolar": [
           {
            "marker": {
             "colorbar": {
              "outlinewidth": 0,
              "ticks": ""
             }
            },
            "type": "scatterpolar"
           }
          ],
          "scatterpolargl": [
           {
            "marker": {
             "colorbar": {
              "outlinewidth": 0,
              "ticks": ""
             }
            },
            "type": "scatterpolargl"
           }
          ],
          "scatterternary": [
           {
            "marker": {
             "colorbar": {
              "outlinewidth": 0,
              "ticks": ""
             }
            },
            "type": "scatterternary"
           }
          ],
          "surface": [
           {
            "colorbar": {
             "outlinewidth": 0,
             "ticks": ""
            },
            "colorscale": [
             [
              0,
              "#0d0887"
             ],
             [
              0.1111111111111111,
              "#46039f"
             ],
             [
              0.2222222222222222,
              "#7201a8"
             ],
             [
              0.3333333333333333,
              "#9c179e"
             ],
             [
              0.4444444444444444,
              "#bd3786"
             ],
             [
              0.5555555555555556,
              "#d8576b"
             ],
             [
              0.6666666666666666,
              "#ed7953"
             ],
             [
              0.7777777777777778,
              "#fb9f3a"
             ],
             [
              0.8888888888888888,
              "#fdca26"
             ],
             [
              1,
              "#f0f921"
             ]
            ],
            "type": "surface"
           }
          ],
          "table": [
           {
            "cells": {
             "fill": {
              "color": "#EBF0F8"
             },
             "line": {
              "color": "white"
             }
            },
            "header": {
             "fill": {
              "color": "#C8D4E3"
             },
             "line": {
              "color": "white"
             }
            },
            "type": "table"
           }
          ]
         },
         "layout": {
          "annotationdefaults": {
           "arrowcolor": "#2a3f5f",
           "arrowhead": 0,
           "arrowwidth": 1
          },
          "autotypenumbers": "strict",
          "coloraxis": {
           "colorbar": {
            "outlinewidth": 0,
            "ticks": ""
           }
          },
          "colorscale": {
           "diverging": [
            [
             0,
             "#8e0152"
            ],
            [
             0.1,
             "#c51b7d"
            ],
            [
             0.2,
             "#de77ae"
            ],
            [
             0.3,
             "#f1b6da"
            ],
            [
             0.4,
             "#fde0ef"
            ],
            [
             0.5,
             "#f7f7f7"
            ],
            [
             0.6,
             "#e6f5d0"
            ],
            [
             0.7,
             "#b8e186"
            ],
            [
             0.8,
             "#7fbc41"
            ],
            [
             0.9,
             "#4d9221"
            ],
            [
             1,
             "#276419"
            ]
           ],
           "sequential": [
            [
             0,
             "#0d0887"
            ],
            [
             0.1111111111111111,
             "#46039f"
            ],
            [
             0.2222222222222222,
             "#7201a8"
            ],
            [
             0.3333333333333333,
             "#9c179e"
            ],
            [
             0.4444444444444444,
             "#bd3786"
            ],
            [
             0.5555555555555556,
             "#d8576b"
            ],
            [
             0.6666666666666666,
             "#ed7953"
            ],
            [
             0.7777777777777778,
             "#fb9f3a"
            ],
            [
             0.8888888888888888,
             "#fdca26"
            ],
            [
             1,
             "#f0f921"
            ]
           ],
           "sequentialminus": [
            [
             0,
             "#0d0887"
            ],
            [
             0.1111111111111111,
             "#46039f"
            ],
            [
             0.2222222222222222,
             "#7201a8"
            ],
            [
             0.3333333333333333,
             "#9c179e"
            ],
            [
             0.4444444444444444,
             "#bd3786"
            ],
            [
             0.5555555555555556,
             "#d8576b"
            ],
            [
             0.6666666666666666,
             "#ed7953"
            ],
            [
             0.7777777777777778,
             "#fb9f3a"
            ],
            [
             0.8888888888888888,
             "#fdca26"
            ],
            [
             1,
             "#f0f921"
            ]
           ]
          },
          "colorway": [
           "#636efa",
           "#EF553B",
           "#00cc96",
           "#ab63fa",
           "#FFA15A",
           "#19d3f3",
           "#FF6692",
           "#B6E880",
           "#FF97FF",
           "#FECB52"
          ],
          "font": {
           "color": "#2a3f5f"
          },
          "geo": {
           "bgcolor": "white",
           "lakecolor": "white",
           "landcolor": "#E5ECF6",
           "showlakes": true,
           "showland": true,
           "subunitcolor": "white"
          },
          "hoverlabel": {
           "align": "left"
          },
          "hovermode": "closest",
          "mapbox": {
           "style": "light"
          },
          "paper_bgcolor": "white",
          "plot_bgcolor": "#E5ECF6",
          "polar": {
           "angularaxis": {
            "gridcolor": "white",
            "linecolor": "white",
            "ticks": ""
           },
           "bgcolor": "#E5ECF6",
           "radialaxis": {
            "gridcolor": "white",
            "linecolor": "white",
            "ticks": ""
           }
          },
          "scene": {
           "xaxis": {
            "backgroundcolor": "#E5ECF6",
            "gridcolor": "white",
            "gridwidth": 2,
            "linecolor": "white",
            "showbackground": true,
            "ticks": "",
            "zerolinecolor": "white"
           },
           "yaxis": {
            "backgroundcolor": "#E5ECF6",
            "gridcolor": "white",
            "gridwidth": 2,
            "linecolor": "white",
            "showbackground": true,
            "ticks": "",
            "zerolinecolor": "white"
           },
           "zaxis": {
            "backgroundcolor": "#E5ECF6",
            "gridcolor": "white",
            "gridwidth": 2,
            "linecolor": "white",
            "showbackground": true,
            "ticks": "",
            "zerolinecolor": "white"
           }
          },
          "shapedefaults": {
           "line": {
            "color": "#2a3f5f"
           }
          },
          "ternary": {
           "aaxis": {
            "gridcolor": "white",
            "linecolor": "white",
            "ticks": ""
           },
           "baxis": {
            "gridcolor": "white",
            "linecolor": "white",
            "ticks": ""
           },
           "bgcolor": "#E5ECF6",
           "caxis": {
            "gridcolor": "white",
            "linecolor": "white",
            "ticks": ""
           }
          },
          "title": {
           "x": 0.05
          },
          "xaxis": {
           "automargin": true,
           "gridcolor": "white",
           "linecolor": "white",
           "ticks": "",
           "title": {
            "standoff": 15
           },
           "zerolinecolor": "white",
           "zerolinewidth": 2
          },
          "yaxis": {
           "automargin": true,
           "gridcolor": "white",
           "linecolor": "white",
           "ticks": "",
           "title": {
            "standoff": 15
           },
           "zerolinecolor": "white",
           "zerolinewidth": 2
          }
         }
        },
        "width": 1300
       }
      }
     },
     "metadata": {},
     "output_type": "display_data"
    }
   ],
   "source": [
    "# 1. Define the bounds for the GP model\n",
    "dtype = torch.float32\n",
    "original_bounds = torch.tensor([[x_all[:,0].min(), x_all[:,1].min(), x_all[:,2].min(), x_all[:,3].min()], [x_all[:,0].max(), x_all[:,1].max(), x_all[:,2].max(), x_all[:,3].max()]])\n",
    "nx_all = normalize(x_all, bounds=original_bounds)\n",
    "# 2. Create the GP model\n",
    "gp_model = GaussianProcessModel(x_train = nx_all, y_train = y_all, bounds=original_bounds)\n",
    "\n",
    "# 3. Define your slicing combination\n",
    "variable_combinations = [('theta', 'r', 't')]#('theta', 'r', 't'), ('n', 't', 'theta')\n",
    "\n",
    "# 4. Instantiate the plotting utility\n",
    "plotter = Plotting(gp_model, variable_combinations)\n",
    "\n",
    "# 5. Define min/max range for colorbar\n",
    "minmax = [torch.min(y_all), torch.max(y_all)]\n",
    "\n",
    "# 6. Plot!\n",
    "plotter.sliced_plotting(variable_combinations[0], minmax)"
   ]
  }
 ],
 "metadata": {
  "kernelspec": {
   "display_name": "Python 3",
   "language": "python",
   "name": "python3"
  },
  "language_info": {
   "codemirror_mode": {
    "name": "ipython",
    "version": 3
   },
   "file_extension": ".py",
   "mimetype": "text/x-python",
   "name": "python",
   "nbconvert_exporter": "python",
   "pygments_lexer": "ipython3",
   "version": "3.11.8"
  }
 },
 "nbformat": 4,
 "nbformat_minor": 2
}
