{
 "cells": [
  {
   "cell_type": "code",
   "execution_count": 1,
   "metadata": {},
   "outputs": [],
   "source": [
    "# Support for math\n",
    "import numpy as np\n",
    "import math\n",
    "\n",
    "# Plotting tools\n",
    "from matplotlib import pyplot as plt\n",
    "import matplotlib\n",
    "from matplotlib import cm\n",
    "import plotly.graph_objects as go\n",
    "from plotly.subplots import make_subplots\n",
    "\n",
    "\n",
    "import warnings\n",
    "warnings.filterwarnings('ignore')\n",
    "\n",
    "# File Tools for local\n",
    "import pandas as pd\n",
    "import sys\n",
    "\n",
    "# Random seed for reproducibility\n",
    "import random\n",
    "\n",
    "import torch\n",
    "from botorch.models.gp_regression import SingleTaskGP\n",
    "from botorch.fit import fit_gpytorch_mll\n",
    "from botorch.utils.transforms import normalize, unnormalize\n",
    "\n",
    "from ipywidgets import interact, FloatSlider\n",
    "\n",
    "#LHS sampling\n",
    "#from pyDOE import lhs\n",
    "from smt.sampling_methods import LHS\n",
    "import random\n",
    "\n",
    "# Cluster \n",
    "from sklearn.cluster import KMeans\n",
    "from sklearn.preprocessing import StandardScaler\n"
   ]
  },
  {
   "cell_type": "markdown",
   "metadata": {},
   "source": [
    ">## Data Prep"
   ]
  },
  {
   "cell_type": "code",
   "execution_count": 2,
   "metadata": {},
   "outputs": [
    {
     "data": {
      "text/html": [
       "<div>\n",
       "<style scoped>\n",
       "    .dataframe tbody tr th:only-of-type {\n",
       "        vertical-align: middle;\n",
       "    }\n",
       "\n",
       "    .dataframe tbody tr th {\n",
       "        vertical-align: top;\n",
       "    }\n",
       "\n",
       "    .dataframe thead th {\n",
       "        text-align: right;\n",
       "    }\n",
       "</style>\n",
       "<table border=\"1\" class=\"dataframe\">\n",
       "  <thead>\n",
       "    <tr style=\"text-align: right;\">\n",
       "      <th></th>\n",
       "      <th>n</th>\n",
       "      <th>theta</th>\n",
       "      <th>r</th>\n",
       "      <th>t</th>\n",
       "      <th>toughness</th>\n",
       "      <th>mass</th>\n",
       "      <th>printerid</th>\n",
       "      <th>campaignid</th>\n",
       "      <th>category</th>\n",
       "    </tr>\n",
       "  </thead>\n",
       "  <tbody>\n",
       "    <tr>\n",
       "      <th>0</th>\n",
       "      <td>6</td>\n",
       "      <td>0</td>\n",
       "      <td>1.5</td>\n",
       "      <td>0.70</td>\n",
       "      <td>1.144667</td>\n",
       "      <td>1.7131</td>\n",
       "      <td>1</td>\n",
       "      <td>1</td>\n",
       "      <td>2</td>\n",
       "    </tr>\n",
       "    <tr>\n",
       "      <th>1</th>\n",
       "      <td>6</td>\n",
       "      <td>0</td>\n",
       "      <td>1.5</td>\n",
       "      <td>1.05</td>\n",
       "      <td>1.607561</td>\n",
       "      <td>1.9386</td>\n",
       "      <td>2</td>\n",
       "      <td>1</td>\n",
       "      <td>2</td>\n",
       "    </tr>\n",
       "    <tr>\n",
       "      <th>2</th>\n",
       "      <td>6</td>\n",
       "      <td>0</td>\n",
       "      <td>1.5</td>\n",
       "      <td>1.40</td>\n",
       "      <td>1.144338</td>\n",
       "      <td>1.9828</td>\n",
       "      <td>3</td>\n",
       "      <td>1</td>\n",
       "      <td>2</td>\n",
       "    </tr>\n",
       "    <tr>\n",
       "      <th>3</th>\n",
       "      <td>6</td>\n",
       "      <td>0</td>\n",
       "      <td>1.7</td>\n",
       "      <td>0.70</td>\n",
       "      <td>3.642738</td>\n",
       "      <td>1.9723</td>\n",
       "      <td>4</td>\n",
       "      <td>1</td>\n",
       "      <td>2</td>\n",
       "    </tr>\n",
       "    <tr>\n",
       "      <th>4</th>\n",
       "      <td>6</td>\n",
       "      <td>0</td>\n",
       "      <td>1.7</td>\n",
       "      <td>1.05</td>\n",
       "      <td>3.748405</td>\n",
       "      <td>2.2785</td>\n",
       "      <td>5</td>\n",
       "      <td>1</td>\n",
       "      <td>2</td>\n",
       "    </tr>\n",
       "    <tr>\n",
       "      <th>...</th>\n",
       "      <td>...</td>\n",
       "      <td>...</td>\n",
       "      <td>...</td>\n",
       "      <td>...</td>\n",
       "      <td>...</td>\n",
       "      <td>...</td>\n",
       "      <td>...</td>\n",
       "      <td>...</td>\n",
       "      <td>...</td>\n",
       "    </tr>\n",
       "    <tr>\n",
       "      <th>1795</th>\n",
       "      <td>12</td>\n",
       "      <td>200</td>\n",
       "      <td>2.3</td>\n",
       "      <td>1.05</td>\n",
       "      <td>1.358975</td>\n",
       "      <td>6.3430</td>\n",
       "      <td>5</td>\n",
       "      <td>3</td>\n",
       "      <td>3</td>\n",
       "    </tr>\n",
       "    <tr>\n",
       "      <th>1796</th>\n",
       "      <td>12</td>\n",
       "      <td>200</td>\n",
       "      <td>2.3</td>\n",
       "      <td>1.40</td>\n",
       "      <td>3.196306</td>\n",
       "      <td>5.7742</td>\n",
       "      <td>1</td>\n",
       "      <td>3</td>\n",
       "      <td>3</td>\n",
       "    </tr>\n",
       "    <tr>\n",
       "      <th>1797</th>\n",
       "      <td>12</td>\n",
       "      <td>200</td>\n",
       "      <td>2.5</td>\n",
       "      <td>0.70</td>\n",
       "      <td>36.104187</td>\n",
       "      <td>4.8745</td>\n",
       "      <td>2</td>\n",
       "      <td>3</td>\n",
       "      <td>3</td>\n",
       "    </tr>\n",
       "    <tr>\n",
       "      <th>1798</th>\n",
       "      <td>12</td>\n",
       "      <td>200</td>\n",
       "      <td>2.5</td>\n",
       "      <td>1.05</td>\n",
       "      <td>1.313487</td>\n",
       "      <td>6.7221</td>\n",
       "      <td>4</td>\n",
       "      <td>3</td>\n",
       "      <td>3</td>\n",
       "    </tr>\n",
       "    <tr>\n",
       "      <th>1799</th>\n",
       "      <td>12</td>\n",
       "      <td>200</td>\n",
       "      <td>2.5</td>\n",
       "      <td>1.40</td>\n",
       "      <td>1.069728</td>\n",
       "      <td>7.4933</td>\n",
       "      <td>5</td>\n",
       "      <td>3</td>\n",
       "      <td>3</td>\n",
       "    </tr>\n",
       "  </tbody>\n",
       "</table>\n",
       "<p>1800 rows × 9 columns</p>\n",
       "</div>"
      ],
      "text/plain": [
       "       n  theta    r     t  toughness    mass  printerid  campaignid   \\\n",
       "0      6      0  1.5  0.70   1.144667  1.7131          1            1   \n",
       "1      6      0  1.5  1.05   1.607561  1.9386          2            1   \n",
       "2      6      0  1.5  1.40   1.144338  1.9828          3            1   \n",
       "3      6      0  1.7  0.70   3.642738  1.9723          4            1   \n",
       "4      6      0  1.7  1.05   3.748405  2.2785          5            1   \n",
       "...   ..    ...  ...   ...        ...     ...        ...          ...   \n",
       "1795  12    200  2.3  1.05   1.358975  6.3430          5            3   \n",
       "1796  12    200  2.3  1.40   3.196306  5.7742          1            3   \n",
       "1797  12    200  2.5  0.70  36.104187  4.8745          2            3   \n",
       "1798  12    200  2.5  1.05   1.313487  6.7221          4            3   \n",
       "1799  12    200  2.5  1.40   1.069728  7.4933          5            3   \n",
       "\n",
       "      category  \n",
       "0            2  \n",
       "1            2  \n",
       "2            2  \n",
       "3            2  \n",
       "4            2  \n",
       "...        ...  \n",
       "1795         3  \n",
       "1796         3  \n",
       "1797         3  \n",
       "1798         3  \n",
       "1799         3  \n",
       "\n",
       "[1800 rows x 9 columns]"
      ]
     },
     "execution_count": 2,
     "metadata": {},
     "output_type": "execute_result"
    }
   ],
   "source": [
    "df = pd.read_csv('parameterspace.csv')\n",
    "df"
   ]
  },
  {
   "cell_type": "code",
   "execution_count": 3,
   "metadata": {},
   "outputs": [],
   "source": [
    "# Cross-barrel 3D printing parameters and thier mechanical properties\n",
    "columns = ['n',\t'theta','r','t','toughness']\n",
    "all_data = pd.read_csv('parameterspace.csv')[columns]\n",
    "\n",
    "# Group by the specified columns and calculate stats\n",
    "grouped = all_data.groupby(['n', 'theta', 'r', 't']).agg(\n",
    "    toughness_mean=('toughness', 'mean'),\n",
    "    toughness_variance=('toughness', 'var'),\n",
    "    count=('toughness', 'count')\n",
    ").reset_index()\n",
    "\n",
    "# Keep only groups where count > 1 (i.e., duplicates)\n",
    "train_data = grouped[grouped['count'] > 1]\n",
    "\n",
    "# print(train_data.head())\n",
    "\n",
    "x_inputs = train_data[[\"n\", \"theta\", \"r\", \"t\"]]\n",
    "y_outputs = train_data[\"toughness_mean\"]\n",
    "yvar_outputs = train_data[\"toughness_variance\"]\n",
    "# Set the device and dtype\n",
    "device = torch.device(\"cuda\" if torch.cuda.is_available() else \"cpu\")\n",
    "dtype = torch.float32\n",
    "# Convert to torch tensors\n",
    "x_all = torch.tensor(x_inputs.to_numpy(), dtype=torch.float32)\n",
    "y_all = torch.tensor(y_outputs.values.reshape(-1, 1), dtype=torch.float32)\n",
    "yvar_all = torch.tensor(yvar_outputs.values.reshape(-1, 1), dtype=torch.float32)\n",
    "\n",
    "\n",
    "# Define a ground truth \n",
    "def ground_truth(x_query_batch: torch.Tensor):\n",
    "    \"\"\"\n",
    "    x_query_batch: Tensor of shape (batch_size, d)\n",
    "    Returns: Tensor of shape (batch_size, 1)\n",
    "    \"\"\"\n",
    "    # x_all should be of shape (N, d)\n",
    "    # Expand for broadcasting: (batch_size, N, d)\n",
    "    diffs = x_all.unsqueeze(0) - x_query_batch.unsqueeze(1)  # (batch, N, d)\n",
    "    dists = torch.norm(diffs, dim=2)  # (batch, N)\n",
    "    idx = torch.argmin(dists, dim=1)  # (batch,)\n",
    "    return y_all[idx]  # (batch, 1)\n",
    "\n"
   ]
  },
  {
   "cell_type": "code",
   "execution_count": 4,
   "metadata": {},
   "outputs": [
    {
     "data": {
      "application/vnd.plotly.v1+json": {
       "config": {
        "plotlyServerURL": "https://plot.ly"
       },
       "data": [
        {
         "marker": {
          "color": {
           "bdata": "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",
           "dtype": "f8"
          },
          "colorbar": {
           "title": {
            "text": "Toughness"
           }
          },
          "colorscale": [
           [
            0,
            "#440154"
           ],
           [
            0.1111111111111111,
            "#482878"
           ],
           [
            0.2222222222222222,
            "#3e4989"
           ],
           [
            0.3333333333333333,
            "#31688e"
           ],
           [
            0.4444444444444444,
            "#26828e"
           ],
           [
            0.5555555555555556,
            "#1f9e89"
           ],
           [
            0.6666666666666666,
            "#35b779"
           ],
           [
            0.7777777777777778,
            "#6ece58"
           ],
           [
            0.8888888888888888,
            "#b5de2b"
           ],
           [
            1,
            "#fde725"
           ]
          ],
          "size": 10
         },
         "mode": "markers",
         "name": "(n, t, r)",
         "scene": "scene",
         "type": "scatter3d",
         "x": {
          "bdata": "BgYGBgYGBgYGBgYGBgYGBgYGBgYGBgYGBgYGBgYGBgYGBgYGBgYGBgYGBgYGBgYGBgYGBgYGBgYGBgYGBgYGBgYGBgYGBgYGBgYGBgYGBgYGBgYGBgYGBgYGBgYGBgYGBgYGBgYGBgYGBgYGBgYGBgYGBgYGBgYGBgYGBgYGBgYGBgYGBgYGBgYGBgYGBgYGBgYGBgYGCAgICAgICAgICAgICAgICAgICAgICAgICAgICAgICAgICAgICAgICAgICAgICAgICAgICAgICAgICAgICAgICAgICAgICAgICAgICAgICAgICAgICAgICAgICAgICAgICAgICAgICAgICAgICAgICAgICAgICAgICAgICAgICAgICAgICAgICAgICAgICAgICAgICAgICgoKCgoKCgoKCgoKCgoKCgoKCgoKCgoKCgoKCgoKCgoKCgoKCgoKCgoKCgoKCgoKCgoKCgoKCgoKCgoKCgoKCgoKCgoKCgoKCgoKCgoKCgoKCgoKCgoKCgoKCgoKCgoKCgoKCgoKCgoKCgoKCgoKCgoKCgoKCgoKCgoKCgoKCgoKCgoKCgoKCgoKCgoKCgoKCgoKCgoKDAwMDAwMDAwMDAwMDAwMDAwMDAwMDAwMDAwMDAwMDAwMDAwMDAwMDAwMDAwMDAwMDAwMDAwMDAwMDAwMDAwMDAwMDAwMDAwMDAwMDAwMDAwMDAwMDAwMDAwMDAwMDAwMDAwMDAwMDAwMDAwMDAwMDAwMDAwMDAwMDAwMDAwMDAwMDAwMDAwMDAwMDAwMDAwMDAwMDAwMBgYGBgYGBgYGBgYGBgYGBgYGBgYGBgYGBgYGBgYGBgYGBgYGBgYGBgYGBgYGBgYGBgYGBgYGBgYGBgYGBgYGBgYGBgYGBgYGBgYGBgYGBgYGBgYGBgYGBgYGBgYGBgYGBgYGBgYGBgYGBgYGBgYGBgYGBgYGBgYGBgYGBgYGBgYGBgYGBgYGBgYGBgYGBgYGBgYGBgYGCAgICAgICAgICAgICAgICAgICAgICAgICAgICAgICAgICAgICAgICAgICAgICAgICAgICAgICAgICAgICAgICAgICAgICAgICAgICAgICAgICAgICAgICAgICAgICAgICAgICAgICAgICAgICAgICAgICAgICAgICAgICAgICAgICAgICAgICAgICAgICAgICAgICAgICgoKCgoKCgoKCgoKCgoKCgoKCgoKCgoKCgoKCgoKCgoKCgoKCgoKCgoKCgoKCgoKCgoKCgoKCgoKCgoKCgoKCgoKCgoKCgoKCgoKCgoKCgoKCgoKCgoKCgoKCgoKCgoKCgoKCgoKCgoKCgoKCgoKCgoKCgoKCgoKCgoKCgoKCgoKCgoKCgoKCgoKCgoKCgoKCgoKCgoKDAwMDAwMDAwMDAwMDAwMDAwMDAwMDAwMDAwMDAwMDAwMDAwMDAwMDAwMDAwMDAwMDAwMDAwMDAwMDAwMDAwMDAwMDAwMDAwMDAwMDAwMDAwMDAwMDAwMDAwMDAwMDAwMDAwMDAwMDAwMDAwMDAwMDAwMDAwMDAwMDAwMDAwMDAwMDAwMDAwMDAwMDAwMDAwMDAwMDAwMBgYGBgYGBgYGBgYGBgYGBgYGBgYGBgYGBgYGBgYGBgYGBgYGBgYGBgYGBgYGBgYGBgYGBgYGBgYGBgYGBgYGBgYGBgYGBgYGBgYGBgYGBgYGBgYGBgYGBgYGBgYGBgYGBgYGBgYGBgYGBgYGBgYGBgYGBgYGBgYGBgYGBgYGBgYGBgYGBgYGBgYGBgYGBgYGBgYGBgYGCAgICAgICAgICAgICAgICAgICAgICAgICAgICAgICAgICAgICAgICAgICAgICAgICAgICAgICAgICAgICAgICAgICAgICAgICAgICAgICAgICAgICAgICAgICAgICAgICAgICAgICAgICAgICAgICAgICAgICAgICAgICAgICAgICAgICAgICAgICAgICAgICAgICAgICgoKCgoKCgoKCgoKCgoKCgoKCgoKCgoKCgoKCgoKCgoKCgoKCgoKCgoKCgoKCgoKCgoKCgoKCgoKCgoKCgoKCgoKCgoKCgoKCgoKCgoKCgoKCgoKCgoKCgoKCgoKCgoKCgoKCgoKCgoKCgoKCgoKCgoKCgoKCgoKCgoKCgoKCgoKCgoKCgoKCgoKCgoKCgoKCgoKCgoKDAwMDAwMDAwMDAwMDAwMDAwMDAwMDAwMDAwMDAwMDAwMDAwMDAwMDAwMDAwMDAwMDAwMDAwMDAwMDAwMDAwMDAwMDAwMDAwMDAwMDAwMDAwMDAwMDAwMDAwMDAwMDAwMDAwMDAwMDAwMDAwMDAwMDAwMDAwMDAwMDAwMDAwMDAwMDAwMDAwMDAwMDAwMDAwMDAwMDAwM",
          "dtype": "i1"
         },
         "y": {
          "bdata": "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",
          "dtype": "f8"
         },
         "z": {
          "bdata": "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",
          "dtype": "f8"
         }
        },
        {
         "marker": {
          "color": {
           "bdata": "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",
           "dtype": "f8"
          },
          "colorbar": {
           "title": {
            "text": "Toughness"
           }
          },
          "colorscale": [
           [
            0,
            "#440154"
           ],
           [
            0.1111111111111111,
            "#482878"
           ],
           [
            0.2222222222222222,
            "#3e4989"
           ],
           [
            0.3333333333333333,
            "#31688e"
           ],
           [
            0.4444444444444444,
            "#26828e"
           ],
           [
            0.5555555555555556,
            "#1f9e89"
           ],
           [
            0.6666666666666666,
            "#35b779"
           ],
           [
            0.7777777777777778,
            "#6ece58"
           ],
           [
            0.8888888888888888,
            "#b5de2b"
           ],
           [
            1,
            "#fde725"
           ]
          ],
          "size": 10
         },
         "mode": "markers",
         "name": "(n, theta, r)",
         "scene": "scene2",
         "type": "scatter3d",
         "x": {
          "bdata": "BgYGBgYGBgYGBgYGBgYGBgYGBgYGBgYGBgYGBgYGBgYGBgYGBgYGBgYGBgYGBgYGBgYGBgYGBgYGBgYGBgYGBgYGBgYGBgYGBgYGBgYGBgYGBgYGBgYGBgYGBgYGBgYGBgYGBgYGBgYGBgYGBgYGBgYGBgYGBgYGBgYGBgYGBgYGBgYGBgYGBgYGBgYGBgYGBgYGBgYGCAgICAgICAgICAgICAgICAgICAgICAgICAgICAgICAgICAgICAgICAgICAgICAgICAgICAgICAgICAgICAgICAgICAgICAgICAgICAgICAgICAgICAgICAgICAgICAgICAgICAgICAgICAgICAgICAgICAgICAgICAgICAgICAgICAgICAgICAgICAgICAgICAgICAgICgoKCgoKCgoKCgoKCgoKCgoKCgoKCgoKCgoKCgoKCgoKCgoKCgoKCgoKCgoKCgoKCgoKCgoKCgoKCgoKCgoKCgoKCgoKCgoKCgoKCgoKCgoKCgoKCgoKCgoKCgoKCgoKCgoKCgoKCgoKCgoKCgoKCgoKCgoKCgoKCgoKCgoKCgoKCgoKCgoKCgoKCgoKCgoKCgoKCgoKDAwMDAwMDAwMDAwMDAwMDAwMDAwMDAwMDAwMDAwMDAwMDAwMDAwMDAwMDAwMDAwMDAwMDAwMDAwMDAwMDAwMDAwMDAwMDAwMDAwMDAwMDAwMDAwMDAwMDAwMDAwMDAwMDAwMDAwMDAwMDAwMDAwMDAwMDAwMDAwMDAwMDAwMDAwMDAwMDAwMDAwMDAwMDAwMDAwMDAwMBgYGBgYGBgYGBgYGBgYGBgYGBgYGBgYGBgYGBgYGBgYGBgYGBgYGBgYGBgYGBgYGBgYGBgYGBgYGBgYGBgYGBgYGBgYGBgYGBgYGBgYGBgYGBgYGBgYGBgYGBgYGBgYGBgYGBgYGBgYGBgYGBgYGBgYGBgYGBgYGBgYGBgYGBgYGBgYGBgYGBgYGBgYGBgYGBgYGBgYGCAgICAgICAgICAgICAgICAgICAgICAgICAgICAgICAgICAgICAgICAgICAgICAgICAgICAgICAgICAgICAgICAgICAgICAgICAgICAgICAgICAgICAgICAgICAgICAgICAgICAgICAgICAgICAgICAgICAgICAgICAgICAgICAgICAgICAgICAgICAgICAgICAgICAgICgoKCgoKCgoKCgoKCgoKCgoKCgoKCgoKCgoKCgoKCgoKCgoKCgoKCgoKCgoKCgoKCgoKCgoKCgoKCgoKCgoKCgoKCgoKCgoKCgoKCgoKCgoKCgoKCgoKCgoKCgoKCgoKCgoKCgoKCgoKCgoKCgoKCgoKCgoKCgoKCgoKCgoKCgoKCgoKCgoKCgoKCgoKCgoKCgoKCgoKDAwMDAwMDAwMDAwMDAwMDAwMDAwMDAwMDAwMDAwMDAwMDAwMDAwMDAwMDAwMDAwMDAwMDAwMDAwMDAwMDAwMDAwMDAwMDAwMDAwMDAwMDAwMDAwMDAwMDAwMDAwMDAwMDAwMDAwMDAwMDAwMDAwMDAwMDAwMDAwMDAwMDAwMDAwMDAwMDAwMDAwMDAwMDAwMDAwMDAwMBgYGBgYGBgYGBgYGBgYGBgYGBgYGBgYGBgYGBgYGBgYGBgYGBgYGBgYGBgYGBgYGBgYGBgYGBgYGBgYGBgYGBgYGBgYGBgYGBgYGBgYGBgYGBgYGBgYGBgYGBgYGBgYGBgYGBgYGBgYGBgYGBgYGBgYGBgYGBgYGBgYGBgYGBgYGBgYGBgYGBgYGBgYGBgYGBgYGBgYGCAgICAgICAgICAgICAgICAgICAgICAgICAgICAgICAgICAgICAgICAgICAgICAgICAgICAgICAgICAgICAgICAgICAgICAgICAgICAgICAgICAgICAgICAgICAgICAgICAgICAgICAgICAgICAgICAgICAgICAgICAgICAgICAgICAgICAgICAgICAgICAgICAgICAgICgoKCgoKCgoKCgoKCgoKCgoKCgoKCgoKCgoKCgoKCgoKCgoKCgoKCgoKCgoKCgoKCgoKCgoKCgoKCgoKCgoKCgoKCgoKCgoKCgoKCgoKCgoKCgoKCgoKCgoKCgoKCgoKCgoKCgoKCgoKCgoKCgoKCgoKCgoKCgoKCgoKCgoKCgoKCgoKCgoKCgoKCgoKCgoKCgoKCgoKDAwMDAwMDAwMDAwMDAwMDAwMDAwMDAwMDAwMDAwMDAwMDAwMDAwMDAwMDAwMDAwMDAwMDAwMDAwMDAwMDAwMDAwMDAwMDAwMDAwMDAwMDAwMDAwMDAwMDAwMDAwMDAwMDAwMDAwMDAwMDAwMDAwMDAwMDAwMDAwMDAwMDAwMDAwMDAwMDAwMDAwMDAwMDAwMDAwMDAwM",
          "dtype": "i1"
         },
         "y": {
          "bdata": "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",
          "dtype": "i2"
         },
         "z": {
          "bdata": "AAAAAAAA+D8AAAAAAAD4PwAAAAAAAPg/MzMzMzMz+z8zMzMzMzP7PzMzMzMzM/s/ZmZmZmZm/j9mZmZmZmb+P2ZmZmZmZv4/zczMzMzMAEDNzMzMzMwAQM3MzMzMzABAZmZmZmZmAkBmZmZmZmYCQGZmZmZmZgJAAAAAAAAABEAAAAAAAAAEQAAAAAAAAARAmpmZmZmZ+T+amZmZmZn5P5qZmZmZmfk/zczMzMzM/D/NzMzMzMz8P83MzMzMzPw/AAAAAAAAAEAAAAAAAAAAQAAAAAAAAABAmpmZmZmZAUCamZmZmZkBQJqZmZmZmQFAMzMzMzMzA0AzMzMzMzMDQDMzMzMzMwNAAAAAAAAA+D8AAAAAAAD4PwAAAAAAAPg/MzMzMzMz+z8zMzMzMzP7PzMzMzMzM/s/ZmZmZmZm/j9mZmZmZmb+P2ZmZmZmZv4/zczMzMzMAEDNzMzMzMwAQM3MzMzMzABAZmZmZmZmAkBmZmZmZmYCQGZmZmZmZgJAAAAAAAAABEAAAAAAAAAEQAAAAAAAAARAmpmZmZmZ+T+amZmZmZn5P5qZmZmZmfk/zczMzMzM/D/NzMzMzMz8P83MzMzMzPw/AAAAAAAAAEAAAAAAAAAAQAAAAAAAAABAmpmZmZmZAUCamZmZmZkBQJqZmZmZmQFAMzMzMzMzA0AzMzMzMzMDQDMzMzMzMwNAAAAAAAAA+D8AAAAAAAD4PwAAAAAAAPg/MzMzMzMz+z8zMzMzMzP7PzMzMzMzM/s/ZmZmZmZm/j9mZmZmZmb+P2ZmZmZmZv4/zczMzMzMAEDNzMzMzMwAQM3MzMzMzABAZmZmZmZmAkBmZmZmZmYCQGZmZmZmZgJAAAAAAAAABEAAAAAAAAAEQAAAAAAAAARAmpmZmZmZ+T+amZmZmZn5P5qZmZmZmfk/zczMzMzM/D/NzMzMzMz8P83MzMzMzPw/AAAAAAAAAEAAAAAAAAAAQAAAAAAAAABAmpmZmZmZAUCamZmZmZkBQJqZmZmZmQFAMzMzMzMzA0AzMzMzMzMDQDMzMzMzMwNAAAAAAAAA+D8AAAAAAAD4PwAAAAAAAPg/MzMzMzMz+z8zMzMzMzP7PzMzMzMzM/s/ZmZmZmZm/j9mZmZmZmb+P2ZmZmZmZv4/zczMzMzMAEDNzMzMzMwAQM3MzMzMzABAZmZmZmZmAkBmZmZmZmYCQGZmZmZmZgJAAAAAAAAABEAAAAAAAAAEQAAAAAAAAARAmpmZmZmZ+T+amZmZmZn5P5qZmZmZmfk/zczMzMzM/D/NzMzMzMz8P83MzMzMzPw/AAAAAAAAAEAAAAAAAAAAQAAAAAAAAABAmpmZmZmZAUCamZmZmZkBQJqZmZmZmQFAMzMzMzMzA0AzMzMzMzMDQDMzMzMzMwNAAAAAAAAA+D8AAAAAAAD4PwAAAAAAAPg/MzMzMzMz+z8zMzMzMzP7PzMzMzMzM/s/ZmZmZmZm/j9mZmZmZmb+P2ZmZmZmZv4/zczMzMzMAEDNzMzMzMwAQM3MzMzMzABAZmZmZmZmAkBmZmZmZmYCQGZmZmZmZgJAAAAAAAAABEAAAAAAAAAEQAAAAAAAAARAAAAAAAAA+D8AAAAAAAD4PwAAAAAAAPg/MzMzMzMz+z8zMzMzMzP7PzMzMzMzM/s/ZmZmZmZm/j9mZmZmZmb+P2ZmZmZmZv4/zczMzMzMAEDNzMzMzMwAQM3MzMzMzABAZmZmZmZmAkBmZmZmZmYCQGZmZmZmZgJAAAAAAAAABEAAAAAAAAAEQAAAAAAAAARAmpmZmZmZ+T+amZmZmZn5P5qZmZmZmfk/zczMzMzM/D/NzMzMzMz8P83MzMzMzPw/AAAAAAAAAEAAAAAAAAAAQAAAAAAAAABAmpmZmZmZAUCamZmZmZkBQJqZmZmZmQFAMzMzMzMzA0AzMzMzMzMDQDMzMzMzMwNAAAAAAAAA+D8AAAAAAAD4PwAAAAAAAPg/MzMzMzMz+z8zMzMzMzP7PzMzMzMzM/s/ZmZmZmZm/j9mZmZmZmb+P2ZmZmZmZv4/zczMzMzMAEDNzMzMzMwAQM3MzMzMzABAZmZmZmZmAkBmZmZmZmYCQGZmZmZmZgJAAAAAAAAABEAAAAAAAAAEQAAAAAAAAARAmpmZmZmZ+T+amZmZmZn5P5qZmZmZmfk/zczMzMzM/D/NzMzMzMz8P83MzMzMzPw/AAAAAAAAAEAAAAAAAAAAQAAAAAAAAABAmpmZmZmZAUCamZmZmZkBQJqZmZmZmQFAMzMzMzMzA0AzMzMzMzMDQDMzMzMzMwNAAAAAAAAA+D8AAAAAAAD4PwAAAAAAAPg/MzMzMzMz+z8zMzMzMzP7PzMzMzMzM/s/ZmZmZmZm/j9mZmZmZmb+P2ZmZmZmZv4/zczMzMzMAEDNzMzMzMwAQM3MzMzMzABAZmZmZmZmAkBmZmZmZmYCQGZmZmZmZgJAAAAAAAAABEAAAAAAAAAEQAAAAAAAAARAmpmZmZmZ+T+amZmZmZn5P5qZmZmZmfk/zczMzMzM/D/NzMzMzMz8P83MzMzMzPw/AAAAAAAAAEAAAAAAAAAAQAAAAAAAAABAmpmZmZmZAUCamZmZmZkBQJqZmZmZmQFAMzMzMzMzA0AzMzMzMzMDQDMzMzMzMwNAAAAAAAAA+D8AAAAAAAD4PwAAAAAAAPg/MzMzMzMz+z8zMzMzMzP7PzMzMzMzM/s/ZmZmZmZm/j9mZmZmZmb+P2ZmZmZmZv4/zczMzMzMAEDNzMzMzMwAQM3MzMzMzABAZmZmZmZmAkBmZmZmZmYCQGZmZmZmZgJAAAAAAAAABEAAAAAAAAAEQAAAAAAAAARAmpmZmZmZ+T+amZmZmZn5P5qZmZmZmfk/zczMzMzM/D/NzMzMzMz8P83MzMzMzPw/AAAAAAAAAEAAAAAAAAAAQAAAAAAAAABAmpmZmZmZAUCamZmZmZkBQJqZmZmZmQFAMzMzMzMzA0AzMzMzMzMDQDMzMzMzMwNAAAAAAAAA+D8AAAAAAAD4PwAAAAAAAPg/MzMzMzMz+z8zMzMzMzP7PzMzMzMzM/s/ZmZmZmZm/j9mZmZmZmb+P2ZmZmZmZv4/zczMzMzMAEDNzMzMzMwAQM3MzMzMzABAZmZmZmZmAkBmZmZmZmYCQGZmZmZmZgJAAAAAAAAABEAAAAAAAAAEQAAAAAAAAARAAAAAAAAA+D8AAAAAAAD4PwAAAAAAAPg/MzMzMzMz+z8zMzMzMzP7PzMzMzMzM/s/ZmZmZmZm/j9mZmZmZmb+P2ZmZmZmZv4/zczMzMzMAEDNzMzMzMwAQM3MzMzMzABAZmZmZmZmAkBmZmZmZmYCQGZmZmZmZgJAAAAAAAAABEAAAAAAAAAEQAAAAAAAAARAmpmZmZmZ+T+amZmZmZn5P5qZmZmZmfk/zczMzMzM/D/NzMzMzMz8P83MzMzMzPw/AAAAAAAAAEAAAAAAAAAAQAAAAAAAAABAmpmZmZmZAUCamZmZmZkBQJqZmZmZmQFAMzMzMzMzA0AzMzMzMzMDQDMzMzMzMwNAAAAAAAAA+D8AAAAAAAD4PwAAAAAAAPg/MzMzMzMz+z8zMzMzMzP7PzMzMzMzM/s/ZmZmZmZm/j9mZmZmZmb+P2ZmZmZmZv4/zczMzMzMAEDNzMzMzMwAQM3MzMzMzABAZmZmZmZmAkBmZmZmZmYCQGZmZmZmZgJAAAAAAAAABEAAAAAAAAAEQAAAAAAAAARAmpmZmZmZ+T+amZmZmZn5P5qZmZmZmfk/zczMzMzM/D/NzMzMzMz8P83MzMzMzPw/AAAAAAAAAEAAAAAAAAAAQAAAAAAAAABAmpmZmZmZAUCamZmZmZkBQJqZmZmZmQFAMzMzMzMzA0AzMzMzMzMDQDMzMzMzMwNAAAAAAAAA+D8AAAAAAAD4PwAAAAAAAPg/MzMzMzMz+z8zMzMzMzP7PzMzMzMzM/s/ZmZmZmZm/j9mZmZmZmb+P2ZmZmZmZv4/zczMzMzMAEDNzMzMzMwAQM3MzMzMzABAZmZmZmZmAkBmZmZmZmYCQGZmZmZmZgJAAAAAAAAABEAAAAAAAAAEQAAAAAAAAARAmpmZmZmZ+T+amZmZmZn5P5qZmZmZmfk/zczMzMzM/D/NzMzMzMz8P83MzMzMzPw/AAAAAAAAAEAAAAAAAAAAQAAAAAAAAABAmpmZmZmZAUCamZmZmZkBQJqZmZmZmQFAMzMzMzMzA0AzMzMzMzMDQDMzMzMzMwNAAAAAAAAA+D8AAAAAAAD4PwAAAAAAAPg/MzMzMzMz+z8zMzMzMzP7PzMzMzMzM/s/ZmZmZmZm/j9mZmZmZmb+P2ZmZmZmZv4/zczMzMzMAEDNzMzMzMwAQM3MzMzMzABAZmZmZmZmAkBmZmZmZmYCQGZmZmZmZgJAAAAAAAAABEAAAAAAAAAEQAAAAAAAAARAmpmZmZmZ+T+amZmZmZn5P5qZmZmZmfk/zczMzMzM/D/NzMzMzMz8P83MzMzMzPw/AAAAAAAAAEAAAAAAAAAAQAAAAAAAAABAmpmZmZmZAUCamZmZmZkBQJqZmZmZmQFAMzMzMzMzA0AzMzMzMzMDQDMzMzMzMwNAAAAAAAAA+D8AAAAAAAD4PwAAAAAAAPg/MzMzMzMz+z8zMzMzMzP7PzMzMzMzM/s/ZmZmZmZm/j9mZmZmZmb+P2ZmZmZmZv4/zczMzMzMAEDNzMzMzMwAQM3MzMzMzABAZmZmZmZmAkBmZmZmZmYCQGZmZmZmZgJAAAAAAAAABEAAAAAAAAAEQAAAAAAAAARAAAAAAAAA+D8AAAAAAAD4PwAAAAAAAPg/MzMzMzMz+z8zMzMzMzP7PzMzMzMzM/s/ZmZmZmZm/j9mZmZmZmb+P2ZmZmZmZv4/zczMzMzMAEDNzMzMzMwAQM3MzMzMzABAZmZmZmZmAkBmZmZmZmYCQGZmZmZmZgJAAAAAAAAABEAAAAAAAAAEQAAAAAAAAARAmpmZmZmZ+T+amZmZmZn5P5qZmZmZmfk/zczMzMzM/D/NzMzMzMz8P83MzMzMzPw/AAAAAAAAAEAAAAAAAAAAQAAAAAAAAABAmpmZmZmZAUCamZmZmZkBQJqZmZmZmQFAMzMzMzMzA0AzMzMzMzMDQDMzMzMzMwNAAAAAAAAA+D8AAAAAAAD4PwAAAAAAAPg/MzMzMzMz+z8zMzMzMzP7PzMzMzMzM/s/ZmZmZmZm/j9mZmZmZmb+P2ZmZmZmZv4/zczMzMzMAEDNzMzMzMwAQM3MzMzMzABAZmZmZmZmAkBmZmZmZmYCQGZmZmZmZgJAAAAAAAAABEAAAAAAAAAEQAAAAAAAAARAmpmZmZmZ+T+amZmZmZn5P5qZmZmZmfk/zczMzMzM/D/NzMzMzMz8P83MzMzMzPw/AAAAAAAAAEAAAAAAAAAAQAAAAAAAAABAmpmZmZmZAUCamZmZmZkBQJqZmZmZmQFAMzMzMzMzA0AzMzMzMzMDQDMzMzMzMwNAAAAAAAAA+D8AAAAAAAD4PwAAAAAAAPg/MzMzMzMz+z8zMzMzMzP7PzMzMzMzM/s/ZmZmZmZm/j9mZmZmZmb+P2ZmZmZmZv4/zczMzMzMAEDNzMzMzMwAQM3MzMzMzABAZmZmZmZmAkBmZmZmZmYCQGZmZmZmZgJAAAAAAAAABEAAAAAAAAAEQAAAAAAAAARAmpmZmZmZ+T+amZmZmZn5P5qZmZmZmfk/zczMzMzM/D/NzMzMzMz8P83MzMzMzPw/AAAAAAAAAEAAAAAAAAAAQAAAAAAAAABAmpmZmZmZAUCamZmZmZkBQJqZmZmZmQFAMzMzMzMzA0AzMzMzMzMDQDMzMzMzMwNAAAAAAAAA+D8AAAAAAAD4PwAAAAAAAPg/MzMzMzMz+z8zMzMzMzP7PzMzMzMzM/s/ZmZmZmZm/j9mZmZmZmb+P2ZmZmZmZv4/zczMzMzMAEDNzMzMzMwAQM3MzMzMzABAZmZmZmZmAkBmZmZmZmYCQGZmZmZmZgJAAAAAAAAABEAAAAAAAAAEQAAAAAAAAARAmpmZmZmZ+T+amZmZmZn5P5qZmZmZmfk/zczMzMzM/D/NzMzMzMz8P83MzMzMzPw/AAAAAAAAAEAAAAAAAAAAQAAAAAAAAABAmpmZmZmZAUCamZmZmZkBQJqZmZmZmQFAMzMzMzMzA0AzMzMzMzMDQDMzMzMzMwNAAAAAAAAA+D8AAAAAAAD4PwAAAAAAAPg/MzMzMzMz+z8zMzMzMzP7PzMzMzMzM/s/ZmZmZmZm/j9mZmZmZmb+P2ZmZmZmZv4/zczMzMzMAEDNzMzMzMwAQM3MzMzMzABAZmZmZmZmAkBmZmZmZmYCQGZmZmZmZgJAAAAAAAAABEAAAAAAAAAEQAAAAAAAAARAAAAAAAAA+D8AAAAAAAD4PwAAAAAAAPg/MzMzMzMz+z8zMzMzMzP7PzMzMzMzM/s/ZmZmZmZm/j9mZmZmZmb+P2ZmZmZmZv4/zczMzMzMAEDNzMzMzMwAQM3MzMzMzABAZmZmZmZmAkBmZmZmZmYCQGZmZmZmZgJAAAAAAAAABEAAAAAAAAAEQAAAAAAAAARAmpmZmZmZ+T+amZmZmZn5P5qZmZmZmfk/zczMzMzM/D/NzMzMzMz8P83MzMzMzPw/AAAAAAAAAEAAAAAAAAAAQAAAAAAAAABAmpmZmZmZAUCamZmZmZkBQJqZmZmZmQFAMzMzMzMzA0AzMzMzMzMDQDMzMzMzMwNAAAAAAAAA+D8AAAAAAAD4PwAAAAAAAPg/MzMzMzMz+z8zMzMzMzP7PzMzMzMzM/s/ZmZmZmZm/j9mZmZmZmb+P2ZmZmZmZv4/zczMzMzMAEDNzMzMzMwAQM3MzMzMzABAZmZmZmZmAkBmZmZmZmYCQGZmZmZmZgJAAAAAAAAABEAAAAAAAAAEQAAAAAAAAARAmpmZmZmZ+T+amZmZmZn5P5qZmZmZmfk/zczMzMzM/D/NzMzMzMz8P83MzMzMzPw/AAAAAAAAAEAAAAAAAAAAQAAAAAAAAABAmpmZmZmZAUCamZmZmZkBQJqZmZmZmQFAMzMzMzMzA0AzMzMzMzMDQDMzMzMzMwNAAAAAAAAA+D8AAAAAAAD4PwAAAAAAAPg/MzMzMzMz+z8zMzMzMzP7PzMzMzMzM/s/ZmZmZmZm/j9mZmZmZmb+P2ZmZmZmZv4/zczMzMzMAEDNzMzMzMwAQM3MzMzMzABAZmZmZmZmAkBmZmZmZmYCQGZmZmZmZgJAAAAAAAAABEAAAAAAAAAEQAAAAAAAAARAmpmZmZmZ+T+amZmZmZn5P5qZmZmZmfk/zczMzMzM/D/NzMzMzMz8P83MzMzMzPw/AAAAAAAAAEAAAAAAAAAAQAAAAAAAAABAmpmZmZmZAUCamZmZmZkBQJqZmZmZmQFAMzMzMzMzA0AzMzMzMzMDQDMzMzMzMwNAAAAAAAAA+D8AAAAAAAD4PwAAAAAAAPg/MzMzMzMz+z8zMzMzMzP7PzMzMzMzM/s/ZmZmZmZm/j9mZmZmZmb+P2ZmZmZmZv4/zczMzMzMAEDNzMzMzMwAQM3MzMzMzABAZmZmZmZmAkBmZmZmZmYCQGZmZmZmZgJAAAAAAAAABEAAAAAAAAAEQAAAAAAAAARAmpmZmZmZ+T+amZmZmZn5P5qZmZmZmfk/zczMzMzM/D/NzMzMzMz8P83MzMzMzPw/AAAAAAAAAEAAAAAAAAAAQAAAAAAAAABAmpmZmZmZAUCamZmZmZkBQJqZmZmZmQFAMzMzMzMzA0AzMzMzMzMDQDMzMzMzMwNAAAAAAAAA+D8AAAAAAAD4PwAAAAAAAPg/MzMzMzMz+z8zMzMzMzP7PzMzMzMzM/s/ZmZmZmZm/j9mZmZmZmb+P2ZmZmZmZv4/zczMzMzMAEDNzMzMzMwAQM3MzMzMzABAZmZmZmZmAkBmZmZmZmYCQGZmZmZmZgJAAAAAAAAABEAAAAAAAAAEQAAAAAAAAARAAAAAAAAA+D8AAAAAAAD4PwAAAAAAAPg/MzMzMzMz+z8zMzMzMzP7PzMzMzMzM/s/ZmZmZmZm/j9mZmZmZmb+P2ZmZmZmZv4/zczMzMzMAEDNzMzMzMwAQM3MzMzMzABAZmZmZmZmAkBmZmZmZmYCQGZmZmZmZgJAAAAAAAAABEAAAAAAAAAEQAAAAAAAAARAmpmZmZmZ+T+amZmZmZn5P5qZmZmZmfk/zczMzMzM/D/NzMzMzMz8P83MzMzMzPw/AAAAAAAAAEAAAAAAAAAAQAAAAAAAAABAmpmZmZmZAUCamZmZmZkBQJqZmZmZmQFAMzMzMzMzA0AzMzMzMzMDQDMzMzMzMwNAAAAAAAAA+D8AAAAAAAD4PwAAAAAAAPg/MzMzMzMz+z8zMzMzMzP7PzMzMzMzM/s/ZmZmZmZm/j9mZmZmZmb+P2ZmZmZmZv4/zczMzMzMAEDNzMzMzMwAQM3MzMzMzABAZmZmZmZmAkBmZmZmZmYCQGZmZmZmZgJAAAAAAAAABEAAAAAAAAAEQAAAAAAAAARAmpmZmZmZ+T+amZmZmZn5P5qZmZmZmfk/zczMzMzM/D/NzMzMzMz8P83MzMzMzPw/AAAAAAAAAEAAAAAAAAAAQAAAAAAAAABAmpmZmZmZAUCamZmZmZkBQJqZmZmZmQFAMzMzMzMzA0AzMzMzMzMDQDMzMzMzMwNAAAAAAAAA+D8AAAAAAAD4PwAAAAAAAPg/MzMzMzMz+z8zMzMzMzP7PzMzMzMzM/s/ZmZmZmZm/j9mZmZmZmb+P2ZmZmZmZv4/zczMzMzMAEDNzMzMzMwAQM3MzMzMzABAZmZmZmZmAkBmZmZmZmYCQGZmZmZmZgJAAAAAAAAABEAAAAAAAAAEQAAAAAAAAARAmpmZmZmZ+T+amZmZmZn5P5qZmZmZmfk/zczMzMzM/D/NzMzMzMz8P83MzMzMzPw/AAAAAAAAAEAAAAAAAAAAQAAAAAAAAABAmpmZmZmZAUCamZmZmZkBQJqZmZmZmQFAMzMzMzMzA0AzMzMzMzMDQDMzMzMzMwNAAAAAAAAA+D8AAAAAAAD4PwAAAAAAAPg/MzMzMzMz+z8zMzMzMzP7PzMzMzMzM/s/ZmZmZmZm/j9mZmZmZmb+P2ZmZmZmZv4/zczMzMzMAEDNzMzMzMwAQM3MzMzMzABAZmZmZmZmAkBmZmZmZmYCQGZmZmZmZgJAAAAAAAAABEAAAAAAAAAEQAAAAAAAAARAmpmZmZmZ+T+amZmZmZn5P5qZmZmZmfk/zczMzMzM/D/NzMzMzMz8P83MzMzMzPw/AAAAAAAAAEAAAAAAAAAAQAAAAAAAAABAmpmZmZmZAUCamZmZmZkBQJqZmZmZmQFAMzMzMzMzA0AzMzMzMzMDQDMzMzMzMwNAAAAAAAAA+D8AAAAAAAD4PwAAAAAAAPg/MzMzMzMz+z8zMzMzMzP7PzMzMzMzM/s/ZmZmZmZm/j9mZmZmZmb+P2ZmZmZmZv4/zczMzMzMAEDNzMzMzMwAQM3MzMzMzABAZmZmZmZmAkBmZmZmZmYCQGZmZmZmZgJAAAAAAAAABEAAAAAAAAAEQAAAAAAAAARAAAAAAAAA+D8AAAAAAAD4PwAAAAAAAPg/MzMzMzMz+z8zMzMzMzP7PzMzMzMzM/s/ZmZmZmZm/j9mZmZmZmb+P2ZmZmZmZv4/zczMzMzMAEDNzMzMzMwAQM3MzMzMzABAZmZmZmZmAkBmZmZmZmYCQGZmZmZmZgJAAAAAAAAABEAAAAAAAAAEQAAAAAAAAARAmpmZmZmZ+T+amZmZmZn5P5qZmZmZmfk/zczMzMzM/D/NzMzMzMz8P83MzMzMzPw/AAAAAAAAAEAAAAAAAAAAQAAAAAAAAABAmpmZmZmZAUCamZmZmZkBQJqZmZmZmQFAMzMzMzMzA0AzMzMzMzMDQDMzMzMzMwNAAAAAAAAA+D8AAAAAAAD4PwAAAAAAAPg/MzMzMzMz+z8zMzMzMzP7PzMzMzMzM/s/ZmZmZmZm/j9mZmZmZmb+P2ZmZmZmZv4/zczMzMzMAEDNzMzMzMwAQM3MzMzMzABAZmZmZmZmAkBmZmZmZmYCQGZmZmZmZgJAAAAAAAAABEAAAAAAAAAEQAAAAAAAAARAmpmZmZmZ+T+amZmZmZn5P5qZmZmZmfk/zczMzMzM/D/NzMzMzMz8P83MzMzMzPw/AAAAAAAAAEAAAAAAAAAAQAAAAAAAAABAmpmZmZmZAUCamZmZmZkBQJqZmZmZmQFAMzMzMzMzA0AzMzMzMzMDQDMzMzMzMwNAAAAAAAAA+D8AAAAAAAD4PwAAAAAAAPg/MzMzMzMz+z8zMzMzMzP7PzMzMzMzM/s/ZmZmZmZm/j9mZmZmZmb+P2ZmZmZmZv4/zczMzMzMAEDNzMzMzMwAQM3MzMzMzABAZmZmZmZmAkBmZmZmZmYCQGZmZmZmZgJAAAAAAAAABEAAAAAAAAAEQAAAAAAAAARAmpmZmZmZ+T+amZmZmZn5P5qZmZmZmfk/zczMzMzM/D/NzMzMzMz8P83MzMzMzPw/AAAAAAAAAEAAAAAAAAAAQAAAAAAAAABAmpmZmZmZAUCamZmZmZkBQJqZmZmZmQFAMzMzMzMzA0AzMzMzMzMDQDMzMzMzMwNAAAAAAAAA+D8AAAAAAAD4PwAAAAAAAPg/MzMzMzMz+z8zMzMzMzP7PzMzMzMzM/s/ZmZmZmZm/j9mZmZmZmb+P2ZmZmZmZv4/zczMzMzMAEDNzMzMzMwAQM3MzMzMzABAZmZmZmZmAkBmZmZmZmYCQGZmZmZmZgJAAAAAAAAABEAAAAAAAAAEQAAAAAAAAARAmpmZmZmZ+T+amZmZmZn5P5qZmZmZmfk/zczMzMzM/D/NzMzMzMz8P83MzMzMzPw/AAAAAAAAAEAAAAAAAAAAQAAAAAAAAABAmpmZmZmZAUCamZmZmZkBQJqZmZmZmQFAMzMzMzMzA0AzMzMzMzMDQDMzMzMzMwNAAAAAAAAA+D8AAAAAAAD4PwAAAAAAAPg/MzMzMzMz+z8zMzMzMzP7PzMzMzMzM/s/ZmZmZmZm/j9mZmZmZmb+P2ZmZmZmZv4/zczMzMzMAEDNzMzMzMwAQM3MzMzMzABAZmZmZmZmAkBmZmZmZmYCQGZmZmZmZgJAAAAAAAAABEAAAAAAAAAEQAAAAAAAAARAAAAAAAAA+D8AAAAAAAD4PwAAAAAAAPg/MzMzMzMz+z8zMzMzMzP7PzMzMzMzM/s/ZmZmZmZm/j9mZmZmZmb+P2ZmZmZmZv4/zczMzMzMAEDNzMzMzMwAQM3MzMzMzABAZmZmZmZmAkBmZmZmZmYCQGZmZmZmZgJAAAAAAAAABEAAAAAAAAAEQAAAAAAAAARAmpmZmZmZ+T+amZmZmZn5P5qZmZmZmfk/zczMzMzM/D/NzMzMzMz8P83MzMzMzPw/AAAAAAAAAEAAAAAAAAAAQAAAAAAAAABAmpmZmZmZAUCamZmZmZkBQJqZmZmZmQFAMzMzMzMzA0AzMzMzMzMDQDMzMzMzMwNAAAAAAAAA+D8AAAAAAAD4PwAAAAAAAPg/MzMzMzMz+z8zMzMzMzP7PzMzMzMzM/s/ZmZmZmZm/j9mZmZmZmb+P2ZmZmZmZv4/zczMzMzMAEDNzMzMzMwAQM3MzMzMzABAZmZmZmZmAkBmZmZmZmYCQGZmZmZmZgJAAAAAAAAABEAAAAAAAAAEQAAAAAAAAARAmpmZmZmZ+T+amZmZmZn5P5qZmZmZmfk/zczMzMzM/D/NzMzMzMz8P83MzMzMzPw/AAAAAAAAAEAAAAAAAAAAQAAAAAAAAABAmpmZmZmZAUCamZmZmZkBQJqZmZmZmQFAMzMzMzMzA0AzMzMzMzMDQDMzMzMzMwNAAAAAAAAA+D8AAAAAAAD4PwAAAAAAAPg/MzMzMzMz+z8zMzMzMzP7PzMzMzMzM/s/ZmZmZmZm/j9mZmZmZmb+P2ZmZmZmZv4/zczMzMzMAEDNzMzMzMwAQM3MzMzMzABAZmZmZmZmAkBmZmZmZmYCQGZmZmZmZgJAAAAAAAAABEAAAAAAAAAEQAAAAAAAAARAmpmZmZmZ+T+amZmZmZn5P5qZmZmZmfk/zczMzMzM/D/NzMzMzMz8P83MzMzMzPw/AAAAAAAAAEAAAAAAAAAAQAAAAAAAAABAmpmZmZmZAUCamZmZmZkBQJqZmZmZmQFAMzMzMzMzA0AzMzMzMzMDQDMzMzMzMwNAAAAAAAAA+D8AAAAAAAD4PwAAAAAAAPg/MzMzMzMz+z8zMzMzMzP7PzMzMzMzM/s/ZmZmZmZm/j9mZmZmZmb+P2ZmZmZmZv4/zczMzMzMAEDNzMzMzMwAQM3MzMzMzABAZmZmZmZmAkBmZmZmZmYCQGZmZmZmZgJAAAAAAAAABEAAAAAAAAAEQAAAAAAAAARAmpmZmZmZ+T+amZmZmZn5P5qZmZmZmfk/zczMzMzM/D/NzMzMzMz8P83MzMzMzPw/AAAAAAAAAEAAAAAAAAAAQAAAAAAAAABAmpmZmZmZAUCamZmZmZkBQJqZmZmZmQFAMzMzMzMzA0AzMzMzMzMDQDMzMzMzMwNAAAAAAAAA+D8AAAAAAAD4PwAAAAAAAPg/MzMzMzMz+z8zMzMzMzP7PzMzMzMzM/s/ZmZmZmZm/j9mZmZmZmb+P2ZmZmZmZv4/zczMzMzMAEDNzMzMzMwAQM3MzMzMzABAZmZmZmZmAkBmZmZmZmYCQGZmZmZmZgJAAAAAAAAABEAAAAAAAAAEQAAAAAAAAARAAAAAAAAA+D8AAAAAAAD4PwAAAAAAAPg/MzMzMzMz+z8zMzMzMzP7PzMzMzMzM/s/ZmZmZmZm/j9mZmZmZmb+P2ZmZmZmZv4/zczMzMzMAEDNzMzMzMwAQM3MzMzMzABAZmZmZmZmAkBmZmZmZmYCQGZmZmZmZgJAAAAAAAAABEAAAAAAAAAEQAAAAAAAAARAmpmZmZmZ+T+amZmZmZn5P5qZmZmZmfk/zczMzMzM/D/NzMzMzMz8P83MzMzMzPw/AAAAAAAAAEAAAAAAAAAAQAAAAAAAAABAmpmZmZmZAUCamZmZmZkBQJqZmZmZmQFAMzMzMzMzA0AzMzMzMzMDQDMzMzMzMwNAAAAAAAAA+D8AAAAAAAD4PwAAAAAAAPg/MzMzMzMz+z8zMzMzMzP7PzMzMzMzM/s/ZmZmZmZm/j9mZmZmZmb+P2ZmZmZmZv4/zczMzMzMAEDNzMzMzMwAQM3MzMzMzABAZmZmZmZmAkBmZmZmZmYCQGZmZmZmZgJAAAAAAAAABEAAAAAAAAAEQAAAAAAAAARAmpmZmZmZ+T+amZmZmZn5P5qZmZmZmfk/zczMzMzM/D/NzMzMzMz8P83MzMzMzPw/AAAAAAAAAEAAAAAAAAAAQAAAAAAAAABAmpmZmZmZAUCamZmZmZkBQJqZmZmZmQFAMzMzMzMzA0AzMzMzMzMDQDMzMzMzMwNAAAAAAAAA+D8AAAAAAAD4PwAAAAAAAPg/MzMzMzMz+z8zMzMzMzP7PzMzMzMzM/s/ZmZmZmZm/j9mZmZmZmb+P2ZmZmZmZv4/zczMzMzMAEDNzMzMzMwAQM3MzMzMzABAZmZmZmZmAkBmZmZmZmYCQGZmZmZmZgJAAAAAAAAABEAAAAAAAAAEQAAAAAAAAARAmpmZmZmZ+T+amZmZmZn5P5qZmZmZmfk/zczMzMzM/D/NzMzMzMz8P83MzMzMzPw/AAAAAAAAAEAAAAAAAAAAQAAAAAAAAABAmpmZmZmZAUCamZmZmZkBQJqZmZmZmQFAMzMzMzMzA0AzMzMzMzMDQDMzMzMzMwNAAAAAAAAA+D8AAAAAAAD4PwAAAAAAAPg/MzMzMzMz+z8zMzMzMzP7PzMzMzMzM/s/ZmZmZmZm/j9mZmZmZmb+P2ZmZmZmZv4/zczMzMzMAEDNzMzMzMwAQM3MzMzMzABAZmZmZmZmAkBmZmZmZmYCQGZmZmZmZgJAAAAAAAAABEAAAAAAAAAEQAAAAAAAAARAmpmZmZmZ+T+amZmZmZn5P5qZmZmZmfk/zczMzMzM/D/NzMzMzMz8P83MzMzMzPw/AAAAAAAAAEAAAAAAAAAAQAAAAAAAAABAmpmZmZmZAUCamZmZmZkBQJqZmZmZmQFAMzMzMzMzA0AzMzMzMzMDQDMzMzMzMwNAAAAAAAAA+D8AAAAAAAD4PwAAAAAAAPg/MzMzMzMz+z8zMzMzMzP7PzMzMzMzM/s/ZmZmZmZm/j9mZmZmZmb+P2ZmZmZmZv4/zczMzMzMAEDNzMzMzMwAQM3MzMzMzABAZmZmZmZmAkBmZmZmZmYCQGZmZmZmZgJAAAAAAAAABEAAAAAAAAAEQAAAAAAAAARAAAAAAAAA+D8AAAAAAAD4PwAAAAAAAPg/MzMzMzMz+z8zMzMzMzP7PzMzMzMzM/s/ZmZmZmZm/j9mZmZmZmb+P2ZmZmZmZv4/zczMzMzMAEDNzMzMzMwAQM3MzMzMzABAZmZmZmZmAkBmZmZmZmYCQGZmZmZmZgJAAAAAAAAABEAAAAAAAAAEQAAAAAAAAARAmpmZmZmZ+T+amZmZmZn5P5qZmZmZmfk/zczMzMzM/D/NzMzMzMz8P83MzMzMzPw/AAAAAAAAAEAAAAAAAAAAQAAAAAAAAABAmpmZmZmZAUCamZmZmZkBQJqZmZmZmQFAMzMzMzMzA0AzMzMzMzMDQDMzMzMzMwNAAAAAAAAA+D8AAAAAAAD4PwAAAAAAAPg/MzMzMzMz+z8zMzMzMzP7PzMzMzMzM/s/ZmZmZmZm/j9mZmZmZmb+P2ZmZmZmZv4/zczMzMzMAEDNzMzMzMwAQM3MzMzMzABAZmZmZmZmAkBmZmZmZmYCQGZmZmZmZgJAAAAAAAAABEAAAAAAAAAEQAAAAAAAAARAmpmZmZmZ+T+amZmZmZn5P5qZmZmZmfk/zczMzMzM/D/NzMzMzMz8P83MzMzMzPw/AAAAAAAAAEAAAAAAAAAAQAAAAAAAAABAmpmZmZmZAUCamZmZmZkBQJqZmZmZmQFAMzMzMzMzA0AzMzMzMzMDQDMzMzMzMwNAAAAAAAAA+D8AAAAAAAD4PwAAAAAAAPg/MzMzMzMz+z8zMzMzMzP7PzMzMzMzM/s/ZmZmZmZm/j9mZmZmZmb+P2ZmZmZmZv4/zczMzMzMAEDNzMzMzMwAQM3MzMzMzABAZmZmZmZmAkBmZmZmZmYCQGZmZmZmZgJAAAAAAAAABEAAAAAAAAAEQAAAAAAAAARAmpmZmZmZ+T+amZmZmZn5P5qZmZmZmfk/zczMzMzM/D/NzMzMzMz8P83MzMzMzPw/AAAAAAAAAEAAAAAAAAAAQAAAAAAAAABAmpmZmZmZAUCamZmZmZkBQJqZmZmZmQFAMzMzMzMzA0AzMzMzMzMDQDMzMzMzMwNAAAAAAAAA+D8AAAAAAAD4PwAAAAAAAPg/MzMzMzMz+z8zMzMzMzP7PzMzMzMzM/s/ZmZmZmZm/j9mZmZmZmb+P2ZmZmZmZv4/zczMzMzMAEDNzMzMzMwAQM3MzMzMzABAZmZmZmZmAkBmZmZmZmYCQGZmZmZmZgJAAAAAAAAABEAAAAAAAAAEQAAAAAAAAARAmpmZmZmZ+T+amZmZmZn5P5qZmZmZmfk/zczMzMzM/D/NzMzMzMz8P83MzMzMzPw/AAAAAAAAAEAAAAAAAAAAQAAAAAAAAABAmpmZmZmZAUCamZmZmZkBQJqZmZmZmQFAMzMzMzMzA0AzMzMzMzMDQDMzMzMzMwNAAAAAAAAA+D8AAAAAAAD4PwAAAAAAAPg/MzMzMzMz+z8zMzMzMzP7PzMzMzMzM/s/ZmZmZmZm/j9mZmZmZmb+P2ZmZmZmZv4/zczMzMzMAEDNzMzMzMwAQM3MzMzMzABAZmZmZmZmAkBmZmZmZmYCQGZmZmZmZgJAAAAAAAAABEAAAAAAAAAEQAAAAAAAAARAAAAAAAAA+D8AAAAAAAD4PwAAAAAAAPg/MzMzMzMz+z8zMzMzMzP7PzMzMzMzM/s/ZmZmZmZm/j9mZmZmZmb+P2ZmZmZmZv4/zczMzMzMAEDNzMzMzMwAQM3MzMzMzABAZmZmZmZmAkBmZmZmZmYCQGZmZmZmZgJAAAAAAAAABEAAAAAAAAAEQAAAAAAAAARAmpmZmZmZ+T+amZmZmZn5P5qZmZmZmfk/zczMzMzM/D/NzMzMzMz8P83MzMzMzPw/AAAAAAAAAEAAAAAAAAAAQAAAAAAAAABAmpmZmZmZAUCamZmZmZkBQJqZmZmZmQFAMzMzMzMzA0AzMzMzMzMDQDMzMzMzMwNAAAAAAAAA+D8AAAAAAAD4PwAAAAAAAPg/MzMzMzMz+z8zMzMzMzP7PzMzMzMzM/s/ZmZmZmZm/j9mZmZmZmb+P2ZmZmZmZv4/zczMzMzMAEDNzMzMzMwAQM3MzMzMzABAZmZmZmZmAkBmZmZmZmYCQGZmZmZmZgJAAAAAAAAABEAAAAAAAAAEQAAAAAAAAARAmpmZmZmZ+T+amZmZmZn5P5qZmZmZmfk/zczMzMzM/D/NzMzMzMz8P83MzMzMzPw/AAAAAAAAAEAAAAAAAAAAQAAAAAAAAABAmpmZmZmZAUCamZmZmZkBQJqZmZmZmQFAMzMzMzMzA0AzMzMzMzMDQDMzMzMzMwNAAAAAAAAA+D8AAAAAAAD4PwAAAAAAAPg/MzMzMzMz+z8zMzMzMzP7PzMzMzMzM/s/ZmZmZmZm/j9mZmZmZmb+P2ZmZmZmZv4/zczMzMzMAEDNzMzMzMwAQM3MzMzMzABAZmZmZmZmAkBmZmZmZmYCQGZmZmZmZgJAAAAAAAAABEAAAAAAAAAEQAAAAAAAAARAmpmZmZmZ+T+amZmZmZn5P5qZmZmZmfk/zczMzMzM/D/NzMzMzMz8P83MzMzMzPw/AAAAAAAAAEAAAAAAAAAAQAAAAAAAAABAmpmZmZmZAUCamZmZmZkBQJqZmZmZmQFAMzMzMzMzA0AzMzMzMzMDQDMzMzMzMwNAAAAAAAAA+D8AAAAAAAD4PwAAAAAAAPg/MzMzMzMz+z8zMzMzMzP7PzMzMzMzM/s/ZmZmZmZm/j9mZmZmZmb+P2ZmZmZmZv4/zczMzMzMAEDNzMzMzMwAQM3MzMzMzABAZmZmZmZmAkBmZmZmZmYCQGZmZmZmZgJAAAAAAAAABEAAAAAAAAAEQAAAAAAAAARAmpmZmZmZ+T+amZmZmZn5P5qZmZmZmfk/zczMzMzM/D/NzMzMzMz8P83MzMzMzPw/AAAAAAAAAEAAAAAAAAAAQAAAAAAAAABAmpmZmZmZAUCamZmZmZkBQJqZmZmZmQFAMzMzMzMzA0AzMzMzMzMDQDMzMzMzMwNAAAAAAAAA+D8AAAAAAAD4PwAAAAAAAPg/MzMzMzMz+z8zMzMzMzP7PzMzMzMzM/s/ZmZmZmZm/j9mZmZmZmb+P2ZmZmZmZv4/zczMzMzMAEDNzMzMzMwAQM3MzMzMzABAZmZmZmZmAkBmZmZmZmYCQGZmZmZmZgJAAAAAAAAABEAAAAAAAAAEQAAAAAAAAARAAAAAAAAA+D8AAAAAAAD4PwAAAAAAAPg/MzMzMzMz+z8zMzMzMzP7PzMzMzMzM/s/ZmZmZmZm/j9mZmZmZmb+P2ZmZmZmZv4/zczMzMzMAEDNzMzMzMwAQM3MzMzMzABAZmZmZmZmAkBmZmZmZmYCQGZmZmZmZgJAAAAAAAAABEAAAAAAAAAEQAAAAAAAAARAmpmZmZmZ+T+amZmZmZn5P5qZmZmZmfk/zczMzMzM/D/NzMzMzMz8P83MzMzMzPw/AAAAAAAAAEAAAAAAAAAAQAAAAAAAAABAmpmZmZmZAUCamZmZmZkBQJqZmZmZmQFAMzMzMzMzA0AzMzMzMzMDQDMzMzMzMwNAAAAAAAAA+D8AAAAAAAD4PwAAAAAAAPg/MzMzMzMz+z8zMzMzMzP7PzMzMzMzM/s/ZmZmZmZm/j9mZmZmZmb+P2ZmZmZmZv4/zczMzMzMAEDNzMzMzMwAQM3MzMzMzABAZmZmZmZmAkBmZmZmZmYCQGZmZmZmZgJAAAAAAAAABEAAAAAAAAAEQAAAAAAAAARAmpmZmZmZ+T+amZmZmZn5P5qZmZmZmfk/zczMzMzM/D/NzMzMzMz8P83MzMzMzPw/AAAAAAAAAEAAAAAAAAAAQAAAAAAAAABAmpmZmZmZAUCamZmZmZkBQJqZmZmZmQFAMzMzMzMzA0AzMzMzMzMDQDMzMzMzMwNAAAAAAAAA+D8AAAAAAAD4PwAAAAAAAPg/MzMzMzMz+z8zMzMzMzP7PzMzMzMzM/s/ZmZmZmZm/j9mZmZmZmb+P2ZmZmZmZv4/zczMzMzMAEDNzMzMzMwAQM3MzMzMzABAZmZmZmZmAkBmZmZmZmYCQGZmZmZmZgJAAAAAAAAABEAAAAAAAAAEQAAAAAAAAARAmpmZmZmZ+T+amZmZmZn5P5qZmZmZmfk/zczMzMzM/D/NzMzMzMz8P83MzMzMzPw/AAAAAAAAAEAAAAAAAAAAQAAAAAAAAABAmpmZmZmZAUCamZmZmZkBQJqZmZmZmQFAMzMzMzMzA0AzMzMzMzMDQDMzMzMzMwNAAAAAAAAA+D8AAAAAAAD4PwAAAAAAAPg/MzMzMzMz+z8zMzMzMzP7PzMzMzMzM/s/ZmZmZmZm/j9mZmZmZmb+P2ZmZmZmZv4/zczMzMzMAEDNzMzMzMwAQM3MzMzMzABAZmZmZmZmAkBmZmZmZmYCQGZmZmZmZgJAAAAAAAAABEAAAAAAAAAEQAAAAAAAAARAmpmZmZmZ+T+amZmZmZn5P5qZmZmZmfk/zczMzMzM/D/NzMzMzMz8P83MzMzMzPw/AAAAAAAAAEAAAAAAAAAAQAAAAAAAAABAmpmZmZmZAUCamZmZmZkBQJqZmZmZmQFAMzMzMzMzA0AzMzMzMzMDQDMzMzMzMwNAAAAAAAAA+D8AAAAAAAD4PwAAAAAAAPg/MzMzMzMz+z8zMzMzMzP7PzMzMzMzM/s/ZmZmZmZm/j9mZmZmZmb+P2ZmZmZmZv4/zczMzMzMAEDNzMzMzMwAQM3MzMzMzABAZmZmZmZmAkBmZmZmZmYCQGZmZmZmZgJAAAAAAAAABEAAAAAAAAAEQAAAAAAAAARA",
          "dtype": "f8"
         }
        },
        {
         "marker": {
          "color": {
           "bdata": "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",
           "dtype": "f8"
          },
          "colorbar": {
           "title": {
            "text": "Toughness"
           }
          },
          "colorscale": [
           [
            0,
            "#440154"
           ],
           [
            0.1111111111111111,
            "#482878"
           ],
           [
            0.2222222222222222,
            "#3e4989"
           ],
           [
            0.3333333333333333,
            "#31688e"
           ],
           [
            0.4444444444444444,
            "#26828e"
           ],
           [
            0.5555555555555556,
            "#1f9e89"
           ],
           [
            0.6666666666666666,
            "#35b779"
           ],
           [
            0.7777777777777778,
            "#6ece58"
           ],
           [
            0.8888888888888888,
            "#b5de2b"
           ],
           [
            1,
            "#fde725"
           ]
          ],
          "size": 10
         },
         "mode": "markers",
         "name": "(n, t, theta)",
         "scene": "scene3",
         "type": "scatter3d",
         "x": {
          "bdata": "BgYGBgYGBgYGBgYGBgYGBgYGBgYGBgYGBgYGBgYGBgYGBgYGBgYGBgYGBgYGBgYGBgYGBgYGBgYGBgYGBgYGBgYGBgYGBgYGBgYGBgYGBgYGBgYGBgYGBgYGBgYGBgYGBgYGBgYGBgYGBgYGBgYGBgYGBgYGBgYGBgYGBgYGBgYGBgYGBgYGBgYGBgYGBgYGBgYGBgYGCAgICAgICAgICAgICAgICAgICAgICAgICAgICAgICAgICAgICAgICAgICAgICAgICAgICAgICAgICAgICAgICAgICAgICAgICAgICAgICAgICAgICAgICAgICAgICAgICAgICAgICAgICAgICAgICAgICAgICAgICAgICAgICAgICAgICAgICAgICAgICAgICAgICAgICgoKCgoKCgoKCgoKCgoKCgoKCgoKCgoKCgoKCgoKCgoKCgoKCgoKCgoKCgoKCgoKCgoKCgoKCgoKCgoKCgoKCgoKCgoKCgoKCgoKCgoKCgoKCgoKCgoKCgoKCgoKCgoKCgoKCgoKCgoKCgoKCgoKCgoKCgoKCgoKCgoKCgoKCgoKCgoKCgoKCgoKCgoKCgoKCgoKCgoKDAwMDAwMDAwMDAwMDAwMDAwMDAwMDAwMDAwMDAwMDAwMDAwMDAwMDAwMDAwMDAwMDAwMDAwMDAwMDAwMDAwMDAwMDAwMDAwMDAwMDAwMDAwMDAwMDAwMDAwMDAwMDAwMDAwMDAwMDAwMDAwMDAwMDAwMDAwMDAwMDAwMDAwMDAwMDAwMDAwMDAwMDAwMDAwMDAwMDAwMBgYGBgYGBgYGBgYGBgYGBgYGBgYGBgYGBgYGBgYGBgYGBgYGBgYGBgYGBgYGBgYGBgYGBgYGBgYGBgYGBgYGBgYGBgYGBgYGBgYGBgYGBgYGBgYGBgYGBgYGBgYGBgYGBgYGBgYGBgYGBgYGBgYGBgYGBgYGBgYGBgYGBgYGBgYGBgYGBgYGBgYGBgYGBgYGBgYGBgYGCAgICAgICAgICAgICAgICAgICAgICAgICAgICAgICAgICAgICAgICAgICAgICAgICAgICAgICAgICAgICAgICAgICAgICAgICAgICAgICAgICAgICAgICAgICAgICAgICAgICAgICAgICAgICAgICAgICAgICAgICAgICAgICAgICAgICAgICAgICAgICAgICAgICAgICgoKCgoKCgoKCgoKCgoKCgoKCgoKCgoKCgoKCgoKCgoKCgoKCgoKCgoKCgoKCgoKCgoKCgoKCgoKCgoKCgoKCgoKCgoKCgoKCgoKCgoKCgoKCgoKCgoKCgoKCgoKCgoKCgoKCgoKCgoKCgoKCgoKCgoKCgoKCgoKCgoKCgoKCgoKCgoKCgoKCgoKCgoKCgoKCgoKCgoKDAwMDAwMDAwMDAwMDAwMDAwMDAwMDAwMDAwMDAwMDAwMDAwMDAwMDAwMDAwMDAwMDAwMDAwMDAwMDAwMDAwMDAwMDAwMDAwMDAwMDAwMDAwMDAwMDAwMDAwMDAwMDAwMDAwMDAwMDAwMDAwMDAwMDAwMDAwMDAwMDAwMDAwMDAwMDAwMDAwMDAwMDAwMDAwMDAwMDAwMBgYGBgYGBgYGBgYGBgYGBgYGBgYGBgYGBgYGBgYGBgYGBgYGBgYGBgYGBgYGBgYGBgYGBgYGBgYGBgYGBgYGBgYGBgYGBgYGBgYGBgYGBgYGBgYGBgYGBgYGBgYGBgYGBgYGBgYGBgYGBgYGBgYGBgYGBgYGBgYGBgYGBgYGBgYGBgYGBgYGBgYGBgYGBgYGBgYGBgYGCAgICAgICAgICAgICAgICAgICAgICAgICAgICAgICAgICAgICAgICAgICAgICAgICAgICAgICAgICAgICAgICAgICAgICAgICAgICAgICAgICAgICAgICAgICAgICAgICAgICAgICAgICAgICAgICAgICAgICAgICAgICAgICAgICAgICAgICAgICAgICAgICAgICAgICgoKCgoKCgoKCgoKCgoKCgoKCgoKCgoKCgoKCgoKCgoKCgoKCgoKCgoKCgoKCgoKCgoKCgoKCgoKCgoKCgoKCgoKCgoKCgoKCgoKCgoKCgoKCgoKCgoKCgoKCgoKCgoKCgoKCgoKCgoKCgoKCgoKCgoKCgoKCgoKCgoKCgoKCgoKCgoKCgoKCgoKCgoKCgoKCgoKCgoKDAwMDAwMDAwMDAwMDAwMDAwMDAwMDAwMDAwMDAwMDAwMDAwMDAwMDAwMDAwMDAwMDAwMDAwMDAwMDAwMDAwMDAwMDAwMDAwMDAwMDAwMDAwMDAwMDAwMDAwMDAwMDAwMDAwMDAwMDAwMDAwMDAwMDAwMDAwMDAwMDAwMDAwMDAwMDAwMDAwMDAwMDAwMDAwMDAwMDAwM",
          "dtype": "i1"
         },
         "y": {
          "bdata": "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",
          "dtype": "f8"
         },
         "z": {
          "bdata": "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",
          "dtype": "i2"
         }
        }
       ],
       "layout": {
        "annotations": [
         {
          "font": {
           "size": 16
          },
          "showarrow": false,
          "text": "Scatter of (n, t, r)",
          "x": 0.14444444444444446,
          "xanchor": "center",
          "xref": "paper",
          "y": 1,
          "yanchor": "bottom",
          "yref": "paper"
         },
         {
          "font": {
           "size": 16
          },
          "showarrow": false,
          "text": "Scatter of (n, theta, r)",
          "x": 0.5,
          "xanchor": "center",
          "xref": "paper",
          "y": 1,
          "yanchor": "bottom",
          "yref": "paper"
         },
         {
          "font": {
           "size": 16
          },
          "showarrow": false,
          "text": "Scatter of (n, t, theta)",
          "x": 0.8555555555555556,
          "xanchor": "center",
          "xref": "paper",
          "y": 1,
          "yanchor": "bottom",
          "yref": "paper"
         }
        ],
        "height": 600,
        "scene": {
         "domain": {
          "x": [
           0,
           0.2888888888888889
          ],
          "y": [
           0,
           1
          ]
         }
        },
        "scene2": {
         "domain": {
          "x": [
           0.35555555555555557,
           0.6444444444444445
          ],
          "y": [
           0,
           1
          ]
         }
        },
        "scene3": {
         "domain": {
          "x": [
           0.7111111111111111,
           1
          ],
          "y": [
           0,
           1
          ]
         }
        },
        "showlegend": false,
        "template": {
         "data": {
          "bar": [
           {
            "error_x": {
             "color": "#2a3f5f"
            },
            "error_y": {
             "color": "#2a3f5f"
            },
            "marker": {
             "line": {
              "color": "#E5ECF6",
              "width": 0.5
             },
             "pattern": {
              "fillmode": "overlay",
              "size": 10,
              "solidity": 0.2
             }
            },
            "type": "bar"
           }
          ],
          "barpolar": [
           {
            "marker": {
             "line": {
              "color": "#E5ECF6",
              "width": 0.5
             },
             "pattern": {
              "fillmode": "overlay",
              "size": 10,
              "solidity": 0.2
             }
            },
            "type": "barpolar"
           }
          ],
          "carpet": [
           {
            "aaxis": {
             "endlinecolor": "#2a3f5f",
             "gridcolor": "white",
             "linecolor": "white",
             "minorgridcolor": "white",
             "startlinecolor": "#2a3f5f"
            },
            "baxis": {
             "endlinecolor": "#2a3f5f",
             "gridcolor": "white",
             "linecolor": "white",
             "minorgridcolor": "white",
             "startlinecolor": "#2a3f5f"
            },
            "type": "carpet"
           }
          ],
          "choropleth": [
           {
            "colorbar": {
             "outlinewidth": 0,
             "ticks": ""
            },
            "type": "choropleth"
           }
          ],
          "contour": [
           {
            "colorbar": {
             "outlinewidth": 0,
             "ticks": ""
            },
            "colorscale": [
             [
              0,
              "#0d0887"
             ],
             [
              0.1111111111111111,
              "#46039f"
             ],
             [
              0.2222222222222222,
              "#7201a8"
             ],
             [
              0.3333333333333333,
              "#9c179e"
             ],
             [
              0.4444444444444444,
              "#bd3786"
             ],
             [
              0.5555555555555556,
              "#d8576b"
             ],
             [
              0.6666666666666666,
              "#ed7953"
             ],
             [
              0.7777777777777778,
              "#fb9f3a"
             ],
             [
              0.8888888888888888,
              "#fdca26"
             ],
             [
              1,
              "#f0f921"
             ]
            ],
            "type": "contour"
           }
          ],
          "contourcarpet": [
           {
            "colorbar": {
             "outlinewidth": 0,
             "ticks": ""
            },
            "type": "contourcarpet"
           }
          ],
          "heatmap": [
           {
            "colorbar": {
             "outlinewidth": 0,
             "ticks": ""
            },
            "colorscale": [
             [
              0,
              "#0d0887"
             ],
             [
              0.1111111111111111,
              "#46039f"
             ],
             [
              0.2222222222222222,
              "#7201a8"
             ],
             [
              0.3333333333333333,
              "#9c179e"
             ],
             [
              0.4444444444444444,
              "#bd3786"
             ],
             [
              0.5555555555555556,
              "#d8576b"
             ],
             [
              0.6666666666666666,
              "#ed7953"
             ],
             [
              0.7777777777777778,
              "#fb9f3a"
             ],
             [
              0.8888888888888888,
              "#fdca26"
             ],
             [
              1,
              "#f0f921"
             ]
            ],
            "type": "heatmap"
           }
          ],
          "histogram": [
           {
            "marker": {
             "pattern": {
              "fillmode": "overlay",
              "size": 10,
              "solidity": 0.2
             }
            },
            "type": "histogram"
           }
          ],
          "histogram2d": [
           {
            "colorbar": {
             "outlinewidth": 0,
             "ticks": ""
            },
            "colorscale": [
             [
              0,
              "#0d0887"
             ],
             [
              0.1111111111111111,
              "#46039f"
             ],
             [
              0.2222222222222222,
              "#7201a8"
             ],
             [
              0.3333333333333333,
              "#9c179e"
             ],
             [
              0.4444444444444444,
              "#bd3786"
             ],
             [
              0.5555555555555556,
              "#d8576b"
             ],
             [
              0.6666666666666666,
              "#ed7953"
             ],
             [
              0.7777777777777778,
              "#fb9f3a"
             ],
             [
              0.8888888888888888,
              "#fdca26"
             ],
             [
              1,
              "#f0f921"
             ]
            ],
            "type": "histogram2d"
           }
          ],
          "histogram2dcontour": [
           {
            "colorbar": {
             "outlinewidth": 0,
             "ticks": ""
            },
            "colorscale": [
             [
              0,
              "#0d0887"
             ],
             [
              0.1111111111111111,
              "#46039f"
             ],
             [
              0.2222222222222222,
              "#7201a8"
             ],
             [
              0.3333333333333333,
              "#9c179e"
             ],
             [
              0.4444444444444444,
              "#bd3786"
             ],
             [
              0.5555555555555556,
              "#d8576b"
             ],
             [
              0.6666666666666666,
              "#ed7953"
             ],
             [
              0.7777777777777778,
              "#fb9f3a"
             ],
             [
              0.8888888888888888,
              "#fdca26"
             ],
             [
              1,
              "#f0f921"
             ]
            ],
            "type": "histogram2dcontour"
           }
          ],
          "mesh3d": [
           {
            "colorbar": {
             "outlinewidth": 0,
             "ticks": ""
            },
            "type": "mesh3d"
           }
          ],
          "parcoords": [
           {
            "line": {
             "colorbar": {
              "outlinewidth": 0,
              "ticks": ""
             }
            },
            "type": "parcoords"
           }
          ],
          "pie": [
           {
            "automargin": true,
            "type": "pie"
           }
          ],
          "scatter": [
           {
            "fillpattern": {
             "fillmode": "overlay",
             "size": 10,
             "solidity": 0.2
            },
            "type": "scatter"
           }
          ],
          "scatter3d": [
           {
            "line": {
             "colorbar": {
              "outlinewidth": 0,
              "ticks": ""
             }
            },
            "marker": {
             "colorbar": {
              "outlinewidth": 0,
              "ticks": ""
             }
            },
            "type": "scatter3d"
           }
          ],
          "scattercarpet": [
           {
            "marker": {
             "colorbar": {
              "outlinewidth": 0,
              "ticks": ""
             }
            },
            "type": "scattercarpet"
           }
          ],
          "scattergeo": [
           {
            "marker": {
             "colorbar": {
              "outlinewidth": 0,
              "ticks": ""
             }
            },
            "type": "scattergeo"
           }
          ],
          "scattergl": [
           {
            "marker": {
             "colorbar": {
              "outlinewidth": 0,
              "ticks": ""
             }
            },
            "type": "scattergl"
           }
          ],
          "scattermap": [
           {
            "marker": {
             "colorbar": {
              "outlinewidth": 0,
              "ticks": ""
             }
            },
            "type": "scattermap"
           }
          ],
          "scattermapbox": [
           {
            "marker": {
             "colorbar": {
              "outlinewidth": 0,
              "ticks": ""
             }
            },
            "type": "scattermapbox"
           }
          ],
          "scatterpolar": [
           {
            "marker": {
             "colorbar": {
              "outlinewidth": 0,
              "ticks": ""
             }
            },
            "type": "scatterpolar"
           }
          ],
          "scatterpolargl": [
           {
            "marker": {
             "colorbar": {
              "outlinewidth": 0,
              "ticks": ""
             }
            },
            "type": "scatterpolargl"
           }
          ],
          "scatterternary": [
           {
            "marker": {
             "colorbar": {
              "outlinewidth": 0,
              "ticks": ""
             }
            },
            "type": "scatterternary"
           }
          ],
          "surface": [
           {
            "colorbar": {
             "outlinewidth": 0,
             "ticks": ""
            },
            "colorscale": [
             [
              0,
              "#0d0887"
             ],
             [
              0.1111111111111111,
              "#46039f"
             ],
             [
              0.2222222222222222,
              "#7201a8"
             ],
             [
              0.3333333333333333,
              "#9c179e"
             ],
             [
              0.4444444444444444,
              "#bd3786"
             ],
             [
              0.5555555555555556,
              "#d8576b"
             ],
             [
              0.6666666666666666,
              "#ed7953"
             ],
             [
              0.7777777777777778,
              "#fb9f3a"
             ],
             [
              0.8888888888888888,
              "#fdca26"
             ],
             [
              1,
              "#f0f921"
             ]
            ],
            "type": "surface"
           }
          ],
          "table": [
           {
            "cells": {
             "fill": {
              "color": "#EBF0F8"
             },
             "line": {
              "color": "white"
             }
            },
            "header": {
             "fill": {
              "color": "#C8D4E3"
             },
             "line": {
              "color": "white"
             }
            },
            "type": "table"
           }
          ]
         },
         "layout": {
          "annotationdefaults": {
           "arrowcolor": "#2a3f5f",
           "arrowhead": 0,
           "arrowwidth": 1
          },
          "autotypenumbers": "strict",
          "coloraxis": {
           "colorbar": {
            "outlinewidth": 0,
            "ticks": ""
           }
          },
          "colorscale": {
           "diverging": [
            [
             0,
             "#8e0152"
            ],
            [
             0.1,
             "#c51b7d"
            ],
            [
             0.2,
             "#de77ae"
            ],
            [
             0.3,
             "#f1b6da"
            ],
            [
             0.4,
             "#fde0ef"
            ],
            [
             0.5,
             "#f7f7f7"
            ],
            [
             0.6,
             "#e6f5d0"
            ],
            [
             0.7,
             "#b8e186"
            ],
            [
             0.8,
             "#7fbc41"
            ],
            [
             0.9,
             "#4d9221"
            ],
            [
             1,
             "#276419"
            ]
           ],
           "sequential": [
            [
             0,
             "#0d0887"
            ],
            [
             0.1111111111111111,
             "#46039f"
            ],
            [
             0.2222222222222222,
             "#7201a8"
            ],
            [
             0.3333333333333333,
             "#9c179e"
            ],
            [
             0.4444444444444444,
             "#bd3786"
            ],
            [
             0.5555555555555556,
             "#d8576b"
            ],
            [
             0.6666666666666666,
             "#ed7953"
            ],
            [
             0.7777777777777778,
             "#fb9f3a"
            ],
            [
             0.8888888888888888,
             "#fdca26"
            ],
            [
             1,
             "#f0f921"
            ]
           ],
           "sequentialminus": [
            [
             0,
             "#0d0887"
            ],
            [
             0.1111111111111111,
             "#46039f"
            ],
            [
             0.2222222222222222,
             "#7201a8"
            ],
            [
             0.3333333333333333,
             "#9c179e"
            ],
            [
             0.4444444444444444,
             "#bd3786"
            ],
            [
             0.5555555555555556,
             "#d8576b"
            ],
            [
             0.6666666666666666,
             "#ed7953"
            ],
            [
             0.7777777777777778,
             "#fb9f3a"
            ],
            [
             0.8888888888888888,
             "#fdca26"
            ],
            [
             1,
             "#f0f921"
            ]
           ]
          },
          "colorway": [
           "#636efa",
           "#EF553B",
           "#00cc96",
           "#ab63fa",
           "#FFA15A",
           "#19d3f3",
           "#FF6692",
           "#B6E880",
           "#FF97FF",
           "#FECB52"
          ],
          "font": {
           "color": "#2a3f5f"
          },
          "geo": {
           "bgcolor": "white",
           "lakecolor": "white",
           "landcolor": "#E5ECF6",
           "showlakes": true,
           "showland": true,
           "subunitcolor": "white"
          },
          "hoverlabel": {
           "align": "left"
          },
          "hovermode": "closest",
          "mapbox": {
           "style": "light"
          },
          "paper_bgcolor": "white",
          "plot_bgcolor": "#E5ECF6",
          "polar": {
           "angularaxis": {
            "gridcolor": "white",
            "linecolor": "white",
            "ticks": ""
           },
           "bgcolor": "#E5ECF6",
           "radialaxis": {
            "gridcolor": "white",
            "linecolor": "white",
            "ticks": ""
           }
          },
          "scene": {
           "xaxis": {
            "backgroundcolor": "#E5ECF6",
            "gridcolor": "white",
            "gridwidth": 2,
            "linecolor": "white",
            "showbackground": true,
            "ticks": "",
            "zerolinecolor": "white"
           },
           "yaxis": {
            "backgroundcolor": "#E5ECF6",
            "gridcolor": "white",
            "gridwidth": 2,
            "linecolor": "white",
            "showbackground": true,
            "ticks": "",
            "zerolinecolor": "white"
           },
           "zaxis": {
            "backgroundcolor": "#E5ECF6",
            "gridcolor": "white",
            "gridwidth": 2,
            "linecolor": "white",
            "showbackground": true,
            "ticks": "",
            "zerolinecolor": "white"
           }
          },
          "shapedefaults": {
           "line": {
            "color": "#2a3f5f"
           }
          },
          "ternary": {
           "aaxis": {
            "gridcolor": "white",
            "linecolor": "white",
            "ticks": ""
           },
           "baxis": {
            "gridcolor": "white",
            "linecolor": "white",
            "ticks": ""
           },
           "bgcolor": "#E5ECF6",
           "caxis": {
            "gridcolor": "white",
            "linecolor": "white",
            "ticks": ""
           }
          },
          "title": {
           "x": 0.05
          },
          "xaxis": {
           "automargin": true,
           "gridcolor": "white",
           "linecolor": "white",
           "ticks": "",
           "title": {
            "standoff": 15
           },
           "zerolinecolor": "white",
           "zerolinewidth": 2
          },
          "yaxis": {
           "automargin": true,
           "gridcolor": "white",
           "linecolor": "white",
           "ticks": "",
           "title": {
            "standoff": 15
           },
           "zerolinecolor": "white",
           "zerolinewidth": 2
          }
         }
        },
        "title": {
         "text": "3D Scatter Subplots"
        }
       }
      }
     },
     "metadata": {},
     "output_type": "display_data"
    }
   ],
   "source": [
    "import plotly.express as px\n",
    "\n",
    "# Create subplots\n",
    "fig = make_subplots(\n",
    "    rows=1, cols=3,\n",
    "    specs=[[{'type': 'scatter3d'}, {'type': 'scatter3d'}, {'type': 'scatter3d'}]],\n",
    "    subplot_titles=(\"Scatter of (n, t, r)\", \"Scatter of (n, theta, r)\", \"Scatter of (n, t, theta)\")\n",
    ")\n",
    "\n",
    "# Scatter of (n, t, r)\n",
    "scatter1 = go.Scatter3d(\n",
    "    x=df['n'],\n",
    "    y=df['t'],\n",
    "    z=df['r'],\n",
    "    mode='markers',\n",
    "    marker=dict(size=10, color=df['toughness'], colorscale='viridis', colorbar=dict(title=\"Toughness\")),\n",
    "    name=\"(n, t, r)\"\n",
    ")\n",
    "fig.add_trace(scatter1, row=1, col=1)\n",
    "\n",
    "# Scatter of (n, theta, r)\n",
    "scatter2 = go.Scatter3d(\n",
    "    x=df['n'],\n",
    "    y=df['theta'],\n",
    "    z=df['r'],\n",
    "    mode='markers',\n",
    "    marker=dict(size=10, color=df['toughness'], colorscale='viridis', colorbar=dict(title=\"Toughness\")),\n",
    "    name=\"(n, theta, r)\"\n",
    ")\n",
    "fig.add_trace(scatter2, row=1, col=2)\n",
    "\n",
    "# Scatter of (n, t, theta)\n",
    "scatter3 = go.Scatter3d(\n",
    "    x=df['n'],\n",
    "    y=df['t'],\n",
    "    z=df['theta'],\n",
    "    mode='markers',\n",
    "    marker=dict(size=10, color=df['toughness'], colorscale='viridis', colorbar=dict(title=\"Toughness\")),\n",
    "    name=\"(n, t, theta)\"\n",
    ")\n",
    "fig.add_trace(scatter3, row=1, col=3)\n",
    "\n",
    "# Update layout\n",
    "fig.update_layout(\n",
    "    title_text=\"3D Scatter Subplots\",\n",
    "    height=600,\n",
    "    showlegend=False\n",
    ")\n",
    "\n",
    "# Show the plot\n",
    "fig.show()\n",
    "\n"
   ]
  },
  {
   "cell_type": "code",
   "execution_count": 5,
   "metadata": {},
   "outputs": [],
   "source": [
    "from botorch.models.gp_regression import SingleTaskGP\n",
    "from botorch.fit import fit_gpytorch_mll\n",
    "from gpytorch.mlls.exact_marginal_log_likelihood import ExactMarginalLogLikelihood\n",
    "\n",
    "## Build Model A class \n",
    "class GaussianProcessModel:\n",
    "    def __init__(self, x_train, y_train, yvar_train, bounds):\n",
    "        self.x_train = x_train\n",
    "        self.y_train = y_train\n",
    "        self.yvar_train = yvar_train\n",
    "        self.bounds = bounds\n",
    "        self.model = self._fit_gp_model()\n",
    "    \n",
    "    def _fit_gp_model(self):\n",
    "        model = SingleTaskGP(self.x_train, self.y_train, self.yvar_train)\n",
    "        mll = ExactMarginalLogLikelihood(model.likelihood, model)\n",
    "        fit_gpytorch_mll(mll)\n",
    "        return model\n",
    "\n",
    "    def gp_evaluate(self, test_x):\n",
    "        self.model.eval()\n",
    "        with torch.no_grad():\n",
    "            posterior = self.model.posterior(test_x)\n",
    "        mean = posterior.mean.squeeze().numpy()\n",
    "        var = posterior.variance.squeeze().numpy()\n",
    "        return mean, var\n",
    "    \n"
   ]
  },
  {
   "cell_type": "code",
   "execution_count": 6,
   "metadata": {},
   "outputs": [],
   "source": [
    "class Plotting:\n",
    "    def __init__(self, gp_model:GaussianProcessModel, variable_combinations):\n",
    "        self.gp_model = gp_model\n",
    "        self.x_train = gp_model.x_train\n",
    "        self.y_train = gp_model.y_train\n",
    "        self.bounds = gp_model.bounds\n",
    "        self.variable_combinations = variable_combinations\n",
    "        self.dtype = dtype\n",
    "\n",
    "    def generate_input_data(self, A, B, c, d, combination):\n",
    "        if combination == ('n', 'r', 't'):\n",
    "            return torch.tensor(np.array([[A[i, j], d, B[i, j], c] for i in range(A.shape[0]) for j in range(A.shape[1])]), dtype=self.dtype)\n",
    "        elif combination == ('theta', 'r', 't'):\n",
    "            return torch.tensor(np.array([[d, A[i, j], B[i, j], c] for i in range(A.shape[0]) for j in range(A.shape[1])]), dtype=self.dtype)\n",
    "        elif combination == ('n', 't', 'theta'):\n",
    "            return torch.tensor(np.array([[A[i, j], c, B[i, j], d] for i in range(A.shape[0]) for j in range(A.shape[1])]), dtype=self.dtype)\n",
    "\n",
    "    def create_slices(self, c_slices, d_fixed, combination):\n",
    "        num_points = 20\n",
    "        a = np.linspace(0, 1, num_points)\n",
    "        b = np.linspace(0, 1, num_points)\n",
    "        A, B = np.meshgrid(a, b)\n",
    "\n",
    "        store_mean = []\n",
    "        for d in d_fixed:\n",
    "            mean_values = []\n",
    "            for c in c_slices:\n",
    "                input_data = self.generate_input_data(A, B, c, d, combination)\n",
    "                mean, _ = self.gp_model.gp_evaluate(input_data)\n",
    "                mean_values.append(mean.reshape(A.shape))  # Reshape to grid\n",
    "            store_mean.append(mean_values)\n",
    "\n",
    "        return A, B, store_mean\n",
    "    \n",
    "\n",
    "    def sliced_plotting(self, combination, minmax, colormap='Viridis'):\n",
    "        # Create slices for the fixed variable\n",
    "        c_slices = np.linspace(0, 1, 8)\n",
    "        d_fixed = [0, 0.25, 0.5, 0.75, 1.0]  # Fixed value for the other variable\n",
    "\n",
    "        # Create a new figure with subplots for each combination\n",
    "        fig = make_subplots(rows=1, cols=5, subplot_titles=('theta: 0', 'theta: 0.25','theta: 0.5', 'theta: 0.75','theta: 1.0'),\n",
    "                        specs=[[{'type': 'surface'}, {'type': 'surface'},{'type': 'surface'}, {'type': 'surface'}, {'type': 'surface'}]])\n",
    "        global_min = minmax[0].item()\n",
    "        global_max = minmax[1].item()\n",
    "\n",
    "        # Create slices and get mean values\n",
    "        A, B, store_mean = self.create_slices(c_slices, d_fixed, combination)\n",
    "        # Unpack the mean values for each slice\n",
    "        mean_vals1, mean_vals2, mean_vals3, mean_vals4, mean_vals5 = store_mean[0], store_mean[1], store_mean[2], store_mean[3], store_mean[4]  \n",
    "\n",
    "        for i, (c, y_grid1, y_grid2, y_grid3, y_grid4, y_grid5) in enumerate(zip(c_slices, mean_vals1,mean_vals2,mean_vals3,mean_vals4,mean_vals5), start=1):\n",
    "            fig.add_trace(go.Surface(\n",
    "                x=A,\n",
    "                y=B,\n",
    "                z=c * np.ones_like(A),  # Z-coordinate for slicing\n",
    "                surfacecolor=y_grid1,  # Use predicted `y` as contour\n",
    "                colorscale=colormap,\n",
    "                cmin=global_min,\n",
    "                cmax=global_max,\n",
    "                showscale=True if i == 1 else False,  # Show color scale only on the first slice\n",
    "                #   colorbar_x=0.45,\n",
    "                opacity=0.7\n",
    "            ), row=1, col=1)\n",
    "    \n",
    "            fig.add_trace(go.Surface(\n",
    "                x=A,\n",
    "                y=B,\n",
    "                z=c * np.ones_like(A),  # Z-coordinate for slicing\n",
    "                surfacecolor=y_grid2,  # Use predictediance as contour\n",
    "                cmin=global_min,\n",
    "                cmax=global_max,\n",
    "                colorscale=colormap,\n",
    "                showscale=True if i == 1 else False,  # Show color scale only on the first slice\n",
    "                #colorbar_x=0.45,\n",
    "                opacity=0.7\n",
    "            ), row=1, col=2)\n",
    "\n",
    "            fig.add_trace(go.Surface(\n",
    "                x=A,\n",
    "                y=B,\n",
    "                z=c * np.ones_like(A),  # Z-coordinate for slicing\n",
    "                surfacecolor=y_grid3,  # Use predictediance as contour\n",
    "                cmin=global_min,\n",
    "                cmax=global_max,\n",
    "                colorscale=colormap,\n",
    "                showscale=True if i == 1 else False,  # Show color scale only on the first slice\n",
    "                opacity=0.7\n",
    "            ), row=1, col=3)\n",
    "\n",
    "            fig.add_trace(go.Surface(\n",
    "                x=A,\n",
    "                y=B,\n",
    "                z=c * np.ones_like(A),  # Z-coordinate for slicing\n",
    "                surfacecolor=y_grid4,  # Use predictediance as contour\n",
    "                cmin=global_min,\n",
    "                cmax=global_max,\n",
    "                colorscale=colormap,\n",
    "                showscale=True if i == 1 else False,  # Show color scale only on the first slice\n",
    "                opacity=0.7\n",
    "            ), row=1, col=4)\n",
    "\n",
    "            fig.add_trace(go.Surface(\n",
    "                x=A,\n",
    "                y=B,\n",
    "                z=c * np.ones_like(A),  # Z-coordinate for slicing\n",
    "                surfacecolor=y_grid5,  # Use predictediance as contour\n",
    "                cmin=global_min,\n",
    "                cmax=global_max,\n",
    "                colorscale=colormap,\n",
    "                showscale=True if i == 1 else False,  # Show color scale only on the first slice\n",
    "                opacity=0.7\n",
    "            ), row=1, col=5)\n",
    "            \n",
    "        fig.update_layout(\n",
    "            height=400,\n",
    "            width=1300,\n",
    "            margin=dict(l=50, r=50, b=50, t=50),\n",
    "            scene=dict(\n",
    "                xaxis_title=combination[0],\n",
    "                yaxis_title=combination[1],\n",
    "                zaxis_title=combination[2]\n",
    "            ),\n",
    "            scene2=dict(\n",
    "                xaxis_title=combination[0],\n",
    "                yaxis_title=combination[1],\n",
    "                zaxis_title=combination[2]\n",
    "            ),\n",
    "            scene3=dict(\n",
    "                xaxis_title=combination[0],\n",
    "                yaxis_title=combination[1],\n",
    "                zaxis_title=combination[2]\n",
    "            ),\n",
    "            scene4=dict(\n",
    "                xaxis_title=combination[0],\n",
    "                yaxis_title=combination[1],\n",
    "                zaxis_title=combination[2]\n",
    "            ),\n",
    "            scene5=dict(\n",
    "                xaxis_title=combination[0],\n",
    "                yaxis_title=combination[1],\n",
    "                zaxis_title=combination[2]\n",
    "            )\n",
    "        )\n",
    "\n",
    "        fig.show()\n",
    "\n"
   ]
  },
  {
   "cell_type": "code",
   "execution_count": 7,
   "metadata": {},
   "outputs": [
    {
     "data": {
      "application/vnd.plotly.v1+json": {
       "config": {
        "plotlyServerURL": "https://plot.ly"
       },
       "data": [
        {
         "cmax": 46.71140670776367,
         "cmin": 0.43323537707328796,
         "colorscale": [
          [
           0,
           "#440154"
          ],
          [
           0.1111111111111111,
           "#482878"
          ],
          [
           0.2222222222222222,
           "#3e4989"
          ],
          [
           0.3333333333333333,
           "#31688e"
          ],
          [
           0.4444444444444444,
           "#26828e"
          ],
          [
           0.5555555555555556,
           "#1f9e89"
          ],
          [
           0.6666666666666666,
           "#35b779"
          ],
          [
           0.7777777777777778,
           "#6ece58"
          ],
          [
           0.8888888888888888,
           "#b5de2b"
          ],
          [
           1,
           "#fde725"
          ]
         ],
         "opacity": 0.7,
         "scene": "scene",
         "showscale": true,
         "surfacecolor": {
          "bdata": "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",
          "dtype": "f4",
          "shape": "20, 20"
         },
         "type": "surface",
         "x": {
          "bdata": "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",
          "dtype": "f8",
          "shape": "20, 20"
         },
         "y": {
          "bdata": "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",
          "dtype": "f8",
          "shape": "20, 20"
         },
         "z": {
          "bdata": "AAAAAAAAAAAAAAAAAAAAAAAAAAAAAAAAAAAAAAAAAAAAAAAAAAAAAAAAAAAAAAAAAAAAAAAAAAAAAAAAAAAAAAAAAAAAAAAAAAAAAAAAAAAAAAAAAAAAAAAAAAAAAAAAAAAAAAAAAAAAAAAAAAAAAAAAAAAAAAAAAAAAAAAAAAAAAAAAAAAAAAAAAAAAAAAAAAAAAAAAAAAAAAAAAAAAAAAAAAAAAAAAAAAAAAAAAAAAAAAAAAAAAAAAAAAAAAAAAAAAAAAAAAAAAAAAAAAAAAAAAAAAAAAAAAAAAAAAAAAAAAAAAAAAAAAAAAAAAAAAAAAAAAAAAAAAAAAAAAAAAAAAAAAAAAAAAAAAAAAAAAAAAAAAAAAAAAAAAAAAAAAAAAAAAAAAAAAAAAAAAAAAAAAAAAAAAAAAAAAAAAAAAAAAAAAAAAAAAAAAAAAAAAAAAAAAAAAAAAAAAAAAAAAAAAAAAAAAAAAAAAAAAAAAAAAAAAAAAAAAAAAAAAAAAAAAAAAAAAAAAAAAAAAAAAAAAAAAAAAAAAAAAAAAAAAAAAAAAAAAAAAAAAAAAAAAAAAAAAAAAAAAAAAAAAAAAAAAAAAAAAAAAAAAAAAAAAAAAAAAAAAAAAAAAAAAAAAAAAAAAAAAAAAAAAAAAAAAAAAAAAAAAAAAAAAAAAAAAAAAAAAAAAAAAAAAAAAAAAAAAAAAAAAAAAAAAAAAAAAAAAAAAAAAAAAAAAAAAAAAAAAAAAAAAAAAAAAAAAAAAAAAAAAAAAAAAAAAAAAAAAAAAAAAAAAAAAAAAAAAAAAAAAAAAAAAAAAAAAAAAAAAAAAAAAAAAAAAAAAAAAAAAAAAAAAAAAAAAAAAAAAAAAAAAAAAAAAAAAAAAAAAAAAAAAAAAAAAAAAAAAAAAAAAAAAAAAAAAAAAAAAAAAAAAAAAAAAAAAAAAAAAAAAAAAAAAAAAAAAAAAAAAAAAAAAAAAAAAAAAAAAAAAAAAAAAAAAAAAAAAAAAAAAAAAAAAAAAAAAAAAAAAAAAAAAAAAAAAAAAAAAAAAAAAAAAAAAAAAAAAAAAAAAAAAAAAAAAAAAAAAAAAAAAAAAAAAAAAAAAAAAAAAAAAAAAAAAAAAAAAAAAAAAAAAAAAAAAAAAAAAAAAAAAAAAAAAAAAAAAAAAAAAAAAAAAAAAAAAAAAAAAAAAAAAAAAAAAAAAAAAAAAAAAAAAAAAAAAAAAAAAAAAAAAAAAAAAAAAAAAAAAAAAAAAAAAAAAAAAAAAAAAAAAAAAAAAAAAAAAAAAAAAAAAAAAAAAAAAAAAAAAAAAAAAAAAAAAAAAAAAAAAAAAAAAAAAAAAAAAAAAAAAAAAAAAAAAAAAAAAAAAAAAAAAAAAAAAAAAAAAAAAAAAAAAAAAAAAAAAAAAAAAAAAAAAAAAAAAAAAAAAAAAAAAAAAAAAAAAAAAAAAAAAAAAAAAAAAAAAAAAAAAAAAAAAAAAAAAAAAAAAAAAAAAAAAAAAAAAAAAAAAAAAAAAAAAAAAAAAAAAAAAAAAAAAAAAAAAAAAAAAAAAAAAAAAAAAAAAAAAAAAAAAAAAAAAAAAAAAAAAAAAAAAAAAAAAAAAAAAAAAAAAAAAAAAAAAAAAAAAAAAAAAAAAAAAAAAAAAAAAAAAAAAAAAAAAAAAAAAAAAAAAAAAAAAAAAAAAAAAAAAAAAAAAAAAAAAAAAAAAAAAAAAAAAAAAAAAAAAAAAAAAAAAAAAAAAAAAAAAAAAAAAAAAAAAAAAAAAAAAAAAAAAAAAAAAAAAAAAAAAAAAAAAAAAAAAAAAAAAAAAAAAAAAAAAAAAAAAAAAAAAAAAAAAAAAAAAAAAAAAAAAAAAAAAAAAAAAAAAAAAAAAAAAAAAAAAAAAAAAAAAAAAAAAAAAAAAAAAAAAAAAAAAAAAAAAAAAAAAAAAAAAAAAAAAAAAAAAAAAAAAAAAAAAAAAAAAAAAAAAAAAAAAAAAAAAAAAAAAAAAAAAAAAAAAAAAAAAAAAAAAAAAAAAAAAAAAAAAAAAAAAAAAAAAAAAAAAAAAAAAAAAAAAAAAAAAAAAAAAAAAAAAAAAAAAAAAAAAAAAAAAAAAAAAAAAAAAAAAAAAAAAAAAAAAAAAAAAAAAAAAAAAAAAAAAAAAAAAAAAAAAAAAAAAAAAAAAAAAAAAAAAAAAAAAAAAAAAAAAAAAAAAAAAAAAAAAAAAAAAAAAAAAAAAAAAAAAAAAAAAAAAAAAAAAAAAAAAAAAAAAAAAAAAAAAAAAAAAAAAAAAAAAAAAAAAAAAAAAAAAAAAAAAAAAAAAAAAAAAAAAAAAAAAAAAAAAAAAAAAAAAAAAAAAAAAAAAAAAAAAAAAAAAAAAAAAAAAAAAAAAAAAAAAAAAAAAAAAAAAAAAAAAAAAAAAAAAAAAAAAAAAAAAAAAAAAAAAAAAAAAAAAAAAAAAAAAAAAAAAAAAAAAAAAAAAAAAAAAAAAAAAAAAAAAAAAAAAAAAAAAAAAAAAAAAAAAAAAAAAAAAAAAAAAAAAAAAAAAAAAAAAAAAAAAAAAAAAAAAAAAAAAAAAAAAAAAAAAAAAAAAAAAAAAAAAAAAAAAAAAAAAAAAAAAAAAAAAAAAAAAAAAAAAAAAAAAAAAAAAAAAAAAAAAAAAAAAAAAAAAAAAAAAAAAAAAAAAAAAAAAAAAAAAAAAAAAAAAAAAAAAAAAAAAAAAAAAAAAAAAAAAAAAAAAAAAAAAAAAAAAAAAAAAAAAAAAAAAAAAAAAAAAAAAAAAAAAAAAAAAAAAAAAAAAAAAAAAAAAAAAAAAAAAAAAAAAAAAAAAAAAAAAAAAAAAAAAAAAAAAAAAAAAAAAAAAAAAAAAAAAAAAAAAAAAAAAAAAAAAAAAAAAAAAAAAAAAAAAAAAAAAAAAAAAAAAAAAAAAAAAAAAAAAAAAAAAAAAAAAAAAAAAAAAAAAAAAAAAAAAAAAAAAAAAAAAAAAAAAAAAAAAAAAAAAAAAAAAAAAAAAAAAAAAAAAAAAAAAAAAAAAAAAAAAAAAAAAAAAAAAAAAAAAAAAAAAAAAAAAAAAAAAAAAAAAAAAAAAAAAAAAAAAAAAAAAAAAAAAAAAAAAAAAAAAAAAAAAAAAAAAAAAAAAAAAAAAAAAAAAAAAAAAAAAAAAAAAAAAAAAAAAAAAAAAAAAAAAAAAAAAAAAAAAAAAAAAAAAAAAAAAAAAAAAAAAAAAAAAAAAAAAAAAAAAAAAAAAAAAAAAAAAAAAAAAAAAAAAAAAAAAAAAAAAAAAAAAAAAAAAAAAAAAAAAAAAAAAAAAAAAAAAAAAAAAAAAAAAAAAAAAAAAAAAAAAAAAAAAAAAAAAAAAAAAAAAAAAAAAAAAAAAAAAAAAAAAAAAAAAAAAAAAAAAAAAAAAAAAAAAAAAAAAAAAAAAAAAAAAAAAAAAAAAAAAAAAAAAAAAAAAAAAAAAAAAAAAAAAAAAAAAAAAAAAAAAAAAAAAAAAAAAAAAAAAAAAAAAAAAAAAAAAAAAAAAAAAAAAAAAAAAAAAAAAAAAAAAAAAAAAAAAAAAAAAAAAAAAAAAAAAAAAAAAAAAAAAAAAAAAAAAAAAAAAAAAAAAAAAAAAAAAAAAAAAAAAAAAAAAAAAAAAAAAAAAAAAAAAAAAAAAAAAAAAAAAAAAAAAAAAAAAAAAAAAAAAAAAAAAAAAAAAAAAAAAAAAAAAAAAAAAAAAAAAAAAAAAAAAAAAAAAAAAAAAAAAAAAAAAAAAAAAAAAAAAAAAAAAAAAAAAAAAAAAAAAAAAAAAAAAAAAAAAAAAAAAAAAAAAAAAAAAAAAAAAAAAAAAAAAAAAAAAAAAAAAAAAAAAAAAAAAAAAAAAAAAAAAAAAAAAAAAAAAAAAAAAAAAAAAAAAAAAAAAAAAAAAAAAAAAAAAAAAAAAAAAAAAAAAAAAAAAAAAAAAAAAAAAAAAAAAAAAAAAAAAAAAAAAAAAAAAAAAAAAAAAAAAAAAAAAAAAAAAAAAAAAAAAAAAAAAAAAAAAAAAAAAAAAAAAAAAAAAAAAAAAAAAAAAAAAAAAAAAAAAAAAAAAAAAAAAAAAAAAAAAAAAAAAAAAAAAAAAAAAAAAAAAAAAAAAAAAAAAAAAAAAAAAAAAAAAAAAAAAAAAAAAAAAAAAAAAAAAAAAAAAAAAAAAAAAAAAAAAAAAAAAAAAAAAAAAAAAAAAAAAAAAAAAAAAAAAAAAAAAAAAAAAAAAAAAAAAAAAAAAAAAAAAAAAAAAAAAAAAAAAAAAAAAAAAAAAAAAAAAAAAAAAAAAAA=",
          "dtype": "f8",
          "shape": "20, 20"
         }
        },
        {
         "cmax": 46.71140670776367,
         "cmin": 0.43323537707328796,
         "colorscale": [
          [
           0,
           "#440154"
          ],
          [
           0.1111111111111111,
           "#482878"
          ],
          [
           0.2222222222222222,
           "#3e4989"
          ],
          [
           0.3333333333333333,
           "#31688e"
          ],
          [
           0.4444444444444444,
           "#26828e"
          ],
          [
           0.5555555555555556,
           "#1f9e89"
          ],
          [
           0.6666666666666666,
           "#35b779"
          ],
          [
           0.7777777777777778,
           "#6ece58"
          ],
          [
           0.8888888888888888,
           "#b5de2b"
          ],
          [
           1,
           "#fde725"
          ]
         ],
         "opacity": 0.7,
         "scene": "scene2",
         "showscale": true,
         "surfacecolor": {
          "bdata": "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",
          "dtype": "f4",
          "shape": "20, 20"
         },
         "type": "surface",
         "x": {
          "bdata": "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",
          "dtype": "f8",
          "shape": "20, 20"
         },
         "y": {
          "bdata": "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",
          "dtype": "f8",
          "shape": "20, 20"
         },
         "z": {
          "bdata": "AAAAAAAAAAAAAAAAAAAAAAAAAAAAAAAAAAAAAAAAAAAAAAAAAAAAAAAAAAAAAAAAAAAAAAAAAAAAAAAAAAAAAAAAAAAAAAAAAAAAAAAAAAAAAAAAAAAAAAAAAAAAAAAAAAAAAAAAAAAAAAAAAAAAAAAAAAAAAAAAAAAAAAAAAAAAAAAAAAAAAAAAAAAAAAAAAAAAAAAAAAAAAAAAAAAAAAAAAAAAAAAAAAAAAAAAAAAAAAAAAAAAAAAAAAAAAAAAAAAAAAAAAAAAAAAAAAAAAAAAAAAAAAAAAAAAAAAAAAAAAAAAAAAAAAAAAAAAAAAAAAAAAAAAAAAAAAAAAAAAAAAAAAAAAAAAAAAAAAAAAAAAAAAAAAAAAAAAAAAAAAAAAAAAAAAAAAAAAAAAAAAAAAAAAAAAAAAAAAAAAAAAAAAAAAAAAAAAAAAAAAAAAAAAAAAAAAAAAAAAAAAAAAAAAAAAAAAAAAAAAAAAAAAAAAAAAAAAAAAAAAAAAAAAAAAAAAAAAAAAAAAAAAAAAAAAAAAAAAAAAAAAAAAAAAAAAAAAAAAAAAAAAAAAAAAAAAAAAAAAAAAAAAAAAAAAAAAAAAAAAAAAAAAAAAAAAAAAAAAAAAAAAAAAAAAAAAAAAAAAAAAAAAAAAAAAAAAAAAAAAAAAAAAAAAAAAAAAAAAAAAAAAAAAAAAAAAAAAAAAAAAAAAAAAAAAAAAAAAAAAAAAAAAAAAAAAAAAAAAAAAAAAAAAAAAAAAAAAAAAAAAAAAAAAAAAAAAAAAAAAAAAAAAAAAAAAAAAAAAAAAAAAAAAAAAAAAAAAAAAAAAAAAAAAAAAAAAAAAAAAAAAAAAAAAAAAAAAAAAAAAAAAAAAAAAAAAAAAAAAAAAAAAAAAAAAAAAAAAAAAAAAAAAAAAAAAAAAAAAAAAAAAAAAAAAAAAAAAAAAAAAAAAAAAAAAAAAAAAAAAAAAAAAAAAAAAAAAAAAAAAAAAAAAAAAAAAAAAAAAAAAAAAAAAAAAAAAAAAAAAAAAAAAAAAAAAAAAAAAAAAAAAAAAAAAAAAAAAAAAAAAAAAAAAAAAAAAAAAAAAAAAAAAAAAAAAAAAAAAAAAAAAAAAAAAAAAAAAAAAAAAAAAAAAAAAAAAAAAAAAAAAAAAAAAAAAAAAAAAAAAAAAAAAAAAAAAAAAAAAAAAAAAAAAAAAAAAAAAAAAAAAAAAAAAAAAAAAAAAAAAAAAAAAAAAAAAAAAAAAAAAAAAAAAAAAAAAAAAAAAAAAAAAAAAAAAAAAAAAAAAAAAAAAAAAAAAAAAAAAAAAAAAAAAAAAAAAAAAAAAAAAAAAAAAAAAAAAAAAAAAAAAAAAAAAAAAAAAAAAAAAAAAAAAAAAAAAAAAAAAAAAAAAAAAAAAAAAAAAAAAAAAAAAAAAAAAAAAAAAAAAAAAAAAAAAAAAAAAAAAAAAAAAAAAAAAAAAAAAAAAAAAAAAAAAAAAAAAAAAAAAAAAAAAAAAAAAAAAAAAAAAAAAAAAAAAAAAAAAAAAAAAAAAAAAAAAAAAAAAAAAAAAAAAAAAAAAAAAAAAAAAAAAAAAAAAAAAAAAAAAAAAAAAAAAAAAAAAAAAAAAAAAAAAAAAAAAAAAAAAAAAAAAAAAAAAAAAAAAAAAAAAAAAAAAAAAAAAAAAAAAAAAAAAAAAAAAAAAAAAAAAAAAAAAAAAAAAAAAAAAAAAAAAAAAAAAAAAAAAAAAAAAAAAAAAAAAAAAAAAAAAAAAAAAAAAAAAAAAAAAAAAAAAAAAAAAAAAAAAAAAAAAAAAAAAAAAAAAAAAAAAAAAAAAAAAAAAAAAAAAAAAAAAAAAAAAAAAAAAAAAAAAAAAAAAAAAAAAAAAAAAAAAAAAAAAAAAAAAAAAAAAAAAAAAAAAAAAAAAAAAAAAAAAAAAAAAAAAAAAAAAAAAAAAAAAAAAAAAAAAAAAAAAAAAAAAAAAAAAAAAAAAAAAAAAAAAAAAAAAAAAAAAAAAAAAAAAAAAAAAAAAAAAAAAAAAAAAAAAAAAAAAAAAAAAAAAAAAAAAAAAAAAAAAAAAAAAAAAAAAAAAAAAAAAAAAAAAAAAAAAAAAAAAAAAAAAAAAAAAAAAAAAAAAAAAAAAAAAAAAAAAAAAAAAAAAAAAAAAAAAAAAAAAAAAAAAAAAAAAAAAAAAAAAAAAAAAAAAAAAAAAAAAAAAAAAAAAAAAAAAAAAAAAAAAAAAAAAAAAAAAAAAAAAAAAAAAAAAAAAAAAAAAAAAAAAAAAAAAAAAAAAAAAAAAAAAAAAAAAAAAAAAAAAAAAAAAAAAAAAAAAAAAAAAAAAAAAAAAAAAAAAAAAAAAAAAAAAAAAAAAAAAAAAAAAAAAAAAAAAAAAAAAAAAAAAAAAAAAAAAAAAAAAAAAAAAAAAAAAAAAAAAAAAAAAAAAAAAAAAAAAAAAAAAAAAAAAAAAAAAAAAAAAAAAAAAAAAAAAAAAAAAAAAAAAAAAAAAAAAAAAAAAAAAAAAAAAAAAAAAAAAAAAAAAAAAAAAAAAAAAAAAAAAAAAAAAAAAAAAAAAAAAAAAAAAAAAAAAAAAAAAAAAAAAAAAAAAAAAAAAAAAAAAAAAAAAAAAAAAAAAAAAAAAAAAAAAAAAAAAAAAAAAAAAAAAAAAAAAAAAAAAAAAAAAAAAAAAAAAAAAAAAAAAAAAAAAAAAAAAAAAAAAAAAAAAAAAAAAAAAAAAAAAAAAAAAAAAAAAAAAAAAAAAAAAAAAAAAAAAAAAAAAAAAAAAAAAAAAAAAAAAAAAAAAAAAAAAAAAAAAAAAAAAAAAAAAAAAAAAAAAAAAAAAAAAAAAAAAAAAAAAAAAAAAAAAAAAAAAAAAAAAAAAAAAAAAAAAAAAAAAAAAAAAAAAAAAAAAAAAAAAAAAAAAAAAAAAAAAAAAAAAAAAAAAAAAAAAAAAAAAAAAAAAAAAAAAAAAAAAAAAAAAAAAAAAAAAAAAAAAAAAAAAAAAAAAAAAAAAAAAAAAAAAAAAAAAAAAAAAAAAAAAAAAAAAAAAAAAAAAAAAAAAAAAAAAAAAAAAAAAAAAAAAAAAAAAAAAAAAAAAAAAAAAAAAAAAAAAAAAAAAAAAAAAAAAAAAAAAAAAAAAAAAAAAAAAAAAAAAAAAAAAAAAAAAAAAAAAAAAAAAAAAAAAAAAAAAAAAAAAAAAAAAAAAAAAAAAAAAAAAAAAAAAAAAAAAAAAAAAAAAAAAAAAAAAAAAAAAAAAAAAAAAAAAAAAAAAAAAAAAAAAAAAAAAAAAAAAAAAAAAAAAAAAAAAAAAAAAAAAAAAAAAAAAAAAAAAAAAAAAAAAAAAAAAAAAAAAAAAAAAAAAAAAAAAAAAAAAAAAAAAAAAAAAAAAAAAAAAAAAAAAAAAAAAAAAAAAAAAAAAAAAAAAAAAAAAAAAAAAAAAAAAAAAAAAAAAAAAAAAAAAAAAAAAAAAAAAAAAAAAAAAAAAAAAAAAAAAAAAAAAAAAAAAAAAAAAAAAAAAAAAAAAAAAAAAAAAAAAAAAAAAAAAAAAAAAAAAAAAAAAAAAAAAAAAAAAAAAAAAAAAAAAAAAAAAAAAAAAAAAAAAAAAAAAAAAAAAAAAAAAAAAAAAAAAAAAAAAAAAAAAAAAAAAAAAAAAAAAAAAAAAAAAAAAAAAAAAAAAAAAAAAAAAAAAAAAAAAAAAAAAAAAAAAAAAAAAAAAAAAAAAAAAAAAAAAAAAAAAAAAAAAAAAAAAAAAAAAAAAAAAAAAAAAAAAAAAAAAAAAAAAAAAAAAAAAAAAAAAAAAAAAAAAAAAAAAAAAAAAAAAAAAAAAAAAAAAAAAAAAAAAAAAAAAAAAAAAAAAAAAAAAAAAAAAAAAAAAAAAAAAAAAAAAAAAAAAAAAAAAAAAAAAAAAAAAAAAAAAAAAAAAAAAAAAAAAAAAAAAAAAAAAAAAAAAAAAAAAAAAAAAAAAAAAAAAAAAAAAAAAAAAAAAAAAAAAAAAAAAAAAAAAAAAAAAAAAAAAAAAAAAAAAAAAAAAAAAAAAAAAAAAAAAAAAAAAAAAAAAAAAAAAAAAAAAAAAAAAAAAAAAAAAAAAAAAAAAAAAAAAAAAAAAAAAAAAAAAAAAAAAAAAAAAAAAAAAAAAAAAAAAAAAAAAAAAAAAAAAAAAAAAAAAAAAAAAAAAAAAAAAAAAAAAAAAAAAAAAAAAAAAAAAAAAAAAAAAAAAAAAAAAAAAAAAAAAAAAAAAAAAAAAAAAAAAAAAAAAAAAAAAAAAAAAAAAAAAAAAAAAAAAAAAAAAAAAAAAAAA=",
          "dtype": "f8",
          "shape": "20, 20"
         }
        },
        {
         "cmax": 46.71140670776367,
         "cmin": 0.43323537707328796,
         "colorscale": [
          [
           0,
           "#440154"
          ],
          [
           0.1111111111111111,
           "#482878"
          ],
          [
           0.2222222222222222,
           "#3e4989"
          ],
          [
           0.3333333333333333,
           "#31688e"
          ],
          [
           0.4444444444444444,
           "#26828e"
          ],
          [
           0.5555555555555556,
           "#1f9e89"
          ],
          [
           0.6666666666666666,
           "#35b779"
          ],
          [
           0.7777777777777778,
           "#6ece58"
          ],
          [
           0.8888888888888888,
           "#b5de2b"
          ],
          [
           1,
           "#fde725"
          ]
         ],
         "opacity": 0.7,
         "scene": "scene3",
         "showscale": true,
         "surfacecolor": {
          "bdata": "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",
          "dtype": "f4",
          "shape": "20, 20"
         },
         "type": "surface",
         "x": {
          "bdata": "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",
          "dtype": "f8",
          "shape": "20, 20"
         },
         "y": {
          "bdata": "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",
          "dtype": "f8",
          "shape": "20, 20"
         },
         "z": {
          "bdata": "AAAAAAAAAAAAAAAAAAAAAAAAAAAAAAAAAAAAAAAAAAAAAAAAAAAAAAAAAAAAAAAAAAAAAAAAAAAAAAAAAAAAAAAAAAAAAAAAAAAAAAAAAAAAAAAAAAAAAAAAAAAAAAAAAAAAAAAAAAAAAAAAAAAAAAAAAAAAAAAAAAAAAAAAAAAAAAAAAAAAAAAAAAAAAAAAAAAAAAAAAAAAAAAAAAAAAAAAAAAAAAAAAAAAAAAAAAAAAAAAAAAAAAAAAAAAAAAAAAAAAAAAAAAAAAAAAAAAAAAAAAAAAAAAAAAAAAAAAAAAAAAAAAAAAAAAAAAAAAAAAAAAAAAAAAAAAAAAAAAAAAAAAAAAAAAAAAAAAAAAAAAAAAAAAAAAAAAAAAAAAAAAAAAAAAAAAAAAAAAAAAAAAAAAAAAAAAAAAAAAAAAAAAAAAAAAAAAAAAAAAAAAAAAAAAAAAAAAAAAAAAAAAAAAAAAAAAAAAAAAAAAAAAAAAAAAAAAAAAAAAAAAAAAAAAAAAAAAAAAAAAAAAAAAAAAAAAAAAAAAAAAAAAAAAAAAAAAAAAAAAAAAAAAAAAAAAAAAAAAAAAAAAAAAAAAAAAAAAAAAAAAAAAAAAAAAAAAAAAAAAAAAAAAAAAAAAAAAAAAAAAAAAAAAAAAAAAAAAAAAAAAAAAAAAAAAAAAAAAAAAAAAAAAAAAAAAAAAAAAAAAAAAAAAAAAAAAAAAAAAAAAAAAAAAAAAAAAAAAAAAAAAAAAAAAAAAAAAAAAAAAAAAAAAAAAAAAAAAAAAAAAAAAAAAAAAAAAAAAAAAAAAAAAAAAAAAAAAAAAAAAAAAAAAAAAAAAAAAAAAAAAAAAAAAAAAAAAAAAAAAAAAAAAAAAAAAAAAAAAAAAAAAAAAAAAAAAAAAAAAAAAAAAAAAAAAAAAAAAAAAAAAAAAAAAAAAAAAAAAAAAAAAAAAAAAAAAAAAAAAAAAAAAAAAAAAAAAAAAAAAAAAAAAAAAAAAAAAAAAAAAAAAAAAAAAAAAAAAAAAAAAAAAAAAAAAAAAAAAAAAAAAAAAAAAAAAAAAAAAAAAAAAAAAAAAAAAAAAAAAAAAAAAAAAAAAAAAAAAAAAAAAAAAAAAAAAAAAAAAAAAAAAAAAAAAAAAAAAAAAAAAAAAAAAAAAAAAAAAAAAAAAAAAAAAAAAAAAAAAAAAAAAAAAAAAAAAAAAAAAAAAAAAAAAAAAAAAAAAAAAAAAAAAAAAAAAAAAAAAAAAAAAAAAAAAAAAAAAAAAAAAAAAAAAAAAAAAAAAAAAAAAAAAAAAAAAAAAAAAAAAAAAAAAAAAAAAAAAAAAAAAAAAAAAAAAAAAAAAAAAAAAAAAAAAAAAAAAAAAAAAAAAAAAAAAAAAAAAAAAAAAAAAAAAAAAAAAAAAAAAAAAAAAAAAAAAAAAAAAAAAAAAAAAAAAAAAAAAAAAAAAAAAAAAAAAAAAAAAAAAAAAAAAAAAAAAAAAAAAAAAAAAAAAAAAAAAAAAAAAAAAAAAAAAAAAAAAAAAAAAAAAAAAAAAAAAAAAAAAAAAAAAAAAAAAAAAAAAAAAAAAAAAAAAAAAAAAAAAAAAAAAAAAAAAAAAAAAAAAAAAAAAAAAAAAAAAAAAAAAAAAAAAAAAAAAAAAAAAAAAAAAAAAAAAAAAAAAAAAAAAAAAAAAAAAAAAAAAAAAAAAAAAAAAAAAAAAAAAAAAAAAAAAAAAAAAAAAAAAAAAAAAAAAAAAAAAAAAAAAAAAAAAAAAAAAAAAAAAAAAAAAAAAAAAAAAAAAAAAAAAAAAAAAAAAAAAAAAAAAAAAAAAAAAAAAAAAAAAAAAAAAAAAAAAAAAAAAAAAAAAAAAAAAAAAAAAAAAAAAAAAAAAAAAAAAAAAAAAAAAAAAAAAAAAAAAAAAAAAAAAAAAAAAAAAAAAAAAAAAAAAAAAAAAAAAAAAAAAAAAAAAAAAAAAAAAAAAAAAAAAAAAAAAAAAAAAAAAAAAAAAAAAAAAAAAAAAAAAAAAAAAAAAAAAAAAAAAAAAAAAAAAAAAAAAAAAAAAAAAAAAAAAAAAAAAAAAAAAAAAAAAAAAAAAAAAAAAAAAAAAAAAAAAAAAAAAAAAAAAAAAAAAAAAAAAAAAAAAAAAAAAAAAAAAAAAAAAAAAAAAAAAAAAAAAAAAAAAAAAAAAAAAAAAAAAAAAAAAAAAAAAAAAAAAAAAAAAAAAAAAAAAAAAAAAAAAAAAAAAAAAAAAAAAAAAAAAAAAAAAAAAAAAAAAAAAAAAAAAAAAAAAAAAAAAAAAAAAAAAAAAAAAAAAAAAAAAAAAAAAAAAAAAAAAAAAAAAAAAAAAAAAAAAAAAAAAAAAAAAAAAAAAAAAAAAAAAAAAAAAAAAAAAAAAAAAAAAAAAAAAAAAAAAAAAAAAAAAAAAAAAAAAAAAAAAAAAAAAAAAAAAAAAAAAAAAAAAAAAAAAAAAAAAAAAAAAAAAAAAAAAAAAAAAAAAAAAAAAAAAAAAAAAAAAAAAAAAAAAAAAAAAAAAAAAAAAAAAAAAAAAAAAAAAAAAAAAAAAAAAAAAAAAAAAAAAAAAAAAAAAAAAAAAAAAAAAAAAAAAAAAAAAAAAAAAAAAAAAAAAAAAAAAAAAAAAAAAAAAAAAAAAAAAAAAAAAAAAAAAAAAAAAAAAAAAAAAAAAAAAAAAAAAAAAAAAAAAAAAAAAAAAAAAAAAAAAAAAAAAAAAAAAAAAAAAAAAAAAAAAAAAAAAAAAAAAAAAAAAAAAAAAAAAAAAAAAAAAAAAAAAAAAAAAAAAAAAAAAAAAAAAAAAAAAAAAAAAAAAAAAAAAAAAAAAAAAAAAAAAAAAAAAAAAAAAAAAAAAAAAAAAAAAAAAAAAAAAAAAAAAAAAAAAAAAAAAAAAAAAAAAAAAAAAAAAAAAAAAAAAAAAAAAAAAAAAAAAAAAAAAAAAAAAAAAAAAAAAAAAAAAAAAAAAAAAAAAAAAAAAAAAAAAAAAAAAAAAAAAAAAAAAAAAAAAAAAAAAAAAAAAAAAAAAAAAAAAAAAAAAAAAAAAAAAAAAAAAAAAAAAAAAAAAAAAAAAAAAAAAAAAAAAAAAAAAAAAAAAAAAAAAAAAAAAAAAAAAAAAAAAAAAAAAAAAAAAAAAAAAAAAAAAAAAAAAAAAAAAAAAAAAAAAAAAAAAAAAAAAAAAAAAAAAAAAAAAAAAAAAAAAAAAAAAAAAAAAAAAAAAAAAAAAAAAAAAAAAAAAAAAAAAAAAAAAAAAAAAAAAAAAAAAAAAAAAAAAAAAAAAAAAAAAAAAAAAAAAAAAAAAAAAAAAAAAAAAAAAAAAAAAAAAAAAAAAAAAAAAAAAAAAAAAAAAAAAAAAAAAAAAAAAAAAAAAAAAAAAAAAAAAAAAAAAAAAAAAAAAAAAAAAAAAAAAAAAAAAAAAAAAAAAAAAAAAAAAAAAAAAAAAAAAAAAAAAAAAAAAAAAAAAAAAAAAAAAAAAAAAAAAAAAAAAAAAAAAAAAAAAAAAAAAAAAAAAAAAAAAAAAAAAAAAAAAAAAAAAAAAAAAAAAAAAAAAAAAAAAAAAAAAAAAAAAAAAAAAAAAAAAAAAAAAAAAAAAAAAAAAAAAAAAAAAAAAAAAAAAAAAAAAAAAAAAAAAAAAAAAAAAAAAAAAAAAAAAAAAAAAAAAAAAAAAAAAAAAAAAAAAAAAAAAAAAAAAAAAAAAAAAAAAAAAAAAAAAAAAAAAAAAAAAAAAAAAAAAAAAAAAAAAAAAAAAAAAAAAAAAAAAAAAAAAAAAAAAAAAAAAAAAAAAAAAAAAAAAAAAAAAAAAAAAAAAAAAAAAAAAAAAAAAAAAAAAAAAAAAAAAAAAAAAAAAAAAAAAAAAAAAAAAAAAAAAAAAAAAAAAAAAAAAAAAAAAAAAAAAAAAAAAAAAAAAAAAAAAAAAAAAAAAAAAAAAAAAAAAAAAAAAAAAAAAAAAAAAAAAAAAAAAAAAAAAAAAAAAAAAAAAAAAAAAAAAAAAAAAAAAAAAAAAAAAAAAAAAAAAAAAAAAAAAAAAAAAAAAAAAAAAAAAAAAAAAAAAAAAAAAAAAAAAAAAAAAAAAAAAAAAAAAAAAAAAAAAAAAAAAAAAAAAAAAAAAAAAAAAAAAAAAAAAAAAAAAAAAAAAAAAAAAAAAAAAAAAAAAAAAAAAAAAAAAAAAAAAAAAAAAAAAAAAAAAAAAAAAAAAAAAAAAAAAAAAAAAAAAAAAAAAAAAAAAAAAAAAAAAAAAAAAAAAAAAAAAAAAAAAAAAAAAAAAAAAAAAAAAAAAAAAAAAAAAA=",
          "dtype": "f8",
          "shape": "20, 20"
         }
        },
        {
         "cmax": 46.71140670776367,
         "cmin": 0.43323537707328796,
         "colorscale": [
          [
           0,
           "#440154"
          ],
          [
           0.1111111111111111,
           "#482878"
          ],
          [
           0.2222222222222222,
           "#3e4989"
          ],
          [
           0.3333333333333333,
           "#31688e"
          ],
          [
           0.4444444444444444,
           "#26828e"
          ],
          [
           0.5555555555555556,
           "#1f9e89"
          ],
          [
           0.6666666666666666,
           "#35b779"
          ],
          [
           0.7777777777777778,
           "#6ece58"
          ],
          [
           0.8888888888888888,
           "#b5de2b"
          ],
          [
           1,
           "#fde725"
          ]
         ],
         "opacity": 0.7,
         "scene": "scene4",
         "showscale": true,
         "surfacecolor": {
          "bdata": "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",
          "dtype": "f4",
          "shape": "20, 20"
         },
         "type": "surface",
         "x": {
          "bdata": "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",
          "dtype": "f8",
          "shape": "20, 20"
         },
         "y": {
          "bdata": "AAAAAAAAAAAAAAAAAAAAAAAAAAAAAAAAAAAAAAAAAAAAAAAAAAAAAAAAAAAAAAAAAAAAAAAAAAAAAAAAAAAAAAAAAAAAAAAAAAAAAAAAAAAAAAAAAAAAAAAAAAAAAAAAAAAAAAAAAAAAAAAAAAAAAAAAAAAAAAAAAAAAAAAAAAAAAAAAAAAAAAAAAAAAAAAAAAAAAAAAAAAAAAAAAAAAACivobyG8qo/KK+hvIbyqj8or6G8hvKqPyivobyG8qo/KK+hvIbyqj8or6G8hvKqPyivobyG8qo/KK+hvIbyqj8or6G8hvKqPyivobyG8qo/KK+hvIbyqj8or6G8hvKqPyivobyG8qo/KK+hvIbyqj8or6G8hvKqPyivobyG8qo/KK+hvIbyqj8or6G8hvKqPyivobyG8qo/KK+hvIbyqj8or6G8hvK6PyivobyG8ro/KK+hvIbyuj8or6G8hvK6PyivobyG8ro/KK+hvIbyuj8or6G8hvK6PyivobyG8ro/KK+hvIbyuj8or6G8hvK6PyivobyG8ro/KK+hvIbyuj8or6G8hvK6PyivobyG8ro/KK+hvIbyuj8or6G8hvK6PyivobyG8ro/KK+hvIbyuj8or6G8hvK6PyivobyG8ro/XkN5DeU1xD9eQ3kN5TXEP15DeQ3lNcQ/XkN5DeU1xD9eQ3kN5TXEP15DeQ3lNcQ/XkN5DeU1xD9eQ3kN5TXEP15DeQ3lNcQ/XkN5DeU1xD9eQ3kN5TXEP15DeQ3lNcQ/XkN5DeU1xD9eQ3kN5TXEP15DeQ3lNcQ/XkN5DeU1xD9eQ3kN5TXEP15DeQ3lNcQ/XkN5DeU1xD9eQ3kN5TXEPyivobyG8so/KK+hvIbyyj8or6G8hvLKPyivobyG8so/KK+hvIbyyj8or6G8hvLKPyivobyG8so/KK+hvIbyyj8or6G8hvLKPyivobyG8so/KK+hvIbyyj8or6G8hvLKPyivobyG8so/KK+hvIbyyj8or6G8hvLKPyivobyG8so/KK+hvIbyyj8or6G8hvLKPyivobyG8so/KK+hvIbyyj95DeU1lNfQP3kN5TWU19A/eQ3lNZTX0D95DeU1lNfQP3kN5TWU19A/eQ3lNZTX0D95DeU1lNfQP3kN5TWU19A/eQ3lNZTX0D95DeU1lNfQP3kN5TWU19A/eQ3lNZTX0D95DeU1lNfQP3kN5TWU19A/eQ3lNZTX0D95DeU1lNfQP3kN5TWU19A/eQ3lNZTX0D95DeU1lNfQP3kN5TWU19A/XkN5DeU11D9eQ3kN5TXUP15DeQ3lNdQ/XkN5DeU11D9eQ3kN5TXUP15DeQ3lNdQ/XkN5DeU11D9eQ3kN5TXUP15DeQ3lNdQ/XkN5DeU11D9eQ3kN5TXUP15DeQ3lNdQ/XkN5DeU11D9eQ3kN5TXUP15DeQ3lNdQ/XkN5DeU11D9eQ3kN5TXUP15DeQ3lNdQ/XkN5DeU11D9eQ3kN5TXUP0N5DeU1lNc/Q3kN5TWU1z9DeQ3lNZTXP0N5DeU1lNc/Q3kN5TWU1z9DeQ3lNZTXP0N5DeU1lNc/Q3kN5TWU1z9DeQ3lNZTXP0N5DeU1lNc/Q3kN5TWU1z9DeQ3lNZTXP0N5DeU1lNc/Q3kN5TWU1z9DeQ3lNZTXP0N5DeU1lNc/Q3kN5TWU1z9DeQ3lNZTXP0N5DeU1lNc/Q3kN5TWU1z8or6G8hvLaPyivobyG8to/KK+hvIby2j8or6G8hvLaPyivobyG8to/KK+hvIby2j8or6G8hvLaPyivobyG8to/KK+hvIby2j8or6G8hvLaPyivobyG8to/KK+hvIby2j8or6G8hvLaPyivobyG8to/KK+hvIby2j8or6G8hvLaPyivobyG8to/KK+hvIby2j8or6G8hvLaPyivobyG8to/DeU1lNdQ3j8N5TWU11DePw3lNZTXUN4/DeU1lNdQ3j8N5TWU11DePw3lNZTXUN4/DeU1lNdQ3j8N5TWU11DePw3lNZTXUN4/DeU1lNdQ3j8N5TWU11DePw3lNZTXUN4/DeU1lNdQ3j8N5TWU11DePw3lNZTXUN4/DeU1lNdQ3j8N5TWU11DePw3lNZTXUN4/DeU1lNdQ3j8N5TWU11DeP3kN5TWU1+A/eQ3lNZTX4D95DeU1lNfgP3kN5TWU1+A/eQ3lNZTX4D95DeU1lNfgP3kN5TWU1+A/eQ3lNZTX4D95DeU1lNfgP3kN5TWU1+A/eQ3lNZTX4D95DeU1lNfgP3kN5TWU1+A/eQ3lNZTX4D95DeU1lNfgP3kN5TWU1+A/eQ3lNZTX4D95DeU1lNfgP3kN5TWU1+A/eQ3lNZTX4D9sKK+hvIbiP2wor6G8huI/bCivobyG4j9sKK+hvIbiP2wor6G8huI/bCivobyG4j9sKK+hvIbiP2wor6G8huI/bCivobyG4j9sKK+hvIbiP2wor6G8huI/bCivobyG4j9sKK+hvIbiP2wor6G8huI/bCivobyG4j9sKK+hvIbiP2wor6G8huI/bCivobyG4j9sKK+hvIbiP2wor6G8huI/XkN5DeU15D9eQ3kN5TXkP15DeQ3lNeQ/XkN5DeU15D9eQ3kN5TXkP15DeQ3lNeQ/XkN5DeU15D9eQ3kN5TXkP15DeQ3lNeQ/XkN5DeU15D9eQ3kN5TXkP15DeQ3lNeQ/XkN5DeU15D9eQ3kN5TXkP15DeQ3lNeQ/XkN5DeU15D9eQ3kN5TXkP15DeQ3lNeQ/XkN5DeU15D9eQ3kN5TXkP1BeQ3kN5eU/UF5DeQ3l5T9QXkN5DeXlP1BeQ3kN5eU/UF5DeQ3l5T9QXkN5DeXlP1BeQ3kN5eU/UF5DeQ3l5T9QXkN5DeXlP1BeQ3kN5eU/UF5DeQ3l5T9QXkN5DeXlP1BeQ3kN5eU/UF5DeQ3l5T9QXkN5DeXlP1BeQ3kN5eU/UF5DeQ3l5T9QXkN5DeXlP1BeQ3kN5eU/UF5DeQ3l5T9DeQ3lNZTnP0N5DeU1lOc/Q3kN5TWU5z9DeQ3lNZTnP0N5DeU1lOc/Q3kN5TWU5z9DeQ3lNZTnP0N5DeU1lOc/Q3kN5TWU5z9DeQ3lNZTnP0N5DeU1lOc/Q3kN5TWU5z9DeQ3lNZTnP0N5DeU1lOc/Q3kN5TWU5z9DeQ3lNZTnP0N5DeU1lOc/Q3kN5TWU5z9DeQ3lNZTnP0N5DeU1lOc/NpTXUF5D6T82lNdQXkPpPzaU11BeQ+k/NpTXUF5D6T82lNdQXkPpPzaU11BeQ+k/NpTXUF5D6T82lNdQXkPpPzaU11BeQ+k/NpTXUF5D6T82lNdQXkPpPzaU11BeQ+k/NpTXUF5D6T82lNdQXkPpPzaU11BeQ+k/NpTXUF5D6T82lNdQXkPpPzaU11BeQ+k/NpTXUF5D6T82lNdQXkPpPyivobyG8uo/KK+hvIby6j8or6G8hvLqPyivobyG8uo/KK+hvIby6j8or6G8hvLqPyivobyG8uo/KK+hvIby6j8or6G8hvLqPyivobyG8uo/KK+hvIby6j8or6G8hvLqPyivobyG8uo/KK+hvIby6j8or6G8hvLqPyivobyG8uo/KK+hvIby6j8or6G8hvLqPyivobyG8uo/KK+hvIby6j8aymsor6HsPxrKayivoew/GsprKK+h7D8aymsor6HsPxrKayivoew/GsprKK+h7D8aymsor6HsPxrKayivoew/GsprKK+h7D8aymsor6HsPxrKayivoew/GsprKK+h7D8aymsor6HsPxrKayivoew/GsprKK+h7D8aymsor6HsPxrKayivoew/GsprKK+h7D8aymsor6HsPxrKayivoew/DeU1lNdQ7j8N5TWU11DuPw3lNZTXUO4/DeU1lNdQ7j8N5TWU11DuPw3lNZTXUO4/DeU1lNdQ7j8N5TWU11DuPw3lNZTXUO4/DeU1lNdQ7j8N5TWU11DuPw3lNZTXUO4/DeU1lNdQ7j8N5TWU11DuPw3lNZTXUO4/DeU1lNdQ7j8N5TWU11DuPw3lNZTXUO4/DeU1lNdQ7j8N5TWU11DuPwAAAAAAAPA/AAAAAAAA8D8AAAAAAADwPwAAAAAAAPA/AAAAAAAA8D8AAAAAAADwPwAAAAAAAPA/AAAAAAAA8D8AAAAAAADwPwAAAAAAAPA/AAAAAAAA8D8AAAAAAADwPwAAAAAAAPA/AAAAAAAA8D8AAAAAAADwPwAAAAAAAPA/AAAAAAAA8D8AAAAAAADwPwAAAAAAAPA/AAAAAAAA8D8=",
          "dtype": "f8",
          "shape": "20, 20"
         },
         "z": {
          "bdata": "AAAAAAAAAAAAAAAAAAAAAAAAAAAAAAAAAAAAAAAAAAAAAAAAAAAAAAAAAAAAAAAAAAAAAAAAAAAAAAAAAAAAAAAAAAAAAAAAAAAAAAAAAAAAAAAAAAAAAAAAAAAAAAAAAAAAAAAAAAAAAAAAAAAAAAAAAAAAAAAAAAAAAAAAAAAAAAAAAAAAAAAAAAAAAAAAAAAAAAAAAAAAAAAAAAAAAAAAAAAAAAAAAAAAAAAAAAAAAAAAAAAAAAAAAAAAAAAAAAAAAAAAAAAAAAAAAAAAAAAAAAAAAAAAAAAAAAAAAAAAAAAAAAAAAAAAAAAAAAAAAAAAAAAAAAAAAAAAAAAAAAAAAAAAAAAAAAAAAAAAAAAAAAAAAAAAAAAAAAAAAAAAAAAAAAAAAAAAAAAAAAAAAAAAAAAAAAAAAAAAAAAAAAAAAAAAAAAAAAAAAAAAAAAAAAAAAAAAAAAAAAAAAAAAAAAAAAAAAAAAAAAAAAAAAAAAAAAAAAAAAAAAAAAAAAAAAAAAAAAAAAAAAAAAAAAAAAAAAAAAAAAAAAAAAAAAAAAAAAAAAAAAAAAAAAAAAAAAAAAAAAAAAAAAAAAAAAAAAAAAAAAAAAAAAAAAAAAAAAAAAAAAAAAAAAAAAAAAAAAAAAAAAAAAAAAAAAAAAAAAAAAAAAAAAAAAAAAAAAAAAAAAAAAAAAAAAAAAAAAAAAAAAAAAAAAAAAAAAAAAAAAAAAAAAAAAAAAAAAAAAAAAAAAAAAAAAAAAAAAAAAAAAAAAAAAAAAAAAAAAAAAAAAAAAAAAAAAAAAAAAAAAAAAAAAAAAAAAAAAAAAAAAAAAAAAAAAAAAAAAAAAAAAAAAAAAAAAAAAAAAAAAAAAAAAAAAAAAAAAAAAAAAAAAAAAAAAAAAAAAAAAAAAAAAAAAAAAAAAAAAAAAAAAAAAAAAAAAAAAAAAAAAAAAAAAAAAAAAAAAAAAAAAAAAAAAAAAAAAAAAAAAAAAAAAAAAAAAAAAAAAAAAAAAAAAAAAAAAAAAAAAAAAAAAAAAAAAAAAAAAAAAAAAAAAAAAAAAAAAAAAAAAAAAAAAAAAAAAAAAAAAAAAAAAAAAAAAAAAAAAAAAAAAAAAAAAAAAAAAAAAAAAAAAAAAAAAAAAAAAAAAAAAAAAAAAAAAAAAAAAAAAAAAAAAAAAAAAAAAAAAAAAAAAAAAAAAAAAAAAAAAAAAAAAAAAAAAAAAAAAAAAAAAAAAAAAAAAAAAAAAAAAAAAAAAAAAAAAAAAAAAAAAAAAAAAAAAAAAAAAAAAAAAAAAAAAAAAAAAAAAAAAAAAAAAAAAAAAAAAAAAAAAAAAAAAAAAAAAAAAAAAAAAAAAAAAAAAAAAAAAAAAAAAAAAAAAAAAAAAAAAAAAAAAAAAAAAAAAAAAAAAAAAAAAAAAAAAAAAAAAAAAAAAAAAAAAAAAAAAAAAAAAAAAAAAAAAAAAAAAAAAAAAAAAAAAAAAAAAAAAAAAAAAAAAAAAAAAAAAAAAAAAAAAAAAAAAAAAAAAAAAAAAAAAAAAAAAAAAAAAAAAAAAAAAAAAAAAAAAAAAAAAAAAAAAAAAAAAAAAAAAAAAAAAAAAAAAAAAAAAAAAAAAAAAAAAAAAAAAAAAAAAAAAAAAAAAAAAAAAAAAAAAAAAAAAAAAAAAAAAAAAAAAAAAAAAAAAAAAAAAAAAAAAAAAAAAAAAAAAAAAAAAAAAAAAAAAAAAAAAAAAAAAAAAAAAAAAAAAAAAAAAAAAAAAAAAAAAAAAAAAAAAAAAAAAAAAAAAAAAAAAAAAAAAAAAAAAAAAAAAAAAAAAAAAAAAAAAAAAAAAAAAAAAAAAAAAAAAAAAAAAAAAAAAAAAAAAAAAAAAAAAAAAAAAAAAAAAAAAAAAAAAAAAAAAAAAAAAAAAAAAAAAAAAAAAAAAAAAAAAAAAAAAAAAAAAAAAAAAAAAAAAAAAAAAAAAAAAAAAAAAAAAAAAAAAAAAAAAAAAAAAAAAAAAAAAAAAAAAAAAAAAAAAAAAAAAAAAAAAAAAAAAAAAAAAAAAAAAAAAAAAAAAAAAAAAAAAAAAAAAAAAAAAAAAAAAAAAAAAAAAAAAAAAAAAAAAAAAAAAAAAAAAAAAAAAAAAAAAAAAAAAAAAAAAAAAAAAAAAAAAAAAAAAAAAAAAAAAAAAAAAAAAAAAAAAAAAAAAAAAAAAAAAAAAAAAAAAAAAAAAAAAAAAAAAAAAAAAAAAAAAAAAAAAAAAAAAAAAAAAAAAAAAAAAAAAAAAAAAAAAAAAAAAAAAAAAAAAAAAAAAAAAAAAAAAAAAAAAAAAAAAAAAAAAAAAAAAAAAAAAAAAAAAAAAAAAAAAAAAAAAAAAAAAAAAAAAAAAAAAAAAAAAAAAAAAAAAAAAAAAAAAAAAAAAAAAAAAAAAAAAAAAAAAAAAAAAAAAAAAAAAAAAAAAAAAAAAAAAAAAAAAAAAAAAAAAAAAAAAAAAAAAAAAAAAAAAAAAAAAAAAAAAAAAAAAAAAAAAAAAAAAAAAAAAAAAAAAAAAAAAAAAAAAAAAAAAAAAAAAAAAAAAAAAAAAAAAAAAAAAAAAAAAAAAAAAAAAAAAAAAAAAAAAAAAAAAAAAAAAAAAAAAAAAAAAAAAAAAAAAAAAAAAAAAAAAAAAAAAAAAAAAAAAAAAAAAAAAAAAAAAAAAAAAAAAAAAAAAAAAAAAAAAAAAAAAAAAAAAAAAAAAAAAAAAAAAAAAAAAAAAAAAAAAAAAAAAAAAAAAAAAAAAAAAAAAAAAAAAAAAAAAAAAAAAAAAAAAAAAAAAAAAAAAAAAAAAAAAAAAAAAAAAAAAAAAAAAAAAAAAAAAAAAAAAAAAAAAAAAAAAAAAAAAAAAAAAAAAAAAAAAAAAAAAAAAAAAAAAAAAAAAAAAAAAAAAAAAAAAAAAAAAAAAAAAAAAAAAAAAAAAAAAAAAAAAAAAAAAAAAAAAAAAAAAAAAAAAAAAAAAAAAAAAAAAAAAAAAAAAAAAAAAAAAAAAAAAAAAAAAAAAAAAAAAAAAAAAAAAAAAAAAAAAAAAAAAAAAAAAAAAAAAAAAAAAAAAAAAAAAAAAAAAAAAAAAAAAAAAAAAAAAAAAAAAAAAAAAAAAAAAAAAAAAAAAAAAAAAAAAAAAAAAAAAAAAAAAAAAAAAAAAAAAAAAAAAAAAAAAAAAAAAAAAAAAAAAAAAAAAAAAAAAAAAAAAAAAAAAAAAAAAAAAAAAAAAAAAAAAAAAAAAAAAAAAAAAAAAAAAAAAAAAAAAAAAAAAAAAAAAAAAAAAAAAAAAAAAAAAAAAAAAAAAAAAAAAAAAAAAAAAAAAAAAAAAAAAAAAAAAAAAAAAAAAAAAAAAAAAAAAAAAAAAAAAAAAAAAAAAAAAAAAAAAAAAAAAAAAAAAAAAAAAAAAAAAAAAAAAAAAAAAAAAAAAAAAAAAAAAAAAAAAAAAAAAAAAAAAAAAAAAAAAAAAAAAAAAAAAAAAAAAAAAAAAAAAAAAAAAAAAAAAAAAAAAAAAAAAAAAAAAAAAAAAAAAAAAAAAAAAAAAAAAAAAAAAAAAAAAAAAAAAAAAAAAAAAAAAAAAAAAAAAAAAAAAAAAAAAAAAAAAAAAAAAAAAAAAAAAAAAAAAAAAAAAAAAAAAAAAAAAAAAAAAAAAAAAAAAAAAAAAAAAAAAAAAAAAAAAAAAAAAAAAAAAAAAAAAAAAAAAAAAAAAAAAAAAAAAAAAAAAAAAAAAAAAAAAAAAAAAAAAAAAAAAAAAAAAAAAAAAAAAAAAAAAAAAAAAAAAAAAAAAAAAAAAAAAAAAAAAAAAAAAAAAAAAAAAAAAAAAAAAAAAAAAAAAAAAAAAAAAAAAAAAAAAAAAAAAAAAAAAAAAAAAAAAAAAAAAAAAAAAAAAAAAAAAAAAAAAAAAAAAAAAAAAAAAAAAAAAAAAAAAAAAAAAAAAAAAAAAAAAAAAAAAAAAAAAAAAAAAAAAAAAAAAAAAAAAAAAAAAAAAAAAAAAAAAAAAAAAAAAAAAAAAAAAAAAAAAAAAAAAAAAAAAAAAAAAAAAAAAAAAAAAAAAAAAAAAAAAAAAAAAAAAAAAAAAAAAAAAAAAAAAAAAAAAAAAAAAAAAAAAAAAAAAAAAAAAAAAAAAAAAAAAAAAAAAAAAAAAAAAAAAAAAAAAAAAAAAAAAAAAAAAAAAAAAAAAAAAAAAAAAAAAAAAAAAAAAAAAAAAAAAAAAAAAAAAAAAAAAAAAAAAAAAAAAAAAAAAAAAAAAAAAAAAAAAAAAAAAAAAAAAAAAAAAAAAA=",
          "dtype": "f8",
          "shape": "20, 20"
         }
        },
        {
         "cmax": 46.71140670776367,
         "cmin": 0.43323537707328796,
         "colorscale": [
          [
           0,
           "#440154"
          ],
          [
           0.1111111111111111,
           "#482878"
          ],
          [
           0.2222222222222222,
           "#3e4989"
          ],
          [
           0.3333333333333333,
           "#31688e"
          ],
          [
           0.4444444444444444,
           "#26828e"
          ],
          [
           0.5555555555555556,
           "#1f9e89"
          ],
          [
           0.6666666666666666,
           "#35b779"
          ],
          [
           0.7777777777777778,
           "#6ece58"
          ],
          [
           0.8888888888888888,
           "#b5de2b"
          ],
          [
           1,
           "#fde725"
          ]
         ],
         "opacity": 0.7,
         "scene": "scene5",
         "showscale": true,
         "surfacecolor": {
          "bdata": "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",
          "dtype": "f4",
          "shape": "20, 20"
         },
         "type": "surface",
         "x": {
          "bdata": "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",
          "dtype": "f8",
          "shape": "20, 20"
         },
         "y": {
          "bdata": "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",
          "dtype": "f8",
          "shape": "20, 20"
         },
         "z": {
          "bdata": "AAAAAAAAAAAAAAAAAAAAAAAAAAAAAAAAAAAAAAAAAAAAAAAAAAAAAAAAAAAAAAAAAAAAAAAAAAAAAAAAAAAAAAAAAAAAAAAAAAAAAAAAAAAAAAAAAAAAAAAAAAAAAAAAAAAAAAAAAAAAAAAAAAAAAAAAAAAAAAAAAAAAAAAAAAAAAAAAAAAAAAAAAAAAAAAAAAAAAAAAAAAAAAAAAAAAAAAAAAAAAAAAAAAAAAAAAAAAAAAAAAAAAAAAAAAAAAAAAAAAAAAAAAAAAAAAAAAAAAAAAAAAAAAAAAAAAAAAAAAAAAAAAAAAAAAAAAAAAAAAAAAAAAAAAAAAAAAAAAAAAAAAAAAAAAAAAAAAAAAAAAAAAAAAAAAAAAAAAAAAAAAAAAAAAAAAAAAAAAAAAAAAAAAAAAAAAAAAAAAAAAAAAAAAAAAAAAAAAAAAAAAAAAAAAAAAAAAAAAAAAAAAAAAAAAAAAAAAAAAAAAAAAAAAAAAAAAAAAAAAAAAAAAAAAAAAAAAAAAAAAAAAAAAAAAAAAAAAAAAAAAAAAAAAAAAAAAAAAAAAAAAAAAAAAAAAAAAAAAAAAAAAAAAAAAAAAAAAAAAAAAAAAAAAAAAAAAAAAAAAAAAAAAAAAAAAAAAAAAAAAAAAAAAAAAAAAAAAAAAAAAAAAAAAAAAAAAAAAAAAAAAAAAAAAAAAAAAAAAAAAAAAAAAAAAAAAAAAAAAAAAAAAAAAAAAAAAAAAAAAAAAAAAAAAAAAAAAAAAAAAAAAAAAAAAAAAAAAAAAAAAAAAAAAAAAAAAAAAAAAAAAAAAAAAAAAAAAAAAAAAAAAAAAAAAAAAAAAAAAAAAAAAAAAAAAAAAAAAAAAAAAAAAAAAAAAAAAAAAAAAAAAAAAAAAAAAAAAAAAAAAAAAAAAAAAAAAAAAAAAAAAAAAAAAAAAAAAAAAAAAAAAAAAAAAAAAAAAAAAAAAAAAAAAAAAAAAAAAAAAAAAAAAAAAAAAAAAAAAAAAAAAAAAAAAAAAAAAAAAAAAAAAAAAAAAAAAAAAAAAAAAAAAAAAAAAAAAAAAAAAAAAAAAAAAAAAAAAAAAAAAAAAAAAAAAAAAAAAAAAAAAAAAAAAAAAAAAAAAAAAAAAAAAAAAAAAAAAAAAAAAAAAAAAAAAAAAAAAAAAAAAAAAAAAAAAAAAAAAAAAAAAAAAAAAAAAAAAAAAAAAAAAAAAAAAAAAAAAAAAAAAAAAAAAAAAAAAAAAAAAAAAAAAAAAAAAAAAAAAAAAAAAAAAAAAAAAAAAAAAAAAAAAAAAAAAAAAAAAAAAAAAAAAAAAAAAAAAAAAAAAAAAAAAAAAAAAAAAAAAAAAAAAAAAAAAAAAAAAAAAAAAAAAAAAAAAAAAAAAAAAAAAAAAAAAAAAAAAAAAAAAAAAAAAAAAAAAAAAAAAAAAAAAAAAAAAAAAAAAAAAAAAAAAAAAAAAAAAAAAAAAAAAAAAAAAAAAAAAAAAAAAAAAAAAAAAAAAAAAAAAAAAAAAAAAAAAAAAAAAAAAAAAAAAAAAAAAAAAAAAAAAAAAAAAAAAAAAAAAAAAAAAAAAAAAAAAAAAAAAAAAAAAAAAAAAAAAAAAAAAAAAAAAAAAAAAAAAAAAAAAAAAAAAAAAAAAAAAAAAAAAAAAAAAAAAAAAAAAAAAAAAAAAAAAAAAAAAAAAAAAAAAAAAAAAAAAAAAAAAAAAAAAAAAAAAAAAAAAAAAAAAAAAAAAAAAAAAAAAAAAAAAAAAAAAAAAAAAAAAAAAAAAAAAAAAAAAAAAAAAAAAAAAAAAAAAAAAAAAAAAAAAAAAAAAAAAAAAAAAAAAAAAAAAAAAAAAAAAAAAAAAAAAAAAAAAAAAAAAAAAAAAAAAAAAAAAAAAAAAAAAAAAAAAAAAAAAAAAAAAAAAAAAAAAAAAAAAAAAAAAAAAAAAAAAAAAAAAAAAAAAAAAAAAAAAAAAAAAAAAAAAAAAAAAAAAAAAAAAAAAAAAAAAAAAAAAAAAAAAAAAAAAAAAAAAAAAAAAAAAAAAAAAAAAAAAAAAAAAAAAAAAAAAAAAAAAAAAAAAAAAAAAAAAAAAAAAAAAAAAAAAAAAAAAAAAAAAAAAAAAAAAAAAAAAAAAAAAAAAAAAAAAAAAAAAAAAAAAAAAAAAAAAAAAAAAAAAAAAAAAAAAAAAAAAAAAAAAAAAAAAAAAAAAAAAAAAAAAAAAAAAAAAAAAAAAAAAAAAAAAAAAAAAAAAAAAAAAAAAAAAAAAAAAAAAAAAAAAAAAAAAAAAAAAAAAAAAAAAAAAAAAAAAAAAAAAAAAAAAAAAAAAAAAAAAAAAAAAAAAAAAAAAAAAAAAAAAAAAAAAAAAAAAAAAAAAAAAAAAAAAAAAAAAAAAAAAAAAAAAAAAAAAAAAAAAAAAAAAAAAAAAAAAAAAAAAAAAAAAAAAAAAAAAAAAAAAAAAAAAAAAAAAAAAAAAAAAAAAAAAAAAAAAAAAAAAAAAAAAAAAAAAAAAAAAAAAAAAAAAAAAAAAAAAAAAAAAAAAAAAAAAAAAAAAAAAAAAAAAAAAAAAAAAAAAAAAAAAAAAAAAAAAAAAAAAAAAAAAAAAAAAAAAAAAAAAAAAAAAAAAAAAAAAAAAAAAAAAAAAAAAAAAAAAAAAAAAAAAAAAAAAAAAAAAAAAAAAAAAAAAAAAAAAAAAAAAAAAAAAAAAAAAAAAAAAAAAAAAAAAAAAAAAAAAAAAAAAAAAAAAAAAAAAAAAAAAAAAAAAAAAAAAAAAAAAAAAAAAAAAAAAAAAAAAAAAAAAAAAAAAAAAAAAAAAAAAAAAAAAAAAAAAAAAAAAAAAAAAAAAAAAAAAAAAAAAAAAAAAAAAAAAAAAAAAAAAAAAAAAAAAAAAAAAAAAAAAAAAAAAAAAAAAAAAAAAAAAAAAAAAAAAAAAAAAAAAAAAAAAAAAAAAAAAAAAAAAAAAAAAAAAAAAAAAAAAAAAAAAAAAAAAAAAAAAAAAAAAAAAAAAAAAAAAAAAAAAAAAAAAAAAAAAAAAAAAAAAAAAAAAAAAAAAAAAAAAAAAAAAAAAAAAAAAAAAAAAAAAAAAAAAAAAAAAAAAAAAAAAAAAAAAAAAAAAAAAAAAAAAAAAAAAAAAAAAAAAAAAAAAAAAAAAAAAAAAAAAAAAAAAAAAAAAAAAAAAAAAAAAAAAAAAAAAAAAAAAAAAAAAAAAAAAAAAAAAAAAAAAAAAAAAAAAAAAAAAAAAAAAAAAAAAAAAAAAAAAAAAAAAAAAAAAAAAAAAAAAAAAAAAAAAAAAAAAAAAAAAAAAAAAAAAAAAAAAAAAAAAAAAAAAAAAAAAAAAAAAAAAAAAAAAAAAAAAAAAAAAAAAAAAAAAAAAAAAAAAAAAAAAAAAAAAAAAAAAAAAAAAAAAAAAAAAAAAAAAAAAAAAAAAAAAAAAAAAAAAAAAAAAAAAAAAAAAAAAAAAAAAAAAAAAAAAAAAAAAAAAAAAAAAAAAAAAAAAAAAAAAAAAAAAAAAAAAAAAAAAAAAAAAAAAAAAAAAAAAAAAAAAAAAAAAAAAAAAAAAAAAAAAAAAAAAAAAAAAAAAAAAAAAAAAAAAAAAAAAAAAAAAAAAAAAAAAAAAAAAAAAAAAAAAAAAAAAAAAAAAAAAAAAAAAAAAAAAAAAAAAAAAAAAAAAAAAAAAAAAAAAAAAAAAAAAAAAAAAAAAAAAAAAAAAAAAAAAAAAAAAAAAAAAAAAAAAAAAAAAAAAAAAAAAAAAAAAAAAAAAAAAAAAAAAAAAAAAAAAAAAAAAAAAAAAAAAAAAAAAAAAAAAAAAAAAAAAAAAAAAAAAAAAAAAAAAAAAAAAAAAAAAAAAAAAAAAAAAAAAAAAAAAAAAAAAAAAAAAAAAAAAAAAAAAAAAAAAAAAAAAAAAAAAAAAAAAAAAAAAAAAAAAAAAAAAAAAAAAAAAAAAAAAAAAAAAAAAAAAAAAAAAAAAAAAAAAAAAAAAAAAAAAAAAAAAAAAAAAAAAAAAAAAAAAAAAAAAAAAAAAAAAAAAAAAAAAAAAAAAAAAAAAAAAAAAAAAAAAAAAAAAAAAAAAAAAAAAAAAAAAAAAAAAAAAAAAAAAAAAAAAAAAAAAAAAAAAAAAAAAAAAAAAAAAAAAAAAAAAAAAAAAAAAAAAAAAAAAAAAAAAAAAAAAAAAAAAAAAAAAAAAAAAAAAAAAAAAAAAAAAAAAAAAAAAAAAAAAAAAAAAAAAAAAAAAAAAAAAAAAAAAAAAAAAAAAAAAAAAAAAAAAAAAAAAAAAAAAAAAAAAAAAAAAAA=",
          "dtype": "f8",
          "shape": "20, 20"
         }
        },
        {
         "cmax": 46.71140670776367,
         "cmin": 0.43323537707328796,
         "colorscale": [
          [
           0,
           "#440154"
          ],
          [
           0.1111111111111111,
           "#482878"
          ],
          [
           0.2222222222222222,
           "#3e4989"
          ],
          [
           0.3333333333333333,
           "#31688e"
          ],
          [
           0.4444444444444444,
           "#26828e"
          ],
          [
           0.5555555555555556,
           "#1f9e89"
          ],
          [
           0.6666666666666666,
           "#35b779"
          ],
          [
           0.7777777777777778,
           "#6ece58"
          ],
          [
           0.8888888888888888,
           "#b5de2b"
          ],
          [
           1,
           "#fde725"
          ]
         ],
         "opacity": 0.7,
         "scene": "scene",
         "showscale": false,
         "surfacecolor": {
          "bdata": "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",
          "dtype": "f4",
          "shape": "20, 20"
         },
         "type": "surface",
         "x": {
          "bdata": "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",
          "dtype": "f8",
          "shape": "20, 20"
         },
         "y": {
          "bdata": "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",
          "dtype": "f8",
          "shape": "20, 20"
         },
         "z": {
          "bdata": "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",
          "dtype": "f8",
          "shape": "20, 20"
         }
        },
        {
         "cmax": 46.71140670776367,
         "cmin": 0.43323537707328796,
         "colorscale": [
          [
           0,
           "#440154"
          ],
          [
           0.1111111111111111,
           "#482878"
          ],
          [
           0.2222222222222222,
           "#3e4989"
          ],
          [
           0.3333333333333333,
           "#31688e"
          ],
          [
           0.4444444444444444,
           "#26828e"
          ],
          [
           0.5555555555555556,
           "#1f9e89"
          ],
          [
           0.6666666666666666,
           "#35b779"
          ],
          [
           0.7777777777777778,
           "#6ece58"
          ],
          [
           0.8888888888888888,
           "#b5de2b"
          ],
          [
           1,
           "#fde725"
          ]
         ],
         "opacity": 0.7,
         "scene": "scene2",
         "showscale": false,
         "surfacecolor": {
          "bdata": "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",
          "dtype": "f4",
          "shape": "20, 20"
         },
         "type": "surface",
         "x": {
          "bdata": "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",
          "dtype": "f8",
          "shape": "20, 20"
         },
         "y": {
          "bdata": "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",
          "dtype": "f8",
          "shape": "20, 20"
         },
         "z": {
          "bdata": "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",
          "dtype": "f8",
          "shape": "20, 20"
         }
        },
        {
         "cmax": 46.71140670776367,
         "cmin": 0.43323537707328796,
         "colorscale": [
          [
           0,
           "#440154"
          ],
          [
           0.1111111111111111,
           "#482878"
          ],
          [
           0.2222222222222222,
           "#3e4989"
          ],
          [
           0.3333333333333333,
           "#31688e"
          ],
          [
           0.4444444444444444,
           "#26828e"
          ],
          [
           0.5555555555555556,
           "#1f9e89"
          ],
          [
           0.6666666666666666,
           "#35b779"
          ],
          [
           0.7777777777777778,
           "#6ece58"
          ],
          [
           0.8888888888888888,
           "#b5de2b"
          ],
          [
           1,
           "#fde725"
          ]
         ],
         "opacity": 0.7,
         "scene": "scene3",
         "showscale": false,
         "surfacecolor": {
          "bdata": "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",
          "dtype": "f4",
          "shape": "20, 20"
         },
         "type": "surface",
         "x": {
          "bdata": "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",
          "dtype": "f8",
          "shape": "20, 20"
         },
         "y": {
          "bdata": "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",
          "dtype": "f8",
          "shape": "20, 20"
         },
         "z": {
          "bdata": "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",
          "dtype": "f8",
          "shape": "20, 20"
         }
        },
        {
         "cmax": 46.71140670776367,
         "cmin": 0.43323537707328796,
         "colorscale": [
          [
           0,
           "#440154"
          ],
          [
           0.1111111111111111,
           "#482878"
          ],
          [
           0.2222222222222222,
           "#3e4989"
          ],
          [
           0.3333333333333333,
           "#31688e"
          ],
          [
           0.4444444444444444,
           "#26828e"
          ],
          [
           0.5555555555555556,
           "#1f9e89"
          ],
          [
           0.6666666666666666,
           "#35b779"
          ],
          [
           0.7777777777777778,
           "#6ece58"
          ],
          [
           0.8888888888888888,
           "#b5de2b"
          ],
          [
           1,
           "#fde725"
          ]
         ],
         "opacity": 0.7,
         "scene": "scene4",
         "showscale": false,
         "surfacecolor": {
          "bdata": "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",
          "dtype": "f4",
          "shape": "20, 20"
         },
         "type": "surface",
         "x": {
          "bdata": "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",
          "dtype": "f8",
          "shape": "20, 20"
         },
         "y": {
          "bdata": "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",
          "dtype": "f8",
          "shape": "20, 20"
         },
         "z": {
          "bdata": "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",
          "dtype": "f8",
          "shape": "20, 20"
         }
        },
        {
         "cmax": 46.71140670776367,
         "cmin": 0.43323537707328796,
         "colorscale": [
          [
           0,
           "#440154"
          ],
          [
           0.1111111111111111,
           "#482878"
          ],
          [
           0.2222222222222222,
           "#3e4989"
          ],
          [
           0.3333333333333333,
           "#31688e"
          ],
          [
           0.4444444444444444,
           "#26828e"
          ],
          [
           0.5555555555555556,
           "#1f9e89"
          ],
          [
           0.6666666666666666,
           "#35b779"
          ],
          [
           0.7777777777777778,
           "#6ece58"
          ],
          [
           0.8888888888888888,
           "#b5de2b"
          ],
          [
           1,
           "#fde725"
          ]
         ],
         "opacity": 0.7,
         "scene": "scene5",
         "showscale": false,
         "surfacecolor": {
          "bdata": "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",
          "dtype": "f4",
          "shape": "20, 20"
         },
         "type": "surface",
         "x": {
          "bdata": "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",
          "dtype": "f8",
          "shape": "20, 20"
         },
         "y": {
          "bdata": "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",
          "dtype": "f8",
          "shape": "20, 20"
         },
         "z": {
          "bdata": "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",
          "dtype": "f8",
          "shape": "20, 20"
         }
        },
        {
         "cmax": 46.71140670776367,
         "cmin": 0.43323537707328796,
         "colorscale": [
          [
           0,
           "#440154"
          ],
          [
           0.1111111111111111,
           "#482878"
          ],
          [
           0.2222222222222222,
           "#3e4989"
          ],
          [
           0.3333333333333333,
           "#31688e"
          ],
          [
           0.4444444444444444,
           "#26828e"
          ],
          [
           0.5555555555555556,
           "#1f9e89"
          ],
          [
           0.6666666666666666,
           "#35b779"
          ],
          [
           0.7777777777777778,
           "#6ece58"
          ],
          [
           0.8888888888888888,
           "#b5de2b"
          ],
          [
           1,
           "#fde725"
          ]
         ],
         "opacity": 0.7,
         "scene": "scene",
         "showscale": false,
         "surfacecolor": {
          "bdata": "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",
          "dtype": "f4",
          "shape": "20, 20"
         },
         "type": "surface",
         "x": {
          "bdata": "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",
          "dtype": "f8",
          "shape": "20, 20"
         },
         "y": {
          "bdata": "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",
          "dtype": "f8",
          "shape": "20, 20"
         },
         "z": {
          "bdata": "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",
          "dtype": "f8",
          "shape": "20, 20"
         }
        },
        {
         "cmax": 46.71140670776367,
         "cmin": 0.43323537707328796,
         "colorscale": [
          [
           0,
           "#440154"
          ],
          [
           0.1111111111111111,
           "#482878"
          ],
          [
           0.2222222222222222,
           "#3e4989"
          ],
          [
           0.3333333333333333,
           "#31688e"
          ],
          [
           0.4444444444444444,
           "#26828e"
          ],
          [
           0.5555555555555556,
           "#1f9e89"
          ],
          [
           0.6666666666666666,
           "#35b779"
          ],
          [
           0.7777777777777778,
           "#6ece58"
          ],
          [
           0.8888888888888888,
           "#b5de2b"
          ],
          [
           1,
           "#fde725"
          ]
         ],
         "opacity": 0.7,
         "scene": "scene2",
         "showscale": false,
         "surfacecolor": {
          "bdata": "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",
          "dtype": "f4",
          "shape": "20, 20"
         },
         "type": "surface",
         "x": {
          "bdata": "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",
          "dtype": "f8",
          "shape": "20, 20"
         },
         "y": {
          "bdata": "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",
          "dtype": "f8",
          "shape": "20, 20"
         },
         "z": {
          "bdata": "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",
          "dtype": "f8",
          "shape": "20, 20"
         }
        },
        {
         "cmax": 46.71140670776367,
         "cmin": 0.43323537707328796,
         "colorscale": [
          [
           0,
           "#440154"
          ],
          [
           0.1111111111111111,
           "#482878"
          ],
          [
           0.2222222222222222,
           "#3e4989"
          ],
          [
           0.3333333333333333,
           "#31688e"
          ],
          [
           0.4444444444444444,
           "#26828e"
          ],
          [
           0.5555555555555556,
           "#1f9e89"
          ],
          [
           0.6666666666666666,
           "#35b779"
          ],
          [
           0.7777777777777778,
           "#6ece58"
          ],
          [
           0.8888888888888888,
           "#b5de2b"
          ],
          [
           1,
           "#fde725"
          ]
         ],
         "opacity": 0.7,
         "scene": "scene3",
         "showscale": false,
         "surfacecolor": {
          "bdata": "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",
          "dtype": "f4",
          "shape": "20, 20"
         },
         "type": "surface",
         "x": {
          "bdata": "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",
          "dtype": "f8",
          "shape": "20, 20"
         },
         "y": {
          "bdata": "AAAAAAAAAAAAAAAAAAAAAAAAAAAAAAAAAAAAAAAAAAAAAAAAAAAAAAAAAAAAAAAAAAAAAAAAAAAAAAAAAAAAAAAAAAAAAAAAAAAAAAAAAAAAAAAAAAAAAAAAAAAAAAAAAAAAAAAAAAAAAAAAAAAAAAAAAAAAAAAAAAAAAAAAAAAAAAAAAAAAAAAAAAAAAAAAAAAAAAAAAAAAAAAAAAAAACivobyG8qo/KK+hvIbyqj8or6G8hvKqPyivobyG8qo/KK+hvIbyqj8or6G8hvKqPyivobyG8qo/KK+hvIbyqj8or6G8hvKqPyivobyG8qo/KK+hvIbyqj8or6G8hvKqPyivobyG8qo/KK+hvIbyqj8or6G8hvKqPyivobyG8qo/KK+hvIbyqj8or6G8hvKqPyivobyG8qo/KK+hvIbyqj8or6G8hvK6PyivobyG8ro/KK+hvIbyuj8or6G8hvK6PyivobyG8ro/KK+hvIbyuj8or6G8hvK6PyivobyG8ro/KK+hvIbyuj8or6G8hvK6PyivobyG8ro/KK+hvIbyuj8or6G8hvK6PyivobyG8ro/KK+hvIbyuj8or6G8hvK6PyivobyG8ro/KK+hvIbyuj8or6G8hvK6PyivobyG8ro/XkN5DeU1xD9eQ3kN5TXEP15DeQ3lNcQ/XkN5DeU1xD9eQ3kN5TXEP15DeQ3lNcQ/XkN5DeU1xD9eQ3kN5TXEP15DeQ3lNcQ/XkN5DeU1xD9eQ3kN5TXEP15DeQ3lNcQ/XkN5DeU1xD9eQ3kN5TXEP15DeQ3lNcQ/XkN5DeU1xD9eQ3kN5TXEP15DeQ3lNcQ/XkN5DeU1xD9eQ3kN5TXEPyivobyG8so/KK+hvIbyyj8or6G8hvLKPyivobyG8so/KK+hvIbyyj8or6G8hvLKPyivobyG8so/KK+hvIbyyj8or6G8hvLKPyivobyG8so/KK+hvIbyyj8or6G8hvLKPyivobyG8so/KK+hvIbyyj8or6G8hvLKPyivobyG8so/KK+hvIbyyj8or6G8hvLKPyivobyG8so/KK+hvIbyyj95DeU1lNfQP3kN5TWU19A/eQ3lNZTX0D95DeU1lNfQP3kN5TWU19A/eQ3lNZTX0D95DeU1lNfQP3kN5TWU19A/eQ3lNZTX0D95DeU1lNfQP3kN5TWU19A/eQ3lNZTX0D95DeU1lNfQP3kN5TWU19A/eQ3lNZTX0D95DeU1lNfQP3kN5TWU19A/eQ3lNZTX0D95DeU1lNfQP3kN5TWU19A/XkN5DeU11D9eQ3kN5TXUP15DeQ3lNdQ/XkN5DeU11D9eQ3kN5TXUP15DeQ3lNdQ/XkN5DeU11D9eQ3kN5TXUP15DeQ3lNdQ/XkN5DeU11D9eQ3kN5TXUP15DeQ3lNdQ/XkN5DeU11D9eQ3kN5TXUP15DeQ3lNdQ/XkN5DeU11D9eQ3kN5TXUP15DeQ3lNdQ/XkN5DeU11D9eQ3kN5TXUP0N5DeU1lNc/Q3kN5TWU1z9DeQ3lNZTXP0N5DeU1lNc/Q3kN5TWU1z9DeQ3lNZTXP0N5DeU1lNc/Q3kN5TWU1z9DeQ3lNZTXP0N5DeU1lNc/Q3kN5TWU1z9DeQ3lNZTXP0N5DeU1lNc/Q3kN5TWU1z9DeQ3lNZTXP0N5DeU1lNc/Q3kN5TWU1z9DeQ3lNZTXP0N5DeU1lNc/Q3kN5TWU1z8or6G8hvLaPyivobyG8to/KK+hvIby2j8or6G8hvLaPyivobyG8to/KK+hvIby2j8or6G8hvLaPyivobyG8to/KK+hvIby2j8or6G8hvLaPyivobyG8to/KK+hvIby2j8or6G8hvLaPyivobyG8to/KK+hvIby2j8or6G8hvLaPyivobyG8to/KK+hvIby2j8or6G8hvLaPyivobyG8to/DeU1lNdQ3j8N5TWU11DePw3lNZTXUN4/DeU1lNdQ3j8N5TWU11DePw3lNZTXUN4/DeU1lNdQ3j8N5TWU11DePw3lNZTXUN4/DeU1lNdQ3j8N5TWU11DePw3lNZTXUN4/DeU1lNdQ3j8N5TWU11DePw3lNZTXUN4/DeU1lNdQ3j8N5TWU11DePw3lNZTXUN4/DeU1lNdQ3j8N5TWU11DeP3kN5TWU1+A/eQ3lNZTX4D95DeU1lNfgP3kN5TWU1+A/eQ3lNZTX4D95DeU1lNfgP3kN5TWU1+A/eQ3lNZTX4D95DeU1lNfgP3kN5TWU1+A/eQ3lNZTX4D95DeU1lNfgP3kN5TWU1+A/eQ3lNZTX4D95DeU1lNfgP3kN5TWU1+A/eQ3lNZTX4D95DeU1lNfgP3kN5TWU1+A/eQ3lNZTX4D9sKK+hvIbiP2wor6G8huI/bCivobyG4j9sKK+hvIbiP2wor6G8huI/bCivobyG4j9sKK+hvIbiP2wor6G8huI/bCivobyG4j9sKK+hvIbiP2wor6G8huI/bCivobyG4j9sKK+hvIbiP2wor6G8huI/bCivobyG4j9sKK+hvIbiP2wor6G8huI/bCivobyG4j9sKK+hvIbiP2wor6G8huI/XkN5DeU15D9eQ3kN5TXkP15DeQ3lNeQ/XkN5DeU15D9eQ3kN5TXkP15DeQ3lNeQ/XkN5DeU15D9eQ3kN5TXkP15DeQ3lNeQ/XkN5DeU15D9eQ3kN5TXkP15DeQ3lNeQ/XkN5DeU15D9eQ3kN5TXkP15DeQ3lNeQ/XkN5DeU15D9eQ3kN5TXkP15DeQ3lNeQ/XkN5DeU15D9eQ3kN5TXkP1BeQ3kN5eU/UF5DeQ3l5T9QXkN5DeXlP1BeQ3kN5eU/UF5DeQ3l5T9QXkN5DeXlP1BeQ3kN5eU/UF5DeQ3l5T9QXkN5DeXlP1BeQ3kN5eU/UF5DeQ3l5T9QXkN5DeXlP1BeQ3kN5eU/UF5DeQ3l5T9QXkN5DeXlP1BeQ3kN5eU/UF5DeQ3l5T9QXkN5DeXlP1BeQ3kN5eU/UF5DeQ3l5T9DeQ3lNZTnP0N5DeU1lOc/Q3kN5TWU5z9DeQ3lNZTnP0N5DeU1lOc/Q3kN5TWU5z9DeQ3lNZTnP0N5DeU1lOc/Q3kN5TWU5z9DeQ3lNZTnP0N5DeU1lOc/Q3kN5TWU5z9DeQ3lNZTnP0N5DeU1lOc/Q3kN5TWU5z9DeQ3lNZTnP0N5DeU1lOc/Q3kN5TWU5z9DeQ3lNZTnP0N5DeU1lOc/NpTXUF5D6T82lNdQXkPpPzaU11BeQ+k/NpTXUF5D6T82lNdQXkPpPzaU11BeQ+k/NpTXUF5D6T82lNdQXkPpPzaU11BeQ+k/NpTXUF5D6T82lNdQXkPpPzaU11BeQ+k/NpTXUF5D6T82lNdQXkPpPzaU11BeQ+k/NpTXUF5D6T82lNdQXkPpPzaU11BeQ+k/NpTXUF5D6T82lNdQXkPpPyivobyG8uo/KK+hvIby6j8or6G8hvLqPyivobyG8uo/KK+hvIby6j8or6G8hvLqPyivobyG8uo/KK+hvIby6j8or6G8hvLqPyivobyG8uo/KK+hvIby6j8or6G8hvLqPyivobyG8uo/KK+hvIby6j8or6G8hvLqPyivobyG8uo/KK+hvIby6j8or6G8hvLqPyivobyG8uo/KK+hvIby6j8aymsor6HsPxrKayivoew/GsprKK+h7D8aymsor6HsPxrKayivoew/GsprKK+h7D8aymsor6HsPxrKayivoew/GsprKK+h7D8aymsor6HsPxrKayivoew/GsprKK+h7D8aymsor6HsPxrKayivoew/GsprKK+h7D8aymsor6HsPxrKayivoew/GsprKK+h7D8aymsor6HsPxrKayivoew/DeU1lNdQ7j8N5TWU11DuPw3lNZTXUO4/DeU1lNdQ7j8N5TWU11DuPw3lNZTXUO4/DeU1lNdQ7j8N5TWU11DuPw3lNZTXUO4/DeU1lNdQ7j8N5TWU11DuPw3lNZTXUO4/DeU1lNdQ7j8N5TWU11DuPw3lNZTXUO4/DeU1lNdQ7j8N5TWU11DuPw3lNZTXUO4/DeU1lNdQ7j8N5TWU11DuPwAAAAAAAPA/AAAAAAAA8D8AAAAAAADwPwAAAAAAAPA/AAAAAAAA8D8AAAAAAADwPwAAAAAAAPA/AAAAAAAA8D8AAAAAAADwPwAAAAAAAPA/AAAAAAAA8D8AAAAAAADwPwAAAAAAAPA/AAAAAAAA8D8AAAAAAADwPwAAAAAAAPA/AAAAAAAA8D8AAAAAAADwPwAAAAAAAPA/AAAAAAAA8D8=",
          "dtype": "f8",
          "shape": "20, 20"
         },
         "z": {
          "bdata": "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",
          "dtype": "f8",
          "shape": "20, 20"
         }
        },
        {
         "cmax": 46.71140670776367,
         "cmin": 0.43323537707328796,
         "colorscale": [
          [
           0,
           "#440154"
          ],
          [
           0.1111111111111111,
           "#482878"
          ],
          [
           0.2222222222222222,
           "#3e4989"
          ],
          [
           0.3333333333333333,
           "#31688e"
          ],
          [
           0.4444444444444444,
           "#26828e"
          ],
          [
           0.5555555555555556,
           "#1f9e89"
          ],
          [
           0.6666666666666666,
           "#35b779"
          ],
          [
           0.7777777777777778,
           "#6ece58"
          ],
          [
           0.8888888888888888,
           "#b5de2b"
          ],
          [
           1,
           "#fde725"
          ]
         ],
         "opacity": 0.7,
         "scene": "scene4",
         "showscale": false,
         "surfacecolor": {
          "bdata": "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",
          "dtype": "f4",
          "shape": "20, 20"
         },
         "type": "surface",
         "x": {
          "bdata": "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",
          "dtype": "f8",
          "shape": "20, 20"
         },
         "y": {
          "bdata": "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",
          "dtype": "f8",
          "shape": "20, 20"
         },
         "z": {
          "bdata": "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",
          "dtype": "f8",
          "shape": "20, 20"
         }
        },
        {
         "cmax": 46.71140670776367,
         "cmin": 0.43323537707328796,
         "colorscale": [
          [
           0,
           "#440154"
          ],
          [
           0.1111111111111111,
           "#482878"
          ],
          [
           0.2222222222222222,
           "#3e4989"
          ],
          [
           0.3333333333333333,
           "#31688e"
          ],
          [
           0.4444444444444444,
           "#26828e"
          ],
          [
           0.5555555555555556,
           "#1f9e89"
          ],
          [
           0.6666666666666666,
           "#35b779"
          ],
          [
           0.7777777777777778,
           "#6ece58"
          ],
          [
           0.8888888888888888,
           "#b5de2b"
          ],
          [
           1,
           "#fde725"
          ]
         ],
         "opacity": 0.7,
         "scene": "scene5",
         "showscale": false,
         "surfacecolor": {
          "bdata": "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",
          "dtype": "f4",
          "shape": "20, 20"
         },
         "type": "surface",
         "x": {
          "bdata": "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",
          "dtype": "f8",
          "shape": "20, 20"
         },
         "y": {
          "bdata": "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",
          "dtype": "f8",
          "shape": "20, 20"
         },
         "z": {
          "bdata": "kiRJkiRJ0j+SJEmSJEnSP5IkSZIkSdI/kiRJkiRJ0j+SJEmSJEnSP5IkSZIkSdI/kiRJkiRJ0j+SJEmSJEnSP5IkSZIkSdI/kiRJkiRJ0j+SJEmSJEnSP5IkSZIkSdI/kiRJkiRJ0j+SJEmSJEnSP5IkSZIkSdI/kiRJkiRJ0j+SJEmSJEnSP5IkSZIkSdI/kiRJkiRJ0j+SJEmSJEnSP5IkSZIkSdI/kiRJkiRJ0j+SJEmSJEnSP5IkSZIkSdI/kiRJkiRJ0j+SJEmSJEnSP5IkSZIkSdI/kiRJkiRJ0j+SJEmSJEnSP5IkSZIkSdI/kiRJkiRJ0j+SJEmSJEnSP5IkSZIkSdI/kiRJkiRJ0j+SJEmSJEnSP5IkSZIkSdI/kiRJkiRJ0j+SJEmSJEnSP5IkSZIkSdI/kiRJkiRJ0j+SJEmSJEnSP5IkSZIkSdI/kiRJkiRJ0j+SJEmSJEnSP5IkSZIkSdI/kiRJkiRJ0j+SJEmSJEnSP5IkSZIkSdI/kiRJkiRJ0j+SJEmSJEnSP5IkSZIkSdI/kiRJkiRJ0j+SJEmSJEnSP5IkSZIkSdI/kiRJkiRJ0j+SJEmSJEnSP5IkSZIkSdI/kiRJkiRJ0j+SJEmSJEnSP5IkSZIkSdI/kiRJkiRJ0j+SJEmSJEnSP5IkSZIkSdI/kiRJkiRJ0j+SJEmSJEnSP5IkSZIkSdI/kiRJkiRJ0j+SJEmSJEnSP5IkSZIkSdI/kiRJkiRJ0j+SJEmSJEnSP5IkSZIkSdI/kiRJkiRJ0j+SJEmSJEnSP5IkSZIkSdI/kiRJkiRJ0j+SJEmSJEnSP5IkSZIkSdI/kiRJkiRJ0j+SJEmSJEnSP5IkSZIkSdI/kiRJkiRJ0j+SJEmSJEnSP5IkSZIkSdI/kiRJkiRJ0j+SJEmSJEnSP5IkSZIkSdI/kiRJkiRJ0j+SJEmSJEnSP5IkSZIkSdI/kiRJkiRJ0j+SJEmSJEnSP5IkSZIkSdI/kiRJkiRJ0j+SJEmSJEnSP5IkSZIkSdI/kiRJkiRJ0j+SJEmSJEnSP5IkSZIkSdI/kiRJkiRJ0j+SJEmSJEnSP5IkSZIkSdI/kiRJkiRJ0j+SJEmSJEnSP5IkSZIkSdI/kiRJkiRJ0j+SJEmSJEnSP5IkSZIkSdI/kiRJkiRJ0j+SJEmSJEnSP5IkSZIkSdI/kiRJkiRJ0j+SJEmSJEnSP5IkSZIkSdI/kiRJkiRJ0j+SJEmSJEnSP5IkSZIkSdI/kiRJkiRJ0j+SJEmSJEnSP5IkSZIkSdI/kiRJkiRJ0j+SJEmSJEnSP5IkSZIkSdI/kiRJkiRJ0j+SJEmSJEnSP5IkSZIkSdI/kiRJkiRJ0j+SJEmSJEnSP5IkSZIkSdI/kiRJkiRJ0j+SJEmSJEnSP5IkSZIkSdI/kiRJkiRJ0j+SJEmSJEnSP5IkSZIkSdI/kiRJkiRJ0j+SJEmSJEnSP5IkSZIkSdI/kiRJkiRJ0j+SJEmSJEnSP5IkSZIkSdI/kiRJkiRJ0j+SJEmSJEnSP5IkSZIkSdI/kiRJkiRJ0j+SJEmSJEnSP5IkSZIkSdI/kiRJkiRJ0j+SJEmSJEnSP5IkSZIkSdI/kiRJkiRJ0j+SJEmSJEnSP5IkSZIkSdI/kiRJkiRJ0j+SJEmSJEnSP5IkSZIkSdI/kiRJkiRJ0j+SJEmSJEnSP5IkSZIkSdI/kiRJkiRJ0j+SJEmSJEnSP5IkSZIkSdI/kiRJkiRJ0j+SJEmSJEnSP5IkSZIkSdI/kiRJkiRJ0j+SJEmSJEnSP5IkSZIkSdI/kiRJkiRJ0j+SJEmSJEnSP5IkSZIkSdI/kiRJkiRJ0j+SJEmSJEnSP5IkSZIkSdI/kiRJkiRJ0j+SJEmSJEnSP5IkSZIkSdI/kiRJkiRJ0j+SJEmSJEnSP5IkSZIkSdI/kiRJkiRJ0j+SJEmSJEnSP5IkSZIkSdI/kiRJkiRJ0j+SJEmSJEnSP5IkSZIkSdI/kiRJkiRJ0j+SJEmSJEnSP5IkSZIkSdI/kiRJkiRJ0j+SJEmSJEnSP5IkSZIkSdI/kiRJkiRJ0j+SJEmSJEnSP5IkSZIkSdI/kiRJkiRJ0j+SJEmSJEnSP5IkSZIkSdI/kiRJkiRJ0j+SJEmSJEnSP5IkSZIkSdI/kiRJkiRJ0j+SJEmSJEnSP5IkSZIkSdI/kiRJkiRJ0j+SJEmSJEnSP5IkSZIkSdI/kiRJkiRJ0j+SJEmSJEnSP5IkSZIkSdI/kiRJkiRJ0j+SJEmSJEnSP5IkSZIkSdI/kiRJkiRJ0j+SJEmSJEnSP5IkSZIkSdI/kiRJkiRJ0j+SJEmSJEnSP5IkSZIkSdI/kiRJkiRJ0j+SJEmSJEnSP5IkSZIkSdI/kiRJkiRJ0j+SJEmSJEnSP5IkSZIkSdI/kiRJkiRJ0j+SJEmSJEnSP5IkSZIkSdI/kiRJkiRJ0j+SJEmSJEnSP5IkSZIkSdI/kiRJkiRJ0j+SJEmSJEnSP5IkSZIkSdI/kiRJkiRJ0j+SJEmSJEnSP5IkSZIkSdI/kiRJkiRJ0j+SJEmSJEnSP5IkSZIkSdI/kiRJkiRJ0j+SJEmSJEnSP5IkSZIkSdI/kiRJkiRJ0j+SJEmSJEnSP5IkSZIkSdI/kiRJkiRJ0j+SJEmSJEnSP5IkSZIkSdI/kiRJkiRJ0j+SJEmSJEnSP5IkSZIkSdI/kiRJkiRJ0j+SJEmSJEnSP5IkSZIkSdI/kiRJkiRJ0j+SJEmSJEnSP5IkSZIkSdI/kiRJkiRJ0j+SJEmSJEnSP5IkSZIkSdI/kiRJkiRJ0j+SJEmSJEnSP5IkSZIkSdI/kiRJkiRJ0j+SJEmSJEnSP5IkSZIkSdI/kiRJkiRJ0j+SJEmSJEnSP5IkSZIkSdI/kiRJkiRJ0j+SJEmSJEnSP5IkSZIkSdI/kiRJkiRJ0j+SJEmSJEnSP5IkSZIkSdI/kiRJkiRJ0j+SJEmSJEnSP5IkSZIkSdI/kiRJkiRJ0j+SJEmSJEnSP5IkSZIkSdI/kiRJkiRJ0j+SJEmSJEnSP5IkSZIkSdI/kiRJkiRJ0j+SJEmSJEnSP5IkSZIkSdI/kiRJkiRJ0j+SJEmSJEnSP5IkSZIkSdI/kiRJkiRJ0j+SJEmSJEnSP5IkSZIkSdI/kiRJkiRJ0j+SJEmSJEnSP5IkSZIkSdI/kiRJkiRJ0j+SJEmSJEnSP5IkSZIkSdI/kiRJkiRJ0j+SJEmSJEnSP5IkSZIkSdI/kiRJkiRJ0j+SJEmSJEnSP5IkSZIkSdI/kiRJkiRJ0j+SJEmSJEnSP5IkSZIkSdI/kiRJkiRJ0j+SJEmSJEnSP5IkSZIkSdI/kiRJkiRJ0j+SJEmSJEnSP5IkSZIkSdI/kiRJkiRJ0j+SJEmSJEnSP5IkSZIkSdI/kiRJkiRJ0j+SJEmSJEnSP5IkSZIkSdI/kiRJkiRJ0j+SJEmSJEnSP5IkSZIkSdI/kiRJkiRJ0j+SJEmSJEnSP5IkSZIkSdI/kiRJkiRJ0j+SJEmSJEnSP5IkSZIkSdI/kiRJkiRJ0j+SJEmSJEnSP5IkSZIkSdI/kiRJkiRJ0j+SJEmSJEnSP5IkSZIkSdI/kiRJkiRJ0j+SJEmSJEnSP5IkSZIkSdI/kiRJkiRJ0j+SJEmSJEnSP5IkSZIkSdI/kiRJkiRJ0j+SJEmSJEnSP5IkSZIkSdI/kiRJkiRJ0j+SJEmSJEnSP5IkSZIkSdI/kiRJkiRJ0j+SJEmSJEnSP5IkSZIkSdI/kiRJkiRJ0j+SJEmSJEnSP5IkSZIkSdI/kiRJkiRJ0j+SJEmSJEnSP5IkSZIkSdI/kiRJkiRJ0j+SJEmSJEnSP5IkSZIkSdI/kiRJkiRJ0j+SJEmSJEnSP5IkSZIkSdI/kiRJkiRJ0j+SJEmSJEnSP5IkSZIkSdI/kiRJkiRJ0j+SJEmSJEnSP5IkSZIkSdI/kiRJkiRJ0j+SJEmSJEnSP5IkSZIkSdI/kiRJkiRJ0j+SJEmSJEnSP5IkSZIkSdI/kiRJkiRJ0j+SJEmSJEnSP5IkSZIkSdI/kiRJkiRJ0j+SJEmSJEnSP5IkSZIkSdI/kiRJkiRJ0j+SJEmSJEnSP5IkSZIkSdI/kiRJkiRJ0j+SJEmSJEnSP5IkSZIkSdI/kiRJkiRJ0j+SJEmSJEnSP5IkSZIkSdI/kiRJkiRJ0j+SJEmSJEnSP5IkSZIkSdI/kiRJkiRJ0j+SJEmSJEnSP5IkSZIkSdI/kiRJkiRJ0j+SJEmSJEnSP5IkSZIkSdI/kiRJkiRJ0j8=",
          "dtype": "f8",
          "shape": "20, 20"
         }
        },
        {
         "cmax": 46.71140670776367,
         "cmin": 0.43323537707328796,
         "colorscale": [
          [
           0,
           "#440154"
          ],
          [
           0.1111111111111111,
           "#482878"
          ],
          [
           0.2222222222222222,
           "#3e4989"
          ],
          [
           0.3333333333333333,
           "#31688e"
          ],
          [
           0.4444444444444444,
           "#26828e"
          ],
          [
           0.5555555555555556,
           "#1f9e89"
          ],
          [
           0.6666666666666666,
           "#35b779"
          ],
          [
           0.7777777777777778,
           "#6ece58"
          ],
          [
           0.8888888888888888,
           "#b5de2b"
          ],
          [
           1,
           "#fde725"
          ]
         ],
         "opacity": 0.7,
         "scene": "scene",
         "showscale": false,
         "surfacecolor": {
          "bdata": "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",
          "dtype": "f4",
          "shape": "20, 20"
         },
         "type": "surface",
         "x": {
          "bdata": "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",
          "dtype": "f8",
          "shape": "20, 20"
         },
         "y": {
          "bdata": "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",
          "dtype": "f8",
          "shape": "20, 20"
         },
         "z": {
          "bdata": "27Zt27Zt2z/btm3btm3bP9u2bdu2bds/27Zt27Zt2z/btm3btm3bP9u2bdu2bds/27Zt27Zt2z/btm3btm3bP9u2bdu2bds/27Zt27Zt2z/btm3btm3bP9u2bdu2bds/27Zt27Zt2z/btm3btm3bP9u2bdu2bds/27Zt27Zt2z/btm3btm3bP9u2bdu2bds/27Zt27Zt2z/btm3btm3bP9u2bdu2bds/27Zt27Zt2z/btm3btm3bP9u2bdu2bds/27Zt27Zt2z/btm3btm3bP9u2bdu2bds/27Zt27Zt2z/btm3btm3bP9u2bdu2bds/27Zt27Zt2z/btm3btm3bP9u2bdu2bds/27Zt27Zt2z/btm3btm3bP9u2bdu2bds/27Zt27Zt2z/btm3btm3bP9u2bdu2bds/27Zt27Zt2z/btm3btm3bP9u2bdu2bds/27Zt27Zt2z/btm3btm3bP9u2bdu2bds/27Zt27Zt2z/btm3btm3bP9u2bdu2bds/27Zt27Zt2z/btm3btm3bP9u2bdu2bds/27Zt27Zt2z/btm3btm3bP9u2bdu2bds/27Zt27Zt2z/btm3btm3bP9u2bdu2bds/27Zt27Zt2z/btm3btm3bP9u2bdu2bds/27Zt27Zt2z/btm3btm3bP9u2bdu2bds/27Zt27Zt2z/btm3btm3bP9u2bdu2bds/27Zt27Zt2z/btm3btm3bP9u2bdu2bds/27Zt27Zt2z/btm3btm3bP9u2bdu2bds/27Zt27Zt2z/btm3btm3bP9u2bdu2bds/27Zt27Zt2z/btm3btm3bP9u2bdu2bds/27Zt27Zt2z/btm3btm3bP9u2bdu2bds/27Zt27Zt2z/btm3btm3bP9u2bdu2bds/27Zt27Zt2z/btm3btm3bP9u2bdu2bds/27Zt27Zt2z/btm3btm3bP9u2bdu2bds/27Zt27Zt2z/btm3btm3bP9u2bdu2bds/27Zt27Zt2z/btm3btm3bP9u2bdu2bds/27Zt27Zt2z/btm3btm3bP9u2bdu2bds/27Zt27Zt2z/btm3btm3bP9u2bdu2bds/27Zt27Zt2z/btm3btm3bP9u2bdu2bds/27Zt27Zt2z/btm3btm3bP9u2bdu2bds/27Zt27Zt2z/btm3btm3bP9u2bdu2bds/27Zt27Zt2z/btm3btm3bP9u2bdu2bds/27Zt27Zt2z/btm3btm3bP9u2bdu2bds/27Zt27Zt2z/btm3btm3bP9u2bdu2bds/27Zt27Zt2z/btm3btm3bP9u2bdu2bds/27Zt27Zt2z/btm3btm3bP9u2bdu2bds/27Zt27Zt2z/btm3btm3bP9u2bdu2bds/27Zt27Zt2z/btm3btm3bP9u2bdu2bds/27Zt27Zt2z/btm3btm3bP9u2bdu2bds/27Zt27Zt2z/btm3btm3bP9u2bdu2bds/27Zt27Zt2z/btm3btm3bP9u2bdu2bds/27Zt27Zt2z/btm3btm3bP9u2bdu2bds/27Zt27Zt2z/btm3btm3bP9u2bdu2bds/27Zt27Zt2z/btm3btm3bP9u2bdu2bds/27Zt27Zt2z/btm3btm3bP9u2bdu2bds/27Zt27Zt2z/btm3btm3bP9u2bdu2bds/27Zt27Zt2z/btm3btm3bP9u2bdu2bds/27Zt27Zt2z/btm3btm3bP9u2bdu2bds/27Zt27Zt2z/btm3btm3bP9u2bdu2bds/27Zt27Zt2z/btm3btm3bP9u2bdu2bds/27Zt27Zt2z/btm3btm3bP9u2bdu2bds/27Zt27Zt2z/btm3btm3bP9u2bdu2bds/27Zt27Zt2z/btm3btm3bP9u2bdu2bds/27Zt27Zt2z/btm3btm3bP9u2bdu2bds/27Zt27Zt2z/btm3btm3bP9u2bdu2bds/27Zt27Zt2z/btm3btm3bP9u2bdu2bds/27Zt27Zt2z/btm3btm3bP9u2bdu2bds/27Zt27Zt2z/btm3btm3bP9u2bdu2bds/27Zt27Zt2z/btm3btm3bP9u2bdu2bds/27Zt27Zt2z/btm3btm3bP9u2bdu2bds/27Zt27Zt2z/btm3btm3bP9u2bdu2bds/27Zt27Zt2z/btm3btm3bP9u2bdu2bds/27Zt27Zt2z/btm3btm3bP9u2bdu2bds/27Zt27Zt2z/btm3btm3bP9u2bdu2bds/27Zt27Zt2z/btm3btm3bP9u2bdu2bds/27Zt27Zt2z/btm3btm3bP9u2bdu2bds/27Zt27Zt2z/btm3btm3bP9u2bdu2bds/27Zt27Zt2z/btm3btm3bP9u2bdu2bds/27Zt27Zt2z/btm3btm3bP9u2bdu2bds/27Zt27Zt2z/btm3btm3bP9u2bdu2bds/27Zt27Zt2z/btm3btm3bP9u2bdu2bds/27Zt27Zt2z/btm3btm3bP9u2bdu2bds/27Zt27Zt2z/btm3btm3bP9u2bdu2bds/27Zt27Zt2z/btm3btm3bP9u2bdu2bds/27Zt27Zt2z/btm3btm3bP9u2bdu2bds/27Zt27Zt2z/btm3btm3bP9u2bdu2bds/27Zt27Zt2z/btm3btm3bP9u2bdu2bds/27Zt27Zt2z/btm3btm3bP9u2bdu2bds/27Zt27Zt2z/btm3btm3bP9u2bdu2bds/27Zt27Zt2z/btm3btm3bP9u2bdu2bds/27Zt27Zt2z/btm3btm3bP9u2bdu2bds/27Zt27Zt2z/btm3btm3bP9u2bdu2bds/27Zt27Zt2z/btm3btm3bP9u2bdu2bds/27Zt27Zt2z/btm3btm3bP9u2bdu2bds/27Zt27Zt2z/btm3btm3bP9u2bdu2bds/27Zt27Zt2z/btm3btm3bP9u2bdu2bds/27Zt27Zt2z/btm3btm3bP9u2bdu2bds/27Zt27Zt2z/btm3btm3bP9u2bdu2bds/27Zt27Zt2z/btm3btm3bP9u2bdu2bds/27Zt27Zt2z/btm3btm3bP9u2bdu2bds/27Zt27Zt2z/btm3btm3bP9u2bdu2bds/27Zt27Zt2z/btm3btm3bP9u2bdu2bds/27Zt27Zt2z/btm3btm3bP9u2bdu2bds/27Zt27Zt2z/btm3btm3bP9u2bdu2bds/27Zt27Zt2z/btm3btm3bP9u2bdu2bds/27Zt27Zt2z/btm3btm3bP9u2bdu2bds/27Zt27Zt2z/btm3btm3bP9u2bdu2bds/27Zt27Zt2z/btm3btm3bP9u2bdu2bds/27Zt27Zt2z/btm3btm3bP9u2bdu2bds/27Zt27Zt2z/btm3btm3bP9u2bdu2bds/27Zt27Zt2z/btm3btm3bP9u2bdu2bds/27Zt27Zt2z/btm3btm3bP9u2bdu2bds/27Zt27Zt2z/btm3btm3bP9u2bdu2bds/27Zt27Zt2z/btm3btm3bP9u2bdu2bds/27Zt27Zt2z/btm3btm3bP9u2bdu2bds/27Zt27Zt2z/btm3btm3bP9u2bdu2bds/27Zt27Zt2z/btm3btm3bP9u2bdu2bds/27Zt27Zt2z/btm3btm3bP9u2bdu2bds/27Zt27Zt2z/btm3btm3bP9u2bdu2bds/27Zt27Zt2z/btm3btm3bP9u2bdu2bds/27Zt27Zt2z/btm3btm3bP9u2bdu2bds/27Zt27Zt2z/btm3btm3bP9u2bdu2bds/27Zt27Zt2z/btm3btm3bP9u2bdu2bds/27Zt27Zt2z/btm3btm3bP9u2bdu2bds/27Zt27Zt2z/btm3btm3bP9u2bdu2bds/27Zt27Zt2z/btm3btm3bP9u2bdu2bds/27Zt27Zt2z/btm3btm3bP9u2bdu2bds/27Zt27Zt2z/btm3btm3bP9u2bdu2bds/27Zt27Zt2z/btm3btm3bP9u2bdu2bds/27Zt27Zt2z/btm3btm3bP9u2bdu2bds/27Zt27Zt2z/btm3btm3bP9u2bdu2bds/27Zt27Zt2z/btm3btm3bP9u2bdu2bds/27Zt27Zt2z/btm3btm3bP9u2bdu2bds/27Zt27Zt2z/btm3btm3bP9u2bdu2bds/27Zt27Zt2z/btm3btm3bP9u2bdu2bds/27Zt27Zt2z/btm3btm3bP9u2bdu2bds/27Zt27Zt2z/btm3btm3bP9u2bdu2bds/27Zt27Zt2z8=",
          "dtype": "f8",
          "shape": "20, 20"
         }
        },
        {
         "cmax": 46.71140670776367,
         "cmin": 0.43323537707328796,
         "colorscale": [
          [
           0,
           "#440154"
          ],
          [
           0.1111111111111111,
           "#482878"
          ],
          [
           0.2222222222222222,
           "#3e4989"
          ],
          [
           0.3333333333333333,
           "#31688e"
          ],
          [
           0.4444444444444444,
           "#26828e"
          ],
          [
           0.5555555555555556,
           "#1f9e89"
          ],
          [
           0.6666666666666666,
           "#35b779"
          ],
          [
           0.7777777777777778,
           "#6ece58"
          ],
          [
           0.8888888888888888,
           "#b5de2b"
          ],
          [
           1,
           "#fde725"
          ]
         ],
         "opacity": 0.7,
         "scene": "scene2",
         "showscale": false,
         "surfacecolor": {
          "bdata": "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",
          "dtype": "f4",
          "shape": "20, 20"
         },
         "type": "surface",
         "x": {
          "bdata": "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",
          "dtype": "f8",
          "shape": "20, 20"
         },
         "y": {
          "bdata": "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",
          "dtype": "f8",
          "shape": "20, 20"
         },
         "z": {
          "bdata": "27Zt27Zt2z/btm3btm3bP9u2bdu2bds/27Zt27Zt2z/btm3btm3bP9u2bdu2bds/27Zt27Zt2z/btm3btm3bP9u2bdu2bds/27Zt27Zt2z/btm3btm3bP9u2bdu2bds/27Zt27Zt2z/btm3btm3bP9u2bdu2bds/27Zt27Zt2z/btm3btm3bP9u2bdu2bds/27Zt27Zt2z/btm3btm3bP9u2bdu2bds/27Zt27Zt2z/btm3btm3bP9u2bdu2bds/27Zt27Zt2z/btm3btm3bP9u2bdu2bds/27Zt27Zt2z/btm3btm3bP9u2bdu2bds/27Zt27Zt2z/btm3btm3bP9u2bdu2bds/27Zt27Zt2z/btm3btm3bP9u2bdu2bds/27Zt27Zt2z/btm3btm3bP9u2bdu2bds/27Zt27Zt2z/btm3btm3bP9u2bdu2bds/27Zt27Zt2z/btm3btm3bP9u2bdu2bds/27Zt27Zt2z/btm3btm3bP9u2bdu2bds/27Zt27Zt2z/btm3btm3bP9u2bdu2bds/27Zt27Zt2z/btm3btm3bP9u2bdu2bds/27Zt27Zt2z/btm3btm3bP9u2bdu2bds/27Zt27Zt2z/btm3btm3bP9u2bdu2bds/27Zt27Zt2z/btm3btm3bP9u2bdu2bds/27Zt27Zt2z/btm3btm3bP9u2bdu2bds/27Zt27Zt2z/btm3btm3bP9u2bdu2bds/27Zt27Zt2z/btm3btm3bP9u2bdu2bds/27Zt27Zt2z/btm3btm3bP9u2bdu2bds/27Zt27Zt2z/btm3btm3bP9u2bdu2bds/27Zt27Zt2z/btm3btm3bP9u2bdu2bds/27Zt27Zt2z/btm3btm3bP9u2bdu2bds/27Zt27Zt2z/btm3btm3bP9u2bdu2bds/27Zt27Zt2z/btm3btm3bP9u2bdu2bds/27Zt27Zt2z/btm3btm3bP9u2bdu2bds/27Zt27Zt2z/btm3btm3bP9u2bdu2bds/27Zt27Zt2z/btm3btm3bP9u2bdu2bds/27Zt27Zt2z/btm3btm3bP9u2bdu2bds/27Zt27Zt2z/btm3btm3bP9u2bdu2bds/27Zt27Zt2z/btm3btm3bP9u2bdu2bds/27Zt27Zt2z/btm3btm3bP9u2bdu2bds/27Zt27Zt2z/btm3btm3bP9u2bdu2bds/27Zt27Zt2z/btm3btm3bP9u2bdu2bds/27Zt27Zt2z/btm3btm3bP9u2bdu2bds/27Zt27Zt2z/btm3btm3bP9u2bdu2bds/27Zt27Zt2z/btm3btm3bP9u2bdu2bds/27Zt27Zt2z/btm3btm3bP9u2bdu2bds/27Zt27Zt2z/btm3btm3bP9u2bdu2bds/27Zt27Zt2z/btm3btm3bP9u2bdu2bds/27Zt27Zt2z/btm3btm3bP9u2bdu2bds/27Zt27Zt2z/btm3btm3bP9u2bdu2bds/27Zt27Zt2z/btm3btm3bP9u2bdu2bds/27Zt27Zt2z/btm3btm3bP9u2bdu2bds/27Zt27Zt2z/btm3btm3bP9u2bdu2bds/27Zt27Zt2z/btm3btm3bP9u2bdu2bds/27Zt27Zt2z/btm3btm3bP9u2bdu2bds/27Zt27Zt2z/btm3btm3bP9u2bdu2bds/27Zt27Zt2z/btm3btm3bP9u2bdu2bds/27Zt27Zt2z/btm3btm3bP9u2bdu2bds/27Zt27Zt2z/btm3btm3bP9u2bdu2bds/27Zt27Zt2z/btm3btm3bP9u2bdu2bds/27Zt27Zt2z/btm3btm3bP9u2bdu2bds/27Zt27Zt2z/btm3btm3bP9u2bdu2bds/27Zt27Zt2z/btm3btm3bP9u2bdu2bds/27Zt27Zt2z/btm3btm3bP9u2bdu2bds/27Zt27Zt2z/btm3btm3bP9u2bdu2bds/27Zt27Zt2z/btm3btm3bP9u2bdu2bds/27Zt27Zt2z/btm3btm3bP9u2bdu2bds/27Zt27Zt2z/btm3btm3bP9u2bdu2bds/27Zt27Zt2z/btm3btm3bP9u2bdu2bds/27Zt27Zt2z/btm3btm3bP9u2bdu2bds/27Zt27Zt2z/btm3btm3bP9u2bdu2bds/27Zt27Zt2z/btm3btm3bP9u2bdu2bds/27Zt27Zt2z/btm3btm3bP9u2bdu2bds/27Zt27Zt2z/btm3btm3bP9u2bdu2bds/27Zt27Zt2z/btm3btm3bP9u2bdu2bds/27Zt27Zt2z/btm3btm3bP9u2bdu2bds/27Zt27Zt2z/btm3btm3bP9u2bdu2bds/27Zt27Zt2z/btm3btm3bP9u2bdu2bds/27Zt27Zt2z/btm3btm3bP9u2bdu2bds/27Zt27Zt2z/btm3btm3bP9u2bdu2bds/27Zt27Zt2z/btm3btm3bP9u2bdu2bds/27Zt27Zt2z/btm3btm3bP9u2bdu2bds/27Zt27Zt2z/btm3btm3bP9u2bdu2bds/27Zt27Zt2z/btm3btm3bP9u2bdu2bds/27Zt27Zt2z/btm3btm3bP9u2bdu2bds/27Zt27Zt2z/btm3btm3bP9u2bdu2bds/27Zt27Zt2z/btm3btm3bP9u2bdu2bds/27Zt27Zt2z/btm3btm3bP9u2bdu2bds/27Zt27Zt2z/btm3btm3bP9u2bdu2bds/27Zt27Zt2z/btm3btm3bP9u2bdu2bds/27Zt27Zt2z/btm3btm3bP9u2bdu2bds/27Zt27Zt2z/btm3btm3bP9u2bdu2bds/27Zt27Zt2z/btm3btm3bP9u2bdu2bds/27Zt27Zt2z/btm3btm3bP9u2bdu2bds/27Zt27Zt2z/btm3btm3bP9u2bdu2bds/27Zt27Zt2z/btm3btm3bP9u2bdu2bds/27Zt27Zt2z/btm3btm3bP9u2bdu2bds/27Zt27Zt2z/btm3btm3bP9u2bdu2bds/27Zt27Zt2z/btm3btm3bP9u2bdu2bds/27Zt27Zt2z/btm3btm3bP9u2bdu2bds/27Zt27Zt2z/btm3btm3bP9u2bdu2bds/27Zt27Zt2z/btm3btm3bP9u2bdu2bds/27Zt27Zt2z/btm3btm3bP9u2bdu2bds/27Zt27Zt2z/btm3btm3bP9u2bdu2bds/27Zt27Zt2z/btm3btm3bP9u2bdu2bds/27Zt27Zt2z/btm3btm3bP9u2bdu2bds/27Zt27Zt2z/btm3btm3bP9u2bdu2bds/27Zt27Zt2z/btm3btm3bP9u2bdu2bds/27Zt27Zt2z/btm3btm3bP9u2bdu2bds/27Zt27Zt2z/btm3btm3bP9u2bdu2bds/27Zt27Zt2z/btm3btm3bP9u2bdu2bds/27Zt27Zt2z/btm3btm3bP9u2bdu2bds/27Zt27Zt2z/btm3btm3bP9u2bdu2bds/27Zt27Zt2z/btm3btm3bP9u2bdu2bds/27Zt27Zt2z/btm3btm3bP9u2bdu2bds/27Zt27Zt2z/btm3btm3bP9u2bdu2bds/27Zt27Zt2z/btm3btm3bP9u2bdu2bds/27Zt27Zt2z/btm3btm3bP9u2bdu2bds/27Zt27Zt2z/btm3btm3bP9u2bdu2bds/27Zt27Zt2z/btm3btm3bP9u2bdu2bds/27Zt27Zt2z/btm3btm3bP9u2bdu2bds/27Zt27Zt2z/btm3btm3bP9u2bdu2bds/27Zt27Zt2z/btm3btm3bP9u2bdu2bds/27Zt27Zt2z/btm3btm3bP9u2bdu2bds/27Zt27Zt2z/btm3btm3bP9u2bdu2bds/27Zt27Zt2z/btm3btm3bP9u2bdu2bds/27Zt27Zt2z/btm3btm3bP9u2bdu2bds/27Zt27Zt2z/btm3btm3bP9u2bdu2bds/27Zt27Zt2z/btm3btm3bP9u2bdu2bds/27Zt27Zt2z/btm3btm3bP9u2bdu2bds/27Zt27Zt2z/btm3btm3bP9u2bdu2bds/27Zt27Zt2z/btm3btm3bP9u2bdu2bds/27Zt27Zt2z/btm3btm3bP9u2bdu2bds/27Zt27Zt2z/btm3btm3bP9u2bdu2bds/27Zt27Zt2z/btm3btm3bP9u2bdu2bds/27Zt27Zt2z/btm3btm3bP9u2bdu2bds/27Zt27Zt2z8=",
          "dtype": "f8",
          "shape": "20, 20"
         }
        },
        {
         "cmax": 46.71140670776367,
         "cmin": 0.43323537707328796,
         "colorscale": [
          [
           0,
           "#440154"
          ],
          [
           0.1111111111111111,
           "#482878"
          ],
          [
           0.2222222222222222,
           "#3e4989"
          ],
          [
           0.3333333333333333,
           "#31688e"
          ],
          [
           0.4444444444444444,
           "#26828e"
          ],
          [
           0.5555555555555556,
           "#1f9e89"
          ],
          [
           0.6666666666666666,
           "#35b779"
          ],
          [
           0.7777777777777778,
           "#6ece58"
          ],
          [
           0.8888888888888888,
           "#b5de2b"
          ],
          [
           1,
           "#fde725"
          ]
         ],
         "opacity": 0.7,
         "scene": "scene3",
         "showscale": false,
         "surfacecolor": {
          "bdata": "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",
          "dtype": "f4",
          "shape": "20, 20"
         },
         "type": "surface",
         "x": {
          "bdata": "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",
          "dtype": "f8",
          "shape": "20, 20"
         },
         "y": {
          "bdata": "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",
          "dtype": "f8",
          "shape": "20, 20"
         },
         "z": {
          "bdata": "27Zt27Zt2z/btm3btm3bP9u2bdu2bds/27Zt27Zt2z/btm3btm3bP9u2bdu2bds/27Zt27Zt2z/btm3btm3bP9u2bdu2bds/27Zt27Zt2z/btm3btm3bP9u2bdu2bds/27Zt27Zt2z/btm3btm3bP9u2bdu2bds/27Zt27Zt2z/btm3btm3bP9u2bdu2bds/27Zt27Zt2z/btm3btm3bP9u2bdu2bds/27Zt27Zt2z/btm3btm3bP9u2bdu2bds/27Zt27Zt2z/btm3btm3bP9u2bdu2bds/27Zt27Zt2z/btm3btm3bP9u2bdu2bds/27Zt27Zt2z/btm3btm3bP9u2bdu2bds/27Zt27Zt2z/btm3btm3bP9u2bdu2bds/27Zt27Zt2z/btm3btm3bP9u2bdu2bds/27Zt27Zt2z/btm3btm3bP9u2bdu2bds/27Zt27Zt2z/btm3btm3bP9u2bdu2bds/27Zt27Zt2z/btm3btm3bP9u2bdu2bds/27Zt27Zt2z/btm3btm3bP9u2bdu2bds/27Zt27Zt2z/btm3btm3bP9u2bdu2bds/27Zt27Zt2z/btm3btm3bP9u2bdu2bds/27Zt27Zt2z/btm3btm3bP9u2bdu2bds/27Zt27Zt2z/btm3btm3bP9u2bdu2bds/27Zt27Zt2z/btm3btm3bP9u2bdu2bds/27Zt27Zt2z/btm3btm3bP9u2bdu2bds/27Zt27Zt2z/btm3btm3bP9u2bdu2bds/27Zt27Zt2z/btm3btm3bP9u2bdu2bds/27Zt27Zt2z/btm3btm3bP9u2bdu2bds/27Zt27Zt2z/btm3btm3bP9u2bdu2bds/27Zt27Zt2z/btm3btm3bP9u2bdu2bds/27Zt27Zt2z/btm3btm3bP9u2bdu2bds/27Zt27Zt2z/btm3btm3bP9u2bdu2bds/27Zt27Zt2z/btm3btm3bP9u2bdu2bds/27Zt27Zt2z/btm3btm3bP9u2bdu2bds/27Zt27Zt2z/btm3btm3bP9u2bdu2bds/27Zt27Zt2z/btm3btm3bP9u2bdu2bds/27Zt27Zt2z/btm3btm3bP9u2bdu2bds/27Zt27Zt2z/btm3btm3bP9u2bdu2bds/27Zt27Zt2z/btm3btm3bP9u2bdu2bds/27Zt27Zt2z/btm3btm3bP9u2bdu2bds/27Zt27Zt2z/btm3btm3bP9u2bdu2bds/27Zt27Zt2z/btm3btm3bP9u2bdu2bds/27Zt27Zt2z/btm3btm3bP9u2bdu2bds/27Zt27Zt2z/btm3btm3bP9u2bdu2bds/27Zt27Zt2z/btm3btm3bP9u2bdu2bds/27Zt27Zt2z/btm3btm3bP9u2bdu2bds/27Zt27Zt2z/btm3btm3bP9u2bdu2bds/27Zt27Zt2z/btm3btm3bP9u2bdu2bds/27Zt27Zt2z/btm3btm3bP9u2bdu2bds/27Zt27Zt2z/btm3btm3bP9u2bdu2bds/27Zt27Zt2z/btm3btm3bP9u2bdu2bds/27Zt27Zt2z/btm3btm3bP9u2bdu2bds/27Zt27Zt2z/btm3btm3bP9u2bdu2bds/27Zt27Zt2z/btm3btm3bP9u2bdu2bds/27Zt27Zt2z/btm3btm3bP9u2bdu2bds/27Zt27Zt2z/btm3btm3bP9u2bdu2bds/27Zt27Zt2z/btm3btm3bP9u2bdu2bds/27Zt27Zt2z/btm3btm3bP9u2bdu2bds/27Zt27Zt2z/btm3btm3bP9u2bdu2bds/27Zt27Zt2z/btm3btm3bP9u2bdu2bds/27Zt27Zt2z/btm3btm3bP9u2bdu2bds/27Zt27Zt2z/btm3btm3bP9u2bdu2bds/27Zt27Zt2z/btm3btm3bP9u2bdu2bds/27Zt27Zt2z/btm3btm3bP9u2bdu2bds/27Zt27Zt2z/btm3btm3bP9u2bdu2bds/27Zt27Zt2z/btm3btm3bP9u2bdu2bds/27Zt27Zt2z/btm3btm3bP9u2bdu2bds/27Zt27Zt2z/btm3btm3bP9u2bdu2bds/27Zt27Zt2z/btm3btm3bP9u2bdu2bds/27Zt27Zt2z/btm3btm3bP9u2bdu2bds/27Zt27Zt2z/btm3btm3bP9u2bdu2bds/27Zt27Zt2z/btm3btm3bP9u2bdu2bds/27Zt27Zt2z/btm3btm3bP9u2bdu2bds/27Zt27Zt2z/btm3btm3bP9u2bdu2bds/27Zt27Zt2z/btm3btm3bP9u2bdu2bds/27Zt27Zt2z/btm3btm3bP9u2bdu2bds/27Zt27Zt2z/btm3btm3bP9u2bdu2bds/27Zt27Zt2z/btm3btm3bP9u2bdu2bds/27Zt27Zt2z/btm3btm3bP9u2bdu2bds/27Zt27Zt2z/btm3btm3bP9u2bdu2bds/27Zt27Zt2z/btm3btm3bP9u2bdu2bds/27Zt27Zt2z/btm3btm3bP9u2bdu2bds/27Zt27Zt2z/btm3btm3bP9u2bdu2bds/27Zt27Zt2z/btm3btm3bP9u2bdu2bds/27Zt27Zt2z/btm3btm3bP9u2bdu2bds/27Zt27Zt2z/btm3btm3bP9u2bdu2bds/27Zt27Zt2z/btm3btm3bP9u2bdu2bds/27Zt27Zt2z/btm3btm3bP9u2bdu2bds/27Zt27Zt2z/btm3btm3bP9u2bdu2bds/27Zt27Zt2z/btm3btm3bP9u2bdu2bds/27Zt27Zt2z/btm3btm3bP9u2bdu2bds/27Zt27Zt2z/btm3btm3bP9u2bdu2bds/27Zt27Zt2z/btm3btm3bP9u2bdu2bds/27Zt27Zt2z/btm3btm3bP9u2bdu2bds/27Zt27Zt2z/btm3btm3bP9u2bdu2bds/27Zt27Zt2z/btm3btm3bP9u2bdu2bds/27Zt27Zt2z/btm3btm3bP9u2bdu2bds/27Zt27Zt2z/btm3btm3bP9u2bdu2bds/27Zt27Zt2z/btm3btm3bP9u2bdu2bds/27Zt27Zt2z/btm3btm3bP9u2bdu2bds/27Zt27Zt2z/btm3btm3bP9u2bdu2bds/27Zt27Zt2z/btm3btm3bP9u2bdu2bds/27Zt27Zt2z/btm3btm3bP9u2bdu2bds/27Zt27Zt2z/btm3btm3bP9u2bdu2bds/27Zt27Zt2z/btm3btm3bP9u2bdu2bds/27Zt27Zt2z/btm3btm3bP9u2bdu2bds/27Zt27Zt2z/btm3btm3bP9u2bdu2bds/27Zt27Zt2z/btm3btm3bP9u2bdu2bds/27Zt27Zt2z/btm3btm3bP9u2bdu2bds/27Zt27Zt2z/btm3btm3bP9u2bdu2bds/27Zt27Zt2z/btm3btm3bP9u2bdu2bds/27Zt27Zt2z/btm3btm3bP9u2bdu2bds/27Zt27Zt2z/btm3btm3bP9u2bdu2bds/27Zt27Zt2z/btm3btm3bP9u2bdu2bds/27Zt27Zt2z/btm3btm3bP9u2bdu2bds/27Zt27Zt2z/btm3btm3bP9u2bdu2bds/27Zt27Zt2z/btm3btm3bP9u2bdu2bds/27Zt27Zt2z/btm3btm3bP9u2bdu2bds/27Zt27Zt2z/btm3btm3bP9u2bdu2bds/27Zt27Zt2z/btm3btm3bP9u2bdu2bds/27Zt27Zt2z/btm3btm3bP9u2bdu2bds/27Zt27Zt2z/btm3btm3bP9u2bdu2bds/27Zt27Zt2z/btm3btm3bP9u2bdu2bds/27Zt27Zt2z/btm3btm3bP9u2bdu2bds/27Zt27Zt2z/btm3btm3bP9u2bdu2bds/27Zt27Zt2z/btm3btm3bP9u2bdu2bds/27Zt27Zt2z/btm3btm3bP9u2bdu2bds/27Zt27Zt2z/btm3btm3bP9u2bdu2bds/27Zt27Zt2z/btm3btm3bP9u2bdu2bds/27Zt27Zt2z/btm3btm3bP9u2bdu2bds/27Zt27Zt2z/btm3btm3bP9u2bdu2bds/27Zt27Zt2z/btm3btm3bP9u2bdu2bds/27Zt27Zt2z/btm3btm3bP9u2bdu2bds/27Zt27Zt2z/btm3btm3bP9u2bdu2bds/27Zt27Zt2z/btm3btm3bP9u2bdu2bds/27Zt27Zt2z8=",
          "dtype": "f8",
          "shape": "20, 20"
         }
        },
        {
         "cmax": 46.71140670776367,
         "cmin": 0.43323537707328796,
         "colorscale": [
          [
           0,
           "#440154"
          ],
          [
           0.1111111111111111,
           "#482878"
          ],
          [
           0.2222222222222222,
           "#3e4989"
          ],
          [
           0.3333333333333333,
           "#31688e"
          ],
          [
           0.4444444444444444,
           "#26828e"
          ],
          [
           0.5555555555555556,
           "#1f9e89"
          ],
          [
           0.6666666666666666,
           "#35b779"
          ],
          [
           0.7777777777777778,
           "#6ece58"
          ],
          [
           0.8888888888888888,
           "#b5de2b"
          ],
          [
           1,
           "#fde725"
          ]
         ],
         "opacity": 0.7,
         "scene": "scene4",
         "showscale": false,
         "surfacecolor": {
          "bdata": "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",
          "dtype": "f4",
          "shape": "20, 20"
         },
         "type": "surface",
         "x": {
          "bdata": "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",
          "dtype": "f8",
          "shape": "20, 20"
         },
         "y": {
          "bdata": "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",
          "dtype": "f8",
          "shape": "20, 20"
         },
         "z": {
          "bdata": "27Zt27Zt2z/btm3btm3bP9u2bdu2bds/27Zt27Zt2z/btm3btm3bP9u2bdu2bds/27Zt27Zt2z/btm3btm3bP9u2bdu2bds/27Zt27Zt2z/btm3btm3bP9u2bdu2bds/27Zt27Zt2z/btm3btm3bP9u2bdu2bds/27Zt27Zt2z/btm3btm3bP9u2bdu2bds/27Zt27Zt2z/btm3btm3bP9u2bdu2bds/27Zt27Zt2z/btm3btm3bP9u2bdu2bds/27Zt27Zt2z/btm3btm3bP9u2bdu2bds/27Zt27Zt2z/btm3btm3bP9u2bdu2bds/27Zt27Zt2z/btm3btm3bP9u2bdu2bds/27Zt27Zt2z/btm3btm3bP9u2bdu2bds/27Zt27Zt2z/btm3btm3bP9u2bdu2bds/27Zt27Zt2z/btm3btm3bP9u2bdu2bds/27Zt27Zt2z/btm3btm3bP9u2bdu2bds/27Zt27Zt2z/btm3btm3bP9u2bdu2bds/27Zt27Zt2z/btm3btm3bP9u2bdu2bds/27Zt27Zt2z/btm3btm3bP9u2bdu2bds/27Zt27Zt2z/btm3btm3bP9u2bdu2bds/27Zt27Zt2z/btm3btm3bP9u2bdu2bds/27Zt27Zt2z/btm3btm3bP9u2bdu2bds/27Zt27Zt2z/btm3btm3bP9u2bdu2bds/27Zt27Zt2z/btm3btm3bP9u2bdu2bds/27Zt27Zt2z/btm3btm3bP9u2bdu2bds/27Zt27Zt2z/btm3btm3bP9u2bdu2bds/27Zt27Zt2z/btm3btm3bP9u2bdu2bds/27Zt27Zt2z/btm3btm3bP9u2bdu2bds/27Zt27Zt2z/btm3btm3bP9u2bdu2bds/27Zt27Zt2z/btm3btm3bP9u2bdu2bds/27Zt27Zt2z/btm3btm3bP9u2bdu2bds/27Zt27Zt2z/btm3btm3bP9u2bdu2bds/27Zt27Zt2z/btm3btm3bP9u2bdu2bds/27Zt27Zt2z/btm3btm3bP9u2bdu2bds/27Zt27Zt2z/btm3btm3bP9u2bdu2bds/27Zt27Zt2z/btm3btm3bP9u2bdu2bds/27Zt27Zt2z/btm3btm3bP9u2bdu2bds/27Zt27Zt2z/btm3btm3bP9u2bdu2bds/27Zt27Zt2z/btm3btm3bP9u2bdu2bds/27Zt27Zt2z/btm3btm3bP9u2bdu2bds/27Zt27Zt2z/btm3btm3bP9u2bdu2bds/27Zt27Zt2z/btm3btm3bP9u2bdu2bds/27Zt27Zt2z/btm3btm3bP9u2bdu2bds/27Zt27Zt2z/btm3btm3bP9u2bdu2bds/27Zt27Zt2z/btm3btm3bP9u2bdu2bds/27Zt27Zt2z/btm3btm3bP9u2bdu2bds/27Zt27Zt2z/btm3btm3bP9u2bdu2bds/27Zt27Zt2z/btm3btm3bP9u2bdu2bds/27Zt27Zt2z/btm3btm3bP9u2bdu2bds/27Zt27Zt2z/btm3btm3bP9u2bdu2bds/27Zt27Zt2z/btm3btm3bP9u2bdu2bds/27Zt27Zt2z/btm3btm3bP9u2bdu2bds/27Zt27Zt2z/btm3btm3bP9u2bdu2bds/27Zt27Zt2z/btm3btm3bP9u2bdu2bds/27Zt27Zt2z/btm3btm3bP9u2bdu2bds/27Zt27Zt2z/btm3btm3bP9u2bdu2bds/27Zt27Zt2z/btm3btm3bP9u2bdu2bds/27Zt27Zt2z/btm3btm3bP9u2bdu2bds/27Zt27Zt2z/btm3btm3bP9u2bdu2bds/27Zt27Zt2z/btm3btm3bP9u2bdu2bds/27Zt27Zt2z/btm3btm3bP9u2bdu2bds/27Zt27Zt2z/btm3btm3bP9u2bdu2bds/27Zt27Zt2z/btm3btm3bP9u2bdu2bds/27Zt27Zt2z/btm3btm3bP9u2bdu2bds/27Zt27Zt2z/btm3btm3bP9u2bdu2bds/27Zt27Zt2z/btm3btm3bP9u2bdu2bds/27Zt27Zt2z/btm3btm3bP9u2bdu2bds/27Zt27Zt2z/btm3btm3bP9u2bdu2bds/27Zt27Zt2z/btm3btm3bP9u2bdu2bds/27Zt27Zt2z/btm3btm3bP9u2bdu2bds/27Zt27Zt2z/btm3btm3bP9u2bdu2bds/27Zt27Zt2z/btm3btm3bP9u2bdu2bds/27Zt27Zt2z/btm3btm3bP9u2bdu2bds/27Zt27Zt2z/btm3btm3bP9u2bdu2bds/27Zt27Zt2z/btm3btm3bP9u2bdu2bds/27Zt27Zt2z/btm3btm3bP9u2bdu2bds/27Zt27Zt2z/btm3btm3bP9u2bdu2bds/27Zt27Zt2z/btm3btm3bP9u2bdu2bds/27Zt27Zt2z/btm3btm3bP9u2bdu2bds/27Zt27Zt2z/btm3btm3bP9u2bdu2bds/27Zt27Zt2z/btm3btm3bP9u2bdu2bds/27Zt27Zt2z/btm3btm3bP9u2bdu2bds/27Zt27Zt2z/btm3btm3bP9u2bdu2bds/27Zt27Zt2z/btm3btm3bP9u2bdu2bds/27Zt27Zt2z/btm3btm3bP9u2bdu2bds/27Zt27Zt2z/btm3btm3bP9u2bdu2bds/27Zt27Zt2z/btm3btm3bP9u2bdu2bds/27Zt27Zt2z/btm3btm3bP9u2bdu2bds/27Zt27Zt2z/btm3btm3bP9u2bdu2bds/27Zt27Zt2z/btm3btm3bP9u2bdu2bds/27Zt27Zt2z/btm3btm3bP9u2bdu2bds/27Zt27Zt2z/btm3btm3bP9u2bdu2bds/27Zt27Zt2z/btm3btm3bP9u2bdu2bds/27Zt27Zt2z/btm3btm3bP9u2bdu2bds/27Zt27Zt2z/btm3btm3bP9u2bdu2bds/27Zt27Zt2z/btm3btm3bP9u2bdu2bds/27Zt27Zt2z/btm3btm3bP9u2bdu2bds/27Zt27Zt2z/btm3btm3bP9u2bdu2bds/27Zt27Zt2z/btm3btm3bP9u2bdu2bds/27Zt27Zt2z/btm3btm3bP9u2bdu2bds/27Zt27Zt2z/btm3btm3bP9u2bdu2bds/27Zt27Zt2z/btm3btm3bP9u2bdu2bds/27Zt27Zt2z/btm3btm3bP9u2bdu2bds/27Zt27Zt2z/btm3btm3bP9u2bdu2bds/27Zt27Zt2z/btm3btm3bP9u2bdu2bds/27Zt27Zt2z/btm3btm3bP9u2bdu2bds/27Zt27Zt2z/btm3btm3bP9u2bdu2bds/27Zt27Zt2z/btm3btm3bP9u2bdu2bds/27Zt27Zt2z/btm3btm3bP9u2bdu2bds/27Zt27Zt2z/btm3btm3bP9u2bdu2bds/27Zt27Zt2z/btm3btm3bP9u2bdu2bds/27Zt27Zt2z/btm3btm3bP9u2bdu2bds/27Zt27Zt2z/btm3btm3bP9u2bdu2bds/27Zt27Zt2z/btm3btm3bP9u2bdu2bds/27Zt27Zt2z/btm3btm3bP9u2bdu2bds/27Zt27Zt2z/btm3btm3bP9u2bdu2bds/27Zt27Zt2z/btm3btm3bP9u2bdu2bds/27Zt27Zt2z/btm3btm3bP9u2bdu2bds/27Zt27Zt2z/btm3btm3bP9u2bdu2bds/27Zt27Zt2z/btm3btm3bP9u2bdu2bds/27Zt27Zt2z/btm3btm3bP9u2bdu2bds/27Zt27Zt2z/btm3btm3bP9u2bdu2bds/27Zt27Zt2z/btm3btm3bP9u2bdu2bds/27Zt27Zt2z/btm3btm3bP9u2bdu2bds/27Zt27Zt2z/btm3btm3bP9u2bdu2bds/27Zt27Zt2z/btm3btm3bP9u2bdu2bds/27Zt27Zt2z/btm3btm3bP9u2bdu2bds/27Zt27Zt2z/btm3btm3bP9u2bdu2bds/27Zt27Zt2z/btm3btm3bP9u2bdu2bds/27Zt27Zt2z/btm3btm3bP9u2bdu2bds/27Zt27Zt2z/btm3btm3bP9u2bdu2bds/27Zt27Zt2z/btm3btm3bP9u2bdu2bds/27Zt27Zt2z/btm3btm3bP9u2bdu2bds/27Zt27Zt2z/btm3btm3bP9u2bdu2bds/27Zt27Zt2z8=",
          "dtype": "f8",
          "shape": "20, 20"
         }
        },
        {
         "cmax": 46.71140670776367,
         "cmin": 0.43323537707328796,
         "colorscale": [
          [
           0,
           "#440154"
          ],
          [
           0.1111111111111111,
           "#482878"
          ],
          [
           0.2222222222222222,
           "#3e4989"
          ],
          [
           0.3333333333333333,
           "#31688e"
          ],
          [
           0.4444444444444444,
           "#26828e"
          ],
          [
           0.5555555555555556,
           "#1f9e89"
          ],
          [
           0.6666666666666666,
           "#35b779"
          ],
          [
           0.7777777777777778,
           "#6ece58"
          ],
          [
           0.8888888888888888,
           "#b5de2b"
          ],
          [
           1,
           "#fde725"
          ]
         ],
         "opacity": 0.7,
         "scene": "scene5",
         "showscale": false,
         "surfacecolor": {
          "bdata": "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",
          "dtype": "f4",
          "shape": "20, 20"
         },
         "type": "surface",
         "x": {
          "bdata": "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",
          "dtype": "f8",
          "shape": "20, 20"
         },
         "y": {
          "bdata": "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",
          "dtype": "f8",
          "shape": "20, 20"
         },
         "z": {
          "bdata": "27Zt27Zt2z/btm3btm3bP9u2bdu2bds/27Zt27Zt2z/btm3btm3bP9u2bdu2bds/27Zt27Zt2z/btm3btm3bP9u2bdu2bds/27Zt27Zt2z/btm3btm3bP9u2bdu2bds/27Zt27Zt2z/btm3btm3bP9u2bdu2bds/27Zt27Zt2z/btm3btm3bP9u2bdu2bds/27Zt27Zt2z/btm3btm3bP9u2bdu2bds/27Zt27Zt2z/btm3btm3bP9u2bdu2bds/27Zt27Zt2z/btm3btm3bP9u2bdu2bds/27Zt27Zt2z/btm3btm3bP9u2bdu2bds/27Zt27Zt2z/btm3btm3bP9u2bdu2bds/27Zt27Zt2z/btm3btm3bP9u2bdu2bds/27Zt27Zt2z/btm3btm3bP9u2bdu2bds/27Zt27Zt2z/btm3btm3bP9u2bdu2bds/27Zt27Zt2z/btm3btm3bP9u2bdu2bds/27Zt27Zt2z/btm3btm3bP9u2bdu2bds/27Zt27Zt2z/btm3btm3bP9u2bdu2bds/27Zt27Zt2z/btm3btm3bP9u2bdu2bds/27Zt27Zt2z/btm3btm3bP9u2bdu2bds/27Zt27Zt2z/btm3btm3bP9u2bdu2bds/27Zt27Zt2z/btm3btm3bP9u2bdu2bds/27Zt27Zt2z/btm3btm3bP9u2bdu2bds/27Zt27Zt2z/btm3btm3bP9u2bdu2bds/27Zt27Zt2z/btm3btm3bP9u2bdu2bds/27Zt27Zt2z/btm3btm3bP9u2bdu2bds/27Zt27Zt2z/btm3btm3bP9u2bdu2bds/27Zt27Zt2z/btm3btm3bP9u2bdu2bds/27Zt27Zt2z/btm3btm3bP9u2bdu2bds/27Zt27Zt2z/btm3btm3bP9u2bdu2bds/27Zt27Zt2z/btm3btm3bP9u2bdu2bds/27Zt27Zt2z/btm3btm3bP9u2bdu2bds/27Zt27Zt2z/btm3btm3bP9u2bdu2bds/27Zt27Zt2z/btm3btm3bP9u2bdu2bds/27Zt27Zt2z/btm3btm3bP9u2bdu2bds/27Zt27Zt2z/btm3btm3bP9u2bdu2bds/27Zt27Zt2z/btm3btm3bP9u2bdu2bds/27Zt27Zt2z/btm3btm3bP9u2bdu2bds/27Zt27Zt2z/btm3btm3bP9u2bdu2bds/27Zt27Zt2z/btm3btm3bP9u2bdu2bds/27Zt27Zt2z/btm3btm3bP9u2bdu2bds/27Zt27Zt2z/btm3btm3bP9u2bdu2bds/27Zt27Zt2z/btm3btm3bP9u2bdu2bds/27Zt27Zt2z/btm3btm3bP9u2bdu2bds/27Zt27Zt2z/btm3btm3bP9u2bdu2bds/27Zt27Zt2z/btm3btm3bP9u2bdu2bds/27Zt27Zt2z/btm3btm3bP9u2bdu2bds/27Zt27Zt2z/btm3btm3bP9u2bdu2bds/27Zt27Zt2z/btm3btm3bP9u2bdu2bds/27Zt27Zt2z/btm3btm3bP9u2bdu2bds/27Zt27Zt2z/btm3btm3bP9u2bdu2bds/27Zt27Zt2z/btm3btm3bP9u2bdu2bds/27Zt27Zt2z/btm3btm3bP9u2bdu2bds/27Zt27Zt2z/btm3btm3bP9u2bdu2bds/27Zt27Zt2z/btm3btm3bP9u2bdu2bds/27Zt27Zt2z/btm3btm3bP9u2bdu2bds/27Zt27Zt2z/btm3btm3bP9u2bdu2bds/27Zt27Zt2z/btm3btm3bP9u2bdu2bds/27Zt27Zt2z/btm3btm3bP9u2bdu2bds/27Zt27Zt2z/btm3btm3bP9u2bdu2bds/27Zt27Zt2z/btm3btm3bP9u2bdu2bds/27Zt27Zt2z/btm3btm3bP9u2bdu2bds/27Zt27Zt2z/btm3btm3bP9u2bdu2bds/27Zt27Zt2z/btm3btm3bP9u2bdu2bds/27Zt27Zt2z/btm3btm3bP9u2bdu2bds/27Zt27Zt2z/btm3btm3bP9u2bdu2bds/27Zt27Zt2z/btm3btm3bP9u2bdu2bds/27Zt27Zt2z/btm3btm3bP9u2bdu2bds/27Zt27Zt2z/btm3btm3bP9u2bdu2bds/27Zt27Zt2z/btm3btm3bP9u2bdu2bds/27Zt27Zt2z/btm3btm3bP9u2bdu2bds/27Zt27Zt2z/btm3btm3bP9u2bdu2bds/27Zt27Zt2z/btm3btm3bP9u2bdu2bds/27Zt27Zt2z/btm3btm3bP9u2bdu2bds/27Zt27Zt2z/btm3btm3bP9u2bdu2bds/27Zt27Zt2z/btm3btm3bP9u2bdu2bds/27Zt27Zt2z/btm3btm3bP9u2bdu2bds/27Zt27Zt2z/btm3btm3bP9u2bdu2bds/27Zt27Zt2z/btm3btm3bP9u2bdu2bds/27Zt27Zt2z/btm3btm3bP9u2bdu2bds/27Zt27Zt2z/btm3btm3bP9u2bdu2bds/27Zt27Zt2z/btm3btm3bP9u2bdu2bds/27Zt27Zt2z/btm3btm3bP9u2bdu2bds/27Zt27Zt2z/btm3btm3bP9u2bdu2bds/27Zt27Zt2z/btm3btm3bP9u2bdu2bds/27Zt27Zt2z/btm3btm3bP9u2bdu2bds/27Zt27Zt2z/btm3btm3bP9u2bdu2bds/27Zt27Zt2z/btm3btm3bP9u2bdu2bds/27Zt27Zt2z/btm3btm3bP9u2bdu2bds/27Zt27Zt2z/btm3btm3bP9u2bdu2bds/27Zt27Zt2z/btm3btm3bP9u2bdu2bds/27Zt27Zt2z/btm3btm3bP9u2bdu2bds/27Zt27Zt2z/btm3btm3bP9u2bdu2bds/27Zt27Zt2z/btm3btm3bP9u2bdu2bds/27Zt27Zt2z/btm3btm3bP9u2bdu2bds/27Zt27Zt2z/btm3btm3bP9u2bdu2bds/27Zt27Zt2z/btm3btm3bP9u2bdu2bds/27Zt27Zt2z/btm3btm3bP9u2bdu2bds/27Zt27Zt2z/btm3btm3bP9u2bdu2bds/27Zt27Zt2z/btm3btm3bP9u2bdu2bds/27Zt27Zt2z/btm3btm3bP9u2bdu2bds/27Zt27Zt2z/btm3btm3bP9u2bdu2bds/27Zt27Zt2z/btm3btm3bP9u2bdu2bds/27Zt27Zt2z/btm3btm3bP9u2bdu2bds/27Zt27Zt2z/btm3btm3bP9u2bdu2bds/27Zt27Zt2z/btm3btm3bP9u2bdu2bds/27Zt27Zt2z/btm3btm3bP9u2bdu2bds/27Zt27Zt2z/btm3btm3bP9u2bdu2bds/27Zt27Zt2z/btm3btm3bP9u2bdu2bds/27Zt27Zt2z/btm3btm3bP9u2bdu2bds/27Zt27Zt2z/btm3btm3bP9u2bdu2bds/27Zt27Zt2z/btm3btm3bP9u2bdu2bds/27Zt27Zt2z/btm3btm3bP9u2bdu2bds/27Zt27Zt2z/btm3btm3bP9u2bdu2bds/27Zt27Zt2z/btm3btm3bP9u2bdu2bds/27Zt27Zt2z/btm3btm3bP9u2bdu2bds/27Zt27Zt2z/btm3btm3bP9u2bdu2bds/27Zt27Zt2z/btm3btm3bP9u2bdu2bds/27Zt27Zt2z/btm3btm3bP9u2bdu2bds/27Zt27Zt2z/btm3btm3bP9u2bdu2bds/27Zt27Zt2z/btm3btm3bP9u2bdu2bds/27Zt27Zt2z/btm3btm3bP9u2bdu2bds/27Zt27Zt2z/btm3btm3bP9u2bdu2bds/27Zt27Zt2z/btm3btm3bP9u2bdu2bds/27Zt27Zt2z/btm3btm3bP9u2bdu2bds/27Zt27Zt2z/btm3btm3bP9u2bdu2bds/27Zt27Zt2z/btm3btm3bP9u2bdu2bds/27Zt27Zt2z/btm3btm3bP9u2bdu2bds/27Zt27Zt2z/btm3btm3bP9u2bdu2bds/27Zt27Zt2z/btm3btm3bP9u2bdu2bds/27Zt27Zt2z/btm3btm3bP9u2bdu2bds/27Zt27Zt2z/btm3btm3bP9u2bdu2bds/27Zt27Zt2z/btm3btm3bP9u2bdu2bds/27Zt27Zt2z/btm3btm3bP9u2bdu2bds/27Zt27Zt2z8=",
          "dtype": "f8",
          "shape": "20, 20"
         }
        },
        {
         "cmax": 46.71140670776367,
         "cmin": 0.43323537707328796,
         "colorscale": [
          [
           0,
           "#440154"
          ],
          [
           0.1111111111111111,
           "#482878"
          ],
          [
           0.2222222222222222,
           "#3e4989"
          ],
          [
           0.3333333333333333,
           "#31688e"
          ],
          [
           0.4444444444444444,
           "#26828e"
          ],
          [
           0.5555555555555556,
           "#1f9e89"
          ],
          [
           0.6666666666666666,
           "#35b779"
          ],
          [
           0.7777777777777778,
           "#6ece58"
          ],
          [
           0.8888888888888888,
           "#b5de2b"
          ],
          [
           1,
           "#fde725"
          ]
         ],
         "opacity": 0.7,
         "scene": "scene",
         "showscale": false,
         "surfacecolor": {
          "bdata": "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",
          "dtype": "f4",
          "shape": "20, 20"
         },
         "type": "surface",
         "x": {
          "bdata": "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",
          "dtype": "f8",
          "shape": "20, 20"
         },
         "y": {
          "bdata": "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",
          "dtype": "f8",
          "shape": "20, 20"
         },
         "z": {
          "bdata": "kiRJkiRJ4j+SJEmSJEniP5IkSZIkSeI/kiRJkiRJ4j+SJEmSJEniP5IkSZIkSeI/kiRJkiRJ4j+SJEmSJEniP5IkSZIkSeI/kiRJkiRJ4j+SJEmSJEniP5IkSZIkSeI/kiRJkiRJ4j+SJEmSJEniP5IkSZIkSeI/kiRJkiRJ4j+SJEmSJEniP5IkSZIkSeI/kiRJkiRJ4j+SJEmSJEniP5IkSZIkSeI/kiRJkiRJ4j+SJEmSJEniP5IkSZIkSeI/kiRJkiRJ4j+SJEmSJEniP5IkSZIkSeI/kiRJkiRJ4j+SJEmSJEniP5IkSZIkSeI/kiRJkiRJ4j+SJEmSJEniP5IkSZIkSeI/kiRJkiRJ4j+SJEmSJEniP5IkSZIkSeI/kiRJkiRJ4j+SJEmSJEniP5IkSZIkSeI/kiRJkiRJ4j+SJEmSJEniP5IkSZIkSeI/kiRJkiRJ4j+SJEmSJEniP5IkSZIkSeI/kiRJkiRJ4j+SJEmSJEniP5IkSZIkSeI/kiRJkiRJ4j+SJEmSJEniP5IkSZIkSeI/kiRJkiRJ4j+SJEmSJEniP5IkSZIkSeI/kiRJkiRJ4j+SJEmSJEniP5IkSZIkSeI/kiRJkiRJ4j+SJEmSJEniP5IkSZIkSeI/kiRJkiRJ4j+SJEmSJEniP5IkSZIkSeI/kiRJkiRJ4j+SJEmSJEniP5IkSZIkSeI/kiRJkiRJ4j+SJEmSJEniP5IkSZIkSeI/kiRJkiRJ4j+SJEmSJEniP5IkSZIkSeI/kiRJkiRJ4j+SJEmSJEniP5IkSZIkSeI/kiRJkiRJ4j+SJEmSJEniP5IkSZIkSeI/kiRJkiRJ4j+SJEmSJEniP5IkSZIkSeI/kiRJkiRJ4j+SJEmSJEniP5IkSZIkSeI/kiRJkiRJ4j+SJEmSJEniP5IkSZIkSeI/kiRJkiRJ4j+SJEmSJEniP5IkSZIkSeI/kiRJkiRJ4j+SJEmSJEniP5IkSZIkSeI/kiRJkiRJ4j+SJEmSJEniP5IkSZIkSeI/kiRJkiRJ4j+SJEmSJEniP5IkSZIkSeI/kiRJkiRJ4j+SJEmSJEniP5IkSZIkSeI/kiRJkiRJ4j+SJEmSJEniP5IkSZIkSeI/kiRJkiRJ4j+SJEmSJEniP5IkSZIkSeI/kiRJkiRJ4j+SJEmSJEniP5IkSZIkSeI/kiRJkiRJ4j+SJEmSJEniP5IkSZIkSeI/kiRJkiRJ4j+SJEmSJEniP5IkSZIkSeI/kiRJkiRJ4j+SJEmSJEniP5IkSZIkSeI/kiRJkiRJ4j+SJEmSJEniP5IkSZIkSeI/kiRJkiRJ4j+SJEmSJEniP5IkSZIkSeI/kiRJkiRJ4j+SJEmSJEniP5IkSZIkSeI/kiRJkiRJ4j+SJEmSJEniP5IkSZIkSeI/kiRJkiRJ4j+SJEmSJEniP5IkSZIkSeI/kiRJkiRJ4j+SJEmSJEniP5IkSZIkSeI/kiRJkiRJ4j+SJEmSJEniP5IkSZIkSeI/kiRJkiRJ4j+SJEmSJEniP5IkSZIkSeI/kiRJkiRJ4j+SJEmSJEniP5IkSZIkSeI/kiRJkiRJ4j+SJEmSJEniP5IkSZIkSeI/kiRJkiRJ4j+SJEmSJEniP5IkSZIkSeI/kiRJkiRJ4j+SJEmSJEniP5IkSZIkSeI/kiRJkiRJ4j+SJEmSJEniP5IkSZIkSeI/kiRJkiRJ4j+SJEmSJEniP5IkSZIkSeI/kiRJkiRJ4j+SJEmSJEniP5IkSZIkSeI/kiRJkiRJ4j+SJEmSJEniP5IkSZIkSeI/kiRJkiRJ4j+SJEmSJEniP5IkSZIkSeI/kiRJkiRJ4j+SJEmSJEniP5IkSZIkSeI/kiRJkiRJ4j+SJEmSJEniP5IkSZIkSeI/kiRJkiRJ4j+SJEmSJEniP5IkSZIkSeI/kiRJkiRJ4j+SJEmSJEniP5IkSZIkSeI/kiRJkiRJ4j+SJEmSJEniP5IkSZIkSeI/kiRJkiRJ4j+SJEmSJEniP5IkSZIkSeI/kiRJkiRJ4j+SJEmSJEniP5IkSZIkSeI/kiRJkiRJ4j+SJEmSJEniP5IkSZIkSeI/kiRJkiRJ4j+SJEmSJEniP5IkSZIkSeI/kiRJkiRJ4j+SJEmSJEniP5IkSZIkSeI/kiRJkiRJ4j+SJEmSJEniP5IkSZIkSeI/kiRJkiRJ4j+SJEmSJEniP5IkSZIkSeI/kiRJkiRJ4j+SJEmSJEniP5IkSZIkSeI/kiRJkiRJ4j+SJEmSJEniP5IkSZIkSeI/kiRJkiRJ4j+SJEmSJEniP5IkSZIkSeI/kiRJkiRJ4j+SJEmSJEniP5IkSZIkSeI/kiRJkiRJ4j+SJEmSJEniP5IkSZIkSeI/kiRJkiRJ4j+SJEmSJEniP5IkSZIkSeI/kiRJkiRJ4j+SJEmSJEniP5IkSZIkSeI/kiRJkiRJ4j+SJEmSJEniP5IkSZIkSeI/kiRJkiRJ4j+SJEmSJEniP5IkSZIkSeI/kiRJkiRJ4j+SJEmSJEniP5IkSZIkSeI/kiRJkiRJ4j+SJEmSJEniP5IkSZIkSeI/kiRJkiRJ4j+SJEmSJEniP5IkSZIkSeI/kiRJkiRJ4j+SJEmSJEniP5IkSZIkSeI/kiRJkiRJ4j+SJEmSJEniP5IkSZIkSeI/kiRJkiRJ4j+SJEmSJEniP5IkSZIkSeI/kiRJkiRJ4j+SJEmSJEniP5IkSZIkSeI/kiRJkiRJ4j+SJEmSJEniP5IkSZIkSeI/kiRJkiRJ4j+SJEmSJEniP5IkSZIkSeI/kiRJkiRJ4j+SJEmSJEniP5IkSZIkSeI/kiRJkiRJ4j+SJEmSJEniP5IkSZIkSeI/kiRJkiRJ4j+SJEmSJEniP5IkSZIkSeI/kiRJkiRJ4j+SJEmSJEniP5IkSZIkSeI/kiRJkiRJ4j+SJEmSJEniP5IkSZIkSeI/kiRJkiRJ4j+SJEmSJEniP5IkSZIkSeI/kiRJkiRJ4j+SJEmSJEniP5IkSZIkSeI/kiRJkiRJ4j+SJEmSJEniP5IkSZIkSeI/kiRJkiRJ4j+SJEmSJEniP5IkSZIkSeI/kiRJkiRJ4j+SJEmSJEniP5IkSZIkSeI/kiRJkiRJ4j+SJEmSJEniP5IkSZIkSeI/kiRJkiRJ4j+SJEmSJEniP5IkSZIkSeI/kiRJkiRJ4j+SJEmSJEniP5IkSZIkSeI/kiRJkiRJ4j+SJEmSJEniP5IkSZIkSeI/kiRJkiRJ4j+SJEmSJEniP5IkSZIkSeI/kiRJkiRJ4j+SJEmSJEniP5IkSZIkSeI/kiRJkiRJ4j+SJEmSJEniP5IkSZIkSeI/kiRJkiRJ4j+SJEmSJEniP5IkSZIkSeI/kiRJkiRJ4j+SJEmSJEniP5IkSZIkSeI/kiRJkiRJ4j+SJEmSJEniP5IkSZIkSeI/kiRJkiRJ4j+SJEmSJEniP5IkSZIkSeI/kiRJkiRJ4j+SJEmSJEniP5IkSZIkSeI/kiRJkiRJ4j+SJEmSJEniP5IkSZIkSeI/kiRJkiRJ4j+SJEmSJEniP5IkSZIkSeI/kiRJkiRJ4j+SJEmSJEniP5IkSZIkSeI/kiRJkiRJ4j+SJEmSJEniP5IkSZIkSeI/kiRJkiRJ4j+SJEmSJEniP5IkSZIkSeI/kiRJkiRJ4j+SJEmSJEniP5IkSZIkSeI/kiRJkiRJ4j+SJEmSJEniP5IkSZIkSeI/kiRJkiRJ4j+SJEmSJEniP5IkSZIkSeI/kiRJkiRJ4j+SJEmSJEniP5IkSZIkSeI/kiRJkiRJ4j+SJEmSJEniP5IkSZIkSeI/kiRJkiRJ4j+SJEmSJEniP5IkSZIkSeI/kiRJkiRJ4j+SJEmSJEniP5IkSZIkSeI/kiRJkiRJ4j+SJEmSJEniP5IkSZIkSeI/kiRJkiRJ4j+SJEmSJEniP5IkSZIkSeI/kiRJkiRJ4j+SJEmSJEniP5IkSZIkSeI/kiRJkiRJ4j+SJEmSJEniP5IkSZIkSeI/kiRJkiRJ4j+SJEmSJEniP5IkSZIkSeI/kiRJkiRJ4j+SJEmSJEniP5IkSZIkSeI/kiRJkiRJ4j+SJEmSJEniP5IkSZIkSeI/kiRJkiRJ4j+SJEmSJEniP5IkSZIkSeI/kiRJkiRJ4j+SJEmSJEniP5IkSZIkSeI/kiRJkiRJ4j+SJEmSJEniP5IkSZIkSeI/kiRJkiRJ4j+SJEmSJEniP5IkSZIkSeI/kiRJkiRJ4j+SJEmSJEniP5IkSZIkSeI/kiRJkiRJ4j8=",
          "dtype": "f8",
          "shape": "20, 20"
         }
        },
        {
         "cmax": 46.71140670776367,
         "cmin": 0.43323537707328796,
         "colorscale": [
          [
           0,
           "#440154"
          ],
          [
           0.1111111111111111,
           "#482878"
          ],
          [
           0.2222222222222222,
           "#3e4989"
          ],
          [
           0.3333333333333333,
           "#31688e"
          ],
          [
           0.4444444444444444,
           "#26828e"
          ],
          [
           0.5555555555555556,
           "#1f9e89"
          ],
          [
           0.6666666666666666,
           "#35b779"
          ],
          [
           0.7777777777777778,
           "#6ece58"
          ],
          [
           0.8888888888888888,
           "#b5de2b"
          ],
          [
           1,
           "#fde725"
          ]
         ],
         "opacity": 0.7,
         "scene": "scene2",
         "showscale": false,
         "surfacecolor": {
          "bdata": "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",
          "dtype": "f4",
          "shape": "20, 20"
         },
         "type": "surface",
         "x": {
          "bdata": "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",
          "dtype": "f8",
          "shape": "20, 20"
         },
         "y": {
          "bdata": "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",
          "dtype": "f8",
          "shape": "20, 20"
         },
         "z": {
          "bdata": "kiRJkiRJ4j+SJEmSJEniP5IkSZIkSeI/kiRJkiRJ4j+SJEmSJEniP5IkSZIkSeI/kiRJkiRJ4j+SJEmSJEniP5IkSZIkSeI/kiRJkiRJ4j+SJEmSJEniP5IkSZIkSeI/kiRJkiRJ4j+SJEmSJEniP5IkSZIkSeI/kiRJkiRJ4j+SJEmSJEniP5IkSZIkSeI/kiRJkiRJ4j+SJEmSJEniP5IkSZIkSeI/kiRJkiRJ4j+SJEmSJEniP5IkSZIkSeI/kiRJkiRJ4j+SJEmSJEniP5IkSZIkSeI/kiRJkiRJ4j+SJEmSJEniP5IkSZIkSeI/kiRJkiRJ4j+SJEmSJEniP5IkSZIkSeI/kiRJkiRJ4j+SJEmSJEniP5IkSZIkSeI/kiRJkiRJ4j+SJEmSJEniP5IkSZIkSeI/kiRJkiRJ4j+SJEmSJEniP5IkSZIkSeI/kiRJkiRJ4j+SJEmSJEniP5IkSZIkSeI/kiRJkiRJ4j+SJEmSJEniP5IkSZIkSeI/kiRJkiRJ4j+SJEmSJEniP5IkSZIkSeI/kiRJkiRJ4j+SJEmSJEniP5IkSZIkSeI/kiRJkiRJ4j+SJEmSJEniP5IkSZIkSeI/kiRJkiRJ4j+SJEmSJEniP5IkSZIkSeI/kiRJkiRJ4j+SJEmSJEniP5IkSZIkSeI/kiRJkiRJ4j+SJEmSJEniP5IkSZIkSeI/kiRJkiRJ4j+SJEmSJEniP5IkSZIkSeI/kiRJkiRJ4j+SJEmSJEniP5IkSZIkSeI/kiRJkiRJ4j+SJEmSJEniP5IkSZIkSeI/kiRJkiRJ4j+SJEmSJEniP5IkSZIkSeI/kiRJkiRJ4j+SJEmSJEniP5IkSZIkSeI/kiRJkiRJ4j+SJEmSJEniP5IkSZIkSeI/kiRJkiRJ4j+SJEmSJEniP5IkSZIkSeI/kiRJkiRJ4j+SJEmSJEniP5IkSZIkSeI/kiRJkiRJ4j+SJEmSJEniP5IkSZIkSeI/kiRJkiRJ4j+SJEmSJEniP5IkSZIkSeI/kiRJkiRJ4j+SJEmSJEniP5IkSZIkSeI/kiRJkiRJ4j+SJEmSJEniP5IkSZIkSeI/kiRJkiRJ4j+SJEmSJEniP5IkSZIkSeI/kiRJkiRJ4j+SJEmSJEniP5IkSZIkSeI/kiRJkiRJ4j+SJEmSJEniP5IkSZIkSeI/kiRJkiRJ4j+SJEmSJEniP5IkSZIkSeI/kiRJkiRJ4j+SJEmSJEniP5IkSZIkSeI/kiRJkiRJ4j+SJEmSJEniP5IkSZIkSeI/kiRJkiRJ4j+SJEmSJEniP5IkSZIkSeI/kiRJkiRJ4j+SJEmSJEniP5IkSZIkSeI/kiRJkiRJ4j+SJEmSJEniP5IkSZIkSeI/kiRJkiRJ4j+SJEmSJEniP5IkSZIkSeI/kiRJkiRJ4j+SJEmSJEniP5IkSZIkSeI/kiRJkiRJ4j+SJEmSJEniP5IkSZIkSeI/kiRJkiRJ4j+SJEmSJEniP5IkSZIkSeI/kiRJkiRJ4j+SJEmSJEniP5IkSZIkSeI/kiRJkiRJ4j+SJEmSJEniP5IkSZIkSeI/kiRJkiRJ4j+SJEmSJEniP5IkSZIkSeI/kiRJkiRJ4j+SJEmSJEniP5IkSZIkSeI/kiRJkiRJ4j+SJEmSJEniP5IkSZIkSeI/kiRJkiRJ4j+SJEmSJEniP5IkSZIkSeI/kiRJkiRJ4j+SJEmSJEniP5IkSZIkSeI/kiRJkiRJ4j+SJEmSJEniP5IkSZIkSeI/kiRJkiRJ4j+SJEmSJEniP5IkSZIkSeI/kiRJkiRJ4j+SJEmSJEniP5IkSZIkSeI/kiRJkiRJ4j+SJEmSJEniP5IkSZIkSeI/kiRJkiRJ4j+SJEmSJEniP5IkSZIkSeI/kiRJkiRJ4j+SJEmSJEniP5IkSZIkSeI/kiRJkiRJ4j+SJEmSJEniP5IkSZIkSeI/kiRJkiRJ4j+SJEmSJEniP5IkSZIkSeI/kiRJkiRJ4j+SJEmSJEniP5IkSZIkSeI/kiRJkiRJ4j+SJEmSJEniP5IkSZIkSeI/kiRJkiRJ4j+SJEmSJEniP5IkSZIkSeI/kiRJkiRJ4j+SJEmSJEniP5IkSZIkSeI/kiRJkiRJ4j+SJEmSJEniP5IkSZIkSeI/kiRJkiRJ4j+SJEmSJEniP5IkSZIkSeI/kiRJkiRJ4j+SJEmSJEniP5IkSZIkSeI/kiRJkiRJ4j+SJEmSJEniP5IkSZIkSeI/kiRJkiRJ4j+SJEmSJEniP5IkSZIkSeI/kiRJkiRJ4j+SJEmSJEniP5IkSZIkSeI/kiRJkiRJ4j+SJEmSJEniP5IkSZIkSeI/kiRJkiRJ4j+SJEmSJEniP5IkSZIkSeI/kiRJkiRJ4j+SJEmSJEniP5IkSZIkSeI/kiRJkiRJ4j+SJEmSJEniP5IkSZIkSeI/kiRJkiRJ4j+SJEmSJEniP5IkSZIkSeI/kiRJkiRJ4j+SJEmSJEniP5IkSZIkSeI/kiRJkiRJ4j+SJEmSJEniP5IkSZIkSeI/kiRJkiRJ4j+SJEmSJEniP5IkSZIkSeI/kiRJkiRJ4j+SJEmSJEniP5IkSZIkSeI/kiRJkiRJ4j+SJEmSJEniP5IkSZIkSeI/kiRJkiRJ4j+SJEmSJEniP5IkSZIkSeI/kiRJkiRJ4j+SJEmSJEniP5IkSZIkSeI/kiRJkiRJ4j+SJEmSJEniP5IkSZIkSeI/kiRJkiRJ4j+SJEmSJEniP5IkSZIkSeI/kiRJkiRJ4j+SJEmSJEniP5IkSZIkSeI/kiRJkiRJ4j+SJEmSJEniP5IkSZIkSeI/kiRJkiRJ4j+SJEmSJEniP5IkSZIkSeI/kiRJkiRJ4j+SJEmSJEniP5IkSZIkSeI/kiRJkiRJ4j+SJEmSJEniP5IkSZIkSeI/kiRJkiRJ4j+SJEmSJEniP5IkSZIkSeI/kiRJkiRJ4j+SJEmSJEniP5IkSZIkSeI/kiRJkiRJ4j+SJEmSJEniP5IkSZIkSeI/kiRJkiRJ4j+SJEmSJEniP5IkSZIkSeI/kiRJkiRJ4j+SJEmSJEniP5IkSZIkSeI/kiRJkiRJ4j+SJEmSJEniP5IkSZIkSeI/kiRJkiRJ4j+SJEmSJEniP5IkSZIkSeI/kiRJkiRJ4j+SJEmSJEniP5IkSZIkSeI/kiRJkiRJ4j+SJEmSJEniP5IkSZIkSeI/kiRJkiRJ4j+SJEmSJEniP5IkSZIkSeI/kiRJkiRJ4j+SJEmSJEniP5IkSZIkSeI/kiRJkiRJ4j+SJEmSJEniP5IkSZIkSeI/kiRJkiRJ4j+SJEmSJEniP5IkSZIkSeI/kiRJkiRJ4j+SJEmSJEniP5IkSZIkSeI/kiRJkiRJ4j+SJEmSJEniP5IkSZIkSeI/kiRJkiRJ4j+SJEmSJEniP5IkSZIkSeI/kiRJkiRJ4j+SJEmSJEniP5IkSZIkSeI/kiRJkiRJ4j+SJEmSJEniP5IkSZIkSeI/kiRJkiRJ4j+SJEmSJEniP5IkSZIkSeI/kiRJkiRJ4j+SJEmSJEniP5IkSZIkSeI/kiRJkiRJ4j+SJEmSJEniP5IkSZIkSeI/kiRJkiRJ4j+SJEmSJEniP5IkSZIkSeI/kiRJkiRJ4j+SJEmSJEniP5IkSZIkSeI/kiRJkiRJ4j+SJEmSJEniP5IkSZIkSeI/kiRJkiRJ4j+SJEmSJEniP5IkSZIkSeI/kiRJkiRJ4j+SJEmSJEniP5IkSZIkSeI/kiRJkiRJ4j+SJEmSJEniP5IkSZIkSeI/kiRJkiRJ4j+SJEmSJEniP5IkSZIkSeI/kiRJkiRJ4j+SJEmSJEniP5IkSZIkSeI/kiRJkiRJ4j+SJEmSJEniP5IkSZIkSeI/kiRJkiRJ4j+SJEmSJEniP5IkSZIkSeI/kiRJkiRJ4j+SJEmSJEniP5IkSZIkSeI/kiRJkiRJ4j+SJEmSJEniP5IkSZIkSeI/kiRJkiRJ4j+SJEmSJEniP5IkSZIkSeI/kiRJkiRJ4j+SJEmSJEniP5IkSZIkSeI/kiRJkiRJ4j+SJEmSJEniP5IkSZIkSeI/kiRJkiRJ4j+SJEmSJEniP5IkSZIkSeI/kiRJkiRJ4j+SJEmSJEniP5IkSZIkSeI/kiRJkiRJ4j+SJEmSJEniP5IkSZIkSeI/kiRJkiRJ4j+SJEmSJEniP5IkSZIkSeI/kiRJkiRJ4j+SJEmSJEniP5IkSZIkSeI/kiRJkiRJ4j+SJEmSJEniP5IkSZIkSeI/kiRJkiRJ4j8=",
          "dtype": "f8",
          "shape": "20, 20"
         }
        },
        {
         "cmax": 46.71140670776367,
         "cmin": 0.43323537707328796,
         "colorscale": [
          [
           0,
           "#440154"
          ],
          [
           0.1111111111111111,
           "#482878"
          ],
          [
           0.2222222222222222,
           "#3e4989"
          ],
          [
           0.3333333333333333,
           "#31688e"
          ],
          [
           0.4444444444444444,
           "#26828e"
          ],
          [
           0.5555555555555556,
           "#1f9e89"
          ],
          [
           0.6666666666666666,
           "#35b779"
          ],
          [
           0.7777777777777778,
           "#6ece58"
          ],
          [
           0.8888888888888888,
           "#b5de2b"
          ],
          [
           1,
           "#fde725"
          ]
         ],
         "opacity": 0.7,
         "scene": "scene3",
         "showscale": false,
         "surfacecolor": {
          "bdata": "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",
          "dtype": "f4",
          "shape": "20, 20"
         },
         "type": "surface",
         "x": {
          "bdata": "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",
          "dtype": "f8",
          "shape": "20, 20"
         },
         "y": {
          "bdata": "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",
          "dtype": "f8",
          "shape": "20, 20"
         },
         "z": {
          "bdata": "kiRJkiRJ4j+SJEmSJEniP5IkSZIkSeI/kiRJkiRJ4j+SJEmSJEniP5IkSZIkSeI/kiRJkiRJ4j+SJEmSJEniP5IkSZIkSeI/kiRJkiRJ4j+SJEmSJEniP5IkSZIkSeI/kiRJkiRJ4j+SJEmSJEniP5IkSZIkSeI/kiRJkiRJ4j+SJEmSJEniP5IkSZIkSeI/kiRJkiRJ4j+SJEmSJEniP5IkSZIkSeI/kiRJkiRJ4j+SJEmSJEniP5IkSZIkSeI/kiRJkiRJ4j+SJEmSJEniP5IkSZIkSeI/kiRJkiRJ4j+SJEmSJEniP5IkSZIkSeI/kiRJkiRJ4j+SJEmSJEniP5IkSZIkSeI/kiRJkiRJ4j+SJEmSJEniP5IkSZIkSeI/kiRJkiRJ4j+SJEmSJEniP5IkSZIkSeI/kiRJkiRJ4j+SJEmSJEniP5IkSZIkSeI/kiRJkiRJ4j+SJEmSJEniP5IkSZIkSeI/kiRJkiRJ4j+SJEmSJEniP5IkSZIkSeI/kiRJkiRJ4j+SJEmSJEniP5IkSZIkSeI/kiRJkiRJ4j+SJEmSJEniP5IkSZIkSeI/kiRJkiRJ4j+SJEmSJEniP5IkSZIkSeI/kiRJkiRJ4j+SJEmSJEniP5IkSZIkSeI/kiRJkiRJ4j+SJEmSJEniP5IkSZIkSeI/kiRJkiRJ4j+SJEmSJEniP5IkSZIkSeI/kiRJkiRJ4j+SJEmSJEniP5IkSZIkSeI/kiRJkiRJ4j+SJEmSJEniP5IkSZIkSeI/kiRJkiRJ4j+SJEmSJEniP5IkSZIkSeI/kiRJkiRJ4j+SJEmSJEniP5IkSZIkSeI/kiRJkiRJ4j+SJEmSJEniP5IkSZIkSeI/kiRJkiRJ4j+SJEmSJEniP5IkSZIkSeI/kiRJkiRJ4j+SJEmSJEniP5IkSZIkSeI/kiRJkiRJ4j+SJEmSJEniP5IkSZIkSeI/kiRJkiRJ4j+SJEmSJEniP5IkSZIkSeI/kiRJkiRJ4j+SJEmSJEniP5IkSZIkSeI/kiRJkiRJ4j+SJEmSJEniP5IkSZIkSeI/kiRJkiRJ4j+SJEmSJEniP5IkSZIkSeI/kiRJkiRJ4j+SJEmSJEniP5IkSZIkSeI/kiRJkiRJ4j+SJEmSJEniP5IkSZIkSeI/kiRJkiRJ4j+SJEmSJEniP5IkSZIkSeI/kiRJkiRJ4j+SJEmSJEniP5IkSZIkSeI/kiRJkiRJ4j+SJEmSJEniP5IkSZIkSeI/kiRJkiRJ4j+SJEmSJEniP5IkSZIkSeI/kiRJkiRJ4j+SJEmSJEniP5IkSZIkSeI/kiRJkiRJ4j+SJEmSJEniP5IkSZIkSeI/kiRJkiRJ4j+SJEmSJEniP5IkSZIkSeI/kiRJkiRJ4j+SJEmSJEniP5IkSZIkSeI/kiRJkiRJ4j+SJEmSJEniP5IkSZIkSeI/kiRJkiRJ4j+SJEmSJEniP5IkSZIkSeI/kiRJkiRJ4j+SJEmSJEniP5IkSZIkSeI/kiRJkiRJ4j+SJEmSJEniP5IkSZIkSeI/kiRJkiRJ4j+SJEmSJEniP5IkSZIkSeI/kiRJkiRJ4j+SJEmSJEniP5IkSZIkSeI/kiRJkiRJ4j+SJEmSJEniP5IkSZIkSeI/kiRJkiRJ4j+SJEmSJEniP5IkSZIkSeI/kiRJkiRJ4j+SJEmSJEniP5IkSZIkSeI/kiRJkiRJ4j+SJEmSJEniP5IkSZIkSeI/kiRJkiRJ4j+SJEmSJEniP5IkSZIkSeI/kiRJkiRJ4j+SJEmSJEniP5IkSZIkSeI/kiRJkiRJ4j+SJEmSJEniP5IkSZIkSeI/kiRJkiRJ4j+SJEmSJEniP5IkSZIkSeI/kiRJkiRJ4j+SJEmSJEniP5IkSZIkSeI/kiRJkiRJ4j+SJEmSJEniP5IkSZIkSeI/kiRJkiRJ4j+SJEmSJEniP5IkSZIkSeI/kiRJkiRJ4j+SJEmSJEniP5IkSZIkSeI/kiRJkiRJ4j+SJEmSJEniP5IkSZIkSeI/kiRJkiRJ4j+SJEmSJEniP5IkSZIkSeI/kiRJkiRJ4j+SJEmSJEniP5IkSZIkSeI/kiRJkiRJ4j+SJEmSJEniP5IkSZIkSeI/kiRJkiRJ4j+SJEmSJEniP5IkSZIkSeI/kiRJkiRJ4j+SJEmSJEniP5IkSZIkSeI/kiRJkiRJ4j+SJEmSJEniP5IkSZIkSeI/kiRJkiRJ4j+SJEmSJEniP5IkSZIkSeI/kiRJkiRJ4j+SJEmSJEniP5IkSZIkSeI/kiRJkiRJ4j+SJEmSJEniP5IkSZIkSeI/kiRJkiRJ4j+SJEmSJEniP5IkSZIkSeI/kiRJkiRJ4j+SJEmSJEniP5IkSZIkSeI/kiRJkiRJ4j+SJEmSJEniP5IkSZIkSeI/kiRJkiRJ4j+SJEmSJEniP5IkSZIkSeI/kiRJkiRJ4j+SJEmSJEniP5IkSZIkSeI/kiRJkiRJ4j+SJEmSJEniP5IkSZIkSeI/kiRJkiRJ4j+SJEmSJEniP5IkSZIkSeI/kiRJkiRJ4j+SJEmSJEniP5IkSZIkSeI/kiRJkiRJ4j+SJEmSJEniP5IkSZIkSeI/kiRJkiRJ4j+SJEmSJEniP5IkSZIkSeI/kiRJkiRJ4j+SJEmSJEniP5IkSZIkSeI/kiRJkiRJ4j+SJEmSJEniP5IkSZIkSeI/kiRJkiRJ4j+SJEmSJEniP5IkSZIkSeI/kiRJkiRJ4j+SJEmSJEniP5IkSZIkSeI/kiRJkiRJ4j+SJEmSJEniP5IkSZIkSeI/kiRJkiRJ4j+SJEmSJEniP5IkSZIkSeI/kiRJkiRJ4j+SJEmSJEniP5IkSZIkSeI/kiRJkiRJ4j+SJEmSJEniP5IkSZIkSeI/kiRJkiRJ4j+SJEmSJEniP5IkSZIkSeI/kiRJkiRJ4j+SJEmSJEniP5IkSZIkSeI/kiRJkiRJ4j+SJEmSJEniP5IkSZIkSeI/kiRJkiRJ4j+SJEmSJEniP5IkSZIkSeI/kiRJkiRJ4j+SJEmSJEniP5IkSZIkSeI/kiRJkiRJ4j+SJEmSJEniP5IkSZIkSeI/kiRJkiRJ4j+SJEmSJEniP5IkSZIkSeI/kiRJkiRJ4j+SJEmSJEniP5IkSZIkSeI/kiRJkiRJ4j+SJEmSJEniP5IkSZIkSeI/kiRJkiRJ4j+SJEmSJEniP5IkSZIkSeI/kiRJkiRJ4j+SJEmSJEniP5IkSZIkSeI/kiRJkiRJ4j+SJEmSJEniP5IkSZIkSeI/kiRJkiRJ4j+SJEmSJEniP5IkSZIkSeI/kiRJkiRJ4j+SJEmSJEniP5IkSZIkSeI/kiRJkiRJ4j+SJEmSJEniP5IkSZIkSeI/kiRJkiRJ4j+SJEmSJEniP5IkSZIkSeI/kiRJkiRJ4j+SJEmSJEniP5IkSZIkSeI/kiRJkiRJ4j+SJEmSJEniP5IkSZIkSeI/kiRJkiRJ4j+SJEmSJEniP5IkSZIkSeI/kiRJkiRJ4j+SJEmSJEniP5IkSZIkSeI/kiRJkiRJ4j+SJEmSJEniP5IkSZIkSeI/kiRJkiRJ4j+SJEmSJEniP5IkSZIkSeI/kiRJkiRJ4j+SJEmSJEniP5IkSZIkSeI/kiRJkiRJ4j+SJEmSJEniP5IkSZIkSeI/kiRJkiRJ4j+SJEmSJEniP5IkSZIkSeI/kiRJkiRJ4j+SJEmSJEniP5IkSZIkSeI/kiRJkiRJ4j+SJEmSJEniP5IkSZIkSeI/kiRJkiRJ4j+SJEmSJEniP5IkSZIkSeI/kiRJkiRJ4j+SJEmSJEniP5IkSZIkSeI/kiRJkiRJ4j+SJEmSJEniP5IkSZIkSeI/kiRJkiRJ4j+SJEmSJEniP5IkSZIkSeI/kiRJkiRJ4j+SJEmSJEniP5IkSZIkSeI/kiRJkiRJ4j+SJEmSJEniP5IkSZIkSeI/kiRJkiRJ4j+SJEmSJEniP5IkSZIkSeI/kiRJkiRJ4j+SJEmSJEniP5IkSZIkSeI/kiRJkiRJ4j+SJEmSJEniP5IkSZIkSeI/kiRJkiRJ4j+SJEmSJEniP5IkSZIkSeI/kiRJkiRJ4j+SJEmSJEniP5IkSZIkSeI/kiRJkiRJ4j+SJEmSJEniP5IkSZIkSeI/kiRJkiRJ4j+SJEmSJEniP5IkSZIkSeI/kiRJkiRJ4j+SJEmSJEniP5IkSZIkSeI/kiRJkiRJ4j+SJEmSJEniP5IkSZIkSeI/kiRJkiRJ4j+SJEmSJEniP5IkSZIkSeI/kiRJkiRJ4j8=",
          "dtype": "f8",
          "shape": "20, 20"
         }
        },
        {
         "cmax": 46.71140670776367,
         "cmin": 0.43323537707328796,
         "colorscale": [
          [
           0,
           "#440154"
          ],
          [
           0.1111111111111111,
           "#482878"
          ],
          [
           0.2222222222222222,
           "#3e4989"
          ],
          [
           0.3333333333333333,
           "#31688e"
          ],
          [
           0.4444444444444444,
           "#26828e"
          ],
          [
           0.5555555555555556,
           "#1f9e89"
          ],
          [
           0.6666666666666666,
           "#35b779"
          ],
          [
           0.7777777777777778,
           "#6ece58"
          ],
          [
           0.8888888888888888,
           "#b5de2b"
          ],
          [
           1,
           "#fde725"
          ]
         ],
         "opacity": 0.7,
         "scene": "scene4",
         "showscale": false,
         "surfacecolor": {
          "bdata": "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",
          "dtype": "f4",
          "shape": "20, 20"
         },
         "type": "surface",
         "x": {
          "bdata": "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",
          "dtype": "f8",
          "shape": "20, 20"
         },
         "y": {
          "bdata": "AAAAAAAAAAAAAAAAAAAAAAAAAAAAAAAAAAAAAAAAAAAAAAAAAAAAAAAAAAAAAAAAAAAAAAAAAAAAAAAAAAAAAAAAAAAAAAAAAAAAAAAAAAAAAAAAAAAAAAAAAAAAAAAAAAAAAAAAAAAAAAAAAAAAAAAAAAAAAAAAAAAAAAAAAAAAAAAAAAAAAAAAAAAAAAAAAAAAAAAAAAAAAAAAAAAAACivobyG8qo/KK+hvIbyqj8or6G8hvKqPyivobyG8qo/KK+hvIbyqj8or6G8hvKqPyivobyG8qo/KK+hvIbyqj8or6G8hvKqPyivobyG8qo/KK+hvIbyqj8or6G8hvKqPyivobyG8qo/KK+hvIbyqj8or6G8hvKqPyivobyG8qo/KK+hvIbyqj8or6G8hvKqPyivobyG8qo/KK+hvIbyqj8or6G8hvK6PyivobyG8ro/KK+hvIbyuj8or6G8hvK6PyivobyG8ro/KK+hvIbyuj8or6G8hvK6PyivobyG8ro/KK+hvIbyuj8or6G8hvK6PyivobyG8ro/KK+hvIbyuj8or6G8hvK6PyivobyG8ro/KK+hvIbyuj8or6G8hvK6PyivobyG8ro/KK+hvIbyuj8or6G8hvK6PyivobyG8ro/XkN5DeU1xD9eQ3kN5TXEP15DeQ3lNcQ/XkN5DeU1xD9eQ3kN5TXEP15DeQ3lNcQ/XkN5DeU1xD9eQ3kN5TXEP15DeQ3lNcQ/XkN5DeU1xD9eQ3kN5TXEP15DeQ3lNcQ/XkN5DeU1xD9eQ3kN5TXEP15DeQ3lNcQ/XkN5DeU1xD9eQ3kN5TXEP15DeQ3lNcQ/XkN5DeU1xD9eQ3kN5TXEPyivobyG8so/KK+hvIbyyj8or6G8hvLKPyivobyG8so/KK+hvIbyyj8or6G8hvLKPyivobyG8so/KK+hvIbyyj8or6G8hvLKPyivobyG8so/KK+hvIbyyj8or6G8hvLKPyivobyG8so/KK+hvIbyyj8or6G8hvLKPyivobyG8so/KK+hvIbyyj8or6G8hvLKPyivobyG8so/KK+hvIbyyj95DeU1lNfQP3kN5TWU19A/eQ3lNZTX0D95DeU1lNfQP3kN5TWU19A/eQ3lNZTX0D95DeU1lNfQP3kN5TWU19A/eQ3lNZTX0D95DeU1lNfQP3kN5TWU19A/eQ3lNZTX0D95DeU1lNfQP3kN5TWU19A/eQ3lNZTX0D95DeU1lNfQP3kN5TWU19A/eQ3lNZTX0D95DeU1lNfQP3kN5TWU19A/XkN5DeU11D9eQ3kN5TXUP15DeQ3lNdQ/XkN5DeU11D9eQ3kN5TXUP15DeQ3lNdQ/XkN5DeU11D9eQ3kN5TXUP15DeQ3lNdQ/XkN5DeU11D9eQ3kN5TXUP15DeQ3lNdQ/XkN5DeU11D9eQ3kN5TXUP15DeQ3lNdQ/XkN5DeU11D9eQ3kN5TXUP15DeQ3lNdQ/XkN5DeU11D9eQ3kN5TXUP0N5DeU1lNc/Q3kN5TWU1z9DeQ3lNZTXP0N5DeU1lNc/Q3kN5TWU1z9DeQ3lNZTXP0N5DeU1lNc/Q3kN5TWU1z9DeQ3lNZTXP0N5DeU1lNc/Q3kN5TWU1z9DeQ3lNZTXP0N5DeU1lNc/Q3kN5TWU1z9DeQ3lNZTXP0N5DeU1lNc/Q3kN5TWU1z9DeQ3lNZTXP0N5DeU1lNc/Q3kN5TWU1z8or6G8hvLaPyivobyG8to/KK+hvIby2j8or6G8hvLaPyivobyG8to/KK+hvIby2j8or6G8hvLaPyivobyG8to/KK+hvIby2j8or6G8hvLaPyivobyG8to/KK+hvIby2j8or6G8hvLaPyivobyG8to/KK+hvIby2j8or6G8hvLaPyivobyG8to/KK+hvIby2j8or6G8hvLaPyivobyG8to/DeU1lNdQ3j8N5TWU11DePw3lNZTXUN4/DeU1lNdQ3j8N5TWU11DePw3lNZTXUN4/DeU1lNdQ3j8N5TWU11DePw3lNZTXUN4/DeU1lNdQ3j8N5TWU11DePw3lNZTXUN4/DeU1lNdQ3j8N5TWU11DePw3lNZTXUN4/DeU1lNdQ3j8N5TWU11DePw3lNZTXUN4/DeU1lNdQ3j8N5TWU11DeP3kN5TWU1+A/eQ3lNZTX4D95DeU1lNfgP3kN5TWU1+A/eQ3lNZTX4D95DeU1lNfgP3kN5TWU1+A/eQ3lNZTX4D95DeU1lNfgP3kN5TWU1+A/eQ3lNZTX4D95DeU1lNfgP3kN5TWU1+A/eQ3lNZTX4D95DeU1lNfgP3kN5TWU1+A/eQ3lNZTX4D95DeU1lNfgP3kN5TWU1+A/eQ3lNZTX4D9sKK+hvIbiP2wor6G8huI/bCivobyG4j9sKK+hvIbiP2wor6G8huI/bCivobyG4j9sKK+hvIbiP2wor6G8huI/bCivobyG4j9sKK+hvIbiP2wor6G8huI/bCivobyG4j9sKK+hvIbiP2wor6G8huI/bCivobyG4j9sKK+hvIbiP2wor6G8huI/bCivobyG4j9sKK+hvIbiP2wor6G8huI/XkN5DeU15D9eQ3kN5TXkP15DeQ3lNeQ/XkN5DeU15D9eQ3kN5TXkP15DeQ3lNeQ/XkN5DeU15D9eQ3kN5TXkP15DeQ3lNeQ/XkN5DeU15D9eQ3kN5TXkP15DeQ3lNeQ/XkN5DeU15D9eQ3kN5TXkP15DeQ3lNeQ/XkN5DeU15D9eQ3kN5TXkP15DeQ3lNeQ/XkN5DeU15D9eQ3kN5TXkP1BeQ3kN5eU/UF5DeQ3l5T9QXkN5DeXlP1BeQ3kN5eU/UF5DeQ3l5T9QXkN5DeXlP1BeQ3kN5eU/UF5DeQ3l5T9QXkN5DeXlP1BeQ3kN5eU/UF5DeQ3l5T9QXkN5DeXlP1BeQ3kN5eU/UF5DeQ3l5T9QXkN5DeXlP1BeQ3kN5eU/UF5DeQ3l5T9QXkN5DeXlP1BeQ3kN5eU/UF5DeQ3l5T9DeQ3lNZTnP0N5DeU1lOc/Q3kN5TWU5z9DeQ3lNZTnP0N5DeU1lOc/Q3kN5TWU5z9DeQ3lNZTnP0N5DeU1lOc/Q3kN5TWU5z9DeQ3lNZTnP0N5DeU1lOc/Q3kN5TWU5z9DeQ3lNZTnP0N5DeU1lOc/Q3kN5TWU5z9DeQ3lNZTnP0N5DeU1lOc/Q3kN5TWU5z9DeQ3lNZTnP0N5DeU1lOc/NpTXUF5D6T82lNdQXkPpPzaU11BeQ+k/NpTXUF5D6T82lNdQXkPpPzaU11BeQ+k/NpTXUF5D6T82lNdQXkPpPzaU11BeQ+k/NpTXUF5D6T82lNdQXkPpPzaU11BeQ+k/NpTXUF5D6T82lNdQXkPpPzaU11BeQ+k/NpTXUF5D6T82lNdQXkPpPzaU11BeQ+k/NpTXUF5D6T82lNdQXkPpPyivobyG8uo/KK+hvIby6j8or6G8hvLqPyivobyG8uo/KK+hvIby6j8or6G8hvLqPyivobyG8uo/KK+hvIby6j8or6G8hvLqPyivobyG8uo/KK+hvIby6j8or6G8hvLqPyivobyG8uo/KK+hvIby6j8or6G8hvLqPyivobyG8uo/KK+hvIby6j8or6G8hvLqPyivobyG8uo/KK+hvIby6j8aymsor6HsPxrKayivoew/GsprKK+h7D8aymsor6HsPxrKayivoew/GsprKK+h7D8aymsor6HsPxrKayivoew/GsprKK+h7D8aymsor6HsPxrKayivoew/GsprKK+h7D8aymsor6HsPxrKayivoew/GsprKK+h7D8aymsor6HsPxrKayivoew/GsprKK+h7D8aymsor6HsPxrKayivoew/DeU1lNdQ7j8N5TWU11DuPw3lNZTXUO4/DeU1lNdQ7j8N5TWU11DuPw3lNZTXUO4/DeU1lNdQ7j8N5TWU11DuPw3lNZTXUO4/DeU1lNdQ7j8N5TWU11DuPw3lNZTXUO4/DeU1lNdQ7j8N5TWU11DuPw3lNZTXUO4/DeU1lNdQ7j8N5TWU11DuPw3lNZTXUO4/DeU1lNdQ7j8N5TWU11DuPwAAAAAAAPA/AAAAAAAA8D8AAAAAAADwPwAAAAAAAPA/AAAAAAAA8D8AAAAAAADwPwAAAAAAAPA/AAAAAAAA8D8AAAAAAADwPwAAAAAAAPA/AAAAAAAA8D8AAAAAAADwPwAAAAAAAPA/AAAAAAAA8D8AAAAAAADwPwAAAAAAAPA/AAAAAAAA8D8AAAAAAADwPwAAAAAAAPA/AAAAAAAA8D8=",
          "dtype": "f8",
          "shape": "20, 20"
         },
         "z": {
          "bdata": "kiRJkiRJ4j+SJEmSJEniP5IkSZIkSeI/kiRJkiRJ4j+SJEmSJEniP5IkSZIkSeI/kiRJkiRJ4j+SJEmSJEniP5IkSZIkSeI/kiRJkiRJ4j+SJEmSJEniP5IkSZIkSeI/kiRJkiRJ4j+SJEmSJEniP5IkSZIkSeI/kiRJkiRJ4j+SJEmSJEniP5IkSZIkSeI/kiRJkiRJ4j+SJEmSJEniP5IkSZIkSeI/kiRJkiRJ4j+SJEmSJEniP5IkSZIkSeI/kiRJkiRJ4j+SJEmSJEniP5IkSZIkSeI/kiRJkiRJ4j+SJEmSJEniP5IkSZIkSeI/kiRJkiRJ4j+SJEmSJEniP5IkSZIkSeI/kiRJkiRJ4j+SJEmSJEniP5IkSZIkSeI/kiRJkiRJ4j+SJEmSJEniP5IkSZIkSeI/kiRJkiRJ4j+SJEmSJEniP5IkSZIkSeI/kiRJkiRJ4j+SJEmSJEniP5IkSZIkSeI/kiRJkiRJ4j+SJEmSJEniP5IkSZIkSeI/kiRJkiRJ4j+SJEmSJEniP5IkSZIkSeI/kiRJkiRJ4j+SJEmSJEniP5IkSZIkSeI/kiRJkiRJ4j+SJEmSJEniP5IkSZIkSeI/kiRJkiRJ4j+SJEmSJEniP5IkSZIkSeI/kiRJkiRJ4j+SJEmSJEniP5IkSZIkSeI/kiRJkiRJ4j+SJEmSJEniP5IkSZIkSeI/kiRJkiRJ4j+SJEmSJEniP5IkSZIkSeI/kiRJkiRJ4j+SJEmSJEniP5IkSZIkSeI/kiRJkiRJ4j+SJEmSJEniP5IkSZIkSeI/kiRJkiRJ4j+SJEmSJEniP5IkSZIkSeI/kiRJkiRJ4j+SJEmSJEniP5IkSZIkSeI/kiRJkiRJ4j+SJEmSJEniP5IkSZIkSeI/kiRJkiRJ4j+SJEmSJEniP5IkSZIkSeI/kiRJkiRJ4j+SJEmSJEniP5IkSZIkSeI/kiRJkiRJ4j+SJEmSJEniP5IkSZIkSeI/kiRJkiRJ4j+SJEmSJEniP5IkSZIkSeI/kiRJkiRJ4j+SJEmSJEniP5IkSZIkSeI/kiRJkiRJ4j+SJEmSJEniP5IkSZIkSeI/kiRJkiRJ4j+SJEmSJEniP5IkSZIkSeI/kiRJkiRJ4j+SJEmSJEniP5IkSZIkSeI/kiRJkiRJ4j+SJEmSJEniP5IkSZIkSeI/kiRJkiRJ4j+SJEmSJEniP5IkSZIkSeI/kiRJkiRJ4j+SJEmSJEniP5IkSZIkSeI/kiRJkiRJ4j+SJEmSJEniP5IkSZIkSeI/kiRJkiRJ4j+SJEmSJEniP5IkSZIkSeI/kiRJkiRJ4j+SJEmSJEniP5IkSZIkSeI/kiRJkiRJ4j+SJEmSJEniP5IkSZIkSeI/kiRJkiRJ4j+SJEmSJEniP5IkSZIkSeI/kiRJkiRJ4j+SJEmSJEniP5IkSZIkSeI/kiRJkiRJ4j+SJEmSJEniP5IkSZIkSeI/kiRJkiRJ4j+SJEmSJEniP5IkSZIkSeI/kiRJkiRJ4j+SJEmSJEniP5IkSZIkSeI/kiRJkiRJ4j+SJEmSJEniP5IkSZIkSeI/kiRJkiRJ4j+SJEmSJEniP5IkSZIkSeI/kiRJkiRJ4j+SJEmSJEniP5IkSZIkSeI/kiRJkiRJ4j+SJEmSJEniP5IkSZIkSeI/kiRJkiRJ4j+SJEmSJEniP5IkSZIkSeI/kiRJkiRJ4j+SJEmSJEniP5IkSZIkSeI/kiRJkiRJ4j+SJEmSJEniP5IkSZIkSeI/kiRJkiRJ4j+SJEmSJEniP5IkSZIkSeI/kiRJkiRJ4j+SJEmSJEniP5IkSZIkSeI/kiRJkiRJ4j+SJEmSJEniP5IkSZIkSeI/kiRJkiRJ4j+SJEmSJEniP5IkSZIkSeI/kiRJkiRJ4j+SJEmSJEniP5IkSZIkSeI/kiRJkiRJ4j+SJEmSJEniP5IkSZIkSeI/kiRJkiRJ4j+SJEmSJEniP5IkSZIkSeI/kiRJkiRJ4j+SJEmSJEniP5IkSZIkSeI/kiRJkiRJ4j+SJEmSJEniP5IkSZIkSeI/kiRJkiRJ4j+SJEmSJEniP5IkSZIkSeI/kiRJkiRJ4j+SJEmSJEniP5IkSZIkSeI/kiRJkiRJ4j+SJEmSJEniP5IkSZIkSeI/kiRJkiRJ4j+SJEmSJEniP5IkSZIkSeI/kiRJkiRJ4j+SJEmSJEniP5IkSZIkSeI/kiRJkiRJ4j+SJEmSJEniP5IkSZIkSeI/kiRJkiRJ4j+SJEmSJEniP5IkSZIkSeI/kiRJkiRJ4j+SJEmSJEniP5IkSZIkSeI/kiRJkiRJ4j+SJEmSJEniP5IkSZIkSeI/kiRJkiRJ4j+SJEmSJEniP5IkSZIkSeI/kiRJkiRJ4j+SJEmSJEniP5IkSZIkSeI/kiRJkiRJ4j+SJEmSJEniP5IkSZIkSeI/kiRJkiRJ4j+SJEmSJEniP5IkSZIkSeI/kiRJkiRJ4j+SJEmSJEniP5IkSZIkSeI/kiRJkiRJ4j+SJEmSJEniP5IkSZIkSeI/kiRJkiRJ4j+SJEmSJEniP5IkSZIkSeI/kiRJkiRJ4j+SJEmSJEniP5IkSZIkSeI/kiRJkiRJ4j+SJEmSJEniP5IkSZIkSeI/kiRJkiRJ4j+SJEmSJEniP5IkSZIkSeI/kiRJkiRJ4j+SJEmSJEniP5IkSZIkSeI/kiRJkiRJ4j+SJEmSJEniP5IkSZIkSeI/kiRJkiRJ4j+SJEmSJEniP5IkSZIkSeI/kiRJkiRJ4j+SJEmSJEniP5IkSZIkSeI/kiRJkiRJ4j+SJEmSJEniP5IkSZIkSeI/kiRJkiRJ4j+SJEmSJEniP5IkSZIkSeI/kiRJkiRJ4j+SJEmSJEniP5IkSZIkSeI/kiRJkiRJ4j+SJEmSJEniP5IkSZIkSeI/kiRJkiRJ4j+SJEmSJEniP5IkSZIkSeI/kiRJkiRJ4j+SJEmSJEniP5IkSZIkSeI/kiRJkiRJ4j+SJEmSJEniP5IkSZIkSeI/kiRJkiRJ4j+SJEmSJEniP5IkSZIkSeI/kiRJkiRJ4j+SJEmSJEniP5IkSZIkSeI/kiRJkiRJ4j+SJEmSJEniP5IkSZIkSeI/kiRJkiRJ4j+SJEmSJEniP5IkSZIkSeI/kiRJkiRJ4j+SJEmSJEniP5IkSZIkSeI/kiRJkiRJ4j+SJEmSJEniP5IkSZIkSeI/kiRJkiRJ4j+SJEmSJEniP5IkSZIkSeI/kiRJkiRJ4j+SJEmSJEniP5IkSZIkSeI/kiRJkiRJ4j+SJEmSJEniP5IkSZIkSeI/kiRJkiRJ4j+SJEmSJEniP5IkSZIkSeI/kiRJkiRJ4j+SJEmSJEniP5IkSZIkSeI/kiRJkiRJ4j+SJEmSJEniP5IkSZIkSeI/kiRJkiRJ4j+SJEmSJEniP5IkSZIkSeI/kiRJkiRJ4j+SJEmSJEniP5IkSZIkSeI/kiRJkiRJ4j+SJEmSJEniP5IkSZIkSeI/kiRJkiRJ4j+SJEmSJEniP5IkSZIkSeI/kiRJkiRJ4j+SJEmSJEniP5IkSZIkSeI/kiRJkiRJ4j+SJEmSJEniP5IkSZIkSeI/kiRJkiRJ4j+SJEmSJEniP5IkSZIkSeI/kiRJkiRJ4j+SJEmSJEniP5IkSZIkSeI/kiRJkiRJ4j+SJEmSJEniP5IkSZIkSeI/kiRJkiRJ4j+SJEmSJEniP5IkSZIkSeI/kiRJkiRJ4j+SJEmSJEniP5IkSZIkSeI/kiRJkiRJ4j+SJEmSJEniP5IkSZIkSeI/kiRJkiRJ4j+SJEmSJEniP5IkSZIkSeI/kiRJkiRJ4j+SJEmSJEniP5IkSZIkSeI/kiRJkiRJ4j+SJEmSJEniP5IkSZIkSeI/kiRJkiRJ4j+SJEmSJEniP5IkSZIkSeI/kiRJkiRJ4j+SJEmSJEniP5IkSZIkSeI/kiRJkiRJ4j+SJEmSJEniP5IkSZIkSeI/kiRJkiRJ4j+SJEmSJEniP5IkSZIkSeI/kiRJkiRJ4j+SJEmSJEniP5IkSZIkSeI/kiRJkiRJ4j+SJEmSJEniP5IkSZIkSeI/kiRJkiRJ4j+SJEmSJEniP5IkSZIkSeI/kiRJkiRJ4j+SJEmSJEniP5IkSZIkSeI/kiRJkiRJ4j+SJEmSJEniP5IkSZIkSeI/kiRJkiRJ4j+SJEmSJEniP5IkSZIkSeI/kiRJkiRJ4j+SJEmSJEniP5IkSZIkSeI/kiRJkiRJ4j+SJEmSJEniP5IkSZIkSeI/kiRJkiRJ4j8=",
          "dtype": "f8",
          "shape": "20, 20"
         }
        },
        {
         "cmax": 46.71140670776367,
         "cmin": 0.43323537707328796,
         "colorscale": [
          [
           0,
           "#440154"
          ],
          [
           0.1111111111111111,
           "#482878"
          ],
          [
           0.2222222222222222,
           "#3e4989"
          ],
          [
           0.3333333333333333,
           "#31688e"
          ],
          [
           0.4444444444444444,
           "#26828e"
          ],
          [
           0.5555555555555556,
           "#1f9e89"
          ],
          [
           0.6666666666666666,
           "#35b779"
          ],
          [
           0.7777777777777778,
           "#6ece58"
          ],
          [
           0.8888888888888888,
           "#b5de2b"
          ],
          [
           1,
           "#fde725"
          ]
         ],
         "opacity": 0.7,
         "scene": "scene5",
         "showscale": false,
         "surfacecolor": {
          "bdata": "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",
          "dtype": "f4",
          "shape": "20, 20"
         },
         "type": "surface",
         "x": {
          "bdata": "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",
          "dtype": "f8",
          "shape": "20, 20"
         },
         "y": {
          "bdata": "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",
          "dtype": "f8",
          "shape": "20, 20"
         },
         "z": {
          "bdata": "kiRJkiRJ4j+SJEmSJEniP5IkSZIkSeI/kiRJkiRJ4j+SJEmSJEniP5IkSZIkSeI/kiRJkiRJ4j+SJEmSJEniP5IkSZIkSeI/kiRJkiRJ4j+SJEmSJEniP5IkSZIkSeI/kiRJkiRJ4j+SJEmSJEniP5IkSZIkSeI/kiRJkiRJ4j+SJEmSJEniP5IkSZIkSeI/kiRJkiRJ4j+SJEmSJEniP5IkSZIkSeI/kiRJkiRJ4j+SJEmSJEniP5IkSZIkSeI/kiRJkiRJ4j+SJEmSJEniP5IkSZIkSeI/kiRJkiRJ4j+SJEmSJEniP5IkSZIkSeI/kiRJkiRJ4j+SJEmSJEniP5IkSZIkSeI/kiRJkiRJ4j+SJEmSJEniP5IkSZIkSeI/kiRJkiRJ4j+SJEmSJEniP5IkSZIkSeI/kiRJkiRJ4j+SJEmSJEniP5IkSZIkSeI/kiRJkiRJ4j+SJEmSJEniP5IkSZIkSeI/kiRJkiRJ4j+SJEmSJEniP5IkSZIkSeI/kiRJkiRJ4j+SJEmSJEniP5IkSZIkSeI/kiRJkiRJ4j+SJEmSJEniP5IkSZIkSeI/kiRJkiRJ4j+SJEmSJEniP5IkSZIkSeI/kiRJkiRJ4j+SJEmSJEniP5IkSZIkSeI/kiRJkiRJ4j+SJEmSJEniP5IkSZIkSeI/kiRJkiRJ4j+SJEmSJEniP5IkSZIkSeI/kiRJkiRJ4j+SJEmSJEniP5IkSZIkSeI/kiRJkiRJ4j+SJEmSJEniP5IkSZIkSeI/kiRJkiRJ4j+SJEmSJEniP5IkSZIkSeI/kiRJkiRJ4j+SJEmSJEniP5IkSZIkSeI/kiRJkiRJ4j+SJEmSJEniP5IkSZIkSeI/kiRJkiRJ4j+SJEmSJEniP5IkSZIkSeI/kiRJkiRJ4j+SJEmSJEniP5IkSZIkSeI/kiRJkiRJ4j+SJEmSJEniP5IkSZIkSeI/kiRJkiRJ4j+SJEmSJEniP5IkSZIkSeI/kiRJkiRJ4j+SJEmSJEniP5IkSZIkSeI/kiRJkiRJ4j+SJEmSJEniP5IkSZIkSeI/kiRJkiRJ4j+SJEmSJEniP5IkSZIkSeI/kiRJkiRJ4j+SJEmSJEniP5IkSZIkSeI/kiRJkiRJ4j+SJEmSJEniP5IkSZIkSeI/kiRJkiRJ4j+SJEmSJEniP5IkSZIkSeI/kiRJkiRJ4j+SJEmSJEniP5IkSZIkSeI/kiRJkiRJ4j+SJEmSJEniP5IkSZIkSeI/kiRJkiRJ4j+SJEmSJEniP5IkSZIkSeI/kiRJkiRJ4j+SJEmSJEniP5IkSZIkSeI/kiRJkiRJ4j+SJEmSJEniP5IkSZIkSeI/kiRJkiRJ4j+SJEmSJEniP5IkSZIkSeI/kiRJkiRJ4j+SJEmSJEniP5IkSZIkSeI/kiRJkiRJ4j+SJEmSJEniP5IkSZIkSeI/kiRJkiRJ4j+SJEmSJEniP5IkSZIkSeI/kiRJkiRJ4j+SJEmSJEniP5IkSZIkSeI/kiRJkiRJ4j+SJEmSJEniP5IkSZIkSeI/kiRJkiRJ4j+SJEmSJEniP5IkSZIkSeI/kiRJkiRJ4j+SJEmSJEniP5IkSZIkSeI/kiRJkiRJ4j+SJEmSJEniP5IkSZIkSeI/kiRJkiRJ4j+SJEmSJEniP5IkSZIkSeI/kiRJkiRJ4j+SJEmSJEniP5IkSZIkSeI/kiRJkiRJ4j+SJEmSJEniP5IkSZIkSeI/kiRJkiRJ4j+SJEmSJEniP5IkSZIkSeI/kiRJkiRJ4j+SJEmSJEniP5IkSZIkSeI/kiRJkiRJ4j+SJEmSJEniP5IkSZIkSeI/kiRJkiRJ4j+SJEmSJEniP5IkSZIkSeI/kiRJkiRJ4j+SJEmSJEniP5IkSZIkSeI/kiRJkiRJ4j+SJEmSJEniP5IkSZIkSeI/kiRJkiRJ4j+SJEmSJEniP5IkSZIkSeI/kiRJkiRJ4j+SJEmSJEniP5IkSZIkSeI/kiRJkiRJ4j+SJEmSJEniP5IkSZIkSeI/kiRJkiRJ4j+SJEmSJEniP5IkSZIkSeI/kiRJkiRJ4j+SJEmSJEniP5IkSZIkSeI/kiRJkiRJ4j+SJEmSJEniP5IkSZIkSeI/kiRJkiRJ4j+SJEmSJEniP5IkSZIkSeI/kiRJkiRJ4j+SJEmSJEniP5IkSZIkSeI/kiRJkiRJ4j+SJEmSJEniP5IkSZIkSeI/kiRJkiRJ4j+SJEmSJEniP5IkSZIkSeI/kiRJkiRJ4j+SJEmSJEniP5IkSZIkSeI/kiRJkiRJ4j+SJEmSJEniP5IkSZIkSeI/kiRJkiRJ4j+SJEmSJEniP5IkSZIkSeI/kiRJkiRJ4j+SJEmSJEniP5IkSZIkSeI/kiRJkiRJ4j+SJEmSJEniP5IkSZIkSeI/kiRJkiRJ4j+SJEmSJEniP5IkSZIkSeI/kiRJkiRJ4j+SJEmSJEniP5IkSZIkSeI/kiRJkiRJ4j+SJEmSJEniP5IkSZIkSeI/kiRJkiRJ4j+SJEmSJEniP5IkSZIkSeI/kiRJkiRJ4j+SJEmSJEniP5IkSZIkSeI/kiRJkiRJ4j+SJEmSJEniP5IkSZIkSeI/kiRJkiRJ4j+SJEmSJEniP5IkSZIkSeI/kiRJkiRJ4j+SJEmSJEniP5IkSZIkSeI/kiRJkiRJ4j+SJEmSJEniP5IkSZIkSeI/kiRJkiRJ4j+SJEmSJEniP5IkSZIkSeI/kiRJkiRJ4j+SJEmSJEniP5IkSZIkSeI/kiRJkiRJ4j+SJEmSJEniP5IkSZIkSeI/kiRJkiRJ4j+SJEmSJEniP5IkSZIkSeI/kiRJkiRJ4j+SJEmSJEniP5IkSZIkSeI/kiRJkiRJ4j+SJEmSJEniP5IkSZIkSeI/kiRJkiRJ4j+SJEmSJEniP5IkSZIkSeI/kiRJkiRJ4j+SJEmSJEniP5IkSZIkSeI/kiRJkiRJ4j+SJEmSJEniP5IkSZIkSeI/kiRJkiRJ4j+SJEmSJEniP5IkSZIkSeI/kiRJkiRJ4j+SJEmSJEniP5IkSZIkSeI/kiRJkiRJ4j+SJEmSJEniP5IkSZIkSeI/kiRJkiRJ4j+SJEmSJEniP5IkSZIkSeI/kiRJkiRJ4j+SJEmSJEniP5IkSZIkSeI/kiRJkiRJ4j+SJEmSJEniP5IkSZIkSeI/kiRJkiRJ4j+SJEmSJEniP5IkSZIkSeI/kiRJkiRJ4j+SJEmSJEniP5IkSZIkSeI/kiRJkiRJ4j+SJEmSJEniP5IkSZIkSeI/kiRJkiRJ4j+SJEmSJEniP5IkSZIkSeI/kiRJkiRJ4j+SJEmSJEniP5IkSZIkSeI/kiRJkiRJ4j+SJEmSJEniP5IkSZIkSeI/kiRJkiRJ4j+SJEmSJEniP5IkSZIkSeI/kiRJkiRJ4j+SJEmSJEniP5IkSZIkSeI/kiRJkiRJ4j+SJEmSJEniP5IkSZIkSeI/kiRJkiRJ4j+SJEmSJEniP5IkSZIkSeI/kiRJkiRJ4j+SJEmSJEniP5IkSZIkSeI/kiRJkiRJ4j+SJEmSJEniP5IkSZIkSeI/kiRJkiRJ4j+SJEmSJEniP5IkSZIkSeI/kiRJkiRJ4j+SJEmSJEniP5IkSZIkSeI/kiRJkiRJ4j+SJEmSJEniP5IkSZIkSeI/kiRJkiRJ4j+SJEmSJEniP5IkSZIkSeI/kiRJkiRJ4j+SJEmSJEniP5IkSZIkSeI/kiRJkiRJ4j+SJEmSJEniP5IkSZIkSeI/kiRJkiRJ4j+SJEmSJEniP5IkSZIkSeI/kiRJkiRJ4j+SJEmSJEniP5IkSZIkSeI/kiRJkiRJ4j+SJEmSJEniP5IkSZIkSeI/kiRJkiRJ4j+SJEmSJEniP5IkSZIkSeI/kiRJkiRJ4j+SJEmSJEniP5IkSZIkSeI/kiRJkiRJ4j+SJEmSJEniP5IkSZIkSeI/kiRJkiRJ4j+SJEmSJEniP5IkSZIkSeI/kiRJkiRJ4j+SJEmSJEniP5IkSZIkSeI/kiRJkiRJ4j+SJEmSJEniP5IkSZIkSeI/kiRJkiRJ4j+SJEmSJEniP5IkSZIkSeI/kiRJkiRJ4j+SJEmSJEniP5IkSZIkSeI/kiRJkiRJ4j+SJEmSJEniP5IkSZIkSeI/kiRJkiRJ4j+SJEmSJEniP5IkSZIkSeI/kiRJkiRJ4j+SJEmSJEniP5IkSZIkSeI/kiRJkiRJ4j+SJEmSJEniP5IkSZIkSeI/kiRJkiRJ4j+SJEmSJEniP5IkSZIkSeI/kiRJkiRJ4j8=",
          "dtype": "f8",
          "shape": "20, 20"
         }
        },
        {
         "cmax": 46.71140670776367,
         "cmin": 0.43323537707328796,
         "colorscale": [
          [
           0,
           "#440154"
          ],
          [
           0.1111111111111111,
           "#482878"
          ],
          [
           0.2222222222222222,
           "#3e4989"
          ],
          [
           0.3333333333333333,
           "#31688e"
          ],
          [
           0.4444444444444444,
           "#26828e"
          ],
          [
           0.5555555555555556,
           "#1f9e89"
          ],
          [
           0.6666666666666666,
           "#35b779"
          ],
          [
           0.7777777777777778,
           "#6ece58"
          ],
          [
           0.8888888888888888,
           "#b5de2b"
          ],
          [
           1,
           "#fde725"
          ]
         ],
         "opacity": 0.7,
         "scene": "scene",
         "showscale": false,
         "surfacecolor": {
          "bdata": "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",
          "dtype": "f4",
          "shape": "20, 20"
         },
         "type": "surface",
         "x": {
          "bdata": "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",
          "dtype": "f8",
          "shape": "20, 20"
         },
         "y": {
          "bdata": "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",
          "dtype": "f8",
          "shape": "20, 20"
         },
         "z": {
          "bdata": "tm3btm3b5j+2bdu2bdvmP7Zt27Zt2+Y/tm3btm3b5j+2bdu2bdvmP7Zt27Zt2+Y/tm3btm3b5j+2bdu2bdvmP7Zt27Zt2+Y/tm3btm3b5j+2bdu2bdvmP7Zt27Zt2+Y/tm3btm3b5j+2bdu2bdvmP7Zt27Zt2+Y/tm3btm3b5j+2bdu2bdvmP7Zt27Zt2+Y/tm3btm3b5j+2bdu2bdvmP7Zt27Zt2+Y/tm3btm3b5j+2bdu2bdvmP7Zt27Zt2+Y/tm3btm3b5j+2bdu2bdvmP7Zt27Zt2+Y/tm3btm3b5j+2bdu2bdvmP7Zt27Zt2+Y/tm3btm3b5j+2bdu2bdvmP7Zt27Zt2+Y/tm3btm3b5j+2bdu2bdvmP7Zt27Zt2+Y/tm3btm3b5j+2bdu2bdvmP7Zt27Zt2+Y/tm3btm3b5j+2bdu2bdvmP7Zt27Zt2+Y/tm3btm3b5j+2bdu2bdvmP7Zt27Zt2+Y/tm3btm3b5j+2bdu2bdvmP7Zt27Zt2+Y/tm3btm3b5j+2bdu2bdvmP7Zt27Zt2+Y/tm3btm3b5j+2bdu2bdvmP7Zt27Zt2+Y/tm3btm3b5j+2bdu2bdvmP7Zt27Zt2+Y/tm3btm3b5j+2bdu2bdvmP7Zt27Zt2+Y/tm3btm3b5j+2bdu2bdvmP7Zt27Zt2+Y/tm3btm3b5j+2bdu2bdvmP7Zt27Zt2+Y/tm3btm3b5j+2bdu2bdvmP7Zt27Zt2+Y/tm3btm3b5j+2bdu2bdvmP7Zt27Zt2+Y/tm3btm3b5j+2bdu2bdvmP7Zt27Zt2+Y/tm3btm3b5j+2bdu2bdvmP7Zt27Zt2+Y/tm3btm3b5j+2bdu2bdvmP7Zt27Zt2+Y/tm3btm3b5j+2bdu2bdvmP7Zt27Zt2+Y/tm3btm3b5j+2bdu2bdvmP7Zt27Zt2+Y/tm3btm3b5j+2bdu2bdvmP7Zt27Zt2+Y/tm3btm3b5j+2bdu2bdvmP7Zt27Zt2+Y/tm3btm3b5j+2bdu2bdvmP7Zt27Zt2+Y/tm3btm3b5j+2bdu2bdvmP7Zt27Zt2+Y/tm3btm3b5j+2bdu2bdvmP7Zt27Zt2+Y/tm3btm3b5j+2bdu2bdvmP7Zt27Zt2+Y/tm3btm3b5j+2bdu2bdvmP7Zt27Zt2+Y/tm3btm3b5j+2bdu2bdvmP7Zt27Zt2+Y/tm3btm3b5j+2bdu2bdvmP7Zt27Zt2+Y/tm3btm3b5j+2bdu2bdvmP7Zt27Zt2+Y/tm3btm3b5j+2bdu2bdvmP7Zt27Zt2+Y/tm3btm3b5j+2bdu2bdvmP7Zt27Zt2+Y/tm3btm3b5j+2bdu2bdvmP7Zt27Zt2+Y/tm3btm3b5j+2bdu2bdvmP7Zt27Zt2+Y/tm3btm3b5j+2bdu2bdvmP7Zt27Zt2+Y/tm3btm3b5j+2bdu2bdvmP7Zt27Zt2+Y/tm3btm3b5j+2bdu2bdvmP7Zt27Zt2+Y/tm3btm3b5j+2bdu2bdvmP7Zt27Zt2+Y/tm3btm3b5j+2bdu2bdvmP7Zt27Zt2+Y/tm3btm3b5j+2bdu2bdvmP7Zt27Zt2+Y/tm3btm3b5j+2bdu2bdvmP7Zt27Zt2+Y/tm3btm3b5j+2bdu2bdvmP7Zt27Zt2+Y/tm3btm3b5j+2bdu2bdvmP7Zt27Zt2+Y/tm3btm3b5j+2bdu2bdvmP7Zt27Zt2+Y/tm3btm3b5j+2bdu2bdvmP7Zt27Zt2+Y/tm3btm3b5j+2bdu2bdvmP7Zt27Zt2+Y/tm3btm3b5j+2bdu2bdvmP7Zt27Zt2+Y/tm3btm3b5j+2bdu2bdvmP7Zt27Zt2+Y/tm3btm3b5j+2bdu2bdvmP7Zt27Zt2+Y/tm3btm3b5j+2bdu2bdvmP7Zt27Zt2+Y/tm3btm3b5j+2bdu2bdvmP7Zt27Zt2+Y/tm3btm3b5j+2bdu2bdvmP7Zt27Zt2+Y/tm3btm3b5j+2bdu2bdvmP7Zt27Zt2+Y/tm3btm3b5j+2bdu2bdvmP7Zt27Zt2+Y/tm3btm3b5j+2bdu2bdvmP7Zt27Zt2+Y/tm3btm3b5j+2bdu2bdvmP7Zt27Zt2+Y/tm3btm3b5j+2bdu2bdvmP7Zt27Zt2+Y/tm3btm3b5j+2bdu2bdvmP7Zt27Zt2+Y/tm3btm3b5j+2bdu2bdvmP7Zt27Zt2+Y/tm3btm3b5j+2bdu2bdvmP7Zt27Zt2+Y/tm3btm3b5j+2bdu2bdvmP7Zt27Zt2+Y/tm3btm3b5j+2bdu2bdvmP7Zt27Zt2+Y/tm3btm3b5j+2bdu2bdvmP7Zt27Zt2+Y/tm3btm3b5j+2bdu2bdvmP7Zt27Zt2+Y/tm3btm3b5j+2bdu2bdvmP7Zt27Zt2+Y/tm3btm3b5j+2bdu2bdvmP7Zt27Zt2+Y/tm3btm3b5j+2bdu2bdvmP7Zt27Zt2+Y/tm3btm3b5j+2bdu2bdvmP7Zt27Zt2+Y/tm3btm3b5j+2bdu2bdvmP7Zt27Zt2+Y/tm3btm3b5j+2bdu2bdvmP7Zt27Zt2+Y/tm3btm3b5j+2bdu2bdvmP7Zt27Zt2+Y/tm3btm3b5j+2bdu2bdvmP7Zt27Zt2+Y/tm3btm3b5j+2bdu2bdvmP7Zt27Zt2+Y/tm3btm3b5j+2bdu2bdvmP7Zt27Zt2+Y/tm3btm3b5j+2bdu2bdvmP7Zt27Zt2+Y/tm3btm3b5j+2bdu2bdvmP7Zt27Zt2+Y/tm3btm3b5j+2bdu2bdvmP7Zt27Zt2+Y/tm3btm3b5j+2bdu2bdvmP7Zt27Zt2+Y/tm3btm3b5j+2bdu2bdvmP7Zt27Zt2+Y/tm3btm3b5j+2bdu2bdvmP7Zt27Zt2+Y/tm3btm3b5j+2bdu2bdvmP7Zt27Zt2+Y/tm3btm3b5j+2bdu2bdvmP7Zt27Zt2+Y/tm3btm3b5j+2bdu2bdvmP7Zt27Zt2+Y/tm3btm3b5j+2bdu2bdvmP7Zt27Zt2+Y/tm3btm3b5j+2bdu2bdvmP7Zt27Zt2+Y/tm3btm3b5j+2bdu2bdvmP7Zt27Zt2+Y/tm3btm3b5j+2bdu2bdvmP7Zt27Zt2+Y/tm3btm3b5j+2bdu2bdvmP7Zt27Zt2+Y/tm3btm3b5j+2bdu2bdvmP7Zt27Zt2+Y/tm3btm3b5j+2bdu2bdvmP7Zt27Zt2+Y/tm3btm3b5j+2bdu2bdvmP7Zt27Zt2+Y/tm3btm3b5j+2bdu2bdvmP7Zt27Zt2+Y/tm3btm3b5j+2bdu2bdvmP7Zt27Zt2+Y/tm3btm3b5j+2bdu2bdvmP7Zt27Zt2+Y/tm3btm3b5j+2bdu2bdvmP7Zt27Zt2+Y/tm3btm3b5j+2bdu2bdvmP7Zt27Zt2+Y/tm3btm3b5j+2bdu2bdvmP7Zt27Zt2+Y/tm3btm3b5j+2bdu2bdvmP7Zt27Zt2+Y/tm3btm3b5j+2bdu2bdvmP7Zt27Zt2+Y/tm3btm3b5j+2bdu2bdvmP7Zt27Zt2+Y/tm3btm3b5j+2bdu2bdvmP7Zt27Zt2+Y/tm3btm3b5j+2bdu2bdvmP7Zt27Zt2+Y/tm3btm3b5j+2bdu2bdvmP7Zt27Zt2+Y/tm3btm3b5j+2bdu2bdvmP7Zt27Zt2+Y/tm3btm3b5j+2bdu2bdvmP7Zt27Zt2+Y/tm3btm3b5j+2bdu2bdvmP7Zt27Zt2+Y/tm3btm3b5j+2bdu2bdvmP7Zt27Zt2+Y/tm3btm3b5j+2bdu2bdvmP7Zt27Zt2+Y/tm3btm3b5j+2bdu2bdvmP7Zt27Zt2+Y/tm3btm3b5j+2bdu2bdvmP7Zt27Zt2+Y/tm3btm3b5j+2bdu2bdvmP7Zt27Zt2+Y/tm3btm3b5j+2bdu2bdvmP7Zt27Zt2+Y/tm3btm3b5j+2bdu2bdvmP7Zt27Zt2+Y/tm3btm3b5j+2bdu2bdvmP7Zt27Zt2+Y/tm3btm3b5j+2bdu2bdvmP7Zt27Zt2+Y/tm3btm3b5j+2bdu2bdvmP7Zt27Zt2+Y/tm3btm3b5j+2bdu2bdvmP7Zt27Zt2+Y/tm3btm3b5j+2bdu2bdvmP7Zt27Zt2+Y/tm3btm3b5j+2bdu2bdvmP7Zt27Zt2+Y/tm3btm3b5j+2bdu2bdvmP7Zt27Zt2+Y/tm3btm3b5j+2bdu2bdvmP7Zt27Zt2+Y/tm3btm3b5j+2bdu2bdvmP7Zt27Zt2+Y/tm3btm3b5j+2bdu2bdvmP7Zt27Zt2+Y/tm3btm3b5j+2bdu2bdvmP7Zt27Zt2+Y/tm3btm3b5j8=",
          "dtype": "f8",
          "shape": "20, 20"
         }
        },
        {
         "cmax": 46.71140670776367,
         "cmin": 0.43323537707328796,
         "colorscale": [
          [
           0,
           "#440154"
          ],
          [
           0.1111111111111111,
           "#482878"
          ],
          [
           0.2222222222222222,
           "#3e4989"
          ],
          [
           0.3333333333333333,
           "#31688e"
          ],
          [
           0.4444444444444444,
           "#26828e"
          ],
          [
           0.5555555555555556,
           "#1f9e89"
          ],
          [
           0.6666666666666666,
           "#35b779"
          ],
          [
           0.7777777777777778,
           "#6ece58"
          ],
          [
           0.8888888888888888,
           "#b5de2b"
          ],
          [
           1,
           "#fde725"
          ]
         ],
         "opacity": 0.7,
         "scene": "scene2",
         "showscale": false,
         "surfacecolor": {
          "bdata": "cDUZPwAgnT3AdEu+gJ59voBZ370Apig+4NMDP7A1Yj9YHZw/APK9P5iU0z9wP9w/YGbZP5Cezj8YJcE/oFm3P1j3tz/gOsk/uArwP/SgF0DAWgo/AAplPYDNOr7Ayky+AI0ovcBbcz4gVxM/oFhqPyDQmj+gbbY/SP3FP7jAyT+QF8Q/YCa5P5hirj/A8Kk/+OexP9imyz/gFfs/3A4hQMDfPD+AdZs+AAXjPUCHAz4gap0+EKgWP5ALaT/g8ps/CEi8P5Be0j+wYt0/OMPeP3i52T9o5NI/yJnPP7hU1T+oFOk/iGgHQEiAJEAUJkxAwPGLP/BsND/QeAw/QCUXP/AqRz9YloY/gPesPwha0D9wVOw/IPH+PyhMBECk4QVA8DAGQKiZB0CQjAxA0DkXQERaKUCQBERApJNnQNjOiUBw9L4/mCGQP9BTez94+YI/+HuZP5DCuT9Qxtw/WPD8P7xvC0DE1RRABGAbQAyoIEC4yiZA9AYwQMRXPkA8OFNAFHZvQJqViUBG4p5AEBC3QPDr6T9IlLk/aDykP6ispT+I3bc/mBfUP9gm9D+4rAlAwJMXQDCyI0CU/C5A5B07QKAOSkDEpV1AoEF3QGLHi0B8OJ9A4ou1QCITzkDg8+dA0CYCQNDjzT+Al7E/YBOsPwBTuD+AudA/MAnwP0wuCUC00hpAzOYsQBg7QEAkJ1ZAxCBwQGquh0DUP5pA1LivQJqtx0BCZuFAu/f7QD00C0HcugZA+A7OP2C6qD94dZs/cKeiPxD5uT+QGN0/mEgEQKwWHUAgkDhAjOZWQBSoeEAgOI9A7E6kQJ6Ou0AqpdRA5/nuQBLhBEH4DRJBYZQeQcDvBkCYr8U/AJiYP9gzhj/oeYw/4EKoP/jo1T+k7AhA7HUsQFxTVEBsm39ACNSWQAr5rkD+9cdAQHfhQAwU+0AXJwpBME4WQeC7IUGSNCxBIBYLQMgpyT8AXpk/EPqHP/hilD+QVbw/4E78P0j3J0B0JllAEpiHQHbTo0A0MMBANMPbQB7Y9UAi/AZBavARQRzCG0F9eyRBDzQsQeMIM0F07h1AIE/xP/DNxj9g274/2NLZPzz3CkD8lDdAiM9vQCj/l0D+ALpA5NTbQEGS+0CQ1QtB6owXQb+4IEEBcCdBkwssQToRL0H4GzFBisEyQdxJSkDgsCpA0IUcQPx0IUAQ6zlAaONkQFLvj0BIebNArILaQCgQAUHOrRNBgr8jQSo8MEEQizhBy5c8QSjQPEFMDzpBN3Y1QcQ+MEGEiitB+DKMQLZCgUC0835AJr6HQMpCmkAuXbZACnraQGsNAkHWARhBlkEtQbTtP0ElXU5Bi1pXQYhQWkG4ZFdB0HFPQSfnQ0GojjZBO0kpQUnHHUGm4MVApvLAQKQPxUAMD9NAOAjrQK4QBkHgORpBhoowQaAfR0Hl1ltBiY5sQettd0EyMHtBclx3QXVgbEFSjFtBoeBGQQDIMEEquxtBYOcJQZZ2CEHy5QhBpmMNQQ1OFkEaoiNB1OI0QTYISUFkf15Bd0VzQY2LgkF+3IhBEKWLQS5KikEQpoRBJy12QTnvXEF4D0BBC3ciQSATB0Hi1eBAJI80QW4DN0GikzxBfJBFQVb2UUHiTWFBFphyQdIogkGVQYpBaX6QQcnLk0H+R5NBamyOQV0uhUGUG3BBHRlQQegjLUEgcgpBfl7WQCgXpEDe72NBwN1mQcZ1a0EqCXJBrqh6QYCBgkGVJ4hBl6KNQc4YkkGHk5RBmCCUQbL9j0F1wYdB+PZ2QXqDV0HRUjNBS0wNQTxq0UCecpFAFO0/QDFXiUF3E4pBNLeKQRhzi0FLaYxB9JaNQX/HjkFrjY9B1kiPQeY5jUF4oohBOOuAQb6Wa0H8zk5B3LksQd52B0FOncNA4E57QCDVBUAQMkE/mnKeQdR8nUFiXptBs1yYQXK/lEGWu5BB+F6MQaOGh0HP3YFBz9h1QT9mZEEtlk5Bnhc0Qa5JFUHKrOZAykugQISpOED4Z4A/oIr2vhg/ub/upq9BsjmsQUuMpkHYAJ9BZBCWQWsyjEFsxIFB1fBtQVmdV0FUPUBB1FUnQVh8DEESJ99ACvyhQMjZRkAYS5o/IFoFvzh9+L9M+DvAROFawA==",
          "dtype": "f4",
          "shape": "20, 20"
         },
         "type": "surface",
         "x": {
          "bdata": "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",
          "dtype": "f8",
          "shape": "20, 20"
         },
         "y": {
          "bdata": "AAAAAAAAAAAAAAAAAAAAAAAAAAAAAAAAAAAAAAAAAAAAAAAAAAAAAAAAAAAAAAAAAAAAAAAAAAAAAAAAAAAAAAAAAAAAAAAAAAAAAAAAAAAAAAAAAAAAAAAAAAAAAAAAAAAAAAAAAAAAAAAAAAAAAAAAAAAAAAAAAAAAAAAAAAAAAAAAAAAAAAAAAAAAAAAAAAAAAAAAAAAAAAAAAAAAACivobyG8qo/KK+hvIbyqj8or6G8hvKqPyivobyG8qo/KK+hvIbyqj8or6G8hvKqPyivobyG8qo/KK+hvIbyqj8or6G8hvKqPyivobyG8qo/KK+hvIbyqj8or6G8hvKqPyivobyG8qo/KK+hvIbyqj8or6G8hvKqPyivobyG8qo/KK+hvIbyqj8or6G8hvKqPyivobyG8qo/KK+hvIbyqj8or6G8hvK6PyivobyG8ro/KK+hvIbyuj8or6G8hvK6PyivobyG8ro/KK+hvIbyuj8or6G8hvK6PyivobyG8ro/KK+hvIbyuj8or6G8hvK6PyivobyG8ro/KK+hvIbyuj8or6G8hvK6PyivobyG8ro/KK+hvIbyuj8or6G8hvK6PyivobyG8ro/KK+hvIbyuj8or6G8hvK6PyivobyG8ro/XkN5DeU1xD9eQ3kN5TXEP15DeQ3lNcQ/XkN5DeU1xD9eQ3kN5TXEP15DeQ3lNcQ/XkN5DeU1xD9eQ3kN5TXEP15DeQ3lNcQ/XkN5DeU1xD9eQ3kN5TXEP15DeQ3lNcQ/XkN5DeU1xD9eQ3kN5TXEP15DeQ3lNcQ/XkN5DeU1xD9eQ3kN5TXEP15DeQ3lNcQ/XkN5DeU1xD9eQ3kN5TXEPyivobyG8so/KK+hvIbyyj8or6G8hvLKPyivobyG8so/KK+hvIbyyj8or6G8hvLKPyivobyG8so/KK+hvIbyyj8or6G8hvLKPyivobyG8so/KK+hvIbyyj8or6G8hvLKPyivobyG8so/KK+hvIbyyj8or6G8hvLKPyivobyG8so/KK+hvIbyyj8or6G8hvLKPyivobyG8so/KK+hvIbyyj95DeU1lNfQP3kN5TWU19A/eQ3lNZTX0D95DeU1lNfQP3kN5TWU19A/eQ3lNZTX0D95DeU1lNfQP3kN5TWU19A/eQ3lNZTX0D95DeU1lNfQP3kN5TWU19A/eQ3lNZTX0D95DeU1lNfQP3kN5TWU19A/eQ3lNZTX0D95DeU1lNfQP3kN5TWU19A/eQ3lNZTX0D95DeU1lNfQP3kN5TWU19A/XkN5DeU11D9eQ3kN5TXUP15DeQ3lNdQ/XkN5DeU11D9eQ3kN5TXUP15DeQ3lNdQ/XkN5DeU11D9eQ3kN5TXUP15DeQ3lNdQ/XkN5DeU11D9eQ3kN5TXUP15DeQ3lNdQ/XkN5DeU11D9eQ3kN5TXUP15DeQ3lNdQ/XkN5DeU11D9eQ3kN5TXUP15DeQ3lNdQ/XkN5DeU11D9eQ3kN5TXUP0N5DeU1lNc/Q3kN5TWU1z9DeQ3lNZTXP0N5DeU1lNc/Q3kN5TWU1z9DeQ3lNZTXP0N5DeU1lNc/Q3kN5TWU1z9DeQ3lNZTXP0N5DeU1lNc/Q3kN5TWU1z9DeQ3lNZTXP0N5DeU1lNc/Q3kN5TWU1z9DeQ3lNZTXP0N5DeU1lNc/Q3kN5TWU1z9DeQ3lNZTXP0N5DeU1lNc/Q3kN5TWU1z8or6G8hvLaPyivobyG8to/KK+hvIby2j8or6G8hvLaPyivobyG8to/KK+hvIby2j8or6G8hvLaPyivobyG8to/KK+hvIby2j8or6G8hvLaPyivobyG8to/KK+hvIby2j8or6G8hvLaPyivobyG8to/KK+hvIby2j8or6G8hvLaPyivobyG8to/KK+hvIby2j8or6G8hvLaPyivobyG8to/DeU1lNdQ3j8N5TWU11DePw3lNZTXUN4/DeU1lNdQ3j8N5TWU11DePw3lNZTXUN4/DeU1lNdQ3j8N5TWU11DePw3lNZTXUN4/DeU1lNdQ3j8N5TWU11DePw3lNZTXUN4/DeU1lNdQ3j8N5TWU11DePw3lNZTXUN4/DeU1lNdQ3j8N5TWU11DePw3lNZTXUN4/DeU1lNdQ3j8N5TWU11DeP3kN5TWU1+A/eQ3lNZTX4D95DeU1lNfgP3kN5TWU1+A/eQ3lNZTX4D95DeU1lNfgP3kN5TWU1+A/eQ3lNZTX4D95DeU1lNfgP3kN5TWU1+A/eQ3lNZTX4D95DeU1lNfgP3kN5TWU1+A/eQ3lNZTX4D95DeU1lNfgP3kN5TWU1+A/eQ3lNZTX4D95DeU1lNfgP3kN5TWU1+A/eQ3lNZTX4D9sKK+hvIbiP2wor6G8huI/bCivobyG4j9sKK+hvIbiP2wor6G8huI/bCivobyG4j9sKK+hvIbiP2wor6G8huI/bCivobyG4j9sKK+hvIbiP2wor6G8huI/bCivobyG4j9sKK+hvIbiP2wor6G8huI/bCivobyG4j9sKK+hvIbiP2wor6G8huI/bCivobyG4j9sKK+hvIbiP2wor6G8huI/XkN5DeU15D9eQ3kN5TXkP15DeQ3lNeQ/XkN5DeU15D9eQ3kN5TXkP15DeQ3lNeQ/XkN5DeU15D9eQ3kN5TXkP15DeQ3lNeQ/XkN5DeU15D9eQ3kN5TXkP15DeQ3lNeQ/XkN5DeU15D9eQ3kN5TXkP15DeQ3lNeQ/XkN5DeU15D9eQ3kN5TXkP15DeQ3lNeQ/XkN5DeU15D9eQ3kN5TXkP1BeQ3kN5eU/UF5DeQ3l5T9QXkN5DeXlP1BeQ3kN5eU/UF5DeQ3l5T9QXkN5DeXlP1BeQ3kN5eU/UF5DeQ3l5T9QXkN5DeXlP1BeQ3kN5eU/UF5DeQ3l5T9QXkN5DeXlP1BeQ3kN5eU/UF5DeQ3l5T9QXkN5DeXlP1BeQ3kN5eU/UF5DeQ3l5T9QXkN5DeXlP1BeQ3kN5eU/UF5DeQ3l5T9DeQ3lNZTnP0N5DeU1lOc/Q3kN5TWU5z9DeQ3lNZTnP0N5DeU1lOc/Q3kN5TWU5z9DeQ3lNZTnP0N5DeU1lOc/Q3kN5TWU5z9DeQ3lNZTnP0N5DeU1lOc/Q3kN5TWU5z9DeQ3lNZTnP0N5DeU1lOc/Q3kN5TWU5z9DeQ3lNZTnP0N5DeU1lOc/Q3kN5TWU5z9DeQ3lNZTnP0N5DeU1lOc/NpTXUF5D6T82lNdQXkPpPzaU11BeQ+k/NpTXUF5D6T82lNdQXkPpPzaU11BeQ+k/NpTXUF5D6T82lNdQXkPpPzaU11BeQ+k/NpTXUF5D6T82lNdQXkPpPzaU11BeQ+k/NpTXUF5D6T82lNdQXkPpPzaU11BeQ+k/NpTXUF5D6T82lNdQXkPpPzaU11BeQ+k/NpTXUF5D6T82lNdQXkPpPyivobyG8uo/KK+hvIby6j8or6G8hvLqPyivobyG8uo/KK+hvIby6j8or6G8hvLqPyivobyG8uo/KK+hvIby6j8or6G8hvLqPyivobyG8uo/KK+hvIby6j8or6G8hvLqPyivobyG8uo/KK+hvIby6j8or6G8hvLqPyivobyG8uo/KK+hvIby6j8or6G8hvLqPyivobyG8uo/KK+hvIby6j8aymsor6HsPxrKayivoew/GsprKK+h7D8aymsor6HsPxrKayivoew/GsprKK+h7D8aymsor6HsPxrKayivoew/GsprKK+h7D8aymsor6HsPxrKayivoew/GsprKK+h7D8aymsor6HsPxrKayivoew/GsprKK+h7D8aymsor6HsPxrKayivoew/GsprKK+h7D8aymsor6HsPxrKayivoew/DeU1lNdQ7j8N5TWU11DuPw3lNZTXUO4/DeU1lNdQ7j8N5TWU11DuPw3lNZTXUO4/DeU1lNdQ7j8N5TWU11DuPw3lNZTXUO4/DeU1lNdQ7j8N5TWU11DuPw3lNZTXUO4/DeU1lNdQ7j8N5TWU11DuPw3lNZTXUO4/DeU1lNdQ7j8N5TWU11DuPw3lNZTXUO4/DeU1lNdQ7j8N5TWU11DuPwAAAAAAAPA/AAAAAAAA8D8AAAAAAADwPwAAAAAAAPA/AAAAAAAA8D8AAAAAAADwPwAAAAAAAPA/AAAAAAAA8D8AAAAAAADwPwAAAAAAAPA/AAAAAAAA8D8AAAAAAADwPwAAAAAAAPA/AAAAAAAA8D8AAAAAAADwPwAAAAAAAPA/AAAAAAAA8D8AAAAAAADwPwAAAAAAAPA/AAAAAAAA8D8=",
          "dtype": "f8",
          "shape": "20, 20"
         },
         "z": {
          "bdata": "tm3btm3b5j+2bdu2bdvmP7Zt27Zt2+Y/tm3btm3b5j+2bdu2bdvmP7Zt27Zt2+Y/tm3btm3b5j+2bdu2bdvmP7Zt27Zt2+Y/tm3btm3b5j+2bdu2bdvmP7Zt27Zt2+Y/tm3btm3b5j+2bdu2bdvmP7Zt27Zt2+Y/tm3btm3b5j+2bdu2bdvmP7Zt27Zt2+Y/tm3btm3b5j+2bdu2bdvmP7Zt27Zt2+Y/tm3btm3b5j+2bdu2bdvmP7Zt27Zt2+Y/tm3btm3b5j+2bdu2bdvmP7Zt27Zt2+Y/tm3btm3b5j+2bdu2bdvmP7Zt27Zt2+Y/tm3btm3b5j+2bdu2bdvmP7Zt27Zt2+Y/tm3btm3b5j+2bdu2bdvmP7Zt27Zt2+Y/tm3btm3b5j+2bdu2bdvmP7Zt27Zt2+Y/tm3btm3b5j+2bdu2bdvmP7Zt27Zt2+Y/tm3btm3b5j+2bdu2bdvmP7Zt27Zt2+Y/tm3btm3b5j+2bdu2bdvmP7Zt27Zt2+Y/tm3btm3b5j+2bdu2bdvmP7Zt27Zt2+Y/tm3btm3b5j+2bdu2bdvmP7Zt27Zt2+Y/tm3btm3b5j+2bdu2bdvmP7Zt27Zt2+Y/tm3btm3b5j+2bdu2bdvmP7Zt27Zt2+Y/tm3btm3b5j+2bdu2bdvmP7Zt27Zt2+Y/tm3btm3b5j+2bdu2bdvmP7Zt27Zt2+Y/tm3btm3b5j+2bdu2bdvmP7Zt27Zt2+Y/tm3btm3b5j+2bdu2bdvmP7Zt27Zt2+Y/tm3btm3b5j+2bdu2bdvmP7Zt27Zt2+Y/tm3btm3b5j+2bdu2bdvmP7Zt27Zt2+Y/tm3btm3b5j+2bdu2bdvmP7Zt27Zt2+Y/tm3btm3b5j+2bdu2bdvmP7Zt27Zt2+Y/tm3btm3b5j+2bdu2bdvmP7Zt27Zt2+Y/tm3btm3b5j+2bdu2bdvmP7Zt27Zt2+Y/tm3btm3b5j+2bdu2bdvmP7Zt27Zt2+Y/tm3btm3b5j+2bdu2bdvmP7Zt27Zt2+Y/tm3btm3b5j+2bdu2bdvmP7Zt27Zt2+Y/tm3btm3b5j+2bdu2bdvmP7Zt27Zt2+Y/tm3btm3b5j+2bdu2bdvmP7Zt27Zt2+Y/tm3btm3b5j+2bdu2bdvmP7Zt27Zt2+Y/tm3btm3b5j+2bdu2bdvmP7Zt27Zt2+Y/tm3btm3b5j+2bdu2bdvmP7Zt27Zt2+Y/tm3btm3b5j+2bdu2bdvmP7Zt27Zt2+Y/tm3btm3b5j+2bdu2bdvmP7Zt27Zt2+Y/tm3btm3b5j+2bdu2bdvmP7Zt27Zt2+Y/tm3btm3b5j+2bdu2bdvmP7Zt27Zt2+Y/tm3btm3b5j+2bdu2bdvmP7Zt27Zt2+Y/tm3btm3b5j+2bdu2bdvmP7Zt27Zt2+Y/tm3btm3b5j+2bdu2bdvmP7Zt27Zt2+Y/tm3btm3b5j+2bdu2bdvmP7Zt27Zt2+Y/tm3btm3b5j+2bdu2bdvmP7Zt27Zt2+Y/tm3btm3b5j+2bdu2bdvmP7Zt27Zt2+Y/tm3btm3b5j+2bdu2bdvmP7Zt27Zt2+Y/tm3btm3b5j+2bdu2bdvmP7Zt27Zt2+Y/tm3btm3b5j+2bdu2bdvmP7Zt27Zt2+Y/tm3btm3b5j+2bdu2bdvmP7Zt27Zt2+Y/tm3btm3b5j+2bdu2bdvmP7Zt27Zt2+Y/tm3btm3b5j+2bdu2bdvmP7Zt27Zt2+Y/tm3btm3b5j+2bdu2bdvmP7Zt27Zt2+Y/tm3btm3b5j+2bdu2bdvmP7Zt27Zt2+Y/tm3btm3b5j+2bdu2bdvmP7Zt27Zt2+Y/tm3btm3b5j+2bdu2bdvmP7Zt27Zt2+Y/tm3btm3b5j+2bdu2bdvmP7Zt27Zt2+Y/tm3btm3b5j+2bdu2bdvmP7Zt27Zt2+Y/tm3btm3b5j+2bdu2bdvmP7Zt27Zt2+Y/tm3btm3b5j+2bdu2bdvmP7Zt27Zt2+Y/tm3btm3b5j+2bdu2bdvmP7Zt27Zt2+Y/tm3btm3b5j+2bdu2bdvmP7Zt27Zt2+Y/tm3btm3b5j+2bdu2bdvmP7Zt27Zt2+Y/tm3btm3b5j+2bdu2bdvmP7Zt27Zt2+Y/tm3btm3b5j+2bdu2bdvmP7Zt27Zt2+Y/tm3btm3b5j+2bdu2bdvmP7Zt27Zt2+Y/tm3btm3b5j+2bdu2bdvmP7Zt27Zt2+Y/tm3btm3b5j+2bdu2bdvmP7Zt27Zt2+Y/tm3btm3b5j+2bdu2bdvmP7Zt27Zt2+Y/tm3btm3b5j+2bdu2bdvmP7Zt27Zt2+Y/tm3btm3b5j+2bdu2bdvmP7Zt27Zt2+Y/tm3btm3b5j+2bdu2bdvmP7Zt27Zt2+Y/tm3btm3b5j+2bdu2bdvmP7Zt27Zt2+Y/tm3btm3b5j+2bdu2bdvmP7Zt27Zt2+Y/tm3btm3b5j+2bdu2bdvmP7Zt27Zt2+Y/tm3btm3b5j+2bdu2bdvmP7Zt27Zt2+Y/tm3btm3b5j+2bdu2bdvmP7Zt27Zt2+Y/tm3btm3b5j+2bdu2bdvmP7Zt27Zt2+Y/tm3btm3b5j+2bdu2bdvmP7Zt27Zt2+Y/tm3btm3b5j+2bdu2bdvmP7Zt27Zt2+Y/tm3btm3b5j+2bdu2bdvmP7Zt27Zt2+Y/tm3btm3b5j+2bdu2bdvmP7Zt27Zt2+Y/tm3btm3b5j+2bdu2bdvmP7Zt27Zt2+Y/tm3btm3b5j+2bdu2bdvmP7Zt27Zt2+Y/tm3btm3b5j+2bdu2bdvmP7Zt27Zt2+Y/tm3btm3b5j+2bdu2bdvmP7Zt27Zt2+Y/tm3btm3b5j+2bdu2bdvmP7Zt27Zt2+Y/tm3btm3b5j+2bdu2bdvmP7Zt27Zt2+Y/tm3btm3b5j+2bdu2bdvmP7Zt27Zt2+Y/tm3btm3b5j+2bdu2bdvmP7Zt27Zt2+Y/tm3btm3b5j+2bdu2bdvmP7Zt27Zt2+Y/tm3btm3b5j+2bdu2bdvmP7Zt27Zt2+Y/tm3btm3b5j+2bdu2bdvmP7Zt27Zt2+Y/tm3btm3b5j+2bdu2bdvmP7Zt27Zt2+Y/tm3btm3b5j+2bdu2bdvmP7Zt27Zt2+Y/tm3btm3b5j+2bdu2bdvmP7Zt27Zt2+Y/tm3btm3b5j+2bdu2bdvmP7Zt27Zt2+Y/tm3btm3b5j+2bdu2bdvmP7Zt27Zt2+Y/tm3btm3b5j+2bdu2bdvmP7Zt27Zt2+Y/tm3btm3b5j+2bdu2bdvmP7Zt27Zt2+Y/tm3btm3b5j+2bdu2bdvmP7Zt27Zt2+Y/tm3btm3b5j+2bdu2bdvmP7Zt27Zt2+Y/tm3btm3b5j+2bdu2bdvmP7Zt27Zt2+Y/tm3btm3b5j+2bdu2bdvmP7Zt27Zt2+Y/tm3btm3b5j+2bdu2bdvmP7Zt27Zt2+Y/tm3btm3b5j+2bdu2bdvmP7Zt27Zt2+Y/tm3btm3b5j+2bdu2bdvmP7Zt27Zt2+Y/tm3btm3b5j+2bdu2bdvmP7Zt27Zt2+Y/tm3btm3b5j+2bdu2bdvmP7Zt27Zt2+Y/tm3btm3b5j+2bdu2bdvmP7Zt27Zt2+Y/tm3btm3b5j+2bdu2bdvmP7Zt27Zt2+Y/tm3btm3b5j+2bdu2bdvmP7Zt27Zt2+Y/tm3btm3b5j+2bdu2bdvmP7Zt27Zt2+Y/tm3btm3b5j+2bdu2bdvmP7Zt27Zt2+Y/tm3btm3b5j+2bdu2bdvmP7Zt27Zt2+Y/tm3btm3b5j+2bdu2bdvmP7Zt27Zt2+Y/tm3btm3b5j+2bdu2bdvmP7Zt27Zt2+Y/tm3btm3b5j+2bdu2bdvmP7Zt27Zt2+Y/tm3btm3b5j+2bdu2bdvmP7Zt27Zt2+Y/tm3btm3b5j+2bdu2bdvmP7Zt27Zt2+Y/tm3btm3b5j+2bdu2bdvmP7Zt27Zt2+Y/tm3btm3b5j+2bdu2bdvmP7Zt27Zt2+Y/tm3btm3b5j+2bdu2bdvmP7Zt27Zt2+Y/tm3btm3b5j+2bdu2bdvmP7Zt27Zt2+Y/tm3btm3b5j+2bdu2bdvmP7Zt27Zt2+Y/tm3btm3b5j+2bdu2bdvmP7Zt27Zt2+Y/tm3btm3b5j+2bdu2bdvmP7Zt27Zt2+Y/tm3btm3b5j+2bdu2bdvmP7Zt27Zt2+Y/tm3btm3b5j+2bdu2bdvmP7Zt27Zt2+Y/tm3btm3b5j+2bdu2bdvmP7Zt27Zt2+Y/tm3btm3b5j+2bdu2bdvmP7Zt27Zt2+Y/tm3btm3b5j8=",
          "dtype": "f8",
          "shape": "20, 20"
         }
        },
        {
         "cmax": 46.71140670776367,
         "cmin": 0.43323537707328796,
         "colorscale": [
          [
           0,
           "#440154"
          ],
          [
           0.1111111111111111,
           "#482878"
          ],
          [
           0.2222222222222222,
           "#3e4989"
          ],
          [
           0.3333333333333333,
           "#31688e"
          ],
          [
           0.4444444444444444,
           "#26828e"
          ],
          [
           0.5555555555555556,
           "#1f9e89"
          ],
          [
           0.6666666666666666,
           "#35b779"
          ],
          [
           0.7777777777777778,
           "#6ece58"
          ],
          [
           0.8888888888888888,
           "#b5de2b"
          ],
          [
           1,
           "#fde725"
          ]
         ],
         "opacity": 0.7,
         "scene": "scene3",
         "showscale": false,
         "surfacecolor": {
          "bdata": "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",
          "dtype": "f4",
          "shape": "20, 20"
         },
         "type": "surface",
         "x": {
          "bdata": "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",
          "dtype": "f8",
          "shape": "20, 20"
         },
         "y": {
          "bdata": "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",
          "dtype": "f8",
          "shape": "20, 20"
         },
         "z": {
          "bdata": "tm3btm3b5j+2bdu2bdvmP7Zt27Zt2+Y/tm3btm3b5j+2bdu2bdvmP7Zt27Zt2+Y/tm3btm3b5j+2bdu2bdvmP7Zt27Zt2+Y/tm3btm3b5j+2bdu2bdvmP7Zt27Zt2+Y/tm3btm3b5j+2bdu2bdvmP7Zt27Zt2+Y/tm3btm3b5j+2bdu2bdvmP7Zt27Zt2+Y/tm3btm3b5j+2bdu2bdvmP7Zt27Zt2+Y/tm3btm3b5j+2bdu2bdvmP7Zt27Zt2+Y/tm3btm3b5j+2bdu2bdvmP7Zt27Zt2+Y/tm3btm3b5j+2bdu2bdvmP7Zt27Zt2+Y/tm3btm3b5j+2bdu2bdvmP7Zt27Zt2+Y/tm3btm3b5j+2bdu2bdvmP7Zt27Zt2+Y/tm3btm3b5j+2bdu2bdvmP7Zt27Zt2+Y/tm3btm3b5j+2bdu2bdvmP7Zt27Zt2+Y/tm3btm3b5j+2bdu2bdvmP7Zt27Zt2+Y/tm3btm3b5j+2bdu2bdvmP7Zt27Zt2+Y/tm3btm3b5j+2bdu2bdvmP7Zt27Zt2+Y/tm3btm3b5j+2bdu2bdvmP7Zt27Zt2+Y/tm3btm3b5j+2bdu2bdvmP7Zt27Zt2+Y/tm3btm3b5j+2bdu2bdvmP7Zt27Zt2+Y/tm3btm3b5j+2bdu2bdvmP7Zt27Zt2+Y/tm3btm3b5j+2bdu2bdvmP7Zt27Zt2+Y/tm3btm3b5j+2bdu2bdvmP7Zt27Zt2+Y/tm3btm3b5j+2bdu2bdvmP7Zt27Zt2+Y/tm3btm3b5j+2bdu2bdvmP7Zt27Zt2+Y/tm3btm3b5j+2bdu2bdvmP7Zt27Zt2+Y/tm3btm3b5j+2bdu2bdvmP7Zt27Zt2+Y/tm3btm3b5j+2bdu2bdvmP7Zt27Zt2+Y/tm3btm3b5j+2bdu2bdvmP7Zt27Zt2+Y/tm3btm3b5j+2bdu2bdvmP7Zt27Zt2+Y/tm3btm3b5j+2bdu2bdvmP7Zt27Zt2+Y/tm3btm3b5j+2bdu2bdvmP7Zt27Zt2+Y/tm3btm3b5j+2bdu2bdvmP7Zt27Zt2+Y/tm3btm3b5j+2bdu2bdvmP7Zt27Zt2+Y/tm3btm3b5j+2bdu2bdvmP7Zt27Zt2+Y/tm3btm3b5j+2bdu2bdvmP7Zt27Zt2+Y/tm3btm3b5j+2bdu2bdvmP7Zt27Zt2+Y/tm3btm3b5j+2bdu2bdvmP7Zt27Zt2+Y/tm3btm3b5j+2bdu2bdvmP7Zt27Zt2+Y/tm3btm3b5j+2bdu2bdvmP7Zt27Zt2+Y/tm3btm3b5j+2bdu2bdvmP7Zt27Zt2+Y/tm3btm3b5j+2bdu2bdvmP7Zt27Zt2+Y/tm3btm3b5j+2bdu2bdvmP7Zt27Zt2+Y/tm3btm3b5j+2bdu2bdvmP7Zt27Zt2+Y/tm3btm3b5j+2bdu2bdvmP7Zt27Zt2+Y/tm3btm3b5j+2bdu2bdvmP7Zt27Zt2+Y/tm3btm3b5j+2bdu2bdvmP7Zt27Zt2+Y/tm3btm3b5j+2bdu2bdvmP7Zt27Zt2+Y/tm3btm3b5j+2bdu2bdvmP7Zt27Zt2+Y/tm3btm3b5j+2bdu2bdvmP7Zt27Zt2+Y/tm3btm3b5j+2bdu2bdvmP7Zt27Zt2+Y/tm3btm3b5j+2bdu2bdvmP7Zt27Zt2+Y/tm3btm3b5j+2bdu2bdvmP7Zt27Zt2+Y/tm3btm3b5j+2bdu2bdvmP7Zt27Zt2+Y/tm3btm3b5j+2bdu2bdvmP7Zt27Zt2+Y/tm3btm3b5j+2bdu2bdvmP7Zt27Zt2+Y/tm3btm3b5j+2bdu2bdvmP7Zt27Zt2+Y/tm3btm3b5j+2bdu2bdvmP7Zt27Zt2+Y/tm3btm3b5j+2bdu2bdvmP7Zt27Zt2+Y/tm3btm3b5j+2bdu2bdvmP7Zt27Zt2+Y/tm3btm3b5j+2bdu2bdvmP7Zt27Zt2+Y/tm3btm3b5j+2bdu2bdvmP7Zt27Zt2+Y/tm3btm3b5j+2bdu2bdvmP7Zt27Zt2+Y/tm3btm3b5j+2bdu2bdvmP7Zt27Zt2+Y/tm3btm3b5j+2bdu2bdvmP7Zt27Zt2+Y/tm3btm3b5j+2bdu2bdvmP7Zt27Zt2+Y/tm3btm3b5j+2bdu2bdvmP7Zt27Zt2+Y/tm3btm3b5j+2bdu2bdvmP7Zt27Zt2+Y/tm3btm3b5j+2bdu2bdvmP7Zt27Zt2+Y/tm3btm3b5j+2bdu2bdvmP7Zt27Zt2+Y/tm3btm3b5j+2bdu2bdvmP7Zt27Zt2+Y/tm3btm3b5j+2bdu2bdvmP7Zt27Zt2+Y/tm3btm3b5j+2bdu2bdvmP7Zt27Zt2+Y/tm3btm3b5j+2bdu2bdvmP7Zt27Zt2+Y/tm3btm3b5j+2bdu2bdvmP7Zt27Zt2+Y/tm3btm3b5j+2bdu2bdvmP7Zt27Zt2+Y/tm3btm3b5j+2bdu2bdvmP7Zt27Zt2+Y/tm3btm3b5j+2bdu2bdvmP7Zt27Zt2+Y/tm3btm3b5j+2bdu2bdvmP7Zt27Zt2+Y/tm3btm3b5j+2bdu2bdvmP7Zt27Zt2+Y/tm3btm3b5j+2bdu2bdvmP7Zt27Zt2+Y/tm3btm3b5j+2bdu2bdvmP7Zt27Zt2+Y/tm3btm3b5j+2bdu2bdvmP7Zt27Zt2+Y/tm3btm3b5j+2bdu2bdvmP7Zt27Zt2+Y/tm3btm3b5j+2bdu2bdvmP7Zt27Zt2+Y/tm3btm3b5j+2bdu2bdvmP7Zt27Zt2+Y/tm3btm3b5j+2bdu2bdvmP7Zt27Zt2+Y/tm3btm3b5j+2bdu2bdvmP7Zt27Zt2+Y/tm3btm3b5j+2bdu2bdvmP7Zt27Zt2+Y/tm3btm3b5j+2bdu2bdvmP7Zt27Zt2+Y/tm3btm3b5j+2bdu2bdvmP7Zt27Zt2+Y/tm3btm3b5j+2bdu2bdvmP7Zt27Zt2+Y/tm3btm3b5j+2bdu2bdvmP7Zt27Zt2+Y/tm3btm3b5j+2bdu2bdvmP7Zt27Zt2+Y/tm3btm3b5j+2bdu2bdvmP7Zt27Zt2+Y/tm3btm3b5j+2bdu2bdvmP7Zt27Zt2+Y/tm3btm3b5j+2bdu2bdvmP7Zt27Zt2+Y/tm3btm3b5j+2bdu2bdvmP7Zt27Zt2+Y/tm3btm3b5j+2bdu2bdvmP7Zt27Zt2+Y/tm3btm3b5j+2bdu2bdvmP7Zt27Zt2+Y/tm3btm3b5j+2bdu2bdvmP7Zt27Zt2+Y/tm3btm3b5j+2bdu2bdvmP7Zt27Zt2+Y/tm3btm3b5j+2bdu2bdvmP7Zt27Zt2+Y/tm3btm3b5j+2bdu2bdvmP7Zt27Zt2+Y/tm3btm3b5j+2bdu2bdvmP7Zt27Zt2+Y/tm3btm3b5j+2bdu2bdvmP7Zt27Zt2+Y/tm3btm3b5j+2bdu2bdvmP7Zt27Zt2+Y/tm3btm3b5j+2bdu2bdvmP7Zt27Zt2+Y/tm3btm3b5j+2bdu2bdvmP7Zt27Zt2+Y/tm3btm3b5j+2bdu2bdvmP7Zt27Zt2+Y/tm3btm3b5j+2bdu2bdvmP7Zt27Zt2+Y/tm3btm3b5j+2bdu2bdvmP7Zt27Zt2+Y/tm3btm3b5j+2bdu2bdvmP7Zt27Zt2+Y/tm3btm3b5j+2bdu2bdvmP7Zt27Zt2+Y/tm3btm3b5j+2bdu2bdvmP7Zt27Zt2+Y/tm3btm3b5j+2bdu2bdvmP7Zt27Zt2+Y/tm3btm3b5j+2bdu2bdvmP7Zt27Zt2+Y/tm3btm3b5j+2bdu2bdvmP7Zt27Zt2+Y/tm3btm3b5j+2bdu2bdvmP7Zt27Zt2+Y/tm3btm3b5j+2bdu2bdvmP7Zt27Zt2+Y/tm3btm3b5j+2bdu2bdvmP7Zt27Zt2+Y/tm3btm3b5j+2bdu2bdvmP7Zt27Zt2+Y/tm3btm3b5j+2bdu2bdvmP7Zt27Zt2+Y/tm3btm3b5j+2bdu2bdvmP7Zt27Zt2+Y/tm3btm3b5j+2bdu2bdvmP7Zt27Zt2+Y/tm3btm3b5j+2bdu2bdvmP7Zt27Zt2+Y/tm3btm3b5j+2bdu2bdvmP7Zt27Zt2+Y/tm3btm3b5j+2bdu2bdvmP7Zt27Zt2+Y/tm3btm3b5j+2bdu2bdvmP7Zt27Zt2+Y/tm3btm3b5j+2bdu2bdvmP7Zt27Zt2+Y/tm3btm3b5j+2bdu2bdvmP7Zt27Zt2+Y/tm3btm3b5j+2bdu2bdvmP7Zt27Zt2+Y/tm3btm3b5j+2bdu2bdvmP7Zt27Zt2+Y/tm3btm3b5j8=",
          "dtype": "f8",
          "shape": "20, 20"
         }
        },
        {
         "cmax": 46.71140670776367,
         "cmin": 0.43323537707328796,
         "colorscale": [
          [
           0,
           "#440154"
          ],
          [
           0.1111111111111111,
           "#482878"
          ],
          [
           0.2222222222222222,
           "#3e4989"
          ],
          [
           0.3333333333333333,
           "#31688e"
          ],
          [
           0.4444444444444444,
           "#26828e"
          ],
          [
           0.5555555555555556,
           "#1f9e89"
          ],
          [
           0.6666666666666666,
           "#35b779"
          ],
          [
           0.7777777777777778,
           "#6ece58"
          ],
          [
           0.8888888888888888,
           "#b5de2b"
          ],
          [
           1,
           "#fde725"
          ]
         ],
         "opacity": 0.7,
         "scene": "scene4",
         "showscale": false,
         "surfacecolor": {
          "bdata": "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",
          "dtype": "f4",
          "shape": "20, 20"
         },
         "type": "surface",
         "x": {
          "bdata": "AAAAAAAAAAAor6G8hvKqPyivobyG8ro/XkN5DeU1xD8or6G8hvLKP3kN5TWU19A/XkN5DeU11D9DeQ3lNZTXPyivobyG8to/DeU1lNdQ3j95DeU1lNfgP2wor6G8huI/XkN5DeU15D9QXkN5DeXlP0N5DeU1lOc/NpTXUF5D6T8or6G8hvLqPxrKayivoew/DeU1lNdQ7j8AAAAAAADwPwAAAAAAAAAAKK+hvIbyqj8or6G8hvK6P15DeQ3lNcQ/KK+hvIbyyj95DeU1lNfQP15DeQ3lNdQ/Q3kN5TWU1z8or6G8hvLaPw3lNZTXUN4/eQ3lNZTX4D9sKK+hvIbiP15DeQ3lNeQ/UF5DeQ3l5T9DeQ3lNZTnPzaU11BeQ+k/KK+hvIby6j8aymsor6HsPw3lNZTXUO4/AAAAAAAA8D8AAAAAAAAAACivobyG8qo/KK+hvIbyuj9eQ3kN5TXEPyivobyG8so/eQ3lNZTX0D9eQ3kN5TXUP0N5DeU1lNc/KK+hvIby2j8N5TWU11DeP3kN5TWU1+A/bCivobyG4j9eQ3kN5TXkP1BeQ3kN5eU/Q3kN5TWU5z82lNdQXkPpPyivobyG8uo/GsprKK+h7D8N5TWU11DuPwAAAAAAAPA/AAAAAAAAAAAor6G8hvKqPyivobyG8ro/XkN5DeU1xD8or6G8hvLKP3kN5TWU19A/XkN5DeU11D9DeQ3lNZTXPyivobyG8to/DeU1lNdQ3j95DeU1lNfgP2wor6G8huI/XkN5DeU15D9QXkN5DeXlP0N5DeU1lOc/NpTXUF5D6T8or6G8hvLqPxrKayivoew/DeU1lNdQ7j8AAAAAAADwPwAAAAAAAAAAKK+hvIbyqj8or6G8hvK6P15DeQ3lNcQ/KK+hvIbyyj95DeU1lNfQP15DeQ3lNdQ/Q3kN5TWU1z8or6G8hvLaPw3lNZTXUN4/eQ3lNZTX4D9sKK+hvIbiP15DeQ3lNeQ/UF5DeQ3l5T9DeQ3lNZTnPzaU11BeQ+k/KK+hvIby6j8aymsor6HsPw3lNZTXUO4/AAAAAAAA8D8AAAAAAAAAACivobyG8qo/KK+hvIbyuj9eQ3kN5TXEPyivobyG8so/eQ3lNZTX0D9eQ3kN5TXUP0N5DeU1lNc/KK+hvIby2j8N5TWU11DeP3kN5TWU1+A/bCivobyG4j9eQ3kN5TXkP1BeQ3kN5eU/Q3kN5TWU5z82lNdQXkPpPyivobyG8uo/GsprKK+h7D8N5TWU11DuPwAAAAAAAPA/AAAAAAAAAAAor6G8hvKqPyivobyG8ro/XkN5DeU1xD8or6G8hvLKP3kN5TWU19A/XkN5DeU11D9DeQ3lNZTXPyivobyG8to/DeU1lNdQ3j95DeU1lNfgP2wor6G8huI/XkN5DeU15D9QXkN5DeXlP0N5DeU1lOc/NpTXUF5D6T8or6G8hvLqPxrKayivoew/DeU1lNdQ7j8AAAAAAADwPwAAAAAAAAAAKK+hvIbyqj8or6G8hvK6P15DeQ3lNcQ/KK+hvIbyyj95DeU1lNfQP15DeQ3lNdQ/Q3kN5TWU1z8or6G8hvLaPw3lNZTXUN4/eQ3lNZTX4D9sKK+hvIbiP15DeQ3lNeQ/UF5DeQ3l5T9DeQ3lNZTnPzaU11BeQ+k/KK+hvIby6j8aymsor6HsPw3lNZTXUO4/AAAAAAAA8D8AAAAAAAAAACivobyG8qo/KK+hvIbyuj9eQ3kN5TXEPyivobyG8so/eQ3lNZTX0D9eQ3kN5TXUP0N5DeU1lNc/KK+hvIby2j8N5TWU11DeP3kN5TWU1+A/bCivobyG4j9eQ3kN5TXkP1BeQ3kN5eU/Q3kN5TWU5z82lNdQXkPpPyivobyG8uo/GsprKK+h7D8N5TWU11DuPwAAAAAAAPA/AAAAAAAAAAAor6G8hvKqPyivobyG8ro/XkN5DeU1xD8or6G8hvLKP3kN5TWU19A/XkN5DeU11D9DeQ3lNZTXPyivobyG8to/DeU1lNdQ3j95DeU1lNfgP2wor6G8huI/XkN5DeU15D9QXkN5DeXlP0N5DeU1lOc/NpTXUF5D6T8or6G8hvLqPxrKayivoew/DeU1lNdQ7j8AAAAAAADwPwAAAAAAAAAAKK+hvIbyqj8or6G8hvK6P15DeQ3lNcQ/KK+hvIbyyj95DeU1lNfQP15DeQ3lNdQ/Q3kN5TWU1z8or6G8hvLaPw3lNZTXUN4/eQ3lNZTX4D9sKK+hvIbiP15DeQ3lNeQ/UF5DeQ3l5T9DeQ3lNZTnPzaU11BeQ+k/KK+hvIby6j8aymsor6HsPw3lNZTXUO4/AAAAAAAA8D8AAAAAAAAAACivobyG8qo/KK+hvIbyuj9eQ3kN5TXEPyivobyG8so/eQ3lNZTX0D9eQ3kN5TXUP0N5DeU1lNc/KK+hvIby2j8N5TWU11DeP3kN5TWU1+A/bCivobyG4j9eQ3kN5TXkP1BeQ3kN5eU/Q3kN5TWU5z82lNdQXkPpPyivobyG8uo/GsprKK+h7D8N5TWU11DuPwAAAAAAAPA/AAAAAAAAAAAor6G8hvKqPyivobyG8ro/XkN5DeU1xD8or6G8hvLKP3kN5TWU19A/XkN5DeU11D9DeQ3lNZTXPyivobyG8to/DeU1lNdQ3j95DeU1lNfgP2wor6G8huI/XkN5DeU15D9QXkN5DeXlP0N5DeU1lOc/NpTXUF5D6T8or6G8hvLqPxrKayivoew/DeU1lNdQ7j8AAAAAAADwPwAAAAAAAAAAKK+hvIbyqj8or6G8hvK6P15DeQ3lNcQ/KK+hvIbyyj95DeU1lNfQP15DeQ3lNdQ/Q3kN5TWU1z8or6G8hvLaPw3lNZTXUN4/eQ3lNZTX4D9sKK+hvIbiP15DeQ3lNeQ/UF5DeQ3l5T9DeQ3lNZTnPzaU11BeQ+k/KK+hvIby6j8aymsor6HsPw3lNZTXUO4/AAAAAAAA8D8AAAAAAAAAACivobyG8qo/KK+hvIbyuj9eQ3kN5TXEPyivobyG8so/eQ3lNZTX0D9eQ3kN5TXUP0N5DeU1lNc/KK+hvIby2j8N5TWU11DeP3kN5TWU1+A/bCivobyG4j9eQ3kN5TXkP1BeQ3kN5eU/Q3kN5TWU5z82lNdQXkPpPyivobyG8uo/GsprKK+h7D8N5TWU11DuPwAAAAAAAPA/AAAAAAAAAAAor6G8hvKqPyivobyG8ro/XkN5DeU1xD8or6G8hvLKP3kN5TWU19A/XkN5DeU11D9DeQ3lNZTXPyivobyG8to/DeU1lNdQ3j95DeU1lNfgP2wor6G8huI/XkN5DeU15D9QXkN5DeXlP0N5DeU1lOc/NpTXUF5D6T8or6G8hvLqPxrKayivoew/DeU1lNdQ7j8AAAAAAADwPwAAAAAAAAAAKK+hvIbyqj8or6G8hvK6P15DeQ3lNcQ/KK+hvIbyyj95DeU1lNfQP15DeQ3lNdQ/Q3kN5TWU1z8or6G8hvLaPw3lNZTXUN4/eQ3lNZTX4D9sKK+hvIbiP15DeQ3lNeQ/UF5DeQ3l5T9DeQ3lNZTnPzaU11BeQ+k/KK+hvIby6j8aymsor6HsPw3lNZTXUO4/AAAAAAAA8D8AAAAAAAAAACivobyG8qo/KK+hvIbyuj9eQ3kN5TXEPyivobyG8so/eQ3lNZTX0D9eQ3kN5TXUP0N5DeU1lNc/KK+hvIby2j8N5TWU11DeP3kN5TWU1+A/bCivobyG4j9eQ3kN5TXkP1BeQ3kN5eU/Q3kN5TWU5z82lNdQXkPpPyivobyG8uo/GsprKK+h7D8N5TWU11DuPwAAAAAAAPA/AAAAAAAAAAAor6G8hvKqPyivobyG8ro/XkN5DeU1xD8or6G8hvLKP3kN5TWU19A/XkN5DeU11D9DeQ3lNZTXPyivobyG8to/DeU1lNdQ3j95DeU1lNfgP2wor6G8huI/XkN5DeU15D9QXkN5DeXlP0N5DeU1lOc/NpTXUF5D6T8or6G8hvLqPxrKayivoew/DeU1lNdQ7j8AAAAAAADwPwAAAAAAAAAAKK+hvIbyqj8or6G8hvK6P15DeQ3lNcQ/KK+hvIbyyj95DeU1lNfQP15DeQ3lNdQ/Q3kN5TWU1z8or6G8hvLaPw3lNZTXUN4/eQ3lNZTX4D9sKK+hvIbiP15DeQ3lNeQ/UF5DeQ3l5T9DeQ3lNZTnPzaU11BeQ+k/KK+hvIby6j8aymsor6HsPw3lNZTXUO4/AAAAAAAA8D8=",
          "dtype": "f8",
          "shape": "20, 20"
         },
         "y": {
          "bdata": "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",
          "dtype": "f8",
          "shape": "20, 20"
         },
         "z": {
          "bdata": "tm3btm3b5j+2bdu2bdvmP7Zt27Zt2+Y/tm3btm3b5j+2bdu2bdvmP7Zt27Zt2+Y/tm3btm3b5j+2bdu2bdvmP7Zt27Zt2+Y/tm3btm3b5j+2bdu2bdvmP7Zt27Zt2+Y/tm3btm3b5j+2bdu2bdvmP7Zt27Zt2+Y/tm3btm3b5j+2bdu2bdvmP7Zt27Zt2+Y/tm3btm3b5j+2bdu2bdvmP7Zt27Zt2+Y/tm3btm3b5j+2bdu2bdvmP7Zt27Zt2+Y/tm3btm3b5j+2bdu2bdvmP7Zt27Zt2+Y/tm3btm3b5j+2bdu2bdvmP7Zt27Zt2+Y/tm3btm3b5j+2bdu2bdvmP7Zt27Zt2+Y/tm3btm3b5j+2bdu2bdvmP7Zt27Zt2+Y/tm3btm3b5j+2bdu2bdvmP7Zt27Zt2+Y/tm3btm3b5j+2bdu2bdvmP7Zt27Zt2+Y/tm3btm3b5j+2bdu2bdvmP7Zt27Zt2+Y/tm3btm3b5j+2bdu2bdvmP7Zt27Zt2+Y/tm3btm3b5j+2bdu2bdvmP7Zt27Zt2+Y/tm3btm3b5j+2bdu2bdvmP7Zt27Zt2+Y/tm3btm3b5j+2bdu2bdvmP7Zt27Zt2+Y/tm3btm3b5j+2bdu2bdvmP7Zt27Zt2+Y/tm3btm3b5j+2bdu2bdvmP7Zt27Zt2+Y/tm3btm3b5j+2bdu2bdvmP7Zt27Zt2+Y/tm3btm3b5j+2bdu2bdvmP7Zt27Zt2+Y/tm3btm3b5j+2bdu2bdvmP7Zt27Zt2+Y/tm3btm3b5j+2bdu2bdvmP7Zt27Zt2+Y/tm3btm3b5j+2bdu2bdvmP7Zt27Zt2+Y/tm3btm3b5j+2bdu2bdvmP7Zt27Zt2+Y/tm3btm3b5j+2bdu2bdvmP7Zt27Zt2+Y/tm3btm3b5j+2bdu2bdvmP7Zt27Zt2+Y/tm3btm3b5j+2bdu2bdvmP7Zt27Zt2+Y/tm3btm3b5j+2bdu2bdvmP7Zt27Zt2+Y/tm3btm3b5j+2bdu2bdvmP7Zt27Zt2+Y/tm3btm3b5j+2bdu2bdvmP7Zt27Zt2+Y/tm3btm3b5j+2bdu2bdvmP7Zt27Zt2+Y/tm3btm3b5j+2bdu2bdvmP7Zt27Zt2+Y/tm3btm3b5j+2bdu2bdvmP7Zt27Zt2+Y/tm3btm3b5j+2bdu2bdvmP7Zt27Zt2+Y/tm3btm3b5j+2bdu2bdvmP7Zt27Zt2+Y/tm3btm3b5j+2bdu2bdvmP7Zt27Zt2+Y/tm3btm3b5j+2bdu2bdvmP7Zt27Zt2+Y/tm3btm3b5j+2bdu2bdvmP7Zt27Zt2+Y/tm3btm3b5j+2bdu2bdvmP7Zt27Zt2+Y/tm3btm3b5j+2bdu2bdvmP7Zt27Zt2+Y/tm3btm3b5j+2bdu2bdvmP7Zt27Zt2+Y/tm3btm3b5j+2bdu2bdvmP7Zt27Zt2+Y/tm3btm3b5j+2bdu2bdvmP7Zt27Zt2+Y/tm3btm3b5j+2bdu2bdvmP7Zt27Zt2+Y/tm3btm3b5j+2bdu2bdvmP7Zt27Zt2+Y/tm3btm3b5j+2bdu2bdvmP7Zt27Zt2+Y/tm3btm3b5j+2bdu2bdvmP7Zt27Zt2+Y/tm3btm3b5j+2bdu2bdvmP7Zt27Zt2+Y/tm3btm3b5j+2bdu2bdvmP7Zt27Zt2+Y/tm3btm3b5j+2bdu2bdvmP7Zt27Zt2+Y/tm3btm3b5j+2bdu2bdvmP7Zt27Zt2+Y/tm3btm3b5j+2bdu2bdvmP7Zt27Zt2+Y/tm3btm3b5j+2bdu2bdvmP7Zt27Zt2+Y/tm3btm3b5j+2bdu2bdvmP7Zt27Zt2+Y/tm3btm3b5j+2bdu2bdvmP7Zt27Zt2+Y/tm3btm3b5j+2bdu2bdvmP7Zt27Zt2+Y/tm3btm3b5j+2bdu2bdvmP7Zt27Zt2+Y/tm3btm3b5j+2bdu2bdvmP7Zt27Zt2+Y/tm3btm3b5j+2bdu2bdvmP7Zt27Zt2+Y/tm3btm3b5j+2bdu2bdvmP7Zt27Zt2+Y/tm3btm3b5j+2bdu2bdvmP7Zt27Zt2+Y/tm3btm3b5j+2bdu2bdvmP7Zt27Zt2+Y/tm3btm3b5j+2bdu2bdvmP7Zt27Zt2+Y/tm3btm3b5j+2bdu2bdvmP7Zt27Zt2+Y/tm3btm3b5j+2bdu2bdvmP7Zt27Zt2+Y/tm3btm3b5j+2bdu2bdvmP7Zt27Zt2+Y/tm3btm3b5j+2bdu2bdvmP7Zt27Zt2+Y/tm3btm3b5j+2bdu2bdvmP7Zt27Zt2+Y/tm3btm3b5j+2bdu2bdvmP7Zt27Zt2+Y/tm3btm3b5j+2bdu2bdvmP7Zt27Zt2+Y/tm3btm3b5j+2bdu2bdvmP7Zt27Zt2+Y/tm3btm3b5j+2bdu2bdvmP7Zt27Zt2+Y/tm3btm3b5j+2bdu2bdvmP7Zt27Zt2+Y/tm3btm3b5j+2bdu2bdvmP7Zt27Zt2+Y/tm3btm3b5j+2bdu2bdvmP7Zt27Zt2+Y/tm3btm3b5j+2bdu2bdvmP7Zt27Zt2+Y/tm3btm3b5j+2bdu2bdvmP7Zt27Zt2+Y/tm3btm3b5j+2bdu2bdvmP7Zt27Zt2+Y/tm3btm3b5j+2bdu2bdvmP7Zt27Zt2+Y/tm3btm3b5j+2bdu2bdvmP7Zt27Zt2+Y/tm3btm3b5j+2bdu2bdvmP7Zt27Zt2+Y/tm3btm3b5j+2bdu2bdvmP7Zt27Zt2+Y/tm3btm3b5j+2bdu2bdvmP7Zt27Zt2+Y/tm3btm3b5j+2bdu2bdvmP7Zt27Zt2+Y/tm3btm3b5j+2bdu2bdvmP7Zt27Zt2+Y/tm3btm3b5j+2bdu2bdvmP7Zt27Zt2+Y/tm3btm3b5j+2bdu2bdvmP7Zt27Zt2+Y/tm3btm3b5j+2bdu2bdvmP7Zt27Zt2+Y/tm3btm3b5j+2bdu2bdvmP7Zt27Zt2+Y/tm3btm3b5j+2bdu2bdvmP7Zt27Zt2+Y/tm3btm3b5j+2bdu2bdvmP7Zt27Zt2+Y/tm3btm3b5j+2bdu2bdvmP7Zt27Zt2+Y/tm3btm3b5j+2bdu2bdvmP7Zt27Zt2+Y/tm3btm3b5j+2bdu2bdvmP7Zt27Zt2+Y/tm3btm3b5j+2bdu2bdvmP7Zt27Zt2+Y/tm3btm3b5j+2bdu2bdvmP7Zt27Zt2+Y/tm3btm3b5j+2bdu2bdvmP7Zt27Zt2+Y/tm3btm3b5j+2bdu2bdvmP7Zt27Zt2+Y/tm3btm3b5j+2bdu2bdvmP7Zt27Zt2+Y/tm3btm3b5j+2bdu2bdvmP7Zt27Zt2+Y/tm3btm3b5j+2bdu2bdvmP7Zt27Zt2+Y/tm3btm3b5j+2bdu2bdvmP7Zt27Zt2+Y/tm3btm3b5j+2bdu2bdvmP7Zt27Zt2+Y/tm3btm3b5j+2bdu2bdvmP7Zt27Zt2+Y/tm3btm3b5j+2bdu2bdvmP7Zt27Zt2+Y/tm3btm3b5j+2bdu2bdvmP7Zt27Zt2+Y/tm3btm3b5j+2bdu2bdvmP7Zt27Zt2+Y/tm3btm3b5j+2bdu2bdvmP7Zt27Zt2+Y/tm3btm3b5j+2bdu2bdvmP7Zt27Zt2+Y/tm3btm3b5j+2bdu2bdvmP7Zt27Zt2+Y/tm3btm3b5j+2bdu2bdvmP7Zt27Zt2+Y/tm3btm3b5j+2bdu2bdvmP7Zt27Zt2+Y/tm3btm3b5j+2bdu2bdvmP7Zt27Zt2+Y/tm3btm3b5j+2bdu2bdvmP7Zt27Zt2+Y/tm3btm3b5j+2bdu2bdvmP7Zt27Zt2+Y/tm3btm3b5j+2bdu2bdvmP7Zt27Zt2+Y/tm3btm3b5j+2bdu2bdvmP7Zt27Zt2+Y/tm3btm3b5j+2bdu2bdvmP7Zt27Zt2+Y/tm3btm3b5j+2bdu2bdvmP7Zt27Zt2+Y/tm3btm3b5j+2bdu2bdvmP7Zt27Zt2+Y/tm3btm3b5j+2bdu2bdvmP7Zt27Zt2+Y/tm3btm3b5j+2bdu2bdvmP7Zt27Zt2+Y/tm3btm3b5j+2bdu2bdvmP7Zt27Zt2+Y/tm3btm3b5j+2bdu2bdvmP7Zt27Zt2+Y/tm3btm3b5j+2bdu2bdvmP7Zt27Zt2+Y/tm3btm3b5j+2bdu2bdvmP7Zt27Zt2+Y/tm3btm3b5j+2bdu2bdvmP7Zt27Zt2+Y/tm3btm3b5j+2bdu2bdvmP7Zt27Zt2+Y/tm3btm3b5j+2bdu2bdvmP7Zt27Zt2+Y/tm3btm3b5j+2bdu2bdvmP7Zt27Zt2+Y/tm3btm3b5j8=",
          "dtype": "f8",
          "shape": "20, 20"
         }
        },
        {
         "cmax": 46.71140670776367,
         "cmin": 0.43323537707328796,
         "colorscale": [
          [
           0,
           "#440154"
          ],
          [
           0.1111111111111111,
           "#482878"
          ],
          [
           0.2222222222222222,
           "#3e4989"
          ],
          [
           0.3333333333333333,
           "#31688e"
          ],
          [
           0.4444444444444444,
           "#26828e"
          ],
          [
           0.5555555555555556,
           "#1f9e89"
          ],
          [
           0.6666666666666666,
           "#35b779"
          ],
          [
           0.7777777777777778,
           "#6ece58"
          ],
          [
           0.8888888888888888,
           "#b5de2b"
          ],
          [
           1,
           "#fde725"
          ]
         ],
         "opacity": 0.7,
         "scene": "scene5",
         "showscale": false,
         "surfacecolor": {
          "bdata": "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",
          "dtype": "f4",
          "shape": "20, 20"
         },
         "type": "surface",
         "x": {
          "bdata": "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",
          "dtype": "f8",
          "shape": "20, 20"
         },
         "y": {
          "bdata": "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",
          "dtype": "f8",
          "shape": "20, 20"
         },
         "z": {
          "bdata": "tm3btm3b5j+2bdu2bdvmP7Zt27Zt2+Y/tm3btm3b5j+2bdu2bdvmP7Zt27Zt2+Y/tm3btm3b5j+2bdu2bdvmP7Zt27Zt2+Y/tm3btm3b5j+2bdu2bdvmP7Zt27Zt2+Y/tm3btm3b5j+2bdu2bdvmP7Zt27Zt2+Y/tm3btm3b5j+2bdu2bdvmP7Zt27Zt2+Y/tm3btm3b5j+2bdu2bdvmP7Zt27Zt2+Y/tm3btm3b5j+2bdu2bdvmP7Zt27Zt2+Y/tm3btm3b5j+2bdu2bdvmP7Zt27Zt2+Y/tm3btm3b5j+2bdu2bdvmP7Zt27Zt2+Y/tm3btm3b5j+2bdu2bdvmP7Zt27Zt2+Y/tm3btm3b5j+2bdu2bdvmP7Zt27Zt2+Y/tm3btm3b5j+2bdu2bdvmP7Zt27Zt2+Y/tm3btm3b5j+2bdu2bdvmP7Zt27Zt2+Y/tm3btm3b5j+2bdu2bdvmP7Zt27Zt2+Y/tm3btm3b5j+2bdu2bdvmP7Zt27Zt2+Y/tm3btm3b5j+2bdu2bdvmP7Zt27Zt2+Y/tm3btm3b5j+2bdu2bdvmP7Zt27Zt2+Y/tm3btm3b5j+2bdu2bdvmP7Zt27Zt2+Y/tm3btm3b5j+2bdu2bdvmP7Zt27Zt2+Y/tm3btm3b5j+2bdu2bdvmP7Zt27Zt2+Y/tm3btm3b5j+2bdu2bdvmP7Zt27Zt2+Y/tm3btm3b5j+2bdu2bdvmP7Zt27Zt2+Y/tm3btm3b5j+2bdu2bdvmP7Zt27Zt2+Y/tm3btm3b5j+2bdu2bdvmP7Zt27Zt2+Y/tm3btm3b5j+2bdu2bdvmP7Zt27Zt2+Y/tm3btm3b5j+2bdu2bdvmP7Zt27Zt2+Y/tm3btm3b5j+2bdu2bdvmP7Zt27Zt2+Y/tm3btm3b5j+2bdu2bdvmP7Zt27Zt2+Y/tm3btm3b5j+2bdu2bdvmP7Zt27Zt2+Y/tm3btm3b5j+2bdu2bdvmP7Zt27Zt2+Y/tm3btm3b5j+2bdu2bdvmP7Zt27Zt2+Y/tm3btm3b5j+2bdu2bdvmP7Zt27Zt2+Y/tm3btm3b5j+2bdu2bdvmP7Zt27Zt2+Y/tm3btm3b5j+2bdu2bdvmP7Zt27Zt2+Y/tm3btm3b5j+2bdu2bdvmP7Zt27Zt2+Y/tm3btm3b5j+2bdu2bdvmP7Zt27Zt2+Y/tm3btm3b5j+2bdu2bdvmP7Zt27Zt2+Y/tm3btm3b5j+2bdu2bdvmP7Zt27Zt2+Y/tm3btm3b5j+2bdu2bdvmP7Zt27Zt2+Y/tm3btm3b5j+2bdu2bdvmP7Zt27Zt2+Y/tm3btm3b5j+2bdu2bdvmP7Zt27Zt2+Y/tm3btm3b5j+2bdu2bdvmP7Zt27Zt2+Y/tm3btm3b5j+2bdu2bdvmP7Zt27Zt2+Y/tm3btm3b5j+2bdu2bdvmP7Zt27Zt2+Y/tm3btm3b5j+2bdu2bdvmP7Zt27Zt2+Y/tm3btm3b5j+2bdu2bdvmP7Zt27Zt2+Y/tm3btm3b5j+2bdu2bdvmP7Zt27Zt2+Y/tm3btm3b5j+2bdu2bdvmP7Zt27Zt2+Y/tm3btm3b5j+2bdu2bdvmP7Zt27Zt2+Y/tm3btm3b5j+2bdu2bdvmP7Zt27Zt2+Y/tm3btm3b5j+2bdu2bdvmP7Zt27Zt2+Y/tm3btm3b5j+2bdu2bdvmP7Zt27Zt2+Y/tm3btm3b5j+2bdu2bdvmP7Zt27Zt2+Y/tm3btm3b5j+2bdu2bdvmP7Zt27Zt2+Y/tm3btm3b5j+2bdu2bdvmP7Zt27Zt2+Y/tm3btm3b5j+2bdu2bdvmP7Zt27Zt2+Y/tm3btm3b5j+2bdu2bdvmP7Zt27Zt2+Y/tm3btm3b5j+2bdu2bdvmP7Zt27Zt2+Y/tm3btm3b5j+2bdu2bdvmP7Zt27Zt2+Y/tm3btm3b5j+2bdu2bdvmP7Zt27Zt2+Y/tm3btm3b5j+2bdu2bdvmP7Zt27Zt2+Y/tm3btm3b5j+2bdu2bdvmP7Zt27Zt2+Y/tm3btm3b5j+2bdu2bdvmP7Zt27Zt2+Y/tm3btm3b5j+2bdu2bdvmP7Zt27Zt2+Y/tm3btm3b5j+2bdu2bdvmP7Zt27Zt2+Y/tm3btm3b5j+2bdu2bdvmP7Zt27Zt2+Y/tm3btm3b5j+2bdu2bdvmP7Zt27Zt2+Y/tm3btm3b5j+2bdu2bdvmP7Zt27Zt2+Y/tm3btm3b5j+2bdu2bdvmP7Zt27Zt2+Y/tm3btm3b5j+2bdu2bdvmP7Zt27Zt2+Y/tm3btm3b5j+2bdu2bdvmP7Zt27Zt2+Y/tm3btm3b5j+2bdu2bdvmP7Zt27Zt2+Y/tm3btm3b5j+2bdu2bdvmP7Zt27Zt2+Y/tm3btm3b5j+2bdu2bdvmP7Zt27Zt2+Y/tm3btm3b5j+2bdu2bdvmP7Zt27Zt2+Y/tm3btm3b5j+2bdu2bdvmP7Zt27Zt2+Y/tm3btm3b5j+2bdu2bdvmP7Zt27Zt2+Y/tm3btm3b5j+2bdu2bdvmP7Zt27Zt2+Y/tm3btm3b5j+2bdu2bdvmP7Zt27Zt2+Y/tm3btm3b5j+2bdu2bdvmP7Zt27Zt2+Y/tm3btm3b5j+2bdu2bdvmP7Zt27Zt2+Y/tm3btm3b5j+2bdu2bdvmP7Zt27Zt2+Y/tm3btm3b5j+2bdu2bdvmP7Zt27Zt2+Y/tm3btm3b5j+2bdu2bdvmP7Zt27Zt2+Y/tm3btm3b5j+2bdu2bdvmP7Zt27Zt2+Y/tm3btm3b5j+2bdu2bdvmP7Zt27Zt2+Y/tm3btm3b5j+2bdu2bdvmP7Zt27Zt2+Y/tm3btm3b5j+2bdu2bdvmP7Zt27Zt2+Y/tm3btm3b5j+2bdu2bdvmP7Zt27Zt2+Y/tm3btm3b5j+2bdu2bdvmP7Zt27Zt2+Y/tm3btm3b5j+2bdu2bdvmP7Zt27Zt2+Y/tm3btm3b5j+2bdu2bdvmP7Zt27Zt2+Y/tm3btm3b5j+2bdu2bdvmP7Zt27Zt2+Y/tm3btm3b5j+2bdu2bdvmP7Zt27Zt2+Y/tm3btm3b5j+2bdu2bdvmP7Zt27Zt2+Y/tm3btm3b5j+2bdu2bdvmP7Zt27Zt2+Y/tm3btm3b5j+2bdu2bdvmP7Zt27Zt2+Y/tm3btm3b5j+2bdu2bdvmP7Zt27Zt2+Y/tm3btm3b5j+2bdu2bdvmP7Zt27Zt2+Y/tm3btm3b5j+2bdu2bdvmP7Zt27Zt2+Y/tm3btm3b5j+2bdu2bdvmP7Zt27Zt2+Y/tm3btm3b5j+2bdu2bdvmP7Zt27Zt2+Y/tm3btm3b5j+2bdu2bdvmP7Zt27Zt2+Y/tm3btm3b5j+2bdu2bdvmP7Zt27Zt2+Y/tm3btm3b5j+2bdu2bdvmP7Zt27Zt2+Y/tm3btm3b5j+2bdu2bdvmP7Zt27Zt2+Y/tm3btm3b5j+2bdu2bdvmP7Zt27Zt2+Y/tm3btm3b5j+2bdu2bdvmP7Zt27Zt2+Y/tm3btm3b5j+2bdu2bdvmP7Zt27Zt2+Y/tm3btm3b5j+2bdu2bdvmP7Zt27Zt2+Y/tm3btm3b5j+2bdu2bdvmP7Zt27Zt2+Y/tm3btm3b5j+2bdu2bdvmP7Zt27Zt2+Y/tm3btm3b5j+2bdu2bdvmP7Zt27Zt2+Y/tm3btm3b5j+2bdu2bdvmP7Zt27Zt2+Y/tm3btm3b5j+2bdu2bdvmP7Zt27Zt2+Y/tm3btm3b5j+2bdu2bdvmP7Zt27Zt2+Y/tm3btm3b5j+2bdu2bdvmP7Zt27Zt2+Y/tm3btm3b5j+2bdu2bdvmP7Zt27Zt2+Y/tm3btm3b5j+2bdu2bdvmP7Zt27Zt2+Y/tm3btm3b5j+2bdu2bdvmP7Zt27Zt2+Y/tm3btm3b5j+2bdu2bdvmP7Zt27Zt2+Y/tm3btm3b5j+2bdu2bdvmP7Zt27Zt2+Y/tm3btm3b5j+2bdu2bdvmP7Zt27Zt2+Y/tm3btm3b5j+2bdu2bdvmP7Zt27Zt2+Y/tm3btm3b5j+2bdu2bdvmP7Zt27Zt2+Y/tm3btm3b5j+2bdu2bdvmP7Zt27Zt2+Y/tm3btm3b5j+2bdu2bdvmP7Zt27Zt2+Y/tm3btm3b5j+2bdu2bdvmP7Zt27Zt2+Y/tm3btm3b5j+2bdu2bdvmP7Zt27Zt2+Y/tm3btm3b5j+2bdu2bdvmP7Zt27Zt2+Y/tm3btm3b5j+2bdu2bdvmP7Zt27Zt2+Y/tm3btm3b5j+2bdu2bdvmP7Zt27Zt2+Y/tm3btm3b5j8=",
          "dtype": "f8",
          "shape": "20, 20"
         }
        },
        {
         "cmax": 46.71140670776367,
         "cmin": 0.43323537707328796,
         "colorscale": [
          [
           0,
           "#440154"
          ],
          [
           0.1111111111111111,
           "#482878"
          ],
          [
           0.2222222222222222,
           "#3e4989"
          ],
          [
           0.3333333333333333,
           "#31688e"
          ],
          [
           0.4444444444444444,
           "#26828e"
          ],
          [
           0.5555555555555556,
           "#1f9e89"
          ],
          [
           0.6666666666666666,
           "#35b779"
          ],
          [
           0.7777777777777778,
           "#6ece58"
          ],
          [
           0.8888888888888888,
           "#b5de2b"
          ],
          [
           1,
           "#fde725"
          ]
         ],
         "opacity": 0.7,
         "scene": "scene",
         "showscale": false,
         "surfacecolor": {
          "bdata": "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",
          "dtype": "f4",
          "shape": "20, 20"
         },
         "type": "surface",
         "x": {
          "bdata": "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",
          "dtype": "f8",
          "shape": "20, 20"
         },
         "y": {
          "bdata": "AAAAAAAAAAAAAAAAAAAAAAAAAAAAAAAAAAAAAAAAAAAAAAAAAAAAAAAAAAAAAAAAAAAAAAAAAAAAAAAAAAAAAAAAAAAAAAAAAAAAAAAAAAAAAAAAAAAAAAAAAAAAAAAAAAAAAAAAAAAAAAAAAAAAAAAAAAAAAAAAAAAAAAAAAAAAAAAAAAAAAAAAAAAAAAAAAAAAAAAAAAAAAAAAAAAAACivobyG8qo/KK+hvIbyqj8or6G8hvKqPyivobyG8qo/KK+hvIbyqj8or6G8hvKqPyivobyG8qo/KK+hvIbyqj8or6G8hvKqPyivobyG8qo/KK+hvIbyqj8or6G8hvKqPyivobyG8qo/KK+hvIbyqj8or6G8hvKqPyivobyG8qo/KK+hvIbyqj8or6G8hvKqPyivobyG8qo/KK+hvIbyqj8or6G8hvK6PyivobyG8ro/KK+hvIbyuj8or6G8hvK6PyivobyG8ro/KK+hvIbyuj8or6G8hvK6PyivobyG8ro/KK+hvIbyuj8or6G8hvK6PyivobyG8ro/KK+hvIbyuj8or6G8hvK6PyivobyG8ro/KK+hvIbyuj8or6G8hvK6PyivobyG8ro/KK+hvIbyuj8or6G8hvK6PyivobyG8ro/XkN5DeU1xD9eQ3kN5TXEP15DeQ3lNcQ/XkN5DeU1xD9eQ3kN5TXEP15DeQ3lNcQ/XkN5DeU1xD9eQ3kN5TXEP15DeQ3lNcQ/XkN5DeU1xD9eQ3kN5TXEP15DeQ3lNcQ/XkN5DeU1xD9eQ3kN5TXEP15DeQ3lNcQ/XkN5DeU1xD9eQ3kN5TXEP15DeQ3lNcQ/XkN5DeU1xD9eQ3kN5TXEPyivobyG8so/KK+hvIbyyj8or6G8hvLKPyivobyG8so/KK+hvIbyyj8or6G8hvLKPyivobyG8so/KK+hvIbyyj8or6G8hvLKPyivobyG8so/KK+hvIbyyj8or6G8hvLKPyivobyG8so/KK+hvIbyyj8or6G8hvLKPyivobyG8so/KK+hvIbyyj8or6G8hvLKPyivobyG8so/KK+hvIbyyj95DeU1lNfQP3kN5TWU19A/eQ3lNZTX0D95DeU1lNfQP3kN5TWU19A/eQ3lNZTX0D95DeU1lNfQP3kN5TWU19A/eQ3lNZTX0D95DeU1lNfQP3kN5TWU19A/eQ3lNZTX0D95DeU1lNfQP3kN5TWU19A/eQ3lNZTX0D95DeU1lNfQP3kN5TWU19A/eQ3lNZTX0D95DeU1lNfQP3kN5TWU19A/XkN5DeU11D9eQ3kN5TXUP15DeQ3lNdQ/XkN5DeU11D9eQ3kN5TXUP15DeQ3lNdQ/XkN5DeU11D9eQ3kN5TXUP15DeQ3lNdQ/XkN5DeU11D9eQ3kN5TXUP15DeQ3lNdQ/XkN5DeU11D9eQ3kN5TXUP15DeQ3lNdQ/XkN5DeU11D9eQ3kN5TXUP15DeQ3lNdQ/XkN5DeU11D9eQ3kN5TXUP0N5DeU1lNc/Q3kN5TWU1z9DeQ3lNZTXP0N5DeU1lNc/Q3kN5TWU1z9DeQ3lNZTXP0N5DeU1lNc/Q3kN5TWU1z9DeQ3lNZTXP0N5DeU1lNc/Q3kN5TWU1z9DeQ3lNZTXP0N5DeU1lNc/Q3kN5TWU1z9DeQ3lNZTXP0N5DeU1lNc/Q3kN5TWU1z9DeQ3lNZTXP0N5DeU1lNc/Q3kN5TWU1z8or6G8hvLaPyivobyG8to/KK+hvIby2j8or6G8hvLaPyivobyG8to/KK+hvIby2j8or6G8hvLaPyivobyG8to/KK+hvIby2j8or6G8hvLaPyivobyG8to/KK+hvIby2j8or6G8hvLaPyivobyG8to/KK+hvIby2j8or6G8hvLaPyivobyG8to/KK+hvIby2j8or6G8hvLaPyivobyG8to/DeU1lNdQ3j8N5TWU11DePw3lNZTXUN4/DeU1lNdQ3j8N5TWU11DePw3lNZTXUN4/DeU1lNdQ3j8N5TWU11DePw3lNZTXUN4/DeU1lNdQ3j8N5TWU11DePw3lNZTXUN4/DeU1lNdQ3j8N5TWU11DePw3lNZTXUN4/DeU1lNdQ3j8N5TWU11DePw3lNZTXUN4/DeU1lNdQ3j8N5TWU11DeP3kN5TWU1+A/eQ3lNZTX4D95DeU1lNfgP3kN5TWU1+A/eQ3lNZTX4D95DeU1lNfgP3kN5TWU1+A/eQ3lNZTX4D95DeU1lNfgP3kN5TWU1+A/eQ3lNZTX4D95DeU1lNfgP3kN5TWU1+A/eQ3lNZTX4D95DeU1lNfgP3kN5TWU1+A/eQ3lNZTX4D95DeU1lNfgP3kN5TWU1+A/eQ3lNZTX4D9sKK+hvIbiP2wor6G8huI/bCivobyG4j9sKK+hvIbiP2wor6G8huI/bCivobyG4j9sKK+hvIbiP2wor6G8huI/bCivobyG4j9sKK+hvIbiP2wor6G8huI/bCivobyG4j9sKK+hvIbiP2wor6G8huI/bCivobyG4j9sKK+hvIbiP2wor6G8huI/bCivobyG4j9sKK+hvIbiP2wor6G8huI/XkN5DeU15D9eQ3kN5TXkP15DeQ3lNeQ/XkN5DeU15D9eQ3kN5TXkP15DeQ3lNeQ/XkN5DeU15D9eQ3kN5TXkP15DeQ3lNeQ/XkN5DeU15D9eQ3kN5TXkP15DeQ3lNeQ/XkN5DeU15D9eQ3kN5TXkP15DeQ3lNeQ/XkN5DeU15D9eQ3kN5TXkP15DeQ3lNeQ/XkN5DeU15D9eQ3kN5TXkP1BeQ3kN5eU/UF5DeQ3l5T9QXkN5DeXlP1BeQ3kN5eU/UF5DeQ3l5T9QXkN5DeXlP1BeQ3kN5eU/UF5DeQ3l5T9QXkN5DeXlP1BeQ3kN5eU/UF5DeQ3l5T9QXkN5DeXlP1BeQ3kN5eU/UF5DeQ3l5T9QXkN5DeXlP1BeQ3kN5eU/UF5DeQ3l5T9QXkN5DeXlP1BeQ3kN5eU/UF5DeQ3l5T9DeQ3lNZTnP0N5DeU1lOc/Q3kN5TWU5z9DeQ3lNZTnP0N5DeU1lOc/Q3kN5TWU5z9DeQ3lNZTnP0N5DeU1lOc/Q3kN5TWU5z9DeQ3lNZTnP0N5DeU1lOc/Q3kN5TWU5z9DeQ3lNZTnP0N5DeU1lOc/Q3kN5TWU5z9DeQ3lNZTnP0N5DeU1lOc/Q3kN5TWU5z9DeQ3lNZTnP0N5DeU1lOc/NpTXUF5D6T82lNdQXkPpPzaU11BeQ+k/NpTXUF5D6T82lNdQXkPpPzaU11BeQ+k/NpTXUF5D6T82lNdQXkPpPzaU11BeQ+k/NpTXUF5D6T82lNdQXkPpPzaU11BeQ+k/NpTXUF5D6T82lNdQXkPpPzaU11BeQ+k/NpTXUF5D6T82lNdQXkPpPzaU11BeQ+k/NpTXUF5D6T82lNdQXkPpPyivobyG8uo/KK+hvIby6j8or6G8hvLqPyivobyG8uo/KK+hvIby6j8or6G8hvLqPyivobyG8uo/KK+hvIby6j8or6G8hvLqPyivobyG8uo/KK+hvIby6j8or6G8hvLqPyivobyG8uo/KK+hvIby6j8or6G8hvLqPyivobyG8uo/KK+hvIby6j8or6G8hvLqPyivobyG8uo/KK+hvIby6j8aymsor6HsPxrKayivoew/GsprKK+h7D8aymsor6HsPxrKayivoew/GsprKK+h7D8aymsor6HsPxrKayivoew/GsprKK+h7D8aymsor6HsPxrKayivoew/GsprKK+h7D8aymsor6HsPxrKayivoew/GsprKK+h7D8aymsor6HsPxrKayivoew/GsprKK+h7D8aymsor6HsPxrKayivoew/DeU1lNdQ7j8N5TWU11DuPw3lNZTXUO4/DeU1lNdQ7j8N5TWU11DuPw3lNZTXUO4/DeU1lNdQ7j8N5TWU11DuPw3lNZTXUO4/DeU1lNdQ7j8N5TWU11DuPw3lNZTXUO4/DeU1lNdQ7j8N5TWU11DuPw3lNZTXUO4/DeU1lNdQ7j8N5TWU11DuPw3lNZTXUO4/DeU1lNdQ7j8N5TWU11DuPwAAAAAAAPA/AAAAAAAA8D8AAAAAAADwPwAAAAAAAPA/AAAAAAAA8D8AAAAAAADwPwAAAAAAAPA/AAAAAAAA8D8AAAAAAADwPwAAAAAAAPA/AAAAAAAA8D8AAAAAAADwPwAAAAAAAPA/AAAAAAAA8D8AAAAAAADwPwAAAAAAAPA/AAAAAAAA8D8AAAAAAADwPwAAAAAAAPA/AAAAAAAA8D8=",
          "dtype": "f8",
          "shape": "20, 20"
         },
         "z": {
          "bdata": "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",
          "dtype": "f8",
          "shape": "20, 20"
         }
        },
        {
         "cmax": 46.71140670776367,
         "cmin": 0.43323537707328796,
         "colorscale": [
          [
           0,
           "#440154"
          ],
          [
           0.1111111111111111,
           "#482878"
          ],
          [
           0.2222222222222222,
           "#3e4989"
          ],
          [
           0.3333333333333333,
           "#31688e"
          ],
          [
           0.4444444444444444,
           "#26828e"
          ],
          [
           0.5555555555555556,
           "#1f9e89"
          ],
          [
           0.6666666666666666,
           "#35b779"
          ],
          [
           0.7777777777777778,
           "#6ece58"
          ],
          [
           0.8888888888888888,
           "#b5de2b"
          ],
          [
           1,
           "#fde725"
          ]
         ],
         "opacity": 0.7,
         "scene": "scene2",
         "showscale": false,
         "surfacecolor": {
          "bdata": "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",
          "dtype": "f4",
          "shape": "20, 20"
         },
         "type": "surface",
         "x": {
          "bdata": "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",
          "dtype": "f8",
          "shape": "20, 20"
         },
         "y": {
          "bdata": "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",
          "dtype": "f8",
          "shape": "20, 20"
         },
         "z": {
          "bdata": "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",
          "dtype": "f8",
          "shape": "20, 20"
         }
        },
        {
         "cmax": 46.71140670776367,
         "cmin": 0.43323537707328796,
         "colorscale": [
          [
           0,
           "#440154"
          ],
          [
           0.1111111111111111,
           "#482878"
          ],
          [
           0.2222222222222222,
           "#3e4989"
          ],
          [
           0.3333333333333333,
           "#31688e"
          ],
          [
           0.4444444444444444,
           "#26828e"
          ],
          [
           0.5555555555555556,
           "#1f9e89"
          ],
          [
           0.6666666666666666,
           "#35b779"
          ],
          [
           0.7777777777777778,
           "#6ece58"
          ],
          [
           0.8888888888888888,
           "#b5de2b"
          ],
          [
           1,
           "#fde725"
          ]
         ],
         "opacity": 0.7,
         "scene": "scene3",
         "showscale": false,
         "surfacecolor": {
          "bdata": "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",
          "dtype": "f4",
          "shape": "20, 20"
         },
         "type": "surface",
         "x": {
          "bdata": "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",
          "dtype": "f8",
          "shape": "20, 20"
         },
         "y": {
          "bdata": "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",
          "dtype": "f8",
          "shape": "20, 20"
         },
         "z": {
          "bdata": "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",
          "dtype": "f8",
          "shape": "20, 20"
         }
        },
        {
         "cmax": 46.71140670776367,
         "cmin": 0.43323537707328796,
         "colorscale": [
          [
           0,
           "#440154"
          ],
          [
           0.1111111111111111,
           "#482878"
          ],
          [
           0.2222222222222222,
           "#3e4989"
          ],
          [
           0.3333333333333333,
           "#31688e"
          ],
          [
           0.4444444444444444,
           "#26828e"
          ],
          [
           0.5555555555555556,
           "#1f9e89"
          ],
          [
           0.6666666666666666,
           "#35b779"
          ],
          [
           0.7777777777777778,
           "#6ece58"
          ],
          [
           0.8888888888888888,
           "#b5de2b"
          ],
          [
           1,
           "#fde725"
          ]
         ],
         "opacity": 0.7,
         "scene": "scene4",
         "showscale": false,
         "surfacecolor": {
          "bdata": "OIgAQb7WIEG2hERBRpRnQbbsgkF6141BLVGTQQT6kkGtY41Bdf2DQR+pcUHoa1xBzohMQWAxRUFx/UdBJ7tUQXqQaUHQt4FBqlmPQRTkm0HmmyRBIb5BQbePYUFHXoBB7OmNQUrvl0ELeZ1BAkqeQUTymkFit5RBPV6NQZrWhkFc3oJBErCCQeDLhkEc445BR/GZQbNwpkFCprJBXPC8QSoSSkEMbWNBJMx+QTfPjEGFpJhBRM2hQcScp0E6+qlBb2upQRwBp0E2JqRBQVmiQdjiokHWkKZB3I2tQTFWt0GH0MJBWoLOQdzU2EGMW+BBYlJtQahVgUFCuYxBYPKXQSQhokEEkapB9t2wQcsOtUEUmrdBPVK5QQo+u0FgZL5B947DQfIby0Ey4NRBCCbgQWvG60GxWvZBzHn+Qah6AUIglYVBOlCOQZ+Jl0GewaBBFn+pQcZpsUGEXrhBtX2+Qb4nxEFR7slBcnTQQcBI2EFPvOFBUMPsQUjl+EF5oQJCjVgIQqryDEJR1Q9CcYoQQjGkkEHlo5dBhP6eQaiIpkE4Ia5Bfry1QXxrvUGiXcVBVNrNQaYz10FYsOFByXLtQVhh+kFGCwRCSO4KQmZcEULNwxZCSJEaQnJGHEIsjhtCHUqXQQ/fnEECwaJB/ASpQdDNr0F+R7dB4KS/QRIbyUGK1dNBVOzfQWBX7UFc3/tBAIwFQlgsDUJAYhRC96saQhiCH0K4ZyJCivsiQr0HIUJsoZlBeyueQaIFo0F4cqhBUr2uQfkztkFWGr9Bwp3JQRrN1UGaj+NBiJ3yQdQ/AUIKSAlCBQARQg7yF0K3oh1CrJwhQgB9I0KgACNCgQ4gQhRamEFWPJxBNYCgQfB9pUGck6tBThmzQeFQvEEKV8dBzR3UQSVi4kFMsfFBvrUAQklmCEIIfg9CQY0VQkopGkJJ9hxCLbAdQnwyHEJsfhhCD4yUQXAmmEFWPJxB2yehQQRFp0HK4a5Bti64QaMww0EQus9BZGndQZKu60Gg1vlBYI0DQoJYCUKN7g1CqP8QQphQEkLhvxFCxEgPQpEEC0LXfo9BQyiTQeNpl0H1kJxBAOeiQWCgqkFQ0LNBKl2+Qdr6yUEvL9ZB7FriQdDJ7UGpxPdBvqX/QRlzAkLRlQNCBiYDQhgoAUJwb/tBvgnyQfRvikEIco5BdCiTQUnJmEHtfp9B3lqnQSBMsEGjFbpB6E7EQbNpzkEIwddBTKvfQdaP5UF0+ehBJqTpQZyD50EwwuJB1LfbQQ7d0kGSvMhBRGGGQWn2ikHBWJBBlp+WQevQnUFi16VB93iuQfZVt0HC6b9BFJjHQRa7zUHEvNFBDCnTQaDC0UEIjc1BuM7GQUAGvkH52rNBmgSpQb41nkEt/INBG06JQV99j0G8gpZBeD6eQdhypkG6v65BRqO2QVqBvUEqssJBUJXFQeapxUHAo8JBnn68QeKDs0GgSKhB8pubQeJtjkHKsIFBOHRsQUeHg0FMqolBRrGQQVB3mEHWuaBBGRapQSkJsUGA9bdBeSy9QTr/v0HU1b9Brka8QcostUEOt6pBRW+dQSQvjkGnFnxB12RcQZ+NP0EYdSdBx+uEQWDdi0G4rpNBRB+cQVPOpEGoOq1BbMa0Qfa+ukEkar5B2xi/Qco+vEH6ibVBVPmqQSHpnEHFFoxBaSZzQetRTUE+ailBWfoJQdgZ4kCCyYdBZnCPQd3ll0Ey0qBBkrypQbANskG8FLlB4hO+Qc5NwEFQGr9Bz/y5QYq8sEFhd6NBKK6SQSOKfkEg5lRBEkorQUCoBEEqYsdAeP2UQNOQi0EIv5NB8ZycQTnBpUEVoq5BIZq2QfLvvEEm5MBBz7/BQfTovkH597dBCc2sQe+hnUGcEotBQTdsQUUQQEE+phRB9PXZQBSEl0AILUxAo52PQQsUmEH1D6FBFxuqQbChskHE+LlBVmi/Qbg4wkE2wsFBs4C9QV4ltUGyqqhBx2GYQVL5hEGc8F5BeFkyQU4ZB0EON8BA6NB/QKhFIkABUJNBwMabQV2PpEHWLK1B0Ae1QcB3u0E1zr9Bk2PBQainv0HMMLpBzsywQRmQo0EO35JBMOV+QWChVEFidilBhCQAQejAtkCwDHZAAA0hQA==",
          "dtype": "f4",
          "shape": "20, 20"
         },
         "type": "surface",
         "x": {
          "bdata": "AAAAAAAAAAAor6G8hvKqPyivobyG8ro/XkN5DeU1xD8or6G8hvLKP3kN5TWU19A/XkN5DeU11D9DeQ3lNZTXPyivobyG8to/DeU1lNdQ3j95DeU1lNfgP2wor6G8huI/XkN5DeU15D9QXkN5DeXlP0N5DeU1lOc/NpTXUF5D6T8or6G8hvLqPxrKayivoew/DeU1lNdQ7j8AAAAAAADwPwAAAAAAAAAAKK+hvIbyqj8or6G8hvK6P15DeQ3lNcQ/KK+hvIbyyj95DeU1lNfQP15DeQ3lNdQ/Q3kN5TWU1z8or6G8hvLaPw3lNZTXUN4/eQ3lNZTX4D9sKK+hvIbiP15DeQ3lNeQ/UF5DeQ3l5T9DeQ3lNZTnPzaU11BeQ+k/KK+hvIby6j8aymsor6HsPw3lNZTXUO4/AAAAAAAA8D8AAAAAAAAAACivobyG8qo/KK+hvIbyuj9eQ3kN5TXEPyivobyG8so/eQ3lNZTX0D9eQ3kN5TXUP0N5DeU1lNc/KK+hvIby2j8N5TWU11DeP3kN5TWU1+A/bCivobyG4j9eQ3kN5TXkP1BeQ3kN5eU/Q3kN5TWU5z82lNdQXkPpPyivobyG8uo/GsprKK+h7D8N5TWU11DuPwAAAAAAAPA/AAAAAAAAAAAor6G8hvKqPyivobyG8ro/XkN5DeU1xD8or6G8hvLKP3kN5TWU19A/XkN5DeU11D9DeQ3lNZTXPyivobyG8to/DeU1lNdQ3j95DeU1lNfgP2wor6G8huI/XkN5DeU15D9QXkN5DeXlP0N5DeU1lOc/NpTXUF5D6T8or6G8hvLqPxrKayivoew/DeU1lNdQ7j8AAAAAAADwPwAAAAAAAAAAKK+hvIbyqj8or6G8hvK6P15DeQ3lNcQ/KK+hvIbyyj95DeU1lNfQP15DeQ3lNdQ/Q3kN5TWU1z8or6G8hvLaPw3lNZTXUN4/eQ3lNZTX4D9sKK+hvIbiP15DeQ3lNeQ/UF5DeQ3l5T9DeQ3lNZTnPzaU11BeQ+k/KK+hvIby6j8aymsor6HsPw3lNZTXUO4/AAAAAAAA8D8AAAAAAAAAACivobyG8qo/KK+hvIbyuj9eQ3kN5TXEPyivobyG8so/eQ3lNZTX0D9eQ3kN5TXUP0N5DeU1lNc/KK+hvIby2j8N5TWU11DeP3kN5TWU1+A/bCivobyG4j9eQ3kN5TXkP1BeQ3kN5eU/Q3kN5TWU5z82lNdQXkPpPyivobyG8uo/GsprKK+h7D8N5TWU11DuPwAAAAAAAPA/AAAAAAAAAAAor6G8hvKqPyivobyG8ro/XkN5DeU1xD8or6G8hvLKP3kN5TWU19A/XkN5DeU11D9DeQ3lNZTXPyivobyG8to/DeU1lNdQ3j95DeU1lNfgP2wor6G8huI/XkN5DeU15D9QXkN5DeXlP0N5DeU1lOc/NpTXUF5D6T8or6G8hvLqPxrKayivoew/DeU1lNdQ7j8AAAAAAADwPwAAAAAAAAAAKK+hvIbyqj8or6G8hvK6P15DeQ3lNcQ/KK+hvIbyyj95DeU1lNfQP15DeQ3lNdQ/Q3kN5TWU1z8or6G8hvLaPw3lNZTXUN4/eQ3lNZTX4D9sKK+hvIbiP15DeQ3lNeQ/UF5DeQ3l5T9DeQ3lNZTnPzaU11BeQ+k/KK+hvIby6j8aymsor6HsPw3lNZTXUO4/AAAAAAAA8D8AAAAAAAAAACivobyG8qo/KK+hvIbyuj9eQ3kN5TXEPyivobyG8so/eQ3lNZTX0D9eQ3kN5TXUP0N5DeU1lNc/KK+hvIby2j8N5TWU11DeP3kN5TWU1+A/bCivobyG4j9eQ3kN5TXkP1BeQ3kN5eU/Q3kN5TWU5z82lNdQXkPpPyivobyG8uo/GsprKK+h7D8N5TWU11DuPwAAAAAAAPA/AAAAAAAAAAAor6G8hvKqPyivobyG8ro/XkN5DeU1xD8or6G8hvLKP3kN5TWU19A/XkN5DeU11D9DeQ3lNZTXPyivobyG8to/DeU1lNdQ3j95DeU1lNfgP2wor6G8huI/XkN5DeU15D9QXkN5DeXlP0N5DeU1lOc/NpTXUF5D6T8or6G8hvLqPxrKayivoew/DeU1lNdQ7j8AAAAAAADwPwAAAAAAAAAAKK+hvIbyqj8or6G8hvK6P15DeQ3lNcQ/KK+hvIbyyj95DeU1lNfQP15DeQ3lNdQ/Q3kN5TWU1z8or6G8hvLaPw3lNZTXUN4/eQ3lNZTX4D9sKK+hvIbiP15DeQ3lNeQ/UF5DeQ3l5T9DeQ3lNZTnPzaU11BeQ+k/KK+hvIby6j8aymsor6HsPw3lNZTXUO4/AAAAAAAA8D8AAAAAAAAAACivobyG8qo/KK+hvIbyuj9eQ3kN5TXEPyivobyG8so/eQ3lNZTX0D9eQ3kN5TXUP0N5DeU1lNc/KK+hvIby2j8N5TWU11DeP3kN5TWU1+A/bCivobyG4j9eQ3kN5TXkP1BeQ3kN5eU/Q3kN5TWU5z82lNdQXkPpPyivobyG8uo/GsprKK+h7D8N5TWU11DuPwAAAAAAAPA/AAAAAAAAAAAor6G8hvKqPyivobyG8ro/XkN5DeU1xD8or6G8hvLKP3kN5TWU19A/XkN5DeU11D9DeQ3lNZTXPyivobyG8to/DeU1lNdQ3j95DeU1lNfgP2wor6G8huI/XkN5DeU15D9QXkN5DeXlP0N5DeU1lOc/NpTXUF5D6T8or6G8hvLqPxrKayivoew/DeU1lNdQ7j8AAAAAAADwPwAAAAAAAAAAKK+hvIbyqj8or6G8hvK6P15DeQ3lNcQ/KK+hvIbyyj95DeU1lNfQP15DeQ3lNdQ/Q3kN5TWU1z8or6G8hvLaPw3lNZTXUN4/eQ3lNZTX4D9sKK+hvIbiP15DeQ3lNeQ/UF5DeQ3l5T9DeQ3lNZTnPzaU11BeQ+k/KK+hvIby6j8aymsor6HsPw3lNZTXUO4/AAAAAAAA8D8AAAAAAAAAACivobyG8qo/KK+hvIbyuj9eQ3kN5TXEPyivobyG8so/eQ3lNZTX0D9eQ3kN5TXUP0N5DeU1lNc/KK+hvIby2j8N5TWU11DeP3kN5TWU1+A/bCivobyG4j9eQ3kN5TXkP1BeQ3kN5eU/Q3kN5TWU5z82lNdQXkPpPyivobyG8uo/GsprKK+h7D8N5TWU11DuPwAAAAAAAPA/AAAAAAAAAAAor6G8hvKqPyivobyG8ro/XkN5DeU1xD8or6G8hvLKP3kN5TWU19A/XkN5DeU11D9DeQ3lNZTXPyivobyG8to/DeU1lNdQ3j95DeU1lNfgP2wor6G8huI/XkN5DeU15D9QXkN5DeXlP0N5DeU1lOc/NpTXUF5D6T8or6G8hvLqPxrKayivoew/DeU1lNdQ7j8AAAAAAADwPwAAAAAAAAAAKK+hvIbyqj8or6G8hvK6P15DeQ3lNcQ/KK+hvIbyyj95DeU1lNfQP15DeQ3lNdQ/Q3kN5TWU1z8or6G8hvLaPw3lNZTXUN4/eQ3lNZTX4D9sKK+hvIbiP15DeQ3lNeQ/UF5DeQ3l5T9DeQ3lNZTnPzaU11BeQ+k/KK+hvIby6j8aymsor6HsPw3lNZTXUO4/AAAAAAAA8D8AAAAAAAAAACivobyG8qo/KK+hvIbyuj9eQ3kN5TXEPyivobyG8so/eQ3lNZTX0D9eQ3kN5TXUP0N5DeU1lNc/KK+hvIby2j8N5TWU11DeP3kN5TWU1+A/bCivobyG4j9eQ3kN5TXkP1BeQ3kN5eU/Q3kN5TWU5z82lNdQXkPpPyivobyG8uo/GsprKK+h7D8N5TWU11DuPwAAAAAAAPA/AAAAAAAAAAAor6G8hvKqPyivobyG8ro/XkN5DeU1xD8or6G8hvLKP3kN5TWU19A/XkN5DeU11D9DeQ3lNZTXPyivobyG8to/DeU1lNdQ3j95DeU1lNfgP2wor6G8huI/XkN5DeU15D9QXkN5DeXlP0N5DeU1lOc/NpTXUF5D6T8or6G8hvLqPxrKayivoew/DeU1lNdQ7j8AAAAAAADwPwAAAAAAAAAAKK+hvIbyqj8or6G8hvK6P15DeQ3lNcQ/KK+hvIbyyj95DeU1lNfQP15DeQ3lNdQ/Q3kN5TWU1z8or6G8hvLaPw3lNZTXUN4/eQ3lNZTX4D9sKK+hvIbiP15DeQ3lNeQ/UF5DeQ3l5T9DeQ3lNZTnPzaU11BeQ+k/KK+hvIby6j8aymsor6HsPw3lNZTXUO4/AAAAAAAA8D8=",
          "dtype": "f8",
          "shape": "20, 20"
         },
         "y": {
          "bdata": "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",
          "dtype": "f8",
          "shape": "20, 20"
         },
         "z": {
          "bdata": "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",
          "dtype": "f8",
          "shape": "20, 20"
         }
        },
        {
         "cmax": 46.71140670776367,
         "cmin": 0.43323537707328796,
         "colorscale": [
          [
           0,
           "#440154"
          ],
          [
           0.1111111111111111,
           "#482878"
          ],
          [
           0.2222222222222222,
           "#3e4989"
          ],
          [
           0.3333333333333333,
           "#31688e"
          ],
          [
           0.4444444444444444,
           "#26828e"
          ],
          [
           0.5555555555555556,
           "#1f9e89"
          ],
          [
           0.6666666666666666,
           "#35b779"
          ],
          [
           0.7777777777777778,
           "#6ece58"
          ],
          [
           0.8888888888888888,
           "#b5de2b"
          ],
          [
           1,
           "#fde725"
          ]
         ],
         "opacity": 0.7,
         "scene": "scene5",
         "showscale": false,
         "surfacecolor": {
          "bdata": "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",
          "dtype": "f4",
          "shape": "20, 20"
         },
         "type": "surface",
         "x": {
          "bdata": "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",
          "dtype": "f8",
          "shape": "20, 20"
         },
         "y": {
          "bdata": "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",
          "dtype": "f8",
          "shape": "20, 20"
         },
         "z": {
          "bdata": "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",
          "dtype": "f8",
          "shape": "20, 20"
         }
        },
        {
         "cmax": 46.71140670776367,
         "cmin": 0.43323537707328796,
         "colorscale": [
          [
           0,
           "#440154"
          ],
          [
           0.1111111111111111,
           "#482878"
          ],
          [
           0.2222222222222222,
           "#3e4989"
          ],
          [
           0.3333333333333333,
           "#31688e"
          ],
          [
           0.4444444444444444,
           "#26828e"
          ],
          [
           0.5555555555555556,
           "#1f9e89"
          ],
          [
           0.6666666666666666,
           "#35b779"
          ],
          [
           0.7777777777777778,
           "#6ece58"
          ],
          [
           0.8888888888888888,
           "#b5de2b"
          ],
          [
           1,
           "#fde725"
          ]
         ],
         "opacity": 0.7,
         "scene": "scene",
         "showscale": false,
         "surfacecolor": {
          "bdata": "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",
          "dtype": "f4",
          "shape": "20, 20"
         },
         "type": "surface",
         "x": {
          "bdata": "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",
          "dtype": "f8",
          "shape": "20, 20"
         },
         "y": {
          "bdata": "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",
          "dtype": "f8",
          "shape": "20, 20"
         },
         "z": {
          "bdata": "AAAAAAAA8D8AAAAAAADwPwAAAAAAAPA/AAAAAAAA8D8AAAAAAADwPwAAAAAAAPA/AAAAAAAA8D8AAAAAAADwPwAAAAAAAPA/AAAAAAAA8D8AAAAAAADwPwAAAAAAAPA/AAAAAAAA8D8AAAAAAADwPwAAAAAAAPA/AAAAAAAA8D8AAAAAAADwPwAAAAAAAPA/AAAAAAAA8D8AAAAAAADwPwAAAAAAAPA/AAAAAAAA8D8AAAAAAADwPwAAAAAAAPA/AAAAAAAA8D8AAAAAAADwPwAAAAAAAPA/AAAAAAAA8D8AAAAAAADwPwAAAAAAAPA/AAAAAAAA8D8AAAAAAADwPwAAAAAAAPA/AAAAAAAA8D8AAAAAAADwPwAAAAAAAPA/AAAAAAAA8D8AAAAAAADwPwAAAAAAAPA/AAAAAAAA8D8AAAAAAADwPwAAAAAAAPA/AAAAAAAA8D8AAAAAAADwPwAAAAAAAPA/AAAAAAAA8D8AAAAAAADwPwAAAAAAAPA/AAAAAAAA8D8AAAAAAADwPwAAAAAAAPA/AAAAAAAA8D8AAAAAAADwPwAAAAAAAPA/AAAAAAAA8D8AAAAAAADwPwAAAAAAAPA/AAAAAAAA8D8AAAAAAADwPwAAAAAAAPA/AAAAAAAA8D8AAAAAAADwPwAAAAAAAPA/AAAAAAAA8D8AAAAAAADwPwAAAAAAAPA/AAAAAAAA8D8AAAAAAADwPwAAAAAAAPA/AAAAAAAA8D8AAAAAAADwPwAAAAAAAPA/AAAAAAAA8D8AAAAAAADwPwAAAAAAAPA/AAAAAAAA8D8AAAAAAADwPwAAAAAAAPA/AAAAAAAA8D8AAAAAAADwPwAAAAAAAPA/AAAAAAAA8D8AAAAAAADwPwAAAAAAAPA/AAAAAAAA8D8AAAAAAADwPwAAAAAAAPA/AAAAAAAA8D8AAAAAAADwPwAAAAAAAPA/AAAAAAAA8D8AAAAAAADwPwAAAAAAAPA/AAAAAAAA8D8AAAAAAADwPwAAAAAAAPA/AAAAAAAA8D8AAAAAAADwPwAAAAAAAPA/AAAAAAAA8D8AAAAAAADwPwAAAAAAAPA/AAAAAAAA8D8AAAAAAADwPwAAAAAAAPA/AAAAAAAA8D8AAAAAAADwPwAAAAAAAPA/AAAAAAAA8D8AAAAAAADwPwAAAAAAAPA/AAAAAAAA8D8AAAAAAADwPwAAAAAAAPA/AAAAAAAA8D8AAAAAAADwPwAAAAAAAPA/AAAAAAAA8D8AAAAAAADwPwAAAAAAAPA/AAAAAAAA8D8AAAAAAADwPwAAAAAAAPA/AAAAAAAA8D8AAAAAAADwPwAAAAAAAPA/AAAAAAAA8D8AAAAAAADwPwAAAAAAAPA/AAAAAAAA8D8AAAAAAADwPwAAAAAAAPA/AAAAAAAA8D8AAAAAAADwPwAAAAAAAPA/AAAAAAAA8D8AAAAAAADwPwAAAAAAAPA/AAAAAAAA8D8AAAAAAADwPwAAAAAAAPA/AAAAAAAA8D8AAAAAAADwPwAAAAAAAPA/AAAAAAAA8D8AAAAAAADwPwAAAAAAAPA/AAAAAAAA8D8AAAAAAADwPwAAAAAAAPA/AAAAAAAA8D8AAAAAAADwPwAAAAAAAPA/AAAAAAAA8D8AAAAAAADwPwAAAAAAAPA/AAAAAAAA8D8AAAAAAADwPwAAAAAAAPA/AAAAAAAA8D8AAAAAAADwPwAAAAAAAPA/AAAAAAAA8D8AAAAAAADwPwAAAAAAAPA/AAAAAAAA8D8AAAAAAADwPwAAAAAAAPA/AAAAAAAA8D8AAAAAAADwPwAAAAAAAPA/AAAAAAAA8D8AAAAAAADwPwAAAAAAAPA/AAAAAAAA8D8AAAAAAADwPwAAAAAAAPA/AAAAAAAA8D8AAAAAAADwPwAAAAAAAPA/AAAAAAAA8D8AAAAAAADwPwAAAAAAAPA/AAAAAAAA8D8AAAAAAADwPwAAAAAAAPA/AAAAAAAA8D8AAAAAAADwPwAAAAAAAPA/AAAAAAAA8D8AAAAAAADwPwAAAAAAAPA/AAAAAAAA8D8AAAAAAADwPwAAAAAAAPA/AAAAAAAA8D8AAAAAAADwPwAAAAAAAPA/AAAAAAAA8D8AAAAAAADwPwAAAAAAAPA/AAAAAAAA8D8AAAAAAADwPwAAAAAAAPA/AAAAAAAA8D8AAAAAAADwPwAAAAAAAPA/AAAAAAAA8D8AAAAAAADwPwAAAAAAAPA/AAAAAAAA8D8AAAAAAADwPwAAAAAAAPA/AAAAAAAA8D8AAAAAAADwPwAAAAAAAPA/AAAAAAAA8D8AAAAAAADwPwAAAAAAAPA/AAAAAAAA8D8AAAAAAADwPwAAAAAAAPA/AAAAAAAA8D8AAAAAAADwPwAAAAAAAPA/AAAAAAAA8D8AAAAAAADwPwAAAAAAAPA/AAAAAAAA8D8AAAAAAADwPwAAAAAAAPA/AAAAAAAA8D8AAAAAAADwPwAAAAAAAPA/AAAAAAAA8D8AAAAAAADwPwAAAAAAAPA/AAAAAAAA8D8AAAAAAADwPwAAAAAAAPA/AAAAAAAA8D8AAAAAAADwPwAAAAAAAPA/AAAAAAAA8D8AAAAAAADwPwAAAAAAAPA/AAAAAAAA8D8AAAAAAADwPwAAAAAAAPA/AAAAAAAA8D8AAAAAAADwPwAAAAAAAPA/AAAAAAAA8D8AAAAAAADwPwAAAAAAAPA/AAAAAAAA8D8AAAAAAADwPwAAAAAAAPA/AAAAAAAA8D8AAAAAAADwPwAAAAAAAPA/AAAAAAAA8D8AAAAAAADwPwAAAAAAAPA/AAAAAAAA8D8AAAAAAADwPwAAAAAAAPA/AAAAAAAA8D8AAAAAAADwPwAAAAAAAPA/AAAAAAAA8D8AAAAAAADwPwAAAAAAAPA/AAAAAAAA8D8AAAAAAADwPwAAAAAAAPA/AAAAAAAA8D8AAAAAAADwPwAAAAAAAPA/AAAAAAAA8D8AAAAAAADwPwAAAAAAAPA/AAAAAAAA8D8AAAAAAADwPwAAAAAAAPA/AAAAAAAA8D8AAAAAAADwPwAAAAAAAPA/AAAAAAAA8D8AAAAAAADwPwAAAAAAAPA/AAAAAAAA8D8AAAAAAADwPwAAAAAAAPA/AAAAAAAA8D8AAAAAAADwPwAAAAAAAPA/AAAAAAAA8D8AAAAAAADwPwAAAAAAAPA/AAAAAAAA8D8AAAAAAADwPwAAAAAAAPA/AAAAAAAA8D8AAAAAAADwPwAAAAAAAPA/AAAAAAAA8D8AAAAAAADwPwAAAAAAAPA/AAAAAAAA8D8AAAAAAADwPwAAAAAAAPA/AAAAAAAA8D8AAAAAAADwPwAAAAAAAPA/AAAAAAAA8D8AAAAAAADwPwAAAAAAAPA/AAAAAAAA8D8AAAAAAADwPwAAAAAAAPA/AAAAAAAA8D8AAAAAAADwPwAAAAAAAPA/AAAAAAAA8D8AAAAAAADwPwAAAAAAAPA/AAAAAAAA8D8AAAAAAADwPwAAAAAAAPA/AAAAAAAA8D8AAAAAAADwPwAAAAAAAPA/AAAAAAAA8D8AAAAAAADwPwAAAAAAAPA/AAAAAAAA8D8AAAAAAADwPwAAAAAAAPA/AAAAAAAA8D8AAAAAAADwPwAAAAAAAPA/AAAAAAAA8D8AAAAAAADwPwAAAAAAAPA/AAAAAAAA8D8AAAAAAADwPwAAAAAAAPA/AAAAAAAA8D8AAAAAAADwPwAAAAAAAPA/AAAAAAAA8D8AAAAAAADwPwAAAAAAAPA/AAAAAAAA8D8AAAAAAADwPwAAAAAAAPA/AAAAAAAA8D8AAAAAAADwPwAAAAAAAPA/AAAAAAAA8D8AAAAAAADwPwAAAAAAAPA/AAAAAAAA8D8AAAAAAADwPwAAAAAAAPA/AAAAAAAA8D8AAAAAAADwPwAAAAAAAPA/AAAAAAAA8D8AAAAAAADwPwAAAAAAAPA/AAAAAAAA8D8AAAAAAADwPwAAAAAAAPA/AAAAAAAA8D8AAAAAAADwPwAAAAAAAPA/AAAAAAAA8D8AAAAAAADwPwAAAAAAAPA/AAAAAAAA8D8AAAAAAADwPwAAAAAAAPA/AAAAAAAA8D8AAAAAAADwPwAAAAAAAPA/AAAAAAAA8D8AAAAAAADwPwAAAAAAAPA/AAAAAAAA8D8AAAAAAADwPwAAAAAAAPA/AAAAAAAA8D8AAAAAAADwPwAAAAAAAPA/AAAAAAAA8D8AAAAAAADwPwAAAAAAAPA/AAAAAAAA8D8=",
          "dtype": "f8",
          "shape": "20, 20"
         }
        },
        {
         "cmax": 46.71140670776367,
         "cmin": 0.43323537707328796,
         "colorscale": [
          [
           0,
           "#440154"
          ],
          [
           0.1111111111111111,
           "#482878"
          ],
          [
           0.2222222222222222,
           "#3e4989"
          ],
          [
           0.3333333333333333,
           "#31688e"
          ],
          [
           0.4444444444444444,
           "#26828e"
          ],
          [
           0.5555555555555556,
           "#1f9e89"
          ],
          [
           0.6666666666666666,
           "#35b779"
          ],
          [
           0.7777777777777778,
           "#6ece58"
          ],
          [
           0.8888888888888888,
           "#b5de2b"
          ],
          [
           1,
           "#fde725"
          ]
         ],
         "opacity": 0.7,
         "scene": "scene2",
         "showscale": false,
         "surfacecolor": {
          "bdata": "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",
          "dtype": "f4",
          "shape": "20, 20"
         },
         "type": "surface",
         "x": {
          "bdata": "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",
          "dtype": "f8",
          "shape": "20, 20"
         },
         "y": {
          "bdata": "AAAAAAAAAAAAAAAAAAAAAAAAAAAAAAAAAAAAAAAAAAAAAAAAAAAAAAAAAAAAAAAAAAAAAAAAAAAAAAAAAAAAAAAAAAAAAAAAAAAAAAAAAAAAAAAAAAAAAAAAAAAAAAAAAAAAAAAAAAAAAAAAAAAAAAAAAAAAAAAAAAAAAAAAAAAAAAAAAAAAAAAAAAAAAAAAAAAAAAAAAAAAAAAAAAAAACivobyG8qo/KK+hvIbyqj8or6G8hvKqPyivobyG8qo/KK+hvIbyqj8or6G8hvKqPyivobyG8qo/KK+hvIbyqj8or6G8hvKqPyivobyG8qo/KK+hvIbyqj8or6G8hvKqPyivobyG8qo/KK+hvIbyqj8or6G8hvKqPyivobyG8qo/KK+hvIbyqj8or6G8hvKqPyivobyG8qo/KK+hvIbyqj8or6G8hvK6PyivobyG8ro/KK+hvIbyuj8or6G8hvK6PyivobyG8ro/KK+hvIbyuj8or6G8hvK6PyivobyG8ro/KK+hvIbyuj8or6G8hvK6PyivobyG8ro/KK+hvIbyuj8or6G8hvK6PyivobyG8ro/KK+hvIbyuj8or6G8hvK6PyivobyG8ro/KK+hvIbyuj8or6G8hvK6PyivobyG8ro/XkN5DeU1xD9eQ3kN5TXEP15DeQ3lNcQ/XkN5DeU1xD9eQ3kN5TXEP15DeQ3lNcQ/XkN5DeU1xD9eQ3kN5TXEP15DeQ3lNcQ/XkN5DeU1xD9eQ3kN5TXEP15DeQ3lNcQ/XkN5DeU1xD9eQ3kN5TXEP15DeQ3lNcQ/XkN5DeU1xD9eQ3kN5TXEP15DeQ3lNcQ/XkN5DeU1xD9eQ3kN5TXEPyivobyG8so/KK+hvIbyyj8or6G8hvLKPyivobyG8so/KK+hvIbyyj8or6G8hvLKPyivobyG8so/KK+hvIbyyj8or6G8hvLKPyivobyG8so/KK+hvIbyyj8or6G8hvLKPyivobyG8so/KK+hvIbyyj8or6G8hvLKPyivobyG8so/KK+hvIbyyj8or6G8hvLKPyivobyG8so/KK+hvIbyyj95DeU1lNfQP3kN5TWU19A/eQ3lNZTX0D95DeU1lNfQP3kN5TWU19A/eQ3lNZTX0D95DeU1lNfQP3kN5TWU19A/eQ3lNZTX0D95DeU1lNfQP3kN5TWU19A/eQ3lNZTX0D95DeU1lNfQP3kN5TWU19A/eQ3lNZTX0D95DeU1lNfQP3kN5TWU19A/eQ3lNZTX0D95DeU1lNfQP3kN5TWU19A/XkN5DeU11D9eQ3kN5TXUP15DeQ3lNdQ/XkN5DeU11D9eQ3kN5TXUP15DeQ3lNdQ/XkN5DeU11D9eQ3kN5TXUP15DeQ3lNdQ/XkN5DeU11D9eQ3kN5TXUP15DeQ3lNdQ/XkN5DeU11D9eQ3kN5TXUP15DeQ3lNdQ/XkN5DeU11D9eQ3kN5TXUP15DeQ3lNdQ/XkN5DeU11D9eQ3kN5TXUP0N5DeU1lNc/Q3kN5TWU1z9DeQ3lNZTXP0N5DeU1lNc/Q3kN5TWU1z9DeQ3lNZTXP0N5DeU1lNc/Q3kN5TWU1z9DeQ3lNZTXP0N5DeU1lNc/Q3kN5TWU1z9DeQ3lNZTXP0N5DeU1lNc/Q3kN5TWU1z9DeQ3lNZTXP0N5DeU1lNc/Q3kN5TWU1z9DeQ3lNZTXP0N5DeU1lNc/Q3kN5TWU1z8or6G8hvLaPyivobyG8to/KK+hvIby2j8or6G8hvLaPyivobyG8to/KK+hvIby2j8or6G8hvLaPyivobyG8to/KK+hvIby2j8or6G8hvLaPyivobyG8to/KK+hvIby2j8or6G8hvLaPyivobyG8to/KK+hvIby2j8or6G8hvLaPyivobyG8to/KK+hvIby2j8or6G8hvLaPyivobyG8to/DeU1lNdQ3j8N5TWU11DePw3lNZTXUN4/DeU1lNdQ3j8N5TWU11DePw3lNZTXUN4/DeU1lNdQ3j8N5TWU11DePw3lNZTXUN4/DeU1lNdQ3j8N5TWU11DePw3lNZTXUN4/DeU1lNdQ3j8N5TWU11DePw3lNZTXUN4/DeU1lNdQ3j8N5TWU11DePw3lNZTXUN4/DeU1lNdQ3j8N5TWU11DeP3kN5TWU1+A/eQ3lNZTX4D95DeU1lNfgP3kN5TWU1+A/eQ3lNZTX4D95DeU1lNfgP3kN5TWU1+A/eQ3lNZTX4D95DeU1lNfgP3kN5TWU1+A/eQ3lNZTX4D95DeU1lNfgP3kN5TWU1+A/eQ3lNZTX4D95DeU1lNfgP3kN5TWU1+A/eQ3lNZTX4D95DeU1lNfgP3kN5TWU1+A/eQ3lNZTX4D9sKK+hvIbiP2wor6G8huI/bCivobyG4j9sKK+hvIbiP2wor6G8huI/bCivobyG4j9sKK+hvIbiP2wor6G8huI/bCivobyG4j9sKK+hvIbiP2wor6G8huI/bCivobyG4j9sKK+hvIbiP2wor6G8huI/bCivobyG4j9sKK+hvIbiP2wor6G8huI/bCivobyG4j9sKK+hvIbiP2wor6G8huI/XkN5DeU15D9eQ3kN5TXkP15DeQ3lNeQ/XkN5DeU15D9eQ3kN5TXkP15DeQ3lNeQ/XkN5DeU15D9eQ3kN5TXkP15DeQ3lNeQ/XkN5DeU15D9eQ3kN5TXkP15DeQ3lNeQ/XkN5DeU15D9eQ3kN5TXkP15DeQ3lNeQ/XkN5DeU15D9eQ3kN5TXkP15DeQ3lNeQ/XkN5DeU15D9eQ3kN5TXkP1BeQ3kN5eU/UF5DeQ3l5T9QXkN5DeXlP1BeQ3kN5eU/UF5DeQ3l5T9QXkN5DeXlP1BeQ3kN5eU/UF5DeQ3l5T9QXkN5DeXlP1BeQ3kN5eU/UF5DeQ3l5T9QXkN5DeXlP1BeQ3kN5eU/UF5DeQ3l5T9QXkN5DeXlP1BeQ3kN5eU/UF5DeQ3l5T9QXkN5DeXlP1BeQ3kN5eU/UF5DeQ3l5T9DeQ3lNZTnP0N5DeU1lOc/Q3kN5TWU5z9DeQ3lNZTnP0N5DeU1lOc/Q3kN5TWU5z9DeQ3lNZTnP0N5DeU1lOc/Q3kN5TWU5z9DeQ3lNZTnP0N5DeU1lOc/Q3kN5TWU5z9DeQ3lNZTnP0N5DeU1lOc/Q3kN5TWU5z9DeQ3lNZTnP0N5DeU1lOc/Q3kN5TWU5z9DeQ3lNZTnP0N5DeU1lOc/NpTXUF5D6T82lNdQXkPpPzaU11BeQ+k/NpTXUF5D6T82lNdQXkPpPzaU11BeQ+k/NpTXUF5D6T82lNdQXkPpPzaU11BeQ+k/NpTXUF5D6T82lNdQXkPpPzaU11BeQ+k/NpTXUF5D6T82lNdQXkPpPzaU11BeQ+k/NpTXUF5D6T82lNdQXkPpPzaU11BeQ+k/NpTXUF5D6T82lNdQXkPpPyivobyG8uo/KK+hvIby6j8or6G8hvLqPyivobyG8uo/KK+hvIby6j8or6G8hvLqPyivobyG8uo/KK+hvIby6j8or6G8hvLqPyivobyG8uo/KK+hvIby6j8or6G8hvLqPyivobyG8uo/KK+hvIby6j8or6G8hvLqPyivobyG8uo/KK+hvIby6j8or6G8hvLqPyivobyG8uo/KK+hvIby6j8aymsor6HsPxrKayivoew/GsprKK+h7D8aymsor6HsPxrKayivoew/GsprKK+h7D8aymsor6HsPxrKayivoew/GsprKK+h7D8aymsor6HsPxrKayivoew/GsprKK+h7D8aymsor6HsPxrKayivoew/GsprKK+h7D8aymsor6HsPxrKayivoew/GsprKK+h7D8aymsor6HsPxrKayivoew/DeU1lNdQ7j8N5TWU11DuPw3lNZTXUO4/DeU1lNdQ7j8N5TWU11DuPw3lNZTXUO4/DeU1lNdQ7j8N5TWU11DuPw3lNZTXUO4/DeU1lNdQ7j8N5TWU11DuPw3lNZTXUO4/DeU1lNdQ7j8N5TWU11DuPw3lNZTXUO4/DeU1lNdQ7j8N5TWU11DuPw3lNZTXUO4/DeU1lNdQ7j8N5TWU11DuPwAAAAAAAPA/AAAAAAAA8D8AAAAAAADwPwAAAAAAAPA/AAAAAAAA8D8AAAAAAADwPwAAAAAAAPA/AAAAAAAA8D8AAAAAAADwPwAAAAAAAPA/AAAAAAAA8D8AAAAAAADwPwAAAAAAAPA/AAAAAAAA8D8AAAAAAADwPwAAAAAAAPA/AAAAAAAA8D8AAAAAAADwPwAAAAAAAPA/AAAAAAAA8D8=",
          "dtype": "f8",
          "shape": "20, 20"
         },
         "z": {
          "bdata": "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",
          "dtype": "f8",
          "shape": "20, 20"
         }
        },
        {
         "cmax": 46.71140670776367,
         "cmin": 0.43323537707328796,
         "colorscale": [
          [
           0,
           "#440154"
          ],
          [
           0.1111111111111111,
           "#482878"
          ],
          [
           0.2222222222222222,
           "#3e4989"
          ],
          [
           0.3333333333333333,
           "#31688e"
          ],
          [
           0.4444444444444444,
           "#26828e"
          ],
          [
           0.5555555555555556,
           "#1f9e89"
          ],
          [
           0.6666666666666666,
           "#35b779"
          ],
          [
           0.7777777777777778,
           "#6ece58"
          ],
          [
           0.8888888888888888,
           "#b5de2b"
          ],
          [
           1,
           "#fde725"
          ]
         ],
         "opacity": 0.7,
         "scene": "scene3",
         "showscale": false,
         "surfacecolor": {
          "bdata": "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",
          "dtype": "f4",
          "shape": "20, 20"
         },
         "type": "surface",
         "x": {
          "bdata": "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",
          "dtype": "f8",
          "shape": "20, 20"
         },
         "y": {
          "bdata": "AAAAAAAAAAAAAAAAAAAAAAAAAAAAAAAAAAAAAAAAAAAAAAAAAAAAAAAAAAAAAAAAAAAAAAAAAAAAAAAAAAAAAAAAAAAAAAAAAAAAAAAAAAAAAAAAAAAAAAAAAAAAAAAAAAAAAAAAAAAAAAAAAAAAAAAAAAAAAAAAAAAAAAAAAAAAAAAAAAAAAAAAAAAAAAAAAAAAAAAAAAAAAAAAAAAAACivobyG8qo/KK+hvIbyqj8or6G8hvKqPyivobyG8qo/KK+hvIbyqj8or6G8hvKqPyivobyG8qo/KK+hvIbyqj8or6G8hvKqPyivobyG8qo/KK+hvIbyqj8or6G8hvKqPyivobyG8qo/KK+hvIbyqj8or6G8hvKqPyivobyG8qo/KK+hvIbyqj8or6G8hvKqPyivobyG8qo/KK+hvIbyqj8or6G8hvK6PyivobyG8ro/KK+hvIbyuj8or6G8hvK6PyivobyG8ro/KK+hvIbyuj8or6G8hvK6PyivobyG8ro/KK+hvIbyuj8or6G8hvK6PyivobyG8ro/KK+hvIbyuj8or6G8hvK6PyivobyG8ro/KK+hvIbyuj8or6G8hvK6PyivobyG8ro/KK+hvIbyuj8or6G8hvK6PyivobyG8ro/XkN5DeU1xD9eQ3kN5TXEP15DeQ3lNcQ/XkN5DeU1xD9eQ3kN5TXEP15DeQ3lNcQ/XkN5DeU1xD9eQ3kN5TXEP15DeQ3lNcQ/XkN5DeU1xD9eQ3kN5TXEP15DeQ3lNcQ/XkN5DeU1xD9eQ3kN5TXEP15DeQ3lNcQ/XkN5DeU1xD9eQ3kN5TXEP15DeQ3lNcQ/XkN5DeU1xD9eQ3kN5TXEPyivobyG8so/KK+hvIbyyj8or6G8hvLKPyivobyG8so/KK+hvIbyyj8or6G8hvLKPyivobyG8so/KK+hvIbyyj8or6G8hvLKPyivobyG8so/KK+hvIbyyj8or6G8hvLKPyivobyG8so/KK+hvIbyyj8or6G8hvLKPyivobyG8so/KK+hvIbyyj8or6G8hvLKPyivobyG8so/KK+hvIbyyj95DeU1lNfQP3kN5TWU19A/eQ3lNZTX0D95DeU1lNfQP3kN5TWU19A/eQ3lNZTX0D95DeU1lNfQP3kN5TWU19A/eQ3lNZTX0D95DeU1lNfQP3kN5TWU19A/eQ3lNZTX0D95DeU1lNfQP3kN5TWU19A/eQ3lNZTX0D95DeU1lNfQP3kN5TWU19A/eQ3lNZTX0D95DeU1lNfQP3kN5TWU19A/XkN5DeU11D9eQ3kN5TXUP15DeQ3lNdQ/XkN5DeU11D9eQ3kN5TXUP15DeQ3lNdQ/XkN5DeU11D9eQ3kN5TXUP15DeQ3lNdQ/XkN5DeU11D9eQ3kN5TXUP15DeQ3lNdQ/XkN5DeU11D9eQ3kN5TXUP15DeQ3lNdQ/XkN5DeU11D9eQ3kN5TXUP15DeQ3lNdQ/XkN5DeU11D9eQ3kN5TXUP0N5DeU1lNc/Q3kN5TWU1z9DeQ3lNZTXP0N5DeU1lNc/Q3kN5TWU1z9DeQ3lNZTXP0N5DeU1lNc/Q3kN5TWU1z9DeQ3lNZTXP0N5DeU1lNc/Q3kN5TWU1z9DeQ3lNZTXP0N5DeU1lNc/Q3kN5TWU1z9DeQ3lNZTXP0N5DeU1lNc/Q3kN5TWU1z9DeQ3lNZTXP0N5DeU1lNc/Q3kN5TWU1z8or6G8hvLaPyivobyG8to/KK+hvIby2j8or6G8hvLaPyivobyG8to/KK+hvIby2j8or6G8hvLaPyivobyG8to/KK+hvIby2j8or6G8hvLaPyivobyG8to/KK+hvIby2j8or6G8hvLaPyivobyG8to/KK+hvIby2j8or6G8hvLaPyivobyG8to/KK+hvIby2j8or6G8hvLaPyivobyG8to/DeU1lNdQ3j8N5TWU11DePw3lNZTXUN4/DeU1lNdQ3j8N5TWU11DePw3lNZTXUN4/DeU1lNdQ3j8N5TWU11DePw3lNZTXUN4/DeU1lNdQ3j8N5TWU11DePw3lNZTXUN4/DeU1lNdQ3j8N5TWU11DePw3lNZTXUN4/DeU1lNdQ3j8N5TWU11DePw3lNZTXUN4/DeU1lNdQ3j8N5TWU11DeP3kN5TWU1+A/eQ3lNZTX4D95DeU1lNfgP3kN5TWU1+A/eQ3lNZTX4D95DeU1lNfgP3kN5TWU1+A/eQ3lNZTX4D95DeU1lNfgP3kN5TWU1+A/eQ3lNZTX4D95DeU1lNfgP3kN5TWU1+A/eQ3lNZTX4D95DeU1lNfgP3kN5TWU1+A/eQ3lNZTX4D95DeU1lNfgP3kN5TWU1+A/eQ3lNZTX4D9sKK+hvIbiP2wor6G8huI/bCivobyG4j9sKK+hvIbiP2wor6G8huI/bCivobyG4j9sKK+hvIbiP2wor6G8huI/bCivobyG4j9sKK+hvIbiP2wor6G8huI/bCivobyG4j9sKK+hvIbiP2wor6G8huI/bCivobyG4j9sKK+hvIbiP2wor6G8huI/bCivobyG4j9sKK+hvIbiP2wor6G8huI/XkN5DeU15D9eQ3kN5TXkP15DeQ3lNeQ/XkN5DeU15D9eQ3kN5TXkP15DeQ3lNeQ/XkN5DeU15D9eQ3kN5TXkP15DeQ3lNeQ/XkN5DeU15D9eQ3kN5TXkP15DeQ3lNeQ/XkN5DeU15D9eQ3kN5TXkP15DeQ3lNeQ/XkN5DeU15D9eQ3kN5TXkP15DeQ3lNeQ/XkN5DeU15D9eQ3kN5TXkP1BeQ3kN5eU/UF5DeQ3l5T9QXkN5DeXlP1BeQ3kN5eU/UF5DeQ3l5T9QXkN5DeXlP1BeQ3kN5eU/UF5DeQ3l5T9QXkN5DeXlP1BeQ3kN5eU/UF5DeQ3l5T9QXkN5DeXlP1BeQ3kN5eU/UF5DeQ3l5T9QXkN5DeXlP1BeQ3kN5eU/UF5DeQ3l5T9QXkN5DeXlP1BeQ3kN5eU/UF5DeQ3l5T9DeQ3lNZTnP0N5DeU1lOc/Q3kN5TWU5z9DeQ3lNZTnP0N5DeU1lOc/Q3kN5TWU5z9DeQ3lNZTnP0N5DeU1lOc/Q3kN5TWU5z9DeQ3lNZTnP0N5DeU1lOc/Q3kN5TWU5z9DeQ3lNZTnP0N5DeU1lOc/Q3kN5TWU5z9DeQ3lNZTnP0N5DeU1lOc/Q3kN5TWU5z9DeQ3lNZTnP0N5DeU1lOc/NpTXUF5D6T82lNdQXkPpPzaU11BeQ+k/NpTXUF5D6T82lNdQXkPpPzaU11BeQ+k/NpTXUF5D6T82lNdQXkPpPzaU11BeQ+k/NpTXUF5D6T82lNdQXkPpPzaU11BeQ+k/NpTXUF5D6T82lNdQXkPpPzaU11BeQ+k/NpTXUF5D6T82lNdQXkPpPzaU11BeQ+k/NpTXUF5D6T82lNdQXkPpPyivobyG8uo/KK+hvIby6j8or6G8hvLqPyivobyG8uo/KK+hvIby6j8or6G8hvLqPyivobyG8uo/KK+hvIby6j8or6G8hvLqPyivobyG8uo/KK+hvIby6j8or6G8hvLqPyivobyG8uo/KK+hvIby6j8or6G8hvLqPyivobyG8uo/KK+hvIby6j8or6G8hvLqPyivobyG8uo/KK+hvIby6j8aymsor6HsPxrKayivoew/GsprKK+h7D8aymsor6HsPxrKayivoew/GsprKK+h7D8aymsor6HsPxrKayivoew/GsprKK+h7D8aymsor6HsPxrKayivoew/GsprKK+h7D8aymsor6HsPxrKayivoew/GsprKK+h7D8aymsor6HsPxrKayivoew/GsprKK+h7D8aymsor6HsPxrKayivoew/DeU1lNdQ7j8N5TWU11DuPw3lNZTXUO4/DeU1lNdQ7j8N5TWU11DuPw3lNZTXUO4/DeU1lNdQ7j8N5TWU11DuPw3lNZTXUO4/DeU1lNdQ7j8N5TWU11DuPw3lNZTXUO4/DeU1lNdQ7j8N5TWU11DuPw3lNZTXUO4/DeU1lNdQ7j8N5TWU11DuPw3lNZTXUO4/DeU1lNdQ7j8N5TWU11DuPwAAAAAAAPA/AAAAAAAA8D8AAAAAAADwPwAAAAAAAPA/AAAAAAAA8D8AAAAAAADwPwAAAAAAAPA/AAAAAAAA8D8AAAAAAADwPwAAAAAAAPA/AAAAAAAA8D8AAAAAAADwPwAAAAAAAPA/AAAAAAAA8D8AAAAAAADwPwAAAAAAAPA/AAAAAAAA8D8AAAAAAADwPwAAAAAAAPA/AAAAAAAA8D8=",
          "dtype": "f8",
          "shape": "20, 20"
         },
         "z": {
          "bdata": "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",
          "dtype": "f8",
          "shape": "20, 20"
         }
        },
        {
         "cmax": 46.71140670776367,
         "cmin": 0.43323537707328796,
         "colorscale": [
          [
           0,
           "#440154"
          ],
          [
           0.1111111111111111,
           "#482878"
          ],
          [
           0.2222222222222222,
           "#3e4989"
          ],
          [
           0.3333333333333333,
           "#31688e"
          ],
          [
           0.4444444444444444,
           "#26828e"
          ],
          [
           0.5555555555555556,
           "#1f9e89"
          ],
          [
           0.6666666666666666,
           "#35b779"
          ],
          [
           0.7777777777777778,
           "#6ece58"
          ],
          [
           0.8888888888888888,
           "#b5de2b"
          ],
          [
           1,
           "#fde725"
          ]
         ],
         "opacity": 0.7,
         "scene": "scene4",
         "showscale": false,
         "surfacecolor": {
          "bdata": "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",
          "dtype": "f4",
          "shape": "20, 20"
         },
         "type": "surface",
         "x": {
          "bdata": "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",
          "dtype": "f8",
          "shape": "20, 20"
         },
         "y": {
          "bdata": "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",
          "dtype": "f8",
          "shape": "20, 20"
         },
         "z": {
          "bdata": "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",
          "dtype": "f8",
          "shape": "20, 20"
         }
        },
        {
         "cmax": 46.71140670776367,
         "cmin": 0.43323537707328796,
         "colorscale": [
          [
           0,
           "#440154"
          ],
          [
           0.1111111111111111,
           "#482878"
          ],
          [
           0.2222222222222222,
           "#3e4989"
          ],
          [
           0.3333333333333333,
           "#31688e"
          ],
          [
           0.4444444444444444,
           "#26828e"
          ],
          [
           0.5555555555555556,
           "#1f9e89"
          ],
          [
           0.6666666666666666,
           "#35b779"
          ],
          [
           0.7777777777777778,
           "#6ece58"
          ],
          [
           0.8888888888888888,
           "#b5de2b"
          ],
          [
           1,
           "#fde725"
          ]
         ],
         "opacity": 0.7,
         "scene": "scene5",
         "showscale": false,
         "surfacecolor": {
          "bdata": "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",
          "dtype": "f4",
          "shape": "20, 20"
         },
         "type": "surface",
         "x": {
          "bdata": "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",
          "dtype": "f8",
          "shape": "20, 20"
         },
         "y": {
          "bdata": "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",
          "dtype": "f8",
          "shape": "20, 20"
         },
         "z": {
          "bdata": "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",
          "dtype": "f8",
          "shape": "20, 20"
         }
        }
       ],
       "layout": {
        "annotations": [
         {
          "font": {
           "size": 16
          },
          "showarrow": false,
          "text": "theta: 0",
          "x": 0.08399999999999999,
          "xanchor": "center",
          "xref": "paper",
          "y": 1,
          "yanchor": "bottom",
          "yref": "paper"
         },
         {
          "font": {
           "size": 16
          },
          "showarrow": false,
          "text": "theta: 0.25",
          "x": 0.292,
          "xanchor": "center",
          "xref": "paper",
          "y": 1,
          "yanchor": "bottom",
          "yref": "paper"
         },
         {
          "font": {
           "size": 16
          },
          "showarrow": false,
          "text": "theta: 0.5",
          "x": 0.5,
          "xanchor": "center",
          "xref": "paper",
          "y": 1,
          "yanchor": "bottom",
          "yref": "paper"
         },
         {
          "font": {
           "size": 16
          },
          "showarrow": false,
          "text": "theta: 0.75",
          "x": 0.708,
          "xanchor": "center",
          "xref": "paper",
          "y": 1,
          "yanchor": "bottom",
          "yref": "paper"
         },
         {
          "font": {
           "size": 16
          },
          "showarrow": false,
          "text": "theta: 1.0",
          "x": 0.9159999999999999,
          "xanchor": "center",
          "xref": "paper",
          "y": 1,
          "yanchor": "bottom",
          "yref": "paper"
         }
        ],
        "height": 400,
        "margin": {
         "b": 50,
         "l": 50,
         "r": 50,
         "t": 50
        },
        "scene": {
         "domain": {
          "x": [
           0,
           0.16799999999999998
          ],
          "y": [
           0,
           1
          ]
         },
         "xaxis": {
          "title": {
           "text": "n"
          }
         },
         "yaxis": {
          "title": {
           "text": "r"
          }
         },
         "zaxis": {
          "title": {
           "text": "t"
          }
         }
        },
        "scene2": {
         "domain": {
          "x": [
           0.208,
           0.376
          ],
          "y": [
           0,
           1
          ]
         },
         "xaxis": {
          "title": {
           "text": "n"
          }
         },
         "yaxis": {
          "title": {
           "text": "r"
          }
         },
         "zaxis": {
          "title": {
           "text": "t"
          }
         }
        },
        "scene3": {
         "domain": {
          "x": [
           0.416,
           0.584
          ],
          "y": [
           0,
           1
          ]
         },
         "xaxis": {
          "title": {
           "text": "n"
          }
         },
         "yaxis": {
          "title": {
           "text": "r"
          }
         },
         "zaxis": {
          "title": {
           "text": "t"
          }
         }
        },
        "scene4": {
         "domain": {
          "x": [
           0.624,
           0.792
          ],
          "y": [
           0,
           1
          ]
         },
         "xaxis": {
          "title": {
           "text": "n"
          }
         },
         "yaxis": {
          "title": {
           "text": "r"
          }
         },
         "zaxis": {
          "title": {
           "text": "t"
          }
         }
        },
        "scene5": {
         "domain": {
          "x": [
           0.832,
           1
          ],
          "y": [
           0,
           1
          ]
         },
         "xaxis": {
          "title": {
           "text": "n"
          }
         },
         "yaxis": {
          "title": {
           "text": "r"
          }
         },
         "zaxis": {
          "title": {
           "text": "t"
          }
         }
        },
        "template": {
         "data": {
          "bar": [
           {
            "error_x": {
             "color": "#2a3f5f"
            },
            "error_y": {
             "color": "#2a3f5f"
            },
            "marker": {
             "line": {
              "color": "#E5ECF6",
              "width": 0.5
             },
             "pattern": {
              "fillmode": "overlay",
              "size": 10,
              "solidity": 0.2
             }
            },
            "type": "bar"
           }
          ],
          "barpolar": [
           {
            "marker": {
             "line": {
              "color": "#E5ECF6",
              "width": 0.5
             },
             "pattern": {
              "fillmode": "overlay",
              "size": 10,
              "solidity": 0.2
             }
            },
            "type": "barpolar"
           }
          ],
          "carpet": [
           {
            "aaxis": {
             "endlinecolor": "#2a3f5f",
             "gridcolor": "white",
             "linecolor": "white",
             "minorgridcolor": "white",
             "startlinecolor": "#2a3f5f"
            },
            "baxis": {
             "endlinecolor": "#2a3f5f",
             "gridcolor": "white",
             "linecolor": "white",
             "minorgridcolor": "white",
             "startlinecolor": "#2a3f5f"
            },
            "type": "carpet"
           }
          ],
          "choropleth": [
           {
            "colorbar": {
             "outlinewidth": 0,
             "ticks": ""
            },
            "type": "choropleth"
           }
          ],
          "contour": [
           {
            "colorbar": {
             "outlinewidth": 0,
             "ticks": ""
            },
            "colorscale": [
             [
              0,
              "#0d0887"
             ],
             [
              0.1111111111111111,
              "#46039f"
             ],
             [
              0.2222222222222222,
              "#7201a8"
             ],
             [
              0.3333333333333333,
              "#9c179e"
             ],
             [
              0.4444444444444444,
              "#bd3786"
             ],
             [
              0.5555555555555556,
              "#d8576b"
             ],
             [
              0.6666666666666666,
              "#ed7953"
             ],
             [
              0.7777777777777778,
              "#fb9f3a"
             ],
             [
              0.8888888888888888,
              "#fdca26"
             ],
             [
              1,
              "#f0f921"
             ]
            ],
            "type": "contour"
           }
          ],
          "contourcarpet": [
           {
            "colorbar": {
             "outlinewidth": 0,
             "ticks": ""
            },
            "type": "contourcarpet"
           }
          ],
          "heatmap": [
           {
            "colorbar": {
             "outlinewidth": 0,
             "ticks": ""
            },
            "colorscale": [
             [
              0,
              "#0d0887"
             ],
             [
              0.1111111111111111,
              "#46039f"
             ],
             [
              0.2222222222222222,
              "#7201a8"
             ],
             [
              0.3333333333333333,
              "#9c179e"
             ],
             [
              0.4444444444444444,
              "#bd3786"
             ],
             [
              0.5555555555555556,
              "#d8576b"
             ],
             [
              0.6666666666666666,
              "#ed7953"
             ],
             [
              0.7777777777777778,
              "#fb9f3a"
             ],
             [
              0.8888888888888888,
              "#fdca26"
             ],
             [
              1,
              "#f0f921"
             ]
            ],
            "type": "heatmap"
           }
          ],
          "histogram": [
           {
            "marker": {
             "pattern": {
              "fillmode": "overlay",
              "size": 10,
              "solidity": 0.2
             }
            },
            "type": "histogram"
           }
          ],
          "histogram2d": [
           {
            "colorbar": {
             "outlinewidth": 0,
             "ticks": ""
            },
            "colorscale": [
             [
              0,
              "#0d0887"
             ],
             [
              0.1111111111111111,
              "#46039f"
             ],
             [
              0.2222222222222222,
              "#7201a8"
             ],
             [
              0.3333333333333333,
              "#9c179e"
             ],
             [
              0.4444444444444444,
              "#bd3786"
             ],
             [
              0.5555555555555556,
              "#d8576b"
             ],
             [
              0.6666666666666666,
              "#ed7953"
             ],
             [
              0.7777777777777778,
              "#fb9f3a"
             ],
             [
              0.8888888888888888,
              "#fdca26"
             ],
             [
              1,
              "#f0f921"
             ]
            ],
            "type": "histogram2d"
           }
          ],
          "histogram2dcontour": [
           {
            "colorbar": {
             "outlinewidth": 0,
             "ticks": ""
            },
            "colorscale": [
             [
              0,
              "#0d0887"
             ],
             [
              0.1111111111111111,
              "#46039f"
             ],
             [
              0.2222222222222222,
              "#7201a8"
             ],
             [
              0.3333333333333333,
              "#9c179e"
             ],
             [
              0.4444444444444444,
              "#bd3786"
             ],
             [
              0.5555555555555556,
              "#d8576b"
             ],
             [
              0.6666666666666666,
              "#ed7953"
             ],
             [
              0.7777777777777778,
              "#fb9f3a"
             ],
             [
              0.8888888888888888,
              "#fdca26"
             ],
             [
              1,
              "#f0f921"
             ]
            ],
            "type": "histogram2dcontour"
           }
          ],
          "mesh3d": [
           {
            "colorbar": {
             "outlinewidth": 0,
             "ticks": ""
            },
            "type": "mesh3d"
           }
          ],
          "parcoords": [
           {
            "line": {
             "colorbar": {
              "outlinewidth": 0,
              "ticks": ""
             }
            },
            "type": "parcoords"
           }
          ],
          "pie": [
           {
            "automargin": true,
            "type": "pie"
           }
          ],
          "scatter": [
           {
            "fillpattern": {
             "fillmode": "overlay",
             "size": 10,
             "solidity": 0.2
            },
            "type": "scatter"
           }
          ],
          "scatter3d": [
           {
            "line": {
             "colorbar": {
              "outlinewidth": 0,
              "ticks": ""
             }
            },
            "marker": {
             "colorbar": {
              "outlinewidth": 0,
              "ticks": ""
             }
            },
            "type": "scatter3d"
           }
          ],
          "scattercarpet": [
           {
            "marker": {
             "colorbar": {
              "outlinewidth": 0,
              "ticks": ""
             }
            },
            "type": "scattercarpet"
           }
          ],
          "scattergeo": [
           {
            "marker": {
             "colorbar": {
              "outlinewidth": 0,
              "ticks": ""
             }
            },
            "type": "scattergeo"
           }
          ],
          "scattergl": [
           {
            "marker": {
             "colorbar": {
              "outlinewidth": 0,
              "ticks": ""
             }
            },
            "type": "scattergl"
           }
          ],
          "scattermap": [
           {
            "marker": {
             "colorbar": {
              "outlinewidth": 0,
              "ticks": ""
             }
            },
            "type": "scattermap"
           }
          ],
          "scattermapbox": [
           {
            "marker": {
             "colorbar": {
              "outlinewidth": 0,
              "ticks": ""
             }
            },
            "type": "scattermapbox"
           }
          ],
          "scatterpolar": [
           {
            "marker": {
             "colorbar": {
              "outlinewidth": 0,
              "ticks": ""
             }
            },
            "type": "scatterpolar"
           }
          ],
          "scatterpolargl": [
           {
            "marker": {
             "colorbar": {
              "outlinewidth": 0,
              "ticks": ""
             }
            },
            "type": "scatterpolargl"
           }
          ],
          "scatterternary": [
           {
            "marker": {
             "colorbar": {
              "outlinewidth": 0,
              "ticks": ""
             }
            },
            "type": "scatterternary"
           }
          ],
          "surface": [
           {
            "colorbar": {
             "outlinewidth": 0,
             "ticks": ""
            },
            "colorscale": [
             [
              0,
              "#0d0887"
             ],
             [
              0.1111111111111111,
              "#46039f"
             ],
             [
              0.2222222222222222,
              "#7201a8"
             ],
             [
              0.3333333333333333,
              "#9c179e"
             ],
             [
              0.4444444444444444,
              "#bd3786"
             ],
             [
              0.5555555555555556,
              "#d8576b"
             ],
             [
              0.6666666666666666,
              "#ed7953"
             ],
             [
              0.7777777777777778,
              "#fb9f3a"
             ],
             [
              0.8888888888888888,
              "#fdca26"
             ],
             [
              1,
              "#f0f921"
             ]
            ],
            "type": "surface"
           }
          ],
          "table": [
           {
            "cells": {
             "fill": {
              "color": "#EBF0F8"
             },
             "line": {
              "color": "white"
             }
            },
            "header": {
             "fill": {
              "color": "#C8D4E3"
             },
             "line": {
              "color": "white"
             }
            },
            "type": "table"
           }
          ]
         },
         "layout": {
          "annotationdefaults": {
           "arrowcolor": "#2a3f5f",
           "arrowhead": 0,
           "arrowwidth": 1
          },
          "autotypenumbers": "strict",
          "coloraxis": {
           "colorbar": {
            "outlinewidth": 0,
            "ticks": ""
           }
          },
          "colorscale": {
           "diverging": [
            [
             0,
             "#8e0152"
            ],
            [
             0.1,
             "#c51b7d"
            ],
            [
             0.2,
             "#de77ae"
            ],
            [
             0.3,
             "#f1b6da"
            ],
            [
             0.4,
             "#fde0ef"
            ],
            [
             0.5,
             "#f7f7f7"
            ],
            [
             0.6,
             "#e6f5d0"
            ],
            [
             0.7,
             "#b8e186"
            ],
            [
             0.8,
             "#7fbc41"
            ],
            [
             0.9,
             "#4d9221"
            ],
            [
             1,
             "#276419"
            ]
           ],
           "sequential": [
            [
             0,
             "#0d0887"
            ],
            [
             0.1111111111111111,
             "#46039f"
            ],
            [
             0.2222222222222222,
             "#7201a8"
            ],
            [
             0.3333333333333333,
             "#9c179e"
            ],
            [
             0.4444444444444444,
             "#bd3786"
            ],
            [
             0.5555555555555556,
             "#d8576b"
            ],
            [
             0.6666666666666666,
             "#ed7953"
            ],
            [
             0.7777777777777778,
             "#fb9f3a"
            ],
            [
             0.8888888888888888,
             "#fdca26"
            ],
            [
             1,
             "#f0f921"
            ]
           ],
           "sequentialminus": [
            [
             0,
             "#0d0887"
            ],
            [
             0.1111111111111111,
             "#46039f"
            ],
            [
             0.2222222222222222,
             "#7201a8"
            ],
            [
             0.3333333333333333,
             "#9c179e"
            ],
            [
             0.4444444444444444,
             "#bd3786"
            ],
            [
             0.5555555555555556,
             "#d8576b"
            ],
            [
             0.6666666666666666,
             "#ed7953"
            ],
            [
             0.7777777777777778,
             "#fb9f3a"
            ],
            [
             0.8888888888888888,
             "#fdca26"
            ],
            [
             1,
             "#f0f921"
            ]
           ]
          },
          "colorway": [
           "#636efa",
           "#EF553B",
           "#00cc96",
           "#ab63fa",
           "#FFA15A",
           "#19d3f3",
           "#FF6692",
           "#B6E880",
           "#FF97FF",
           "#FECB52"
          ],
          "font": {
           "color": "#2a3f5f"
          },
          "geo": {
           "bgcolor": "white",
           "lakecolor": "white",
           "landcolor": "#E5ECF6",
           "showlakes": true,
           "showland": true,
           "subunitcolor": "white"
          },
          "hoverlabel": {
           "align": "left"
          },
          "hovermode": "closest",
          "mapbox": {
           "style": "light"
          },
          "paper_bgcolor": "white",
          "plot_bgcolor": "#E5ECF6",
          "polar": {
           "angularaxis": {
            "gridcolor": "white",
            "linecolor": "white",
            "ticks": ""
           },
           "bgcolor": "#E5ECF6",
           "radialaxis": {
            "gridcolor": "white",
            "linecolor": "white",
            "ticks": ""
           }
          },
          "scene": {
           "xaxis": {
            "backgroundcolor": "#E5ECF6",
            "gridcolor": "white",
            "gridwidth": 2,
            "linecolor": "white",
            "showbackground": true,
            "ticks": "",
            "zerolinecolor": "white"
           },
           "yaxis": {
            "backgroundcolor": "#E5ECF6",
            "gridcolor": "white",
            "gridwidth": 2,
            "linecolor": "white",
            "showbackground": true,
            "ticks": "",
            "zerolinecolor": "white"
           },
           "zaxis": {
            "backgroundcolor": "#E5ECF6",
            "gridcolor": "white",
            "gridwidth": 2,
            "linecolor": "white",
            "showbackground": true,
            "ticks": "",
            "zerolinecolor": "white"
           }
          },
          "shapedefaults": {
           "line": {
            "color": "#2a3f5f"
           }
          },
          "ternary": {
           "aaxis": {
            "gridcolor": "white",
            "linecolor": "white",
            "ticks": ""
           },
           "baxis": {
            "gridcolor": "white",
            "linecolor": "white",
            "ticks": ""
           },
           "bgcolor": "#E5ECF6",
           "caxis": {
            "gridcolor": "white",
            "linecolor": "white",
            "ticks": ""
           }
          },
          "title": {
           "x": 0.05
          },
          "xaxis": {
           "automargin": true,
           "gridcolor": "white",
           "linecolor": "white",
           "ticks": "",
           "title": {
            "standoff": 15
           },
           "zerolinecolor": "white",
           "zerolinewidth": 2
          },
          "yaxis": {
           "automargin": true,
           "gridcolor": "white",
           "linecolor": "white",
           "ticks": "",
           "title": {
            "standoff": 15
           },
           "zerolinecolor": "white",
           "zerolinewidth": 2
          }
         }
        },
        "width": 1300
       }
      }
     },
     "metadata": {},
     "output_type": "display_data"
    }
   ],
   "source": [
    "# 1. Define the bounds for the GP model\n",
    "dtype = torch.float32\n",
    "original_bounds = torch.tensor([[x_all[:,0].min(), x_all[:,1].min(), x_all[:,2].min(), x_all[:,3].min()], [x_all[:,0].max(), x_all[:,1].max(), x_all[:,2].max(), x_all[:,3].max()]])\n",
    "nx_all = normalize(x_all, bounds=original_bounds)\n",
    "# 2. Create the GP model\n",
    "gp_model = GaussianProcessModel(x_train = nx_all, y_train = y_all, yvar_train=yvar_all, bounds=original_bounds)\n",
    "\n",
    "# 3. Define your slicing combination\n",
    "variable_combinations = [('n', 'r', 't')]#('theta', 'r', 't'), ('n', 't', 'theta')\n",
    "\n",
    "# 4. Instantiate the plotting utility\n",
    "plotter = Plotting(gp_model, variable_combinations)\n",
    "\n",
    "# 5. Define min/max range for colorbar\n",
    "minmax = [torch.min(y_all), torch.max(y_all)]\n",
    "\n",
    "# 6. Plot!\n",
    "plotter.sliced_plotting(variable_combinations[0], minmax)"
   ]
  },
  {
   "cell_type": "code",
   "execution_count": 9,
   "metadata": {},
   "outputs": [
    {
     "data": {
      "application/vnd.jupyter.widget-view+json": {
       "model_id": "474081cadbc143919177da61cb534389",
       "version_major": 2,
       "version_minor": 0
      },
      "text/plain": [
       "  0%|          | 0/600 [00:00<?, ?it/s]"
      ]
     },
     "metadata": {},
     "output_type": "display_data"
    },
    {
     "data": {
      "image/png": "[encoded data removed]",
      "text/plain": [
       "<Figure size 800x310 with 2 Axes>"
      ]
     },
     "metadata": {},
     "output_type": "display_data"
    }
   ],
   "source": [
    "# add shap \n",
    "import shap\n",
    "from sklearn.preprocessing import StandardScaler\n",
    "\n",
    "# Step 1: Fit the GP model\n",
    "gp_full = gp_model.model\n",
    "\n",
    "# Step 2: Prepare the prediction wrapper for SHAP\n",
    "def gp_predict(X_scaled_np):\n",
    "    X_scaled_torch = torch.tensor(X_scaled_np, dtype=torch.float32)\n",
    "    gp_full.eval()\n",
    "    with torch.no_grad():\n",
    "        posterior = gp_full.posterior(X_scaled_torch)\n",
    "    return posterior.mean.squeeze(-1).numpy()\n",
    "\n",
    "# Step 3: Normalize the inputs\n",
    "scaler = StandardScaler()\n",
    "x_all_np = x_all .numpy()\n",
    "x_all_scaled = scaler.fit_transform(x_all_np)\n",
    "\n",
    "# Step 4: Run SHAP (KernelExplainer)\n",
    "explainer = shap.KernelExplainer(gp_predict, x_all_scaled[:100])  # background dataset\n",
    "shap_values = explainer.shap_values(x_all_scaled)\n",
    "\n",
    "# Step 5: Plot SHAP summary\n",
    "# Create a matplotlib figure with square aspect ratio\n",
    "import matplotlib.pyplot as plt\n",
    "\n",
    "fig = plt.figure(figsize=(8, 8))\n",
    "shap.summary_plot(shap_values, x_all_scaled, feature_names=[\"n\", \"Theta\", \"r\", \"t\"], show=False)\n",
    "# plt.gca().set_box_aspect(1)\n",
    "plt.show()\n",
    "\n",
    "\n"
   ]
  },
  {
   "cell_type": "code",
   "execution_count": 13,
   "metadata": {},
   "outputs": [
    {
     "data": {
      "image/png": "[encoded data removed]",
      "text/plain": [
       "<Figure size 800x310 with 2 Axes>"
      ]
     },
     "metadata": {},
     "output_type": "display_data"
    }
   ],
   "source": [
    "fig = plt.figure(figsize=(8, 8))\n",
    "shap.summary_plot(shap_values, x_all_scaled, feature_names=[\"n\", \"Theta\", \"r\", \"t\"], show=False)\n",
    "plt.gca().set_box_aspect(0.7)\n",
    "plt.show()"
   ]
  }
 ],
 "metadata": {
  "kernelspec": {
   "display_name": "Python 3",
   "language": "python",
   "name": "python3"
  },
  "language_info": {
   "codemirror_mode": {
    "name": "ipython",
    "version": 3
   },
   "file_extension": ".py",
   "mimetype": "text/x-python",
   "name": "python",
   "nbconvert_exporter": "python",
   "pygments_lexer": "ipython3",
   "version": "3.11.8"
  }
 },
 "nbformat": 4,
 "nbformat_minor": 2
}
