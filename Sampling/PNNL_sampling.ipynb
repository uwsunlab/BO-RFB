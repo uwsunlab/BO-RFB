{
 "cells": [
  {
   "cell_type": "code",
   "execution_count": 1,
   "metadata": {
    "colab": {
     "base_uri": "https://localhost:8080/"
    },
    "executionInfo": {
     "elapsed": 31771,
     "status": "ok",
     "timestamp": 1708465526365,
     "user": {
      "displayName": "Clara Naomi Clarant2@UW.Edu",
      "userId": "16598945088626183856"
     },
     "user_tz": 480
    },
    "id": "fxskbu9E6_2d",
    "outputId": "3068151c-b6cf-427d-8523-63250cda4f20"
   },
   "outputs": [],
   "source": [
    "# !pip install pyDOE\n",
    "# !pip install smt"
   ]
  },
  {
   "cell_type": "code",
   "execution_count": 2,
   "metadata": {
    "executionInfo": {
     "elapsed": 2211,
     "status": "ok",
     "timestamp": 1708465528574,
     "user": {
      "displayName": "Clara Naomi Clarant2@UW.Edu",
      "userId": "16598945088626183856"
     },
     "user_tz": 480
    },
    "id": "mI387OHRueE5"
   },
   "outputs": [],
   "source": [
    "# Support for math\n",
    "import numpy as np\n",
    "import math\n",
    "\n",
    "# Plotting tools\n",
    "from matplotlib import pyplot as plt\n",
    "import matplotlib as mplt\n",
    "\n",
    "import warnings\n",
    "warnings.filterwarnings('ignore')\n",
    "\n",
    "# GPy: Gaussian processes library\n",
    "from sklearn.gaussian_process import GaussianProcessRegressor\n",
    "from sklearn.gaussian_process.kernels import RBF\n",
    "\n",
    "#Data frames tools\n",
    "import pandas as pd\n",
    "\n",
    "#LHS sampling\n",
    "from pyDOE import lhs\n"
   ]
  },
  {
   "cell_type": "code",
   "execution_count": 3,
   "metadata": {
    "colab": {
     "base_uri": "https://localhost:8080/"
    },
    "executionInfo": {
     "elapsed": 4,
     "status": "ok",
     "timestamp": 1708465528574,
     "user": {
      "displayName": "Clara Naomi Clarant2@UW.Edu",
      "userId": "16598945088626183856"
     },
     "user_tz": 480
    },
    "id": "wDC8z-Rd3yE1",
    "outputId": "a9532903-7f11-4848-ecbc-bbdc0145d0bb"
   },
   "outputs": [
    {
     "data": {
      "text/html": [
       "<div>\n",
       "<style scoped>\n",
       "    .dataframe tbody tr th:only-of-type {\n",
       "        vertical-align: middle;\n",
       "    }\n",
       "\n",
       "    .dataframe tbody tr th {\n",
       "        vertical-align: top;\n",
       "    }\n",
       "\n",
       "    .dataframe thead th {\n",
       "        text-align: right;\n",
       "    }\n",
       "</style>\n",
       "<table border=\"1\" class=\"dataframe\">\n",
       "  <thead>\n",
       "    <tr style=\"text-align: right;\">\n",
       "      <th></th>\n",
       "      <th>sulf</th>\n",
       "      <th>anly</th>\n",
       "      <th>temp</th>\n",
       "      <th>time</th>\n",
       "    </tr>\n",
       "  </thead>\n",
       "  <tbody>\n",
       "    <tr>\n",
       "      <th>0</th>\n",
       "      <td>85.0</td>\n",
       "      <td>70.0</td>\n",
       "      <td>25.0</td>\n",
       "      <td>466.0</td>\n",
       "    </tr>\n",
       "    <tr>\n",
       "      <th>1</th>\n",
       "      <td>82.0</td>\n",
       "      <td>62.0</td>\n",
       "      <td>75.0</td>\n",
       "      <td>239.0</td>\n",
       "    </tr>\n",
       "    <tr>\n",
       "      <th>2</th>\n",
       "      <td>79.0</td>\n",
       "      <td>88.0</td>\n",
       "      <td>165.0</td>\n",
       "      <td>543.0</td>\n",
       "    </tr>\n",
       "    <tr>\n",
       "      <th>3</th>\n",
       "      <td>99.0</td>\n",
       "      <td>53.0</td>\n",
       "      <td>35.0</td>\n",
       "      <td>505.0</td>\n",
       "    </tr>\n",
       "    <tr>\n",
       "      <th>4</th>\n",
       "      <td>89.0</td>\n",
       "      <td>84.0</td>\n",
       "      <td>65.0</td>\n",
       "      <td>49.0</td>\n",
       "    </tr>\n",
       "    <tr>\n",
       "      <th>5</th>\n",
       "      <td>92.0</td>\n",
       "      <td>75.0</td>\n",
       "      <td>105.0</td>\n",
       "      <td>315.0</td>\n",
       "    </tr>\n",
       "    <tr>\n",
       "      <th>6</th>\n",
       "      <td>80.0</td>\n",
       "      <td>39.0</td>\n",
       "      <td>85.0</td>\n",
       "      <td>125.0</td>\n",
       "    </tr>\n",
       "    <tr>\n",
       "      <th>7</th>\n",
       "      <td>90.0</td>\n",
       "      <td>57.0</td>\n",
       "      <td>125.0</td>\n",
       "      <td>163.0</td>\n",
       "    </tr>\n",
       "    <tr>\n",
       "      <th>8</th>\n",
       "      <td>94.0</td>\n",
       "      <td>66.0</td>\n",
       "      <td>155.0</td>\n",
       "      <td>353.0</td>\n",
       "    </tr>\n",
       "    <tr>\n",
       "      <th>9</th>\n",
       "      <td>77.0</td>\n",
       "      <td>93.0</td>\n",
       "      <td>55.0</td>\n",
       "      <td>277.0</td>\n",
       "    </tr>\n",
       "    <tr>\n",
       "      <th>10</th>\n",
       "      <td>75.0</td>\n",
       "      <td>79.0</td>\n",
       "      <td>145.0</td>\n",
       "      <td>201.0</td>\n",
       "    </tr>\n",
       "    <tr>\n",
       "      <th>11</th>\n",
       "      <td>95.0</td>\n",
       "      <td>97.0</td>\n",
       "      <td>115.0</td>\n",
       "      <td>87.0</td>\n",
       "    </tr>\n",
       "    <tr>\n",
       "      <th>12</th>\n",
       "      <td>84.0</td>\n",
       "      <td>48.0</td>\n",
       "      <td>45.0</td>\n",
       "      <td>429.0</td>\n",
       "    </tr>\n",
       "    <tr>\n",
       "      <th>13</th>\n",
       "      <td>97.0</td>\n",
       "      <td>35.0</td>\n",
       "      <td>135.0</td>\n",
       "      <td>391.0</td>\n",
       "    </tr>\n",
       "    <tr>\n",
       "      <th>14</th>\n",
       "      <td>87.0</td>\n",
       "      <td>44.0</td>\n",
       "      <td>95.0</td>\n",
       "      <td>581.0</td>\n",
       "    </tr>\n",
       "  </tbody>\n",
       "</table>\n",
       "</div>"
      ],
      "text/plain": [
       "    sulf  anly   temp   time\n",
       "0   85.0  70.0   25.0  466.0\n",
       "1   82.0  62.0   75.0  239.0\n",
       "2   79.0  88.0  165.0  543.0\n",
       "3   99.0  53.0   35.0  505.0\n",
       "4   89.0  84.0   65.0   49.0\n",
       "5   92.0  75.0  105.0  315.0\n",
       "6   80.0  39.0   85.0  125.0\n",
       "7   90.0  57.0  125.0  163.0\n",
       "8   94.0  66.0  155.0  353.0\n",
       "9   77.0  93.0   55.0  277.0\n",
       "10  75.0  79.0  145.0  201.0\n",
       "11  95.0  97.0  115.0   87.0\n",
       "12  84.0  48.0   45.0  429.0\n",
       "13  97.0  35.0  135.0  391.0\n",
       "14  87.0  44.0   95.0  581.0"
      ]
     },
     "execution_count": 3,
     "metadata": {},
     "output_type": "execute_result"
    }
   ],
   "source": [
    "from smt.sampling_methods import LHS\n",
    "import random\n",
    "\n",
    "#xlimits = np.array([[0.0, 4.0], [0.0, 3.0],[0.0,3.0],[0.0,3.0]])\n",
    "xlimits = np.array([[75.0, 100.0], [33.0, 100.0],[20.0,170.0],[30.0,600.0]])\n",
    "sampling = LHS(xlimits=xlimits,random_state = np.random.RandomState(0))\n",
    "\n",
    "num = 15\n",
    "x = sampling(num)\n",
    "\n",
    "lhs_data = pd.DataFrame(x, columns=['sulf', 'anly', 'temp','time'])//1\n",
    "lhs_data\n",
    "\n",
    "# lhs_std_dev = np.std(x)\n",
    "# lhs_var_dev = np.var(x)\n"
   ]
  },
  {
   "cell_type": "markdown",
   "metadata": {
    "id": "4Ft4K_y6oc57"
   },
   "source": [
    "STEP2: Clustering"
   ]
  },
  {
   "cell_type": "code",
   "execution_count": 4,
   "metadata": {
    "colab": {
     "base_uri": "https://localhost:8080/",
     "height": 481
    },
    "executionInfo": {
     "elapsed": 2832,
     "status": "ok",
     "timestamp": 1708465555898,
     "user": {
      "displayName": "Clara Naomi Clarant2@UW.Edu",
      "userId": "16598945088626183856"
     },
     "user_tz": 480
    },
    "id": "aBKd-h7BofIF",
    "outputId": "3ee8f174-076c-4980-8d92-6dcaf1ed4191"
   },
   "outputs": [
    {
     "name": "stdout",
     "output_type": "stream",
     "text": [
      "Centroids of Temperature Clusters:\n",
      "[[105.]\n",
      " [ 50.]\n",
      " [150.]]\n"
     ]
    }
   ],
   "source": [
    "from sklearn.cluster import KMeans\n",
    "from sklearn.preprocessing import StandardScaler\n",
    "\n",
    "\n",
    "# Select the 'temp' column for clustering\n",
    "temp_data = lhs_data[['temp']]\n",
    "\n",
    "# Standardize the data (important for K-Means)\n",
    "scaler = StandardScaler()\n",
    "temp_data_scaled = scaler.fit_transform(temp_data)\n",
    "\n",
    "# Choose the number of clusters\n",
    "num_clusters = 3\n",
    "\n",
    "# Apply K-Means clustering\n",
    "kmeans = KMeans(n_clusters=num_clusters, random_state=42)\n",
    "lhs_data['temp_cluster'] = kmeans.fit_predict(temp_data_scaled)\n",
    "\n",
    "# Get cluster assignments and centroids\n",
    "cluster_assignments = kmeans.labels_\n",
    "\n",
    "# Get the centroids\n",
    "centroids = scaler.inverse_transform(kmeans.cluster_centers_)\n",
    "\n",
    "# Display the centroids\n",
    "print(\"Centroids of Temperature Clusters:\")\n",
    "print(centroids)\n"
   ]
  },
  {
   "cell_type": "code",
   "execution_count": 8,
   "metadata": {},
   "outputs": [
    {
     "data": {
      "image/png": "[encoded data removed]",
      "text/plain": [
       "<Figure size 640x480 with 1 Axes>"
      ]
     },
     "metadata": {},
     "output_type": "display_data"
    }
   ],
   "source": [
    "fig = plt.figure()\n",
    "ax = fig.add_subplot(111, projection='3d')\n",
    "\n",
    "# Plot the clustered data points\n",
    "ax.scatter(lhs_data['sulf'], lhs_data['anly'], lhs_data['time'], c=lhs_data['temp_cluster'], cmap='viridis', marker='o')\n",
    "\n",
    "# Plot the centroids\n",
    "#ax.scatter(centroids[:, 0], centroids[:, 1], centroids[:, 2], c='red', marker='X', s=200, label='Centroids')\n",
    "\n",
    "ax.set_xlabel('sulf')\n",
    "ax.set_ylabel('anly')\n",
    "ax.set_zlabel('time')\n",
    "ax.legend()\n",
    "plt.show()"
   ]
  },
  {
   "cell_type": "code",
   "execution_count": null,
   "metadata": {},
   "outputs": [
    {
     "ename": "NameError",
     "evalue": "name 'plt' is not defined",
     "output_type": "error",
     "traceback": [
      "\u001b[0;31m---------------------------------------------------------------------------\u001b[0m",
      "\u001b[0;31mNameError\u001b[0m                                 Traceback (most recent call last)",
      "Cell \u001b[0;32mIn[1], line 26\u001b[0m\n\u001b[1;32m      1\u001b[0m \u001b[38;5;66;03m# # Visualize the clusters\u001b[39;00m\n\u001b[1;32m      2\u001b[0m \u001b[38;5;66;03m# fig = plt.figure(figsize=(15,4))\u001b[39;00m\n\u001b[1;32m      3\u001b[0m \n\u001b[0;32m   (...)\u001b[0m\n\u001b[1;32m     23\u001b[0m \u001b[38;5;66;03m# plt.ylabel('Volume')\u001b[39;00m\n\u001b[1;32m     24\u001b[0m \u001b[38;5;66;03m# plt.title('Clusters based on Temperature')\u001b[39;00m\n\u001b[0;32m---> 26\u001b[0m \u001b[43mplt\u001b[49m\u001b[38;5;241m.\u001b[39mshow()\n\u001b[1;32m     27\u001b[0m \u001b[38;5;66;03m# Loop through the columns to create subplots\u001b[39;00m\n\u001b[1;32m     28\u001b[0m columns \u001b[38;5;241m=\u001b[39m [\u001b[38;5;124m'\u001b[39m\u001b[38;5;124mtime\u001b[39m\u001b[38;5;124m'\u001b[39m, \u001b[38;5;124m'\u001b[39m\u001b[38;5;124msulf\u001b[39m\u001b[38;5;124m'\u001b[39m, \u001b[38;5;124m'\u001b[39m\u001b[38;5;124manly\u001b[39m\u001b[38;5;124m'\u001b[39m]\n",
      "\u001b[0;31mNameError\u001b[0m: name 'plt' is not defined"
     ]
    }
   ],
   "source": [
    "# # Visualize the clusters\n",
    "# fig = plt.figure(figsize=(15,4))\n",
    "\n",
    "# plt.subplot(1,3,1)\n",
    "# plt.scatter(lhs_data['temp'], lhs_data['time'], c=lhs_data['temp_cluster'], cmap='viridis')\n",
    "# plt.vlines(centroids,0,600, color = 'tab:grey',linestyle='dashed')\n",
    "# plt.xlabel('Temperature')\n",
    "# plt.ylabel('Time')\n",
    "# plt.title('Clusters based on Temperature')\n",
    "\n",
    "# plt.subplot(1,3,2)\n",
    "# plt.scatter(lhs_data['temp'], lhs_data['sulf'], c=lhs_data['temp_cluster'], cmap='viridis')\n",
    "# plt.vlines(centroids,75,100, color = 'tab:grey',linestyle='dashed')\n",
    "# plt.xlabel('Temperature')\n",
    "# plt.ylabel('sulfentration')\n",
    "# plt.title('Clusters based on Temperature')\n",
    "\n",
    "\n",
    "# plt.subplot(1,3,3)\n",
    "# plt.scatter(lhs_data['temp'], lhs_data['anly'], c=lhs_data['temp_cluster'], cmap='viridis')\n",
    "# plt.vlines(centroids,35,100, color = 'tab:grey',linestyle='dashed')\n",
    "# plt.xlabel('Temperature')\n",
    "# plt.ylabel('Volume')\n",
    "# plt.title('Clusters based on Temperature')\n",
    "\n",
    "# Loop through the columns to create subplots\n",
    "columns = ['time', 'sulf', 'anly']\n",
    "y_labels = ['Time', 'sulfentration', 'Volume']\n",
    "y_lims = [(0, 600), (75, 100), (35, 100)]\n",
    "\n",
    "for i, col in enumerate(columns):\n",
    "    plt.subplot(1, 3, i+1)\n",
    "    plt.scatter(lhs_data['temp'], lhs_data[col], c=lhs_data['temp_cluster'], cmap='viridis')\n",
    "    plt.vlines(centroids, y_lims[i][0], y_lims[i][1], color='tab:grey', linestyle='dashed')\n",
    "    plt.xlabel('Temperature')\n",
    "    plt.ylabel(y_labels[i])\n",
    "    plt.title(f'Clusters based on Temperature and {y_labels[i]}')\n",
    "\n",
    "plt.show()"
   ]
  }
 ],
 "metadata": {
  "colab": {
   "authorship_tag": "ABX9TyMFZBiH6iCgqI2Zr1wd4I4w",
   "provenance": []
  },
  "kernelspec": {
   "display_name": "Python 3",
   "name": "python3"
  },
  "language_info": {
   "codemirror_mode": {
    "name": "ipython",
    "version": 3
   },
   "file_extension": ".py",
   "mimetype": "text/x-python",
   "name": "python",
   "nbconvert_exporter": "python",
   "pygments_lexer": "ipython3",
   "version": "3.9.6"
  }
 },
 "nbformat": 4,
 "nbformat_minor": 0
}
