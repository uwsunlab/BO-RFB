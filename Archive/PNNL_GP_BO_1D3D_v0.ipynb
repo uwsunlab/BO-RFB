{
 "cells": [
  {
   "cell_type": "code",
   "execution_count": 22,
   "metadata": {},
   "outputs": [],
   "source": [
    "# Support for math\n",
    "import numpy as np\n",
    "import math\n",
    "\n",
    "# Plotting tools\n",
    "from matplotlib import pyplot as plt\n",
    "import matplotlib\n",
    "\n",
    "import warnings\n",
    "warnings.filterwarnings('ignore')\n",
    "\n",
    "#File Tools for local\n",
    "import pandas as pd\n",
    "\n",
    "#Sampling\n",
    "from pyDOE import lhs"
   ]
  },
  {
   "cell_type": "code",
   "execution_count": 23,
   "metadata": {},
   "outputs": [],
   "source": [
    "import torch\n",
    "from botorch.models import SingleTaskGP\n",
    "from botorch.fit import fit_gpytorch_model\n",
    "from gpytorch.mlls import ExactMarginalLogLikelihood\n",
    "from botorch.acquisition import qExpectedImprovement\n",
    "from botorch.optim import optimize_acqf\n",
    "from botorch.models.deterministic import PosteriorMeanModel\n",
    "from botorch.acquisition import ExpectedImprovement\n",
    "from botorch.acquisition.utils import get_infeasible_cost\n",
    "from botorch.acquisition.objective import PosteriorTransform\n",
    "from botorch.acquisition.analytic import UpperConfidenceBound\n",
    "from botorch.acquisition import AcquisitionFunction\n",
    "from botorch.acquisition.analytic import LogProbabilityOfImprovement\n",
    "from botorch.acquisition.analytic import ProbabilityOfImprovement\n",
    "from botorch.acquisition.analytic import PosteriorMean\n",
    "from botorch.acquisition import qUpperConfidenceBound\n",
    "\n",
    "#from botorch.transforms import Standardize\n",
    "#from botorch.utils.transforms import euclidean_distance\n",
    "\n"
   ]
  },
  {
   "cell_type": "code",
   "execution_count": 24,
   "metadata": {},
   "outputs": [
    {
     "name": "stdout",
     "output_type": "stream",
     "text": [
      "cpu\n"
     ]
    }
   ],
   "source": [
    "device = torch.device(\"cuda\" if torch.cuda.is_available() else \"cpu\")\n",
    "print(device)\n",
    "dtype = torch.float32"
   ]
  },
  {
   "cell_type": "markdown",
   "metadata": {},
   "source": [
    "# Output"
   ]
  },
  {
   "cell_type": "code",
   "execution_count": 25,
   "metadata": {},
   "outputs": [],
   "source": [
    "from PNNL_spectra_extract import data_102119\n",
    "#data_102119.head(16)[['time','temp','analyte','yield product']]\n",
    "# /Users/clarat/Documents/Sun_Lab/PNNL/PNNL_spectra_extract\n",
    "# %run /Users/clarat/Documents/Sun_Lab/PNNL/PNNL_spectra_extract"
   ]
  },
  {
   "cell_type": "code",
   "execution_count": 26,
   "metadata": {},
   "outputs": [
    {
     "data": {
      "text/html": [
       "<div>\n",
       "<style scoped>\n",
       "    .dataframe tbody tr th:only-of-type {\n",
       "        vertical-align: middle;\n",
       "    }\n",
       "\n",
       "    .dataframe tbody tr th {\n",
       "        vertical-align: top;\n",
       "    }\n",
       "\n",
       "    .dataframe thead th {\n",
       "        text-align: right;\n",
       "    }\n",
       "</style>\n",
       "<table border=\"1\" class=\"dataframe\">\n",
       "  <thead>\n",
       "    <tr style=\"text-align: right;\">\n",
       "      <th></th>\n",
       "      <th>time</th>\n",
       "      <th>temp</th>\n",
       "      <th>sulf</th>\n",
       "      <th>analyte</th>\n",
       "      <th>yield product</th>\n",
       "    </tr>\n",
       "  </thead>\n",
       "  <tbody>\n",
       "    <tr>\n",
       "      <th>0</th>\n",
       "      <td>49</td>\n",
       "      <td>45.0</td>\n",
       "      <td>89.0</td>\n",
       "      <td>84.0</td>\n",
       "      <td>0.009903</td>\n",
       "    </tr>\n",
       "    <tr>\n",
       "      <th>1</th>\n",
       "      <td>87</td>\n",
       "      <td>95.0</td>\n",
       "      <td>95.0</td>\n",
       "      <td>97.0</td>\n",
       "      <td>0.103900</td>\n",
       "    </tr>\n",
       "    <tr>\n",
       "      <th>2</th>\n",
       "      <td>125</td>\n",
       "      <td>95.0</td>\n",
       "      <td>80.0</td>\n",
       "      <td>39.0</td>\n",
       "      <td>0.033182</td>\n",
       "    </tr>\n",
       "    <tr>\n",
       "      <th>3</th>\n",
       "      <td>163</td>\n",
       "      <td>145.0</td>\n",
       "      <td>90.0</td>\n",
       "      <td>57.0</td>\n",
       "      <td>0.777693</td>\n",
       "    </tr>\n",
       "    <tr>\n",
       "      <th>4</th>\n",
       "      <td>201</td>\n",
       "      <td>145.0</td>\n",
       "      <td>75.0</td>\n",
       "      <td>79.0</td>\n",
       "      <td>0.025126</td>\n",
       "    </tr>\n",
       "    <tr>\n",
       "      <th>5</th>\n",
       "      <td>239</td>\n",
       "      <td>95.0</td>\n",
       "      <td>82.0</td>\n",
       "      <td>62.0</td>\n",
       "      <td>0.027045</td>\n",
       "    </tr>\n",
       "    <tr>\n",
       "      <th>6</th>\n",
       "      <td>277</td>\n",
       "      <td>45.0</td>\n",
       "      <td>77.0</td>\n",
       "      <td>93.0</td>\n",
       "      <td>0.015058</td>\n",
       "    </tr>\n",
       "    <tr>\n",
       "      <th>7</th>\n",
       "      <td>315</td>\n",
       "      <td>95.0</td>\n",
       "      <td>92.0</td>\n",
       "      <td>75.0</td>\n",
       "      <td>0.303520</td>\n",
       "    </tr>\n",
       "    <tr>\n",
       "      <th>8</th>\n",
       "      <td>353</td>\n",
       "      <td>145.0</td>\n",
       "      <td>94.0</td>\n",
       "      <td>66.0</td>\n",
       "      <td>0.972973</td>\n",
       "    </tr>\n",
       "    <tr>\n",
       "      <th>9</th>\n",
       "      <td>391</td>\n",
       "      <td>145.0</td>\n",
       "      <td>97.0</td>\n",
       "      <td>35.0</td>\n",
       "      <td>0.974877</td>\n",
       "    </tr>\n",
       "    <tr>\n",
       "      <th>10</th>\n",
       "      <td>429</td>\n",
       "      <td>45.0</td>\n",
       "      <td>84.0</td>\n",
       "      <td>48.0</td>\n",
       "      <td>0.022536</td>\n",
       "    </tr>\n",
       "    <tr>\n",
       "      <th>11</th>\n",
       "      <td>466</td>\n",
       "      <td>45.0</td>\n",
       "      <td>85.0</td>\n",
       "      <td>70.0</td>\n",
       "      <td>0.014281</td>\n",
       "    </tr>\n",
       "    <tr>\n",
       "      <th>12</th>\n",
       "      <td>505</td>\n",
       "      <td>45.0</td>\n",
       "      <td>99.0</td>\n",
       "      <td>53.0</td>\n",
       "      <td>0.031316</td>\n",
       "    </tr>\n",
       "    <tr>\n",
       "      <th>13</th>\n",
       "      <td>543</td>\n",
       "      <td>145.0</td>\n",
       "      <td>79.0</td>\n",
       "      <td>88.0</td>\n",
       "      <td>0.207730</td>\n",
       "    </tr>\n",
       "    <tr>\n",
       "      <th>14</th>\n",
       "      <td>581</td>\n",
       "      <td>95.0</td>\n",
       "      <td>87.0</td>\n",
       "      <td>44.0</td>\n",
       "      <td>0.164975</td>\n",
       "    </tr>\n",
       "  </tbody>\n",
       "</table>\n",
       "</div>"
      ],
      "text/plain": [
       "    time   temp  sulf  analyte  yield product\n",
       "0     49   45.0  89.0     84.0       0.009903\n",
       "1     87   95.0  95.0     97.0       0.103900\n",
       "2    125   95.0  80.0     39.0       0.033182\n",
       "3    163  145.0  90.0     57.0       0.777693\n",
       "4    201  145.0  75.0     79.0       0.025126\n",
       "5    239   95.0  82.0     62.0       0.027045\n",
       "6    277   45.0  77.0     93.0       0.015058\n",
       "7    315   95.0  92.0     75.0       0.303520\n",
       "8    353  145.0  94.0     66.0       0.972973\n",
       "9    391  145.0  97.0     35.0       0.974877\n",
       "10   429   45.0  84.0     48.0       0.022536\n",
       "11   466   45.0  85.0     70.0       0.014281\n",
       "12   505   45.0  99.0     53.0       0.031316\n",
       "13   543  145.0  79.0     88.0       0.207730\n",
       "14   581   95.0  87.0     44.0       0.164975"
      ]
     },
     "execution_count": 26,
     "metadata": {},
     "output_type": "execute_result"
    }
   ],
   "source": [
    "avg_data = data_102119.groupby('time').mean().reset_index()[['time','temp','sulf','analyte','yield product']]\n",
    "avg_data"
   ]
  },
  {
   "cell_type": "code",
   "execution_count": 27,
   "metadata": {},
   "outputs": [
    {
     "data": {
      "text/html": [
       "<div>\n",
       "<style scoped>\n",
       "    .dataframe tbody tr th:only-of-type {\n",
       "        vertical-align: middle;\n",
       "    }\n",
       "\n",
       "    .dataframe tbody tr th {\n",
       "        vertical-align: top;\n",
       "    }\n",
       "\n",
       "    .dataframe thead th {\n",
       "        text-align: right;\n",
       "    }\n",
       "</style>\n",
       "<table border=\"1\" class=\"dataframe\">\n",
       "  <thead>\n",
       "    <tr style=\"text-align: right;\">\n",
       "      <th></th>\n",
       "      <th>time</th>\n",
       "      <th>temp</th>\n",
       "      <th>sulf</th>\n",
       "      <th>analyte</th>\n",
       "      <th>yield product</th>\n",
       "    </tr>\n",
       "  </thead>\n",
       "  <tbody>\n",
       "    <tr>\n",
       "      <th>0</th>\n",
       "      <td>49</td>\n",
       "      <td>0.0</td>\n",
       "      <td>0.0</td>\n",
       "      <td>0.0</td>\n",
       "      <td>0.002110</td>\n",
       "    </tr>\n",
       "    <tr>\n",
       "      <th>1</th>\n",
       "      <td>87</td>\n",
       "      <td>0.0</td>\n",
       "      <td>0.0</td>\n",
       "      <td>0.0</td>\n",
       "      <td>0.007884</td>\n",
       "    </tr>\n",
       "    <tr>\n",
       "      <th>2</th>\n",
       "      <td>125</td>\n",
       "      <td>0.0</td>\n",
       "      <td>0.0</td>\n",
       "      <td>0.0</td>\n",
       "      <td>0.011663</td>\n",
       "    </tr>\n",
       "    <tr>\n",
       "      <th>3</th>\n",
       "      <td>163</td>\n",
       "      <td>0.0</td>\n",
       "      <td>0.0</td>\n",
       "      <td>0.0</td>\n",
       "      <td>0.142828</td>\n",
       "    </tr>\n",
       "    <tr>\n",
       "      <th>4</th>\n",
       "      <td>201</td>\n",
       "      <td>0.0</td>\n",
       "      <td>0.0</td>\n",
       "      <td>0.0</td>\n",
       "      <td>0.008250</td>\n",
       "    </tr>\n",
       "    <tr>\n",
       "      <th>5</th>\n",
       "      <td>239</td>\n",
       "      <td>0.0</td>\n",
       "      <td>0.0</td>\n",
       "      <td>0.0</td>\n",
       "      <td>0.010353</td>\n",
       "    </tr>\n",
       "    <tr>\n",
       "      <th>6</th>\n",
       "      <td>277</td>\n",
       "      <td>0.0</td>\n",
       "      <td>0.0</td>\n",
       "      <td>0.0</td>\n",
       "      <td>0.005608</td>\n",
       "    </tr>\n",
       "    <tr>\n",
       "      <th>7</th>\n",
       "      <td>315</td>\n",
       "      <td>0.0</td>\n",
       "      <td>0.0</td>\n",
       "      <td>0.0</td>\n",
       "      <td>0.025185</td>\n",
       "    </tr>\n",
       "    <tr>\n",
       "      <th>8</th>\n",
       "      <td>353</td>\n",
       "      <td>0.0</td>\n",
       "      <td>0.0</td>\n",
       "      <td>0.0</td>\n",
       "      <td>0.001016</td>\n",
       "    </tr>\n",
       "    <tr>\n",
       "      <th>9</th>\n",
       "      <td>391</td>\n",
       "      <td>0.0</td>\n",
       "      <td>0.0</td>\n",
       "      <td>0.0</td>\n",
       "      <td>0.000763</td>\n",
       "    </tr>\n",
       "    <tr>\n",
       "      <th>10</th>\n",
       "      <td>429</td>\n",
       "      <td>0.0</td>\n",
       "      <td>0.0</td>\n",
       "      <td>0.0</td>\n",
       "      <td>0.010566</td>\n",
       "    </tr>\n",
       "    <tr>\n",
       "      <th>11</th>\n",
       "      <td>466</td>\n",
       "      <td>0.0</td>\n",
       "      <td>0.0</td>\n",
       "      <td>0.0</td>\n",
       "      <td>0.007390</td>\n",
       "    </tr>\n",
       "    <tr>\n",
       "      <th>12</th>\n",
       "      <td>505</td>\n",
       "      <td>0.0</td>\n",
       "      <td>0.0</td>\n",
       "      <td>0.0</td>\n",
       "      <td>0.010028</td>\n",
       "    </tr>\n",
       "    <tr>\n",
       "      <th>13</th>\n",
       "      <td>543</td>\n",
       "      <td>0.0</td>\n",
       "      <td>0.0</td>\n",
       "      <td>0.0</td>\n",
       "      <td>0.102047</td>\n",
       "    </tr>\n",
       "    <tr>\n",
       "      <th>14</th>\n",
       "      <td>581</td>\n",
       "      <td>0.0</td>\n",
       "      <td>0.0</td>\n",
       "      <td>0.0</td>\n",
       "      <td>0.020561</td>\n",
       "    </tr>\n",
       "  </tbody>\n",
       "</table>\n",
       "</div>"
      ],
      "text/plain": [
       "    time  temp  sulf  analyte  yield product\n",
       "0     49   0.0   0.0      0.0       0.002110\n",
       "1     87   0.0   0.0      0.0       0.007884\n",
       "2    125   0.0   0.0      0.0       0.011663\n",
       "3    163   0.0   0.0      0.0       0.142828\n",
       "4    201   0.0   0.0      0.0       0.008250\n",
       "5    239   0.0   0.0      0.0       0.010353\n",
       "6    277   0.0   0.0      0.0       0.005608\n",
       "7    315   0.0   0.0      0.0       0.025185\n",
       "8    353   0.0   0.0      0.0       0.001016\n",
       "9    391   0.0   0.0      0.0       0.000763\n",
       "10   429   0.0   0.0      0.0       0.010566\n",
       "11   466   0.0   0.0      0.0       0.007390\n",
       "12   505   0.0   0.0      0.0       0.010028\n",
       "13   543   0.0   0.0      0.0       0.102047\n",
       "14   581   0.0   0.0      0.0       0.020561"
      ]
     },
     "execution_count": 27,
     "metadata": {},
     "output_type": "execute_result"
    }
   ],
   "source": [
    "std_data = data_102119.groupby('time').std().reset_index()[['time','temp','sulf','analyte','yield product']]\n",
    "std_data"
   ]
  },
  {
   "cell_type": "markdown",
   "metadata": {},
   "source": [
    "# Split the data"
   ]
  },
  {
   "cell_type": "code",
   "execution_count": 28,
   "metadata": {},
   "outputs": [],
   "source": [
    "x1 = torch.tensor([avg_data['time'],avg_data['temp'],avg_data['sulf'],avg_data['analyte']],dtype=torch.float32).T#[:48]\n",
    "y1 = torch.tensor(avg_data['yield product'],dtype=torch.float32).reshape(-1,1)\n",
    "\n",
    "x2 = torch.tensor([avg_data['temp']],dtype=torch.float32).T#[:48]\n",
    "y2 = torch.tensor(avg_data['yield product'],dtype=torch.float32).reshape(-1,1)\n"
   ]
  },
  {
   "cell_type": "markdown",
   "metadata": {},
   "source": [
    "# BO 1D"
   ]
  },
  {
   "cell_type": "code",
   "execution_count": 29,
   "metadata": {},
   "outputs": [
    {
     "data": {
      "text/plain": [
       "(array([[ 45.],\n",
       "        [ 95.],\n",
       "        [145.]]),\n",
       " array([[0.03131562],\n",
       "        [0.30351997],\n",
       "        [0.97487653]]))"
      ]
     },
     "execution_count": 29,
     "metadata": {},
     "output_type": "execute_result"
    }
   ],
   "source": [
    "temp_df = avg_data[['temp','yield product']]\n",
    "#temp_df.sort_values('temp')\n",
    "\n",
    "x2_sort = np.array([temp_df[temp_df['temp'] == 45]['temp'].to_numpy().T.max(),\n",
    "          temp_df[temp_df['temp'] == 95]['temp'].to_numpy().T.max(),\n",
    "          temp_df[temp_df['temp'] == 145]['temp'].to_numpy().T.max()]).reshape(-1,1)\n",
    "y2_sort = np.array([temp_df[temp_df['temp'] == 45]['yield product'].to_numpy().T.max(),\n",
    "          temp_df[temp_df['temp'] == 95]['yield product'].to_numpy().T.max(),\n",
    "          temp_df[temp_df['temp'] == 145]['yield product'].to_numpy().T.max()]).reshape(-1,1)\n",
    "x2_sort,y2_sort"
   ]
  },
  {
   "cell_type": "code",
   "execution_count": 30,
   "metadata": {},
   "outputs": [],
   "source": [
    "# bounds = torch.tensor([[30., 20., 75. , 33.], [600., 170., 100.,100.]], dtype=dtype, device=device)\n",
    "# batch_size = 15\n",
    "\n",
    "bounds = torch.tensor([[avg_data['temp'].min()], [avg_data['temp'].max()]], dtype=dtype, device=device)\n",
    "#[75.0, 100.0], [33.0, 100.0],[20.0,170.0],[30.0,600.0]\n",
    "batch_size = 3 #train_size\n",
    "\n",
    "# For EI \n",
    "best_f = torch.tensor(1 ,dtype=dtype) \n",
    "target_vector = torch.tensor([1],dtype=dtype) # target is 95% or highers\n"
   ]
  },
  {
   "cell_type": "code",
   "execution_count": 31,
   "metadata": {},
   "outputs": [
    {
     "data": {
      "text/plain": [
       "ExactMarginalLogLikelihood(\n",
       "  (likelihood): GaussianLikelihood(\n",
       "    (noise_covar): HomoskedasticNoise(\n",
       "      (noise_prior): GammaPrior()\n",
       "      (raw_noise_constraint): GreaterThan(1.000E-04)\n",
       "    )\n",
       "  )\n",
       "  (model): SingleTaskGP(\n",
       "    (likelihood): GaussianLikelihood(\n",
       "      (noise_covar): HomoskedasticNoise(\n",
       "        (noise_prior): GammaPrior()\n",
       "        (raw_noise_constraint): GreaterThan(1.000E-04)\n",
       "      )\n",
       "    )\n",
       "    (mean_module): ConstantMean()\n",
       "    (covar_module): ScaleKernel(\n",
       "      (base_kernel): MaternKernel(\n",
       "        (lengthscale_prior): GammaPrior()\n",
       "        (raw_lengthscale_constraint): Positive()\n",
       "      )\n",
       "      (outputscale_prior): GammaPrior()\n",
       "      (raw_outputscale_constraint): Positive()\n",
       "    )\n",
       "  )\n",
       ")"
      ]
     },
     "execution_count": 31,
     "metadata": {},
     "output_type": "execute_result"
    }
   ],
   "source": [
    "# train_x = torch.tensor(x2, dtype=dtype).to(device=device, dtype=dtype)\n",
    "# train_y = torch.tensor(y2, dtype=dtype)\n",
    "train_x = torch.tensor(x2_sort, dtype=dtype).to(device=device, dtype=dtype)\n",
    "train_y = torch.tensor(y2_sort, dtype=dtype)\n",
    "\n",
    "## Create the surrogate model\n",
    "gp_model = SingleTaskGP(train_x, train_y).to(device=device, dtype=dtype)\n",
    "mll = ExactMarginalLogLikelihood(gp_model.likelihood, gp_model)\n",
    "fit_gpytorch_model(mll)"
   ]
  },
  {
   "cell_type": "code",
   "execution_count": 32,
   "metadata": {},
   "outputs": [
    {
     "name": "stdout",
     "output_type": "stream",
     "text": [
      "Centroids of Temperature Clusters:\n",
      "tensor([[ 62., 142., 102.]])\n"
     ]
    }
   ],
   "source": [
    "acq_funcs = qExpectedImprovement(model=gp_model, best_f=best_f)\n",
    "\n",
    "candidate2, _ = optimize_acqf(\n",
    "    acq_function=acq_funcs,\n",
    "    bounds=bounds,\n",
    "    q=batch_size,\n",
    "    num_restarts=5,\n",
    "    raw_samples=100,\n",
    "    options={\"dtype\": dtype, \"device\": device}\n",
    ")\n",
    "\n",
    "\n",
    "print(\"Centroids of Temperature Clusters:\")\n",
    "print(candidate2.round().T)\n"
   ]
  },
  {
   "cell_type": "code",
   "execution_count": 33,
   "metadata": {},
   "outputs": [
    {
     "data": {
      "text/plain": [
       "<matplotlib.collections.LineCollection at 0x16aa4d8b0>"
      ]
     },
     "execution_count": 33,
     "metadata": {},
     "output_type": "execute_result"
    },
    {
     "data": {
      "image/png": "[encoded data removed]",
      "text/plain": [
       "<Figure size 640x480 with 1 Axes>"
      ]
     },
     "metadata": {},
     "output_type": "display_data"
    }
   ],
   "source": [
    "old = [45,95,145]\n",
    "plt.vlines(candidate2,0,600, color = 'k',linestyle='dashed',alpha=0.9)\n",
    "plt.vlines(old,0,600, color = 'tab:grey',linestyle='dashed',alpha=0.5)"
   ]
  },
  {
   "cell_type": "markdown",
   "metadata": {},
   "source": [
    "# BO 4D"
   ]
  },
  {
   "cell_type": "code",
   "execution_count": 34,
   "metadata": {},
   "outputs": [],
   "source": [
    "#bounds = torch.tensor([[30., 20., 75. , 33.], [600., 170., 100.,100.]], dtype=dtype, device=device)\n",
    "bounds = torch.tensor([[avg_data['time'].min(),avg_data['temp'].min(),avg_data['sulf'].min() , avg_data['analyte'].min()], [avg_data['time'].max(), avg_data['temp'].max(), avg_data['sulf'].max() , avg_data['analyte'].max()]], dtype=dtype, device=device)\n",
    "#[75.0, 100.0], [33.0, 100.0],[20.0,170.0],[30.0,600.0]\n",
    "batch_size = 15 #train_size\n",
    "\n",
    "# For EI \n",
    "best_f = torch.tensor(1 ,dtype=dtype) \n",
    "target_vector = torch.tensor([1],dtype=dtype) # target is 95% or highers"
   ]
  },
  {
   "cell_type": "code",
   "execution_count": 35,
   "metadata": {},
   "outputs": [
    {
     "data": {
      "text/plain": [
       "ExactMarginalLogLikelihood(\n",
       "  (likelihood): GaussianLikelihood(\n",
       "    (noise_covar): HomoskedasticNoise(\n",
       "      (noise_prior): GammaPrior()\n",
       "      (raw_noise_constraint): GreaterThan(1.000E-04)\n",
       "    )\n",
       "  )\n",
       "  (model): SingleTaskGP(\n",
       "    (likelihood): GaussianLikelihood(\n",
       "      (noise_covar): HomoskedasticNoise(\n",
       "        (noise_prior): GammaPrior()\n",
       "        (raw_noise_constraint): GreaterThan(1.000E-04)\n",
       "      )\n",
       "    )\n",
       "    (mean_module): ConstantMean()\n",
       "    (covar_module): ScaleKernel(\n",
       "      (base_kernel): MaternKernel(\n",
       "        (lengthscale_prior): GammaPrior()\n",
       "        (raw_lengthscale_constraint): Positive()\n",
       "      )\n",
       "      (outputscale_prior): GammaPrior()\n",
       "      (raw_outputscale_constraint): Positive()\n",
       "    )\n",
       "  )\n",
       ")"
      ]
     },
     "execution_count": 35,
     "metadata": {},
     "output_type": "execute_result"
    }
   ],
   "source": [
    "train_x = torch.tensor(x1, dtype=dtype).to(device=device, dtype=dtype)\n",
    "train_y = torch.tensor(y1, dtype=dtype)\n",
    "\n",
    "## Create the surrogate model\n",
    "gp_model = SingleTaskGP(train_x, train_y).to(device=device, dtype=dtype)\n",
    "mll = ExactMarginalLogLikelihood(gp_model.likelihood, gp_model)\n",
    "fit_gpytorch_model(mll)"
   ]
  },
  {
   "cell_type": "code",
   "execution_count": 36,
   "metadata": {},
   "outputs": [
    {
     "data": {
      "text/plain": [
       "tensor([[ 97.7985,  93.1047,  78.1917,  66.2673],\n",
       "        [341.1681, 116.9721,  98.6707,  94.0427],\n",
       "        [559.3912, 136.0244,  81.8338,  36.4096],\n",
       "        [268.5884,  70.2687,  95.7409,  92.1257],\n",
       "        [186.3865, 125.1841,  78.1358,  43.3915],\n",
       "        [574.7304,  84.1306,  96.1153,  62.4635],\n",
       "        [268.3933, 142.3065,  84.8563,  75.7860],\n",
       "        [550.9747,  50.0951,  78.0731,  70.0609],\n",
       "        [231.7217, 111.5043,  81.2015,  41.4828],\n",
       "        [260.2256,  70.6576,  94.0992,  63.0731],\n",
       "        [324.7849, 123.1108,  91.6125,  95.5912],\n",
       "        [545.2702, 100.1239,  86.0623,  59.3638],\n",
       "        [270.4031, 142.8701,  75.3613,  91.9941],\n",
       "        [198.9571, 123.2432,  97.3834,  74.4764],\n",
       "        [540.2711,  53.6586,  76.1410,  48.9595]])"
      ]
     },
     "execution_count": 36,
     "metadata": {},
     "output_type": "execute_result"
    }
   ],
   "source": [
    "acq_funcs = qExpectedImprovement(model=gp_model, best_f=best_f)\n",
    "\n",
    "candidate1, _ = optimize_acqf(\n",
    "    acq_function=acq_funcs,\n",
    "    bounds=bounds,\n",
    "    q=batch_size,\n",
    "    num_restarts=15,\n",
    "    raw_samples=100,\n",
    "    options={\"dtype\": dtype, \"device\": device}\n",
    ")\n",
    "\n",
    "candidate1"
   ]
  },
  {
   "cell_type": "code",
   "execution_count": 37,
   "metadata": {},
   "outputs": [
    {
     "data": {
      "text/plain": [
       "<matplotlib.collections.PathCollection at 0x16a9d7790>"
      ]
     },
     "execution_count": 37,
     "metadata": {},
     "output_type": "execute_result"
    },
    {
     "data": {
      "image/png": "[encoded data removed]",
      "text/plain": [
       "<Figure size 640x480 with 1 Axes>"
      ]
     },
     "metadata": {},
     "output_type": "display_data"
    }
   ],
   "source": [
    "old = [45,95,145]\n",
    "plt.vlines(candidate2,0,600, color = 'k',linestyle='dashed',alpha=0.9)\n",
    "plt.vlines(old,0,600, color = 'tab:grey',linestyle='dashed',alpha=0.5)\n",
    "\n",
    "plt.scatter(candidate1[:,1],candidate1[:,0])\n"
   ]
  },
  {
   "cell_type": "markdown",
   "metadata": {},
   "source": [
    "# Projection ? (Cluster?)"
   ]
  },
  {
   "cell_type": "code",
   "execution_count": 38,
   "metadata": {},
   "outputs": [],
   "source": [
    "temp4D = []\n",
    "\n",
    "for i in range(candidate1.shape[0]):\n",
    "    id = abs(candidate1[i,1]-candidate2).argmin()\n",
    "    temp4D.append(candidate2[id])\n",
    "temp4D =np.array(temp4D).T"
   ]
  },
  {
   "cell_type": "code",
   "execution_count": 39,
   "metadata": {},
   "outputs": [
    {
     "data": {
      "text/plain": [
       "<matplotlib.collections.PathCollection at 0x16a8468e0>"
      ]
     },
     "execution_count": 39,
     "metadata": {},
     "output_type": "execute_result"
    },
    {
     "data": {
      "image/png": "[encoded data removed]",
      "text/plain": [
       "<Figure size 640x480 with 1 Axes>"
      ]
     },
     "metadata": {},
     "output_type": "display_data"
    }
   ],
   "source": [
    "old = [45,95,145]\n",
    "plt.vlines(candidate2,0,600, color = 'k',linestyle='dashed',alpha=0.9)\n",
    "plt.vlines(old,0,600, color = 'tab:grey',linestyle='dashed',alpha=0.5)\n",
    "plt.scatter(candidate1[:,1],candidate1[:,0],c=temp4D, cmap='viridis')"
   ]
  },
  {
   "cell_type": "code",
   "execution_count": 40,
   "metadata": {},
   "outputs": [
    {
     "data": {
      "text/plain": [
       "<matplotlib.collections.PathCollection at 0x16ba7abe0>"
      ]
     },
     "execution_count": 40,
     "metadata": {},
     "output_type": "execute_result"
    },
    {
     "data": {
      "image/png": "[encoded data removed]",
      "text/plain": [
       "<Figure size 640x480 with 1 Axes>"
      ]
     },
     "metadata": {},
     "output_type": "display_data"
    }
   ],
   "source": [
    "old = [45,95,145]\n",
    "plt.vlines(candidate2,0,600, color = 'k',linestyle='dashed',alpha=0.5)\n",
    "plt.vlines(old,0,600, color = 'tab:grey',linestyle='dashed',alpha=0.5)\n",
    "plt.scatter(temp4D,candidate1[:,0],c=temp4D, cmap='viridis')"
   ]
  },
  {
   "cell_type": "code",
   "execution_count": 41,
   "metadata": {},
   "outputs": [
    {
     "data": {
      "text/plain": [
       "array([[ 61.],\n",
       "       [130.],\n",
       "       [ 97.]])"
      ]
     },
     "execution_count": 41,
     "metadata": {},
     "output_type": "execute_result"
    }
   ],
   "source": [
    "from sklearn.cluster import KMeans\n",
    "from sklearn.preprocessing import StandardScaler\n",
    "\n",
    "# scaler = StandardScaler()\n",
    "# data_scaled = scaler.fit_transform(dot_prd)\n",
    "\n",
    "num_clusters = 3\n",
    "kmeans = KMeans(n_clusters=num_clusters, random_state=42)\n",
    "kmeans.fit(candidate1[:,1].reshape(-1,1))\n",
    "centroids = kmeans.cluster_centers_\n",
    "centroids.round()"
   ]
  },
  {
   "cell_type": "code",
   "execution_count": null,
   "metadata": {},
   "outputs": [],
   "source": []
  }
 ],
 "metadata": {
  "kernelspec": {
   "display_name": "Python 3",
   "language": "python",
   "name": "python3"
  },
  "language_info": {
   "codemirror_mode": {
    "name": "ipython",
    "version": 3
   },
   "file_extension": ".py",
   "mimetype": "text/x-python",
   "name": "python",
   "nbconvert_exporter": "python",
   "pygments_lexer": "ipython3",
   "version": "3.9.6"
  }
 },
 "nbformat": 4,
 "nbformat_minor": 2
}
